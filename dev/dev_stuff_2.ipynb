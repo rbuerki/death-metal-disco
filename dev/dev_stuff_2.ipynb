{
 "cells": [
  {
   "cell_type": "code",
   "execution_count": 36,
   "metadata": {
    "ExecuteTime": {
     "end_time": "2021-01-09T20:43:25.521080Z",
     "start_time": "2021-01-09T20:43:25.366084Z"
    }
   },
   "outputs": [],
   "source": [
    "import configparser\n",
    "import datetime as dt\n",
    "import sys\n",
    "import collections\n",
    "from pathlib import Path\n",
    "from typing import Union, Optional, List, Tuple\n",
    "\n",
    "import codebook.EDA as EDA\n",
    "import codebook.clean as clean\n",
    "import numpy as np\n",
    "import pandas as pd\n",
    "import matplotlib.pyplot as plt\n",
    "import seaborn as sns\n",
    "import sqlalchemy\n",
    "from sqlalchemy import func, distinct"
   ]
  },
  {
   "cell_type": "code",
   "execution_count": 2,
   "metadata": {
    "ExecuteTime": {
     "end_time": "2021-01-09T19:46:08.628204Z",
     "start_time": "2021-01-09T19:46:08.497105Z"
    }
   },
   "outputs": [],
   "source": [
    "%load_ext autoreload\n",
    "%autoreload 2\n",
    "\n",
    "%matplotlib inline\n",
    "plt.style.use('raph-base')\n",
    "\n",
    "from IPython.core.interactiveshell import InteractiveShell\n",
    "InteractiveShell.ast_node_interactivity = 'all'\n",
    "\n",
    "pd.options.display.float_format = '{:,.2f}'.format\n",
    "pd.set_option('display.max_columns', 30)\n",
    "pd.set_option('display.expand_frame_repr', False)\n",
    "pd.set_option('max_colwidth', 800)\n",
    "\n",
    "np.random.seed(666)"
   ]
  },
  {
   "cell_type": "code",
   "execution_count": 3,
   "metadata": {
    "ExecuteTime": {
     "end_time": "2021-01-09T19:46:08.816203Z",
     "start_time": "2021-01-09T19:46:08.631104Z"
    }
   },
   "outputs": [],
   "source": [
    "sys.path.append(str(Path.cwd().parent))\n",
    "\n",
    "from src.db_declaration import Base, Artist, CreditTrx, Genre, Label, Record\n",
    "from src import db_functions\n",
    "from src import utils"
   ]
  },
  {
   "cell_type": "code",
   "execution_count": 4,
   "metadata": {
    "ExecuteTime": {
     "end_time": "2021-01-09T19:46:08.942107Z",
     "start_time": "2021-01-09T19:46:08.822114Z"
    }
   },
   "outputs": [
    {
     "name": "stdout",
     "output_type": "stream",
     "text": [
      "C:\\Users\\r2d4\\miniconda3\\envs\\py3\\python.exe\n",
      "3.8.3 (default, May 19 2020, 06:50:17) [MSC v.1916 64 bit (AMD64)]\n",
      "sqlalchemy 1.3.17\n"
     ]
    }
   ],
   "source": [
    "print(sys.executable)\n",
    "print(sys.version)\n",
    "print(f'sqlalchemy {sqlalchemy.__version__}')"
   ]
  },
  {
   "cell_type": "markdown",
   "metadata": {
    "ExecuteTime": {
     "end_time": "2020-12-23T06:08:49.546499Z",
     "start_time": "2020-12-23T06:08:49.412497Z"
    }
   },
   "source": [
    "## Connect To And (Re-)Create DB"
   ]
  },
  {
   "cell_type": "code",
   "execution_count": 5,
   "metadata": {
    "ExecuteTime": {
     "end_time": "2021-01-09T19:46:09.062199Z",
     "start_time": "2021-01-09T19:46:08.945105Z"
    }
   },
   "outputs": [],
   "source": [
    "CONFIG_PATH = Path.cwd().parent / \"config.cfg\""
   ]
  },
  {
   "cell_type": "code",
   "execution_count": 6,
   "metadata": {
    "ExecuteTime": {
     "end_time": "2021-01-09T19:46:09.358103Z",
     "start_time": "2021-01-09T19:46:09.064103Z"
    }
   },
   "outputs": [
    {
     "name": "stdout",
     "output_type": "stream",
     "text": [
      "C:\\Users\\r2d4\\OneDrive\\code\\projects\\20-02_disco\\dev\\DeafDiscoBase.db\n"
     ]
    }
   ],
   "source": [
    "path_to_db = utils.read_config_return_str(CONFIG_PATH, \"SQLITE_DEV\")\n",
    "engine = utils.create_engine(path_to_db)\n",
    "session = utils.create_session(engine)\n",
    "utils.create_DB_anew(engine, Base)"
   ]
  },
  {
   "cell_type": "code",
   "execution_count": 7,
   "metadata": {
    "ExecuteTime": {
     "end_time": "2021-01-09T19:46:09.643103Z",
     "start_time": "2021-01-09T19:46:09.361104Z"
    }
   },
   "outputs": [],
   "source": [
    "def load_some_albums_from_xlsx(\n",
    "    filepath: Union[Path, str],\n",
    "    n: int=3,\n",
    "    random_state: int=5,\n",
    ") -> pd.DataFrame:\n",
    "    \"\"\"Load the original album collection file into a dataframe.\n",
    "    You can specify a list of genres you want to include\n",
    "    (defaults to None).\n",
    "    \"\"\"\n",
    "    df = pd.read_excel(filepath, engine=\"openpyxl\")\n",
    "    return df.sample(n=n, random_state=random_state)\n",
    "\n",
    "\n",
    "def clean_collection(collection_df):\n",
    "    collection_df = clean.prettify_column_names(collection_df)\n",
    "    collection_df.dropna(thresh=8, inplace=True)\n",
    "    collection_df.rename(columns={\"format\": \"record_format\"}, inplace=True)\n",
    "    collection_df[\"label\"].fillna(\"NA\", inplace=True)  # because it creates a foreign key\n",
    "    collection_df[\"vinyl_color\"] = np.nan  # just for aesthetics ...\n",
    "    collection_df[\"artist_country\"] = None\n",
    "    collection_df[\"credit_value\"] = 0\n",
    "    collection_df[\"trx_type\"] = \"Initial Load\"\n",
    "    return collection_df"
   ]
  },
  {
   "cell_type": "code",
   "execution_count": 8,
   "metadata": {
    "ExecuteTime": {
     "end_time": "2021-01-09T19:46:10.521611Z",
     "start_time": "2021-01-09T19:46:09.649104Z"
    }
   },
   "outputs": [],
   "source": [
    "path_to_collection = utils.read_config_return_str(CONFIG_PATH, \"COLLECTION\")\n",
    "collection_df = load_some_albums_from_xlsx(path_to_collection)\n",
    "collection_df = clean_collection(collection_df)"
   ]
  },
  {
   "cell_type": "code",
   "execution_count": 9,
   "metadata": {
    "ExecuteTime": {
     "end_time": "2021-01-09T19:46:10.727644Z",
     "start_time": "2021-01-09T19:46:10.525614Z"
    }
   },
   "outputs": [
    {
     "data": {
      "text/html": [
       "<div>\n",
       "<style scoped>\n",
       "    .dataframe tbody tr th:only-of-type {\n",
       "        vertical-align: middle;\n",
       "    }\n",
       "\n",
       "    .dataframe tbody tr th {\n",
       "        vertical-align: top;\n",
       "    }\n",
       "\n",
       "    .dataframe thead th {\n",
       "        text-align: right;\n",
       "    }\n",
       "</style>\n",
       "<table border=\"1\" class=\"dataframe\">\n",
       "  <thead>\n",
       "    <tr style=\"text-align: right;\">\n",
       "      <th></th>\n",
       "      <th>active</th>\n",
       "      <th>artist</th>\n",
       "      <th>title</th>\n",
       "      <th>record_format</th>\n",
       "      <th>year</th>\n",
       "      <th>genre</th>\n",
       "      <th>price</th>\n",
       "      <th>purchase_date</th>\n",
       "      <th>vinyl_color</th>\n",
       "      <th>lim_edition</th>\n",
       "      <th>number</th>\n",
       "      <th>label</th>\n",
       "      <th>digitized</th>\n",
       "      <th>remarks</th>\n",
       "      <th>rating</th>\n",
       "      <th>artist_country</th>\n",
       "      <th>credit_value</th>\n",
       "      <th>trx_type</th>\n",
       "    </tr>\n",
       "  </thead>\n",
       "  <tbody>\n",
       "    <tr>\n",
       "      <th>28</th>\n",
       "      <td>1.00</td>\n",
       "      <td>Emperor</td>\n",
       "      <td>s/t</td>\n",
       "      <td>MLP</td>\n",
       "      <td>1,993.00</td>\n",
       "      <td>Black Metal</td>\n",
       "      <td>190.00</td>\n",
       "      <td>2014-08-01</td>\n",
       "      <td>nan</td>\n",
       "      <td>NaN</td>\n",
       "      <td>NaN</td>\n",
       "      <td>NA</td>\n",
       "      <td>False</td>\n",
       "      <td>NaN</td>\n",
       "      <td>nan</td>\n",
       "      <td>None</td>\n",
       "      <td>0</td>\n",
       "      <td>Initial Load</td>\n",
       "    </tr>\n",
       "    <tr>\n",
       "      <th>244</th>\n",
       "      <td>1.00</td>\n",
       "      <td>Gatecreeper</td>\n",
       "      <td>Deserted</td>\n",
       "      <td>LP</td>\n",
       "      <td>2,019.00</td>\n",
       "      <td>Death Metal</td>\n",
       "      <td>70.00</td>\n",
       "      <td>2020-01-01</td>\n",
       "      <td>nan</td>\n",
       "      <td>100</td>\n",
       "      <td>NaN</td>\n",
       "      <td>Relapse Records</td>\n",
       "      <td>True</td>\n",
       "      <td>NaN</td>\n",
       "      <td>8.00</td>\n",
       "      <td>None</td>\n",
       "      <td>0</td>\n",
       "      <td>Initial Load</td>\n",
       "    </tr>\n",
       "    <tr>\n",
       "      <th>123</th>\n",
       "      <td>1.00</td>\n",
       "      <td>Agnosy</td>\n",
       "      <td>Traits of The Past</td>\n",
       "      <td>LP</td>\n",
       "      <td>2,014.00</td>\n",
       "      <td>Crust</td>\n",
       "      <td>15.00</td>\n",
       "      <td>2017-08-01</td>\n",
       "      <td>nan</td>\n",
       "      <td>NaN</td>\n",
       "      <td>NaN</td>\n",
       "      <td>NA</td>\n",
       "      <td>True</td>\n",
       "      <td>NaN</td>\n",
       "      <td>nan</td>\n",
       "      <td>None</td>\n",
       "      <td>0</td>\n",
       "      <td>Initial Load</td>\n",
       "    </tr>\n",
       "  </tbody>\n",
       "</table>\n",
       "</div>"
      ],
      "text/plain": [
       "     active       artist               title record_format     year        genre  price purchase_date  vinyl_color lim_edition number            label digitized remarks  rating artist_country  credit_value      trx_type\n",
       "28     1.00      Emperor                 s/t           MLP 1,993.00  Black Metal 190.00    2014-08-01          nan         NaN    NaN               NA     False     NaN     nan           None             0  Initial Load\n",
       "244    1.00  Gatecreeper            Deserted            LP 2,019.00  Death Metal  70.00    2020-01-01          nan         100    NaN  Relapse Records      True     NaN    8.00           None             0  Initial Load\n",
       "123    1.00       Agnosy  Traits of The Past            LP 2,014.00        Crust  15.00    2017-08-01          nan         NaN    NaN               NA      True     NaN     nan           None             0  Initial Load"
      ]
     },
     "execution_count": 9,
     "metadata": {},
     "output_type": "execute_result"
    }
   ],
   "source": [
    "collection_df"
   ]
  },
  {
   "cell_type": "code",
   "execution_count": 10,
   "metadata": {
    "ExecuteTime": {
     "end_time": "2021-01-09T19:46:10.912647Z",
     "start_time": "2021-01-09T19:46:10.730644Z"
    }
   },
   "outputs": [],
   "source": [
    "# Create an additional test_record"
   ]
  },
  {
   "cell_type": "code",
   "execution_count": 11,
   "metadata": {
    "ExecuteTime": {
     "end_time": "2021-01-09T19:46:11.199646Z",
     "start_time": "2021-01-09T19:46:10.915645Z"
    }
   },
   "outputs": [
    {
     "data": {
      "text/plain": [
       "{'active': 1.0,\n",
       " 'artist': 'Witch Vomit',\n",
       " 'title': 'Poisoned Blood',\n",
       " 'record_format': 'MLP',\n",
       " 'year': 2017.0,\n",
       " 'genre': 'Death Metal',\n",
       " 'price': 15.0,\n",
       " 'purchase_date': Timestamp('2020-06-01 00:00:00'),\n",
       " 'vinyl_color': nan,\n",
       " 'lim_edition': nan,\n",
       " 'number': nan,\n",
       " 'label': '20 Buck Spin',\n",
       " 'digitized': True,\n",
       " 'remarks': nan,\n",
       " 'rating': 8.0,\n",
       " 'artist_country': None,\n",
       " 'credit_value': 1,\n",
       " 'trx_type': 'Purchase'}"
      ]
     },
     "execution_count": 11,
     "metadata": {},
     "output_type": "execute_result"
    }
   ],
   "source": [
    "test_record = load_some_albums_from_xlsx(path_to_collection, 1, 1)\n",
    "test_record = clean_collection(test_record)\n",
    "test_record = test_record.to_dict(orient=\"records\")[0]\n",
    "test_record[\"trx_type\"] = \"Purchase\"\n",
    "test_record[\"credit_value\"] = 1\n",
    "test_record"
   ]
  },
  {
   "cell_type": "markdown",
   "metadata": {
    "ExecuteTime": {
     "end_time": "2020-12-23T21:50:04.810370Z",
     "start_time": "2020-12-23T21:50:04.664351Z"
    }
   },
   "source": [
    "### Initial Load of 3 Records"
   ]
  },
  {
   "cell_type": "code",
   "execution_count": 12,
   "metadata": {
    "ExecuteTime": {
     "end_time": "2021-01-09T19:46:11.353644Z",
     "start_time": "2021-01-09T19:46:11.202643Z"
    }
   },
   "outputs": [],
   "source": [
    "def insert_df_with_sqlalchemy_orm(session, df):\n",
    "    for x in df.to_dict(\"records\"):\n",
    "        db_functions.add_new_record(session, x)"
   ]
  },
  {
   "cell_type": "code",
   "execution_count": 13,
   "metadata": {
    "ExecuteTime": {
     "end_time": "2021-01-09T19:46:11.687645Z",
     "start_time": "2021-01-09T19:46:11.355644Z"
    }
   },
   "outputs": [
    {
     "name": "stderr",
     "output_type": "stream",
     "text": [
      "C:\\Users\\r2d4\\miniconda3\\envs\\py3\\lib\\site-packages\\sqlalchemy\\sql\\sqltypes.py:660: SAWarning: Dialect sqlite+pysqlite does *not* support Decimal objects natively, and SQLAlchemy must convert from floating point - rounding errors and other issues may occur. Please consider storing Decimal numbers as strings or integers on this platform for lossless storage.\n",
      "  util.warn(\n"
     ]
    }
   ],
   "source": [
    "insert_df_with_sqlalchemy_orm(session, collection_df)\n",
    "\n",
    "assert session.query(Record).count() == 3"
   ]
  },
  {
   "cell_type": "markdown",
   "metadata": {},
   "source": [
    "### Insertion of 2 Credit Addition Trx"
   ]
  },
  {
   "cell_type": "code",
   "execution_count": 14,
   "metadata": {
    "ExecuteTime": {
     "end_time": "2021-01-09T19:46:12.546175Z",
     "start_time": "2021-01-09T19:46:11.691642Z"
    }
   },
   "outputs": [
    {
     "ename": "NoResultFound",
     "evalue": "No row was found for one()",
     "output_type": "error",
     "traceback": [
      "\u001b[1;31m---------------------------------------------------------------------------\u001b[0m",
      "\u001b[1;31mNoResultFound\u001b[0m                             Traceback (most recent call last)",
      "\u001b[1;32m<ipython-input-14-69b625a9b095>\u001b[0m in \u001b[0;36m<module>\u001b[1;34m\u001b[0m\n\u001b[1;32m----> 1\u001b[1;33m \u001b[0mto_delete\u001b[0m \u001b[1;33m=\u001b[0m \u001b[0msession\u001b[0m\u001b[1;33m.\u001b[0m\u001b[0mquery\u001b[0m\u001b[1;33m(\u001b[0m\u001b[0mCreditTrx\u001b[0m\u001b[1;33m)\u001b[0m\u001b[1;33m.\u001b[0m\u001b[0mfilter\u001b[0m\u001b[1;33m(\u001b[0m\u001b[0mCreditTrx\u001b[0m\u001b[1;33m.\u001b[0m\u001b[0mcredit_trx_id\u001b[0m \u001b[1;33m==\u001b[0m \u001b[1;36m8\u001b[0m\u001b[1;33m)\u001b[0m\u001b[1;33m.\u001b[0m\u001b[0mone\u001b[0m\u001b[1;33m(\u001b[0m\u001b[1;33m)\u001b[0m\u001b[1;33m\u001b[0m\u001b[1;33m\u001b[0m\u001b[0m\n\u001b[0m\u001b[0;32m      2\u001b[0m \u001b[0msession\u001b[0m\u001b[1;33m.\u001b[0m\u001b[0mdelete\u001b[0m\u001b[1;33m(\u001b[0m\u001b[0mto_delete\u001b[0m\u001b[1;33m)\u001b[0m\u001b[1;33m\u001b[0m\u001b[1;33m\u001b[0m\u001b[0m\n\u001b[0;32m      3\u001b[0m \u001b[0msession\u001b[0m\u001b[1;33m.\u001b[0m\u001b[0mcommit\u001b[0m\u001b[1;33m(\u001b[0m\u001b[1;33m)\u001b[0m\u001b[1;33m\u001b[0m\u001b[1;33m\u001b[0m\u001b[0m\n",
      "\u001b[1;32m~\\miniconda3\\envs\\py3\\lib\\site-packages\\sqlalchemy\\orm\\query.py\u001b[0m in \u001b[0;36mone\u001b[1;34m(self)\u001b[0m\n\u001b[0;32m   3444\u001b[0m         \u001b[1;32melse\u001b[0m\u001b[1;33m:\u001b[0m\u001b[1;33m\u001b[0m\u001b[1;33m\u001b[0m\u001b[0m\n\u001b[0;32m   3445\u001b[0m             \u001b[1;32mif\u001b[0m \u001b[0mret\u001b[0m \u001b[1;32mis\u001b[0m \u001b[1;32mNone\u001b[0m\u001b[1;33m:\u001b[0m\u001b[1;33m\u001b[0m\u001b[1;33m\u001b[0m\u001b[0m\n\u001b[1;32m-> 3446\u001b[1;33m                 \u001b[1;32mraise\u001b[0m \u001b[0morm_exc\u001b[0m\u001b[1;33m.\u001b[0m\u001b[0mNoResultFound\u001b[0m\u001b[1;33m(\u001b[0m\u001b[1;34m\"No row was found for one()\"\u001b[0m\u001b[1;33m)\u001b[0m\u001b[1;33m\u001b[0m\u001b[1;33m\u001b[0m\u001b[0m\n\u001b[0m\u001b[0;32m   3447\u001b[0m             \u001b[1;32mreturn\u001b[0m \u001b[0mret\u001b[0m\u001b[1;33m\u001b[0m\u001b[1;33m\u001b[0m\u001b[0m\n\u001b[0;32m   3448\u001b[0m \u001b[1;33m\u001b[0m\u001b[0m\n",
      "\u001b[1;31mNoResultFound\u001b[0m: No row was found for one()"
     ]
    }
   ],
   "source": [
    "# to_delete = session.query(CreditTrx).filter(CreditTrx.credit_trx_id == 8).one()\n",
    "# session.delete(to_delete)\n",
    "# session.commit()"
   ]
  },
  {
   "cell_type": "code",
   "execution_count": 15,
   "metadata": {
    "ExecuteTime": {
     "end_time": "2021-01-09T19:46:33.515760Z",
     "start_time": "2021-01-09T19:46:33.337295Z"
    }
   },
   "outputs": [
    {
     "name": "stdout",
     "output_type": "stream",
     "text": [
      "Creating 'Addition' Trx for: 2021-01-08\n"
     ]
    }
   ],
   "source": [
    "# Initial trx, 11 days ago\n",
    "\n",
    "addition_trx = CreditTrx(\n",
    "    credit_trx_date=dt.datetime.today().date() - dt.timedelta(11),\n",
    "    credit_trx_type=\"Addition\",\n",
    "    credit_value=1,\n",
    "    credit_saldo=1,\n",
    "    record_id=np.nan\n",
    ")\n",
    "session.add(addition_trx)\n",
    "\n",
    "# And a regular interval addition\n",
    "db_functions.add_regular_credits(session)\n",
    "\n",
    "session.commit()"
   ]
  },
  {
   "cell_type": "code",
   "execution_count": 16,
   "metadata": {
    "ExecuteTime": {
     "end_time": "2021-01-09T19:46:34.058759Z",
     "start_time": "2021-01-09T19:46:33.849760Z"
    }
   },
   "outputs": [
    {
     "data": {
      "text/plain": [
       "[<CreditTrx(credit_trx_id=1, credit_trx_date=2014-08-01, credit_trx_type=Initial Load, credit_value=0.0, credit_saldo=0.0, record_id=1)>,\n",
       " <CreditTrx(credit_trx_id=2, credit_trx_date=2020-01-01, credit_trx_type=Initial Load, credit_value=0.0, credit_saldo=0.0, record_id=2)>,\n",
       " <CreditTrx(credit_trx_id=3, credit_trx_date=2017-08-01, credit_trx_type=Initial Load, credit_value=0.0, credit_saldo=0.0, record_id=3)>,\n",
       " <CreditTrx(credit_trx_id=4, credit_trx_date=2020-12-29, credit_trx_type=Addition, credit_value=1.0, credit_saldo=1.0, record_id=None)>,\n",
       " <CreditTrx(credit_trx_id=5, credit_trx_date=2021-01-08, credit_trx_type=Addition, credit_value=1.0, credit_saldo=2.0, record_id=None)>]"
      ]
     },
     "execution_count": 16,
     "metadata": {},
     "output_type": "execute_result"
    }
   ],
   "source": [
    "session.query(CreditTrx).all()"
   ]
  },
  {
   "cell_type": "markdown",
   "metadata": {},
   "source": [
    "### Insertion of new Record"
   ]
  },
  {
   "cell_type": "code",
   "execution_count": 18,
   "metadata": {
    "ExecuteTime": {
     "end_time": "2021-01-09T19:46:42.018274Z",
     "start_time": "2021-01-09T19:46:41.832284Z"
    }
   },
   "outputs": [],
   "source": [
    "db_functions.add_new_record(session, test_record)\n",
    "\n",
    "assert session.query(Record).count() == 4"
   ]
  },
  {
   "cell_type": "code",
   "execution_count": 19,
   "metadata": {
    "ExecuteTime": {
     "end_time": "2021-01-09T19:46:42.615275Z",
     "start_time": "2021-01-09T19:46:42.466277Z"
    }
   },
   "outputs": [
    {
     "data": {
      "text/plain": [
       "[<CreditTrx(credit_trx_id=5, credit_trx_date=2021-01-08, credit_trx_type=Addition, credit_value=1.0, credit_saldo=2.0, record_id=None)>,\n",
       " <CreditTrx(credit_trx_id=6, credit_trx_date=2020-06-01, credit_trx_type=Purchase, credit_value=-1.0, credit_saldo=1.0, record_id=4)>]"
      ]
     },
     "execution_count": 19,
     "metadata": {},
     "output_type": "execute_result"
    }
   ],
   "source": [
    "session.query(CreditTrx).all()[-2:]"
   ]
  },
  {
   "cell_type": "markdown",
   "metadata": {},
   "source": [
    "### Removal of Existing Record\n",
    "\n",
    "Necessary cols: trx_type, credit_value, title, artist, year, date"
   ]
  },
  {
   "cell_type": "code",
   "execution_count": 27,
   "metadata": {
    "ExecuteTime": {
     "end_time": "2021-01-09T20:40:39.082249Z",
     "start_time": "2021-01-09T20:40:38.933250Z"
    }
   },
   "outputs": [],
   "source": [
    "test_removal = {\n",
    "    \"trx_type\": \"Removal\",\n",
    "    \"credit_value\": 1,\n",
    "    \"artist\": \"Emperor\",\n",
    "    \"title\": \"s/t\",\n",
    "    \"year\": 1993,\n",
    "    \"date\": dt.datetime.today().date()\n",
    "}"
   ]
  },
  {
   "cell_type": "code",
   "execution_count": 30,
   "metadata": {
    "ExecuteTime": {
     "end_time": "2021-01-09T20:41:30.751285Z",
     "start_time": "2021-01-09T20:41:30.435288Z"
    }
   },
   "outputs": [
    {
     "name": "stdout",
     "output_type": "stream",
     "text": [
      "Status of record 's/t' by Emperor is already 0, please check.\n"
     ]
    }
   ],
   "source": [
    "db_functions.set_record_to_inactive(session, test_removal)"
   ]
  },
  {
   "cell_type": "code",
   "execution_count": 42,
   "metadata": {
    "ExecuteTime": {
     "end_time": "2021-01-09T20:48:54.711471Z",
     "start_time": "2021-01-09T20:48:54.550431Z"
    }
   },
   "outputs": [
    {
     "data": {
      "text/plain": [
       "[(2)]"
      ]
     },
     "execution_count": 42,
     "metadata": {},
     "output_type": "execute_result"
    },
    {
     "data": {
      "text/plain": [
       "[(1), (3)]"
      ]
     },
     "execution_count": 42,
     "metadata": {},
     "output_type": "execute_result"
    }
   ],
   "source": [
    "session.query(func.count(distinct(Record.active))).all()\n",
    "session.query(func.count(Record.record_id)).group_by(Record.active).all()"
   ]
  },
  {
   "cell_type": "code",
   "execution_count": 43,
   "metadata": {
    "ExecuteTime": {
     "end_time": "2021-01-09T20:51:30.618516Z",
     "start_time": "2021-01-09T20:51:30.455522Z"
    }
   },
   "outputs": [
    {
     "data": {
      "text/plain": [
       "[<CreditTrx(credit_trx_id=6, credit_trx_date=2020-06-01, credit_trx_type=Purchase, credit_value=-1.0, credit_saldo=1.0, record_id=4)>,\n",
       " <CreditTrx(credit_trx_id=7, credit_trx_date=2021-01-09, credit_trx_type=Removal, credit_value=1.0, credit_saldo=2.0, record_id=1)>]"
      ]
     },
     "execution_count": 43,
     "metadata": {},
     "output_type": "execute_result"
    }
   ],
   "source": [
    "session.query(CreditTrx).all()[-2:]"
   ]
  },
  {
   "cell_type": "markdown",
   "metadata": {},
   "source": [
    "### Reactivation of inactive Record"
   ]
  },
  {
   "cell_type": "code",
   "execution_count": null,
   "metadata": {
    "ExecuteTime": {
     "end_time": "2021-01-09T19:46:12.586159Z",
     "start_time": "2021-01-09T19:46:07.302Z"
    }
   },
   "outputs": [],
   "source": [
    "ATTENTION It has to be possible ro re-add inactive records! (and to pay for it in credits!)"
   ]
  },
  {
   "cell_type": "markdown",
   "metadata": {},
   "source": [
    "## Query DB"
   ]
  },
  {
   "cell_type": "code",
   "execution_count": null,
   "metadata": {
    "ExecuteTime": {
     "end_time": "2021-01-09T19:46:12.588159Z",
     "start_time": "2021-01-09T19:46:07.305Z"
    }
   },
   "outputs": [],
   "source": [
    "for result in session.query(Record).filter(Record.title == \"Death Lust\").all():\n",
    "    result"
   ]
  },
  {
   "cell_type": "code",
   "execution_count": null,
   "metadata": {
    "ExecuteTime": {
     "end_time": "2021-01-09T19:46:12.593159Z",
     "start_time": "2021-01-09T19:46:07.308Z"
    }
   },
   "outputs": [],
   "source": [
    "session.query(Artist).count()\n",
    "session.query(Artist).all()[:5]"
   ]
  },
  {
   "cell_type": "code",
   "execution_count": null,
   "metadata": {
    "ExecuteTime": {
     "end_time": "2021-01-09T19:46:12.595162Z",
     "start_time": "2021-01-09T19:46:07.311Z"
    }
   },
   "outputs": [],
   "source": [
    "session.query(Genre).count()\n",
    "session.query(Genre).all()"
   ]
  },
  {
   "cell_type": "code",
   "execution_count": null,
   "metadata": {
    "ExecuteTime": {
     "end_time": "2021-01-09T19:46:12.598157Z",
     "start_time": "2021-01-09T19:46:07.314Z"
    }
   },
   "outputs": [],
   "source": [
    "result = session.query(CreditTrx.credit_saldo).all()\n",
    "\n",
    "np.array(result).min()\n",
    "np.array(result).max()"
   ]
  },
  {
   "cell_type": "code",
   "execution_count": null,
   "metadata": {
    "ExecuteTime": {
     "end_time": "2021-01-09T19:46:12.600160Z",
     "start_time": "2021-01-09T19:46:07.318Z"
    }
   },
   "outputs": [],
   "source": [
    "from src.db_declaration import GenreLabelLink, ArtistLabelLink\n",
    "from pprint import pprint\n",
    "\n",
    "session.query(func.count(ArtistLabelLink.artist_id)).all()[0][0]\n",
    "session.query(ArtistLabelLink).count()\n",
    "\n",
    "for result in session.query(Artist).all()[:5]:\n",
    "    pprint(result)"
   ]
  },
  {
   "cell_type": "code",
   "execution_count": null,
   "metadata": {
    "ExecuteTime": {
     "end_time": "2021-01-09T19:46:12.603159Z",
     "start_time": "2021-01-09T19:46:07.323Z"
    }
   },
   "outputs": [],
   "source": [
    "session.query(func.sum(CreditTrx.credit_value)).all()[0][0]"
   ]
  },
  {
   "cell_type": "markdown",
   "metadata": {},
   "source": [
    "## Dev Credit Addition"
   ]
  },
  {
   "cell_type": "code",
   "execution_count": null,
   "metadata": {
    "ExecuteTime": {
     "end_time": "2021-01-09T19:46:12.605158Z",
     "start_time": "2021-01-09T19:46:07.327Z"
    }
   },
   "outputs": [],
   "source": [
    "for id_ in session.query(CreditTrx.credit_trx_id).all():\n",
    "#     print(id_[0])\n",
    "    to_delete = session.query(CreditTrx).filter(CreditTrx.credit_trx_id == id_[0]).one()\n",
    "    session.delete(to_delete)"
   ]
  },
  {
   "cell_type": "code",
   "execution_count": null,
   "metadata": {
    "ExecuteTime": {
     "end_time": "2021-01-09T19:46:12.608160Z",
     "start_time": "2021-01-09T19:46:07.330Z"
    }
   },
   "outputs": [],
   "source": [
    "# Add fake Addition trx\n",
    "\n",
    "fake_trx = CreditTrx(\n",
    "    credit_trx_date=dt.datetime(year=2020, month=11, day=2),\n",
    "    credit_trx_type=\"Addition\",\n",
    "    credit_value=1,\n",
    "    credit_saldo=np.array(session.query(CreditTrx.credit_value).all()).sum() + 1,\n",
    "    record_id=np.nan\n",
    ")\n",
    "session.add(fake_trx)\n",
    "\n",
    "fake_trx = CreditTrx(\n",
    "    credit_trx_date=dt.datetime(year=2020, month=11, day=1),\n",
    "    credit_trx_type=\"Addition\",\n",
    "    credit_value=1,\n",
    "    credit_saldo=np.array(session.query(CreditTrx.credit_value).all()).sum() + 1,\n",
    "    record_id=np.nan\n",
    ")\n",
    "session.add(fake_trx)\n",
    "\n",
    "fake_trx = CreditTrx(\n",
    "    credit_trx_date=dt.datetime(year=2020, month=12, day=1),\n",
    "    credit_trx_type=\"Test\",\n",
    "    credit_value=1,\n",
    "    credit_saldo=np.array(session.query(CreditTrx.credit_value).all()).sum() + 1,\n",
    "    record_id=np.nan\n",
    ")\n",
    "session.add(fake_trx)\n",
    "# session.commit()"
   ]
  },
  {
   "cell_type": "code",
   "execution_count": null,
   "metadata": {
    "ExecuteTime": {
     "end_time": "2021-01-09T19:46:12.612159Z",
     "start_time": "2021-01-09T19:46:07.332Z"
    }
   },
   "outputs": [],
   "source": [
    "# Check\n",
    "# session.commit()\n",
    "session.query(CreditTrx).all()"
   ]
  },
  {
   "cell_type": "code",
   "execution_count": null,
   "metadata": {
    "ExecuteTime": {
     "end_time": "2021-01-09T19:46:12.614175Z",
     "start_time": "2021-01-09T19:46:07.335Z"
    }
   },
   "outputs": [],
   "source": [
    "last_addition_date = (session\n",
    "    .query(CreditTrx.credit_trx_date)\n",
    "    .filter(CreditTrx.credit_trx_type == \"Addition\")\n",
    "    .order_by(CreditTrx.credit_trx_date.desc())\n",
    "    .first()\n",
    ")[0]\n",
    "\n",
    "days_since_last = (dt.date.today() - last_addition_date).days"
   ]
  },
  {
   "cell_type": "code",
   "execution_count": null,
   "metadata": {
    "ExecuteTime": {
     "end_time": "2021-01-09T19:46:12.616160Z",
     "start_time": "2021-01-09T19:46:07.337Z"
    }
   },
   "outputs": [],
   "source": [
    "last_addition_date\n",
    "days_since_last"
   ]
  },
  {
   "cell_type": "code",
   "execution_count": null,
   "metadata": {
    "ExecuteTime": {
     "end_time": "2021-01-09T19:46:12.618173Z",
     "start_time": "2021-01-09T19:46:07.341Z"
    }
   },
   "outputs": [],
   "source": [
    "# while days_since_last >= 10:\n",
    "#     fake_trx = CreditTrx(\n",
    "#         credit_trx_date=last_addition_date + + dt.timedelta(days=10),\n",
    "#         credit_trx_type=\"Addition\",\n",
    "#         credit_value=1,\n",
    "#         credit_saldo=np.array(session.query(CreditTrx.credit_value).all()).sum() + 1,\n",
    "#         record_id=np.nan\n",
    "#     )\n",
    "    \n",
    "#     session.add(fake_trx)\n",
    "    \n",
    "#     last_addition_date = (session\n",
    "#         .query(CreditTrx.credit_trx_date)\n",
    "#         .filter(CreditTrx.credit_trx_type == \"Addition\")\n",
    "#         .order_by(CreditTrx.credit_trx_date.desc())\n",
    "#         .first()\n",
    "#     )[0]\n",
    "    \n",
    "#     days_since_last = (dt.date.today() - last_addition_date).days\n",
    "\n",
    "# session.commit()"
   ]
  },
  {
   "cell_type": "code",
   "execution_count": null,
   "metadata": {
    "ExecuteTime": {
     "end_time": "2021-01-09T19:46:12.620158Z",
     "start_time": "2021-01-09T19:46:07.345Z"
    }
   },
   "outputs": [],
   "source": [
    "def _get_days_since_last_addition() -> Tuple[dt.date, int]:\n",
    "    \"\"\"Return the date of and the number of days since the \n",
    "    last transaction with type 'Addition' stored in the \n",
    "    CreditTrx table. (This is called within 'add_credit').\n",
    "    \"\"\"\n",
    "    last_addition_date = (session\n",
    "        .query(CreditTrx.credit_trx_date)\n",
    "        .filter(CreditTrx.credit_trx_type == \"Addition\")\n",
    "        .order_by(CreditTrx.credit_trx_date.desc())\n",
    "        .first()\n",
    "    )[0]\n",
    "\n",
    "    days_since_last = (dt.date.today() - last_addition_date).days\n",
    "    \n",
    "    return last_addition_date, days_since_last\n",
    "\n",
    "\n",
    "def add_regular_credits(interval_days: int =10):\n",
    "    \"\"\"Every x days a new credit is added (to be spent\n",
    "    on purchasing new records). This function checks\n",
    "    the delta in days since the last addition and inserts\n",
    "    the necessary credit transactions depending on the\n",
    "    defined interval.\n",
    "    \"\"\"\n",
    "    last_addition_date, days_since_last = _get_days_since_last_addition()\n",
    "    \n",
    "    while days_since_last >= 10:\n",
    "        print(last_addition_date)\n",
    "        addition_trx = CreditTrx(\n",
    "            credit_trx_date=last_addition_date + dt.timedelta(days=interval_days),\n",
    "            credit_trx_type=\"Addition\",\n",
    "            credit_value=1,\n",
    "            credit_saldo=np.array(session.query(CreditTrx.credit_value).all()).sum() + 1,\n",
    "            record_id=np.nan\n",
    "        )\n",
    "        session.add(addition_trx)\n",
    "        last_addition_date, days_since_last = _get_days_since_last_addition()\n",
    "    \n",
    "    session.commit()"
   ]
  },
  {
   "cell_type": "code",
   "execution_count": null,
   "metadata": {
    "ExecuteTime": {
     "end_time": "2021-01-09T19:46:12.622171Z",
     "start_time": "2021-01-09T19:46:07.350Z"
    }
   },
   "outputs": [],
   "source": [
    "add_regular_credits()"
   ]
  },
  {
   "cell_type": "code",
   "execution_count": null,
   "metadata": {
    "ExecuteTime": {
     "end_time": "2021-01-09T19:46:12.624157Z",
     "start_time": "2021-01-09T19:46:07.354Z"
    }
   },
   "outputs": [],
   "source": [
    "session.query(CreditTrx).all()"
   ]
  },
  {
   "cell_type": "code",
   "execution_count": null,
   "metadata": {
    "ExecuteTime": {
     "end_time": "2021-01-09T19:46:12.632158Z",
     "start_time": "2021-01-09T19:46:07.357Z"
    }
   },
   "outputs": [],
   "source": [
    "# session.rollback()"
   ]
  },
  {
   "cell_type": "code",
   "execution_count": null,
   "metadata": {
    "ExecuteTime": {
     "end_time": "2021-01-09T19:46:12.633164Z",
     "start_time": "2021-01-09T19:46:07.360Z"
    }
   },
   "outputs": [],
   "source": [
    "session.close()"
   ]
  }
 ],
 "metadata": {
  "hide_input": false,
  "kernelspec": {
   "display_name": "Python 3",
   "language": "python",
   "name": "python3"
  },
  "language_info": {
   "codemirror_mode": {
    "name": "ipython",
    "version": 3
   },
   "file_extension": ".py",
   "mimetype": "text/x-python",
   "name": "python",
   "nbconvert_exporter": "python",
   "pygments_lexer": "ipython3",
   "version": "3.8.3"
  },
  "toc": {
   "base_numbering": 1,
   "nav_menu": {},
   "number_sections": true,
   "sideBar": false,
   "skip_h1_title": true,
   "title_cell": "Table of Contents",
   "title_sidebar": "Contents",
   "toc_cell": false,
   "toc_position": {},
   "toc_section_display": true,
   "toc_window_display": false
  }
 },
 "nbformat": 4,
 "nbformat_minor": 4
}
