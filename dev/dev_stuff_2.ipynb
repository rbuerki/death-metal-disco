{
 "cells": [
  {
   "cell_type": "code",
   "execution_count": 1,
   "metadata": {
    "ExecuteTime": {
     "end_time": "2021-02-12T16:54:37.852075Z",
     "start_time": "2021-02-12T16:54:33.121534Z"
    }
   },
   "outputs": [],
   "source": [
    "import configparser\n",
    "import datetime as dt\n",
    "import sys\n",
    "import collections\n",
    "from pathlib import Path\n",
    "from typing import Union, Optional, List, Tuple\n",
    "\n",
    "import codebook.EDA as EDA\n",
    "import codebook.clean as clean\n",
    "import numpy as np\n",
    "import pandas as pd\n",
    "import matplotlib.pyplot as plt\n",
    "import seaborn as sns\n",
    "import sqlalchemy\n",
    "from sqlalchemy import func, distinct"
   ]
  },
  {
   "cell_type": "code",
   "execution_count": 2,
   "metadata": {
    "ExecuteTime": {
     "end_time": "2021-02-12T16:54:37.984079Z",
     "start_time": "2021-02-12T16:54:37.853970Z"
    }
   },
   "outputs": [],
   "source": [
    "%load_ext autoreload\n",
    "%autoreload 2\n",
    "\n",
    "%matplotlib inline\n",
    "plt.style.use('raph-base')\n",
    "\n",
    "from IPython.core.interactiveshell import InteractiveShell\n",
    "InteractiveShell.ast_node_interactivity = 'all'\n",
    "\n",
    "pd.options.display.float_format = '{:,.2f}'.format\n",
    "pd.set_option('display.max_columns', 30)\n",
    "pd.set_option('display.expand_frame_repr', False)\n",
    "pd.set_option('max_colwidth', 800)\n",
    "\n",
    "np.random.seed(666)"
   ]
  },
  {
   "cell_type": "code",
   "execution_count": 3,
   "metadata": {
    "ExecuteTime": {
     "end_time": "2021-02-12T16:54:38.339065Z",
     "start_time": "2021-02-12T16:54:37.986973Z"
    }
   },
   "outputs": [],
   "source": [
    "sys.path.append(str(Path.cwd().parent))\n",
    "\n",
    "from src.db_declaration import Base, Artist, CreditTrx, Genre, Label, Record, RecordFormat, RecordLabelLink\n",
    "from src import db_functions\n",
    "from src import db_connect"
   ]
  },
  {
   "cell_type": "code",
   "execution_count": 4,
   "metadata": {
    "ExecuteTime": {
     "end_time": "2021-02-12T16:54:38.451978Z",
     "start_time": "2021-02-12T16:54:38.340974Z"
    }
   },
   "outputs": [
    {
     "name": "stdout",
     "output_type": "stream",
     "text": [
      "C:\\Users\\r2d4\\miniconda3\\envs\\py3\\python.exe\n",
      "3.8.3 (default, May 19 2020, 06:50:17) [MSC v.1916 64 bit (AMD64)]\n",
      "sqlalchemy 1.3.17\n"
     ]
    }
   ],
   "source": [
    "print(sys.executable)\n",
    "print(sys.version)\n",
    "print(f'sqlalchemy {sqlalchemy.__version__}')"
   ]
  },
  {
   "cell_type": "markdown",
   "metadata": {
    "ExecuteTime": {
     "end_time": "2020-12-23T06:08:49.546499Z",
     "start_time": "2020-12-23T06:08:49.412497Z"
    }
   },
   "source": [
    "## Connect To And (Re-)Create DB\n",
    "\n",
    "Because we connect from `dev`subfolder, I have to work with the sqlalchemy `create_engine` function directly."
   ]
  },
  {
   "cell_type": "code",
   "execution_count": 5,
   "metadata": {
    "ExecuteTime": {
     "end_time": "2021-02-12T16:54:38.607980Z",
     "start_time": "2021-02-12T16:54:38.454974Z"
    },
    "scrolled": true
   },
   "outputs": [
    {
     "data": {
      "text/plain": [
       "Engine(sqlite:///C:\\Users\\r2d4\\OneDrive\\code\\projects\\20-02_disco\\dev\\DeafDiscoBase.db)"
      ]
     },
     "execution_count": 5,
     "metadata": {},
     "output_type": "execute_result"
    },
    {
     "data": {
      "text/plain": [
       "<sqlalchemy.orm.session.Session at 0x1b6fb8f9670>"
      ]
     },
     "execution_count": 5,
     "metadata": {},
     "output_type": "execute_result"
    }
   ],
   "source": [
    "db_params = {\"REL_PATH\": \"DeafDiscoBase.db\"}\n",
    "engine = db_connect.create_engine(db_params)\n",
    "session = db_connect.create_session(engine)\n",
    "\n",
    "# Check\n",
    "engine\n",
    "session"
   ]
  },
  {
   "cell_type": "code",
   "execution_count": 6,
   "metadata": {
    "ExecuteTime": {
     "end_time": "2021-02-12T16:54:38.723973Z",
     "start_time": "2021-02-12T16:54:38.609973Z"
    }
   },
   "outputs": [],
   "source": [
    "# db_functions.create_DB_anew(engine, Base)"
   ]
  },
  {
   "cell_type": "code",
   "execution_count": 7,
   "metadata": {
    "ExecuteTime": {
     "end_time": "2021-02-12T16:54:38.836975Z",
     "start_time": "2021-02-12T16:54:38.725976Z"
    }
   },
   "outputs": [],
   "source": [
    "def load_some_albums_from_xlsx(\n",
    "    filepath: Union[Path, str],\n",
    "    n: int=3,\n",
    "    random_state: int=5,\n",
    ") -> pd.DataFrame:\n",
    "    \"\"\"Load the original album collection file into a dataframe.\n",
    "    You can specify a list of genres you want to include\n",
    "    (defaults to None).\n",
    "    \"\"\"\n",
    "    df = pd.read_excel(filepath, engine=\"openpyxl\")\n",
    "    return df.sample(n=n, random_state=random_state)\n",
    "\n",
    "\n",
    "def clean_collection(collection_df):\n",
    "    collection_df = clean.prettify_column_names(collection_df)\n",
    "    collection_df.dropna(thresh=8, inplace=True)\n",
    "    collection_df.rename(columns={\"format\": \"record_format\"}, inplace=True)\n",
    "    collection_df[\"label\"].fillna(\"NA\", inplace=True)  # because it creates a foreign key\n",
    "    collection_df[\"vinyl_color\"] = np.nan  # just for aesthetics ...\n",
    "    collection_df[\"artist_country\"] = None\n",
    "    collection_df[\"credit_value\"] = 0\n",
    "    collection_df[\"trx_type\"] = \"Initial Load\"\n",
    "    return collection_df"
   ]
  },
  {
   "cell_type": "code",
   "execution_count": 8,
   "metadata": {
    "ExecuteTime": {
     "end_time": "2021-02-12T16:54:40.192657Z",
     "start_time": "2021-02-12T16:54:38.841975Z"
    }
   },
   "outputs": [],
   "source": [
    "CONFIG_PATH = Path.cwd().parent / \"config.yaml\"\n",
    "path_to_collection = db_connect.read_yaml(CONFIG_PATH, \"COLLECTION\")\n",
    "collection_df = load_some_albums_from_xlsx(path_to_collection[\"FULL_PATH\"])\n",
    "collection_df = clean_collection(collection_df)"
   ]
  },
  {
   "cell_type": "code",
   "execution_count": 9,
   "metadata": {
    "ExecuteTime": {
     "end_time": "2021-02-12T16:54:40.347581Z",
     "start_time": "2021-02-12T16:54:40.192657Z"
    }
   },
   "outputs": [
    {
     "data": {
      "text/html": [
       "<div>\n",
       "<style scoped>\n",
       "    .dataframe tbody tr th:only-of-type {\n",
       "        vertical-align: middle;\n",
       "    }\n",
       "\n",
       "    .dataframe tbody tr th {\n",
       "        vertical-align: top;\n",
       "    }\n",
       "\n",
       "    .dataframe thead th {\n",
       "        text-align: right;\n",
       "    }\n",
       "</style>\n",
       "<table border=\"1\" class=\"dataframe\">\n",
       "  <thead>\n",
       "    <tr style=\"text-align: right;\">\n",
       "      <th></th>\n",
       "      <th>active</th>\n",
       "      <th>artist</th>\n",
       "      <th>title</th>\n",
       "      <th>record_format</th>\n",
       "      <th>year</th>\n",
       "      <th>genre</th>\n",
       "      <th>price</th>\n",
       "      <th>purchase_date</th>\n",
       "      <th>vinyl_color</th>\n",
       "      <th>lim_edition</th>\n",
       "      <th>number</th>\n",
       "      <th>label</th>\n",
       "      <th>digitized</th>\n",
       "      <th>remarks</th>\n",
       "      <th>rating</th>\n",
       "      <th>artist_country</th>\n",
       "      <th>credit_value</th>\n",
       "      <th>trx_type</th>\n",
       "    </tr>\n",
       "  </thead>\n",
       "  <tbody>\n",
       "    <tr>\n",
       "      <th>28</th>\n",
       "      <td>1.00</td>\n",
       "      <td>Emperor</td>\n",
       "      <td>s/t</td>\n",
       "      <td>MLP</td>\n",
       "      <td>1,993.00</td>\n",
       "      <td>Black Metal</td>\n",
       "      <td>190.00</td>\n",
       "      <td>2014-08-01</td>\n",
       "      <td>nan</td>\n",
       "      <td>NaN</td>\n",
       "      <td>NaN</td>\n",
       "      <td>NA</td>\n",
       "      <td>False</td>\n",
       "      <td>NaN</td>\n",
       "      <td>nan</td>\n",
       "      <td>None</td>\n",
       "      <td>0</td>\n",
       "      <td>Initial Load</td>\n",
       "    </tr>\n",
       "    <tr>\n",
       "      <th>244</th>\n",
       "      <td>1.00</td>\n",
       "      <td>Gatecreeper</td>\n",
       "      <td>Deserted</td>\n",
       "      <td>LP</td>\n",
       "      <td>2,019.00</td>\n",
       "      <td>Death Metal</td>\n",
       "      <td>70.00</td>\n",
       "      <td>2020-01-01</td>\n",
       "      <td>nan</td>\n",
       "      <td>100</td>\n",
       "      <td>NaN</td>\n",
       "      <td>Relapse Records</td>\n",
       "      <td>True</td>\n",
       "      <td>NaN</td>\n",
       "      <td>8.00</td>\n",
       "      <td>None</td>\n",
       "      <td>0</td>\n",
       "      <td>Initial Load</td>\n",
       "    </tr>\n",
       "    <tr>\n",
       "      <th>123</th>\n",
       "      <td>1.00</td>\n",
       "      <td>Agnosy</td>\n",
       "      <td>Traits of The Past</td>\n",
       "      <td>LP</td>\n",
       "      <td>2,014.00</td>\n",
       "      <td>Crust</td>\n",
       "      <td>15.00</td>\n",
       "      <td>2017-08-01</td>\n",
       "      <td>nan</td>\n",
       "      <td>NaN</td>\n",
       "      <td>NaN</td>\n",
       "      <td>NA</td>\n",
       "      <td>True</td>\n",
       "      <td>NaN</td>\n",
       "      <td>nan</td>\n",
       "      <td>None</td>\n",
       "      <td>0</td>\n",
       "      <td>Initial Load</td>\n",
       "    </tr>\n",
       "  </tbody>\n",
       "</table>\n",
       "</div>"
      ],
      "text/plain": [
       "     active       artist               title record_format     year        genre  price purchase_date  vinyl_color lim_edition number            label digitized remarks  rating artist_country  credit_value      trx_type\n",
       "28     1.00      Emperor                 s/t           MLP 1,993.00  Black Metal 190.00    2014-08-01          nan         NaN    NaN               NA     False     NaN     nan           None             0  Initial Load\n",
       "244    1.00  Gatecreeper            Deserted            LP 2,019.00  Death Metal  70.00    2020-01-01          nan         100    NaN  Relapse Records      True     NaN    8.00           None             0  Initial Load\n",
       "123    1.00       Agnosy  Traits of The Past            LP 2,014.00        Crust  15.00    2017-08-01          nan         NaN    NaN               NA      True     NaN     nan           None             0  Initial Load"
      ]
     },
     "execution_count": 9,
     "metadata": {},
     "output_type": "execute_result"
    }
   ],
   "source": [
    "collection_df"
   ]
  },
  {
   "cell_type": "code",
   "execution_count": 10,
   "metadata": {
    "ExecuteTime": {
     "end_time": "2021-02-12T16:54:40.652583Z",
     "start_time": "2021-02-12T16:54:40.349581Z"
    }
   },
   "outputs": [
    {
     "data": {
      "text/plain": [
       "{'active': 1.0,\n",
       " 'artist': 'Witch Vomit',\n",
       " 'title': 'Poisoned Blood',\n",
       " 'record_format': 'MLP',\n",
       " 'year': 2017.0,\n",
       " 'genre': 'Death Metal',\n",
       " 'price': 15.0,\n",
       " 'purchase_date': Timestamp('2020-06-01 00:00:00'),\n",
       " 'vinyl_color': nan,\n",
       " 'lim_edition': nan,\n",
       " 'number': nan,\n",
       " 'label': '20 Buck Spin',\n",
       " 'digitized': True,\n",
       " 'remarks': nan,\n",
       " 'rating': 8.0,\n",
       " 'artist_country': None,\n",
       " 'credit_value': 1,\n",
       " 'trx_type': 'Purchase'}"
      ]
     },
     "execution_count": 10,
     "metadata": {},
     "output_type": "execute_result"
    }
   ],
   "source": [
    "# Create an additional test_record\n",
    "\n",
    "test_record = load_some_albums_from_xlsx(path_to_collection[\"FULL_PATH\"], 1, 1)\n",
    "test_record = clean_collection(test_record)\n",
    "test_record = test_record.to_dict(orient=\"records\")[0]\n",
    "test_record[\"trx_type\"] = \"Purchase\"\n",
    "test_record[\"credit_value\"] = 1\n",
    "test_record"
   ]
  },
  {
   "cell_type": "markdown",
   "metadata": {
    "ExecuteTime": {
     "end_time": "2020-12-23T21:50:04.810370Z",
     "start_time": "2020-12-23T21:50:04.664351Z"
    }
   },
   "source": [
    "### Initial Load of 3 Records"
   ]
  },
  {
   "cell_type": "code",
   "execution_count": 11,
   "metadata": {
    "ExecuteTime": {
     "end_time": "2021-02-12T16:54:40.805682Z",
     "start_time": "2021-02-12T16:54:40.654580Z"
    }
   },
   "outputs": [],
   "source": [
    "def insert_df_with_sqlalchemy_orm(session, df):\n",
    "    for x in df.to_dict(\"records\"):\n",
    "        db_functions.add_new_record(session, x)"
   ]
  },
  {
   "cell_type": "code",
   "execution_count": 12,
   "metadata": {
    "ExecuteTime": {
     "end_time": "2021-02-12T16:54:40.969828Z",
     "start_time": "2021-02-12T16:54:40.807583Z"
    }
   },
   "outputs": [
    {
     "name": "stdout",
     "output_type": "stream",
     "text": [
      "Record 's/t' by Emperor already exists, insert skipped.\n",
      "Record 'Deserted' by Gatecreeper already exists, insert skipped.\n",
      "Record 'Traits of The Past' by Agnosy already exists, insert skipped.\n"
     ]
    },
    {
     "name": "stderr",
     "output_type": "stream",
     "text": [
      "C:\\Users\\r2d4\\miniconda3\\envs\\py3\\lib\\site-packages\\sqlalchemy\\sql\\sqltypes.py:660: SAWarning: Dialect sqlite+pysqlite does *not* support Decimal objects natively, and SQLAlchemy must convert from floating point - rounding errors and other issues may occur. Please consider storing Decimal numbers as strings or integers on this platform for lossless storage.\n",
      "  util.warn(\n"
     ]
    }
   ],
   "source": [
    "insert_df_with_sqlalchemy_orm(session, collection_df)\n",
    "\n",
    "# assert session.query(Record).count() == 3"
   ]
  },
  {
   "cell_type": "markdown",
   "metadata": {},
   "source": [
    "### Insertion of 2 Credit Addition Trx"
   ]
  },
  {
   "cell_type": "code",
   "execution_count": 13,
   "metadata": {
    "ExecuteTime": {
     "end_time": "2021-02-12T16:54:41.101793Z",
     "start_time": "2021-02-12T16:54:40.972794Z"
    }
   },
   "outputs": [],
   "source": [
    "# to_delete = session.query(CreditTrx).filter(CreditTrx.credit_trx_id == 8).one()\n",
    "# session.delete(to_delete)\n",
    "# session.commit()"
   ]
  },
  {
   "cell_type": "code",
   "execution_count": 14,
   "metadata": {
    "ExecuteTime": {
     "end_time": "2021-02-12T16:54:41.243802Z",
     "start_time": "2021-02-12T16:54:41.103794Z"
    }
   },
   "outputs": [],
   "source": [
    "# Initial trx, 11 days ago\n",
    "\n",
    "addition_trx = CreditTrx(\n",
    "    credit_trx_date=dt.datetime.today().date() - dt.timedelta(11),\n",
    "    credit_trx_type=\"Addition\",\n",
    "    credit_value=1,\n",
    "    credit_saldo=1,\n",
    "    record_id=np.nan\n",
    ")\n",
    "session.add(addition_trx)\n",
    "\n",
    "# And a regular interval addition\n",
    "db_functions.add_regular_credits(session)\n",
    "\n",
    "session.commit()"
   ]
  },
  {
   "cell_type": "code",
   "execution_count": 15,
   "metadata": {
    "ExecuteTime": {
     "end_time": "2021-02-12T16:54:41.423932Z",
     "start_time": "2021-02-12T16:54:41.245795Z"
    }
   },
   "outputs": [
    {
     "data": {
      "text/plain": [
       "[<CreditTrx(credit_trx_id=1, credit_trx_date=2014-08-01, credit_trx_type=Initial Load, credit_value=0.0, credit_saldo=0.0, record_id=1)>,\n",
       " <CreditTrx(credit_trx_id=2, credit_trx_date=2020-01-01, credit_trx_type=Initial Load, credit_value=0.0, credit_saldo=0.0, record_id=2)>,\n",
       " <CreditTrx(credit_trx_id=3, credit_trx_date=2017-08-01, credit_trx_type=Initial Load, credit_value=0.0, credit_saldo=0.0, record_id=3)>,\n",
       " <CreditTrx(credit_trx_id=4, credit_trx_date=2021-01-31, credit_trx_type=Addition, credit_value=1.0, credit_saldo=1.0, record_id=None)>,\n",
       " <CreditTrx(credit_trx_id=5, credit_trx_date=2021-02-10, credit_trx_type=Addition, credit_value=1.0, credit_saldo=2.0, record_id=None)>,\n",
       " <CreditTrx(credit_trx_id=6, credit_trx_date=2020-06-01, credit_trx_type=Purchase, credit_value=-1.0, credit_saldo=1.0, record_id=4)>,\n",
       " <CreditTrx(credit_trx_id=7, credit_trx_date=2021-02-01, credit_trx_type=Addition, credit_value=1.0, credit_saldo=1.0, record_id=None)>]"
      ]
     },
     "execution_count": 15,
     "metadata": {},
     "output_type": "execute_result"
    }
   ],
   "source": [
    "session.query(CreditTrx).all()"
   ]
  },
  {
   "cell_type": "markdown",
   "metadata": {},
   "source": [
    "### Insertion of new Record"
   ]
  },
  {
   "cell_type": "code",
   "execution_count": 16,
   "metadata": {
    "ExecuteTime": {
     "end_time": "2021-02-12T16:54:41.562932Z",
     "start_time": "2021-02-12T16:54:41.425934Z"
    }
   },
   "outputs": [
    {
     "name": "stdout",
     "output_type": "stream",
     "text": [
      "Record 'Poisoned Blood' by Witch Vomit already exists, insert skipped.\n"
     ]
    }
   ],
   "source": [
    "db_functions.add_new_record(session, test_record)\n",
    "\n",
    "assert session.query(Record).count() == 4"
   ]
  },
  {
   "cell_type": "code",
   "execution_count": 17,
   "metadata": {
    "ExecuteTime": {
     "end_time": "2021-02-12T16:54:41.696930Z",
     "start_time": "2021-02-12T16:54:41.564933Z"
    }
   },
   "outputs": [
    {
     "data": {
      "text/plain": [
       "[<CreditTrx(credit_trx_id=6, credit_trx_date=2020-06-01, credit_trx_type=Purchase, credit_value=-1.0, credit_saldo=1.0, record_id=4)>,\n",
       " <CreditTrx(credit_trx_id=7, credit_trx_date=2021-02-01, credit_trx_type=Addition, credit_value=1.0, credit_saldo=1.0, record_id=None)>]"
      ]
     },
     "execution_count": 17,
     "metadata": {},
     "output_type": "execute_result"
    }
   ],
   "source": [
    "session.query(CreditTrx).all()[-2:]"
   ]
  },
  {
   "cell_type": "markdown",
   "metadata": {},
   "source": [
    "### Removal of Existing Record\n",
    "\n",
    "Necessary cols: trx_type, credit_value, title, artist, date"
   ]
  },
  {
   "cell_type": "code",
   "execution_count": 18,
   "metadata": {
    "ExecuteTime": {
     "end_time": "2021-02-12T16:54:41.835931Z",
     "start_time": "2021-02-12T16:54:41.698933Z"
    }
   },
   "outputs": [],
   "source": [
    "test_removal = {\n",
    "    \"trx_type\": \"Remove\",\n",
    "    \"credit_value\": 1,\n",
    "    \"artist\": \"Emperor\",\n",
    "    \"title\": \"s/t\",\n",
    "#     \"year\": 1993,\n",
    "    \"removal_date\": dt.datetime.today().date()\n",
    "}"
   ]
  },
  {
   "cell_type": "code",
   "execution_count": 19,
   "metadata": {
    "ExecuteTime": {
     "end_time": "2021-02-12T16:54:42.079933Z",
     "start_time": "2021-02-12T16:54:41.837932Z"
    }
   },
   "outputs": [
    {
     "name": "stdout",
     "output_type": "stream",
     "text": [
      "Record set to inactive.\n"
     ]
    }
   ],
   "source": [
    "db_functions.set_record_to_inactive(session, test_removal)"
   ]
  },
  {
   "cell_type": "code",
   "execution_count": 20,
   "metadata": {
    "ExecuteTime": {
     "end_time": "2021-02-12T16:54:42.260931Z",
     "start_time": "2021-02-12T16:54:42.082933Z"
    }
   },
   "outputs": [
    {
     "data": {
      "text/plain": [
       "[(2)]"
      ]
     },
     "execution_count": 20,
     "metadata": {},
     "output_type": "execute_result"
    },
    {
     "data": {
      "text/plain": [
       "[(1), (3)]"
      ]
     },
     "execution_count": 20,
     "metadata": {},
     "output_type": "execute_result"
    }
   ],
   "source": [
    "session.query(func.count(distinct(Record.active))).all()\n",
    "session.query(func.count(Record.record_id)).group_by(Record.active).all()"
   ]
  },
  {
   "cell_type": "code",
   "execution_count": 21,
   "metadata": {
    "ExecuteTime": {
     "end_time": "2021-02-12T16:54:42.420934Z",
     "start_time": "2021-02-12T16:54:42.263934Z"
    }
   },
   "outputs": [
    {
     "data": {
      "text/plain": [
       "[<CreditTrx(credit_trx_id=6, credit_trx_date=2020-06-01, credit_trx_type=Purchase, credit_value=-1.0, credit_saldo=1.0, record_id=4)>,\n",
       " <CreditTrx(credit_trx_id=7, credit_trx_date=2021-02-01, credit_trx_type=Addition, credit_value=1.0, credit_saldo=1.0, record_id=None)>,\n",
       " <CreditTrx(credit_trx_id=8, credit_trx_date=2021-02-12, credit_trx_type=Remove, credit_value=1.0, credit_saldo=2.0, record_id=1)>]"
      ]
     },
     "execution_count": 21,
     "metadata": {},
     "output_type": "execute_result"
    }
   ],
   "source": [
    "session.query(CreditTrx).all()[-3:]"
   ]
  },
  {
   "cell_type": "markdown",
   "metadata": {},
   "source": [
    "### Reactivation of inactive Record [OPEN]"
   ]
  },
  {
   "cell_type": "code",
   "execution_count": 22,
   "metadata": {
    "ExecuteTime": {
     "end_time": "2021-02-12T16:54:42.586928Z",
     "start_time": "2021-02-12T16:54:42.423934Z"
    }
   },
   "outputs": [],
   "source": [
    "# ATTENTION It has to be possible ro re-add inactive records! (and to pay for it in credits!)"
   ]
  },
  {
   "cell_type": "markdown",
   "metadata": {},
   "source": [
    "## Query DB"
   ]
  },
  {
   "cell_type": "code",
   "execution_count": 23,
   "metadata": {
    "ExecuteTime": {
     "end_time": "2021-02-12T16:54:42.775931Z",
     "start_time": "2021-02-12T16:54:42.592932Z"
    }
   },
   "outputs": [
    {
     "data": {
      "text/html": [
       "<div>\n",
       "<style scoped>\n",
       "    .dataframe tbody tr th:only-of-type {\n",
       "        vertical-align: middle;\n",
       "    }\n",
       "\n",
       "    .dataframe tbody tr th {\n",
       "        vertical-align: top;\n",
       "    }\n",
       "\n",
       "    .dataframe thead th {\n",
       "        text-align: right;\n",
       "    }\n",
       "</style>\n",
       "<table border=\"1\" class=\"dataframe\">\n",
       "  <thead>\n",
       "    <tr style=\"text-align: right;\">\n",
       "      <th></th>\n",
       "      <th>record_id</th>\n",
       "      <th>artist_id</th>\n",
       "      <th>title</th>\n",
       "      <th>genre_id</th>\n",
       "      <th>label</th>\n",
       "      <th>year</th>\n",
       "      <th>format_id</th>\n",
       "      <th>vinyl_color</th>\n",
       "      <th>lim_edition</th>\n",
       "      <th>number</th>\n",
       "      <th>remarks</th>\n",
       "      <th>purchase_date</th>\n",
       "      <th>price</th>\n",
       "      <th>digitized</th>\n",
       "      <th>rating</th>\n",
       "      <th>active</th>\n",
       "      <th>created_at</th>\n",
       "      <th>updated_at</th>\n",
       "    </tr>\n",
       "  </thead>\n",
       "  <tbody>\n",
       "    <tr>\n",
       "      <th>0</th>\n",
       "      <td>1</td>\n",
       "      <td>1</td>\n",
       "      <td>s/t</td>\n",
       "      <td>1</td>\n",
       "      <td>None</td>\n",
       "      <td>1993</td>\n",
       "      <td>1</td>\n",
       "      <td>None</td>\n",
       "      <td>None</td>\n",
       "      <td>None</td>\n",
       "      <td>None</td>\n",
       "      <td>2014-08-01</td>\n",
       "      <td>190</td>\n",
       "      <td>0</td>\n",
       "      <td>nan</td>\n",
       "      <td>0</td>\n",
       "      <td>2021-02-11 09:47:44</td>\n",
       "      <td>2021-02-12 16:54:42</td>\n",
       "    </tr>\n",
       "    <tr>\n",
       "      <th>1</th>\n",
       "      <td>2</td>\n",
       "      <td>2</td>\n",
       "      <td>Deserted</td>\n",
       "      <td>2</td>\n",
       "      <td>None</td>\n",
       "      <td>2019</td>\n",
       "      <td>1</td>\n",
       "      <td>None</td>\n",
       "      <td>100</td>\n",
       "      <td>None</td>\n",
       "      <td>None</td>\n",
       "      <td>2020-01-01</td>\n",
       "      <td>70</td>\n",
       "      <td>1</td>\n",
       "      <td>8.00</td>\n",
       "      <td>1</td>\n",
       "      <td>2021-02-11 09:47:44</td>\n",
       "      <td>2021-02-11 12:08:28</td>\n",
       "    </tr>\n",
       "    <tr>\n",
       "      <th>2</th>\n",
       "      <td>3</td>\n",
       "      <td>3</td>\n",
       "      <td>Traits of The Past</td>\n",
       "      <td>3</td>\n",
       "      <td>None</td>\n",
       "      <td>2014</td>\n",
       "      <td>2</td>\n",
       "      <td>None</td>\n",
       "      <td>None</td>\n",
       "      <td>None</td>\n",
       "      <td>None</td>\n",
       "      <td>2017-08-01</td>\n",
       "      <td>15</td>\n",
       "      <td>1</td>\n",
       "      <td>nan</td>\n",
       "      <td>1</td>\n",
       "      <td>2021-02-11 09:47:44</td>\n",
       "      <td>NaT</td>\n",
       "    </tr>\n",
       "    <tr>\n",
       "      <th>3</th>\n",
       "      <td>4</td>\n",
       "      <td>4</td>\n",
       "      <td>Poisoned Blood</td>\n",
       "      <td>2</td>\n",
       "      <td>None</td>\n",
       "      <td>2017</td>\n",
       "      <td>3</td>\n",
       "      <td>None</td>\n",
       "      <td>None</td>\n",
       "      <td>None</td>\n",
       "      <td>None</td>\n",
       "      <td>2020-06-01</td>\n",
       "      <td>15</td>\n",
       "      <td>1</td>\n",
       "      <td>8.00</td>\n",
       "      <td>1</td>\n",
       "      <td>2021-02-11 09:48:13</td>\n",
       "      <td>2021-02-11 10:00:33</td>\n",
       "    </tr>\n",
       "  </tbody>\n",
       "</table>\n",
       "</div>"
      ],
      "text/plain": [
       "   record_id  artist_id               title  genre_id label  year  format_id vinyl_color lim_edition number remarks purchase_date  price  digitized  rating  active          created_at          updated_at\n",
       "0          1          1                 s/t         1  None  1993          1        None        None   None    None    2014-08-01    190          0     nan       0 2021-02-11 09:47:44 2021-02-12 16:54:42\n",
       "1          2          2            Deserted         2  None  2019          1        None         100   None    None    2020-01-01     70          1    8.00       1 2021-02-11 09:47:44 2021-02-11 12:08:28\n",
       "2          3          3  Traits of The Past         3  None  2014          2        None        None   None    None    2017-08-01     15          1     nan       1 2021-02-11 09:47:44                 NaT\n",
       "3          4          4      Poisoned Blood         2  None  2017          3        None        None   None    None    2020-06-01     15          1    8.00       1 2021-02-11 09:48:13 2021-02-11 10:00:33"
      ]
     },
     "execution_count": 23,
     "metadata": {},
     "output_type": "execute_result"
    }
   ],
   "source": [
    "pd.read_sql(\"records\", engine)"
   ]
  },
  {
   "cell_type": "code",
   "execution_count": 24,
   "metadata": {
    "ExecuteTime": {
     "end_time": "2021-02-12T16:54:42.942934Z",
     "start_time": "2021-02-12T16:54:42.778935Z"
    }
   },
   "outputs": [
    {
     "data": {
      "text/html": [
       "<div>\n",
       "<style scoped>\n",
       "    .dataframe tbody tr th:only-of-type {\n",
       "        vertical-align: middle;\n",
       "    }\n",
       "\n",
       "    .dataframe tbody tr th {\n",
       "        vertical-align: top;\n",
       "    }\n",
       "\n",
       "    .dataframe thead th {\n",
       "        text-align: right;\n",
       "    }\n",
       "</style>\n",
       "<table border=\"1\" class=\"dataframe\">\n",
       "  <thead>\n",
       "    <tr style=\"text-align: right;\">\n",
       "      <th></th>\n",
       "      <th>format_id</th>\n",
       "      <th>format_name</th>\n",
       "      <th>created_at</th>\n",
       "      <th>updated_at</th>\n",
       "    </tr>\n",
       "  </thead>\n",
       "  <tbody>\n",
       "    <tr>\n",
       "      <th>0</th>\n",
       "      <td>1</td>\n",
       "      <td>MLP</td>\n",
       "      <td>2021-02-11 09:47:44</td>\n",
       "      <td>NaT</td>\n",
       "    </tr>\n",
       "    <tr>\n",
       "      <th>1</th>\n",
       "      <td>2</td>\n",
       "      <td>LP</td>\n",
       "      <td>2021-02-11 09:47:44</td>\n",
       "      <td>NaT</td>\n",
       "    </tr>\n",
       "    <tr>\n",
       "      <th>2</th>\n",
       "      <td>3</td>\n",
       "      <td>MLP2</td>\n",
       "      <td>2021-02-11 10:00:33</td>\n",
       "      <td>NaT</td>\n",
       "    </tr>\n",
       "  </tbody>\n",
       "</table>\n",
       "</div>"
      ],
      "text/plain": [
       "   format_id format_name          created_at updated_at\n",
       "0          1         MLP 2021-02-11 09:47:44        NaT\n",
       "1          2          LP 2021-02-11 09:47:44        NaT\n",
       "2          3        MLP2 2021-02-11 10:00:33        NaT"
      ]
     },
     "execution_count": 24,
     "metadata": {},
     "output_type": "execute_result"
    }
   ],
   "source": [
    "pd.read_sql(\"formats\", engine)"
   ]
  },
  {
   "cell_type": "code",
   "execution_count": 25,
   "metadata": {
    "ExecuteTime": {
     "end_time": "2021-02-12T16:54:43.117934Z",
     "start_time": "2021-02-12T16:54:42.945933Z"
    }
   },
   "outputs": [
    {
     "data": {
      "text/html": [
       "<div>\n",
       "<style scoped>\n",
       "    .dataframe tbody tr th:only-of-type {\n",
       "        vertical-align: middle;\n",
       "    }\n",
       "\n",
       "    .dataframe tbody tr th {\n",
       "        vertical-align: top;\n",
       "    }\n",
       "\n",
       "    .dataframe thead th {\n",
       "        text-align: right;\n",
       "    }\n",
       "</style>\n",
       "<table border=\"1\" class=\"dataframe\">\n",
       "  <thead>\n",
       "    <tr style=\"text-align: right;\">\n",
       "      <th></th>\n",
       "      <th>artist_id</th>\n",
       "      <th>artist_name</th>\n",
       "      <th>artist_country</th>\n",
       "      <th>created_at</th>\n",
       "      <th>updated_at</th>\n",
       "    </tr>\n",
       "  </thead>\n",
       "  <tbody>\n",
       "    <tr>\n",
       "      <th>0</th>\n",
       "      <td>1</td>\n",
       "      <td>Emperor</td>\n",
       "      <td>None</td>\n",
       "      <td>2021-02-11 09:47:44</td>\n",
       "      <td>NaT</td>\n",
       "    </tr>\n",
       "    <tr>\n",
       "      <th>1</th>\n",
       "      <td>2</td>\n",
       "      <td>Gatecreeper</td>\n",
       "      <td>None</td>\n",
       "      <td>2021-02-11 09:47:44</td>\n",
       "      <td>2021-02-11 10:16:59</td>\n",
       "    </tr>\n",
       "    <tr>\n",
       "      <th>2</th>\n",
       "      <td>3</td>\n",
       "      <td>Agnosy</td>\n",
       "      <td>None</td>\n",
       "      <td>2021-02-11 09:47:44</td>\n",
       "      <td>NaT</td>\n",
       "    </tr>\n",
       "    <tr>\n",
       "      <th>3</th>\n",
       "      <td>4</td>\n",
       "      <td>Witch Vomit</td>\n",
       "      <td>USA</td>\n",
       "      <td>2021-02-11 09:48:13</td>\n",
       "      <td>2021-02-11 10:00:33</td>\n",
       "    </tr>\n",
       "  </tbody>\n",
       "</table>\n",
       "</div>"
      ],
      "text/plain": [
       "   artist_id  artist_name artist_country          created_at          updated_at\n",
       "0          1      Emperor           None 2021-02-11 09:47:44                 NaT\n",
       "1          2  Gatecreeper           None 2021-02-11 09:47:44 2021-02-11 10:16:59\n",
       "2          3       Agnosy           None 2021-02-11 09:47:44                 NaT\n",
       "3          4  Witch Vomit            USA 2021-02-11 09:48:13 2021-02-11 10:00:33"
      ]
     },
     "execution_count": 25,
     "metadata": {},
     "output_type": "execute_result"
    }
   ],
   "source": [
    "pd.read_sql(\"artists\", engine)"
   ]
  },
  {
   "cell_type": "code",
   "execution_count": 26,
   "metadata": {
    "ExecuteTime": {
     "end_time": "2021-02-12T16:54:43.299933Z",
     "start_time": "2021-02-12T16:54:43.120936Z"
    }
   },
   "outputs": [
    {
     "data": {
      "text/html": [
       "<div>\n",
       "<style scoped>\n",
       "    .dataframe tbody tr th:only-of-type {\n",
       "        vertical-align: middle;\n",
       "    }\n",
       "\n",
       "    .dataframe tbody tr th {\n",
       "        vertical-align: top;\n",
       "    }\n",
       "\n",
       "    .dataframe thead th {\n",
       "        text-align: right;\n",
       "    }\n",
       "</style>\n",
       "<table border=\"1\" class=\"dataframe\">\n",
       "  <thead>\n",
       "    <tr style=\"text-align: right;\">\n",
       "      <th></th>\n",
       "      <th>label_id</th>\n",
       "      <th>label_name</th>\n",
       "      <th>created_at</th>\n",
       "      <th>updated_at</th>\n",
       "    </tr>\n",
       "  </thead>\n",
       "  <tbody>\n",
       "    <tr>\n",
       "      <th>0</th>\n",
       "      <td>1</td>\n",
       "      <td>NA</td>\n",
       "      <td>2021-02-11 09:47:44</td>\n",
       "      <td>NaT</td>\n",
       "    </tr>\n",
       "    <tr>\n",
       "      <th>1</th>\n",
       "      <td>2</td>\n",
       "      <td>Relapse Records</td>\n",
       "      <td>2021-02-11 09:47:44</td>\n",
       "      <td>NaT</td>\n",
       "    </tr>\n",
       "    <tr>\n",
       "      <th>2</th>\n",
       "      <td>3</td>\n",
       "      <td>20 Buck Spin</td>\n",
       "      <td>2021-02-11 09:48:13</td>\n",
       "      <td>NaT</td>\n",
       "    </tr>\n",
       "    <tr>\n",
       "      <th>3</th>\n",
       "      <td>4</td>\n",
       "      <td>Eagle</td>\n",
       "      <td>2021-02-11 10:00:33</td>\n",
       "      <td>NaT</td>\n",
       "    </tr>\n",
       "  </tbody>\n",
       "</table>\n",
       "</div>"
      ],
      "text/plain": [
       "   label_id       label_name          created_at updated_at\n",
       "0         1               NA 2021-02-11 09:47:44        NaT\n",
       "1         2  Relapse Records 2021-02-11 09:47:44        NaT\n",
       "2         3     20 Buck Spin 2021-02-11 09:48:13        NaT\n",
       "3         4            Eagle 2021-02-11 10:00:33        NaT"
      ]
     },
     "execution_count": 26,
     "metadata": {},
     "output_type": "execute_result"
    }
   ],
   "source": [
    "pd.read_sql(\"labels\", engine)"
   ]
  },
  {
   "cell_type": "code",
   "execution_count": 27,
   "metadata": {
    "ExecuteTime": {
     "end_time": "2021-02-12T16:54:43.457934Z",
     "start_time": "2021-02-12T16:54:43.302936Z"
    }
   },
   "outputs": [
    {
     "name": "stdout",
     "output_type": "stream",
     "text": [
      "[<Label(label_id=3, label_name=20 Buck Spin)>, <Label(label_id=4, label_name=Eagle)>]\n"
     ]
    }
   ],
   "source": [
    "for result in session.query(Record).filter(Record.title == \"Poisoned Blood\").all():\n",
    "    print(result.labels)"
   ]
  },
  {
   "cell_type": "code",
   "execution_count": 28,
   "metadata": {
    "ExecuteTime": {
     "end_time": "2021-02-12T16:54:43.637933Z",
     "start_time": "2021-02-12T16:54:43.460935Z"
    }
   },
   "outputs": [
    {
     "name": "stdout",
     "output_type": "stream",
     "text": [
      "<Record(record_id=1, title=s/t, artist_id=1)>\n",
      "<Record(record_id=2, title=Deserted, artist_id=2)>\n"
     ]
    }
   ],
   "source": [
    "for result in session.query(Record).filter(Record.format_id == 1).all():\n",
    "    print(result)"
   ]
  },
  {
   "cell_type": "code",
   "execution_count": 29,
   "metadata": {
    "ExecuteTime": {
     "end_time": "2021-02-12T16:54:43.784931Z",
     "start_time": "2021-02-12T16:54:43.640932Z"
    }
   },
   "outputs": [],
   "source": [
    "# TODO: On Updates the old values are not overwritten in many to many relationships (-->Labels) ... new ones are added\n",
    "# I cound make a correction function that enables updates on many to many entities (labels, genres, artists)"
   ]
  },
  {
   "cell_type": "code",
   "execution_count": 30,
   "metadata": {
    "ExecuteTime": {
     "end_time": "2021-02-12T16:54:43.938930Z",
     "start_time": "2021-02-12T16:54:43.786932Z"
    }
   },
   "outputs": [],
   "source": [
    "session.close()"
   ]
  },
  {
   "cell_type": "markdown",
   "metadata": {},
   "source": [
    "# Export"
   ]
  },
  {
   "cell_type": "code",
   "execution_count": 31,
   "metadata": {
    "ExecuteTime": {
     "end_time": "2021-02-12T16:54:44.091932Z",
     "start_time": "2021-02-12T16:54:43.940933Z"
    }
   },
   "outputs": [
    {
     "name": "stdout",
     "output_type": "stream",
     "text": [
      "<Record(record_id=1, title=s/t, artist_id=1)>\n",
      "<Record(record_id=2, title=Deserted, artist_id=2)>\n",
      "<Record(record_id=3, title=Traits of The Past, artist_id=3)>\n",
      "<Record(record_id=4, title=Poisoned Blood, artist_id=4)>\n"
     ]
    }
   ],
   "source": [
    "for result in session.query(Record).all():\n",
    "    print(result)"
   ]
  },
  {
   "cell_type": "code",
   "execution_count": 32,
   "metadata": {
    "ExecuteTime": {
     "end_time": "2021-02-12T16:54:44.246932Z",
     "start_time": "2021-02-12T16:54:44.094932Z"
    }
   },
   "outputs": [
    {
     "data": {
      "text/plain": [
       "<Record(record_id=4, title=Poisoned Blood, artist_id=4)>"
      ]
     },
     "execution_count": 32,
     "metadata": {},
     "output_type": "execute_result"
    }
   ],
   "source": [
    "result = session.query(Record).filter(Record.record_id == 4).one_or_none()\n",
    "\n",
    "# Check\n",
    "result"
   ]
  },
  {
   "cell_type": "code",
   "execution_count": 33,
   "metadata": {
    "ExecuteTime": {
     "end_time": "2021-02-12T16:54:44.428121Z",
     "start_time": "2021-02-12T16:54:44.250120Z"
    }
   },
   "outputs": [
    {
     "data": {
      "text/plain": [
       "'Witch Vomit'"
      ]
     },
     "execution_count": 33,
     "metadata": {},
     "output_type": "execute_result"
    },
    {
     "data": {
      "text/plain": [
       "'USA'"
      ]
     },
     "execution_count": 33,
     "metadata": {},
     "output_type": "execute_result"
    }
   ],
   "source": [
    "# Note for the first export this is still many-to-one, will change to many-to-many in the future\n",
    "\n",
    "# artist_tuple = (\n",
    "#     session\n",
    "#     .query(Artist.artist_name, Artist.artist_country)\n",
    "#     .join(Record, Record.artist_id == Artist.artist_id)\n",
    "#     .filter(Artist.artist_id == result.artist_id)\n",
    "#     .first()\n",
    "# )            \n",
    "\n",
    "# # Check\n",
    "# print(artist_tuple[0])\n",
    "# print(artist_tuple[1])\n",
    "\n",
    "result.artist.artist_name\n",
    "result.artist.artist_country"
   ]
  },
  {
   "cell_type": "code",
   "execution_count": 34,
   "metadata": {
    "ExecuteTime": {
     "end_time": "2021-02-12T16:54:44.585119Z",
     "start_time": "2021-02-12T16:54:44.431121Z"
    }
   },
   "outputs": [
    {
     "data": {
      "text/plain": [
       "'MLP2'"
      ]
     },
     "execution_count": 34,
     "metadata": {},
     "output_type": "execute_result"
    }
   ],
   "source": [
    "# One-to-many\n",
    "\n",
    "# record_format = (\n",
    "#     session\n",
    "#     .query(RecordFormat.format_name)\n",
    "#     .join(Record, Record.format_id == RecordFormat.format_id)\n",
    "#     .filter(RecordFormat.format_id == result.format_id)\n",
    "#     .first()[0]\n",
    "# )            \n",
    "\n",
    "\n",
    "result.record_format.format_name"
   ]
  },
  {
   "cell_type": "code",
   "execution_count": 35,
   "metadata": {
    "ExecuteTime": {
     "end_time": "2021-02-12T16:54:44.733119Z",
     "start_time": "2021-02-12T16:54:44.588118Z"
    }
   },
   "outputs": [
    {
     "data": {
      "text/plain": [
       "['20 Buck Spin', 'Eagle']"
      ]
     },
     "execution_count": 35,
     "metadata": {},
     "output_type": "execute_result"
    },
    {
     "data": {
      "text/plain": [
       "'20 Buck Spin'"
      ]
     },
     "execution_count": 35,
     "metadata": {},
     "output_type": "execute_result"
    }
   ],
   "source": [
    "# many-to-many\n",
    "\n",
    "# Check\n",
    "[label.label_name for label in result.labels]\n",
    "result.labels[0].label_name"
   ]
  },
  {
   "cell_type": "code",
   "execution_count": 36,
   "metadata": {
    "ExecuteTime": {
     "end_time": "2021-02-12T16:54:44.897116Z",
     "start_time": "2021-02-12T16:54:44.736118Z"
    }
   },
   "outputs": [],
   "source": [
    "record_data_dict = {\n",
    "    \"record_id\": result.record_id,\n",
    "    \"artist\": result.artist.artist_name,  # has to be adapted to many-to-many\n",
    "    \"artist_country\": result.artist.artist_country,  # has to be adapted to many-to-many\n",
    "    \"title\": result.title,\n",
    "    \"genre\": result.genre.genre_name,\n",
    "    \"label\": [label.label_name for label in result.labels],\n",
    "    \"year\": result.year,\n",
    "    \"record_format\": result.record_format.format_name,\n",
    "    \"vinyl_color\": result.vinyl_color,\n",
    "    \"lim_edition\": result.lim_edition,\n",
    "    \"number\": result.number,\n",
    "    \"remarks\": result.remarks,\n",
    "    \"price\": result.price,\n",
    "    \"digitized\": result.digitized,\n",
    "    \"rating\": result.rating, # has to be datapted to one-to-many\n",
    "    \"is_active\": result.active,\n",
    "    \"purchase_date\": result.purchase_date,\n",
    "}"
   ]
  },
  {
   "cell_type": "code",
   "execution_count": 37,
   "metadata": {
    "ExecuteTime": {
     "end_time": "2021-02-12T16:54:45.053120Z",
     "start_time": "2021-02-12T16:54:44.900117Z"
    }
   },
   "outputs": [
    {
     "data": {
      "text/plain": [
       "{'record_id': 4,\n",
       " 'artist': 'Witch Vomit',\n",
       " 'artist_country': 'USA',\n",
       " 'title': 'Poisoned Blood',\n",
       " 'genre': 'Death Metal',\n",
       " 'label': ['20 Buck Spin', 'Eagle'],\n",
       " 'year': 2017,\n",
       " 'record_format': 'MLP2',\n",
       " 'vinyl_color': 'None',\n",
       " 'lim_edition': 'None',\n",
       " 'number': 'None',\n",
       " 'remarks': 'None',\n",
       " 'price': Decimal('15.0000000000'),\n",
       " 'digitized': 1,\n",
       " 'rating': 8,\n",
       " 'is_active': 1,\n",
       " 'purchase_date': datetime.date(2020, 6, 1)}"
      ]
     },
     "execution_count": 37,
     "metadata": {},
     "output_type": "execute_result"
    }
   ],
   "source": [
    "record_data_dict"
   ]
  },
  {
   "cell_type": "code",
   "execution_count": 38,
   "metadata": {
    "ExecuteTime": {
     "end_time": "2021-02-12T16:54:45.226115Z",
     "start_time": "2021-02-12T16:54:45.056120Z"
    }
   },
   "outputs": [],
   "source": [
    "result_list = session.query(Record).order_by(Record.record_id).all()\n",
    "dict_list = []\n",
    "for result in result_list:\n",
    "    record_data_dict = {\n",
    "    \"record_id\": result.record_id,\n",
    "    \"artist\": result.artist.artist_name,  # has to be adapted to many-to-many\n",
    "    \"artist_country\": result.artist.artist_country,  # has to be adapted to many-to-many\n",
    "    \"title\": result.title,\n",
    "    \"genre\": result.genre.genre_name,\n",
    "    \"label\": [label.label_name for label in result.labels],\n",
    "    \"year\": result.year,\n",
    "    \"record_format\": result.record_format.format_name,\n",
    "    \"vinyl_color\": result.vinyl_color,\n",
    "    \"lim_edition\": result.lim_edition,\n",
    "    \"number\": result.number,\n",
    "    \"remarks\": result.remarks,\n",
    "    \"price\": result.price,\n",
    "    \"digitized\": result.digitized,\n",
    "    \"rating\": result.rating, # has to be datapted to one-to-many\n",
    "    \"is_active\": result.active,\n",
    "    \"purchase_date\": result.purchase_date,\n",
    "    }\n",
    "    dict_list.append(record_data_dict)\n",
    "\n",
    "records_df = pd.DataFrame(dict_list, columns=dict_list[0].keys())\n",
    "records_df.set_index('record_id', drop=True, inplace=True) \n",
    "\n",
    "assert records_df.index.is_monotonic_increasing & records_df.index.is_unique"
   ]
  },
  {
   "cell_type": "code",
   "execution_count": 39,
   "metadata": {
    "ExecuteTime": {
     "end_time": "2021-02-12T16:54:45.382120Z",
     "start_time": "2021-02-12T16:54:45.228120Z"
    }
   },
   "outputs": [
    {
     "data": {
      "text/html": [
       "<div>\n",
       "<style scoped>\n",
       "    .dataframe tbody tr th:only-of-type {\n",
       "        vertical-align: middle;\n",
       "    }\n",
       "\n",
       "    .dataframe tbody tr th {\n",
       "        vertical-align: top;\n",
       "    }\n",
       "\n",
       "    .dataframe thead th {\n",
       "        text-align: right;\n",
       "    }\n",
       "</style>\n",
       "<table border=\"1\" class=\"dataframe\">\n",
       "  <thead>\n",
       "    <tr style=\"text-align: right;\">\n",
       "      <th></th>\n",
       "      <th>artist</th>\n",
       "      <th>artist_country</th>\n",
       "      <th>title</th>\n",
       "      <th>genre</th>\n",
       "      <th>label</th>\n",
       "      <th>year</th>\n",
       "      <th>record_format</th>\n",
       "      <th>vinyl_color</th>\n",
       "      <th>lim_edition</th>\n",
       "      <th>number</th>\n",
       "      <th>remarks</th>\n",
       "      <th>price</th>\n",
       "      <th>digitized</th>\n",
       "      <th>rating</th>\n",
       "      <th>is_active</th>\n",
       "      <th>purchase_date</th>\n",
       "    </tr>\n",
       "    <tr>\n",
       "      <th>record_id</th>\n",
       "      <th></th>\n",
       "      <th></th>\n",
       "      <th></th>\n",
       "      <th></th>\n",
       "      <th></th>\n",
       "      <th></th>\n",
       "      <th></th>\n",
       "      <th></th>\n",
       "      <th></th>\n",
       "      <th></th>\n",
       "      <th></th>\n",
       "      <th></th>\n",
       "      <th></th>\n",
       "      <th></th>\n",
       "      <th></th>\n",
       "      <th></th>\n",
       "    </tr>\n",
       "  </thead>\n",
       "  <tbody>\n",
       "    <tr>\n",
       "      <th>1</th>\n",
       "      <td>Emperor</td>\n",
       "      <td>None</td>\n",
       "      <td>s/t</td>\n",
       "      <td>Black Metal</td>\n",
       "      <td>[NA]</td>\n",
       "      <td>1993</td>\n",
       "      <td>MLP</td>\n",
       "      <td>None</td>\n",
       "      <td>None</td>\n",
       "      <td>None</td>\n",
       "      <td>None</td>\n",
       "      <td>190.0000000000</td>\n",
       "      <td>0</td>\n",
       "      <td>nan</td>\n",
       "      <td>0</td>\n",
       "      <td>2014-08-01</td>\n",
       "    </tr>\n",
       "    <tr>\n",
       "      <th>2</th>\n",
       "      <td>Gatecreeper</td>\n",
       "      <td>None</td>\n",
       "      <td>Deserted</td>\n",
       "      <td>Death Metal</td>\n",
       "      <td>[Relapse Records]</td>\n",
       "      <td>2019</td>\n",
       "      <td>MLP</td>\n",
       "      <td>None</td>\n",
       "      <td>100</td>\n",
       "      <td>None</td>\n",
       "      <td>None</td>\n",
       "      <td>70.0000000000</td>\n",
       "      <td>1</td>\n",
       "      <td>8.00</td>\n",
       "      <td>1</td>\n",
       "      <td>2020-01-01</td>\n",
       "    </tr>\n",
       "    <tr>\n",
       "      <th>3</th>\n",
       "      <td>Agnosy</td>\n",
       "      <td>None</td>\n",
       "      <td>Traits of The Past</td>\n",
       "      <td>Crust</td>\n",
       "      <td>[NA]</td>\n",
       "      <td>2014</td>\n",
       "      <td>LP</td>\n",
       "      <td>None</td>\n",
       "      <td>None</td>\n",
       "      <td>None</td>\n",
       "      <td>None</td>\n",
       "      <td>15.0000000000</td>\n",
       "      <td>1</td>\n",
       "      <td>nan</td>\n",
       "      <td>1</td>\n",
       "      <td>2017-08-01</td>\n",
       "    </tr>\n",
       "    <tr>\n",
       "      <th>4</th>\n",
       "      <td>Witch Vomit</td>\n",
       "      <td>USA</td>\n",
       "      <td>Poisoned Blood</td>\n",
       "      <td>Death Metal</td>\n",
       "      <td>[20 Buck Spin, Eagle]</td>\n",
       "      <td>2017</td>\n",
       "      <td>MLP2</td>\n",
       "      <td>None</td>\n",
       "      <td>None</td>\n",
       "      <td>None</td>\n",
       "      <td>None</td>\n",
       "      <td>15.0000000000</td>\n",
       "      <td>1</td>\n",
       "      <td>8.00</td>\n",
       "      <td>1</td>\n",
       "      <td>2020-06-01</td>\n",
       "    </tr>\n",
       "  </tbody>\n",
       "</table>\n",
       "</div>"
      ],
      "text/plain": [
       "                artist artist_country               title        genre                  label  year record_format vinyl_color lim_edition number remarks           price  digitized  rating  is_active purchase_date\n",
       "record_id                                                                                                                                                                                                           \n",
       "1              Emperor           None                 s/t  Black Metal                   [NA]  1993           MLP        None        None   None    None  190.0000000000          0     nan          0    2014-08-01\n",
       "2          Gatecreeper           None            Deserted  Death Metal      [Relapse Records]  2019           MLP        None         100   None    None   70.0000000000          1    8.00          1    2020-01-01\n",
       "3               Agnosy           None  Traits of The Past        Crust                   [NA]  2014            LP        None        None   None    None   15.0000000000          1     nan          1    2017-08-01\n",
       "4          Witch Vomit            USA      Poisoned Blood  Death Metal  [20 Buck Spin, Eagle]  2017          MLP2        None        None   None    None   15.0000000000          1    8.00          1    2020-06-01"
      ]
     },
     "execution_count": 39,
     "metadata": {},
     "output_type": "execute_result"
    }
   ],
   "source": [
    "records_df.head()"
   ]
  },
  {
   "cell_type": "code",
   "execution_count": 40,
   "metadata": {
    "ExecuteTime": {
     "end_time": "2021-02-12T16:54:45.628121Z",
     "start_time": "2021-02-12T16:54:45.385120Z"
    }
   },
   "outputs": [],
   "source": [
    "credit_trx_df = pd.read_sql(\"credit_trx\", engine)\n",
    "credit_trx_df.set_index('credit_trx_id', drop=True, inplace=True) \n",
    "\n",
    "assert credit_trx_df.index.is_monotonic_increasing & credit_trx_df.index.is_unique"
   ]
  },
  {
   "cell_type": "code",
   "execution_count": 41,
   "metadata": {
    "ExecuteTime": {
     "end_time": "2021-02-12T16:54:45.832270Z",
     "start_time": "2021-02-12T16:54:45.631123Z"
    }
   },
   "outputs": [
    {
     "data": {
      "text/html": [
       "<div>\n",
       "<style scoped>\n",
       "    .dataframe tbody tr th:only-of-type {\n",
       "        vertical-align: middle;\n",
       "    }\n",
       "\n",
       "    .dataframe tbody tr th {\n",
       "        vertical-align: top;\n",
       "    }\n",
       "\n",
       "    .dataframe thead th {\n",
       "        text-align: right;\n",
       "    }\n",
       "</style>\n",
       "<table border=\"1\" class=\"dataframe\">\n",
       "  <thead>\n",
       "    <tr style=\"text-align: right;\">\n",
       "      <th></th>\n",
       "      <th>credit_trx_date</th>\n",
       "      <th>credit_trx_type</th>\n",
       "      <th>credit_value</th>\n",
       "      <th>credit_saldo</th>\n",
       "      <th>record_id</th>\n",
       "      <th>created_at</th>\n",
       "      <th>updated_at</th>\n",
       "    </tr>\n",
       "    <tr>\n",
       "      <th>credit_trx_id</th>\n",
       "      <th></th>\n",
       "      <th></th>\n",
       "      <th></th>\n",
       "      <th></th>\n",
       "      <th></th>\n",
       "      <th></th>\n",
       "      <th></th>\n",
       "    </tr>\n",
       "  </thead>\n",
       "  <tbody>\n",
       "    <tr>\n",
       "      <th>1</th>\n",
       "      <td>2014-08-01</td>\n",
       "      <td>Initial Load</td>\n",
       "      <td>0.00</td>\n",
       "      <td>0.00</td>\n",
       "      <td>1.00</td>\n",
       "      <td>2021-02-11 09:47:44</td>\n",
       "      <td>NaT</td>\n",
       "    </tr>\n",
       "    <tr>\n",
       "      <th>2</th>\n",
       "      <td>2020-01-01</td>\n",
       "      <td>Initial Load</td>\n",
       "      <td>0.00</td>\n",
       "      <td>0.00</td>\n",
       "      <td>2.00</td>\n",
       "      <td>2021-02-11 09:47:44</td>\n",
       "      <td>NaT</td>\n",
       "    </tr>\n",
       "    <tr>\n",
       "      <th>3</th>\n",
       "      <td>2017-08-01</td>\n",
       "      <td>Initial Load</td>\n",
       "      <td>0.00</td>\n",
       "      <td>0.00</td>\n",
       "      <td>3.00</td>\n",
       "      <td>2021-02-11 09:47:44</td>\n",
       "      <td>NaT</td>\n",
       "    </tr>\n",
       "    <tr>\n",
       "      <th>4</th>\n",
       "      <td>2021-01-31</td>\n",
       "      <td>Addition</td>\n",
       "      <td>1.00</td>\n",
       "      <td>1.00</td>\n",
       "      <td>nan</td>\n",
       "      <td>2021-02-11 09:47:47</td>\n",
       "      <td>NaT</td>\n",
       "    </tr>\n",
       "    <tr>\n",
       "      <th>5</th>\n",
       "      <td>2021-02-10</td>\n",
       "      <td>Addition</td>\n",
       "      <td>1.00</td>\n",
       "      <td>2.00</td>\n",
       "      <td>nan</td>\n",
       "      <td>2021-02-11 09:47:47</td>\n",
       "      <td>NaT</td>\n",
       "    </tr>\n",
       "  </tbody>\n",
       "</table>\n",
       "</div>"
      ],
      "text/plain": [
       "              credit_trx_date credit_trx_type  credit_value  credit_saldo  record_id          created_at updated_at\n",
       "credit_trx_id                                                                                                      \n",
       "1                  2014-08-01    Initial Load          0.00          0.00       1.00 2021-02-11 09:47:44        NaT\n",
       "2                  2020-01-01    Initial Load          0.00          0.00       2.00 2021-02-11 09:47:44        NaT\n",
       "3                  2017-08-01    Initial Load          0.00          0.00       3.00 2021-02-11 09:47:44        NaT\n",
       "4                  2021-01-31        Addition          1.00          1.00        nan 2021-02-11 09:47:47        NaT\n",
       "5                  2021-02-10        Addition          1.00          2.00        nan 2021-02-11 09:47:47        NaT"
      ]
     },
     "execution_count": 41,
     "metadata": {},
     "output_type": "execute_result"
    }
   ],
   "source": [
    "credit_trx_df.head()"
   ]
  },
  {
   "cell_type": "code",
   "execution_count": 85,
   "metadata": {
    "ExecuteTime": {
     "end_time": "2021-02-12T20:46:43.744756Z",
     "start_time": "2021-02-12T20:46:43.573770Z"
    }
   },
   "outputs": [],
   "source": [
    "from typing import Tuple\n",
    "\n",
    "def export_db_data_to_2_parquet_files(session, engine, config_path):\n",
    "    \"\"\"Create 2 tabular parquet files, one with record-related\n",
    "    data (incl. information on artists, genres, labels), and one that \n",
    "    is a copy of the `credit_trx` table. With help of these files the \n",
    "    database can be repopulated after a complete reset.\n",
    "    \"\"\"\n",
    "    \n",
    "    record_df_tuple = _save_record_related_data_to_df(session)\n",
    "    credit_trx_df_tuple = _save_credit_trx_table_to_df(engine)\n",
    "    \n",
    "    for df_tuple in [record_df_tuple, credit_trx_df_tuple]:\n",
    "        _save_df_to_parquet(df_tuple, config_path)\n",
    "    \n",
    "    \n",
    "def _save_record_related_data_to_df(session) -> Tuple[str, pd.DataFrame]:\n",
    "    \"\"\"Save all record-related data to Pandas Dataframe and return a tuple\n",
    "    with a dataframe name string and the dataframe. Called within \n",
    "    `export_db_data_to_2_parquet_files`.\n",
    "    \"\"\"\n",
    "    result_list = session.query(Record).order_by(Record.record_id).all()\n",
    "    dict_list = []\n",
    "    \n",
    "    for result in result_list:\n",
    "        record_data_dict = {\n",
    "        \"record_id\": result.record_id,\n",
    "        \"artist\": result.artist.artist_name,  # TODO: has to be adapted to many-to-many\n",
    "        \"artist_country\": result.artist.artist_country,  #TODO: has to be adapted to many-to-many\n",
    "        \"title\": result.title,\n",
    "        \"genre\": result.genre.genre_name,\n",
    "        \"label\": [label.label_name for label in result.labels],\n",
    "        \"year\": result.year,\n",
    "        \"record_format\": result.record_format.format_name,\n",
    "        \"vinyl_color\": result.vinyl_color,\n",
    "        \"lim_edition\": result.lim_edition,\n",
    "        \"number\": result.number,\n",
    "        \"remarks\": result.remarks,\n",
    "        \"price\": result.price,\n",
    "        \"digitized\": result.digitized,\n",
    "        \"rating\": result.rating, # TODO: has to be datapted to one-to-many\n",
    "        \"is_active\": result.active,\n",
    "        \"purchase_date\": result.purchase_date,\n",
    "        }\n",
    "        dict_list.append(record_data_dict)\n",
    "\n",
    "    records_df = pd.DataFrame(dict_list, columns=dict_list[0].keys())\n",
    "    records_df.set_index('record_id', drop=True, inplace=True) \n",
    "    df_name = \"record_data\"\n",
    "\n",
    "    if not records_df.index.is_monotonic_increasing and not records_df.index.is_unique:\n",
    "        raise AssertionError(\"record_ids are messed up, please check data.\")\n",
    "    \n",
    "    return df_name, records_df\n",
    "\n",
    "    \n",
    "def _save_credit_trx_table_to_df(engine) -> Tuple[str, pd.DataFrame]:\n",
    "    \"\"\"Copy credit_trx_table to Pandas Dataframe and return a tuple\n",
    "    with a dataframe name string and the dataframe. Called within \n",
    "    `export_db_data_to_2_parquet_files`.\n",
    "    \"\"\"\n",
    "    credit_trx_df = pd.read_sql(\"credit_trx\", engine)\n",
    "    credit_trx_df.set_index('credit_trx_id', drop=True, inplace=True)\n",
    "    df_name = \"trx_data\"\n",
    "\n",
    "    if not credit_trx_df.index.is_monotonic_increasing and not credit_trx_df.index.is_unique:\n",
    "        raise AssertionError(\"record_ids are messed up, please check data.\")\n",
    "\n",
    "    return df_name, credit_trx_df\n",
    "\n",
    "\n",
    "def _save_df_to_parquet(df_tuple: Tuple[str, pd.DataFrame], config_path: Path):\n",
    "    \"\"\"Create date and timestamped directory and file name at path\n",
    "    defined in config.yaml and save dataframe as back-up to parquet.\n",
    "    Called within `export_db_data_to_2_parquet_files`.\n",
    "    \"\"\"\n",
    "    df_name, df = df_tuple\n",
    "    date_stamp = dt.datetime.strftime(dt.datetime.now(), \"%Y-%m-%d\")\n",
    "    datetime_stamp = dt.datetime.strftime(dt.datetime.now(), \"%Y-%m-%d-%H-%M-%S\")\n",
    "\n",
    "    back_up_params = db_connect.read_yaml(CONFIG_PATH, \"BACK_UP\")\n",
    "    rel_path = back_up_params[\"REL_PATH\"]\n",
    "    target = Path.cwd() / rel_path / f\"{date_stamp}\"\n",
    "    Path.mkdir(target, parents=True, exist_ok=True)\n",
    "\n",
    "    full_path = target / f\"{df_name}_{datetime_stamp}.parquet\"\n",
    "    df.to_parquet(full_path)"
   ]
  }
 ],
 "metadata": {
  "hide_input": false,
  "kernelspec": {
   "display_name": "Python 3",
   "language": "python",
   "name": "python3"
  },
  "language_info": {
   "codemirror_mode": {
    "name": "ipython",
    "version": 3
   },
   "file_extension": ".py",
   "mimetype": "text/x-python",
   "name": "python",
   "nbconvert_exporter": "python",
   "pygments_lexer": "ipython3",
   "version": "3.8.3"
  },
  "toc": {
   "base_numbering": 1,
   "nav_menu": {},
   "number_sections": true,
   "sideBar": false,
   "skip_h1_title": true,
   "title_cell": "Table of Contents",
   "title_sidebar": "Contents",
   "toc_cell": false,
   "toc_position": {},
   "toc_section_display": true,
   "toc_window_display": false
  }
 },
 "nbformat": 4,
 "nbformat_minor": 4
}
