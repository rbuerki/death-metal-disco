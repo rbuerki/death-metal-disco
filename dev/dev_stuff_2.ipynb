{
 "cells": [
  {
   "cell_type": "code",
   "execution_count": 1,
   "metadata": {
    "ExecuteTime": {
     "end_time": "2021-01-18T12:41:16.345600Z",
     "start_time": "2021-01-18T12:41:11.242601Z"
    }
   },
   "outputs": [],
   "source": [
    "import configparser\n",
    "import datetime as dt\n",
    "import sys\n",
    "import collections\n",
    "from pathlib import Path\n",
    "from typing import Union, Optional, List, Tuple\n",
    "\n",
    "import codebook.EDA as EDA\n",
    "import codebook.clean as clean\n",
    "import numpy as np\n",
    "import pandas as pd\n",
    "import matplotlib.pyplot as plt\n",
    "import seaborn as sns\n",
    "import sqlalchemy\n",
    "from sqlalchemy import func, distinct"
   ]
  },
  {
   "cell_type": "code",
   "execution_count": 2,
   "metadata": {
    "ExecuteTime": {
     "end_time": "2021-01-18T12:41:16.534596Z",
     "start_time": "2021-01-18T12:41:16.348600Z"
    }
   },
   "outputs": [],
   "source": [
    "%load_ext autoreload\n",
    "%autoreload 2\n",
    "\n",
    "%matplotlib inline\n",
    "plt.style.use('raph-base')\n",
    "\n",
    "from IPython.core.interactiveshell import InteractiveShell\n",
    "InteractiveShell.ast_node_interactivity = 'all'\n",
    "\n",
    "pd.options.display.float_format = '{:,.2f}'.format\n",
    "pd.set_option('display.max_columns', 30)\n",
    "pd.set_option('display.expand_frame_repr', False)\n",
    "pd.set_option('max_colwidth', 800)\n",
    "\n",
    "np.random.seed(666)"
   ]
  },
  {
   "cell_type": "code",
   "execution_count": 3,
   "metadata": {
    "ExecuteTime": {
     "end_time": "2021-01-18T12:41:16.819601Z",
     "start_time": "2021-01-18T12:41:16.537606Z"
    }
   },
   "outputs": [],
   "source": [
    "sys.path.append(str(Path.cwd().parent))\n",
    "\n",
    "from src.db_declaration import Base, Artist, CreditTrx, Genre, Label, Record, RecordFormat\n",
    "from src import db_functions\n",
    "from src import utils"
   ]
  },
  {
   "cell_type": "code",
   "execution_count": 4,
   "metadata": {
    "ExecuteTime": {
     "end_time": "2021-01-18T12:41:16.984601Z",
     "start_time": "2021-01-18T12:41:16.822604Z"
    }
   },
   "outputs": [
    {
     "name": "stdout",
     "output_type": "stream",
     "text": [
      "C:\\Users\\r2d4\\miniconda3\\envs\\py3\\python.exe\n",
      "3.8.3 (default, May 19 2020, 06:50:17) [MSC v.1916 64 bit (AMD64)]\n",
      "sqlalchemy 1.3.17\n"
     ]
    }
   ],
   "source": [
    "print(sys.executable)\n",
    "print(sys.version)\n",
    "print(f'sqlalchemy {sqlalchemy.__version__}')"
   ]
  },
  {
   "cell_type": "markdown",
   "metadata": {
    "ExecuteTime": {
     "end_time": "2020-12-23T06:08:49.546499Z",
     "start_time": "2020-12-23T06:08:49.412497Z"
    }
   },
   "source": [
    "## Connect To And (Re-)Create DB"
   ]
  },
  {
   "cell_type": "code",
   "execution_count": 5,
   "metadata": {
    "ExecuteTime": {
     "end_time": "2021-01-18T12:41:17.144596Z",
     "start_time": "2021-01-18T12:41:16.987603Z"
    }
   },
   "outputs": [],
   "source": [
    "CONFIG_PATH = Path.cwd().parent / \"config.cfg\""
   ]
  },
  {
   "cell_type": "code",
   "execution_count": 6,
   "metadata": {
    "ExecuteTime": {
     "end_time": "2021-01-18T12:41:17.494600Z",
     "start_time": "2021-01-18T12:41:17.148599Z"
    }
   },
   "outputs": [
    {
     "name": "stdout",
     "output_type": "stream",
     "text": [
      "C:\\Users\\r2d4\\OneDrive\\code\\projects\\20-02_disco\\dev\\DeafDiscoBase.db\n"
     ]
    }
   ],
   "source": [
    "path_to_db = utils.read_config_return_str(CONFIG_PATH, \"SQLITE_DEV\")\n",
    "engine = utils.create_engine(path_to_db)\n",
    "session = utils.create_session(engine)\n",
    "utils.create_DB_anew(engine, Base)"
   ]
  },
  {
   "cell_type": "code",
   "execution_count": 7,
   "metadata": {
    "ExecuteTime": {
     "end_time": "2021-01-18T12:41:17.790602Z",
     "start_time": "2021-01-18T12:41:17.497601Z"
    }
   },
   "outputs": [],
   "source": [
    "def load_some_albums_from_xlsx(\n",
    "    filepath: Union[Path, str],\n",
    "    n: int=3,\n",
    "    random_state: int=5,\n",
    ") -> pd.DataFrame:\n",
    "    \"\"\"Load the original album collection file into a dataframe.\n",
    "    You can specify a list of genres you want to include\n",
    "    (defaults to None).\n",
    "    \"\"\"\n",
    "    df = pd.read_excel(filepath, engine=\"openpyxl\")\n",
    "    return df.sample(n=n, random_state=random_state)\n",
    "\n",
    "\n",
    "def clean_collection(collection_df):\n",
    "    collection_df = clean.prettify_column_names(collection_df)\n",
    "    collection_df.dropna(thresh=8, inplace=True)\n",
    "    collection_df.rename(columns={\"format\": \"record_format\"}, inplace=True)\n",
    "    collection_df[\"label\"].fillna(\"NA\", inplace=True)  # because it creates a foreign key\n",
    "    collection_df[\"vinyl_color\"] = np.nan  # just for aesthetics ...\n",
    "    collection_df[\"artist_country\"] = None\n",
    "    collection_df[\"credit_value\"] = 0\n",
    "    collection_df[\"trx_type\"] = \"Initial Load\"\n",
    "    return collection_df"
   ]
  },
  {
   "cell_type": "code",
   "execution_count": 8,
   "metadata": {
    "ExecuteTime": {
     "end_time": "2021-01-18T12:41:19.582602Z",
     "start_time": "2021-01-18T12:41:17.793601Z"
    }
   },
   "outputs": [],
   "source": [
    "path_to_collection = utils.read_config_return_str(CONFIG_PATH, \"COLLECTION\")\n",
    "collection_df = load_some_albums_from_xlsx(path_to_collection)\n",
    "collection_df = clean_collection(collection_df)"
   ]
  },
  {
   "cell_type": "code",
   "execution_count": 9,
   "metadata": {
    "ExecuteTime": {
     "end_time": "2021-01-18T12:41:19.815604Z",
     "start_time": "2021-01-18T12:41:19.589597Z"
    }
   },
   "outputs": [
    {
     "data": {
      "text/html": [
       "<div>\n",
       "<style scoped>\n",
       "    .dataframe tbody tr th:only-of-type {\n",
       "        vertical-align: middle;\n",
       "    }\n",
       "\n",
       "    .dataframe tbody tr th {\n",
       "        vertical-align: top;\n",
       "    }\n",
       "\n",
       "    .dataframe thead th {\n",
       "        text-align: right;\n",
       "    }\n",
       "</style>\n",
       "<table border=\"1\" class=\"dataframe\">\n",
       "  <thead>\n",
       "    <tr style=\"text-align: right;\">\n",
       "      <th></th>\n",
       "      <th>active</th>\n",
       "      <th>artist</th>\n",
       "      <th>title</th>\n",
       "      <th>record_format</th>\n",
       "      <th>year</th>\n",
       "      <th>genre</th>\n",
       "      <th>price</th>\n",
       "      <th>purchase_date</th>\n",
       "      <th>vinyl_color</th>\n",
       "      <th>lim_edition</th>\n",
       "      <th>number</th>\n",
       "      <th>label</th>\n",
       "      <th>digitized</th>\n",
       "      <th>remarks</th>\n",
       "      <th>rating</th>\n",
       "      <th>artist_country</th>\n",
       "      <th>credit_value</th>\n",
       "      <th>trx_type</th>\n",
       "    </tr>\n",
       "  </thead>\n",
       "  <tbody>\n",
       "    <tr>\n",
       "      <th>28</th>\n",
       "      <td>1.00</td>\n",
       "      <td>Emperor</td>\n",
       "      <td>s/t</td>\n",
       "      <td>MLP</td>\n",
       "      <td>1,993.00</td>\n",
       "      <td>Black Metal</td>\n",
       "      <td>190.00</td>\n",
       "      <td>2014-08-01</td>\n",
       "      <td>nan</td>\n",
       "      <td>NaN</td>\n",
       "      <td>NaN</td>\n",
       "      <td>NA</td>\n",
       "      <td>False</td>\n",
       "      <td>NaN</td>\n",
       "      <td>nan</td>\n",
       "      <td>None</td>\n",
       "      <td>0</td>\n",
       "      <td>Initial Load</td>\n",
       "    </tr>\n",
       "    <tr>\n",
       "      <th>244</th>\n",
       "      <td>1.00</td>\n",
       "      <td>Gatecreeper</td>\n",
       "      <td>Deserted</td>\n",
       "      <td>LP</td>\n",
       "      <td>2,019.00</td>\n",
       "      <td>Death Metal</td>\n",
       "      <td>70.00</td>\n",
       "      <td>2020-01-01</td>\n",
       "      <td>nan</td>\n",
       "      <td>100</td>\n",
       "      <td>NaN</td>\n",
       "      <td>Relapse Records</td>\n",
       "      <td>True</td>\n",
       "      <td>NaN</td>\n",
       "      <td>8.00</td>\n",
       "      <td>None</td>\n",
       "      <td>0</td>\n",
       "      <td>Initial Load</td>\n",
       "    </tr>\n",
       "    <tr>\n",
       "      <th>123</th>\n",
       "      <td>1.00</td>\n",
       "      <td>Agnosy</td>\n",
       "      <td>Traits of The Past</td>\n",
       "      <td>LP</td>\n",
       "      <td>2,014.00</td>\n",
       "      <td>Crust</td>\n",
       "      <td>15.00</td>\n",
       "      <td>2017-08-01</td>\n",
       "      <td>nan</td>\n",
       "      <td>NaN</td>\n",
       "      <td>NaN</td>\n",
       "      <td>NA</td>\n",
       "      <td>True</td>\n",
       "      <td>NaN</td>\n",
       "      <td>nan</td>\n",
       "      <td>None</td>\n",
       "      <td>0</td>\n",
       "      <td>Initial Load</td>\n",
       "    </tr>\n",
       "  </tbody>\n",
       "</table>\n",
       "</div>"
      ],
      "text/plain": [
       "     active       artist               title record_format     year        genre  price purchase_date  vinyl_color lim_edition number            label digitized remarks  rating artist_country  credit_value      trx_type\n",
       "28     1.00      Emperor                 s/t           MLP 1,993.00  Black Metal 190.00    2014-08-01          nan         NaN    NaN               NA     False     NaN     nan           None             0  Initial Load\n",
       "244    1.00  Gatecreeper            Deserted            LP 2,019.00  Death Metal  70.00    2020-01-01          nan         100    NaN  Relapse Records      True     NaN    8.00           None             0  Initial Load\n",
       "123    1.00       Agnosy  Traits of The Past            LP 2,014.00        Crust  15.00    2017-08-01          nan         NaN    NaN               NA      True     NaN     nan           None             0  Initial Load"
      ]
     },
     "execution_count": 9,
     "metadata": {},
     "output_type": "execute_result"
    }
   ],
   "source": [
    "collection_df"
   ]
  },
  {
   "cell_type": "code",
   "execution_count": 10,
   "metadata": {
    "ExecuteTime": {
     "end_time": "2021-01-18T12:41:20.155114Z",
     "start_time": "2021-01-18T12:41:19.820603Z"
    }
   },
   "outputs": [
    {
     "data": {
      "text/plain": [
       "{'active': 1.0,\n",
       " 'artist': 'Witch Vomit',\n",
       " 'title': 'Poisoned Blood',\n",
       " 'record_format': 'MLP',\n",
       " 'year': 2017.0,\n",
       " 'genre': 'Death Metal',\n",
       " 'price': 15.0,\n",
       " 'purchase_date': Timestamp('2020-06-01 00:00:00'),\n",
       " 'vinyl_color': nan,\n",
       " 'lim_edition': nan,\n",
       " 'number': nan,\n",
       " 'label': '20 Buck Spin',\n",
       " 'digitized': True,\n",
       " 'remarks': nan,\n",
       " 'rating': 8.0,\n",
       " 'artist_country': None,\n",
       " 'credit_value': 1,\n",
       " 'trx_type': 'Purchase'}"
      ]
     },
     "execution_count": 10,
     "metadata": {},
     "output_type": "execute_result"
    }
   ],
   "source": [
    "# Create an additional test_record\n",
    "\n",
    "test_record = load_some_albums_from_xlsx(path_to_collection, 1, 1)\n",
    "test_record = clean_collection(test_record)\n",
    "test_record = test_record.to_dict(orient=\"records\")[0]\n",
    "test_record[\"trx_type\"] = \"Purchase\"\n",
    "test_record[\"credit_value\"] = 1\n",
    "test_record"
   ]
  },
  {
   "cell_type": "markdown",
   "metadata": {
    "ExecuteTime": {
     "end_time": "2020-12-23T21:50:04.810370Z",
     "start_time": "2020-12-23T21:50:04.664351Z"
    }
   },
   "source": [
    "### Initial Load of 3 Records"
   ]
  },
  {
   "cell_type": "code",
   "execution_count": 11,
   "metadata": {
    "ExecuteTime": {
     "end_time": "2021-01-18T12:41:20.363123Z",
     "start_time": "2021-01-18T12:41:20.158114Z"
    }
   },
   "outputs": [],
   "source": [
    "def insert_df_with_sqlalchemy_orm(session, df):\n",
    "    for x in df.to_dict(\"records\"):\n",
    "        db_functions.add_new_record(session, x)"
   ]
  },
  {
   "cell_type": "code",
   "execution_count": 12,
   "metadata": {
    "ExecuteTime": {
     "end_time": "2021-01-18T12:41:20.709114Z",
     "start_time": "2021-01-18T12:41:20.368115Z"
    }
   },
   "outputs": [
    {
     "name": "stderr",
     "output_type": "stream",
     "text": [
      "C:\\Users\\r2d4\\miniconda3\\envs\\py3\\lib\\site-packages\\sqlalchemy\\sql\\sqltypes.py:660: SAWarning: Dialect sqlite+pysqlite does *not* support Decimal objects natively, and SQLAlchemy must convert from floating point - rounding errors and other issues may occur. Please consider storing Decimal numbers as strings or integers on this platform for lossless storage.\n",
      "  util.warn(\n"
     ]
    }
   ],
   "source": [
    "insert_df_with_sqlalchemy_orm(session, collection_df)\n",
    "\n",
    "assert session.query(Record).count() == 3"
   ]
  },
  {
   "cell_type": "markdown",
   "metadata": {},
   "source": [
    "### Insertion of 2 Credit Addition Trx"
   ]
  },
  {
   "cell_type": "code",
   "execution_count": 13,
   "metadata": {
    "ExecuteTime": {
     "end_time": "2021-01-18T12:41:20.984115Z",
     "start_time": "2021-01-18T12:41:20.712117Z"
    }
   },
   "outputs": [],
   "source": [
    "# to_delete = session.query(CreditTrx).filter(CreditTrx.credit_trx_id == 8).one()\n",
    "# session.delete(to_delete)\n",
    "# session.commit()"
   ]
  },
  {
   "cell_type": "code",
   "execution_count": 14,
   "metadata": {
    "ExecuteTime": {
     "end_time": "2021-01-18T12:41:21.194111Z",
     "start_time": "2021-01-18T12:41:20.987126Z"
    }
   },
   "outputs": [
    {
     "name": "stdout",
     "output_type": "stream",
     "text": [
      "Creating 'Addition' Trx for: 2021-01-17\n"
     ]
    }
   ],
   "source": [
    "# Initial trx, 11 days ago\n",
    "\n",
    "addition_trx = CreditTrx(\n",
    "    credit_trx_date=dt.datetime.today().date() - dt.timedelta(11),\n",
    "    credit_trx_type=\"Addition\",\n",
    "    credit_value=1,\n",
    "    credit_saldo=1,\n",
    "    record_id=np.nan\n",
    ")\n",
    "session.add(addition_trx)\n",
    "\n",
    "# And a regular interval addition\n",
    "db_functions.add_regular_credits(session)\n",
    "\n",
    "session.commit()"
   ]
  },
  {
   "cell_type": "code",
   "execution_count": 15,
   "metadata": {
    "ExecuteTime": {
     "end_time": "2021-01-18T12:41:21.375114Z",
     "start_time": "2021-01-18T12:41:21.197113Z"
    }
   },
   "outputs": [
    {
     "data": {
      "text/plain": [
       "[<CreditTrx(credit_trx_id=1, credit_trx_date=2014-08-01, credit_trx_type=Initial Load, credit_value=0.0, credit_saldo=0.0, record_id=1)>,\n",
       " <CreditTrx(credit_trx_id=2, credit_trx_date=2020-01-01, credit_trx_type=Initial Load, credit_value=0.0, credit_saldo=0.0, record_id=2)>,\n",
       " <CreditTrx(credit_trx_id=3, credit_trx_date=2017-08-01, credit_trx_type=Initial Load, credit_value=0.0, credit_saldo=0.0, record_id=3)>,\n",
       " <CreditTrx(credit_trx_id=4, credit_trx_date=2021-01-07, credit_trx_type=Addition, credit_value=1.0, credit_saldo=1.0, record_id=None)>,\n",
       " <CreditTrx(credit_trx_id=5, credit_trx_date=2021-01-17, credit_trx_type=Addition, credit_value=1.0, credit_saldo=2.0, record_id=None)>]"
      ]
     },
     "execution_count": 15,
     "metadata": {},
     "output_type": "execute_result"
    }
   ],
   "source": [
    "session.query(CreditTrx).all()"
   ]
  },
  {
   "cell_type": "markdown",
   "metadata": {},
   "source": [
    "### Insertion of new Record"
   ]
  },
  {
   "cell_type": "code",
   "execution_count": 16,
   "metadata": {
    "ExecuteTime": {
     "end_time": "2021-01-18T12:41:21.589115Z",
     "start_time": "2021-01-18T12:41:21.378112Z"
    }
   },
   "outputs": [],
   "source": [
    "db_functions.add_new_record(session, test_record)\n",
    "\n",
    "assert session.query(Record).count() == 4"
   ]
  },
  {
   "cell_type": "code",
   "execution_count": 17,
   "metadata": {
    "ExecuteTime": {
     "end_time": "2021-01-18T12:41:21.758116Z",
     "start_time": "2021-01-18T12:41:21.592113Z"
    }
   },
   "outputs": [
    {
     "data": {
      "text/plain": [
       "[<CreditTrx(credit_trx_id=5, credit_trx_date=2021-01-17, credit_trx_type=Addition, credit_value=1.0, credit_saldo=2.0, record_id=None)>,\n",
       " <CreditTrx(credit_trx_id=6, credit_trx_date=2020-06-01, credit_trx_type=Purchase, credit_value=-1.0, credit_saldo=1.0, record_id=4)>]"
      ]
     },
     "execution_count": 17,
     "metadata": {},
     "output_type": "execute_result"
    }
   ],
   "source": [
    "session.query(CreditTrx).all()[-2:]"
   ]
  },
  {
   "cell_type": "markdown",
   "metadata": {},
   "source": [
    "### Removal of Existing Record\n",
    "\n",
    "Necessary cols: trx_type, credit_value, title, artist, date"
   ]
  },
  {
   "cell_type": "code",
   "execution_count": 20,
   "metadata": {
    "ExecuteTime": {
     "end_time": "2021-01-18T12:42:06.350476Z",
     "start_time": "2021-01-18T12:42:06.188476Z"
    }
   },
   "outputs": [],
   "source": [
    "test_removal = {\n",
    "    \"trx_type\": \"Remove\",\n",
    "    \"credit_value\": 1,\n",
    "    \"artist\": \"Emperor\",\n",
    "    \"title\": \"s/t\",\n",
    "#     \"year\": 1993,\n",
    "    \"date\": dt.datetime.today().date()\n",
    "}"
   ]
  },
  {
   "cell_type": "code",
   "execution_count": 21,
   "metadata": {
    "ExecuteTime": {
     "end_time": "2021-01-18T12:42:06.994996Z",
     "start_time": "2021-01-18T12:42:06.795478Z"
    }
   },
   "outputs": [
    {
     "name": "stdout",
     "output_type": "stream",
     "text": [
      "Record set to inactive.\n"
     ]
    }
   ],
   "source": [
    "db_functions.set_record_to_inactive(session, test_removal)"
   ]
  },
  {
   "cell_type": "code",
   "execution_count": 22,
   "metadata": {
    "ExecuteTime": {
     "end_time": "2021-01-18T12:42:13.556118Z",
     "start_time": "2021-01-18T12:42:13.387119Z"
    }
   },
   "outputs": [
    {
     "data": {
      "text/plain": [
       "[(2)]"
      ]
     },
     "execution_count": 22,
     "metadata": {},
     "output_type": "execute_result"
    },
    {
     "data": {
      "text/plain": [
       "[(1), (3)]"
      ]
     },
     "execution_count": 22,
     "metadata": {},
     "output_type": "execute_result"
    }
   ],
   "source": [
    "session.query(func.count(distinct(Record.active))).all()\n",
    "session.query(func.count(Record.record_id)).group_by(Record.active).all()"
   ]
  },
  {
   "cell_type": "code",
   "execution_count": 33,
   "metadata": {
    "ExecuteTime": {
     "end_time": "2021-01-18T13:06:26.694504Z",
     "start_time": "2021-01-18T13:06:26.540980Z"
    }
   },
   "outputs": [
    {
     "data": {
      "text/plain": [
       "[<CreditTrx(credit_trx_id=7, credit_trx_date=2021-01-18, credit_trx_type=Remove, credit_value=1.0, credit_saldo=2.0, record_id=1)>,\n",
       " <CreditTrx(credit_trx_id=8, credit_trx_date=2021-01-18, credit_trx_type=Remove, credit_value=1.0, credit_saldo=3.0, record_id=2)>,\n",
       " <CreditTrx(credit_trx_id=9, credit_trx_date=2021-01-18, credit_trx_type=Remove, credit_value=0.0, credit_saldo=3.0, record_id=4)>]"
      ]
     },
     "execution_count": 33,
     "metadata": {},
     "output_type": "execute_result"
    }
   ],
   "source": [
    "session.query(CreditTrx).all()[-3:]"
   ]
  },
  {
   "cell_type": "markdown",
   "metadata": {},
   "source": [
    "### Reactivation of inactive Record [OPEN]"
   ]
  },
  {
   "cell_type": "code",
   "execution_count": 24,
   "metadata": {
    "ExecuteTime": {
     "end_time": "2021-01-18T12:42:27.281120Z",
     "start_time": "2021-01-18T12:42:27.117122Z"
    }
   },
   "outputs": [],
   "source": [
    "# ATTENTION It has to be possible ro re-add inactive records! (and to pay for it in credits!)"
   ]
  },
  {
   "cell_type": "markdown",
   "metadata": {},
   "source": [
    "## Query DB"
   ]
  },
  {
   "cell_type": "code",
   "execution_count": 32,
   "metadata": {
    "ExecuteTime": {
     "end_time": "2021-01-18T13:06:20.893199Z",
     "start_time": "2021-01-18T13:06:20.614201Z"
    }
   },
   "outputs": [
    {
     "data": {
      "text/html": [
       "<div>\n",
       "<style scoped>\n",
       "    .dataframe tbody tr th:only-of-type {\n",
       "        vertical-align: middle;\n",
       "    }\n",
       "\n",
       "    .dataframe tbody tr th {\n",
       "        vertical-align: top;\n",
       "    }\n",
       "\n",
       "    .dataframe thead th {\n",
       "        text-align: right;\n",
       "    }\n",
       "</style>\n",
       "<table border=\"1\" class=\"dataframe\">\n",
       "  <thead>\n",
       "    <tr style=\"text-align: right;\">\n",
       "      <th></th>\n",
       "      <th>record_id</th>\n",
       "      <th>artist_id</th>\n",
       "      <th>title</th>\n",
       "      <th>genre_id</th>\n",
       "      <th>label</th>\n",
       "      <th>year</th>\n",
       "      <th>format_id</th>\n",
       "      <th>vinyl_color</th>\n",
       "      <th>lim_edition</th>\n",
       "      <th>number</th>\n",
       "      <th>remarks</th>\n",
       "      <th>purchase_date</th>\n",
       "      <th>price</th>\n",
       "      <th>digitized</th>\n",
       "      <th>rating</th>\n",
       "      <th>active</th>\n",
       "      <th>created_at</th>\n",
       "      <th>updated_at</th>\n",
       "    </tr>\n",
       "  </thead>\n",
       "  <tbody>\n",
       "    <tr>\n",
       "      <th>0</th>\n",
       "      <td>1</td>\n",
       "      <td>1</td>\n",
       "      <td>s/t</td>\n",
       "      <td>1</td>\n",
       "      <td>None</td>\n",
       "      <td>1993</td>\n",
       "      <td>1</td>\n",
       "      <td>None</td>\n",
       "      <td>None</td>\n",
       "      <td>None</td>\n",
       "      <td>None</td>\n",
       "      <td>2014-08-01</td>\n",
       "      <td>190</td>\n",
       "      <td>0</td>\n",
       "      <td>nan</td>\n",
       "      <td>0</td>\n",
       "      <td>2021-01-18 12:41:20</td>\n",
       "      <td>2021-01-18 12:42:06</td>\n",
       "    </tr>\n",
       "    <tr>\n",
       "      <th>1</th>\n",
       "      <td>2</td>\n",
       "      <td>2</td>\n",
       "      <td>Deserted</td>\n",
       "      <td>2</td>\n",
       "      <td>None</td>\n",
       "      <td>2019</td>\n",
       "      <td>2</td>\n",
       "      <td>None</td>\n",
       "      <td>100</td>\n",
       "      <td>None</td>\n",
       "      <td>None</td>\n",
       "      <td>2020-01-01</td>\n",
       "      <td>70</td>\n",
       "      <td>1</td>\n",
       "      <td>8.00</td>\n",
       "      <td>0</td>\n",
       "      <td>2021-01-18 12:41:20</td>\n",
       "      <td>2021-01-18 12:52:43</td>\n",
       "    </tr>\n",
       "    <tr>\n",
       "      <th>2</th>\n",
       "      <td>3</td>\n",
       "      <td>3</td>\n",
       "      <td>Traits of The Past</td>\n",
       "      <td>3</td>\n",
       "      <td>None</td>\n",
       "      <td>2014</td>\n",
       "      <td>2</td>\n",
       "      <td>None</td>\n",
       "      <td>None</td>\n",
       "      <td>None</td>\n",
       "      <td>None</td>\n",
       "      <td>2017-08-01</td>\n",
       "      <td>15</td>\n",
       "      <td>1</td>\n",
       "      <td>nan</td>\n",
       "      <td>1</td>\n",
       "      <td>2021-01-18 12:41:20</td>\n",
       "      <td>NaT</td>\n",
       "    </tr>\n",
       "    <tr>\n",
       "      <th>3</th>\n",
       "      <td>4</td>\n",
       "      <td>4</td>\n",
       "      <td>Poisoned Blood</td>\n",
       "      <td>2</td>\n",
       "      <td>None</td>\n",
       "      <td>2017</td>\n",
       "      <td>1</td>\n",
       "      <td>None</td>\n",
       "      <td>None</td>\n",
       "      <td>None</td>\n",
       "      <td>None</td>\n",
       "      <td>2020-06-01</td>\n",
       "      <td>15</td>\n",
       "      <td>1</td>\n",
       "      <td>8.00</td>\n",
       "      <td>0</td>\n",
       "      <td>2021-01-18 12:41:21</td>\n",
       "      <td>2021-01-18 13:06:14</td>\n",
       "    </tr>\n",
       "  </tbody>\n",
       "</table>\n",
       "</div>"
      ],
      "text/plain": [
       "   record_id  artist_id               title  genre_id label  year  format_id vinyl_color lim_edition number remarks purchase_date  price  digitized  rating  active          created_at          updated_at\n",
       "0          1          1                 s/t         1  None  1993          1        None        None   None    None    2014-08-01    190          0     nan       0 2021-01-18 12:41:20 2021-01-18 12:42:06\n",
       "1          2          2            Deserted         2  None  2019          2        None         100   None    None    2020-01-01     70          1    8.00       0 2021-01-18 12:41:20 2021-01-18 12:52:43\n",
       "2          3          3  Traits of The Past         3  None  2014          2        None        None   None    None    2017-08-01     15          1     nan       1 2021-01-18 12:41:20                 NaT\n",
       "3          4          4      Poisoned Blood         2  None  2017          1        None        None   None    None    2020-06-01     15          1    8.00       0 2021-01-18 12:41:21 2021-01-18 13:06:14"
      ]
     },
     "execution_count": 32,
     "metadata": {},
     "output_type": "execute_result"
    }
   ],
   "source": [
    "pd.read_sql(\"records\", engine)"
   ]
  },
  {
   "cell_type": "code",
   "execution_count": 26,
   "metadata": {
    "ExecuteTime": {
     "end_time": "2021-01-18T12:42:38.308266Z",
     "start_time": "2021-01-18T12:42:38.131268Z"
    }
   },
   "outputs": [
    {
     "data": {
      "text/html": [
       "<div>\n",
       "<style scoped>\n",
       "    .dataframe tbody tr th:only-of-type {\n",
       "        vertical-align: middle;\n",
       "    }\n",
       "\n",
       "    .dataframe tbody tr th {\n",
       "        vertical-align: top;\n",
       "    }\n",
       "\n",
       "    .dataframe thead th {\n",
       "        text-align: right;\n",
       "    }\n",
       "</style>\n",
       "<table border=\"1\" class=\"dataframe\">\n",
       "  <thead>\n",
       "    <tr style=\"text-align: right;\">\n",
       "      <th></th>\n",
       "      <th>format_id</th>\n",
       "      <th>format_name</th>\n",
       "      <th>created_at</th>\n",
       "      <th>updated_at</th>\n",
       "    </tr>\n",
       "  </thead>\n",
       "  <tbody>\n",
       "    <tr>\n",
       "      <th>0</th>\n",
       "      <td>1</td>\n",
       "      <td>MLP</td>\n",
       "      <td>2021-01-18 12:41:20</td>\n",
       "      <td>NaT</td>\n",
       "    </tr>\n",
       "    <tr>\n",
       "      <th>1</th>\n",
       "      <td>2</td>\n",
       "      <td>LP</td>\n",
       "      <td>2021-01-18 12:41:20</td>\n",
       "      <td>NaT</td>\n",
       "    </tr>\n",
       "  </tbody>\n",
       "</table>\n",
       "</div>"
      ],
      "text/plain": [
       "   format_id format_name          created_at updated_at\n",
       "0          1         MLP 2021-01-18 12:41:20        NaT\n",
       "1          2          LP 2021-01-18 12:41:20        NaT"
      ]
     },
     "execution_count": 26,
     "metadata": {},
     "output_type": "execute_result"
    }
   ],
   "source": [
    "pd.read_sql(\"formats\", engine)"
   ]
  },
  {
   "cell_type": "code",
   "execution_count": 31,
   "metadata": {
    "ExecuteTime": {
     "end_time": "2021-01-18T13:01:50.980457Z",
     "start_time": "2021-01-18T13:01:50.823410Z"
    }
   },
   "outputs": [
    {
     "data": {
      "text/html": [
       "<div>\n",
       "<style scoped>\n",
       "    .dataframe tbody tr th:only-of-type {\n",
       "        vertical-align: middle;\n",
       "    }\n",
       "\n",
       "    .dataframe tbody tr th {\n",
       "        vertical-align: top;\n",
       "    }\n",
       "\n",
       "    .dataframe thead th {\n",
       "        text-align: right;\n",
       "    }\n",
       "</style>\n",
       "<table border=\"1\" class=\"dataframe\">\n",
       "  <thead>\n",
       "    <tr style=\"text-align: right;\">\n",
       "      <th></th>\n",
       "      <th>artist_id</th>\n",
       "      <th>artist_name</th>\n",
       "      <th>artist_country</th>\n",
       "      <th>created_at</th>\n",
       "      <th>updated_at</th>\n",
       "    </tr>\n",
       "  </thead>\n",
       "  <tbody>\n",
       "    <tr>\n",
       "      <th>0</th>\n",
       "      <td>1</td>\n",
       "      <td>Emperor</td>\n",
       "      <td>None</td>\n",
       "      <td>2021-01-18 12:41:20</td>\n",
       "      <td>NaT</td>\n",
       "    </tr>\n",
       "    <tr>\n",
       "      <th>1</th>\n",
       "      <td>2</td>\n",
       "      <td>Gatecreeper</td>\n",
       "      <td>None</td>\n",
       "      <td>2021-01-18 12:41:20</td>\n",
       "      <td>NaT</td>\n",
       "    </tr>\n",
       "    <tr>\n",
       "      <th>2</th>\n",
       "      <td>3</td>\n",
       "      <td>Agnosy</td>\n",
       "      <td>None</td>\n",
       "      <td>2021-01-18 12:41:20</td>\n",
       "      <td>NaT</td>\n",
       "    </tr>\n",
       "    <tr>\n",
       "      <th>3</th>\n",
       "      <td>4</td>\n",
       "      <td>Witch Vomit</td>\n",
       "      <td>None</td>\n",
       "      <td>2021-01-18 12:41:21</td>\n",
       "      <td>NaT</td>\n",
       "    </tr>\n",
       "  </tbody>\n",
       "</table>\n",
       "</div>"
      ],
      "text/plain": [
       "   artist_id  artist_name artist_country          created_at updated_at\n",
       "0          1      Emperor           None 2021-01-18 12:41:20        NaT\n",
       "1          2  Gatecreeper           None 2021-01-18 12:41:20        NaT\n",
       "2          3       Agnosy           None 2021-01-18 12:41:20        NaT\n",
       "3          4  Witch Vomit           None 2021-01-18 12:41:21        NaT"
      ]
     },
     "execution_count": 31,
     "metadata": {},
     "output_type": "execute_result"
    }
   ],
   "source": [
    "pd.read_sql(\"artists\", engine)"
   ]
  },
  {
   "cell_type": "code",
   "execution_count": 28,
   "metadata": {
    "ExecuteTime": {
     "end_time": "2021-01-18T12:42:42.865545Z",
     "start_time": "2021-01-18T12:42:42.699545Z"
    }
   },
   "outputs": [
    {
     "name": "stdout",
     "output_type": "stream",
     "text": [
      "[<Label(label_id=2, label_name=Relapse Records)>]\n"
     ]
    }
   ],
   "source": [
    "for result in session.query(Record).filter(Record.title == \"Deserted\").all():\n",
    "    print(result.labels)"
   ]
  },
  {
   "cell_type": "code",
   "execution_count": null,
   "metadata": {
    "ExecuteTime": {
     "end_time": "2021-01-18T12:41:22.877112Z",
     "start_time": "2021-01-18T12:41:11.356Z"
    }
   },
   "outputs": [],
   "source": [
    "TODO: On Updates the old values are not overwritten in many to many relationships (-->Labels) ..."
   ]
  }
 ],
 "metadata": {
  "hide_input": false,
  "kernelspec": {
   "display_name": "Python 3",
   "language": "python",
   "name": "python3"
  },
  "language_info": {
   "codemirror_mode": {
    "name": "ipython",
    "version": 3
   },
   "file_extension": ".py",
   "mimetype": "text/x-python",
   "name": "python",
   "nbconvert_exporter": "python",
   "pygments_lexer": "ipython3",
   "version": "3.8.3"
  },
  "toc": {
   "base_numbering": 1,
   "nav_menu": {},
   "number_sections": true,
   "sideBar": false,
   "skip_h1_title": true,
   "title_cell": "Table of Contents",
   "title_sidebar": "Contents",
   "toc_cell": false,
   "toc_position": {},
   "toc_section_display": true,
   "toc_window_display": false
  }
 },
 "nbformat": 4,
 "nbformat_minor": 4
}
