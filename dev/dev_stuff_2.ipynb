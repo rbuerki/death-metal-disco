{
 "cells": [
  {
   "cell_type": "code",
   "execution_count": 1,
   "metadata": {
    "ExecuteTime": {
     "end_time": "2021-01-09T18:43:47.227796Z",
     "start_time": "2021-01-09T18:43:45.745803Z"
    }
   },
   "outputs": [],
   "source": [
    "import configparser\n",
    "import datetime as dt\n",
    "import sys\n",
    "import collections\n",
    "from pathlib import Path\n",
    "from typing import Union, Optional, List, Tuple\n",
    "\n",
    "import codebook.EDA as EDA\n",
    "import codebook.clean as clean\n",
    "import numpy as np\n",
    "import pandas as pd\n",
    "import matplotlib.pyplot as plt\n",
    "import seaborn as sns\n",
    "import sqlalchemy"
   ]
  },
  {
   "cell_type": "code",
   "execution_count": 2,
   "metadata": {
    "ExecuteTime": {
     "end_time": "2021-01-09T18:43:47.380799Z",
     "start_time": "2021-01-09T18:43:47.230799Z"
    }
   },
   "outputs": [],
   "source": [
    "%load_ext autoreload\n",
    "%autoreload 2\n",
    "\n",
    "%matplotlib inline\n",
    "plt.style.use('raph-base')\n",
    "\n",
    "from IPython.core.interactiveshell import InteractiveShell\n",
    "InteractiveShell.ast_node_interactivity = 'all'\n",
    "\n",
    "pd.options.display.float_format = '{:,.2f}'.format\n",
    "pd.set_option('display.max_columns', 30)\n",
    "pd.set_option('display.expand_frame_repr', False)\n",
    "pd.set_option('max_colwidth', 800)\n",
    "\n",
    "np.random.seed(666)"
   ]
  },
  {
   "cell_type": "code",
   "execution_count": 3,
   "metadata": {
    "ExecuteTime": {
     "end_time": "2021-01-09T18:43:47.614801Z",
     "start_time": "2021-01-09T18:43:47.384801Z"
    }
   },
   "outputs": [],
   "source": [
    "sys.path.append(str(Path.cwd().parent))\n",
    "\n",
    "from src.db_declaration import Base, Artist, CreditTrx, Genre, Label, Record\n",
    "from src import db_functions\n",
    "from src import utils"
   ]
  },
  {
   "cell_type": "code",
   "execution_count": 4,
   "metadata": {
    "ExecuteTime": {
     "end_time": "2021-01-09T18:43:48.222799Z",
     "start_time": "2021-01-09T18:43:48.082803Z"
    }
   },
   "outputs": [
    {
     "name": "stdout",
     "output_type": "stream",
     "text": [
      "C:\\Users\\r2d4\\miniconda3\\envs\\py3\\python.exe\n",
      "3.8.3 (default, May 19 2020, 06:50:17) [MSC v.1916 64 bit (AMD64)]\n",
      "sqlalchemy 1.3.17\n"
     ]
    }
   ],
   "source": [
    "print(sys.executable)\n",
    "print(sys.version)\n",
    "print(f'sqlalchemy {sqlalchemy.__version__}')"
   ]
  },
  {
   "cell_type": "markdown",
   "metadata": {
    "ExecuteTime": {
     "end_time": "2020-12-23T06:08:49.546499Z",
     "start_time": "2020-12-23T06:08:49.412497Z"
    }
   },
   "source": [
    "## Connect To And (Re-)Create DB"
   ]
  },
  {
   "cell_type": "code",
   "execution_count": 8,
   "metadata": {
    "ExecuteTime": {
     "end_time": "2021-01-09T18:20:17.109442Z",
     "start_time": "2021-01-09T18:20:16.967451Z"
    }
   },
   "outputs": [],
   "source": [
    "CONFIG_PATH = Path.cwd().parent / \"config.cfg\""
   ]
  },
  {
   "cell_type": "code",
   "execution_count": 12,
   "metadata": {
    "ExecuteTime": {
     "end_time": "2021-01-09T18:41:48.403977Z",
     "start_time": "2021-01-09T18:41:48.170982Z"
    }
   },
   "outputs": [
    {
     "name": "stdout",
     "output_type": "stream",
     "text": [
      "C:\\Users\\r2d4\\OneDrive\\code\\projects\\20-02_disco\\dev\\DeafDiscoBase.db\n"
     ]
    }
   ],
   "source": [
    "path_to_db = utils.read_config_return_str(CONFIG_PATH, \"SQLITE_DEV\")\n",
    "engine = utils.create_engine(path_to_db)\n",
    "session = utils.create_session(engine)\n",
    "utils.create_DB_anew(engine, Base)"
   ]
  },
  {
   "cell_type": "code",
   "execution_count": null,
   "metadata": {},
   "outputs": [],
   "source": []
  },
  {
   "cell_type": "markdown",
   "metadata": {},
   "source": [
    "### \"Bulk\" Load Data Into DB - NOT WORKING WITH TABLE RELATIONSHIPS\n",
    "\n",
    "This is a fast approach using sqlalchemy core language, the problem is it copies the data from a df into a table, but does not take care of the relationships - the foreign keys are not created.\n",
    "\n",
    "Btw: This is not the really fast bulk load with `conn.executemany()`, see [here](https://stackoverflow.com/a/32239587/13797028)."
   ]
  },
  {
   "cell_type": "code",
   "execution_count": 7,
   "metadata": {
    "ExecuteTime": {
     "end_time": "2021-01-09T06:47:08.005301Z",
     "start_time": "2021-01-09T06:47:07.863304Z"
    }
   },
   "outputs": [],
   "source": [
    "def load_albums_from_xlsx(\n",
    "    filepath: Union[Path, str], genres: Optional[List] = None\n",
    ") -> pd.DataFrame:\n",
    "    \"\"\"Load the original album collection file into a dataframe.\n",
    "    You can specify a list of genres you want to include\n",
    "    (defaults to None).\n",
    "    \"\"\"\n",
    "    df = pd.read_excel(filepath, engine=\"openpyxl\")\n",
    "    if genres:\n",
    "        df = df[df[\"Genre\"].isin(genres)]\n",
    "    return df"
   ]
  },
  {
   "cell_type": "markdown",
   "metadata": {},
   "source": [
    "**TODO:** see the cleaning, this has to be formalized in a function"
   ]
  },
  {
   "cell_type": "code",
   "execution_count": 10,
   "metadata": {
    "ExecuteTime": {
     "end_time": "2021-01-09T06:48:11.541021Z",
     "start_time": "2021-01-09T06:48:10.108025Z"
    }
   },
   "outputs": [],
   "source": [
    "path_to_collection = utils.read_config_return_str(CONFIG_PATH, \"COLLECTION\")\n",
    "collection_df = load_albums_from_xlsx(path_to_collection)\n",
    "collection_df = clean.prettify_column_names(collection_df)\n",
    "collection_df.dropna(thresh=8, inplace=True)\n",
    "collection_df.rename(columns={\"format\": \"record_format\"}, inplace=True)\n",
    "# collection_df[\"purchase_date\"] = collection_df[\"purchase_date\"].dt.date.astype(str)\n",
    "# collection_df[\"number\"] = collection_df[\"number\"].astype(str)\n",
    "# collection_df[\"digitized\"] = collection_df[\"digitized\"].map({True: 1, False: 0}).astype(int)\n",
    "collection_df[\"label\"].fillna(\"NA\", inplace=True)  # because it creates a foreign key\n",
    "\n",
    "# This is for the initial ingestion only\n",
    "collection_df[\"credit_value\"] = 0\n",
    "collection_df[\"artist_country\"] = None\n"
   ]
  },
  {
   "cell_type": "code",
   "execution_count": 11,
   "metadata": {
    "ExecuteTime": {
     "end_time": "2021-01-09T06:48:13.025022Z",
     "start_time": "2021-01-09T06:48:12.863025Z"
    }
   },
   "outputs": [
    {
     "data": {
      "text/plain": [
       "(293, 16)"
      ]
     },
     "execution_count": 11,
     "metadata": {},
     "output_type": "execute_result"
    },
    {
     "name": "stdout",
     "output_type": "stream",
     "text": [
      "<class 'pandas.core.frame.DataFrame'>\n",
      "Int64Index: 293 entries, 0 to 292\n",
      "Data columns (total 16 columns):\n",
      " #   Column         Non-Null Count  Dtype         \n",
      "---  ------         --------------  -----         \n",
      " 0   active         293 non-null    float64       \n",
      " 1   artist         293 non-null    object        \n",
      " 2   title          293 non-null    object        \n",
      " 3   record_format  293 non-null    object        \n",
      " 4   year           293 non-null    float64       \n",
      " 5   genre          293 non-null    object        \n",
      " 6   price          293 non-null    float64       \n",
      " 7   purchase_date  293 non-null    datetime64[ns]\n",
      " 8   vinyl_color    197 non-null    object        \n",
      " 9   lim_edition    207 non-null    object        \n",
      " 10  number         24 non-null     object        \n",
      " 11  label          293 non-null    object        \n",
      " 12  digitized      293 non-null    object        \n",
      " 13  remarks        72 non-null     object        \n",
      " 14  rating         101 non-null    float64       \n",
      " 15  credit_value   293 non-null    int64         \n",
      "dtypes: datetime64[ns](1), float64(4), int64(1), object(10)\n",
      "memory usage: 38.9+ KB\n"
     ]
    }
   ],
   "source": [
    "collection_df.shape\n",
    "collection_df.info()"
   ]
  },
  {
   "cell_type": "code",
   "execution_count": 12,
   "metadata": {
    "ExecuteTime": {
     "end_time": "2021-01-09T06:48:17.984069Z",
     "start_time": "2021-01-09T06:48:17.318531Z"
    }
   },
   "outputs": [
    {
     "data": {
      "text/html": [
       "<style  type=\"text/css\" >\n",
       "</style><table id=\"T_a7b448c8_5246_11eb_a301_60f67737a0fe\" ><thead>    <tr>        <th class=\"blank level0\" ></th>        <th class=\"col_heading level0 col0\" >total</th>        <th class=\"col_heading level0 col1\" >prop</th>        <th class=\"col_heading level0 col2\" >dtype</th>    </tr></thead><tbody>\n",
       "                <tr>\n",
       "                        <th id=\"T_a7b448c8_5246_11eb_a301_60f67737a0felevel0_row0\" class=\"row_heading level0 row0\" >number</th>\n",
       "                        <td id=\"T_a7b448c8_5246_11eb_a301_60f67737a0ferow0_col0\" class=\"data row0 col0\" >269</td>\n",
       "                        <td id=\"T_a7b448c8_5246_11eb_a301_60f67737a0ferow0_col1\" class=\"data row0 col1\" >91.8%</td>\n",
       "                        <td id=\"T_a7b448c8_5246_11eb_a301_60f67737a0ferow0_col2\" class=\"data row0 col2\" >object</td>\n",
       "            </tr>\n",
       "            <tr>\n",
       "                        <th id=\"T_a7b448c8_5246_11eb_a301_60f67737a0felevel0_row1\" class=\"row_heading level0 row1\" >remarks</th>\n",
       "                        <td id=\"T_a7b448c8_5246_11eb_a301_60f67737a0ferow1_col0\" class=\"data row1 col0\" >221</td>\n",
       "                        <td id=\"T_a7b448c8_5246_11eb_a301_60f67737a0ferow1_col1\" class=\"data row1 col1\" >75.4%</td>\n",
       "                        <td id=\"T_a7b448c8_5246_11eb_a301_60f67737a0ferow1_col2\" class=\"data row1 col2\" >object</td>\n",
       "            </tr>\n",
       "            <tr>\n",
       "                        <th id=\"T_a7b448c8_5246_11eb_a301_60f67737a0felevel0_row2\" class=\"row_heading level0 row2\" >rating</th>\n",
       "                        <td id=\"T_a7b448c8_5246_11eb_a301_60f67737a0ferow2_col0\" class=\"data row2 col0\" >192</td>\n",
       "                        <td id=\"T_a7b448c8_5246_11eb_a301_60f67737a0ferow2_col1\" class=\"data row2 col1\" >65.5%</td>\n",
       "                        <td id=\"T_a7b448c8_5246_11eb_a301_60f67737a0ferow2_col2\" class=\"data row2 col2\" >float64</td>\n",
       "            </tr>\n",
       "            <tr>\n",
       "                        <th id=\"T_a7b448c8_5246_11eb_a301_60f67737a0felevel0_row3\" class=\"row_heading level0 row3\" >vinyl_color</th>\n",
       "                        <td id=\"T_a7b448c8_5246_11eb_a301_60f67737a0ferow3_col0\" class=\"data row3 col0\" >96</td>\n",
       "                        <td id=\"T_a7b448c8_5246_11eb_a301_60f67737a0ferow3_col1\" class=\"data row3 col1\" >32.8%</td>\n",
       "                        <td id=\"T_a7b448c8_5246_11eb_a301_60f67737a0ferow3_col2\" class=\"data row3 col2\" >object</td>\n",
       "            </tr>\n",
       "            <tr>\n",
       "                        <th id=\"T_a7b448c8_5246_11eb_a301_60f67737a0felevel0_row4\" class=\"row_heading level0 row4\" >lim_edition</th>\n",
       "                        <td id=\"T_a7b448c8_5246_11eb_a301_60f67737a0ferow4_col0\" class=\"data row4 col0\" >86</td>\n",
       "                        <td id=\"T_a7b448c8_5246_11eb_a301_60f67737a0ferow4_col1\" class=\"data row4 col1\" >29.4%</td>\n",
       "                        <td id=\"T_a7b448c8_5246_11eb_a301_60f67737a0ferow4_col2\" class=\"data row4 col2\" >object</td>\n",
       "            </tr>\n",
       "    </tbody></table>"
      ],
      "text/plain": [
       "<pandas.io.formats.style.Styler at 0x1d2eb32e100>"
      ]
     },
     "execution_count": 12,
     "metadata": {},
     "output_type": "execute_result"
    }
   ],
   "source": [
    "EDA.display_nan(collection_df)"
   ]
  },
  {
   "cell_type": "code",
   "execution_count": 13,
   "metadata": {
    "ExecuteTime": {
     "end_time": "2021-01-09T06:48:19.098036Z",
     "start_time": "2021-01-09T06:48:18.584036Z"
    }
   },
   "outputs": [
    {
     "data": {
      "image/png": "[encoded data removed]",
      "text/plain": [
       "<Figure size 1008x432 with 1 Axes>"
      ]
     },
     "metadata": {},
     "output_type": "display_data"
    }
   ],
   "source": [
    "EDA.plot_nan(collection_df)"
   ]
  },
  {
   "cell_type": "code",
   "execution_count": 13,
   "metadata": {
    "ExecuteTime": {
     "end_time": "2021-01-06T20:50:41.961841Z",
     "start_time": "2021-01-06T20:50:41.701843Z"
    }
   },
   "outputs": [
    {
     "data": {
      "text/plain": [
       "{'active': 1.0,\n",
       " 'artist': 'Living Gate',\n",
       " 'title': 'Death Lust',\n",
       " 'record_format': 'MLP',\n",
       " 'year': 2020.0,\n",
       " 'genre': 'Death Metal',\n",
       " 'price': 20.0,\n",
       " 'purchase_date': Timestamp('2020-07-01 00:00:00'),\n",
       " 'vinyl_color': 'milky clear with blood red, black and white splatter',\n",
       " 'lim_edition': 250,\n",
       " 'number': nan,\n",
       " 'label': 'Relapse Records',\n",
       " 'digitized': True,\n",
       " 'remarks': 'warped, etched on B-Side',\n",
       " 'rating': 8.0,\n",
       " 'credit_value': 0}"
      ]
     },
     "execution_count": 13,
     "metadata": {},
     "output_type": "execute_result"
    }
   ],
   "source": [
    "test_record = collection_df.to_dict(\"records\")[-30]\n",
    "test_record"
   ]
  },
  {
   "cell_type": "code",
   "execution_count": 14,
   "metadata": {
    "ExecuteTime": {
     "end_time": "2021-01-06T20:50:42.210841Z",
     "start_time": "2021-01-06T20:50:41.964841Z"
    }
   },
   "outputs": [],
   "source": [
    "def insert_df_with_sqlalchemy_core(df, table_class, engine):\n",
    "    start = time.time()\n",
    "    engine.execute(\n",
    "        table_class.__table__.insert(),\n",
    "        [x for x in df.to_dict(\"records\")]\n",
    "    )\n",
    "    end = time.time()\n",
    "    print(\n",
    "        f\"SQLAlchemy Core: Insert {len(df)} records in {end - start:.2f} seconds\"\n",
    "    )"
   ]
  },
  {
   "cell_type": "code",
   "execution_count": 15,
   "metadata": {
    "ExecuteTime": {
     "end_time": "2021-01-06T20:50:42.426839Z",
     "start_time": "2021-01-06T20:50:42.216838Z"
    }
   },
   "outputs": [
    {
     "name": "stdout",
     "output_type": "stream",
     "text": [
      "SQLAlchemy Core: Insert 293 records in 0.03 seconds\n"
     ]
    }
   ],
   "source": [
    "import time\n",
    "\n",
    "insert_df_with_sqlalchemy_core(collection_df.iloc[:, :-1], Record, engine)"
   ]
  },
  {
   "cell_type": "code",
   "execution_count": 16,
   "metadata": {
    "ExecuteTime": {
     "end_time": "2021-01-06T20:50:42.620838Z",
     "start_time": "2021-01-06T20:50:42.431840Z"
    }
   },
   "outputs": [
    {
     "data": {
      "text/plain": [
       "[Column('record_id', Integer(), table=<records>, primary_key=True, nullable=False),\n",
       " Column('artist_id', Integer(), ForeignKey('artists.artist_id'), table=<records>),\n",
       " Column('title', String(), table=<records>, nullable=False),\n",
       " Column('genre_id', Integer(), ForeignKey('genres.genre_id'), table=<records>),\n",
       " Column('label', Integer(), ForeignKey('labels.label_id'), table=<records>),\n",
       " Column('year', Integer(), table=<records>),\n",
       " Column('format_id', Integer(), ForeignKey('formats.format_id'), table=<records>),\n",
       " Column('vinyl_color', String(), table=<records>),\n",
       " Column('lim_edition', String(), table=<records>),\n",
       " Column('number', String(), table=<records>),\n",
       " Column('remarks', String(), table=<records>),\n",
       " Column('purchase_date', Date(), table=<records>, nullable=False),\n",
       " Column('price', Numeric(), table=<records>, nullable=False),\n",
       " Column('digitized', Integer(), table=<records>, nullable=False),\n",
       " Column('rating', Integer(), table=<records>),\n",
       " Column('active', Integer(), table=<records>, nullable=False),\n",
       " Column('created_at', DateTime(), table=<records>, server_default=DefaultClause(<sqlalchemy.sql.functions.now at 0x228ccd07a00; now>, for_update=False)),\n",
       " Column('updated_at', DateTime(), table=<records>, onupdate=ColumnDefault(<sqlalchemy.sql.functions.now at 0x228ccd07c40; now>))]"
      ]
     },
     "execution_count": 16,
     "metadata": {},
     "output_type": "execute_result"
    }
   ],
   "source": [
    "list(Record.__table__.columns)"
   ]
  },
  {
   "cell_type": "code",
   "execution_count": 17,
   "metadata": {
    "ExecuteTime": {
     "end_time": "2021-01-06T20:50:42.950838Z",
     "start_time": "2021-01-06T20:50:42.623840Z"
    }
   },
   "outputs": [],
   "source": [
    "# Reset DB\n",
    "utils.create_DB_anew(engine, Base)"
   ]
  },
  {
   "cell_type": "markdown",
   "metadata": {},
   "source": [
    "## Test \"add_new_record\"\n",
    "\n",
    "**TODO**: Do I have to loop? Using apply only after all is done would be more efficient"
   ]
  },
  {
   "cell_type": "code",
   "execution_count": 18,
   "metadata": {
    "ExecuteTime": {
     "end_time": "2021-01-06T20:50:43.307836Z",
     "start_time": "2021-01-06T20:50:42.953842Z"
    }
   },
   "outputs": [],
   "source": [
    "test_record[\"artist\"] = \"Loving Gate\""
   ]
  },
  {
   "cell_type": "code",
   "execution_count": 19,
   "metadata": {
    "ExecuteTime": {
     "end_time": "2021-01-06T20:50:43.660840Z",
     "start_time": "2021-01-06T20:50:43.310838Z"
    }
   },
   "outputs": [
    {
     "name": "stderr",
     "output_type": "stream",
     "text": [
      "C:\\Users\\r2d4\\miniconda3\\envs\\py3\\lib\\site-packages\\sqlalchemy\\sql\\sqltypes.py:660: SAWarning: Dialect sqlite+pysqlite does *not* support Decimal objects natively, and SQLAlchemy must convert from floating point - rounding errors and other issues may occur. Please consider storing Decimal numbers as strings or integers on this platform for lossless storage.\n",
      "  util.warn(\n"
     ]
    }
   ],
   "source": [
    "db_functions.add_new_record(session, test_record)"
   ]
  },
  {
   "cell_type": "code",
   "execution_count": 20,
   "metadata": {
    "ExecuteTime": {
     "end_time": "2021-01-06T20:50:43.848841Z",
     "start_time": "2021-01-06T20:50:43.668842Z"
    }
   },
   "outputs": [
    {
     "name": "stdout",
     "output_type": "stream",
     "text": [
      "0.0\n"
     ]
    }
   ],
   "source": [
    "from sqlalchemy import func\n",
    "print(session.query(func.sum(CreditTrx.credit_value)).all()[0][0])"
   ]
  },
  {
   "cell_type": "code",
   "execution_count": 21,
   "metadata": {
    "ExecuteTime": {
     "end_time": "2021-01-06T20:50:44.034839Z",
     "start_time": "2021-01-06T20:50:43.851839Z"
    }
   },
   "outputs": [
    {
     "data": {
      "text/plain": [
       "{'active': 1.0,\n",
       " 'artist': 'Loving Gate',\n",
       " 'title': 'Death Lust',\n",
       " 'record_format': 'MLP',\n",
       " 'year': 2020.0,\n",
       " 'genre': 'Death Metal',\n",
       " 'price': 20.0,\n",
       " 'purchase_date': Timestamp('2020-07-01 00:00:00'),\n",
       " 'vinyl_color': 'milky clear with blood red, black and white splatter',\n",
       " 'lim_edition': 250,\n",
       " 'number': nan,\n",
       " 'label': 'Relapse Records',\n",
       " 'digitized': True,\n",
       " 'remarks': 'warped, etched on B-Side',\n",
       " 'rating': 8.0,\n",
       " 'credit_value': 0}"
      ]
     },
     "execution_count": 21,
     "metadata": {},
     "output_type": "execute_result"
    }
   ],
   "source": [
    "test_record"
   ]
  },
  {
   "cell_type": "markdown",
   "metadata": {
    "ExecuteTime": {
     "end_time": "2020-12-23T21:50:04.810370Z",
     "start_time": "2020-12-23T21:50:04.664351Z"
    }
   },
   "source": [
    "### Add all records\n",
    "\n",
    "**TODO:** Can I apply()?"
   ]
  },
  {
   "cell_type": "code",
   "execution_count": 42,
   "metadata": {
    "ExecuteTime": {
     "end_time": "2021-01-06T20:51:12.562509Z",
     "start_time": "2021-01-06T20:51:12.231511Z"
    }
   },
   "outputs": [],
   "source": [
    "# Re-create DB\n",
    "utils.create_DB_anew(engine, Base)"
   ]
  },
  {
   "cell_type": "code",
   "execution_count": 14,
   "metadata": {
    "ExecuteTime": {
     "end_time": "2021-01-09T06:49:16.768050Z",
     "start_time": "2021-01-09T06:49:16.603053Z"
    }
   },
   "outputs": [],
   "source": [
    "def insert_df_with_sqlalchemy_orm(session, df):\n",
    "    for x in df.to_dict(\"records\"):\n",
    "        db_functions.add_new_record(session, x)"
   ]
  },
  {
   "cell_type": "code",
   "execution_count": 15,
   "metadata": {
    "ExecuteTime": {
     "end_time": "2021-01-09T06:49:22.235375Z",
     "start_time": "2021-01-09T06:49:21.896375Z"
    }
   },
   "outputs": [
    {
     "name": "stderr",
     "output_type": "stream",
     "text": [
      "C:\\Users\\r2d4\\miniconda3\\envs\\py3\\lib\\site-packages\\sqlalchemy\\sql\\sqltypes.py:660: SAWarning: Dialect sqlite+pysqlite does *not* support Decimal objects natively, and SQLAlchemy must convert from floating point - rounding errors and other issues may occur. Please consider storing Decimal numbers as strings or integers on this platform for lossless storage.\n",
      "  util.warn(\n"
     ]
    },
    {
     "ename": "KeyError",
     "evalue": "'artist_country'",
     "output_type": "error",
     "traceback": [
      "\u001b[1;31m---------------------------------------------------------------------------\u001b[0m",
      "\u001b[1;31mKeyError\u001b[0m                                  Traceback (most recent call last)",
      "\u001b[1;32m<ipython-input-15-4968a7679db5>\u001b[0m in \u001b[0;36m<module>\u001b[1;34m\u001b[0m\n\u001b[1;32m----> 1\u001b[1;33m \u001b[0minsert_df_with_sqlalchemy_orm\u001b[0m\u001b[1;33m(\u001b[0m\u001b[0msession\u001b[0m\u001b[1;33m,\u001b[0m \u001b[0mcollection_df\u001b[0m\u001b[1;33m)\u001b[0m\u001b[1;33m\u001b[0m\u001b[1;33m\u001b[0m\u001b[0m\n\u001b[0m",
      "\u001b[1;32m<ipython-input-14-dde894a7003b>\u001b[0m in \u001b[0;36minsert_df_with_sqlalchemy_orm\u001b[1;34m(session, df)\u001b[0m\n\u001b[0;32m      1\u001b[0m \u001b[1;32mdef\u001b[0m \u001b[0minsert_df_with_sqlalchemy_orm\u001b[0m\u001b[1;33m(\u001b[0m\u001b[0msession\u001b[0m\u001b[1;33m,\u001b[0m \u001b[0mdf\u001b[0m\u001b[1;33m)\u001b[0m\u001b[1;33m:\u001b[0m\u001b[1;33m\u001b[0m\u001b[1;33m\u001b[0m\u001b[0m\n\u001b[0;32m      2\u001b[0m     \u001b[1;32mfor\u001b[0m \u001b[0mx\u001b[0m \u001b[1;32min\u001b[0m \u001b[0mdf\u001b[0m\u001b[1;33m.\u001b[0m\u001b[0mto_dict\u001b[0m\u001b[1;33m(\u001b[0m\u001b[1;34m\"records\"\u001b[0m\u001b[1;33m)\u001b[0m\u001b[1;33m:\u001b[0m\u001b[1;33m\u001b[0m\u001b[1;33m\u001b[0m\u001b[0m\n\u001b[1;32m----> 3\u001b[1;33m         \u001b[0mdb_functions\u001b[0m\u001b[1;33m.\u001b[0m\u001b[0madd_new_record\u001b[0m\u001b[1;33m(\u001b[0m\u001b[0msession\u001b[0m\u001b[1;33m,\u001b[0m \u001b[0mx\u001b[0m\u001b[1;33m)\u001b[0m\u001b[1;33m\u001b[0m\u001b[1;33m\u001b[0m\u001b[0m\n\u001b[0m",
      "\u001b[1;32m~\\OneDrive\\code\\projects\\20-02_disco\\src\\db_functions.py\u001b[0m in \u001b[0;36madd_new_record\u001b[1;34m(session, record_data)\u001b[0m\n\u001b[0;32m    115\u001b[0m     \u001b[1;32mif\u001b[0m \u001b[0martist\u001b[0m \u001b[1;32mis\u001b[0m \u001b[1;32mNone\u001b[0m\u001b[1;33m:\u001b[0m\u001b[1;33m\u001b[0m\u001b[1;33m\u001b[0m\u001b[0m\n\u001b[0;32m    116\u001b[0m         artist = Artist(\n\u001b[1;32m--> 117\u001b[1;33m             \u001b[0martist_name\u001b[0m\u001b[1;33m=\u001b[0m\u001b[0mr_artist\u001b[0m\u001b[1;33m,\u001b[0m \u001b[0martist_country\u001b[0m\u001b[1;33m=\u001b[0m\u001b[0mrecord_data\u001b[0m\u001b[1;33m[\u001b[0m\u001b[1;34m\"artist_country\"\u001b[0m\u001b[1;33m]\u001b[0m\u001b[1;33m\u001b[0m\u001b[1;33m\u001b[0m\u001b[0m\n\u001b[0m\u001b[0;32m    118\u001b[0m         )\n\u001b[0;32m    119\u001b[0m         \u001b[0msession\u001b[0m\u001b[1;33m.\u001b[0m\u001b[0madd\u001b[0m\u001b[1;33m(\u001b[0m\u001b[0martist\u001b[0m\u001b[1;33m)\u001b[0m\u001b[1;33m\u001b[0m\u001b[1;33m\u001b[0m\u001b[0m\n",
      "\u001b[1;31mKeyError\u001b[0m: 'artist_country'"
     ]
    }
   ],
   "source": [
    "insert_df_with_sqlalchemy_orm(session, collection_df)"
   ]
  },
  {
   "cell_type": "code",
   "execution_count": 45,
   "metadata": {
    "ExecuteTime": {
     "end_time": "2021-01-06T20:51:27.222510Z",
     "start_time": "2021-01-06T20:51:26.777512Z"
    }
   },
   "outputs": [
    {
     "data": {
      "text/plain": [
       "293"
      ]
     },
     "execution_count": 45,
     "metadata": {},
     "output_type": "execute_result"
    }
   ],
   "source": [
    "session.query(Record).count()"
   ]
  },
  {
   "cell_type": "markdown",
   "metadata": {},
   "source": [
    "## Query DB"
   ]
  },
  {
   "cell_type": "code",
   "execution_count": 26,
   "metadata": {
    "ExecuteTime": {
     "end_time": "2021-01-06T20:50:56.589838Z",
     "start_time": "2021-01-06T20:50:56.299841Z"
    }
   },
   "outputs": [
    {
     "data": {
      "text/plain": [
       "<Record(record_id=264, title=Death Lust, artist_id=167)>"
      ]
     },
     "execution_count": 26,
     "metadata": {},
     "output_type": "execute_result"
    }
   ],
   "source": [
    "for result in session.query(Record).filter(Record.title == \"Death Lust\").all():\n",
    "    result"
   ]
  },
  {
   "cell_type": "code",
   "execution_count": 27,
   "metadata": {
    "ExecuteTime": {
     "end_time": "2021-01-06T20:50:56.948839Z",
     "start_time": "2021-01-06T20:50:56.593839Z"
    }
   },
   "outputs": [
    {
     "data": {
      "text/plain": [
       "188"
      ]
     },
     "execution_count": 27,
     "metadata": {},
     "output_type": "execute_result"
    },
    {
     "data": {
      "text/plain": [
       "[<Artist(artist_id=1, artist_name=Dismember)>,\n",
       " <Artist(artist_id=2, artist_name=Merciless)>,\n",
       " <Artist(artist_id=3, artist_name=Overkill)>,\n",
       " <Artist(artist_id=4, artist_name=Entombed)>,\n",
       " <Artist(artist_id=5, artist_name=Metallica)>]"
      ]
     },
     "execution_count": 27,
     "metadata": {},
     "output_type": "execute_result"
    }
   ],
   "source": [
    "session.query(Artist).count()\n",
    "session.query(Artist).all()[:5]"
   ]
  },
  {
   "cell_type": "code",
   "execution_count": 28,
   "metadata": {
    "ExecuteTime": {
     "end_time": "2021-01-06T20:50:57.326838Z",
     "start_time": "2021-01-06T20:50:56.951840Z"
    }
   },
   "outputs": [
    {
     "data": {
      "text/plain": [
       "9"
      ]
     },
     "execution_count": 28,
     "metadata": {},
     "output_type": "execute_result"
    },
    {
     "data": {
      "text/plain": [
       "[<Genre(genre_id=1, genre_name=Death Metal)>,\n",
       " <Genre(genre_id=2, genre_name=Thrash Metal)>,\n",
       " <Genre(genre_id=3, genre_name=Black Metal)>,\n",
       " <Genre(genre_id=4, genre_name=Speed Metal)>,\n",
       " <Genre(genre_id=5, genre_name=Hardcore)>,\n",
       " <Genre(genre_id=6, genre_name=Punk)>,\n",
       " <Genre(genre_id=7, genre_name=Crust)>,\n",
       " <Genre(genre_id=8, genre_name=Crossover)>,\n",
       " <Genre(genre_id=9, genre_name=Grindcore)>]"
      ]
     },
     "execution_count": 28,
     "metadata": {},
     "output_type": "execute_result"
    }
   ],
   "source": [
    "session.query(Genre).count()\n",
    "session.query(Genre).all()"
   ]
  },
  {
   "cell_type": "code",
   "execution_count": 29,
   "metadata": {
    "ExecuteTime": {
     "end_time": "2021-01-06T20:50:57.641840Z",
     "start_time": "2021-01-06T20:50:57.329839Z"
    }
   },
   "outputs": [
    {
     "data": {
      "text/plain": [
       "0.0"
      ]
     },
     "execution_count": 29,
     "metadata": {},
     "output_type": "execute_result"
    },
    {
     "data": {
      "text/plain": [
       "0.0"
      ]
     },
     "execution_count": 29,
     "metadata": {},
     "output_type": "execute_result"
    }
   ],
   "source": [
    "result = session.query(CreditTrx.credit_saldo).all()\n",
    "\n",
    "np.array(result).min()\n",
    "np.array(result).max()"
   ]
  },
  {
   "cell_type": "code",
   "execution_count": 30,
   "metadata": {
    "ExecuteTime": {
     "end_time": "2021-01-06T20:50:58.035851Z",
     "start_time": "2021-01-06T20:50:57.646841Z"
    }
   },
   "outputs": [
    {
     "data": {
      "text/plain": [
       "199"
      ]
     },
     "execution_count": 30,
     "metadata": {},
     "output_type": "execute_result"
    },
    {
     "data": {
      "text/plain": [
       "199"
      ]
     },
     "execution_count": 30,
     "metadata": {},
     "output_type": "execute_result"
    },
    {
     "name": "stdout",
     "output_type": "stream",
     "text": [
      "<Artist(artist_id=1, artist_name=Dismember)>\n",
      "<Artist(artist_id=2, artist_name=Merciless)>\n",
      "<Artist(artist_id=3, artist_name=Overkill)>\n",
      "<Artist(artist_id=4, artist_name=Entombed)>\n",
      "<Artist(artist_id=5, artist_name=Metallica)>\n"
     ]
    }
   ],
   "source": [
    "from src.db_declaration import GenreLabelLink, ArtistLabelLink\n",
    "from pprint import pprint\n",
    "\n",
    "session.query(func.count(ArtistLabelLink.artist_id)).all()[0][0]\n",
    "session.query(ArtistLabelLink).count()\n",
    "\n",
    "for result in session.query(Artist).all()[:5]:\n",
    "    pprint(result)"
   ]
  },
  {
   "cell_type": "code",
   "execution_count": 31,
   "metadata": {
    "ExecuteTime": {
     "end_time": "2021-01-06T20:50:58.487840Z",
     "start_time": "2021-01-06T20:50:58.045839Z"
    }
   },
   "outputs": [
    {
     "data": {
      "text/plain": [
       "0.0"
      ]
     },
     "execution_count": 31,
     "metadata": {},
     "output_type": "execute_result"
    }
   ],
   "source": [
    "session.query(func.sum(CreditTrx.credit_value)).all()[0][0]"
   ]
  },
  {
   "cell_type": "markdown",
   "metadata": {},
   "source": [
    "## Dev Credit Addition"
   ]
  },
  {
   "cell_type": "code",
   "execution_count": 32,
   "metadata": {
    "ExecuteTime": {
     "end_time": "2021-01-06T20:50:59.670836Z",
     "start_time": "2021-01-06T20:50:58.490837Z"
    }
   },
   "outputs": [],
   "source": [
    "for id_ in session.query(CreditTrx.credit_trx_id).all():\n",
    "#     print(id_[0])\n",
    "    to_delete = session.query(CreditTrx).filter(CreditTrx.credit_trx_id == id_[0]).one()\n",
    "    session.delete(to_delete)"
   ]
  },
  {
   "cell_type": "code",
   "execution_count": 33,
   "metadata": {
    "ExecuteTime": {
     "end_time": "2021-01-06T20:51:00.013840Z",
     "start_time": "2021-01-06T20:50:59.673840Z"
    }
   },
   "outputs": [],
   "source": [
    "# Add fake Addition trx\n",
    "\n",
    "fake_trx = CreditTrx(\n",
    "    credit_trx_date=dt.datetime(year=2020, month=11, day=2),\n",
    "    credit_trx_type=\"Addition\",\n",
    "    credit_value=1,\n",
    "    credit_saldo=np.array(session.query(CreditTrx.credit_value).all()).sum() + 1,\n",
    "    record_id=np.nan\n",
    ")\n",
    "session.add(fake_trx)\n",
    "\n",
    "fake_trx = CreditTrx(\n",
    "    credit_trx_date=dt.datetime(year=2020, month=11, day=1),\n",
    "    credit_trx_type=\"Addition\",\n",
    "    credit_value=1,\n",
    "    credit_saldo=np.array(session.query(CreditTrx.credit_value).all()).sum() + 1,\n",
    "    record_id=np.nan\n",
    ")\n",
    "session.add(fake_trx)\n",
    "\n",
    "fake_trx = CreditTrx(\n",
    "    credit_trx_date=dt.datetime(year=2020, month=12, day=1),\n",
    "    credit_trx_type=\"Test\",\n",
    "    credit_value=1,\n",
    "    credit_saldo=np.array(session.query(CreditTrx.credit_value).all()).sum() + 1,\n",
    "    record_id=np.nan\n",
    ")\n",
    "session.add(fake_trx)\n",
    "# session.commit()"
   ]
  },
  {
   "cell_type": "code",
   "execution_count": 34,
   "metadata": {
    "ExecuteTime": {
     "end_time": "2021-01-06T20:51:00.373838Z",
     "start_time": "2021-01-06T20:51:00.017856Z"
    }
   },
   "outputs": [
    {
     "data": {
      "text/plain": [
       "[<CreditTrx(credit_trx_id=1, credit_trx_date=2020-11-02, credit_trx_type=Addition, credit_value=1.0, credit_saldo=1.0, record_id=None)>,\n",
       " <CreditTrx(credit_trx_id=2, credit_trx_date=2020-11-01, credit_trx_type=Addition, credit_value=1.0, credit_saldo=2.0, record_id=None)>,\n",
       " <CreditTrx(credit_trx_id=3, credit_trx_date=2020-12-01 00:00:00, credit_trx_type=Test, credit_value=1, credit_saldo=3.0, record_id=nan)>]"
      ]
     },
     "execution_count": 34,
     "metadata": {},
     "output_type": "execute_result"
    }
   ],
   "source": [
    "# Check\n",
    "# session.commit()\n",
    "session.query(CreditTrx).all()"
   ]
  },
  {
   "cell_type": "code",
   "execution_count": 35,
   "metadata": {
    "ExecuteTime": {
     "end_time": "2021-01-06T20:51:00.704838Z",
     "start_time": "2021-01-06T20:51:00.376841Z"
    }
   },
   "outputs": [],
   "source": [
    "last_addition_date = (session\n",
    "    .query(CreditTrx.credit_trx_date)\n",
    "    .filter(CreditTrx.credit_trx_type == \"Addition\")\n",
    "    .order_by(CreditTrx.credit_trx_date.desc())\n",
    "    .first()\n",
    ")[0]\n",
    "\n",
    "days_since_last = (dt.date.today() - last_addition_date).days"
   ]
  },
  {
   "cell_type": "code",
   "execution_count": 36,
   "metadata": {
    "ExecuteTime": {
     "end_time": "2021-01-06T20:51:00.925841Z",
     "start_time": "2021-01-06T20:51:00.706851Z"
    }
   },
   "outputs": [
    {
     "data": {
      "text/plain": [
       "datetime.date(2020, 11, 2)"
      ]
     },
     "execution_count": 36,
     "metadata": {},
     "output_type": "execute_result"
    },
    {
     "data": {
      "text/plain": [
       "65"
      ]
     },
     "execution_count": 36,
     "metadata": {},
     "output_type": "execute_result"
    }
   ],
   "source": [
    "last_addition_date\n",
    "days_since_last"
   ]
  },
  {
   "cell_type": "code",
   "execution_count": 37,
   "metadata": {
    "ExecuteTime": {
     "end_time": "2021-01-06T20:51:01.149841Z",
     "start_time": "2021-01-06T20:51:00.928840Z"
    }
   },
   "outputs": [],
   "source": [
    "# while days_since_last >= 10:\n",
    "#     fake_trx = CreditTrx(\n",
    "#         credit_trx_date=last_addition_date + + dt.timedelta(days=10),\n",
    "#         credit_trx_type=\"Addition\",\n",
    "#         credit_value=1,\n",
    "#         credit_saldo=np.array(session.query(CreditTrx.credit_value).all()).sum() + 1,\n",
    "#         record_id=np.nan\n",
    "#     )\n",
    "    \n",
    "#     session.add(fake_trx)\n",
    "    \n",
    "#     last_addition_date = (session\n",
    "#         .query(CreditTrx.credit_trx_date)\n",
    "#         .filter(CreditTrx.credit_trx_type == \"Addition\")\n",
    "#         .order_by(CreditTrx.credit_trx_date.desc())\n",
    "#         .first()\n",
    "#     )[0]\n",
    "    \n",
    "#     days_since_last = (dt.date.today() - last_addition_date).days\n",
    "\n",
    "# session.commit()"
   ]
  },
  {
   "cell_type": "code",
   "execution_count": 38,
   "metadata": {
    "ExecuteTime": {
     "end_time": "2021-01-06T20:51:01.362840Z",
     "start_time": "2021-01-06T20:51:01.152840Z"
    }
   },
   "outputs": [],
   "source": [
    "def _get_days_since_last_addition() -> Tuple[dt.date, int]:\n",
    "    \"\"\"Return the date of and the number of days since the \n",
    "    last transaction with type 'Addition' stored in the \n",
    "    CreditTrx table. (This is called within 'add_credit').\n",
    "    \"\"\"\n",
    "    last_addition_date = (session\n",
    "        .query(CreditTrx.credit_trx_date)\n",
    "        .filter(CreditTrx.credit_trx_type == \"Addition\")\n",
    "        .order_by(CreditTrx.credit_trx_date.desc())\n",
    "        .first()\n",
    "    )[0]\n",
    "\n",
    "    days_since_last = (dt.date.today() - last_addition_date).days\n",
    "    \n",
    "    return last_addition_date, days_since_last\n",
    "\n",
    "\n",
    "def add_regular_credits(interval_days: int =10):\n",
    "    \"\"\"Every x days a new credit is added (to be spent\n",
    "    on purchasing new records). This function checks\n",
    "    the delta in days since the last addition and inserts\n",
    "    the necessary credit transactions depending on the\n",
    "    defined interval.\n",
    "    \"\"\"\n",
    "    last_addition_date, days_since_last = _get_days_since_last_addition()\n",
    "    \n",
    "    while days_since_last >= 10:\n",
    "        print(last_addition_date)\n",
    "        addition_trx = CreditTrx(\n",
    "            credit_trx_date=last_addition_date + dt.timedelta(days=interval_days),\n",
    "            credit_trx_type=\"Addition\",\n",
    "            credit_value=1,\n",
    "            credit_saldo=np.array(session.query(CreditTrx.credit_value).all()).sum() + 1,\n",
    "            record_id=np.nan\n",
    "        )\n",
    "        session.add(addition_trx)\n",
    "        last_addition_date, days_since_last = _get_days_since_last_addition()\n",
    "    \n",
    "    session.commit()"
   ]
  },
  {
   "cell_type": "code",
   "execution_count": 39,
   "metadata": {
    "ExecuteTime": {
     "end_time": "2021-01-06T20:51:01.624887Z",
     "start_time": "2021-01-06T20:51:01.365842Z"
    }
   },
   "outputs": [
    {
     "name": "stdout",
     "output_type": "stream",
     "text": [
      "2020-11-02\n",
      "2020-11-12\n",
      "2020-11-22\n",
      "2020-12-02\n",
      "2020-12-12\n",
      "2020-12-22\n"
     ]
    }
   ],
   "source": [
    "add_regular_credits()"
   ]
  },
  {
   "cell_type": "code",
   "execution_count": 40,
   "metadata": {
    "ExecuteTime": {
     "end_time": "2021-01-06T20:51:01.879889Z",
     "start_time": "2021-01-06T20:51:01.627887Z"
    }
   },
   "outputs": [
    {
     "data": {
      "text/plain": [
       "[<CreditTrx(credit_trx_id=1, credit_trx_date=2020-11-02, credit_trx_type=Addition, credit_value=1.0, credit_saldo=1.0, record_id=None)>,\n",
       " <CreditTrx(credit_trx_id=2, credit_trx_date=2020-11-01, credit_trx_type=Addition, credit_value=1.0, credit_saldo=2.0, record_id=None)>,\n",
       " <CreditTrx(credit_trx_id=3, credit_trx_date=2020-12-01, credit_trx_type=Test, credit_value=1.0, credit_saldo=3.0, record_id=None)>,\n",
       " <CreditTrx(credit_trx_id=4, credit_trx_date=2020-11-12, credit_trx_type=Addition, credit_value=1.0, credit_saldo=4.0, record_id=None)>,\n",
       " <CreditTrx(credit_trx_id=5, credit_trx_date=2020-11-22, credit_trx_type=Addition, credit_value=1.0, credit_saldo=5.0, record_id=None)>,\n",
       " <CreditTrx(credit_trx_id=6, credit_trx_date=2020-12-02, credit_trx_type=Addition, credit_value=1.0, credit_saldo=6.0, record_id=None)>,\n",
       " <CreditTrx(credit_trx_id=7, credit_trx_date=2020-12-12, credit_trx_type=Addition, credit_value=1.0, credit_saldo=7.0, record_id=None)>,\n",
       " <CreditTrx(credit_trx_id=8, credit_trx_date=2020-12-22, credit_trx_type=Addition, credit_value=1.0, credit_saldo=8.0, record_id=None)>,\n",
       " <CreditTrx(credit_trx_id=9, credit_trx_date=2021-01-01, credit_trx_type=Addition, credit_value=1.0, credit_saldo=9.0, record_id=None)>]"
      ]
     },
     "execution_count": 40,
     "metadata": {},
     "output_type": "execute_result"
    }
   ],
   "source": [
    "session.query(CreditTrx).all()"
   ]
  },
  {
   "cell_type": "code",
   "execution_count": 41,
   "metadata": {
    "ExecuteTime": {
     "end_time": "2021-01-06T20:51:02.106887Z",
     "start_time": "2021-01-06T20:51:01.883901Z"
    }
   },
   "outputs": [],
   "source": [
    "# session.rollback()"
   ]
  },
  {
   "cell_type": "code",
   "execution_count": 16,
   "metadata": {
    "ExecuteTime": {
     "end_time": "2021-01-09T06:51:59.795174Z",
     "start_time": "2021-01-09T06:51:59.610177Z"
    }
   },
   "outputs": [],
   "source": [
    "session.close()"
   ]
  }
 ],
 "metadata": {
  "hide_input": false,
  "kernelspec": {
   "display_name": "Python 3",
   "language": "python",
   "name": "python3"
  },
  "language_info": {
   "codemirror_mode": {
    "name": "ipython",
    "version": 3
   },
   "file_extension": ".py",
   "mimetype": "text/x-python",
   "name": "python",
   "nbconvert_exporter": "python",
   "pygments_lexer": "ipython3",
   "version": "3.8.3"
  },
  "toc": {
   "base_numbering": 1,
   "nav_menu": {},
   "number_sections": true,
   "sideBar": false,
   "skip_h1_title": true,
   "title_cell": "Table of Contents",
   "title_sidebar": "Contents",
   "toc_cell": false,
   "toc_position": {},
   "toc_section_display": true,
   "toc_window_display": false
  }
 },
 "nbformat": 4,
 "nbformat_minor": 4
}
