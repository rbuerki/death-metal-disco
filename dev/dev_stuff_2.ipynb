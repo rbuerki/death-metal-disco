{
 "cells": [
  {
   "cell_type": "code",
   "execution_count": 1,
   "metadata": {
    "ExecuteTime": {
     "end_time": "2021-01-13T05:09:32.249235Z",
     "start_time": "2021-01-13T05:09:30.593163Z"
    }
   },
   "outputs": [],
   "source": [
    "import configparser\n",
    "import datetime as dt\n",
    "import sys\n",
    "import collections\n",
    "from pathlib import Path\n",
    "from typing import Union, Optional, List, Tuple\n",
    "\n",
    "import codebook.EDA as EDA\n",
    "import codebook.clean as clean\n",
    "import numpy as np\n",
    "import pandas as pd\n",
    "import matplotlib.pyplot as plt\n",
    "import seaborn as sns\n",
    "import sqlalchemy\n",
    "from sqlalchemy import func, distinct"
   ]
  },
  {
   "cell_type": "code",
   "execution_count": 2,
   "metadata": {
    "ExecuteTime": {
     "end_time": "2021-01-13T05:09:32.416390Z",
     "start_time": "2021-01-13T05:09:32.252237Z"
    }
   },
   "outputs": [],
   "source": [
    "%load_ext autoreload\n",
    "%autoreload 2\n",
    "\n",
    "%matplotlib inline\n",
    "plt.style.use('raph-base')\n",
    "\n",
    "from IPython.core.interactiveshell import InteractiveShell\n",
    "InteractiveShell.ast_node_interactivity = 'all'\n",
    "\n",
    "pd.options.display.float_format = '{:,.2f}'.format\n",
    "pd.set_option('display.max_columns', 30)\n",
    "pd.set_option('display.expand_frame_repr', False)\n",
    "pd.set_option('max_colwidth', 800)\n",
    "\n",
    "np.random.seed(666)"
   ]
  },
  {
   "cell_type": "code",
   "execution_count": 3,
   "metadata": {
    "ExecuteTime": {
     "end_time": "2021-01-13T05:09:32.650280Z",
     "start_time": "2021-01-13T05:09:32.418281Z"
    }
   },
   "outputs": [],
   "source": [
    "sys.path.append(str(Path.cwd().parent))\n",
    "\n",
    "from src.db_declaration import Base, Artist, CreditTrx, Genre, Label, Record\n",
    "from src import db_functions\n",
    "from src import utils"
   ]
  },
  {
   "cell_type": "code",
   "execution_count": 4,
   "metadata": {
    "ExecuteTime": {
     "end_time": "2021-01-13T05:09:32.797280Z",
     "start_time": "2021-01-13T05:09:32.653284Z"
    }
   },
   "outputs": [
    {
     "name": "stdout",
     "output_type": "stream",
     "text": [
      "C:\\Users\\r2d4\\miniconda3\\envs\\py3\\python.exe\n",
      "3.8.3 (default, May 19 2020, 06:50:17) [MSC v.1916 64 bit (AMD64)]\n",
      "sqlalchemy 1.3.17\n"
     ]
    }
   ],
   "source": [
    "print(sys.executable)\n",
    "print(sys.version)\n",
    "print(f'sqlalchemy {sqlalchemy.__version__}')"
   ]
  },
  {
   "cell_type": "markdown",
   "metadata": {
    "ExecuteTime": {
     "end_time": "2020-12-23T06:08:49.546499Z",
     "start_time": "2020-12-23T06:08:49.412497Z"
    }
   },
   "source": [
    "## Connect To And (Re-)Create DB"
   ]
  },
  {
   "cell_type": "code",
   "execution_count": 5,
   "metadata": {
    "ExecuteTime": {
     "end_time": "2021-01-13T05:09:32.940282Z",
     "start_time": "2021-01-13T05:09:32.800280Z"
    }
   },
   "outputs": [],
   "source": [
    "CONFIG_PATH = Path.cwd().parent / \"config.cfg\""
   ]
  },
  {
   "cell_type": "code",
   "execution_count": 6,
   "metadata": {
    "ExecuteTime": {
     "end_time": "2021-01-13T05:09:33.309283Z",
     "start_time": "2021-01-13T05:09:32.943281Z"
    }
   },
   "outputs": [
    {
     "name": "stdout",
     "output_type": "stream",
     "text": [
      "C:\\Users\\r2d4\\OneDrive\\code\\projects\\20-02_disco\\dev\\DeafDiscoBase.db\n"
     ]
    }
   ],
   "source": [
    "path_to_db = utils.read_config_return_str(CONFIG_PATH, \"SQLITE_DEV\")\n",
    "engine = utils.create_engine(path_to_db)\n",
    "session = utils.create_session(engine)\n",
    "utils.create_DB_anew(engine, Base)"
   ]
  },
  {
   "cell_type": "code",
   "execution_count": 7,
   "metadata": {
    "ExecuteTime": {
     "end_time": "2021-01-13T05:09:33.630280Z",
     "start_time": "2021-01-13T05:09:33.314283Z"
    }
   },
   "outputs": [],
   "source": [
    "def load_some_albums_from_xlsx(\n",
    "    filepath: Union[Path, str],\n",
    "    n: int=3,\n",
    "    random_state: int=5,\n",
    ") -> pd.DataFrame:\n",
    "    \"\"\"Load the original album collection file into a dataframe.\n",
    "    You can specify a list of genres you want to include\n",
    "    (defaults to None).\n",
    "    \"\"\"\n",
    "    df = pd.read_excel(filepath, engine=\"openpyxl\")\n",
    "    return df.sample(n=n, random_state=random_state)\n",
    "\n",
    "\n",
    "def clean_collection(collection_df):\n",
    "    collection_df = clean.prettify_column_names(collection_df)\n",
    "    collection_df.dropna(thresh=8, inplace=True)\n",
    "    collection_df.rename(columns={\"format\": \"record_format\"}, inplace=True)\n",
    "    collection_df[\"label\"].fillna(\"NA\", inplace=True)  # because it creates a foreign key\n",
    "    collection_df[\"vinyl_color\"] = np.nan  # just for aesthetics ...\n",
    "    collection_df[\"artist_country\"] = None\n",
    "    collection_df[\"credit_value\"] = 0\n",
    "    collection_df[\"trx_type\"] = \"Initial Load\"\n",
    "    return collection_df"
   ]
  },
  {
   "cell_type": "code",
   "execution_count": 8,
   "metadata": {
    "ExecuteTime": {
     "end_time": "2021-01-13T05:09:34.765804Z",
     "start_time": "2021-01-13T05:09:33.633279Z"
    }
   },
   "outputs": [],
   "source": [
    "path_to_collection = utils.read_config_return_str(CONFIG_PATH, \"COLLECTION\")\n",
    "collection_df = load_some_albums_from_xlsx(path_to_collection)\n",
    "collection_df = clean_collection(collection_df)"
   ]
  },
  {
   "cell_type": "code",
   "execution_count": 9,
   "metadata": {
    "ExecuteTime": {
     "end_time": "2021-01-13T05:09:34.981805Z",
     "start_time": "2021-01-13T05:09:34.770810Z"
    }
   },
   "outputs": [
    {
     "data": {
      "text/html": [
       "<div>\n",
       "<style scoped>\n",
       "    .dataframe tbody tr th:only-of-type {\n",
       "        vertical-align: middle;\n",
       "    }\n",
       "\n",
       "    .dataframe tbody tr th {\n",
       "        vertical-align: top;\n",
       "    }\n",
       "\n",
       "    .dataframe thead th {\n",
       "        text-align: right;\n",
       "    }\n",
       "</style>\n",
       "<table border=\"1\" class=\"dataframe\">\n",
       "  <thead>\n",
       "    <tr style=\"text-align: right;\">\n",
       "      <th></th>\n",
       "      <th>active</th>\n",
       "      <th>artist</th>\n",
       "      <th>title</th>\n",
       "      <th>record_format</th>\n",
       "      <th>year</th>\n",
       "      <th>genre</th>\n",
       "      <th>price</th>\n",
       "      <th>purchase_date</th>\n",
       "      <th>vinyl_color</th>\n",
       "      <th>lim_edition</th>\n",
       "      <th>number</th>\n",
       "      <th>label</th>\n",
       "      <th>digitized</th>\n",
       "      <th>remarks</th>\n",
       "      <th>rating</th>\n",
       "      <th>artist_country</th>\n",
       "      <th>credit_value</th>\n",
       "      <th>trx_type</th>\n",
       "    </tr>\n",
       "  </thead>\n",
       "  <tbody>\n",
       "    <tr>\n",
       "      <th>28</th>\n",
       "      <td>1.00</td>\n",
       "      <td>Emperor</td>\n",
       "      <td>s/t</td>\n",
       "      <td>MLP</td>\n",
       "      <td>1,993.00</td>\n",
       "      <td>Black Metal</td>\n",
       "      <td>190.00</td>\n",
       "      <td>2014-08-01</td>\n",
       "      <td>nan</td>\n",
       "      <td>NaN</td>\n",
       "      <td>NaN</td>\n",
       "      <td>NA</td>\n",
       "      <td>False</td>\n",
       "      <td>NaN</td>\n",
       "      <td>nan</td>\n",
       "      <td>None</td>\n",
       "      <td>0</td>\n",
       "      <td>Initial Load</td>\n",
       "    </tr>\n",
       "    <tr>\n",
       "      <th>244</th>\n",
       "      <td>1.00</td>\n",
       "      <td>Gatecreeper</td>\n",
       "      <td>Deserted</td>\n",
       "      <td>LP</td>\n",
       "      <td>2,019.00</td>\n",
       "      <td>Death Metal</td>\n",
       "      <td>70.00</td>\n",
       "      <td>2020-01-01</td>\n",
       "      <td>nan</td>\n",
       "      <td>100</td>\n",
       "      <td>NaN</td>\n",
       "      <td>Relapse Records</td>\n",
       "      <td>True</td>\n",
       "      <td>NaN</td>\n",
       "      <td>8.00</td>\n",
       "      <td>None</td>\n",
       "      <td>0</td>\n",
       "      <td>Initial Load</td>\n",
       "    </tr>\n",
       "    <tr>\n",
       "      <th>123</th>\n",
       "      <td>1.00</td>\n",
       "      <td>Agnosy</td>\n",
       "      <td>Traits of The Past</td>\n",
       "      <td>LP</td>\n",
       "      <td>2,014.00</td>\n",
       "      <td>Crust</td>\n",
       "      <td>15.00</td>\n",
       "      <td>2017-08-01</td>\n",
       "      <td>nan</td>\n",
       "      <td>NaN</td>\n",
       "      <td>NaN</td>\n",
       "      <td>NA</td>\n",
       "      <td>True</td>\n",
       "      <td>NaN</td>\n",
       "      <td>nan</td>\n",
       "      <td>None</td>\n",
       "      <td>0</td>\n",
       "      <td>Initial Load</td>\n",
       "    </tr>\n",
       "  </tbody>\n",
       "</table>\n",
       "</div>"
      ],
      "text/plain": [
       "     active       artist               title record_format     year        genre  price purchase_date  vinyl_color lim_edition number            label digitized remarks  rating artist_country  credit_value      trx_type\n",
       "28     1.00      Emperor                 s/t           MLP 1,993.00  Black Metal 190.00    2014-08-01          nan         NaN    NaN               NA     False     NaN     nan           None             0  Initial Load\n",
       "244    1.00  Gatecreeper            Deserted            LP 2,019.00  Death Metal  70.00    2020-01-01          nan         100    NaN  Relapse Records      True     NaN    8.00           None             0  Initial Load\n",
       "123    1.00       Agnosy  Traits of The Past            LP 2,014.00        Crust  15.00    2017-08-01          nan         NaN    NaN               NA      True     NaN     nan           None             0  Initial Load"
      ]
     },
     "execution_count": 9,
     "metadata": {},
     "output_type": "execute_result"
    }
   ],
   "source": [
    "collection_df"
   ]
  },
  {
   "cell_type": "code",
   "execution_count": 10,
   "metadata": {
    "ExecuteTime": {
     "end_time": "2021-01-13T05:09:35.294808Z",
     "start_time": "2021-01-13T05:09:34.984804Z"
    }
   },
   "outputs": [
    {
     "data": {
      "text/plain": [
       "{'active': 1.0,\n",
       " 'artist': 'Witch Vomit',\n",
       " 'title': 'Poisoned Blood',\n",
       " 'record_format': 'MLP',\n",
       " 'year': 2017.0,\n",
       " 'genre': 'Death Metal',\n",
       " 'price': 15.0,\n",
       " 'purchase_date': Timestamp('2020-06-01 00:00:00'),\n",
       " 'vinyl_color': nan,\n",
       " 'lim_edition': nan,\n",
       " 'number': nan,\n",
       " 'label': '20 Buck Spin',\n",
       " 'digitized': True,\n",
       " 'remarks': nan,\n",
       " 'rating': 8.0,\n",
       " 'artist_country': None,\n",
       " 'credit_value': 1,\n",
       " 'trx_type': 'Purchase'}"
      ]
     },
     "execution_count": 10,
     "metadata": {},
     "output_type": "execute_result"
    }
   ],
   "source": [
    "# Create an additional test_record\n",
    "\n",
    "test_record = load_some_albums_from_xlsx(path_to_collection, 1, 1)\n",
    "test_record = clean_collection(test_record)\n",
    "test_record = test_record.to_dict(orient=\"records\")[0]\n",
    "test_record[\"trx_type\"] = \"Purchase\"\n",
    "test_record[\"credit_value\"] = 1\n",
    "test_record"
   ]
  },
  {
   "cell_type": "markdown",
   "metadata": {
    "ExecuteTime": {
     "end_time": "2020-12-23T21:50:04.810370Z",
     "start_time": "2020-12-23T21:50:04.664351Z"
    }
   },
   "source": [
    "### Initial Load of 3 Records"
   ]
  },
  {
   "cell_type": "code",
   "execution_count": 11,
   "metadata": {
    "ExecuteTime": {
     "end_time": "2021-01-13T05:09:35.470807Z",
     "start_time": "2021-01-13T05:09:35.297808Z"
    }
   },
   "outputs": [],
   "source": [
    "def insert_df_with_sqlalchemy_orm(session, df):\n",
    "    for x in df.to_dict(\"records\"):\n",
    "        db_functions.add_new_record(session, x)"
   ]
  },
  {
   "cell_type": "code",
   "execution_count": 12,
   "metadata": {
    "ExecuteTime": {
     "end_time": "2021-01-13T05:09:35.794810Z",
     "start_time": "2021-01-13T05:09:35.473807Z"
    }
   },
   "outputs": [
    {
     "name": "stderr",
     "output_type": "stream",
     "text": [
      "C:\\Users\\r2d4\\miniconda3\\envs\\py3\\lib\\site-packages\\sqlalchemy\\sql\\sqltypes.py:660: SAWarning: Dialect sqlite+pysqlite does *not* support Decimal objects natively, and SQLAlchemy must convert from floating point - rounding errors and other issues may occur. Please consider storing Decimal numbers as strings or integers on this platform for lossless storage.\n",
      "  util.warn(\n"
     ]
    }
   ],
   "source": [
    "insert_df_with_sqlalchemy_orm(session, collection_df)\n",
    "\n",
    "assert session.query(Record).count() == 3"
   ]
  },
  {
   "cell_type": "markdown",
   "metadata": {},
   "source": [
    "### Insertion of 2 Credit Addition Trx"
   ]
  },
  {
   "cell_type": "code",
   "execution_count": 13,
   "metadata": {
    "ExecuteTime": {
     "end_time": "2021-01-13T05:09:35.964801Z",
     "start_time": "2021-01-13T05:09:35.798810Z"
    }
   },
   "outputs": [],
   "source": [
    "# to_delete = session.query(CreditTrx).filter(CreditTrx.credit_trx_id == 8).one()\n",
    "# session.delete(to_delete)\n",
    "# session.commit()"
   ]
  },
  {
   "cell_type": "code",
   "execution_count": 14,
   "metadata": {
    "ExecuteTime": {
     "end_time": "2021-01-13T05:09:36.144806Z",
     "start_time": "2021-01-13T05:09:35.967804Z"
    }
   },
   "outputs": [
    {
     "name": "stdout",
     "output_type": "stream",
     "text": [
      "Creating 'Addition' Trx for: 2021-01-12\n"
     ]
    }
   ],
   "source": [
    "# Initial trx, 11 days ago\n",
    "\n",
    "addition_trx = CreditTrx(\n",
    "    credit_trx_date=dt.datetime.today().date() - dt.timedelta(11),\n",
    "    credit_trx_type=\"Addition\",\n",
    "    credit_value=1,\n",
    "    credit_saldo=1,\n",
    "    record_id=np.nan\n",
    ")\n",
    "session.add(addition_trx)\n",
    "\n",
    "# And a regular interval addition\n",
    "db_functions.add_regular_credits(session)\n",
    "\n",
    "session.commit()"
   ]
  },
  {
   "cell_type": "code",
   "execution_count": 15,
   "metadata": {
    "ExecuteTime": {
     "end_time": "2021-01-13T05:09:36.313805Z",
     "start_time": "2021-01-13T05:09:36.148804Z"
    }
   },
   "outputs": [
    {
     "data": {
      "text/plain": [
       "[<CreditTrx(credit_trx_id=1, credit_trx_date=2014-08-01, credit_trx_type=Initial Load, credit_value=0.0, credit_saldo=0.0, record_id=1)>,\n",
       " <CreditTrx(credit_trx_id=2, credit_trx_date=2020-01-01, credit_trx_type=Initial Load, credit_value=0.0, credit_saldo=0.0, record_id=2)>,\n",
       " <CreditTrx(credit_trx_id=3, credit_trx_date=2017-08-01, credit_trx_type=Initial Load, credit_value=0.0, credit_saldo=0.0, record_id=3)>,\n",
       " <CreditTrx(credit_trx_id=4, credit_trx_date=2021-01-02, credit_trx_type=Addition, credit_value=1.0, credit_saldo=1.0, record_id=None)>,\n",
       " <CreditTrx(credit_trx_id=5, credit_trx_date=2021-01-12, credit_trx_type=Addition, credit_value=1.0, credit_saldo=2.0, record_id=None)>]"
      ]
     },
     "execution_count": 15,
     "metadata": {},
     "output_type": "execute_result"
    }
   ],
   "source": [
    "session.query(CreditTrx).all()"
   ]
  },
  {
   "cell_type": "markdown",
   "metadata": {},
   "source": [
    "### Insertion of new Record"
   ]
  },
  {
   "cell_type": "code",
   "execution_count": 16,
   "metadata": {
    "ExecuteTime": {
     "end_time": "2021-01-13T05:09:36.522804Z",
     "start_time": "2021-01-13T05:09:36.316805Z"
    }
   },
   "outputs": [],
   "source": [
    "db_functions.add_new_record(session, test_record)\n",
    "\n",
    "assert session.query(Record).count() == 4"
   ]
  },
  {
   "cell_type": "code",
   "execution_count": 17,
   "metadata": {
    "ExecuteTime": {
     "end_time": "2021-01-13T05:09:36.711805Z",
     "start_time": "2021-01-13T05:09:36.525808Z"
    }
   },
   "outputs": [
    {
     "data": {
      "text/plain": [
       "[<CreditTrx(credit_trx_id=5, credit_trx_date=2021-01-12, credit_trx_type=Addition, credit_value=1.0, credit_saldo=2.0, record_id=None)>,\n",
       " <CreditTrx(credit_trx_id=6, credit_trx_date=2020-06-01, credit_trx_type=Purchase, credit_value=-1.0, credit_saldo=1.0, record_id=4)>]"
      ]
     },
     "execution_count": 17,
     "metadata": {},
     "output_type": "execute_result"
    }
   ],
   "source": [
    "session.query(CreditTrx).all()[-2:]"
   ]
  },
  {
   "cell_type": "markdown",
   "metadata": {},
   "source": [
    "### Removal of Existing Record\n",
    "\n",
    "Necessary cols: trx_type, credit_value, title, artist, year, date"
   ]
  },
  {
   "cell_type": "code",
   "execution_count": 18,
   "metadata": {
    "ExecuteTime": {
     "end_time": "2021-01-13T05:09:36.921800Z",
     "start_time": "2021-01-13T05:09:36.714804Z"
    }
   },
   "outputs": [],
   "source": [
    "test_removal = {\n",
    "    \"trx_type\": \"Removal\",\n",
    "    \"credit_value\": 1,\n",
    "    \"artist\": \"Emperor\",\n",
    "    \"title\": \"s/t\",\n",
    "    \"year\": 1993,\n",
    "    \"date\": dt.datetime.today().date()\n",
    "}"
   ]
  },
  {
   "cell_type": "code",
   "execution_count": 19,
   "metadata": {
    "ExecuteTime": {
     "end_time": "2021-01-13T05:09:37.109809Z",
     "start_time": "2021-01-13T05:09:36.924805Z"
    }
   },
   "outputs": [
    {
     "name": "stdout",
     "output_type": "stream",
     "text": [
      "Record set to inactive.\n"
     ]
    }
   ],
   "source": [
    "db_functions.set_record_to_inactive(session, test_removal)"
   ]
  },
  {
   "cell_type": "code",
   "execution_count": 20,
   "metadata": {
    "ExecuteTime": {
     "end_time": "2021-01-13T05:09:37.310813Z",
     "start_time": "2021-01-13T05:09:37.115805Z"
    }
   },
   "outputs": [
    {
     "data": {
      "text/plain": [
       "[(2)]"
      ]
     },
     "execution_count": 20,
     "metadata": {},
     "output_type": "execute_result"
    },
    {
     "data": {
      "text/plain": [
       "[(1), (3)]"
      ]
     },
     "execution_count": 20,
     "metadata": {},
     "output_type": "execute_result"
    }
   ],
   "source": [
    "session.query(func.count(distinct(Record.active))).all()\n",
    "session.query(func.count(Record.record_id)).group_by(Record.active).all()"
   ]
  },
  {
   "cell_type": "code",
   "execution_count": 21,
   "metadata": {
    "ExecuteTime": {
     "end_time": "2021-01-13T05:09:37.558808Z",
     "start_time": "2021-01-13T05:09:37.314805Z"
    }
   },
   "outputs": [
    {
     "data": {
      "text/plain": [
       "[<CreditTrx(credit_trx_id=6, credit_trx_date=2020-06-01, credit_trx_type=Purchase, credit_value=-1.0, credit_saldo=1.0, record_id=4)>,\n",
       " <CreditTrx(credit_trx_id=7, credit_trx_date=2021-01-13, credit_trx_type=Removal, credit_value=1.0, credit_saldo=2.0, record_id=1)>]"
      ]
     },
     "execution_count": 21,
     "metadata": {},
     "output_type": "execute_result"
    }
   ],
   "source": [
    "session.query(CreditTrx).all()[-2:]"
   ]
  },
  {
   "cell_type": "markdown",
   "metadata": {},
   "source": [
    "### Reactivation of inactive Record [OPEN]"
   ]
  },
  {
   "cell_type": "code",
   "execution_count": 22,
   "metadata": {
    "ExecuteTime": {
     "end_time": "2021-01-13T05:09:37.743803Z",
     "start_time": "2021-01-13T05:09:37.562804Z"
    }
   },
   "outputs": [
    {
     "ename": "SyntaxError",
     "evalue": "invalid syntax (<ipython-input-22-113f0640163f>, line 1)",
     "output_type": "error",
     "traceback": [
      "\u001b[1;36m  File \u001b[1;32m\"<ipython-input-22-113f0640163f>\"\u001b[1;36m, line \u001b[1;32m1\u001b[0m\n\u001b[1;33m    ATTENTION It has to be possible ro re-add inactive records! (and to pay for it in credits!)\u001b[0m\n\u001b[1;37m              ^\u001b[0m\n\u001b[1;31mSyntaxError\u001b[0m\u001b[1;31m:\u001b[0m invalid syntax\n"
     ]
    }
   ],
   "source": [
    "# ATTENTION It has to be possible ro re-add inactive records! (and to pay for it in credits!)"
   ]
  },
  {
   "cell_type": "markdown",
   "metadata": {},
   "source": [
    "## Query DB"
   ]
  },
  {
   "cell_type": "code",
   "execution_count": 27,
   "metadata": {
    "ExecuteTime": {
     "end_time": "2021-01-13T05:29:39.375369Z",
     "start_time": "2021-01-13T05:29:39.173341Z"
    }
   },
   "outputs": [
    {
     "data": {
      "text/html": [
       "<div>\n",
       "<style scoped>\n",
       "    .dataframe tbody tr th:only-of-type {\n",
       "        vertical-align: middle;\n",
       "    }\n",
       "\n",
       "    .dataframe tbody tr th {\n",
       "        vertical-align: top;\n",
       "    }\n",
       "\n",
       "    .dataframe thead th {\n",
       "        text-align: right;\n",
       "    }\n",
       "</style>\n",
       "<table border=\"1\" class=\"dataframe\">\n",
       "  <thead>\n",
       "    <tr style=\"text-align: right;\">\n",
       "      <th></th>\n",
       "      <th>record_id</th>\n",
       "      <th>artist_id</th>\n",
       "      <th>title</th>\n",
       "      <th>genre_id</th>\n",
       "      <th>label</th>\n",
       "      <th>year</th>\n",
       "      <th>format_id</th>\n",
       "      <th>vinyl_color</th>\n",
       "      <th>lim_edition</th>\n",
       "      <th>number</th>\n",
       "      <th>remarks</th>\n",
       "      <th>purchase_date</th>\n",
       "      <th>price</th>\n",
       "      <th>digitized</th>\n",
       "      <th>rating</th>\n",
       "      <th>active</th>\n",
       "      <th>created_at</th>\n",
       "      <th>updated_at</th>\n",
       "    </tr>\n",
       "  </thead>\n",
       "  <tbody>\n",
       "    <tr>\n",
       "      <th>0</th>\n",
       "      <td>1</td>\n",
       "      <td>1</td>\n",
       "      <td>s/t</td>\n",
       "      <td>1</td>\n",
       "      <td>None</td>\n",
       "      <td>1993</td>\n",
       "      <td>None</td>\n",
       "      <td>None</td>\n",
       "      <td>None</td>\n",
       "      <td>None</td>\n",
       "      <td>None</td>\n",
       "      <td>2014-08-01</td>\n",
       "      <td>190</td>\n",
       "      <td>0</td>\n",
       "      <td>nan</td>\n",
       "      <td>0</td>\n",
       "      <td>2021-01-13 05:09:35</td>\n",
       "      <td>2021-01-13 05:09:37</td>\n",
       "    </tr>\n",
       "    <tr>\n",
       "      <th>1</th>\n",
       "      <td>2</td>\n",
       "      <td>2</td>\n",
       "      <td>Deserted</td>\n",
       "      <td>2</td>\n",
       "      <td>None</td>\n",
       "      <td>2019</td>\n",
       "      <td>None</td>\n",
       "      <td>gray</td>\n",
       "      <td>100</td>\n",
       "      <td>None</td>\n",
       "      <td>None</td>\n",
       "      <td>2020-01-01</td>\n",
       "      <td>70</td>\n",
       "      <td>1</td>\n",
       "      <td>8.00</td>\n",
       "      <td>1</td>\n",
       "      <td>2021-01-13 05:09:35</td>\n",
       "      <td>2021-01-13 05:29:32</td>\n",
       "    </tr>\n",
       "    <tr>\n",
       "      <th>2</th>\n",
       "      <td>3</td>\n",
       "      <td>3</td>\n",
       "      <td>Traits of The Past</td>\n",
       "      <td>3</td>\n",
       "      <td>None</td>\n",
       "      <td>2014</td>\n",
       "      <td>None</td>\n",
       "      <td>None</td>\n",
       "      <td>None</td>\n",
       "      <td>None</td>\n",
       "      <td>None</td>\n",
       "      <td>2017-08-01</td>\n",
       "      <td>15</td>\n",
       "      <td>1</td>\n",
       "      <td>nan</td>\n",
       "      <td>1</td>\n",
       "      <td>2021-01-13 05:09:35</td>\n",
       "      <td>NaT</td>\n",
       "    </tr>\n",
       "    <tr>\n",
       "      <th>3</th>\n",
       "      <td>4</td>\n",
       "      <td>4</td>\n",
       "      <td>Poisoned Blood</td>\n",
       "      <td>2</td>\n",
       "      <td>None</td>\n",
       "      <td>2017</td>\n",
       "      <td>None</td>\n",
       "      <td>None</td>\n",
       "      <td>None</td>\n",
       "      <td>None</td>\n",
       "      <td>None</td>\n",
       "      <td>2020-06-01</td>\n",
       "      <td>15</td>\n",
       "      <td>1</td>\n",
       "      <td>8.00</td>\n",
       "      <td>1</td>\n",
       "      <td>2021-01-13 05:09:36</td>\n",
       "      <td>NaT</td>\n",
       "    </tr>\n",
       "  </tbody>\n",
       "</table>\n",
       "</div>"
      ],
      "text/plain": [
       "   record_id  artist_id               title  genre_id label  year format_id vinyl_color lim_edition number remarks purchase_date  price  digitized  rating  active          created_at          updated_at\n",
       "0          1          1                 s/t         1  None  1993      None        None        None   None    None    2014-08-01    190          0     nan       0 2021-01-13 05:09:35 2021-01-13 05:09:37\n",
       "1          2          2            Deserted         2  None  2019      None        gray         100   None    None    2020-01-01     70          1    8.00       1 2021-01-13 05:09:35 2021-01-13 05:29:32\n",
       "2          3          3  Traits of The Past         3  None  2014      None        None        None   None    None    2017-08-01     15          1     nan       1 2021-01-13 05:09:35                 NaT\n",
       "3          4          4      Poisoned Blood         2  None  2017      None        None        None   None    None    2020-06-01     15          1    8.00       1 2021-01-13 05:09:36                 NaT"
      ]
     },
     "execution_count": 27,
     "metadata": {},
     "output_type": "execute_result"
    }
   ],
   "source": [
    "pd.read_sql(\"records\", engine)"
   ]
  },
  {
   "cell_type": "code",
   "execution_count": 28,
   "metadata": {
    "ExecuteTime": {
     "end_time": "2021-01-13T05:29:46.506337Z",
     "start_time": "2021-01-13T05:29:46.315357Z"
    }
   },
   "outputs": [
    {
     "data": {
      "text/html": [
       "<div>\n",
       "<style scoped>\n",
       "    .dataframe tbody tr th:only-of-type {\n",
       "        vertical-align: middle;\n",
       "    }\n",
       "\n",
       "    .dataframe tbody tr th {\n",
       "        vertical-align: top;\n",
       "    }\n",
       "\n",
       "    .dataframe thead th {\n",
       "        text-align: right;\n",
       "    }\n",
       "</style>\n",
       "<table border=\"1\" class=\"dataframe\">\n",
       "  <thead>\n",
       "    <tr style=\"text-align: right;\">\n",
       "      <th></th>\n",
       "      <th>format_id</th>\n",
       "      <th>format_name</th>\n",
       "      <th>created_at</th>\n",
       "      <th>updated_at</th>\n",
       "    </tr>\n",
       "  </thead>\n",
       "  <tbody>\n",
       "    <tr>\n",
       "      <th>0</th>\n",
       "      <td>1</td>\n",
       "      <td>MLP</td>\n",
       "      <td>2021-01-13 05:09:35</td>\n",
       "      <td>NaT</td>\n",
       "    </tr>\n",
       "    <tr>\n",
       "      <th>1</th>\n",
       "      <td>2</td>\n",
       "      <td>LP</td>\n",
       "      <td>2021-01-13 05:09:35</td>\n",
       "      <td>NaT</td>\n",
       "    </tr>\n",
       "    <tr>\n",
       "      <th>2</th>\n",
       "      <td>3</td>\n",
       "      <td>12\"</td>\n",
       "      <td>2021-01-13 05:29:32</td>\n",
       "      <td>NaT</td>\n",
       "    </tr>\n",
       "  </tbody>\n",
       "</table>\n",
       "</div>"
      ],
      "text/plain": [
       "   format_id format_name          created_at updated_at\n",
       "0          1         MLP 2021-01-13 05:09:35        NaT\n",
       "1          2          LP 2021-01-13 05:09:35        NaT\n",
       "2          3         12\" 2021-01-13 05:29:32        NaT"
      ]
     },
     "execution_count": 28,
     "metadata": {},
     "output_type": "execute_result"
    }
   ],
   "source": [
    "pd.read_sql(\"formats\", engine)"
   ]
  },
  {
   "cell_type": "code",
   "execution_count": 29,
   "metadata": {
    "ExecuteTime": {
     "end_time": "2021-01-13T05:29:51.489589Z",
     "start_time": "2021-01-13T05:29:51.300549Z"
    }
   },
   "outputs": [
    {
     "data": {
      "text/html": [
       "<div>\n",
       "<style scoped>\n",
       "    .dataframe tbody tr th:only-of-type {\n",
       "        vertical-align: middle;\n",
       "    }\n",
       "\n",
       "    .dataframe tbody tr th {\n",
       "        vertical-align: top;\n",
       "    }\n",
       "\n",
       "    .dataframe thead th {\n",
       "        text-align: right;\n",
       "    }\n",
       "</style>\n",
       "<table border=\"1\" class=\"dataframe\">\n",
       "  <thead>\n",
       "    <tr style=\"text-align: right;\">\n",
       "      <th></th>\n",
       "      <th>label_id</th>\n",
       "      <th>label_name</th>\n",
       "      <th>created_at</th>\n",
       "      <th>updated_at</th>\n",
       "    </tr>\n",
       "  </thead>\n",
       "  <tbody>\n",
       "    <tr>\n",
       "      <th>0</th>\n",
       "      <td>1</td>\n",
       "      <td>NA</td>\n",
       "      <td>2021-01-13 05:09:35</td>\n",
       "      <td>NaT</td>\n",
       "    </tr>\n",
       "    <tr>\n",
       "      <th>1</th>\n",
       "      <td>2</td>\n",
       "      <td>Relapse Records</td>\n",
       "      <td>2021-01-13 05:09:35</td>\n",
       "      <td>NaT</td>\n",
       "    </tr>\n",
       "    <tr>\n",
       "      <th>2</th>\n",
       "      <td>3</td>\n",
       "      <td>20 Buck Spin</td>\n",
       "      <td>2021-01-13 05:09:36</td>\n",
       "      <td>NaT</td>\n",
       "    </tr>\n",
       "    <tr>\n",
       "      <th>3</th>\n",
       "      <td>4</td>\n",
       "      <td>Test Records</td>\n",
       "      <td>2021-01-13 05:29:32</td>\n",
       "      <td>NaT</td>\n",
       "    </tr>\n",
       "  </tbody>\n",
       "</table>\n",
       "</div>"
      ],
      "text/plain": [
       "   label_id       label_name          created_at updated_at\n",
       "0         1               NA 2021-01-13 05:09:35        NaT\n",
       "1         2  Relapse Records 2021-01-13 05:09:35        NaT\n",
       "2         3     20 Buck Spin 2021-01-13 05:09:36        NaT\n",
       "3         4     Test Records 2021-01-13 05:29:32        NaT"
      ]
     },
     "execution_count": 29,
     "metadata": {},
     "output_type": "execute_result"
    }
   ],
   "source": [
    "pd.read_sql(\"labels\", engine)"
   ]
  },
  {
   "cell_type": "code",
   "execution_count": 35,
   "metadata": {
    "ExecuteTime": {
     "end_time": "2021-01-13T05:33:46.631395Z",
     "start_time": "2021-01-13T05:33:46.469365Z"
    }
   },
   "outputs": [
    {
     "name": "stdout",
     "output_type": "stream",
     "text": [
      "[<Label(label_id=2, label_name=Relapse Records)>, <Label(label_id=4, label_name=Test Records)>]\n"
     ]
    }
   ],
   "source": [
    "for result in session.query(Record).filter(Record.title == \"Deserted\").all():\n",
    "    print(result.labels)"
   ]
  },
  {
   "cell_type": "code",
   "execution_count": null,
   "metadata": {},
   "outputs": [],
   "source": [
    "Note: On Updates the old values are not overwritten ..."
   ]
  }
 ],
 "metadata": {
  "hide_input": false,
  "kernelspec": {
   "display_name": "Python 3",
   "language": "python",
   "name": "python3"
  },
  "language_info": {
   "codemirror_mode": {
    "name": "ipython",
    "version": 3
   },
   "file_extension": ".py",
   "mimetype": "text/x-python",
   "name": "python",
   "nbconvert_exporter": "python",
   "pygments_lexer": "ipython3",
   "version": "3.8.3"
  },
  "toc": {
   "base_numbering": 1,
   "nav_menu": {},
   "number_sections": true,
   "sideBar": false,
   "skip_h1_title": true,
   "title_cell": "Table of Contents",
   "title_sidebar": "Contents",
   "toc_cell": false,
   "toc_position": {},
   "toc_section_display": true,
   "toc_window_display": false
  }
 },
 "nbformat": 4,
 "nbformat_minor": 4
}
