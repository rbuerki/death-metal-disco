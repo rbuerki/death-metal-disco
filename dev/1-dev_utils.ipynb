{
 "cells": [
  {
   "cell_type": "code",
   "execution_count": 8,
   "metadata": {
    "ExecuteTime": {
     "end_time": "2020-12-21T11:29:24.733764Z",
     "start_time": "2020-12-21T11:29:24.567705Z"
    }
   },
   "outputs": [],
   "source": [
    "import configparser\n",
    "import datetime as dt\n",
    "import sys\n",
    "from pathlib import Path\n",
    "\n",
    "import codebook.EDA as EDA\n",
    "import codebook.clean as clean\n",
    "import numpy as np\n",
    "import pandas as pd\n",
    "import matplotlib.pyplot as plt\n",
    "import seaborn as sns"
   ]
  },
  {
   "cell_type": "code",
   "execution_count": 2,
   "metadata": {
    "ExecuteTime": {
     "end_time": "2020-12-21T10:08:27.007826Z",
     "start_time": "2020-12-21T10:08:26.893836Z"
    }
   },
   "outputs": [],
   "source": [
    "%load_ext autoreload\n",
    "%autoreload 2\n",
    "\n",
    "%matplotlib inline\n",
    "plt.style.use('raph-base')\n",
    "\n",
    "from IPython.core.interactiveshell import InteractiveShell\n",
    "InteractiveShell.ast_node_interactivity = 'all'\n",
    "\n",
    "pd.options.display.float_format = '{:,.2f}'.format\n",
    "pd.set_option('display.max_columns', 30)\n",
    "pd.set_option('display.expand_frame_repr', False)\n",
    "pd.set_option('max_colwidth', 800)\n",
    "\n",
    "np.random.seed(666)"
   ]
  },
  {
   "cell_type": "code",
   "execution_count": 3,
   "metadata": {
    "ExecuteTime": {
     "end_time": "2020-12-21T10:08:30.498297Z",
     "start_time": "2020-12-21T10:08:30.392154Z"
    }
   },
   "outputs": [],
   "source": [
    "sys.path.append(str(Path.cwd().parent / 'src'))"
   ]
  },
  {
   "cell_type": "code",
   "execution_count": 4,
   "metadata": {
    "ExecuteTime": {
     "end_time": "2020-12-21T10:08:31.240497Z",
     "start_time": "2020-12-21T10:08:31.103490Z"
    }
   },
   "outputs": [
    {
     "name": "stdout",
     "output_type": "stream",
     "text": [
      "C:\\Users\\r2d4\\miniconda3\\envs\\py3\\python.exe\n",
      "3.8.3 (default, May 19 2020, 06:50:17) [MSC v.1916 64 bit (AMD64)]\n",
      "Pandas 1.1.3\n"
     ]
    }
   ],
   "source": [
    "print(sys.executable)\n",
    "print(sys.version)\n",
    "print(f'Pandas {pd.__version__}')"
   ]
  },
  {
   "cell_type": "code",
   "execution_count": 5,
   "metadata": {
    "ExecuteTime": {
     "end_time": "2020-12-21T11:27:40.817547Z",
     "start_time": "2020-12-21T11:27:40.683547Z"
    }
   },
   "outputs": [],
   "source": [
    "def read_config_return_str(filepath: Path, section: str) -> str:\n",
    "    \"\"\"Read a config file section with one parameter and\n",
    "    return a string. Will raise an exception if more than\n",
    "    one parameter is found in the section.\n",
    "    \"\"\"\n",
    "    config = configparser.ConfigParser()\n",
    "    if not Path(filepath).is_file():\n",
    "        raise FileNotFoundError(\n",
    "            f\"Config file not found. Please check the path \"\n",
    "            f\"to the config file: {filepath}\"\n",
    "        )\n",
    "    else:\n",
    "        config.read(filepath)\n",
    "        if config.has_section(section):\n",
    "            params = config.items(section)\n",
    "            print(params)\n",
    "            print(type(params))\n",
    "            if len(params) > 1:\n",
    "                raise ValueError(\n",
    "                    f\"Section {section} has more than one parameter.\"\n",
    "                )\n",
    "            db_param = params[0][1]\n",
    "        else:\n",
    "            raise ValueError(f\"Section {section} not found in {filepath}.\")\n",
    "\n",
    "        return db_param"
   ]
  },
  {
   "cell_type": "code",
   "execution_count": 9,
   "metadata": {
    "ExecuteTime": {
     "end_time": "2020-12-21T11:29:28.293453Z",
     "start_time": "2020-12-21T11:29:28.176406Z"
    }
   },
   "outputs": [
    {
     "name": "stdout",
     "output_type": "stream",
     "text": [
      "[('path', 'DiscoBase.db')]\n",
      "<class 'list'>\n"
     ]
    },
    {
     "ename": "ValueError",
     "evalue": "Section SQLITE has more than one parameter.",
     "output_type": "error",
     "traceback": [
      "\u001b[1;31m---------------------------------------------------------------------------\u001b[0m",
      "\u001b[1;31mValueError\u001b[0m                                Traceback (most recent call last)",
      "\u001b[1;32m<ipython-input-9-b4ee6380dd2a>\u001b[0m in \u001b[0;36m<module>\u001b[1;34m\u001b[0m\n\u001b[0;32m      2\u001b[0m \u001b[0msection\u001b[0m \u001b[1;33m=\u001b[0m \u001b[1;34m\"SQLITE\"\u001b[0m\u001b[1;33m\u001b[0m\u001b[1;33m\u001b[0m\u001b[0m\n\u001b[0;32m      3\u001b[0m \u001b[1;33m\u001b[0m\u001b[0m\n\u001b[1;32m----> 4\u001b[1;33m \u001b[0mread_config_return_str\u001b[0m\u001b[1;33m(\u001b[0m\u001b[0mfilepath\u001b[0m\u001b[1;33m,\u001b[0m \u001b[0msection\u001b[0m\u001b[1;33m)\u001b[0m\u001b[1;33m\u001b[0m\u001b[1;33m\u001b[0m\u001b[0m\n\u001b[0m",
      "\u001b[1;32m<ipython-input-5-603a847be8eb>\u001b[0m in \u001b[0;36mread_config_return_str\u001b[1;34m(filepath, section)\u001b[0m\n\u001b[0;32m     17\u001b[0m             \u001b[0mprint\u001b[0m\u001b[1;33m(\u001b[0m\u001b[0mtype\u001b[0m\u001b[1;33m(\u001b[0m\u001b[0mparams\u001b[0m\u001b[1;33m)\u001b[0m\u001b[1;33m)\u001b[0m\u001b[1;33m\u001b[0m\u001b[1;33m\u001b[0m\u001b[0m\n\u001b[0;32m     18\u001b[0m             \u001b[1;32mif\u001b[0m \u001b[0mlen\u001b[0m\u001b[1;33m(\u001b[0m\u001b[0mparams\u001b[0m\u001b[1;33m)\u001b[0m \u001b[1;33m>\u001b[0m \u001b[1;36m0\u001b[0m\u001b[1;33m:\u001b[0m\u001b[1;33m\u001b[0m\u001b[1;33m\u001b[0m\u001b[0m\n\u001b[1;32m---> 19\u001b[1;33m                 raise ValueError(\n\u001b[0m\u001b[0;32m     20\u001b[0m                     \u001b[1;34mf\"Section {section} has more than one parameter.\"\u001b[0m\u001b[1;33m\u001b[0m\u001b[1;33m\u001b[0m\u001b[0m\n\u001b[0;32m     21\u001b[0m                 )\n",
      "\u001b[1;31mValueError\u001b[0m: Section SQLITE has more than one parameter."
     ]
    }
   ],
   "source": [
    "filepath = r\"C:\\Users\\r2d4\\OneDrive\\code\\projects\\20-02_disco\\tests\\data\\config_test.cfg\"\n",
    "section = \"SQLITE\"\n",
    "\n",
    "read_config_return_str(filepath, section)"
   ]
  },
  {
   "cell_type": "code",
   "execution_count": null,
   "metadata": {
    "ExecuteTime": {
     "end_time": "2020-12-21T12:20:03.352983Z",
     "start_time": "2020-12-21T12:20:03.149529Z"
    }
   },
   "outputs": [],
   "source": []
  },
  {
   "cell_type": "code",
   "execution_count": null,
   "metadata": {},
   "outputs": [],
   "source": []
  }
 ],
 "metadata": {
  "hide_input": false,
  "kernelspec": {
   "display_name": "Python 3",
   "language": "python",
   "name": "python3"
  },
  "language_info": {
   "codemirror_mode": {
    "name": "ipython",
    "version": 3
   },
   "file_extension": ".py",
   "mimetype": "text/x-python",
   "name": "python",
   "nbconvert_exporter": "python",
   "pygments_lexer": "ipython3",
   "version": "3.8.3"
  },
  "toc": {
   "base_numbering": 1,
   "nav_menu": {},
   "number_sections": true,
   "sideBar": false,
   "skip_h1_title": true,
   "title_cell": "Table of Contents",
   "title_sidebar": "Contents",
   "toc_cell": false,
   "toc_position": {},
   "toc_section_display": true,
   "toc_window_display": false
  }
 },
 "nbformat": 4,
 "nbformat_minor": 4
}
