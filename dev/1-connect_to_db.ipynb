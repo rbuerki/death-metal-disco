{
 "cells": [
  {
   "cell_type": "code",
   "execution_count": 1,
   "metadata": {
    "ExecuteTime": {
     "end_time": "2020-12-22T22:14:32.219699Z",
     "start_time": "2020-12-22T22:14:31.303931Z"
    }
   },
   "outputs": [],
   "source": [
    "import configparser\n",
    "import sys\n",
    "from pathlib import Path\n",
    "\n",
    "import matplotlib.pyplot as plt\n",
    "import numpy as np\n",
    "import pandas as pd\n",
    "import sqlalchemy\n",
    "import sqlite3\n",
    "\n",
    "%load_ext sql"
   ]
  },
  {
   "cell_type": "code",
   "execution_count": 2,
   "metadata": {
    "ExecuteTime": {
     "end_time": "2020-12-22T22:14:32.232203Z",
     "start_time": "2020-12-22T22:14:32.219699Z"
    }
   },
   "outputs": [],
   "source": [
    "sys.path.append(str(Path.cwd().parent / 'src'))\n",
    "\n",
    "import sqlite_utils"
   ]
  },
  {
   "cell_type": "code",
   "execution_count": 3,
   "metadata": {
    "ExecuteTime": {
     "end_time": "2020-12-22T22:14:32.352201Z",
     "start_time": "2020-12-22T22:14:32.235202Z"
    }
   },
   "outputs": [],
   "source": [
    "%load_ext autoreload\n",
    "%autoreload 2\n",
    "\n",
    "%matplotlib inline\n",
    "plt.style.use('raph-base')\n",
    "\n",
    "from IPython.core.interactiveshell import InteractiveShell\n",
    "InteractiveShell.ast_node_interactivity = 'all'\n",
    "\n",
    "pd.options.display.float_format = '{:,.2f}'.format\n",
    "pd.set_option('display.max_columns', 30)\n",
    "pd.set_option('display.expand_frame_repr', False)\n",
    "pd.set_option('max_colwidth', 800)\n",
    "\n",
    "np.random.seed(666)"
   ]
  },
  {
   "cell_type": "code",
   "execution_count": 4,
   "metadata": {
    "ExecuteTime": {
     "end_time": "2020-12-22T22:14:32.462201Z",
     "start_time": "2020-12-22T22:14:32.355205Z"
    }
   },
   "outputs": [
    {
     "name": "stdout",
     "output_type": "stream",
     "text": [
      "C:\\Users\\r2d4\\miniconda3\\envs\\py3\\python.exe\n",
      "3.8.3 (default, May 19 2020, 06:50:17) [MSC v.1916 64 bit (AMD64)]\n",
      "Pandas 1.1.3\n"
     ]
    }
   ],
   "source": [
    "print(sys.executable)\n",
    "print(sys.version)\n",
    "print(f'Pandas {pd.__version__}')"
   ]
  },
  {
   "cell_type": "markdown",
   "metadata": {},
   "source": [
    "## Connect to DB\n",
    "\n",
    "- With sqlite you can connect very lightweight to your DB (see first cell below). \n",
    "- But to be able to use sqlalchemy or ipython-sql you need a 'proper' connection string, see second cell."
   ]
  },
  {
   "cell_type": "code",
   "execution_count": 5,
   "metadata": {
    "ExecuteTime": {
     "end_time": "2020-12-22T22:14:32.567422Z",
     "start_time": "2020-12-22T22:14:32.465203Z"
    }
   },
   "outputs": [
    {
     "data": {
      "text/plain": [
       "(<sqlite3.Connection at 0x217167dc8a0>, <sqlite3.Cursor at 0x2171686b260>)"
      ]
     },
     "execution_count": 5,
     "metadata": {},
     "output_type": "execute_result"
    }
   ],
   "source": [
    "# Connect to DiscoBase.db the sqlite way\n",
    "\n",
    "db_path = Path.cwd().parent / \"db_aka_discobase/DiscoBase.db\"\n",
    "conn = sqlite3.connect(db_path, isolation_level=None)  # auto commit mode\n",
    "cur = conn.cursor()\n",
    "\n",
    "conn, cur"
   ]
  },
  {
   "cell_type": "code",
   "execution_count": 6,
   "metadata": {
    "ExecuteTime": {
     "end_time": "2020-12-22T22:14:32.670425Z",
     "start_time": "2020-12-22T22:14:32.571423Z"
    }
   },
   "outputs": [
    {
     "data": {
      "text/plain": [
       "'sqlite:///C:\\\\Users\\\\r2d4\\\\OneDrive\\\\code\\\\projects\\\\20-02_disco\\\\db_aka_discobase\\\\DiscoBase.db'"
      ]
     },
     "execution_count": 6,
     "metadata": {},
     "output_type": "execute_result"
    }
   ],
   "source": [
    "# Create a connection string and engine for sqlalchemy and ipython-sql\n",
    "\n",
    "sqlite_conn_str = f\"sqlite:///{db_path}\"\n",
    "\n",
    "sqlite_conn_str"
   ]
  },
  {
   "cell_type": "code",
   "execution_count": 7,
   "metadata": {
    "ExecuteTime": {
     "end_time": "2020-12-22T22:14:32.781422Z",
     "start_time": "2020-12-22T22:14:32.673421Z"
    }
   },
   "outputs": [
    {
     "data": {
      "text/plain": [
       "Engine(sqlite:///C:\\Users\\r2d4\\OneDrive\\code\\projects\\20-02_disco\\db_aka_discobase\\DiscoBase.db)"
      ]
     },
     "execution_count": 7,
     "metadata": {},
     "output_type": "execute_result"
    }
   ],
   "source": [
    "# \"Connect\" to sqlalchemy \n",
    "\n",
    "engine = sqlalchemy.create_engine(sqlite_conn_str)\n",
    "\n",
    "engine"
   ]
  },
  {
   "cell_type": "code",
   "execution_count": 8,
   "metadata": {
    "ExecuteTime": {
     "end_time": "2020-12-22T22:14:32.887424Z",
     "start_time": "2020-12-22T22:14:32.785427Z"
    }
   },
   "outputs": [
    {
     "data": {
      "text/plain": [
       "'Connected: @C:\\\\Users\\\\r2d4\\\\OneDrive\\\\code\\\\projects\\\\20-02_disco\\\\db_aka_discobase\\\\DiscoBase.db'"
      ]
     },
     "execution_count": 8,
     "metadata": {},
     "output_type": "execute_result"
    }
   ],
   "source": [
    "# Connect to ipython-sql\n",
    "\n",
    "%sql $sqlite_conn_str"
   ]
  },
  {
   "cell_type": "markdown",
   "metadata": {
    "ExecuteTime": {
     "end_time": "2020-12-20T06:43:31.973134Z",
     "start_time": "2020-12-20T06:43:31.862364Z"
    }
   },
   "source": [
    "## Query DB\n",
    "\n",
    "I show 5 of the possible ways to query the DB\n",
    "1. using ipython-sql\n",
    "2. using sqlite functionality 'raw'\n",
    "3. using my query_read wrapper from sqlite_utils\n",
    "4. using pandas with sqlite connection\n",
    "5. using pandas with sqlalchemy engine (sqlalchemy core, but not SQL Expression Language)\n",
    "6. (using sqlalchemy SQL Expression Language)\n",
    "7. (using sqlalchemy ORM)\n"
   ]
  },
  {
   "cell_type": "code",
   "execution_count": 9,
   "metadata": {
    "ExecuteTime": {
     "end_time": "2020-12-22T22:14:32.985424Z",
     "start_time": "2020-12-22T22:14:32.891422Z"
    }
   },
   "outputs": [],
   "source": [
    "query = (\n",
    "    \"\"\"\n",
    "    SELECT * \n",
    "      FROM records \n",
    "      -- WHERE title = 'Only Self'\n",
    "      LIMIT 3\n",
    "    ;\"\"\"\n",
    ")"
   ]
  },
  {
   "cell_type": "code",
   "execution_count": 10,
   "metadata": {
    "ExecuteTime": {
     "end_time": "2020-12-22T22:14:33.090424Z",
     "start_time": "2020-12-22T22:14:32.987422Z"
    }
   },
   "outputs": [
    {
     "name": "stdout",
     "output_type": "stream",
     "text": [
      " * sqlite:///C:\\Users\\r2d4\\OneDrive\\code\\projects\\20-02_disco\\db_aka_discobase\\DiscoBase.db\n",
      "Done.\n"
     ]
    },
    {
     "data": {
      "text/html": [
       "<table>\n",
       "    <tr>\n",
       "        <th>record_id</th>\n",
       "        <th>artist_id</th>\n",
       "        <th>title</th>\n",
       "        <th>genre_id</th>\n",
       "        <th>label</th>\n",
       "        <th>year</th>\n",
       "        <th>format_id</th>\n",
       "        <th>vinyl_color</th>\n",
       "        <th>lim_edition</th>\n",
       "        <th>number</th>\n",
       "        <th>remarks</th>\n",
       "        <th>purchase_date</th>\n",
       "        <th>price</th>\n",
       "        <th>digitized</th>\n",
       "        <th>rating</th>\n",
       "        <th>active</th>\n",
       "    </tr>\n",
       "    <tr>\n",
       "        <td>1</td>\n",
       "        <td>1</td>\n",
       "        <td>Ultimate Aggression</td>\n",
       "        <td>1</td>\n",
       "        <td>None</td>\n",
       "        <td>2020</td>\n",
       "        <td>1</td>\n",
       "        <td>red</td>\n",
       "        <td>200</td>\n",
       "        <td>None</td>\n",
       "        <td>blah blah</td>\n",
       "        <td>5</td>\n",
       "        <td>20.0</td>\n",
       "        <td>1</td>\n",
       "        <td>9</td>\n",
       "        <td>1</td>\n",
       "    </tr>\n",
       "</table>"
      ],
      "text/plain": [
       "[(1, 1, 'Ultimate Aggression', 1, None, 2020, 1, 'red', '200', None, 'blah blah', '5', 20.0, 1, 9, 1)]"
      ]
     },
     "execution_count": 10,
     "metadata": {},
     "output_type": "execute_result"
    }
   ],
   "source": [
    "# 1. Read using sqlite connection\n",
    "# Returns a cursor containing the data tuples\n",
    "\n",
    "%sql $query"
   ]
  },
  {
   "cell_type": "code",
   "execution_count": 11,
   "metadata": {
    "ExecuteTime": {
     "end_time": "2020-12-22T22:14:33.203424Z",
     "start_time": "2020-12-22T22:14:33.093424Z"
    }
   },
   "outputs": [
    {
     "name": "stdout",
     "output_type": "stream",
     "text": [
      "(1, 1, 'Ultimate Aggression', 1, None, 2020, 1, 'red', '200', None, 'blah blah', '5', 20.0, 1, 9, 1)\n"
     ]
    }
   ],
   "source": [
    "# 2. Read using sqlite connection\n",
    "# Returns a cursor containing the data tuples\n",
    "\n",
    "with conn:\n",
    "    data = conn.execute(query)\n",
    "    for row in data:\n",
    "        print(row)"
   ]
  },
  {
   "cell_type": "code",
   "execution_count": 12,
   "metadata": {
    "ExecuteTime": {
     "end_time": "2020-12-22T22:14:33.312421Z",
     "start_time": "2020-12-22T22:14:33.206421Z"
    }
   },
   "outputs": [],
   "source": [
    "# 3. Read using cursor and my utils function\n",
    "# Returns a list of tuples\n",
    "\n",
    "# print(sqlite_utils.query_read(query, cur))"
   ]
  },
  {
   "cell_type": "code",
   "execution_count": 13,
   "metadata": {
    "ExecuteTime": {
     "end_time": "2020-12-22T22:14:33.423430Z",
     "start_time": "2020-12-22T22:14:33.315423Z"
    }
   },
   "outputs": [
    {
     "data": {
      "text/html": [
       "<div>\n",
       "<style scoped>\n",
       "    .dataframe tbody tr th:only-of-type {\n",
       "        vertical-align: middle;\n",
       "    }\n",
       "\n",
       "    .dataframe tbody tr th {\n",
       "        vertical-align: top;\n",
       "    }\n",
       "\n",
       "    .dataframe thead th {\n",
       "        text-align: right;\n",
       "    }\n",
       "</style>\n",
       "<table border=\"1\" class=\"dataframe\">\n",
       "  <thead>\n",
       "    <tr style=\"text-align: right;\">\n",
       "      <th></th>\n",
       "      <th>artist_id</th>\n",
       "      <th>title</th>\n",
       "      <th>genre_id</th>\n",
       "      <th>label</th>\n",
       "      <th>year</th>\n",
       "      <th>format_id</th>\n",
       "      <th>vinyl_color</th>\n",
       "      <th>lim_edition</th>\n",
       "      <th>number</th>\n",
       "      <th>remarks</th>\n",
       "      <th>purchase_date</th>\n",
       "      <th>price</th>\n",
       "      <th>digitized</th>\n",
       "      <th>rating</th>\n",
       "      <th>active</th>\n",
       "    </tr>\n",
       "    <tr>\n",
       "      <th>record_id</th>\n",
       "      <th></th>\n",
       "      <th></th>\n",
       "      <th></th>\n",
       "      <th></th>\n",
       "      <th></th>\n",
       "      <th></th>\n",
       "      <th></th>\n",
       "      <th></th>\n",
       "      <th></th>\n",
       "      <th></th>\n",
       "      <th></th>\n",
       "      <th></th>\n",
       "      <th></th>\n",
       "      <th></th>\n",
       "      <th></th>\n",
       "    </tr>\n",
       "  </thead>\n",
       "  <tbody>\n",
       "    <tr>\n",
       "      <th>1</th>\n",
       "      <td>1</td>\n",
       "      <td>Ultimate Aggression</td>\n",
       "      <td>1</td>\n",
       "      <td>None</td>\n",
       "      <td>2020</td>\n",
       "      <td>1</td>\n",
       "      <td>red</td>\n",
       "      <td>200</td>\n",
       "      <td>None</td>\n",
       "      <td>blah blah</td>\n",
       "      <td>5</td>\n",
       "      <td>20.00</td>\n",
       "      <td>1</td>\n",
       "      <td>9</td>\n",
       "      <td>1</td>\n",
       "    </tr>\n",
       "  </tbody>\n",
       "</table>\n",
       "</div>"
      ],
      "text/plain": [
       "           artist_id                title  genre_id label  year  format_id vinyl_color lim_edition number    remarks purchase_date  price  digitized  rating  active\n",
       "record_id                                                                                                                                                           \n",
       "1                  1  Ultimate Aggression         1  None  2020          1         red         200   None  blah blah             5  20.00          1       9       1"
      ]
     },
     "execution_count": 13,
     "metadata": {},
     "output_type": "execute_result"
    }
   ],
   "source": [
    "# 4. Read with pandas, using sqlite connection\n",
    "# Returns a dataframe\n",
    "\n",
    "pd.read_sql(query, conn, index_col=\"record_id\")"
   ]
  },
  {
   "cell_type": "code",
   "execution_count": 14,
   "metadata": {
    "ExecuteTime": {
     "end_time": "2020-12-22T22:14:33.548425Z",
     "start_time": "2020-12-22T22:14:33.426424Z"
    }
   },
   "outputs": [
    {
     "data": {
      "text/html": [
       "<div>\n",
       "<style scoped>\n",
       "    .dataframe tbody tr th:only-of-type {\n",
       "        vertical-align: middle;\n",
       "    }\n",
       "\n",
       "    .dataframe tbody tr th {\n",
       "        vertical-align: top;\n",
       "    }\n",
       "\n",
       "    .dataframe thead th {\n",
       "        text-align: right;\n",
       "    }\n",
       "</style>\n",
       "<table border=\"1\" class=\"dataframe\">\n",
       "  <thead>\n",
       "    <tr style=\"text-align: right;\">\n",
       "      <th></th>\n",
       "      <th>artist_id</th>\n",
       "      <th>title</th>\n",
       "      <th>genre_id</th>\n",
       "      <th>label</th>\n",
       "      <th>year</th>\n",
       "      <th>format_id</th>\n",
       "      <th>vinyl_color</th>\n",
       "      <th>lim_edition</th>\n",
       "      <th>number</th>\n",
       "      <th>remarks</th>\n",
       "      <th>purchase_date</th>\n",
       "      <th>price</th>\n",
       "      <th>digitized</th>\n",
       "      <th>rating</th>\n",
       "      <th>active</th>\n",
       "    </tr>\n",
       "    <tr>\n",
       "      <th>record_id</th>\n",
       "      <th></th>\n",
       "      <th></th>\n",
       "      <th></th>\n",
       "      <th></th>\n",
       "      <th></th>\n",
       "      <th></th>\n",
       "      <th></th>\n",
       "      <th></th>\n",
       "      <th></th>\n",
       "      <th></th>\n",
       "      <th></th>\n",
       "      <th></th>\n",
       "      <th></th>\n",
       "      <th></th>\n",
       "      <th></th>\n",
       "    </tr>\n",
       "  </thead>\n",
       "  <tbody>\n",
       "    <tr>\n",
       "      <th>1</th>\n",
       "      <td>1</td>\n",
       "      <td>Ultimate Aggression</td>\n",
       "      <td>1</td>\n",
       "      <td>None</td>\n",
       "      <td>2020</td>\n",
       "      <td>1</td>\n",
       "      <td>red</td>\n",
       "      <td>200</td>\n",
       "      <td>None</td>\n",
       "      <td>blah blah</td>\n",
       "      <td>5</td>\n",
       "      <td>20.00</td>\n",
       "      <td>1</td>\n",
       "      <td>9</td>\n",
       "      <td>1</td>\n",
       "    </tr>\n",
       "  </tbody>\n",
       "</table>\n",
       "</div>"
      ],
      "text/plain": [
       "           artist_id                title  genre_id label  year  format_id vinyl_color lim_edition number    remarks purchase_date  price  digitized  rating  active\n",
       "record_id                                                                                                                                                           \n",
       "1                  1  Ultimate Aggression         1  None  2020          1         red         200   None  blah blah             5  20.00          1       9       1"
      ]
     },
     "execution_count": 14,
     "metadata": {},
     "output_type": "execute_result"
    }
   ],
   "source": [
    "# 5. Read with pandas, using sqlalchemy engine\n",
    "# Returns a dataframe\n",
    "\n",
    "pd.read_sql(query, conn, index_col=\"record_id\")"
   ]
  },
  {
   "cell_type": "markdown",
   "metadata": {
    "ExecuteTime": {
     "end_time": "2020-12-22T22:14:33.659424Z",
     "start_time": "2020-12-22T22:14:33.551422Z"
    }
   },
   "source": [
    "## Inspect sqlite Metadata"
   ]
  },
  {
   "cell_type": "code",
   "execution_count": 16,
   "metadata": {
    "ExecuteTime": {
     "end_time": "2020-12-22T22:14:33.775428Z",
     "start_time": "2020-12-22T22:14:33.661423Z"
    }
   },
   "outputs": [],
   "source": [
    "query = (\"\"\"\n",
    "SELECT \n",
    "  m.name AS table_name, \n",
    "  p.name AS column_name,\n",
    "  p.type AS data_type,\n",
    "  p.'notnull' AS null_constraint,\n",
    "  p.dflt_value AS default_value,\n",
    "  p.pk AS primary_key\n",
    "FROM \n",
    "  sqlite_master AS m\n",
    "JOIN \n",
    "  pragma_table_info(m.name) AS p\n",
    "ORDER BY \n",
    "  m.name, \n",
    "  p.cid\n",
    ";\"\"\"\n",
    ")"
   ]
  },
  {
   "cell_type": "code",
   "execution_count": 17,
   "metadata": {
    "ExecuteTime": {
     "end_time": "2020-12-22T22:14:33.896422Z",
     "start_time": "2020-12-22T22:14:33.777422Z"
    }
   },
   "outputs": [
    {
     "name": "stdout",
     "output_type": "stream",
     "text": [
      " * sqlite:///C:\\Users\\r2d4\\OneDrive\\code\\projects\\20-02_disco\\db_aka_discobase\\DiscoBase.db\n",
      "Done.\n"
     ]
    },
    {
     "data": {
      "text/html": [
       "<table>\n",
       "    <tr>\n",
       "        <th>table_name</th>\n",
       "        <th>column_name</th>\n",
       "        <th>data_type</th>\n",
       "        <th>null_constraint</th>\n",
       "        <th>default_value</th>\n",
       "        <th>primary_key</th>\n",
       "    </tr>\n",
       "    <tr>\n",
       "        <td>artist_genre_link</td>\n",
       "        <td>artist_id</td>\n",
       "        <td>INTEGER</td>\n",
       "        <td>1</td>\n",
       "        <td>None</td>\n",
       "        <td>1</td>\n",
       "    </tr>\n",
       "    <tr>\n",
       "        <td>artist_genre_link</td>\n",
       "        <td>genre_id</td>\n",
       "        <td>INTEGER</td>\n",
       "        <td>1</td>\n",
       "        <td>None</td>\n",
       "        <td>2</td>\n",
       "    </tr>\n",
       "    <tr>\n",
       "        <td>artist_label_link</td>\n",
       "        <td>artist_id</td>\n",
       "        <td>INTEGER</td>\n",
       "        <td>1</td>\n",
       "        <td>None</td>\n",
       "        <td>1</td>\n",
       "    </tr>\n",
       "    <tr>\n",
       "        <td>artist_label_link</td>\n",
       "        <td>label_id</td>\n",
       "        <td>INTEGER</td>\n",
       "        <td>1</td>\n",
       "        <td>None</td>\n",
       "        <td>2</td>\n",
       "    </tr>\n",
       "    <tr>\n",
       "        <td>artists</td>\n",
       "        <td>artist_id</td>\n",
       "        <td>INTEGER</td>\n",
       "        <td>1</td>\n",
       "        <td>None</td>\n",
       "        <td>1</td>\n",
       "    </tr>\n",
       "    <tr>\n",
       "        <td>artists</td>\n",
       "        <td>artist_name</td>\n",
       "        <td>TEXT</td>\n",
       "        <td>1</td>\n",
       "        <td>None</td>\n",
       "        <td>0</td>\n",
       "    </tr>\n",
       "    <tr>\n",
       "        <td>artists</td>\n",
       "        <td>artist_country</td>\n",
       "        <td>TEXT</td>\n",
       "        <td>0</td>\n",
       "        <td>None</td>\n",
       "        <td>0</td>\n",
       "    </tr>\n",
       "    <tr>\n",
       "        <td>formats</td>\n",
       "        <td>format_id</td>\n",
       "        <td>INTEGER</td>\n",
       "        <td>1</td>\n",
       "        <td>None</td>\n",
       "        <td>1</td>\n",
       "    </tr>\n",
       "    <tr>\n",
       "        <td>formats</td>\n",
       "        <td>format_name</td>\n",
       "        <td>TEXT</td>\n",
       "        <td>1</td>\n",
       "        <td>None</td>\n",
       "        <td>0</td>\n",
       "    </tr>\n",
       "    <tr>\n",
       "        <td>genre_label_link</td>\n",
       "        <td>genre_id</td>\n",
       "        <td>INTEGER</td>\n",
       "        <td>1</td>\n",
       "        <td>None</td>\n",
       "        <td>1</td>\n",
       "    </tr>\n",
       "    <tr>\n",
       "        <td>genre_label_link</td>\n",
       "        <td>label_id</td>\n",
       "        <td>INTEGER</td>\n",
       "        <td>1</td>\n",
       "        <td>None</td>\n",
       "        <td>2</td>\n",
       "    </tr>\n",
       "    <tr>\n",
       "        <td>genres</td>\n",
       "        <td>genre_id</td>\n",
       "        <td>INTEGER</td>\n",
       "        <td>1</td>\n",
       "        <td>None</td>\n",
       "        <td>1</td>\n",
       "    </tr>\n",
       "    <tr>\n",
       "        <td>genres</td>\n",
       "        <td>genre_name</td>\n",
       "        <td>TEXT</td>\n",
       "        <td>1</td>\n",
       "        <td>None</td>\n",
       "        <td>0</td>\n",
       "    </tr>\n",
       "    <tr>\n",
       "        <td>labels</td>\n",
       "        <td>label_id</td>\n",
       "        <td>INTEGER</td>\n",
       "        <td>1</td>\n",
       "        <td>None</td>\n",
       "        <td>1</td>\n",
       "    </tr>\n",
       "    <tr>\n",
       "        <td>labels</td>\n",
       "        <td>label_name</td>\n",
       "        <td>TEXT</td>\n",
       "        <td>1</td>\n",
       "        <td>None</td>\n",
       "        <td>0</td>\n",
       "    </tr>\n",
       "    <tr>\n",
       "        <td>record_label_link</td>\n",
       "        <td>record_id</td>\n",
       "        <td>INTEGER</td>\n",
       "        <td>1</td>\n",
       "        <td>None</td>\n",
       "        <td>1</td>\n",
       "    </tr>\n",
       "    <tr>\n",
       "        <td>record_label_link</td>\n",
       "        <td>label_id</td>\n",
       "        <td>INTEGER</td>\n",
       "        <td>1</td>\n",
       "        <td>None</td>\n",
       "        <td>2</td>\n",
       "    </tr>\n",
       "    <tr>\n",
       "        <td>records</td>\n",
       "        <td>record_id</td>\n",
       "        <td>INTEGER</td>\n",
       "        <td>1</td>\n",
       "        <td>None</td>\n",
       "        <td>1</td>\n",
       "    </tr>\n",
       "    <tr>\n",
       "        <td>records</td>\n",
       "        <td>artist_id</td>\n",
       "        <td>INTEGER</td>\n",
       "        <td>0</td>\n",
       "        <td>None</td>\n",
       "        <td>0</td>\n",
       "    </tr>\n",
       "    <tr>\n",
       "        <td>records</td>\n",
       "        <td>title</td>\n",
       "        <td>TEXT</td>\n",
       "        <td>1</td>\n",
       "        <td>None</td>\n",
       "        <td>0</td>\n",
       "    </tr>\n",
       "    <tr>\n",
       "        <td>records</td>\n",
       "        <td>genre_id</td>\n",
       "        <td>INTEGER</td>\n",
       "        <td>0</td>\n",
       "        <td>None</td>\n",
       "        <td>0</td>\n",
       "    </tr>\n",
       "    <tr>\n",
       "        <td>records</td>\n",
       "        <td>label</td>\n",
       "        <td>INTEGER</td>\n",
       "        <td>0</td>\n",
       "        <td>None</td>\n",
       "        <td>0</td>\n",
       "    </tr>\n",
       "    <tr>\n",
       "        <td>records</td>\n",
       "        <td>year</td>\n",
       "        <td>INTEGER</td>\n",
       "        <td>0</td>\n",
       "        <td>None</td>\n",
       "        <td>0</td>\n",
       "    </tr>\n",
       "    <tr>\n",
       "        <td>records</td>\n",
       "        <td>format_id</td>\n",
       "        <td>INTEGER</td>\n",
       "        <td>0</td>\n",
       "        <td>None</td>\n",
       "        <td>0</td>\n",
       "    </tr>\n",
       "    <tr>\n",
       "        <td>records</td>\n",
       "        <td>vinyl_color</td>\n",
       "        <td>TEXT</td>\n",
       "        <td>0</td>\n",
       "        <td>None</td>\n",
       "        <td>0</td>\n",
       "    </tr>\n",
       "    <tr>\n",
       "        <td>records</td>\n",
       "        <td>lim_edition</td>\n",
       "        <td>TEXT</td>\n",
       "        <td>0</td>\n",
       "        <td>None</td>\n",
       "        <td>0</td>\n",
       "    </tr>\n",
       "    <tr>\n",
       "        <td>records</td>\n",
       "        <td>number</td>\n",
       "        <td>INTEGER</td>\n",
       "        <td>0</td>\n",
       "        <td>None</td>\n",
       "        <td>0</td>\n",
       "    </tr>\n",
       "    <tr>\n",
       "        <td>records</td>\n",
       "        <td>remarks</td>\n",
       "        <td>TEXT</td>\n",
       "        <td>0</td>\n",
       "        <td>None</td>\n",
       "        <td>0</td>\n",
       "    </tr>\n",
       "    <tr>\n",
       "        <td>records</td>\n",
       "        <td>purchase_date</td>\n",
       "        <td>TEXT</td>\n",
       "        <td>1</td>\n",
       "        <td>None</td>\n",
       "        <td>0</td>\n",
       "    </tr>\n",
       "    <tr>\n",
       "        <td>records</td>\n",
       "        <td>price</td>\n",
       "        <td>REAL</td>\n",
       "        <td>1</td>\n",
       "        <td>None</td>\n",
       "        <td>0</td>\n",
       "    </tr>\n",
       "    <tr>\n",
       "        <td>records</td>\n",
       "        <td>digitized</td>\n",
       "        <td>INTEGER</td>\n",
       "        <td>1</td>\n",
       "        <td>None</td>\n",
       "        <td>0</td>\n",
       "    </tr>\n",
       "    <tr>\n",
       "        <td>records</td>\n",
       "        <td>rating</td>\n",
       "        <td>INTEGER</td>\n",
       "        <td>0</td>\n",
       "        <td>None</td>\n",
       "        <td>0</td>\n",
       "    </tr>\n",
       "    <tr>\n",
       "        <td>records</td>\n",
       "        <td>active</td>\n",
       "        <td>INTEGER</td>\n",
       "        <td>1</td>\n",
       "        <td>None</td>\n",
       "        <td>0</td>\n",
       "    </tr>\n",
       "</table>"
      ],
      "text/plain": [
       "[('artist_genre_link', 'artist_id', 'INTEGER', 1, None, 1),\n",
       " ('artist_genre_link', 'genre_id', 'INTEGER', 1, None, 2),\n",
       " ('artist_label_link', 'artist_id', 'INTEGER', 1, None, 1),\n",
       " ('artist_label_link', 'label_id', 'INTEGER', 1, None, 2),\n",
       " ('artists', 'artist_id', 'INTEGER', 1, None, 1),\n",
       " ('artists', 'artist_name', 'TEXT', 1, None, 0),\n",
       " ('artists', 'artist_country', 'TEXT', 0, None, 0),\n",
       " ('formats', 'format_id', 'INTEGER', 1, None, 1),\n",
       " ('formats', 'format_name', 'TEXT', 1, None, 0),\n",
       " ('genre_label_link', 'genre_id', 'INTEGER', 1, None, 1),\n",
       " ('genre_label_link', 'label_id', 'INTEGER', 1, None, 2),\n",
       " ('genres', 'genre_id', 'INTEGER', 1, None, 1),\n",
       " ('genres', 'genre_name', 'TEXT', 1, None, 0),\n",
       " ('labels', 'label_id', 'INTEGER', 1, None, 1),\n",
       " ('labels', 'label_name', 'TEXT', 1, None, 0),\n",
       " ('record_label_link', 'record_id', 'INTEGER', 1, None, 1),\n",
       " ('record_label_link', 'label_id', 'INTEGER', 1, None, 2),\n",
       " ('records', 'record_id', 'INTEGER', 1, None, 1),\n",
       " ('records', 'artist_id', 'INTEGER', 0, None, 0),\n",
       " ('records', 'title', 'TEXT', 1, None, 0),\n",
       " ('records', 'genre_id', 'INTEGER', 0, None, 0),\n",
       " ('records', 'label', 'INTEGER', 0, None, 0),\n",
       " ('records', 'year', 'INTEGER', 0, None, 0),\n",
       " ('records', 'format_id', 'INTEGER', 0, None, 0),\n",
       " ('records', 'vinyl_color', 'TEXT', 0, None, 0),\n",
       " ('records', 'lim_edition', 'TEXT', 0, None, 0),\n",
       " ('records', 'number', 'INTEGER', 0, None, 0),\n",
       " ('records', 'remarks', 'TEXT', 0, None, 0),\n",
       " ('records', 'purchase_date', 'TEXT', 1, None, 0),\n",
       " ('records', 'price', 'REAL', 1, None, 0),\n",
       " ('records', 'digitized', 'INTEGER', 1, None, 0),\n",
       " ('records', 'rating', 'INTEGER', 0, None, 0),\n",
       " ('records', 'active', 'INTEGER', 1, None, 0)]"
      ]
     },
     "execution_count": 17,
     "metadata": {},
     "output_type": "execute_result"
    }
   ],
   "source": [
    "%sql $query"
   ]
  },
  {
   "cell_type": "code",
   "execution_count": 18,
   "metadata": {
    "ExecuteTime": {
     "end_time": "2020-12-22T22:14:34.020421Z",
     "start_time": "2020-12-22T22:14:33.899425Z"
    }
   },
   "outputs": [],
   "source": [
    "conn.close()"
   ]
  }
 ],
 "metadata": {
  "hide_input": false,
  "kernelspec": {
   "display_name": "Python 3",
   "language": "python",
   "name": "python3"
  },
  "language_info": {
   "codemirror_mode": {
    "name": "ipython",
    "version": 3
   },
   "file_extension": ".py",
   "mimetype": "text/x-python",
   "name": "python",
   "nbconvert_exporter": "python",
   "pygments_lexer": "ipython3",
   "version": "3.8.3"
  },
  "toc": {
   "base_numbering": 1,
   "nav_menu": {},
   "number_sections": true,
   "sideBar": false,
   "skip_h1_title": true,
   "title_cell": "Table of Contents",
   "title_sidebar": "Contents",
   "toc_cell": false,
   "toc_position": {},
   "toc_section_display": true,
   "toc_window_display": false
  }
 },
 "nbformat": 4,
 "nbformat_minor": 4
}
