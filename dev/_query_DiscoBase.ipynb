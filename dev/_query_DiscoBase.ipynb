{
 "cells": [
  {
   "cell_type": "code",
   "execution_count": 1,
   "metadata": {
    "ExecuteTime": {
     "end_time": "2020-12-22T21:37:29.342700Z",
     "start_time": "2020-12-22T21:37:28.470668Z"
    }
   },
   "outputs": [],
   "source": [
    "import configparser\n",
    "import sys\n",
    "from pathlib import Path\n",
    "from typing import Union\n",
    "\n",
    "import matplotlib.pyplot as plt\n",
    "import numpy as np\n",
    "import pandas as pd\n",
    "import sqlalchemy\n",
    "import sqlite3\n",
    "\n",
    "# import sqlite_utils\n",
    "\n",
    "%load_ext sql"
   ]
  },
  {
   "cell_type": "code",
   "execution_count": 2,
   "metadata": {
    "ExecuteTime": {
     "end_time": "2020-12-22T21:37:29.424701Z",
     "start_time": "2020-12-22T21:37:29.344667Z"
    }
   },
   "outputs": [],
   "source": [
    "sys.path.append(str(Path.cwd().parent / 'src'))\n",
    "\n",
    "from db_declaration import Base, Record, Artist"
   ]
  },
  {
   "cell_type": "code",
   "execution_count": 3,
   "metadata": {
    "ExecuteTime": {
     "end_time": "2020-12-22T21:37:29.540669Z",
     "start_time": "2020-12-22T21:37:29.427688Z"
    }
   },
   "outputs": [],
   "source": [
    "%load_ext autoreload\n",
    "%autoreload 2\n",
    "\n",
    "%matplotlib inline\n",
    "plt.style.use('raph-base')\n",
    "\n",
    "from IPython.core.interactiveshell import InteractiveShell\n",
    "InteractiveShell.ast_node_interactivity = 'all'\n",
    "\n",
    "pd.options.display.float_format = '{:,.2f}'.format\n",
    "pd.set_option('display.max_columns', 30)\n",
    "pd.set_option('display.expand_frame_repr', False)\n",
    "pd.set_option('max_colwidth', 800)\n",
    "\n",
    "np.random.seed(666)"
   ]
  },
  {
   "cell_type": "code",
   "execution_count": 4,
   "metadata": {
    "ExecuteTime": {
     "end_time": "2020-12-22T21:37:29.645673Z",
     "start_time": "2020-12-22T21:37:29.543672Z"
    }
   },
   "outputs": [
    {
     "name": "stdout",
     "output_type": "stream",
     "text": [
      "C:\\Users\\r2d4\\miniconda3\\envs\\py3\\python.exe\n",
      "3.8.3 (default, May 19 2020, 06:50:17) [MSC v.1916 64 bit (AMD64)]\n",
      "sqlalchemy 1.3.17\n"
     ]
    }
   ],
   "source": [
    "print(sys.executable)\n",
    "print(sys.version)\n",
    "print(f'sqlalchemy {sqlalchemy.__version__}')"
   ]
  },
  {
   "cell_type": "markdown",
   "metadata": {},
   "source": [
    "## Connect to DB"
   ]
  },
  {
   "cell_type": "code",
   "execution_count": 5,
   "metadata": {
    "ExecuteTime": {
     "end_time": "2020-12-22T21:37:29.758670Z",
     "start_time": "2020-12-22T21:37:29.648671Z"
    }
   },
   "outputs": [
    {
     "data": {
      "text/plain": [
       "Table('records', MetaData(bind=None), Column('record_id', INTEGER(), table=<records>, primary_key=True, nullable=False), Column('artist_id', INTEGER(), ForeignKey('artists.artist_id'), table=<records>), Column('title', TEXT(), table=<records>, nullable=False), Column('genre_id', INTEGER(), ForeignKey('genres.genre_id'), table=<records>), Column('label', INTEGER(), ForeignKey('labels.label_id'), table=<records>), Column('year', INTEGER(), table=<records>), Column('format_id', INTEGER(), ForeignKey('formats.format_id'), table=<records>), Column('vinyl_color', TEXT(), table=<records>), Column('lim_edition', TEXT(), table=<records>), Column('number', INTEGER(), table=<records>), Column('remarks', TEXT(), table=<records>), Column('purchase_date', TEXT(), table=<records>, nullable=False), Column('price', REAL(), table=<records>, nullable=False), Column('digitized', INTEGER(), table=<records>, nullable=False), Column('rating', INTEGER(), table=<records>), Column('active', INTEGER(), table=<records>, nullable=False), schema=None)"
      ]
     },
     "execution_count": 5,
     "metadata": {},
     "output_type": "execute_result"
    }
   ],
   "source": [
    "Record.__table__"
   ]
  },
  {
   "cell_type": "code",
   "execution_count": 6,
   "metadata": {
    "ExecuteTime": {
     "end_time": "2020-12-22T21:37:29.881669Z",
     "start_time": "2020-12-22T21:37:29.761669Z"
    }
   },
   "outputs": [],
   "source": [
    "rel_path =\"db_aka_discobase/Discobase.db\"\n",
    "\n",
    "def create_engine(rel_path: Union[Path, str]) -> sqlalchemy.engine.Engine:\n",
    "    \"\"\"Create an engine as factory and pool forthe DB connections.\"\"\"\n",
    "    full_path = Path.cwd().parent / rel_path\n",
    "    print(full_path)\n",
    "    conn_str = f\"sqlite:///{full_path}\"\n",
    "    engine = sqlalchemy.create_engine(conn_str)\n",
    "    return engine"
   ]
  },
  {
   "cell_type": "code",
   "execution_count": 7,
   "metadata": {
    "ExecuteTime": {
     "end_time": "2020-12-22T21:37:29.997668Z",
     "start_time": "2020-12-22T21:37:29.886671Z"
    }
   },
   "outputs": [],
   "source": [
    "from sqlalchemy.orm import sessionmaker\n",
    "# Define a Session class which will serve as a factory for new Session objects\n",
    "def create_session(engine: sqlalchemy.engine.Engine) -> sqlalchemy.orm.session.Session:\n",
    "    \"\"\"Define a Session class bound to the engine\n",
    "    and instantiate a session object as workspace for\n",
    "    all ORM operations.\n",
    "    \"\"\"\n",
    "    Session = sessionmaker(bind=engine)\n",
    "    # Instantiate a session\n",
    "    session = Session()\n",
    "    return session"
   ]
  },
  {
   "cell_type": "code",
   "execution_count": 8,
   "metadata": {
    "ExecuteTime": {
     "end_time": "2020-12-22T21:37:30.103677Z",
     "start_time": "2020-12-22T21:37:30.000672Z"
    }
   },
   "outputs": [
    {
     "name": "stdout",
     "output_type": "stream",
     "text": [
      "C:\\Users\\r2d4\\OneDrive\\code\\projects\\20-02_disco\\db_aka_discobase\\Discobase.db\n",
      "<class 'sqlalchemy.orm.session.sessionmaker'>\n"
     ]
    }
   ],
   "source": [
    "engine = connect_to_db(rel_path)\n",
    "session = instantiate_session(engine)"
   ]
  },
  {
   "cell_type": "code",
   "execution_count": 9,
   "metadata": {
    "ExecuteTime": {
     "end_time": "2020-12-22T21:37:30.234669Z",
     "start_time": "2020-12-22T21:37:30.108670Z"
    }
   },
   "outputs": [
    {
     "data": {
      "text/plain": [
       "'Ultimate Aggression'"
      ]
     },
     "execution_count": 9,
     "metadata": {},
     "output_type": "execute_result"
    }
   ],
   "source": [
    "session.query(Record).all()[0].title"
   ]
  },
  {
   "cell_type": "code",
   "execution_count": 18,
   "metadata": {
    "ExecuteTime": {
     "end_time": "2020-12-22T21:45:35.048869Z",
     "start_time": "2020-12-22T21:45:34.935870Z"
    }
   },
   "outputs": [
    {
     "data": {
      "text/plain": [
       "sqlalchemy.orm.session.Session"
      ]
     },
     "execution_count": 18,
     "metadata": {},
     "output_type": "execute_result"
    }
   ],
   "source": [
    "type(session)"
   ]
  },
  {
   "cell_type": "code",
   "execution_count": 11,
   "metadata": {
    "ExecuteTime": {
     "end_time": "2020-12-22T21:37:30.444669Z",
     "start_time": "2020-12-22T21:37:30.343673Z"
    }
   },
   "outputs": [
    {
     "data": {
      "text/plain": [
       "(<sqlite3.Connection at 0x257535ead50>, <sqlite3.Cursor at 0x257536b8810>)"
      ]
     },
     "execution_count": 11,
     "metadata": {},
     "output_type": "execute_result"
    }
   ],
   "source": [
    "# Connect to DiscoBase.db the sqlite way\n",
    "\n",
    "db_path = \"DiscoBase.db\"\n",
    "conn = sqlite3.connect(db_path, isolation_level=None)  # auto commit mode\n",
    "cur = conn.cursor()\n",
    "\n",
    "conn, cur"
   ]
  },
  {
   "cell_type": "code",
   "execution_count": 12,
   "metadata": {
    "ExecuteTime": {
     "end_time": "2020-12-22T21:37:30.547669Z",
     "start_time": "2020-12-22T21:37:30.447670Z"
    }
   },
   "outputs": [
    {
     "data": {
      "text/plain": [
       "'sqlite:///DiscoBase.db'"
      ]
     },
     "execution_count": 12,
     "metadata": {},
     "output_type": "execute_result"
    }
   ],
   "source": [
    "# Create a connection string and engine for sqlalchemy and ipython-sql\n",
    "\n",
    "sqlite_conn_str = f\"sqlite:///{db_path}\"\n",
    "\n",
    "sqlite_conn_str"
   ]
  },
  {
   "cell_type": "code",
   "execution_count": 13,
   "metadata": {
    "ExecuteTime": {
     "end_time": "2020-12-22T21:37:30.650671Z",
     "start_time": "2020-12-22T21:37:30.550674Z"
    }
   },
   "outputs": [
    {
     "data": {
      "text/plain": [
       "Engine(sqlite:///DiscoBase.db)"
      ]
     },
     "execution_count": 13,
     "metadata": {},
     "output_type": "execute_result"
    }
   ],
   "source": [
    "# Connect to sqlalchemy\n",
    "\n",
    "engine = sqlalchemy.create_engine(sqlite_conn_str)\n",
    "\n",
    "engine"
   ]
  },
  {
   "cell_type": "code",
   "execution_count": 14,
   "metadata": {
    "ExecuteTime": {
     "end_time": "2020-12-22T21:37:30.754669Z",
     "start_time": "2020-12-22T21:37:30.653672Z"
    }
   },
   "outputs": [
    {
     "data": {
      "text/plain": [
       "'Connected: @DiscoBase.db'"
      ]
     },
     "execution_count": 14,
     "metadata": {},
     "output_type": "execute_result"
    }
   ],
   "source": [
    "# Connect to ipython-sql\n",
    "\n",
    "%sql $sqlite_conn_str"
   ]
  },
  {
   "cell_type": "code",
   "execution_count": null,
   "metadata": {},
   "outputs": [],
   "source": []
  }
 ],
 "metadata": {
  "hide_input": false,
  "kernelspec": {
   "display_name": "Python 3",
   "language": "python",
   "name": "python3"
  },
  "language_info": {
   "codemirror_mode": {
    "name": "ipython",
    "version": 3
   },
   "file_extension": ".py",
   "mimetype": "text/x-python",
   "name": "python",
   "nbconvert_exporter": "python",
   "pygments_lexer": "ipython3",
   "version": "3.8.3"
  },
  "toc": {
   "base_numbering": 1,
   "nav_menu": {},
   "number_sections": true,
   "sideBar": false,
   "skip_h1_title": true,
   "title_cell": "Table of Contents",
   "title_sidebar": "Contents",
   "toc_cell": false,
   "toc_position": {},
   "toc_section_display": true,
   "toc_window_display": false
  }
 },
 "nbformat": 4,
 "nbformat_minor": 4
}
