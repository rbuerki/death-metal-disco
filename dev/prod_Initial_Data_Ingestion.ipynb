{
 "cells": [
  {
   "cell_type": "markdown",
   "metadata": {
    "toc": true
   },
   "source": [
    "<h1>Table of Contents<span class=\"tocSkip\"></span></h1>\n",
    "<div class=\"toc\"><ul class=\"toc-item\"><li><span><a href=\"#Inititial-Record-Ingestion\" data-toc-modified-id=\"Inititial-Record-Ingestion-1\"><span class=\"toc-item-num\">1&nbsp;&nbsp;</span>Inititial Record Ingestion</a></span><ul class=\"toc-item\"><li><span><a href=\"#Connect-To-And-Re-Create-DB\" data-toc-modified-id=\"Connect-To-And-Re-Create-DB-1.1\"><span class=\"toc-item-num\">1.1&nbsp;&nbsp;</span>Connect To And Re-Create DB</a></span></li><li><span><a href=\"#Read-And-(Re-)Format-Existing-Collection-File\" data-toc-modified-id=\"Read-And-(Re-)Format-Existing-Collection-File-1.2\"><span class=\"toc-item-num\">1.2&nbsp;&nbsp;</span>Read And (Re-)Format Existing Collection File</a></span></li><li><span><a href=\"#Write-Records-To-DB\" data-toc-modified-id=\"Write-Records-To-DB-1.3\"><span class=\"toc-item-num\">1.3&nbsp;&nbsp;</span>Write Records To DB</a></span></li><li><span><a href=\"#Check-The-Results\" data-toc-modified-id=\"Check-The-Results-1.4\"><span class=\"toc-item-num\">1.4&nbsp;&nbsp;</span>Check The Results</a></span></li></ul></li><li><span><a href=\"#Initial-Credit-Addition\" data-toc-modified-id=\"Initial-Credit-Addition-2\"><span class=\"toc-item-num\">2&nbsp;&nbsp;</span>Initial Credit Addition</a></span></li></ul></div>"
   ]
  },
  {
   "cell_type": "code",
   "execution_count": 1,
   "metadata": {
    "ExecuteTime": {
     "end_time": "2021-01-09T11:40:16.349595Z",
     "start_time": "2021-01-09T11:40:14.847600Z"
    }
   },
   "outputs": [],
   "source": [
    "import configparser\n",
    "import datetime as dt\n",
    "import sys\n",
    "import collections\n",
    "from pathlib import Path\n",
    "from typing import Union, Optional, List, Tuple\n",
    "\n",
    "import codebook.EDA as EDA\n",
    "import codebook.clean as clean\n",
    "import numpy as np\n",
    "import pandas as pd\n",
    "import matplotlib.pyplot as plt\n",
    "import seaborn as sns\n",
    "import sqlalchemy\n",
    "from sqlalchemy import func"
   ]
  },
  {
   "cell_type": "code",
   "execution_count": 2,
   "metadata": {
    "ExecuteTime": {
     "end_time": "2021-01-09T11:40:16.510594Z",
     "start_time": "2021-01-09T11:40:16.351595Z"
    }
   },
   "outputs": [],
   "source": [
    "%load_ext autoreload\n",
    "%autoreload 2\n",
    "\n",
    "%matplotlib inline\n",
    "plt.style.use('raph-base')\n",
    "\n",
    "from IPython.core.interactiveshell import InteractiveShell\n",
    "InteractiveShell.ast_node_interactivity = 'all'\n",
    "\n",
    "pd.options.display.float_format = '{:,.2f}'.format\n",
    "pd.set_option('display.max_columns', 30)\n",
    "pd.set_option('display.expand_frame_repr', False)\n",
    "pd.set_option('max_colwidth', 800)\n",
    "\n",
    "np.random.seed(666)"
   ]
  },
  {
   "cell_type": "code",
   "execution_count": 3,
   "metadata": {
    "ExecuteTime": {
     "end_time": "2021-01-09T11:40:16.657599Z",
     "start_time": "2021-01-09T11:40:16.514595Z"
    }
   },
   "outputs": [
    {
     "data": {
      "text/plain": [
       "WindowsPath('C:/Users/r2d4/OneDrive/code/projects/20-02_disco/src')"
      ]
     },
     "execution_count": 3,
     "metadata": {},
     "output_type": "execute_result"
    }
   ],
   "source": [
    "Path.cwd().parent / 'src'"
   ]
  },
  {
   "cell_type": "code",
   "execution_count": 4,
   "metadata": {
    "ExecuteTime": {
     "end_time": "2021-01-09T11:40:16.907596Z",
     "start_time": "2021-01-09T11:40:16.661597Z"
    }
   },
   "outputs": [
    {
     "name": "stdout",
     "output_type": "stream",
     "text": [
      "<class 'sqlalchemy.ext.declarative.api.DeclarativeMeta'>\n"
     ]
    }
   ],
   "source": [
    "sys.path.append(str(Path.cwd().parent))\n",
    "\n",
    "from src.db_declaration import Base, Artist, CreditTrx, Genre, Label, Record\n",
    "from src import db_functions\n",
    "from src import utils"
   ]
  },
  {
   "cell_type": "code",
   "execution_count": 5,
   "metadata": {
    "ExecuteTime": {
     "end_time": "2021-01-09T11:40:17.051597Z",
     "start_time": "2021-01-09T11:40:16.909595Z"
    }
   },
   "outputs": [
    {
     "name": "stdout",
     "output_type": "stream",
     "text": [
      "C:\\Users\\r2d4\\miniconda3\\envs\\py3\\python.exe\n",
      "3.8.3 (default, May 19 2020, 06:50:17) [MSC v.1916 64 bit (AMD64)]\n",
      "sqlalchemy 1.3.17\n"
     ]
    }
   ],
   "source": [
    "print(sys.executable)\n",
    "print(sys.version)\n",
    "print(f'sqlalchemy {sqlalchemy.__version__}')"
   ]
  },
  {
   "cell_type": "markdown",
   "metadata": {
    "ExecuteTime": {
     "end_time": "2020-12-21T12:20:03.352983Z",
     "start_time": "2020-12-21T12:20:03.149529Z"
    }
   },
   "source": [
    "## Inititial Record Ingestion"
   ]
  },
  {
   "cell_type": "code",
   "execution_count": 6,
   "metadata": {
    "ExecuteTime": {
     "end_time": "2021-01-09T11:40:17.196596Z",
     "start_time": "2021-01-09T11:40:17.054602Z"
    }
   },
   "outputs": [],
   "source": [
    "CONFIG_PATH = Path.cwd().parent / \"config.cfg\""
   ]
  },
  {
   "cell_type": "markdown",
   "metadata": {
    "ExecuteTime": {
     "end_time": "2020-12-23T06:08:49.546499Z",
     "start_time": "2020-12-23T06:08:49.412497Z"
    }
   },
   "source": [
    "### Connect To And Re-Create DB"
   ]
  },
  {
   "cell_type": "markdown",
   "metadata": {},
   "source": [
    "<div class=\"alert alert-block alert-danger\">\n",
    "Attention This Will Delete All Entries In The DB!\n",
    "</div>"
   ]
  },
  {
   "cell_type": "code",
   "execution_count": 7,
   "metadata": {
    "ExecuteTime": {
     "end_time": "2021-01-09T11:40:17.520599Z",
     "start_time": "2021-01-09T11:40:17.198594Z"
    }
   },
   "outputs": [
    {
     "name": "stdout",
     "output_type": "stream",
     "text": [
      "C:\\Users\\r2d4\\OneDrive\\code\\projects\\20-02_disco\\db_aka_discobase\\DiscoBase.db\n"
     ]
    }
   ],
   "source": [
    "path_to_prod_db = r\"C:\\Users\\r2d4\\OneDrive\\code\\projects\\20-02_disco\\db_aka_discobase\\DiscoBase.db\"\n",
    "engine = utils.create_engine(path_to_prod_db)\n",
    "session = utils.create_session(engine)\n",
    "utils.create_DB_anew(engine, Base)"
   ]
  },
  {
   "cell_type": "markdown",
   "metadata": {},
   "source": [
    "### Read And (Re-)Format Existing Collection File"
   ]
  },
  {
   "cell_type": "code",
   "execution_count": 8,
   "metadata": {
    "ExecuteTime": {
     "end_time": "2021-01-09T11:40:17.911117Z",
     "start_time": "2021-01-09T11:40:17.526598Z"
    }
   },
   "outputs": [],
   "source": [
    "def load_albums_from_xlsx(\n",
    "    filepath: Union[Path, str], genres: Optional[List] = None\n",
    ") -> pd.DataFrame:\n",
    "    \"\"\"Load the original album collection file into a dataframe.\n",
    "    You can specify a list of genres you want to include\n",
    "    (defaults to None).\n",
    "    \"\"\"\n",
    "    df = pd.read_excel(filepath, engine=\"openpyxl\")\n",
    "    if genres:\n",
    "        df = df[df[\"Genre\"].isin(genres)]\n",
    "    return df"
   ]
  },
  {
   "cell_type": "code",
   "execution_count": 9,
   "metadata": {
    "ExecuteTime": {
     "end_time": "2021-01-09T11:40:18.800162Z",
     "start_time": "2021-01-09T11:40:17.915642Z"
    }
   },
   "outputs": [],
   "source": [
    "path_to_collection = utils.read_config_return_str(CONFIG_PATH, \"COLLECTION\")\n",
    "collection_df = load_albums_from_xlsx(path_to_collection)\n",
    "collection_df = clean.prettify_column_names(collection_df)\n",
    "collection_df.dropna(thresh=8, inplace=True)\n",
    "collection_df.rename(columns={\"format\": \"record_format\"}, inplace=True)\n",
    "# collection_df[\"purchase_date\"] = collection_df[\"purchase_date\"].dt.date.astype(str)\n",
    "# collection_df[\"number\"] = collection_df[\"number\"].astype(str)\n",
    "# collection_df[\"digitized\"] = collection_df[\"digitized\"].map({True: 1, False: 0}).astype(int)\n",
    "collection_df[\"label\"].fillna(\"NA\", inplace=True)  # because it creates a foreign key\n",
    "\n",
    "# This is for the initial ingestion only\n",
    "collection_df[\"artist_country\"] = None\n",
    "collection_df[\"credit_value\"] = 0\n",
    "collection_df[\"trx_type\"] = \"Initial Load\""
   ]
  },
  {
   "cell_type": "code",
   "execution_count": 10,
   "metadata": {
    "ExecuteTime": {
     "end_time": "2021-01-09T11:40:18.985200Z",
     "start_time": "2021-01-09T11:40:18.802164Z"
    }
   },
   "outputs": [
    {
     "data": {
      "text/plain": [
       "(293, 18)"
      ]
     },
     "execution_count": 10,
     "metadata": {},
     "output_type": "execute_result"
    },
    {
     "name": "stdout",
     "output_type": "stream",
     "text": [
      "<class 'pandas.core.frame.DataFrame'>\n",
      "Int64Index: 293 entries, 0 to 292\n",
      "Data columns (total 18 columns):\n",
      " #   Column          Non-Null Count  Dtype         \n",
      "---  ------          --------------  -----         \n",
      " 0   active          293 non-null    float64       \n",
      " 1   artist          293 non-null    object        \n",
      " 2   title           293 non-null    object        \n",
      " 3   record_format   293 non-null    object        \n",
      " 4   year            293 non-null    float64       \n",
      " 5   genre           293 non-null    object        \n",
      " 6   price           293 non-null    float64       \n",
      " 7   purchase_date   293 non-null    datetime64[ns]\n",
      " 8   vinyl_color     197 non-null    object        \n",
      " 9   lim_edition     207 non-null    object        \n",
      " 10  number          24 non-null     object        \n",
      " 11  label           293 non-null    object        \n",
      " 12  digitized       293 non-null    object        \n",
      " 13  remarks         72 non-null     object        \n",
      " 14  rating          101 non-null    float64       \n",
      " 15  artist_country  0 non-null      object        \n",
      " 16  credit_value    293 non-null    int64         \n",
      " 17  trx_type        293 non-null    object        \n",
      "dtypes: datetime64[ns](1), float64(4), int64(1), object(12)\n",
      "memory usage: 43.5+ KB\n"
     ]
    }
   ],
   "source": [
    "collection_df.shape\n",
    "collection_df.info()"
   ]
  },
  {
   "cell_type": "code",
   "execution_count": 11,
   "metadata": {
    "ExecuteTime": {
     "end_time": "2021-01-09T11:40:19.603202Z",
     "start_time": "2021-01-09T11:40:18.988206Z"
    }
   },
   "outputs": [
    {
     "data": {
      "text/html": [
       "<style  type=\"text/css\" >\n",
       "</style><table id=\"T_7367307f_526f_11eb_a178_60f67737a0fe\" ><thead>    <tr>        <th class=\"blank level0\" ></th>        <th class=\"col_heading level0 col0\" >total</th>        <th class=\"col_heading level0 col1\" >prop</th>        <th class=\"col_heading level0 col2\" >dtype</th>    </tr></thead><tbody>\n",
       "                <tr>\n",
       "                        <th id=\"T_7367307f_526f_11eb_a178_60f67737a0felevel0_row0\" class=\"row_heading level0 row0\" >artist_country</th>\n",
       "                        <td id=\"T_7367307f_526f_11eb_a178_60f67737a0ferow0_col0\" class=\"data row0 col0\" >293</td>\n",
       "                        <td id=\"T_7367307f_526f_11eb_a178_60f67737a0ferow0_col1\" class=\"data row0 col1\" >100.0%</td>\n",
       "                        <td id=\"T_7367307f_526f_11eb_a178_60f67737a0ferow0_col2\" class=\"data row0 col2\" >object</td>\n",
       "            </tr>\n",
       "            <tr>\n",
       "                        <th id=\"T_7367307f_526f_11eb_a178_60f67737a0felevel0_row1\" class=\"row_heading level0 row1\" >number</th>\n",
       "                        <td id=\"T_7367307f_526f_11eb_a178_60f67737a0ferow1_col0\" class=\"data row1 col0\" >269</td>\n",
       "                        <td id=\"T_7367307f_526f_11eb_a178_60f67737a0ferow1_col1\" class=\"data row1 col1\" >91.8%</td>\n",
       "                        <td id=\"T_7367307f_526f_11eb_a178_60f67737a0ferow1_col2\" class=\"data row1 col2\" >object</td>\n",
       "            </tr>\n",
       "            <tr>\n",
       "                        <th id=\"T_7367307f_526f_11eb_a178_60f67737a0felevel0_row2\" class=\"row_heading level0 row2\" >remarks</th>\n",
       "                        <td id=\"T_7367307f_526f_11eb_a178_60f67737a0ferow2_col0\" class=\"data row2 col0\" >221</td>\n",
       "                        <td id=\"T_7367307f_526f_11eb_a178_60f67737a0ferow2_col1\" class=\"data row2 col1\" >75.4%</td>\n",
       "                        <td id=\"T_7367307f_526f_11eb_a178_60f67737a0ferow2_col2\" class=\"data row2 col2\" >object</td>\n",
       "            </tr>\n",
       "            <tr>\n",
       "                        <th id=\"T_7367307f_526f_11eb_a178_60f67737a0felevel0_row3\" class=\"row_heading level0 row3\" >rating</th>\n",
       "                        <td id=\"T_7367307f_526f_11eb_a178_60f67737a0ferow3_col0\" class=\"data row3 col0\" >192</td>\n",
       "                        <td id=\"T_7367307f_526f_11eb_a178_60f67737a0ferow3_col1\" class=\"data row3 col1\" >65.5%</td>\n",
       "                        <td id=\"T_7367307f_526f_11eb_a178_60f67737a0ferow3_col2\" class=\"data row3 col2\" >float64</td>\n",
       "            </tr>\n",
       "            <tr>\n",
       "                        <th id=\"T_7367307f_526f_11eb_a178_60f67737a0felevel0_row4\" class=\"row_heading level0 row4\" >vinyl_color</th>\n",
       "                        <td id=\"T_7367307f_526f_11eb_a178_60f67737a0ferow4_col0\" class=\"data row4 col0\" >96</td>\n",
       "                        <td id=\"T_7367307f_526f_11eb_a178_60f67737a0ferow4_col1\" class=\"data row4 col1\" >32.8%</td>\n",
       "                        <td id=\"T_7367307f_526f_11eb_a178_60f67737a0ferow4_col2\" class=\"data row4 col2\" >object</td>\n",
       "            </tr>\n",
       "            <tr>\n",
       "                        <th id=\"T_7367307f_526f_11eb_a178_60f67737a0felevel0_row5\" class=\"row_heading level0 row5\" >lim_edition</th>\n",
       "                        <td id=\"T_7367307f_526f_11eb_a178_60f67737a0ferow5_col0\" class=\"data row5 col0\" >86</td>\n",
       "                        <td id=\"T_7367307f_526f_11eb_a178_60f67737a0ferow5_col1\" class=\"data row5 col1\" >29.4%</td>\n",
       "                        <td id=\"T_7367307f_526f_11eb_a178_60f67737a0ferow5_col2\" class=\"data row5 col2\" >object</td>\n",
       "            </tr>\n",
       "    </tbody></table>"
      ],
      "text/plain": [
       "<pandas.io.formats.style.Styler at 0x1bfdb227640>"
      ]
     },
     "execution_count": 11,
     "metadata": {},
     "output_type": "execute_result"
    }
   ],
   "source": [
    "EDA.display_nan(collection_df)"
   ]
  },
  {
   "cell_type": "code",
   "execution_count": 12,
   "metadata": {
    "ExecuteTime": {
     "end_time": "2021-01-09T11:40:20.055205Z",
     "start_time": "2021-01-09T11:40:19.606201Z"
    }
   },
   "outputs": [
    {
     "data": {
      "image/png": "[encoded data removed]",
      "text/plain": [
       "<Figure size 1008x432 with 1 Axes>"
      ]
     },
     "metadata": {},
     "output_type": "display_data"
    }
   ],
   "source": [
    "EDA.plot_nan(collection_df)"
   ]
  },
  {
   "cell_type": "markdown",
   "metadata": {
    "ExecuteTime": {
     "end_time": "2020-12-23T21:50:04.810370Z",
     "start_time": "2020-12-23T21:50:04.664351Z"
    }
   },
   "source": [
    "### Write Records To DB\n",
    "\n",
    "**TODO:** Can I apply()?"
   ]
  },
  {
   "cell_type": "code",
   "execution_count": 13,
   "metadata": {
    "ExecuteTime": {
     "end_time": "2021-01-09T11:40:20.229200Z",
     "start_time": "2021-01-09T11:40:20.057199Z"
    }
   },
   "outputs": [],
   "source": [
    "def insert_df_with_sqlalchemy_orm(session, df):\n",
    "    for x in df.to_dict(\"records\"):\n",
    "        db_functions.add_new_record(session, x)"
   ]
  },
  {
   "cell_type": "code",
   "execution_count": 14,
   "metadata": {
    "ExecuteTime": {
     "end_time": "2021-01-09T11:40:30.682199Z",
     "start_time": "2021-01-09T11:40:20.233203Z"
    }
   },
   "outputs": [
    {
     "name": "stderr",
     "output_type": "stream",
     "text": [
      "C:\\Users\\r2d4\\miniconda3\\envs\\py3\\lib\\site-packages\\sqlalchemy\\sql\\sqltypes.py:660: SAWarning: Dialect sqlite+pysqlite does *not* support Decimal objects natively, and SQLAlchemy must convert from floating point - rounding errors and other issues may occur. Please consider storing Decimal numbers as strings or integers on this platform for lossless storage.\n",
      "  util.warn(\n"
     ]
    }
   ],
   "source": [
    "insert_df_with_sqlalchemy_orm(session, collection_df)"
   ]
  },
  {
   "cell_type": "markdown",
   "metadata": {},
   "source": [
    "### Check The Results"
   ]
  },
  {
   "cell_type": "code",
   "execution_count": 15,
   "metadata": {
    "ExecuteTime": {
     "end_time": "2021-01-09T11:40:30.997205Z",
     "start_time": "2021-01-09T11:40:30.685201Z"
    }
   },
   "outputs": [
    {
     "data": {
      "text/plain": [
       "293"
      ]
     },
     "execution_count": 15,
     "metadata": {},
     "output_type": "execute_result"
    }
   ],
   "source": [
    "# Total Number Of Records In The DB\n",
    "session.query(Record).count()"
   ]
  },
  {
   "cell_type": "code",
   "execution_count": 16,
   "metadata": {
    "ExecuteTime": {
     "end_time": "2021-01-09T11:40:31.205203Z",
     "start_time": "2021-01-09T11:40:31.000211Z"
    }
   },
   "outputs": [
    {
     "data": {
      "text/plain": [
       "188"
      ]
     },
     "execution_count": 16,
     "metadata": {},
     "output_type": "execute_result"
    },
    {
     "data": {
      "text/plain": [
       "[<Artist(artist_id=184, artist_name=Disembowel)>,\n",
       " <Artist(artist_id=185, artist_name=Mortal Wound / Gutless)>,\n",
       " <Artist(artist_id=186, artist_name=End)>,\n",
       " <Artist(artist_id=187, artist_name=Organic)>,\n",
       " <Artist(artist_id=188, artist_name=Ironed Out)>]"
      ]
     },
     "execution_count": 16,
     "metadata": {},
     "output_type": "execute_result"
    }
   ],
   "source": [
    "session.query(Artist).count()\n",
    "session.query(Artist).all()[-5:]"
   ]
  },
  {
   "cell_type": "code",
   "execution_count": 17,
   "metadata": {
    "ExecuteTime": {
     "end_time": "2021-01-09T11:40:31.391204Z",
     "start_time": "2021-01-09T11:40:31.208201Z"
    }
   },
   "outputs": [
    {
     "data": {
      "text/plain": [
       "9"
      ]
     },
     "execution_count": 17,
     "metadata": {},
     "output_type": "execute_result"
    },
    {
     "data": {
      "text/plain": [
       "[<Genre(genre_id=1, genre_name=Death Metal)>,\n",
       " <Genre(genre_id=2, genre_name=Thrash Metal)>,\n",
       " <Genre(genre_id=3, genre_name=Black Metal)>,\n",
       " <Genre(genre_id=4, genre_name=Speed Metal)>,\n",
       " <Genre(genre_id=5, genre_name=Hardcore)>,\n",
       " <Genre(genre_id=6, genre_name=Punk)>,\n",
       " <Genre(genre_id=7, genre_name=Crust)>,\n",
       " <Genre(genre_id=8, genre_name=Crossover)>,\n",
       " <Genre(genre_id=9, genre_name=Grindcore)>]"
      ]
     },
     "execution_count": 17,
     "metadata": {},
     "output_type": "execute_result"
    }
   ],
   "source": [
    "session.query(Genre).count()\n",
    "session.query(Genre).all()"
   ]
  },
  {
   "cell_type": "code",
   "execution_count": 18,
   "metadata": {
    "ExecuteTime": {
     "end_time": "2021-01-09T11:40:31.581203Z",
     "start_time": "2021-01-09T11:40:31.394201Z"
    }
   },
   "outputs": [
    {
     "data": {
      "text/plain": [
       "0.0"
      ]
     },
     "execution_count": 18,
     "metadata": {},
     "output_type": "execute_result"
    },
    {
     "data": {
      "text/plain": [
       "0.0"
      ]
     },
     "execution_count": 18,
     "metadata": {},
     "output_type": "execute_result"
    },
    {
     "data": {
      "text/plain": [
       "0.0"
      ]
     },
     "execution_count": 18,
     "metadata": {},
     "output_type": "execute_result"
    }
   ],
   "source": [
    "session.query(func.sum(CreditTrx.credit_value)).all()[0][0]\n",
    "session.query(func.min(CreditTrx.credit_value)).all()[0][0]\n",
    "session.query(func.avg(CreditTrx.credit_value)).all()[0][0]"
   ]
  },
  {
   "cell_type": "markdown",
   "metadata": {},
   "source": [
    "## Initial Credit Addition"
   ]
  },
  {
   "cell_type": "code",
   "execution_count": 37,
   "metadata": {
    "ExecuteTime": {
     "end_time": "2021-01-09T11:49:42.760886Z",
     "start_time": "2021-01-09T11:49:42.556887Z"
    }
   },
   "outputs": [],
   "source": [
    "to_delete = session.query(CreditTrx).filter(CreditTrx.credit_trx_id == 297).one()\n",
    "session.delete(to_delete)"
   ]
  },
  {
   "cell_type": "code",
   "execution_count": 21,
   "metadata": {
    "ExecuteTime": {
     "end_time": "2021-01-09T11:42:59.849281Z",
     "start_time": "2021-01-09T11:42:59.684289Z"
    }
   },
   "outputs": [],
   "source": [
    "# Add initial Addition trx, check the date an credit_saldo\n",
    "\n",
    "fake_trx = CreditTrx(\n",
    "    credit_trx_date=dt.datetime(year=2020, month=12, day=30),\n",
    "    credit_trx_type=\"Addition\",\n",
    "    credit_value=1,\n",
    "    credit_saldo=-1,\n",
    "    record_id=np.nan\n",
    ")\n",
    "session.add(fake_trx)"
   ]
  },
  {
   "cell_type": "code",
   "execution_count": 38,
   "metadata": {
    "ExecuteTime": {
     "end_time": "2021-01-09T11:49:47.689047Z",
     "start_time": "2021-01-09T11:49:47.484028Z"
    }
   },
   "outputs": [
    {
     "data": {
      "text/plain": [
       "[<CreditTrx(credit_trx_id=294, credit_trx_date=2020-12-12, credit_trx_type=Purchase, credit_value=0.0, credit_saldo=0.0, record_id=294)>,\n",
       " <CreditTrx(credit_trx_id=295, credit_trx_date=2020-12-30, credit_trx_type=Addition, credit_value=1.0, credit_saldo=-1.0, record_id=None)>,\n",
       " <CreditTrx(credit_trx_id=296, credit_trx_date=2021-01-07, credit_trx_type=Purchase, credit_value=-1.0, credit_saldo=-2.0, record_id=295)>]"
      ]
     },
     "execution_count": 38,
     "metadata": {},
     "output_type": "execute_result"
    }
   ],
   "source": [
    "# Check\n",
    "session.commit()\n",
    "session.query(CreditTrx).all()[-3:]"
   ]
  },
  {
   "cell_type": "code",
   "execution_count": 44,
   "metadata": {
    "ExecuteTime": {
     "end_time": "2021-01-09T11:51:46.164708Z",
     "start_time": "2021-01-09T11:51:45.976711Z"
    }
   },
   "outputs": [
    {
     "name": "stdout",
     "output_type": "stream",
     "text": [
      "2020-12-30\n"
     ]
    }
   ],
   "source": [
    "db_functions.add_regular_credits(session)"
   ]
  },
  {
   "cell_type": "code",
   "execution_count": 45,
   "metadata": {
    "ExecuteTime": {
     "end_time": "2021-01-09T11:51:48.685469Z",
     "start_time": "2021-01-09T11:51:48.492474Z"
    }
   },
   "outputs": [
    {
     "data": {
      "text/plain": [
       "[<CreditTrx(credit_trx_id=295, credit_trx_date=2020-12-30, credit_trx_type=Addition, credit_value=1.0, credit_saldo=-1.0, record_id=None)>,\n",
       " <CreditTrx(credit_trx_id=296, credit_trx_date=2021-01-07, credit_trx_type=Purchase, credit_value=-1.0, credit_saldo=-2.0, record_id=295)>,\n",
       " <CreditTrx(credit_trx_id=297, credit_trx_date=2021-01-09, credit_trx_type=Addition, credit_value=1.0, credit_saldo=-1.0, record_id=None)>]"
      ]
     },
     "execution_count": 45,
     "metadata": {},
     "output_type": "execute_result"
    }
   ],
   "source": [
    "session.query(CreditTrx).all()[-3:]"
   ]
  },
  {
   "cell_type": "code",
   "execution_count": 43,
   "metadata": {
    "ExecuteTime": {
     "end_time": "2021-01-09T11:51:41.849334Z",
     "start_time": "2021-01-09T11:51:41.691306Z"
    }
   },
   "outputs": [],
   "source": [
    "# session.rollback()"
   ]
  },
  {
   "cell_type": "code",
   "execution_count": 46,
   "metadata": {
    "ExecuteTime": {
     "end_time": "2021-01-09T11:52:07.358420Z",
     "start_time": "2021-01-09T11:52:07.142421Z"
    }
   },
   "outputs": [],
   "source": [
    "session.close()"
   ]
  }
 ],
 "metadata": {
  "hide_input": false,
  "kernelspec": {
   "display_name": "Python 3",
   "language": "python",
   "name": "python3"
  },
  "language_info": {
   "codemirror_mode": {
    "name": "ipython",
    "version": 3
   },
   "file_extension": ".py",
   "mimetype": "text/x-python",
   "name": "python",
   "nbconvert_exporter": "python",
   "pygments_lexer": "ipython3",
   "version": "3.8.3"
  },
  "toc": {
   "base_numbering": 1,
   "nav_menu": {},
   "number_sections": true,
   "sideBar": true,
   "skip_h1_title": true,
   "title_cell": "Table of Contents",
   "title_sidebar": "Contents",
   "toc_cell": true,
   "toc_position": {
    "height": "calc(100% - 180px)",
    "left": "10px",
    "top": "150px",
    "width": "384px"
   },
   "toc_section_display": true,
   "toc_window_display": true
  }
 },
 "nbformat": 4,
 "nbformat_minor": 4
}
