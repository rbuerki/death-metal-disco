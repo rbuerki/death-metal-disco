{
 "cells": [
  {
   "cell_type": "markdown",
   "metadata": {
    "toc": true
   },
   "source": [
    "<h1>Table of Contents<span class=\"tocSkip\"></span></h1>\n",
    "<div class=\"toc\"><ul class=\"toc-item\"><li><span><a href=\"#Inititial-Record-Ingestion\" data-toc-modified-id=\"Inititial-Record-Ingestion-1\"><span class=\"toc-item-num\">1&nbsp;&nbsp;</span>Inititial Record Ingestion</a></span><ul class=\"toc-item\"><li><span><a href=\"#Connect-To-And-Re-Create-DB\" data-toc-modified-id=\"Connect-To-And-Re-Create-DB-1.1\"><span class=\"toc-item-num\">1.1&nbsp;&nbsp;</span>Connect To And Re-Create DB</a></span></li><li><span><a href=\"#Read-Back-Up-Files\" data-toc-modified-id=\"Read-Back-Up-Files-1.2\"><span class=\"toc-item-num\">1.2&nbsp;&nbsp;</span>Read Back-Up Files</a></span></li><li><span><a href=\"#Write-Records-To-DB\" data-toc-modified-id=\"Write-Records-To-DB-1.3\"><span class=\"toc-item-num\">1.3&nbsp;&nbsp;</span>Write Records To DB</a></span></li><li><span><a href=\"#Check-The-Results\" data-toc-modified-id=\"Check-The-Results-1.4\"><span class=\"toc-item-num\">1.4&nbsp;&nbsp;</span>Check The Results</a></span></li></ul></li><li><span><a href=\"#Initial-Credit-Addition\" data-toc-modified-id=\"Initial-Credit-Addition-2\"><span class=\"toc-item-num\">2&nbsp;&nbsp;</span>Initial Credit Addition</a></span></li><li><span><a href=\"#Bring-import-together\" data-toc-modified-id=\"Bring-import-together-3\"><span class=\"toc-item-num\">3&nbsp;&nbsp;</span>Bring import together</a></span></li></ul></div>"
   ]
  },
  {
   "cell_type": "code",
   "execution_count": 1,
   "metadata": {
    "ExecuteTime": {
     "end_time": "2021-02-16T19:48:33.209310Z",
     "start_time": "2021-02-16T19:48:29.226928Z"
    }
   },
   "outputs": [],
   "source": [
    "import configparser\n",
    "import datetime as dt\n",
    "import sys\n",
    "import collections\n",
    "from pathlib import Path\n",
    "from typing import Union, Optional, List, Tuple\n",
    "\n",
    "import codebook.EDA as EDA\n",
    "import codebook.clean as clean\n",
    "import numpy as np\n",
    "import pandas as pd\n",
    "import matplotlib.pyplot as plt\n",
    "import seaborn as sns\n",
    "import sqlalchemy\n",
    "from sqlalchemy import func"
   ]
  },
  {
   "cell_type": "code",
   "execution_count": 2,
   "metadata": {
    "ExecuteTime": {
     "end_time": "2021-02-16T19:48:33.358227Z",
     "start_time": "2021-02-16T19:48:33.211206Z"
    }
   },
   "outputs": [],
   "source": [
    "%load_ext autoreload\n",
    "%autoreload 2\n",
    "\n",
    "%matplotlib inline\n",
    "plt.style.use('raph-base')\n",
    "\n",
    "from IPython.core.interactiveshell import InteractiveShell\n",
    "InteractiveShell.ast_node_interactivity = 'all'\n",
    "\n",
    "pd.options.display.float_format = '{:,.2f}'.format\n",
    "pd.set_option('display.max_columns', 30)\n",
    "pd.set_option('display.expand_frame_repr', False)\n",
    "pd.set_option('max_colwidth', 800)\n",
    "\n",
    "np.random.seed(666)"
   ]
  },
  {
   "cell_type": "code",
   "execution_count": 3,
   "metadata": {
    "ExecuteTime": {
     "end_time": "2021-02-16T19:48:33.692837Z",
     "start_time": "2021-02-16T19:48:33.360206Z"
    }
   },
   "outputs": [],
   "source": [
    "sys.path.append(str(Path.cwd().parent))\n",
    "\n",
    "from src.db_declaration2 import Base, Artist, CreditTrx, Genre, Label, Rating, Record\n",
    "from src import db_functions\n",
    "from src import db_connect"
   ]
  },
  {
   "cell_type": "code",
   "execution_count": 4,
   "metadata": {
    "ExecuteTime": {
     "end_time": "2021-02-16T19:48:33.810846Z",
     "start_time": "2021-02-16T19:48:33.694807Z"
    }
   },
   "outputs": [
    {
     "name": "stdout",
     "output_type": "stream",
     "text": [
      "C:\\Users\\r2d4\\miniconda3\\envs\\py3\\python.exe\n",
      "3.8.3 (default, May 19 2020, 06:50:17) [MSC v.1916 64 bit (AMD64)]\n",
      "sqlalchemy 1.3.17\n"
     ]
    }
   ],
   "source": [
    "print(sys.executable)\n",
    "print(sys.version)\n",
    "print(f'sqlalchemy {sqlalchemy.__version__}')"
   ]
  },
  {
   "cell_type": "markdown",
   "metadata": {
    "ExecuteTime": {
     "end_time": "2020-12-21T12:20:03.352983Z",
     "start_time": "2020-12-21T12:20:03.149529Z"
    }
   },
   "source": [
    "## Inititial Record Ingestion"
   ]
  },
  {
   "cell_type": "code",
   "execution_count": 5,
   "metadata": {
    "ExecuteTime": {
     "end_time": "2021-02-16T19:48:33.926842Z",
     "start_time": "2021-02-16T19:48:33.813807Z"
    }
   },
   "outputs": [],
   "source": [
    "CONFIG_PATH = Path.cwd().parent / \"config.yaml\""
   ]
  },
  {
   "cell_type": "markdown",
   "metadata": {
    "ExecuteTime": {
     "end_time": "2020-12-23T06:08:49.546499Z",
     "start_time": "2020-12-23T06:08:49.412497Z"
    }
   },
   "source": [
    "### Connect To And Re-Create DB"
   ]
  },
  {
   "cell_type": "code",
   "execution_count": 50,
   "metadata": {
    "ExecuteTime": {
     "end_time": "2021-02-16T19:59:12.367958Z",
     "start_time": "2021-02-16T19:59:12.231690Z"
    }
   },
   "outputs": [
    {
     "data": {
      "text/plain": [
       "Engine(sqlite:///C:\\Users\\r2d4\\OneDrive\\code\\projects\\20-02_disco\\db_aka_discobase\\DiscoBase2.db)"
      ]
     },
     "execution_count": 50,
     "metadata": {},
     "output_type": "execute_result"
    },
    {
     "data": {
      "text/plain": [
       "<sqlalchemy.orm.session.Session at 0x21141686b50>"
      ]
     },
     "execution_count": 50,
     "metadata": {},
     "output_type": "execute_result"
    }
   ],
   "source": [
    "prod_path = r\"sqlite:///C:\\Users\\r2d4\\OneDrive\\code\\projects\\20-02_disco\\db_aka_discobase\\DiscoBase2.db\"\n",
    "# dev_path = r\"sqlite:///C:\\Users\\r2d4\\OneDrive\\code\\projects\\20-02_disco\\dev\\DeafDiscoBase.db\"\n",
    "\n",
    "\n",
    "engine = sqlalchemy.create_engine(prod_path)\n",
    "session = db_connect.create_session(engine)\n",
    "\n",
    "# Check\n",
    "engine\n",
    "session"
   ]
  },
  {
   "cell_type": "markdown",
   "metadata": {},
   "source": [
    "<div class=\"alert alert-block alert-danger\">\n",
    "Attention This Will Delete All Entries In The DB!\n",
    "</div>"
   ]
  },
  {
   "cell_type": "code",
   "execution_count": 7,
   "metadata": {
    "ExecuteTime": {
     "end_time": "2021-02-16T19:48:34.377905Z",
     "start_time": "2021-02-16T19:48:34.077761Z"
    }
   },
   "outputs": [],
   "source": [
    "# Re-Create\n",
    "db_functions.create_DB_anew(engine, Base)"
   ]
  },
  {
   "cell_type": "markdown",
   "metadata": {},
   "source": [
    "### Read Back-Up Files"
   ]
  },
  {
   "cell_type": "code",
   "execution_count": 8,
   "metadata": {
    "ExecuteTime": {
     "end_time": "2021-02-16T19:48:34.497906Z",
     "start_time": "2021-02-16T19:48:34.380909Z"
    }
   },
   "outputs": [],
   "source": [
    "def load_backup_data_from_parquet(\n",
    "    config_path: Union[Path, str], \n",
    "    record_data_name: Union[Path, str],\n",
    "    trx_data_name: Union[Path, str]\n",
    ") -> Tuple[pd.DataFrame, pd.DataFrame]:\n",
    "    \"\"\"Load the two back-up files with the record-related and \n",
    "    the credit_trx data into Pandas DataFrames.\n",
    "    \"\"\"\n",
    "    \n",
    "    back_up_params = db_connect.read_yaml(config_path, \"BACK_UP\")\n",
    "    rel_path = back_up_params[\"REL_PATH\"]\n",
    "    target_folder = Path.cwd().parent / rel_path  # TODO CHANGE FOR PROD\n",
    "    \n",
    "    df_list = []\n",
    "    for file in [record_data_name, trx_data_name]:\n",
    "        full_path = target_folder / file\n",
    "    \n",
    "        df = pd.read_parquet(full_path)\n",
    "        df_list.append(df)\n",
    "        \n",
    "    return df_list[0], df_list[1]"
   ]
  },
  {
   "cell_type": "code",
   "execution_count": 42,
   "metadata": {
    "ExecuteTime": {
     "end_time": "2021-02-16T19:57:00.832769Z",
     "start_time": "2021-02-16T19:57:00.679845Z"
    }
   },
   "outputs": [],
   "source": [
    "record_data, trx_data = load_backup_data_from_parquet(\n",
    "    CONFIG_PATH, \n",
    "    \"record_data_2021-02-14-15-58-43.parquet\",\n",
    "    \"trx_data_2021-02-14-15-58-44.parquet\"\n",
    ")"
   ]
  },
  {
   "cell_type": "code",
   "execution_count": 43,
   "metadata": {
    "ExecuteTime": {
     "end_time": "2021-02-16T19:57:01.560117Z",
     "start_time": "2021-02-16T19:57:01.391952Z"
    }
   },
   "outputs": [
    {
     "name": "stdout",
     "output_type": "stream",
     "text": [
      "<class 'pandas.core.frame.DataFrame'>\n",
      "Int64Index: 308 entries, 1 to 308\n",
      "Data columns (total 16 columns):\n",
      " #   Column          Non-Null Count  Dtype         \n",
      "---  ------          --------------  -----         \n",
      " 0   artist          308 non-null    object        \n",
      " 1   artist_country  13 non-null     object        \n",
      " 2   title           308 non-null    object        \n",
      " 3   genre           308 non-null    object        \n",
      " 4   label           308 non-null    object        \n",
      " 5   year            308 non-null    int64         \n",
      " 6   record_format   308 non-null    object        \n",
      " 7   vinyl_color     212 non-null    object        \n",
      " 8   lim_edition     222 non-null    object        \n",
      " 9   number          24 non-null     object        \n",
      " 10  remarks         78 non-null     object        \n",
      " 11  price           308 non-null    float64       \n",
      " 12  purchase_date   308 non-null    datetime64[ns]\n",
      " 13  rating          103 non-null    float64       \n",
      " 14  is_digitized    308 non-null    bool          \n",
      " 15  is_active       308 non-null    bool          \n",
      "dtypes: bool(2), datetime64[ns](1), float64(2), int64(1), object(10)\n",
      "memory usage: 36.7+ KB\n"
     ]
    },
    {
     "data": {
      "text/html": [
       "<div>\n",
       "<style scoped>\n",
       "    .dataframe tbody tr th:only-of-type {\n",
       "        vertical-align: middle;\n",
       "    }\n",
       "\n",
       "    .dataframe tbody tr th {\n",
       "        vertical-align: top;\n",
       "    }\n",
       "\n",
       "    .dataframe thead th {\n",
       "        text-align: right;\n",
       "    }\n",
       "</style>\n",
       "<table border=\"1\" class=\"dataframe\">\n",
       "  <thead>\n",
       "    <tr style=\"text-align: right;\">\n",
       "      <th></th>\n",
       "      <th>artist</th>\n",
       "      <th>artist_country</th>\n",
       "      <th>title</th>\n",
       "      <th>genre</th>\n",
       "      <th>label</th>\n",
       "      <th>year</th>\n",
       "      <th>record_format</th>\n",
       "      <th>vinyl_color</th>\n",
       "      <th>lim_edition</th>\n",
       "      <th>number</th>\n",
       "      <th>remarks</th>\n",
       "      <th>price</th>\n",
       "      <th>purchase_date</th>\n",
       "      <th>rating</th>\n",
       "      <th>is_digitized</th>\n",
       "      <th>is_active</th>\n",
       "    </tr>\n",
       "    <tr>\n",
       "      <th>record_id</th>\n",
       "      <th></th>\n",
       "      <th></th>\n",
       "      <th></th>\n",
       "      <th></th>\n",
       "      <th></th>\n",
       "      <th></th>\n",
       "      <th></th>\n",
       "      <th></th>\n",
       "      <th></th>\n",
       "      <th></th>\n",
       "      <th></th>\n",
       "      <th></th>\n",
       "      <th></th>\n",
       "      <th></th>\n",
       "      <th></th>\n",
       "      <th></th>\n",
       "    </tr>\n",
       "  </thead>\n",
       "  <tbody>\n",
       "    <tr>\n",
       "      <th>1</th>\n",
       "      <td>Dismember</td>\n",
       "      <td>None</td>\n",
       "      <td>Pieces</td>\n",
       "      <td>Death Metal</td>\n",
       "      <td>[NA]</td>\n",
       "      <td>1992</td>\n",
       "      <td>12\"</td>\n",
       "      <td>None</td>\n",
       "      <td>None</td>\n",
       "      <td>None</td>\n",
       "      <td>None</td>\n",
       "      <td>35.00</td>\n",
       "      <td>1992-01-01</td>\n",
       "      <td>nan</td>\n",
       "      <td>False</td>\n",
       "      <td>True</td>\n",
       "    </tr>\n",
       "    <tr>\n",
       "      <th>2</th>\n",
       "      <td>Dismember</td>\n",
       "      <td>None</td>\n",
       "      <td>Skin Her Alive</td>\n",
       "      <td>Death Metal</td>\n",
       "      <td>[NA]</td>\n",
       "      <td>1991</td>\n",
       "      <td>7\" Pic</td>\n",
       "      <td>None</td>\n",
       "      <td>None</td>\n",
       "      <td>None</td>\n",
       "      <td>None</td>\n",
       "      <td>15.00</td>\n",
       "      <td>1992-01-01</td>\n",
       "      <td>nan</td>\n",
       "      <td>False</td>\n",
       "      <td>True</td>\n",
       "    </tr>\n",
       "    <tr>\n",
       "      <th>3</th>\n",
       "      <td>Dismember</td>\n",
       "      <td>None</td>\n",
       "      <td>Like An Everflowing Stream</td>\n",
       "      <td>Death Metal</td>\n",
       "      <td>[NA]</td>\n",
       "      <td>1991</td>\n",
       "      <td>LP</td>\n",
       "      <td>None</td>\n",
       "      <td>None</td>\n",
       "      <td>None</td>\n",
       "      <td>None</td>\n",
       "      <td>155.00</td>\n",
       "      <td>1992-01-01</td>\n",
       "      <td>nan</td>\n",
       "      <td>False</td>\n",
       "      <td>True</td>\n",
       "    </tr>\n",
       "    <tr>\n",
       "      <th>4</th>\n",
       "      <td>Dismember</td>\n",
       "      <td>None</td>\n",
       "      <td>Where Ironcrosses Flow</td>\n",
       "      <td>Death Metal</td>\n",
       "      <td>[NA]</td>\n",
       "      <td>2004</td>\n",
       "      <td>LP</td>\n",
       "      <td>None</td>\n",
       "      <td>None</td>\n",
       "      <td>None</td>\n",
       "      <td>None</td>\n",
       "      <td>15.00</td>\n",
       "      <td>1992-01-01</td>\n",
       "      <td>nan</td>\n",
       "      <td>True</td>\n",
       "      <td>True</td>\n",
       "    </tr>\n",
       "    <tr>\n",
       "      <th>5</th>\n",
       "      <td>Merciless</td>\n",
       "      <td>None</td>\n",
       "      <td>The Awakening</td>\n",
       "      <td>Death Metal</td>\n",
       "      <td>[NA]</td>\n",
       "      <td>1989</td>\n",
       "      <td>LP</td>\n",
       "      <td>None</td>\n",
       "      <td>None</td>\n",
       "      <td>None</td>\n",
       "      <td>New, Wert geschätzt / 1. der beiden Originalpressungen auf DSP</td>\n",
       "      <td>250.00</td>\n",
       "      <td>1992-01-01</td>\n",
       "      <td>nan</td>\n",
       "      <td>True</td>\n",
       "      <td>True</td>\n",
       "    </tr>\n",
       "  </tbody>\n",
       "</table>\n",
       "</div>"
      ],
      "text/plain": [
       "              artist artist_country                       title        genre label  year record_format vinyl_color lim_edition number                                                         remarks  price purchase_date  rating  is_digitized  is_active\n",
       "record_id                                                                                                                                                                                                                                                  \n",
       "1          Dismember           None                      Pieces  Death Metal  [NA]  1992           12\"        None        None   None                                                            None  35.00    1992-01-01     nan         False       True\n",
       "2          Dismember           None              Skin Her Alive  Death Metal  [NA]  1991        7\" Pic        None        None   None                                                            None  15.00    1992-01-01     nan         False       True\n",
       "3          Dismember           None  Like An Everflowing Stream  Death Metal  [NA]  1991            LP        None        None   None                                                            None 155.00    1992-01-01     nan         False       True\n",
       "4          Dismember           None      Where Ironcrosses Flow  Death Metal  [NA]  2004            LP        None        None   None                                                            None  15.00    1992-01-01     nan          True       True\n",
       "5          Merciless           None               The Awakening  Death Metal  [NA]  1989            LP        None        None   None  New, Wert geschätzt / 1. der beiden Originalpressungen auf DSP 250.00    1992-01-01     nan          True       True"
      ]
     },
     "execution_count": 43,
     "metadata": {},
     "output_type": "execute_result"
    }
   ],
   "source": [
    "record_data.info()\n",
    "record_data.head()"
   ]
  },
  {
   "cell_type": "code",
   "execution_count": 11,
   "metadata": {
    "ExecuteTime": {
     "end_time": "2021-02-16T19:48:35.776981Z",
     "start_time": "2021-02-16T19:48:34.917312Z"
    }
   },
   "outputs": [
    {
     "data": {
      "text/html": [
       "<style  type=\"text/css\" >\n",
       "</style><table id=\"T_f4fae0c9_708f_11eb_aad4_60f67737a0fe\" ><thead>    <tr>        <th class=\"blank level0\" ></th>        <th class=\"col_heading level0 col0\" >total</th>        <th class=\"col_heading level0 col1\" >prop</th>        <th class=\"col_heading level0 col2\" >dtype</th>    </tr></thead><tbody>\n",
       "                <tr>\n",
       "                        <th id=\"T_f4fae0c9_708f_11eb_aad4_60f67737a0felevel0_row0\" class=\"row_heading level0 row0\" >artist_country</th>\n",
       "                        <td id=\"T_f4fae0c9_708f_11eb_aad4_60f67737a0ferow0_col0\" class=\"data row0 col0\" >295</td>\n",
       "                        <td id=\"T_f4fae0c9_708f_11eb_aad4_60f67737a0ferow0_col1\" class=\"data row0 col1\" >95.8%</td>\n",
       "                        <td id=\"T_f4fae0c9_708f_11eb_aad4_60f67737a0ferow0_col2\" class=\"data row0 col2\" >object</td>\n",
       "            </tr>\n",
       "            <tr>\n",
       "                        <th id=\"T_f4fae0c9_708f_11eb_aad4_60f67737a0felevel0_row1\" class=\"row_heading level0 row1\" >number</th>\n",
       "                        <td id=\"T_f4fae0c9_708f_11eb_aad4_60f67737a0ferow1_col0\" class=\"data row1 col0\" >284</td>\n",
       "                        <td id=\"T_f4fae0c9_708f_11eb_aad4_60f67737a0ferow1_col1\" class=\"data row1 col1\" >92.2%</td>\n",
       "                        <td id=\"T_f4fae0c9_708f_11eb_aad4_60f67737a0ferow1_col2\" class=\"data row1 col2\" >object</td>\n",
       "            </tr>\n",
       "            <tr>\n",
       "                        <th id=\"T_f4fae0c9_708f_11eb_aad4_60f67737a0felevel0_row2\" class=\"row_heading level0 row2\" >remarks</th>\n",
       "                        <td id=\"T_f4fae0c9_708f_11eb_aad4_60f67737a0ferow2_col0\" class=\"data row2 col0\" >230</td>\n",
       "                        <td id=\"T_f4fae0c9_708f_11eb_aad4_60f67737a0ferow2_col1\" class=\"data row2 col1\" >74.7%</td>\n",
       "                        <td id=\"T_f4fae0c9_708f_11eb_aad4_60f67737a0ferow2_col2\" class=\"data row2 col2\" >object</td>\n",
       "            </tr>\n",
       "            <tr>\n",
       "                        <th id=\"T_f4fae0c9_708f_11eb_aad4_60f67737a0felevel0_row3\" class=\"row_heading level0 row3\" >rating</th>\n",
       "                        <td id=\"T_f4fae0c9_708f_11eb_aad4_60f67737a0ferow3_col0\" class=\"data row3 col0\" >205</td>\n",
       "                        <td id=\"T_f4fae0c9_708f_11eb_aad4_60f67737a0ferow3_col1\" class=\"data row3 col1\" >66.6%</td>\n",
       "                        <td id=\"T_f4fae0c9_708f_11eb_aad4_60f67737a0ferow3_col2\" class=\"data row3 col2\" >float64</td>\n",
       "            </tr>\n",
       "            <tr>\n",
       "                        <th id=\"T_f4fae0c9_708f_11eb_aad4_60f67737a0felevel0_row4\" class=\"row_heading level0 row4\" >vinyl_color</th>\n",
       "                        <td id=\"T_f4fae0c9_708f_11eb_aad4_60f67737a0ferow4_col0\" class=\"data row4 col0\" >96</td>\n",
       "                        <td id=\"T_f4fae0c9_708f_11eb_aad4_60f67737a0ferow4_col1\" class=\"data row4 col1\" >31.2%</td>\n",
       "                        <td id=\"T_f4fae0c9_708f_11eb_aad4_60f67737a0ferow4_col2\" class=\"data row4 col2\" >object</td>\n",
       "            </tr>\n",
       "            <tr>\n",
       "                        <th id=\"T_f4fae0c9_708f_11eb_aad4_60f67737a0felevel0_row5\" class=\"row_heading level0 row5\" >lim_edition</th>\n",
       "                        <td id=\"T_f4fae0c9_708f_11eb_aad4_60f67737a0ferow5_col0\" class=\"data row5 col0\" >86</td>\n",
       "                        <td id=\"T_f4fae0c9_708f_11eb_aad4_60f67737a0ferow5_col1\" class=\"data row5 col1\" >27.9%</td>\n",
       "                        <td id=\"T_f4fae0c9_708f_11eb_aad4_60f67737a0ferow5_col2\" class=\"data row5 col2\" >object</td>\n",
       "            </tr>\n",
       "    </tbody></table>"
      ],
      "text/plain": [
       "<pandas.io.formats.style.Styler at 0x2114116a160>"
      ]
     },
     "execution_count": 11,
     "metadata": {},
     "output_type": "execute_result"
    }
   ],
   "source": [
    "EDA.display_nan(record_data)"
   ]
  },
  {
   "cell_type": "code",
   "execution_count": 12,
   "metadata": {
    "ExecuteTime": {
     "end_time": "2021-02-16T19:48:35.913983Z",
     "start_time": "2021-02-16T19:48:35.779983Z"
    }
   },
   "outputs": [],
   "source": [
    "# splits_plus_one = record_data[record_data[\"artist\"].str.contains(\"/\")].index\n",
    "# splits_plus_one"
   ]
  },
  {
   "cell_type": "code",
   "execution_count": 13,
   "metadata": {
    "ExecuteTime": {
     "end_time": "2021-02-16T19:48:36.049983Z",
     "start_time": "2021-02-16T19:48:35.916985Z"
    }
   },
   "outputs": [],
   "source": [
    "# TEMPORARY: Bring Artists To List\n",
    "\n",
    "record_data[\"artist_country\"] = record_data[\"artist_country\"].fillna(\"NA\")\n",
    "\n",
    "def split_strings(x):\n",
    "    if isinstance(x, str):\n",
    "        x = x.split(\" / \")\n",
    "    return x\n",
    "\n",
    "record_data.loc[288, \"artist_country\"] = \"USA / Australia\"\n",
    "record_data[\"artist\"] = record_data[\"artist\"].apply(split_strings)\n",
    "record_data[\"artist_country\"] = record_data[\"artist_country\"].apply(split_strings)\n",
    "\n",
    "# record_data[record_data.index.isin(splits_plus_one)]"
   ]
  },
  {
   "cell_type": "code",
   "execution_count": 14,
   "metadata": {
    "ExecuteTime": {
     "end_time": "2021-02-16T19:48:36.190984Z",
     "start_time": "2021-02-16T19:48:36.052986Z"
    }
   },
   "outputs": [
    {
     "data": {
      "text/plain": [
       "{'artist': ['Dismember'],\n",
       " 'artist_country': ['NA'],\n",
       " 'title': 'Pieces',\n",
       " 'genre': 'Death Metal',\n",
       " 'label': array(['NA'], dtype=object),\n",
       " 'year': 1992,\n",
       " 'record_format': '12\"',\n",
       " 'vinyl_color': None,\n",
       " 'lim_edition': None,\n",
       " 'number': None,\n",
       " 'remarks': None,\n",
       " 'price': 35.0,\n",
       " 'purchase_date': Timestamp('1992-01-01 00:00:00'),\n",
       " 'rating': nan,\n",
       " 'is_digitized': False,\n",
       " 'is_active': True}"
      ]
     },
     "execution_count": 14,
     "metadata": {},
     "output_type": "execute_result"
    },
    {
     "data": {
      "text/plain": [
       "str"
      ]
     },
     "execution_count": 14,
     "metadata": {},
     "output_type": "execute_result"
    }
   ],
   "source": [
    "record_data.to_dict(\"records\")[0]\n",
    "type(record_data.iloc[0,0][0])"
   ]
  },
  {
   "cell_type": "markdown",
   "metadata": {},
   "source": [
    "**TEMPORARY TO DOS:**\n",
    "\n",
    "- fillna in Ratings col because it will generate an FK in the future"
   ]
  },
  {
   "cell_type": "code",
   "execution_count": 15,
   "metadata": {
    "ExecuteTime": {
     "end_time": "2021-02-16T19:48:36.333990Z",
     "start_time": "2021-02-16T19:48:36.193985Z"
    }
   },
   "outputs": [],
   "source": [
    "# todo"
   ]
  },
  {
   "cell_type": "code",
   "execution_count": 16,
   "metadata": {
    "ExecuteTime": {
     "end_time": "2021-02-16T19:48:36.465978Z",
     "start_time": "2021-02-16T19:48:36.336981Z"
    }
   },
   "outputs": [],
   "source": [
    "# SIMULATE A TRX\n",
    "\n",
    "record_data[\"credit_value\"] = 0\n",
    "record_data[\"trx_type\"] = \"Initial Load\""
   ]
  },
  {
   "cell_type": "markdown",
   "metadata": {
    "ExecuteTime": {
     "end_time": "2020-12-23T21:50:04.810370Z",
     "start_time": "2020-12-23T21:50:04.664351Z"
    }
   },
   "source": [
    "### Write Records To DB\n",
    "\n",
    "**TODO:** Can I apply()?"
   ]
  },
  {
   "cell_type": "code",
   "execution_count": 17,
   "metadata": {
    "ExecuteTime": {
     "end_time": "2021-02-16T19:48:36.600984Z",
     "start_time": "2021-02-16T19:48:36.468985Z"
    }
   },
   "outputs": [],
   "source": [
    "def insert_df_with_sqlalchemy_orm(session, df):\n",
    "    # Add bogus trx values\n",
    "    record_data[\"credit_value\"] = 0\n",
    "    record_data[\"trx_type\"] = \"Initial Load\"\n",
    "    \n",
    "    for x in df.to_dict(\"records\"):\n",
    "        db_functions.add_new_record(session, x)\n"
   ]
  },
  {
   "cell_type": "code",
   "execution_count": 18,
   "metadata": {
    "ExecuteTime": {
     "end_time": "2021-02-16T19:48:45.069547Z",
     "start_time": "2021-02-16T19:48:36.603983Z"
    },
    "scrolled": true
   },
   "outputs": [
    {
     "name": "stderr",
     "output_type": "stream",
     "text": [
      "C:\\Users\\r2d4\\miniconda3\\envs\\py3\\lib\\site-packages\\sqlalchemy\\sql\\sqltypes.py:660: SAWarning: Dialect sqlite+pysqlite does *not* support Decimal objects natively, and SQLAlchemy must convert from floating point - rounding errors and other issues may occur. Please consider storing Decimal numbers as strings or integers on this platform for lossless storage.\n",
      "  util.warn(\n"
     ]
    }
   ],
   "source": [
    "insert_df_with_sqlalchemy_orm(session, record_data)"
   ]
  },
  {
   "cell_type": "markdown",
   "metadata": {},
   "source": [
    "### Check The Results"
   ]
  },
  {
   "cell_type": "code",
   "execution_count": 19,
   "metadata": {
    "ExecuteTime": {
     "end_time": "2021-02-16T19:48:45.217509Z",
     "start_time": "2021-02-16T19:48:45.071550Z"
    }
   },
   "outputs": [
    {
     "data": {
      "text/plain": [
       "308"
      ]
     },
     "execution_count": 19,
     "metadata": {},
     "output_type": "execute_result"
    }
   ],
   "source": [
    "# Total Number Of Records In The DB\n",
    "session.query(Record).count()"
   ]
  },
  {
   "cell_type": "code",
   "execution_count": 20,
   "metadata": {
    "ExecuteTime": {
     "end_time": "2021-02-16T19:48:45.391510Z",
     "start_time": "2021-02-16T19:48:45.220512Z"
    }
   },
   "outputs": [
    {
     "data": {
      "text/plain": [
       "199"
      ]
     },
     "execution_count": 20,
     "metadata": {},
     "output_type": "execute_result"
    },
    {
     "data": {
      "text/plain": [
       "[<Artist(artist_id=195, artist_name=Celestial Sanctuary)>,\n",
       " <Artist(artist_id=196, artist_name=200 STAB WOUNDS)>,\n",
       " <Artist(artist_id=197, artist_name=Unurnment)>,\n",
       " <Artist(artist_id=198, artist_name=Infestment)>,\n",
       " <Artist(artist_id=199, artist_name=Heads For The Dead)>]"
      ]
     },
     "execution_count": 20,
     "metadata": {},
     "output_type": "execute_result"
    }
   ],
   "source": [
    "session.query(Artist).count()\n",
    "session.query(Artist).all()[-5:]"
   ]
  },
  {
   "cell_type": "code",
   "execution_count": 21,
   "metadata": {
    "ExecuteTime": {
     "end_time": "2021-02-16T19:48:45.611508Z",
     "start_time": "2021-02-16T19:48:45.399509Z"
    }
   },
   "outputs": [
    {
     "data": {
      "text/plain": [
       "9"
      ]
     },
     "execution_count": 21,
     "metadata": {},
     "output_type": "execute_result"
    },
    {
     "data": {
      "text/plain": [
       "[<Genre(genre_id=1, genre_name=Death Metal)>,\n",
       " <Genre(genre_id=2, genre_name=Thrash Metal)>,\n",
       " <Genre(genre_id=3, genre_name=Black Metal)>,\n",
       " <Genre(genre_id=4, genre_name=Speed Metal)>,\n",
       " <Genre(genre_id=5, genre_name=Hardcore)>,\n",
       " <Genre(genre_id=6, genre_name=Punk)>,\n",
       " <Genre(genre_id=7, genre_name=Crust)>,\n",
       " <Genre(genre_id=8, genre_name=Crossover)>,\n",
       " <Genre(genre_id=9, genre_name=Grindcore)>]"
      ]
     },
     "execution_count": 21,
     "metadata": {},
     "output_type": "execute_result"
    }
   ],
   "source": [
    "session.query(Genre).count()\n",
    "session.query(Genre).all()"
   ]
  },
  {
   "cell_type": "code",
   "execution_count": 22,
   "metadata": {
    "ExecuteTime": {
     "end_time": "2021-02-16T19:48:45.768509Z",
     "start_time": "2021-02-16T19:48:45.614508Z"
    }
   },
   "outputs": [
    {
     "data": {
      "text/plain": [
       "308"
      ]
     },
     "execution_count": 22,
     "metadata": {},
     "output_type": "execute_result"
    },
    {
     "data": {
      "text/plain": [
       "0.0"
      ]
     },
     "execution_count": 22,
     "metadata": {},
     "output_type": "execute_result"
    },
    {
     "data": {
      "text/plain": [
       "0.0"
      ]
     },
     "execution_count": 22,
     "metadata": {},
     "output_type": "execute_result"
    },
    {
     "data": {
      "text/plain": [
       "0.0"
      ]
     },
     "execution_count": 22,
     "metadata": {},
     "output_type": "execute_result"
    }
   ],
   "source": [
    "session.query(CreditTrx).count()\n",
    "session.query(func.sum(CreditTrx.credit_value)).all()[0][0]\n",
    "session.query(func.min(CreditTrx.credit_value)).all()[0][0]\n",
    "session.query(func.avg(CreditTrx.credit_value)).all()[0][0]"
   ]
  },
  {
   "cell_type": "markdown",
   "metadata": {},
   "source": [
    "## Initial Credit Addition"
   ]
  },
  {
   "cell_type": "code",
   "execution_count": 23,
   "metadata": {
    "ExecuteTime": {
     "end_time": "2021-02-16T19:48:45.925506Z",
     "start_time": "2021-02-16T19:48:45.771511Z"
    }
   },
   "outputs": [],
   "source": [
    "# Add initial Addition trx, check the date an credit_saldo\n",
    "\n",
    "fake_trx = CreditTrx(\n",
    "    credit_trx_date=dt.datetime(year=2020, month=12, day=30),\n",
    "    credit_trx_type=\"Addition\",\n",
    "    credit_value=1,\n",
    "    credit_saldo=-1,\n",
    "    record_id=np.nan\n",
    ")\n",
    "session.add(fake_trx)"
   ]
  },
  {
   "cell_type": "code",
   "execution_count": 24,
   "metadata": {
    "ExecuteTime": {
     "end_time": "2021-02-16T19:48:46.097511Z",
     "start_time": "2021-02-16T19:48:45.929508Z"
    }
   },
   "outputs": [
    {
     "data": {
      "text/plain": [
       "[<CreditTrx(credit_trx_id=307, credit_trx_date=2021-02-05, credit_trx_type=Initial Load, credit_value=0.0, credit_saldo=0.0, record_id=307)>,\n",
       " <CreditTrx(credit_trx_id=308, credit_trx_date=2021-02-08, credit_trx_type=Initial Load, credit_value=0.0, credit_saldo=0.0, record_id=308)>,\n",
       " <CreditTrx(credit_trx_id=309, credit_trx_date=2020-12-30, credit_trx_type=Addition, credit_value=1.0, credit_saldo=-1.0, record_id=None)>]"
      ]
     },
     "execution_count": 24,
     "metadata": {},
     "output_type": "execute_result"
    }
   ],
   "source": [
    "# Check\n",
    "session.commit()\n",
    "session.query(CreditTrx).all()[-3:]"
   ]
  },
  {
   "cell_type": "code",
   "execution_count": 25,
   "metadata": {
    "ExecuteTime": {
     "end_time": "2021-02-16T19:48:46.280507Z",
     "start_time": "2021-02-16T19:48:46.099507Z"
    }
   },
   "outputs": [
    {
     "name": "stdout",
     "output_type": "stream",
     "text": [
      "Creating 'Addition' Trx for: 2021-01-09\n",
      "Creating 'Addition' Trx for: 2021-01-19\n",
      "Creating 'Addition' Trx for: 2021-01-29\n",
      "Creating 'Addition' Trx for: 2021-02-08\n"
     ]
    }
   ],
   "source": [
    "db_functions.add_regular_credits(session)"
   ]
  },
  {
   "cell_type": "code",
   "execution_count": 26,
   "metadata": {
    "ExecuteTime": {
     "end_time": "2021-02-16T19:48:46.443509Z",
     "start_time": "2021-02-16T19:48:46.283507Z"
    }
   },
   "outputs": [
    {
     "data": {
      "text/plain": [
       "[<CreditTrx(credit_trx_id=311, credit_trx_date=2021-01-19, credit_trx_type=Addition, credit_value=1.0, credit_saldo=1.0, record_id=None)>,\n",
       " <CreditTrx(credit_trx_id=312, credit_trx_date=2021-01-29, credit_trx_type=Addition, credit_value=1.0, credit_saldo=2.0, record_id=None)>,\n",
       " <CreditTrx(credit_trx_id=313, credit_trx_date=2021-02-08, credit_trx_type=Addition, credit_value=1.0, credit_saldo=3.0, record_id=None)>]"
      ]
     },
     "execution_count": 26,
     "metadata": {},
     "output_type": "execute_result"
    }
   ],
   "source": [
    "session.query(CreditTrx).all()[-3:]"
   ]
  },
  {
   "cell_type": "code",
   "execution_count": 27,
   "metadata": {
    "ExecuteTime": {
     "end_time": "2021-02-16T19:48:46.598506Z",
     "start_time": "2021-02-16T19:48:46.450510Z"
    }
   },
   "outputs": [],
   "source": [
    "# session.rollback()"
   ]
  },
  {
   "cell_type": "code",
   "execution_count": 31,
   "metadata": {
    "ExecuteTime": {
     "end_time": "2021-02-16T19:49:51.550425Z",
     "start_time": "2021-02-16T19:49:51.397679Z"
    }
   },
   "outputs": [
    {
     "data": {
      "text/plain": [
       "313"
      ]
     },
     "execution_count": 31,
     "metadata": {},
     "output_type": "execute_result"
    },
    {
     "data": {
      "text/plain": [
       "313"
      ]
     },
     "execution_count": 31,
     "metadata": {},
     "output_type": "execute_result"
    },
    {
     "data": {
      "text/plain": [
       "0"
      ]
     },
     "execution_count": 31,
     "metadata": {},
     "output_type": "execute_result"
    }
   ],
   "source": [
    "session.query(CreditTrx).count()\n",
    "session.query(CreditTrx).delete()\n",
    "session.query(CreditTrx).count()"
   ]
  },
  {
   "cell_type": "code",
   "execution_count": 57,
   "metadata": {
    "ExecuteTime": {
     "end_time": "2021-02-16T20:10:26.302099Z",
     "start_time": "2021-02-16T20:10:26.144105Z"
    }
   },
   "outputs": [],
   "source": [
    "    Base.metadata.drop_all(engine, tables=[CreditTrx.__table__])\n",
    "    Base.metadata.create_all(engine, tables=[CreditTrx.__table__])"
   ]
  },
  {
   "cell_type": "code",
   "execution_count": 58,
   "metadata": {
    "ExecuteTime": {
     "end_time": "2021-02-16T20:10:32.790202Z",
     "start_time": "2021-02-16T20:10:32.647205Z"
    }
   },
   "outputs": [
    {
     "name": "stdout",
     "output_type": "stream",
     "text": [
      "<class 'pandas.core.frame.DataFrame'>\n",
      "Int64Index: 317 entries, 1 to 317\n",
      "Data columns (total 7 columns):\n",
      " #   Column           Non-Null Count  Dtype         \n",
      "---  ------           --------------  -----         \n",
      " 0   credit_trx_date  317 non-null    datetime64[ns]\n",
      " 1   credit_trx_type  317 non-null    object        \n",
      " 2   credit_value     317 non-null    float64       \n",
      " 3   credit_saldo     317 non-null    float64       \n",
      " 4   record_id        312 non-null    float64       \n",
      " 5   created_at       317 non-null    datetime64[ns]\n",
      " 6   updated_at       4 non-null      datetime64[ns]\n",
      "dtypes: datetime64[ns](3), float64(3), object(1)\n",
      "memory usage: 19.8+ KB\n"
     ]
    }
   ],
   "source": [
    "trx_data.info()"
   ]
  },
  {
   "cell_type": "code",
   "execution_count": 59,
   "metadata": {
    "ExecuteTime": {
     "end_time": "2021-02-16T20:10:35.373329Z",
     "start_time": "2021-02-16T20:10:35.246338Z"
    }
   },
   "outputs": [],
   "source": [
    "def insert_df_with_sqlalchemy_core(df, table_class, engine):\n",
    "    start = time.time()\n",
    "    engine.execute(\n",
    "        table_class.__table__.insert(),\n",
    "        [x for x in df.to_dict(\"records\")]\n",
    "    )\n",
    "    end = time.time()\n",
    "    print(\n",
    "        f\"SQLAlchemy Core: Insert {len(df)} records in {end - start:.2f} seconds\"\n",
    "    )"
   ]
  },
  {
   "cell_type": "code",
   "execution_count": 60,
   "metadata": {
    "ExecuteTime": {
     "end_time": "2021-02-16T20:10:35.886332Z",
     "start_time": "2021-02-16T20:10:35.735332Z"
    }
   },
   "outputs": [
    {
     "name": "stdout",
     "output_type": "stream",
     "text": [
      "SQLAlchemy Core: Insert 317 records in 0.02 seconds\n"
     ]
    }
   ],
   "source": [
    "import time\n",
    "\n",
    "insert_df_with_sqlalchemy_core(trx_data.iloc[:, :-2], CreditTrx, engine)"
   ]
  },
  {
   "cell_type": "code",
   "execution_count": 61,
   "metadata": {
    "ExecuteTime": {
     "end_time": "2021-02-16T20:10:37.498329Z",
     "start_time": "2021-02-16T20:10:37.369332Z"
    }
   },
   "outputs": [],
   "source": [
    "session.close()"
   ]
  },
  {
   "cell_type": "code",
   "execution_count": 64,
   "metadata": {
    "ExecuteTime": {
     "end_time": "2021-02-16T20:24:18.538639Z",
     "start_time": "2021-02-16T20:24:18.388040Z"
    }
   },
   "outputs": [
    {
     "data": {
      "text/html": [
       "<div>\n",
       "<style scoped>\n",
       "    .dataframe tbody tr th:only-of-type {\n",
       "        vertical-align: middle;\n",
       "    }\n",
       "\n",
       "    .dataframe tbody tr th {\n",
       "        vertical-align: top;\n",
       "    }\n",
       "\n",
       "    .dataframe thead th {\n",
       "        text-align: right;\n",
       "    }\n",
       "</style>\n",
       "<table border=\"1\" class=\"dataframe\">\n",
       "  <thead>\n",
       "    <tr style=\"text-align: right;\">\n",
       "      <th></th>\n",
       "      <th>credit_trx_id</th>\n",
       "      <th>credit_trx_date</th>\n",
       "      <th>credit_trx_type</th>\n",
       "      <th>credit_value</th>\n",
       "      <th>credit_saldo</th>\n",
       "      <th>record_id</th>\n",
       "      <th>created_at</th>\n",
       "      <th>updated_at</th>\n",
       "    </tr>\n",
       "  </thead>\n",
       "  <tbody>\n",
       "    <tr>\n",
       "      <th>302</th>\n",
       "      <td>303</td>\n",
       "      <td>2021-01-15</td>\n",
       "      <td>Purchase</td>\n",
       "      <td>-1.00</td>\n",
       "      <td>-4.00</td>\n",
       "      <td>300.00</td>\n",
       "      <td>2021-02-16 20:10:35</td>\n",
       "      <td>NaT</td>\n",
       "    </tr>\n",
       "    <tr>\n",
       "      <th>303</th>\n",
       "      <td>304</td>\n",
       "      <td>2021-01-19</td>\n",
       "      <td>Addition</td>\n",
       "      <td>1.00</td>\n",
       "      <td>-3.00</td>\n",
       "      <td>nan</td>\n",
       "      <td>2021-02-16 20:10:35</td>\n",
       "      <td>NaT</td>\n",
       "    </tr>\n",
       "    <tr>\n",
       "      <th>304</th>\n",
       "      <td>305</td>\n",
       "      <td>2021-01-20</td>\n",
       "      <td>Purchase</td>\n",
       "      <td>-1.00</td>\n",
       "      <td>-4.00</td>\n",
       "      <td>301.00</td>\n",
       "      <td>2021-02-16 20:10:35</td>\n",
       "      <td>NaT</td>\n",
       "    </tr>\n",
       "    <tr>\n",
       "      <th>305</th>\n",
       "      <td>306</td>\n",
       "      <td>2021-01-20</td>\n",
       "      <td>Purchase</td>\n",
       "      <td>-1.00</td>\n",
       "      <td>-5.00</td>\n",
       "      <td>302.00</td>\n",
       "      <td>2021-02-16 20:10:35</td>\n",
       "      <td>NaT</td>\n",
       "    </tr>\n",
       "    <tr>\n",
       "      <th>306</th>\n",
       "      <td>307</td>\n",
       "      <td>2021-01-22</td>\n",
       "      <td>Remove</td>\n",
       "      <td>1.00</td>\n",
       "      <td>-4.00</td>\n",
       "      <td>127.00</td>\n",
       "      <td>2021-02-16 20:10:35</td>\n",
       "      <td>NaT</td>\n",
       "    </tr>\n",
       "    <tr>\n",
       "      <th>307</th>\n",
       "      <td>308</td>\n",
       "      <td>2021-01-22</td>\n",
       "      <td>Remove</td>\n",
       "      <td>0.00</td>\n",
       "      <td>-4.00</td>\n",
       "      <td>123.00</td>\n",
       "      <td>2021-02-16 20:10:35</td>\n",
       "      <td>NaT</td>\n",
       "    </tr>\n",
       "    <tr>\n",
       "      <th>308</th>\n",
       "      <td>309</td>\n",
       "      <td>2021-01-22</td>\n",
       "      <td>Remove</td>\n",
       "      <td>1.00</td>\n",
       "      <td>-3.00</td>\n",
       "      <td>121.00</td>\n",
       "      <td>2021-02-16 20:10:35</td>\n",
       "      <td>NaT</td>\n",
       "    </tr>\n",
       "    <tr>\n",
       "      <th>309</th>\n",
       "      <td>310</td>\n",
       "      <td>2021-01-25</td>\n",
       "      <td>Purchase</td>\n",
       "      <td>-1.00</td>\n",
       "      <td>-4.00</td>\n",
       "      <td>303.00</td>\n",
       "      <td>2021-02-16 20:10:35</td>\n",
       "      <td>NaT</td>\n",
       "    </tr>\n",
       "    <tr>\n",
       "      <th>310</th>\n",
       "      <td>311</td>\n",
       "      <td>2021-01-25</td>\n",
       "      <td>Purchase</td>\n",
       "      <td>0.00</td>\n",
       "      <td>-4.00</td>\n",
       "      <td>304.00</td>\n",
       "      <td>2021-02-16 20:10:35</td>\n",
       "      <td>NaT</td>\n",
       "    </tr>\n",
       "    <tr>\n",
       "      <th>311</th>\n",
       "      <td>312</td>\n",
       "      <td>2021-01-29</td>\n",
       "      <td>Addition</td>\n",
       "      <td>1.00</td>\n",
       "      <td>-3.00</td>\n",
       "      <td>nan</td>\n",
       "      <td>2021-02-16 20:10:35</td>\n",
       "      <td>NaT</td>\n",
       "    </tr>\n",
       "    <tr>\n",
       "      <th>312</th>\n",
       "      <td>313</td>\n",
       "      <td>2021-02-05</td>\n",
       "      <td>Purchase</td>\n",
       "      <td>0.00</td>\n",
       "      <td>-3.00</td>\n",
       "      <td>305.00</td>\n",
       "      <td>2021-02-16 20:10:35</td>\n",
       "      <td>NaT</td>\n",
       "    </tr>\n",
       "    <tr>\n",
       "      <th>313</th>\n",
       "      <td>314</td>\n",
       "      <td>2021-02-05</td>\n",
       "      <td>Purchase</td>\n",
       "      <td>-1.00</td>\n",
       "      <td>-4.00</td>\n",
       "      <td>306.00</td>\n",
       "      <td>2021-02-16 20:10:35</td>\n",
       "      <td>NaT</td>\n",
       "    </tr>\n",
       "    <tr>\n",
       "      <th>314</th>\n",
       "      <td>315</td>\n",
       "      <td>2021-02-05</td>\n",
       "      <td>Purchase</td>\n",
       "      <td>-1.00</td>\n",
       "      <td>-5.00</td>\n",
       "      <td>307.00</td>\n",
       "      <td>2021-02-16 20:10:35</td>\n",
       "      <td>NaT</td>\n",
       "    </tr>\n",
       "    <tr>\n",
       "      <th>315</th>\n",
       "      <td>316</td>\n",
       "      <td>2021-02-08</td>\n",
       "      <td>Addition</td>\n",
       "      <td>1.00</td>\n",
       "      <td>-4.00</td>\n",
       "      <td>nan</td>\n",
       "      <td>2021-02-16 20:10:35</td>\n",
       "      <td>NaT</td>\n",
       "    </tr>\n",
       "    <tr>\n",
       "      <th>316</th>\n",
       "      <td>317</td>\n",
       "      <td>2021-02-08</td>\n",
       "      <td>Purchase</td>\n",
       "      <td>-1.00</td>\n",
       "      <td>-5.00</td>\n",
       "      <td>308.00</td>\n",
       "      <td>2021-02-16 20:10:35</td>\n",
       "      <td>NaT</td>\n",
       "    </tr>\n",
       "  </tbody>\n",
       "</table>\n",
       "</div>"
      ],
      "text/plain": [
       "     credit_trx_id credit_trx_date credit_trx_type  credit_value  credit_saldo  record_id          created_at updated_at\n",
       "302            303      2021-01-15        Purchase         -1.00         -4.00     300.00 2021-02-16 20:10:35        NaT\n",
       "303            304      2021-01-19        Addition          1.00         -3.00        nan 2021-02-16 20:10:35        NaT\n",
       "304            305      2021-01-20        Purchase         -1.00         -4.00     301.00 2021-02-16 20:10:35        NaT\n",
       "305            306      2021-01-20        Purchase         -1.00         -5.00     302.00 2021-02-16 20:10:35        NaT\n",
       "306            307      2021-01-22          Remove          1.00         -4.00     127.00 2021-02-16 20:10:35        NaT\n",
       "307            308      2021-01-22          Remove          0.00         -4.00     123.00 2021-02-16 20:10:35        NaT\n",
       "308            309      2021-01-22          Remove          1.00         -3.00     121.00 2021-02-16 20:10:35        NaT\n",
       "309            310      2021-01-25        Purchase         -1.00         -4.00     303.00 2021-02-16 20:10:35        NaT\n",
       "310            311      2021-01-25        Purchase          0.00         -4.00     304.00 2021-02-16 20:10:35        NaT\n",
       "311            312      2021-01-29        Addition          1.00         -3.00        nan 2021-02-16 20:10:35        NaT\n",
       "312            313      2021-02-05        Purchase          0.00         -3.00     305.00 2021-02-16 20:10:35        NaT\n",
       "313            314      2021-02-05        Purchase         -1.00         -4.00     306.00 2021-02-16 20:10:35        NaT\n",
       "314            315      2021-02-05        Purchase         -1.00         -5.00     307.00 2021-02-16 20:10:35        NaT\n",
       "315            316      2021-02-08        Addition          1.00         -4.00        nan 2021-02-16 20:10:35        NaT\n",
       "316            317      2021-02-08        Purchase         -1.00         -5.00     308.00 2021-02-16 20:10:35        NaT"
      ]
     },
     "execution_count": 64,
     "metadata": {},
     "output_type": "execute_result"
    }
   ],
   "source": [
    "pd.read_sql(\"credit_trx\", engine).tail(15)"
   ]
  },
  {
   "cell_type": "markdown",
   "metadata": {},
   "source": [
    "## Bring Import Functions together"
   ]
  },
  {
   "cell_type": "code",
   "execution_count": 66,
   "metadata": {
    "ExecuteTime": {
     "end_time": "2021-02-16T20:33:49.583133Z",
     "start_time": "2021-02-16T20:33:49.440882Z"
    }
   },
   "outputs": [],
   "source": [
    "def _insert_record_data_with_sqlalchemy_orm(\n",
    "    session: sqlalchemy.orm.session.Session, \n",
    "    df:pd.DataFrame = record_data\n",
    "):\n",
    "    \"\"\"XXX\"\"\"\n",
    "    # Add bogus trx values\n",
    "    record_data[\"credit_value\"] = 0\n",
    "    record_data[\"trx_type\"] = \"Initial Load\"\n",
    "    \n",
    "    for x in df.to_dict(\"records\"):\n",
    "        db_functions.add_new_record(session, x)\n",
    "        \n",
    "\n",
    "def _truncate_credit_trx_table(\n",
    "    engine: sqlalchemy.engine.Engine,\n",
    "    table_class: sqlalchemy.ext.declarative.api.DeclarativeMeta = CreditTrx\n",
    "):\n",
    "    \"\"\"XXX\"\"\"\n",
    "    Base.metadata.drop_all(engine, tables=[table_class.__table__])\n",
    "    Base.metadata.create_all(engine, tables=[table_class.__table__])\n",
    "    \n",
    "\n",
    "def _insert_trx_data_with_sqlalchemy_core(\n",
    "    engine: sqlalchemy.engine.Engine,\n",
    "    df: pd.DataFrame = trx_data,\n",
    "    table_class: sqlalchemy.ext.declarative.api.DeclarativeMeta = CreditTrx\n",
    "):\n",
    "    \"\"\"XXX\"\"\"\n",
    "    engine.execute(\n",
    "        table_class.__table__.insert(),\n",
    "        [x for x in df.to_dict(\"records\")]\n",
    "    )\n"
   ]
  },
  {
   "cell_type": "code",
   "execution_count": 65,
   "metadata": {
    "ExecuteTime": {
     "end_time": "2021-02-16T20:33:33.128642Z",
     "start_time": "2021-02-16T20:33:32.970116Z"
    }
   },
   "outputs": [
    {
     "data": {
      "text/plain": [
       "sqlalchemy.ext.declarative.api.DeclarativeMeta"
      ]
     },
     "execution_count": 65,
     "metadata": {},
     "output_type": "execute_result"
    }
   ],
   "source": [
    "type(CreditTrx)"
   ]
  },
  {
   "cell_type": "code",
   "execution_count": 67,
   "metadata": {
    "ExecuteTime": {
     "end_time": "2021-02-16T20:36:27.847123Z",
     "start_time": "2021-02-16T20:36:27.682129Z"
    }
   },
   "outputs": [],
   "source": [
    "session.close()"
   ]
  },
  {
   "cell_type": "code",
   "execution_count": null,
   "metadata": {},
   "outputs": [],
   "source": []
  }
 ],
 "metadata": {
  "hide_input": false,
  "kernelspec": {
   "display_name": "Python 3",
   "language": "python",
   "name": "python3"
  },
  "language_info": {
   "codemirror_mode": {
    "name": "ipython",
    "version": 3
   },
   "file_extension": ".py",
   "mimetype": "text/x-python",
   "name": "python",
   "nbconvert_exporter": "python",
   "pygments_lexer": "ipython3",
   "version": "3.8.3"
  },
  "toc": {
   "base_numbering": 1,
   "nav_menu": {},
   "number_sections": true,
   "sideBar": true,
   "skip_h1_title": true,
   "title_cell": "Table of Contents",
   "title_sidebar": "Contents",
   "toc_cell": true,
   "toc_position": {
    "height": "calc(100% - 180px)",
    "left": "10px",
    "top": "150px",
    "width": "384px"
   },
   "toc_section_display": true,
   "toc_window_display": true
  }
 },
 "nbformat": 4,
 "nbformat_minor": 4
}
