{
 "cells": [
  {
   "cell_type": "markdown",
   "metadata": {
    "toc": true
   },
   "source": [
    "<h1>Table of Contents<span class=\"tocSkip\"></span></h1>\n",
    "<div class=\"toc\"><ul class=\"toc-item\"><li><span><a href=\"#Inititial-Record-Ingestion\" data-toc-modified-id=\"Inititial-Record-Ingestion-1\"><span class=\"toc-item-num\">1&nbsp;&nbsp;</span>Inititial Record Ingestion</a></span><ul class=\"toc-item\"><li><span><a href=\"#Connect-To-And-Re-Create-DB\" data-toc-modified-id=\"Connect-To-And-Re-Create-DB-1.1\"><span class=\"toc-item-num\">1.1&nbsp;&nbsp;</span>Connect To And Re-Create DB</a></span></li><li><span><a href=\"#Read-Back-Up-Files\" data-toc-modified-id=\"Read-Back-Up-Files-1.2\"><span class=\"toc-item-num\">1.2&nbsp;&nbsp;</span>Read Back-Up Files</a></span></li><li><span><a href=\"#Write-Records-To-DB\" data-toc-modified-id=\"Write-Records-To-DB-1.3\"><span class=\"toc-item-num\">1.3&nbsp;&nbsp;</span>Write Records To DB</a></span></li><li><span><a href=\"#Check-The-Results\" data-toc-modified-id=\"Check-The-Results-1.4\"><span class=\"toc-item-num\">1.4&nbsp;&nbsp;</span>Check The Results</a></span></li></ul></li><li><span><a href=\"#Initial-Credit-Addition\" data-toc-modified-id=\"Initial-Credit-Addition-2\"><span class=\"toc-item-num\">2&nbsp;&nbsp;</span>Initial Credit Addition</a></span></li></ul></div>"
   ]
  },
  {
   "cell_type": "code",
   "execution_count": 1,
   "metadata": {
    "ExecuteTime": {
     "end_time": "2021-02-16T16:48:04.696324Z",
     "start_time": "2021-02-16T16:48:02.909559Z"
    }
   },
   "outputs": [],
   "source": [
    "import configparser\n",
    "import datetime as dt\n",
    "import sys\n",
    "import collections\n",
    "from pathlib import Path\n",
    "from typing import Union, Optional, List, Tuple\n",
    "\n",
    "import codebook.EDA as EDA\n",
    "import codebook.clean as clean\n",
    "import numpy as np\n",
    "import pandas as pd\n",
    "import matplotlib.pyplot as plt\n",
    "import seaborn as sns\n",
    "import sqlalchemy\n",
    "from sqlalchemy import func"
   ]
  },
  {
   "cell_type": "code",
   "execution_count": 2,
   "metadata": {
    "ExecuteTime": {
     "end_time": "2021-02-16T16:48:04.870404Z",
     "start_time": "2021-02-16T16:48:04.700325Z"
    }
   },
   "outputs": [],
   "source": [
    "%load_ext autoreload\n",
    "%autoreload 2\n",
    "\n",
    "%matplotlib inline\n",
    "plt.style.use('raph-base')\n",
    "\n",
    "from IPython.core.interactiveshell import InteractiveShell\n",
    "InteractiveShell.ast_node_interactivity = 'all'\n",
    "\n",
    "pd.options.display.float_format = '{:,.2f}'.format\n",
    "pd.set_option('display.max_columns', 30)\n",
    "pd.set_option('display.expand_frame_repr', False)\n",
    "pd.set_option('max_colwidth', 800)\n",
    "\n",
    "np.random.seed(666)"
   ]
  },
  {
   "cell_type": "code",
   "execution_count": 3,
   "metadata": {
    "ExecuteTime": {
     "end_time": "2021-02-16T16:48:05.217908Z",
     "start_time": "2021-02-16T16:48:04.873402Z"
    }
   },
   "outputs": [],
   "source": [
    "sys.path.append(str(Path.cwd().parent))\n",
    "\n",
    "from src.db_declaration2 import Base, Artist, CreditTrx, Genre, Label, Rating, Record\n",
    "from src import db_functions\n",
    "from src import db_connect"
   ]
  },
  {
   "cell_type": "code",
   "execution_count": 4,
   "metadata": {
    "ExecuteTime": {
     "end_time": "2021-02-16T16:48:05.417456Z",
     "start_time": "2021-02-16T16:48:05.222915Z"
    }
   },
   "outputs": [
    {
     "name": "stdout",
     "output_type": "stream",
     "text": [
      "C:\\Users\\r2d4\\miniconda3\\envs\\py3\\python.exe\n",
      "3.8.3 (default, May 19 2020, 06:50:17) [MSC v.1916 64 bit (AMD64)]\n",
      "sqlalchemy 1.3.17\n"
     ]
    }
   ],
   "source": [
    "print(sys.executable)\n",
    "print(sys.version)\n",
    "print(f'sqlalchemy {sqlalchemy.__version__}')"
   ]
  },
  {
   "cell_type": "markdown",
   "metadata": {
    "ExecuteTime": {
     "end_time": "2020-12-21T12:20:03.352983Z",
     "start_time": "2020-12-21T12:20:03.149529Z"
    }
   },
   "source": [
    "## Inititial Record Ingestion"
   ]
  },
  {
   "cell_type": "code",
   "execution_count": 5,
   "metadata": {
    "ExecuteTime": {
     "end_time": "2021-02-16T16:48:05.594457Z",
     "start_time": "2021-02-16T16:48:05.421456Z"
    }
   },
   "outputs": [],
   "source": [
    "CONFIG_PATH = Path.cwd().parent / \"config.yaml\""
   ]
  },
  {
   "cell_type": "markdown",
   "metadata": {
    "ExecuteTime": {
     "end_time": "2020-12-23T06:08:49.546499Z",
     "start_time": "2020-12-23T06:08:49.412497Z"
    }
   },
   "source": [
    "### Connect To And Re-Create DB"
   ]
  },
  {
   "cell_type": "markdown",
   "metadata": {},
   "source": [
    "<div class=\"alert alert-block alert-danger\">\n",
    "Attention This Will Delete All Entries In The DB!\n",
    "</div>"
   ]
  },
  {
   "cell_type": "code",
   "execution_count": 6,
   "metadata": {
    "ExecuteTime": {
     "end_time": "2021-02-16T16:48:05.836547Z",
     "start_time": "2021-02-16T16:48:05.598462Z"
    }
   },
   "outputs": [
    {
     "data": {
      "text/plain": [
       "Engine(sqlite:///C:\\Users\\r2d4\\OneDrive\\code\\projects\\20-02_disco\\db_aka_discobase\\DiscoBase2.db)"
      ]
     },
     "execution_count": 6,
     "metadata": {},
     "output_type": "execute_result"
    },
    {
     "data": {
      "text/plain": [
       "<sqlalchemy.orm.session.Session at 0x20979d37fd0>"
      ]
     },
     "execution_count": 6,
     "metadata": {},
     "output_type": "execute_result"
    }
   ],
   "source": [
    "prod_path = r\"sqlite:///C:\\Users\\r2d4\\OneDrive\\code\\projects\\20-02_disco\\db_aka_discobase\\DiscoBase2.db\"\n",
    "# dev_path = r\"sqlite:///C:\\Users\\r2d4\\OneDrive\\code\\projects\\20-02_disco\\dev\\DeafDiscoBase.db\"\n",
    "\n",
    "\n",
    "engine = sqlalchemy.create_engine(prod_path)\n",
    "session = db_connect.create_session(engine)\n",
    "\n",
    "# Check\n",
    "engine\n",
    "session"
   ]
  },
  {
   "cell_type": "code",
   "execution_count": 7,
   "metadata": {
    "ExecuteTime": {
     "end_time": "2021-02-16T16:48:06.016459Z",
     "start_time": "2021-02-16T16:48:05.840458Z"
    }
   },
   "outputs": [],
   "source": [
    "# Re-Create\n",
    "# db_functions.create_DB_anew(engine, Base)"
   ]
  },
  {
   "cell_type": "markdown",
   "metadata": {},
   "source": [
    "### Read Back-Up Files"
   ]
  },
  {
   "cell_type": "code",
   "execution_count": 8,
   "metadata": {
    "ExecuteTime": {
     "end_time": "2021-02-16T16:48:06.208455Z",
     "start_time": "2021-02-16T16:48:06.023460Z"
    }
   },
   "outputs": [],
   "source": [
    "def load_backup_data_from_parquet(\n",
    "    config_path: Union[Path, str], \n",
    "    record_data_name: Union[Path, str],\n",
    "    trx_data_name: Union[Path, str]\n",
    ") -> Tuple[pd.DataFrame, pd.DataFrame]:\n",
    "    \"\"\"Load the two back-up files with the record-related and \n",
    "    the credit_trx data into Pandas DataFrames.\n",
    "    \"\"\"\n",
    "    \n",
    "    back_up_params = db_connect.read_yaml(config_path, \"BACK_UP\")\n",
    "    rel_path = back_up_params[\"REL_PATH\"]\n",
    "    target_folder = Path.cwd().parent / rel_path  # TODO CHANGE FOR PROD\n",
    "    \n",
    "    df_list = []\n",
    "    for file in [record_data_name, trx_data_name]:\n",
    "        full_path = target_folder / file\n",
    "    \n",
    "        df = pd.read_parquet(full_path)\n",
    "        df_list.append(df)\n",
    "        \n",
    "    return df_list[0], df_list[1]"
   ]
  },
  {
   "cell_type": "code",
   "execution_count": 9,
   "metadata": {
    "ExecuteTime": {
     "end_time": "2021-02-16T16:48:06.461457Z",
     "start_time": "2021-02-16T16:48:06.213458Z"
    }
   },
   "outputs": [],
   "source": [
    "record_data, trx_data = load_backup_data_from_parquet(\n",
    "    CONFIG_PATH, \n",
    "    \"record_data_2021-02-14-15-58-43.parquet\",\n",
    "    \"trx_data_2021-02-14-15-58-44.parquet\"\n",
    ")"
   ]
  },
  {
   "cell_type": "code",
   "execution_count": 10,
   "metadata": {
    "ExecuteTime": {
     "end_time": "2021-02-16T16:48:06.641458Z",
     "start_time": "2021-02-16T16:48:06.463457Z"
    }
   },
   "outputs": [
    {
     "name": "stdout",
     "output_type": "stream",
     "text": [
      "<class 'pandas.core.frame.DataFrame'>\n",
      "Int64Index: 308 entries, 1 to 308\n",
      "Data columns (total 16 columns):\n",
      " #   Column          Non-Null Count  Dtype         \n",
      "---  ------          --------------  -----         \n",
      " 0   artist          308 non-null    object        \n",
      " 1   artist_country  13 non-null     object        \n",
      " 2   title           308 non-null    object        \n",
      " 3   genre           308 non-null    object        \n",
      " 4   label           308 non-null    object        \n",
      " 5   year            308 non-null    int64         \n",
      " 6   record_format   308 non-null    object        \n",
      " 7   vinyl_color     212 non-null    object        \n",
      " 8   lim_edition     222 non-null    object        \n",
      " 9   number          24 non-null     object        \n",
      " 10  remarks         78 non-null     object        \n",
      " 11  price           308 non-null    float64       \n",
      " 12  purchase_date   308 non-null    datetime64[ns]\n",
      " 13  rating          103 non-null    float64       \n",
      " 14  is_digitized    308 non-null    bool          \n",
      " 15  is_active       308 non-null    bool          \n",
      "dtypes: bool(2), datetime64[ns](1), float64(2), int64(1), object(10)\n",
      "memory usage: 36.7+ KB\n"
     ]
    },
    {
     "data": {
      "text/html": [
       "<div>\n",
       "<style scoped>\n",
       "    .dataframe tbody tr th:only-of-type {\n",
       "        vertical-align: middle;\n",
       "    }\n",
       "\n",
       "    .dataframe tbody tr th {\n",
       "        vertical-align: top;\n",
       "    }\n",
       "\n",
       "    .dataframe thead th {\n",
       "        text-align: right;\n",
       "    }\n",
       "</style>\n",
       "<table border=\"1\" class=\"dataframe\">\n",
       "  <thead>\n",
       "    <tr style=\"text-align: right;\">\n",
       "      <th></th>\n",
       "      <th>artist</th>\n",
       "      <th>artist_country</th>\n",
       "      <th>title</th>\n",
       "      <th>genre</th>\n",
       "      <th>label</th>\n",
       "      <th>year</th>\n",
       "      <th>record_format</th>\n",
       "      <th>vinyl_color</th>\n",
       "      <th>lim_edition</th>\n",
       "      <th>number</th>\n",
       "      <th>remarks</th>\n",
       "      <th>price</th>\n",
       "      <th>purchase_date</th>\n",
       "      <th>rating</th>\n",
       "      <th>is_digitized</th>\n",
       "      <th>is_active</th>\n",
       "    </tr>\n",
       "    <tr>\n",
       "      <th>record_id</th>\n",
       "      <th></th>\n",
       "      <th></th>\n",
       "      <th></th>\n",
       "      <th></th>\n",
       "      <th></th>\n",
       "      <th></th>\n",
       "      <th></th>\n",
       "      <th></th>\n",
       "      <th></th>\n",
       "      <th></th>\n",
       "      <th></th>\n",
       "      <th></th>\n",
       "      <th></th>\n",
       "      <th></th>\n",
       "      <th></th>\n",
       "      <th></th>\n",
       "    </tr>\n",
       "  </thead>\n",
       "  <tbody>\n",
       "    <tr>\n",
       "      <th>1</th>\n",
       "      <td>Dismember</td>\n",
       "      <td>None</td>\n",
       "      <td>Pieces</td>\n",
       "      <td>Death Metal</td>\n",
       "      <td>[NA]</td>\n",
       "      <td>1992</td>\n",
       "      <td>12\"</td>\n",
       "      <td>None</td>\n",
       "      <td>None</td>\n",
       "      <td>None</td>\n",
       "      <td>None</td>\n",
       "      <td>35.00</td>\n",
       "      <td>1992-01-01</td>\n",
       "      <td>nan</td>\n",
       "      <td>False</td>\n",
       "      <td>True</td>\n",
       "    </tr>\n",
       "    <tr>\n",
       "      <th>2</th>\n",
       "      <td>Dismember</td>\n",
       "      <td>None</td>\n",
       "      <td>Skin Her Alive</td>\n",
       "      <td>Death Metal</td>\n",
       "      <td>[NA]</td>\n",
       "      <td>1991</td>\n",
       "      <td>7\" Pic</td>\n",
       "      <td>None</td>\n",
       "      <td>None</td>\n",
       "      <td>None</td>\n",
       "      <td>None</td>\n",
       "      <td>15.00</td>\n",
       "      <td>1992-01-01</td>\n",
       "      <td>nan</td>\n",
       "      <td>False</td>\n",
       "      <td>True</td>\n",
       "    </tr>\n",
       "    <tr>\n",
       "      <th>3</th>\n",
       "      <td>Dismember</td>\n",
       "      <td>None</td>\n",
       "      <td>Like An Everflowing Stream</td>\n",
       "      <td>Death Metal</td>\n",
       "      <td>[NA]</td>\n",
       "      <td>1991</td>\n",
       "      <td>LP</td>\n",
       "      <td>None</td>\n",
       "      <td>None</td>\n",
       "      <td>None</td>\n",
       "      <td>None</td>\n",
       "      <td>155.00</td>\n",
       "      <td>1992-01-01</td>\n",
       "      <td>nan</td>\n",
       "      <td>False</td>\n",
       "      <td>True</td>\n",
       "    </tr>\n",
       "    <tr>\n",
       "      <th>4</th>\n",
       "      <td>Dismember</td>\n",
       "      <td>None</td>\n",
       "      <td>Where Ironcrosses Flow</td>\n",
       "      <td>Death Metal</td>\n",
       "      <td>[NA]</td>\n",
       "      <td>2004</td>\n",
       "      <td>LP</td>\n",
       "      <td>None</td>\n",
       "      <td>None</td>\n",
       "      <td>None</td>\n",
       "      <td>None</td>\n",
       "      <td>15.00</td>\n",
       "      <td>1992-01-01</td>\n",
       "      <td>nan</td>\n",
       "      <td>True</td>\n",
       "      <td>True</td>\n",
       "    </tr>\n",
       "    <tr>\n",
       "      <th>5</th>\n",
       "      <td>Merciless</td>\n",
       "      <td>None</td>\n",
       "      <td>The Awakening</td>\n",
       "      <td>Death Metal</td>\n",
       "      <td>[NA]</td>\n",
       "      <td>1989</td>\n",
       "      <td>LP</td>\n",
       "      <td>None</td>\n",
       "      <td>None</td>\n",
       "      <td>None</td>\n",
       "      <td>New, Wert geschätzt / 1. der beiden Originalpressungen auf DSP</td>\n",
       "      <td>250.00</td>\n",
       "      <td>1992-01-01</td>\n",
       "      <td>nan</td>\n",
       "      <td>True</td>\n",
       "      <td>True</td>\n",
       "    </tr>\n",
       "  </tbody>\n",
       "</table>\n",
       "</div>"
      ],
      "text/plain": [
       "              artist artist_country                       title        genre label  year record_format vinyl_color lim_edition number                                                         remarks  price purchase_date  rating  is_digitized  is_active\n",
       "record_id                                                                                                                                                                                                                                                  \n",
       "1          Dismember           None                      Pieces  Death Metal  [NA]  1992           12\"        None        None   None                                                            None  35.00    1992-01-01     nan         False       True\n",
       "2          Dismember           None              Skin Her Alive  Death Metal  [NA]  1991        7\" Pic        None        None   None                                                            None  15.00    1992-01-01     nan         False       True\n",
       "3          Dismember           None  Like An Everflowing Stream  Death Metal  [NA]  1991            LP        None        None   None                                                            None 155.00    1992-01-01     nan         False       True\n",
       "4          Dismember           None      Where Ironcrosses Flow  Death Metal  [NA]  2004            LP        None        None   None                                                            None  15.00    1992-01-01     nan          True       True\n",
       "5          Merciless           None               The Awakening  Death Metal  [NA]  1989            LP        None        None   None  New, Wert geschätzt / 1. der beiden Originalpressungen auf DSP 250.00    1992-01-01     nan          True       True"
      ]
     },
     "execution_count": 10,
     "metadata": {},
     "output_type": "execute_result"
    }
   ],
   "source": [
    "record_data.info()\n",
    "record_data.head()"
   ]
  },
  {
   "cell_type": "code",
   "execution_count": 11,
   "metadata": {
    "ExecuteTime": {
     "end_time": "2021-02-16T16:48:07.254457Z",
     "start_time": "2021-02-16T16:48:06.644458Z"
    }
   },
   "outputs": [
    {
     "data": {
      "text/html": [
       "<style  type=\"text/css\" >\n",
       "</style><table id=\"T_bead7c7c_7076_11eb_b633_60f67737a0fe\" ><thead>    <tr>        <th class=\"blank level0\" ></th>        <th class=\"col_heading level0 col0\" >total</th>        <th class=\"col_heading level0 col1\" >prop</th>        <th class=\"col_heading level0 col2\" >dtype</th>    </tr></thead><tbody>\n",
       "                <tr>\n",
       "                        <th id=\"T_bead7c7c_7076_11eb_b633_60f67737a0felevel0_row0\" class=\"row_heading level0 row0\" >artist_country</th>\n",
       "                        <td id=\"T_bead7c7c_7076_11eb_b633_60f67737a0ferow0_col0\" class=\"data row0 col0\" >295</td>\n",
       "                        <td id=\"T_bead7c7c_7076_11eb_b633_60f67737a0ferow0_col1\" class=\"data row0 col1\" >95.8%</td>\n",
       "                        <td id=\"T_bead7c7c_7076_11eb_b633_60f67737a0ferow0_col2\" class=\"data row0 col2\" >object</td>\n",
       "            </tr>\n",
       "            <tr>\n",
       "                        <th id=\"T_bead7c7c_7076_11eb_b633_60f67737a0felevel0_row1\" class=\"row_heading level0 row1\" >number</th>\n",
       "                        <td id=\"T_bead7c7c_7076_11eb_b633_60f67737a0ferow1_col0\" class=\"data row1 col0\" >284</td>\n",
       "                        <td id=\"T_bead7c7c_7076_11eb_b633_60f67737a0ferow1_col1\" class=\"data row1 col1\" >92.2%</td>\n",
       "                        <td id=\"T_bead7c7c_7076_11eb_b633_60f67737a0ferow1_col2\" class=\"data row1 col2\" >object</td>\n",
       "            </tr>\n",
       "            <tr>\n",
       "                        <th id=\"T_bead7c7c_7076_11eb_b633_60f67737a0felevel0_row2\" class=\"row_heading level0 row2\" >remarks</th>\n",
       "                        <td id=\"T_bead7c7c_7076_11eb_b633_60f67737a0ferow2_col0\" class=\"data row2 col0\" >230</td>\n",
       "                        <td id=\"T_bead7c7c_7076_11eb_b633_60f67737a0ferow2_col1\" class=\"data row2 col1\" >74.7%</td>\n",
       "                        <td id=\"T_bead7c7c_7076_11eb_b633_60f67737a0ferow2_col2\" class=\"data row2 col2\" >object</td>\n",
       "            </tr>\n",
       "            <tr>\n",
       "                        <th id=\"T_bead7c7c_7076_11eb_b633_60f67737a0felevel0_row3\" class=\"row_heading level0 row3\" >rating</th>\n",
       "                        <td id=\"T_bead7c7c_7076_11eb_b633_60f67737a0ferow3_col0\" class=\"data row3 col0\" >205</td>\n",
       "                        <td id=\"T_bead7c7c_7076_11eb_b633_60f67737a0ferow3_col1\" class=\"data row3 col1\" >66.6%</td>\n",
       "                        <td id=\"T_bead7c7c_7076_11eb_b633_60f67737a0ferow3_col2\" class=\"data row3 col2\" >float64</td>\n",
       "            </tr>\n",
       "            <tr>\n",
       "                        <th id=\"T_bead7c7c_7076_11eb_b633_60f67737a0felevel0_row4\" class=\"row_heading level0 row4\" >vinyl_color</th>\n",
       "                        <td id=\"T_bead7c7c_7076_11eb_b633_60f67737a0ferow4_col0\" class=\"data row4 col0\" >96</td>\n",
       "                        <td id=\"T_bead7c7c_7076_11eb_b633_60f67737a0ferow4_col1\" class=\"data row4 col1\" >31.2%</td>\n",
       "                        <td id=\"T_bead7c7c_7076_11eb_b633_60f67737a0ferow4_col2\" class=\"data row4 col2\" >object</td>\n",
       "            </tr>\n",
       "            <tr>\n",
       "                        <th id=\"T_bead7c7c_7076_11eb_b633_60f67737a0felevel0_row5\" class=\"row_heading level0 row5\" >lim_edition</th>\n",
       "                        <td id=\"T_bead7c7c_7076_11eb_b633_60f67737a0ferow5_col0\" class=\"data row5 col0\" >86</td>\n",
       "                        <td id=\"T_bead7c7c_7076_11eb_b633_60f67737a0ferow5_col1\" class=\"data row5 col1\" >27.9%</td>\n",
       "                        <td id=\"T_bead7c7c_7076_11eb_b633_60f67737a0ferow5_col2\" class=\"data row5 col2\" >object</td>\n",
       "            </tr>\n",
       "    </tbody></table>"
      ],
      "text/plain": [
       "<pandas.io.formats.style.Styler at 0x20979f6e610>"
      ]
     },
     "execution_count": 11,
     "metadata": {},
     "output_type": "execute_result"
    }
   ],
   "source": [
    "EDA.display_nan(record_data)"
   ]
  },
  {
   "cell_type": "code",
   "execution_count": 12,
   "metadata": {
    "ExecuteTime": {
     "end_time": "2021-02-16T16:48:07.408455Z",
     "start_time": "2021-02-16T16:48:07.257459Z"
    }
   },
   "outputs": [],
   "source": [
    "# splits_plus_one = record_data[record_data[\"artist\"].str.contains(\"/\")].index\n",
    "# splits_plus_one"
   ]
  },
  {
   "cell_type": "code",
   "execution_count": 13,
   "metadata": {
    "ExecuteTime": {
     "end_time": "2021-02-16T16:48:07.561456Z",
     "start_time": "2021-02-16T16:48:07.411459Z"
    }
   },
   "outputs": [],
   "source": [
    "# TEMPORARY: Bring Artists To List\n",
    "\n",
    "record_data[\"artist_country\"] = record_data[\"artist_country\"].fillna(\"NA\")\n",
    "\n",
    "def split_strings(x):\n",
    "    if isinstance(x, str):\n",
    "        x = x.split(\" / \")\n",
    "    return x\n",
    "\n",
    "record_data.loc[288, \"artist_country\"] = \"USA / Australia\"\n",
    "record_data[\"artist\"] = record_data[\"artist\"].apply(split_strings)\n",
    "record_data[\"artist_country\"] = record_data[\"artist_country\"].apply(split_strings)\n",
    "\n",
    "# record_data[record_data.index.isin(splits_plus_one)]"
   ]
  },
  {
   "cell_type": "code",
   "execution_count": 14,
   "metadata": {
    "ExecuteTime": {
     "end_time": "2021-02-16T16:48:07.714461Z",
     "start_time": "2021-02-16T16:48:07.563455Z"
    }
   },
   "outputs": [
    {
     "data": {
      "text/plain": [
       "{'artist': ['Dismember'],\n",
       " 'artist_country': ['NA'],\n",
       " 'title': 'Pieces',\n",
       " 'genre': 'Death Metal',\n",
       " 'label': array(['NA'], dtype=object),\n",
       " 'year': 1992,\n",
       " 'record_format': '12\"',\n",
       " 'vinyl_color': None,\n",
       " 'lim_edition': None,\n",
       " 'number': None,\n",
       " 'remarks': None,\n",
       " 'price': 35.0,\n",
       " 'purchase_date': Timestamp('1992-01-01 00:00:00'),\n",
       " 'rating': nan,\n",
       " 'is_digitized': False,\n",
       " 'is_active': True}"
      ]
     },
     "execution_count": 14,
     "metadata": {},
     "output_type": "execute_result"
    },
    {
     "data": {
      "text/plain": [
       "str"
      ]
     },
     "execution_count": 14,
     "metadata": {},
     "output_type": "execute_result"
    }
   ],
   "source": [
    "record_data.to_dict(\"records\")[0]\n",
    "type(record_data.iloc[0,0][0])"
   ]
  },
  {
   "cell_type": "markdown",
   "metadata": {},
   "source": [
    "**TEMPORARY TO DOS:**\n",
    "\n",
    "- fillna in Ratings col because it will generate an FK in the future"
   ]
  },
  {
   "cell_type": "code",
   "execution_count": 15,
   "metadata": {
    "ExecuteTime": {
     "end_time": "2021-02-16T16:48:07.860459Z",
     "start_time": "2021-02-16T16:48:07.717457Z"
    }
   },
   "outputs": [],
   "source": [
    "# todo"
   ]
  },
  {
   "cell_type": "code",
   "execution_count": 16,
   "metadata": {
    "ExecuteTime": {
     "end_time": "2021-02-16T16:48:08.014460Z",
     "start_time": "2021-02-16T16:48:07.862457Z"
    }
   },
   "outputs": [],
   "source": [
    "# SIMULATE A TRX\n",
    "\n",
    "record_data[\"credit_value\"] = 0\n",
    "record_data[\"trx_type\"] = \"Initial Load\""
   ]
  },
  {
   "cell_type": "markdown",
   "metadata": {
    "ExecuteTime": {
     "end_time": "2020-12-23T21:50:04.810370Z",
     "start_time": "2020-12-23T21:50:04.664351Z"
    }
   },
   "source": [
    "### Write Records To DB\n",
    "\n",
    "**TODO:** Can I apply()?"
   ]
  },
  {
   "cell_type": "code",
   "execution_count": 17,
   "metadata": {
    "ExecuteTime": {
     "end_time": "2021-02-16T16:48:08.168456Z",
     "start_time": "2021-02-16T16:48:08.016457Z"
    }
   },
   "outputs": [],
   "source": [
    "def insert_df_with_sqlalchemy_orm(session, df):\n",
    "    for x in df.to_dict(\"records\"):\n",
    "        db_functions.add_new_record(session, x)\n"
   ]
  },
  {
   "cell_type": "code",
   "execution_count": 18,
   "metadata": {
    "ExecuteTime": {
     "end_time": "2021-02-16T16:48:10.138002Z",
     "start_time": "2021-02-16T16:48:08.171457Z"
    },
    "scrolled": true
   },
   "outputs": [
    {
     "name": "stderr",
     "output_type": "stream",
     "text": [
      "C:\\Users\\r2d4\\miniconda3\\envs\\py3\\lib\\site-packages\\sqlalchemy\\sql\\sqltypes.py:660: SAWarning: Dialect sqlite+pysqlite does *not* support Decimal objects natively, and SQLAlchemy must convert from floating point - rounding errors and other issues may occur. Please consider storing Decimal numbers as strings or integers on this platform for lossless storage.\n",
      "  util.warn(\n"
     ]
    },
    {
     "name": "stdout",
     "output_type": "stream",
     "text": [
      "Record 'Pieces' by ['Dismember'] already exists, insert skipped.\n",
      "['Dismember']\n",
      "Record 'Skin Her Alive' by ['Dismember'] already exists, insert skipped.\n",
      "['Dismember']\n",
      "Record 'Like An Everflowing Stream' by ['Dismember'] already exists, insert skipped.\n",
      "['Dismember']\n",
      "Record 'Where Ironcrosses Flow' by ['Dismember'] already exists, insert skipped.\n",
      "['Dismember']\n",
      "Record 'The Awakening' by ['Merciless'] already exists, insert skipped.\n",
      "['Merciless']\n",
      "Record 'Ironbound' by ['Overkill'] already exists, insert skipped.\n",
      "['Overkill']\n",
      "Record 'The Years Of Decay' by ['Overkill'] already exists, insert skipped.\n",
      "['Overkill']\n",
      "Record 'Horrorscope' by ['Overkill'] already exists, insert skipped.\n",
      "['Overkill']\n",
      "Record 'Electric Age' by ['Overkill'] already exists, insert skipped.\n",
      "['Overkill']\n",
      "Record 'Live From Oz' by ['Overkill'] already exists, insert skipped.\n",
      "['Overkill']\n",
      "Record 'Uprising' by ['Entombed'] already exists, insert skipped.\n",
      "['Entombed']\n",
      "Record 'Morning Star' by ['Entombed'] already exists, insert skipped.\n",
      "['Entombed']\n",
      "Record 'Kill 'em All' by ['Metallica'] already exists, insert skipped.\n",
      "['Metallica']\n",
      "Record 'Arise' by ['Sepultura'] already exists, insert skipped.\n",
      "['Sepultura']\n",
      "Record 'Time Of Death' by ['Nervosa'] already exists, insert skipped.\n",
      "['Nervosa']\n",
      "Record 'At The Heart Of Winter' by ['Immortal'] already exists, insert skipped.\n",
      "['Immortal']\n",
      "Record 'End Of Disclosure' by ['Hypocrisy'] already exists, insert skipped.\n",
      "['Hypocrisy']\n",
      "Record 'All Shall Fall' by ['Immortal'] already exists, insert skipped.\n",
      "['Immortal']\n",
      "Record 'Too Drunk To Fuck' by ['Hypocrisy'] already exists, insert skipped.\n",
      "['Hypocrisy']\n",
      "Record 'Valley Of The Damned / Hordes Of War' by ['Hypocrisy', 'Immortal'] already exists, insert skipped.\n",
      "['Hypocrisy', 'Immortal']\n",
      "Record 'Human' by ['Death'] already exists, insert skipped.\n",
      "['Death']\n",
      "Record 'Individual Thought Patterns' by ['Death'] already exists, insert skipped.\n",
      "['Death']\n",
      "Record 'Wolverine Blues' by ['Entombed'] already exists, insert skipped.\n",
      "['Entombed']\n",
      "Record 'Fast Loud Death' by ['Lost Society'] already exists, insert skipped.\n",
      "['Lost Society']\n",
      "Record 'Indicent & Obscene' by ['Dismember'] already exists, insert skipped.\n",
      "['Dismember']\n",
      "Record 'Tales From The Twilight World' by ['Blind Guardian'] already exists, insert skipped.\n",
      "['Blind Guardian']\n",
      "Record 'Terror Hungry' by ['Lost Society'] already exists, insert skipped.\n",
      "['Lost Society']\n",
      "Record 'In The Nightside Eclipse' by ['Emperor'] already exists, insert skipped.\n",
      "['Emperor']\n",
      "Record 's/t' by ['Emperor'] already exists, insert skipped.\n",
      "['Emperor']\n",
      "Record 'Hordanes Land' by ['Enslaved'] already exists, insert skipped.\n",
      "['Enslaved']\n",
      "Record 'Scream Bloody Gore' by ['Death'] already exists, insert skipped.\n",
      "['Death']\n",
      "Record 'Spiritual Healing' by ['Death'] already exists, insert skipped.\n",
      "['Death']\n",
      "Record 'Eaten Back To Life' by ['Cannibal Corpse'] already exists, insert skipped.\n",
      "['Cannibal Corpse']\n",
      "Record 'Butchered At Birth' by ['Cannibal Corpse'] already exists, insert skipped.\n",
      "['Cannibal Corpse']\n",
      "Record 'Into The Grave' by ['Grave'] already exists, insert skipped.\n",
      "['Grave']\n",
      "Record 'Clandestine' by ['Entombed'] already exists, insert skipped.\n",
      "['Entombed']\n",
      "Record 'Cause Of Death' by ['Obituary'] already exists, insert skipped.\n",
      "['Obituary']\n",
      "Record 'Slowly We Rot' by ['Obituary'] already exists, insert skipped.\n",
      "['Obituary']\n",
      "Record 'The End Complete' by ['Obituary'] already exists, insert skipped.\n",
      "['Obituary']\n",
      "Record 'Left Hand Path' by ['Entombed'] already exists, insert skipped.\n",
      "['Entombed']\n",
      "Record 'Satanic Black Devotion' by ['Sargeist'] already exists, insert skipped.\n",
      "['Sargeist']\n",
      "Record 'Let The Devil In' by ['Sargeist'] already exists, insert skipped.\n",
      "['Sargeist']\n",
      "Record 'Exercises In Futility' by ['Mgla'] already exists, insert skipped.\n",
      "['Mgla']\n",
      "Record 'Yggdrasil' by ['Enslaved'] already exists, insert skipped.\n",
      "['Enslaved']\n",
      "Record 'Doedskvad' by ['Taake'] already exists, insert skipped.\n",
      "['Taake']\n",
      "Record 'Presence' by ['Mgla'] already exists, insert skipped.\n",
      "['Mgla']\n",
      "Record 'With Hearts Toward None' by ['Mgla'] already exists, insert skipped.\n",
      "['Mgla']\n",
      "Record 'Frost' by ['Enslaved'] already exists, insert skipped.\n",
      "['Enslaved']\n",
      "Record '… From The Pagan Vastlands' by ['Behemoth'] already exists, insert skipped.\n",
      "['Behemoth']\n",
      "Record 'Over Bjoergvin Graater Himmerik' by ['Taake'] already exists, insert skipped.\n",
      "['Taake']\n",
      "Record 'Groza' by ['Mgla'] already exists, insert skipped.\n",
      "['Mgla']\n",
      "Record 'Nattestid Ser Porten Vid' by ['Taake'] already exists, insert skipped.\n",
      "['Taake']\n",
      "Record 'Taake' by ['Taake'] already exists, insert skipped.\n",
      "['Taake']\n",
      "Record 'Leprosy' by ['Death'] already exists, insert skipped.\n",
      "['Death']\n",
      "Record 'Mdlosci / Further Down The Nest' by ['Mgla'] already exists, insert skipped.\n",
      "['Mgla']\n",
      "Record 'The Formulas Of Death' by ['Tribulation'] already exists, insert skipped.\n",
      "['Tribulation']\n",
      "Record 'The Children Of The Night' by ['Tribulation'] already exists, insert skipped.\n",
      "['Tribulation']\n",
      "Record 'Death … The Brutal Way' by ['Asphyx'] already exists, insert skipped.\n",
      "['Asphyx']\n",
      "Record 'The Red In The Sky Is Ours' by ['At The Gates'] already exists, insert skipped.\n",
      "['At The Gates']\n",
      "Record 'With Fear I Kiss The Burning Darkness' by ['At The Gates'] already exists, insert skipped.\n",
      "['At The Gates']\n",
      "Record 'Vampire' by ['Vampire'] already exists, insert skipped.\n",
      "['Vampire']\n",
      "Record 'Cimmerian Shade' by ['Vampire'] already exists, insert skipped.\n",
      "['Vampire']\n",
      "Record 'Evoked From Demonic Depths' by ['Evocation'] already exists, insert skipped.\n",
      "['Evocation']\n",
      "Record 'Slumber Of Sullen Eyes' by ['Demigod '] already exists, insert skipped.\n",
      "['Demigod ']\n",
      "Record 'Descend Into The Absurd' by ['Fleshcrawl'] already exists, insert skipped.\n",
      "['Fleshcrawl']\n",
      "Record 'Dark Waters Stir' by ['Isvind'] already exists, insert skipped.\n",
      "['Isvind']\n",
      "Record 'In The Embrace Of Evil' by ['Grotesque'] already exists, insert skipped.\n",
      "['Grotesque']\n",
      "Record 'Unorthodox' by ['Edge Of Sanity'] already exists, insert skipped.\n",
      "['Edge Of Sanity']\n",
      "Record 'Of Darkness …' by ['Therion'] already exists, insert skipped.\n",
      "['Therion']\n",
      "Record 'Inet Lever' by ['Isvind'] already exists, insert skipped.\n",
      "['Isvind']\n",
      "Record 'Snake Church' by ['Ringworm'] already exists, insert skipped.\n",
      "['Ringworm']\n",
      "Record 'My Empire' by ['Deserted Fear'] already exists, insert skipped.\n",
      "['Deserted Fear']\n",
      "Record 'Daumyra' by ['Isvind'] already exists, insert skipped.\n",
      "['Isvind']\n",
      "Record 'Kingdom Of Worms' by ['Deserted Fear'] already exists, insert skipped.\n",
      "['Deserted Fear']\n",
      "Record 'Killing Music' by ['Benediction'] already exists, insert skipped.\n",
      "['Benediction']\n",
      "Record 'Ensamhetens Andar' by ['Stilla'] already exists, insert skipped.\n",
      "['Stilla']\n",
      "Record 'Devoid Of Light' by ['Uada'] already exists, insert skipped.\n",
      "['Uada']\n",
      "Record 'The Promise' by ['Ringworm'] already exists, insert skipped.\n",
      "['Ringworm']\n",
      "Record 'Birth Is Pain' by ['Ringworm'] already exists, insert skipped.\n",
      "['Ringworm']\n",
      "Record 'The Venomous Grand Design' by ['Ringworm'] already exists, insert skipped.\n",
      "['Ringworm']\n",
      "Record 'Hammer Of The Witch' by ['Ringworm'] already exists, insert skipped.\n",
      "['Ringworm']\n",
      "Record 'Grudzień Za Grudniem' by ['Furia'] already exists, insert skipped.\n",
      "['Furia']\n",
      "Record 'Marzannie, Królowej Polski' by ['Furia'] already exists, insert skipped.\n",
      "['Furia']\n",
      "Record 'Nocel' by ['Furia'] already exists, insert skipped.\n",
      "['Furia']\n",
      "Record 'Dødssanger' by ['Djevel'] already exists, insert skipped.\n",
      "['Djevel']\n",
      "Record 'Saa raa og kald' by ['Djevel'] already exists, insert skipped.\n",
      "['Djevel']\n",
      "Record 'Norske Ritualer' by ['Djevel'] already exists, insert skipped.\n",
      "['Djevel']\n",
      "Record 'Mass Grave' by ['Hierophant'] already exists, insert skipped.\n",
      "['Hierophant']\n",
      "Record 'You, Me & Violence' by ['Birds In Row'] already exists, insert skipped.\n",
      "['Birds In Row']\n",
      "Record 'Til Avsky For Livet' by ['Liå'] already exists, insert skipped.\n",
      "['Liå']\n",
      "Record 'Desert Northern Hell' by ['Tsjuder'] already exists, insert skipped.\n",
      "['Tsjuder']\n",
      "Record 'Justice Replaced By Revenge' by ['Ringworm'] already exists, insert skipped.\n",
      "['Ringworm']\n",
      "Record 'Temple Of Phobos' by ['Vanhelgd'] already exists, insert skipped.\n",
      "['Vanhelgd']\n",
      "Record 'Legion Helvete' by ['Tsjuder'] already exists, insert skipped.\n",
      "['Tsjuder']\n",
      "Record 'Personal War' by ['Birds In Row'] already exists, insert skipped.\n",
      "['Birds In Row']\n",
      "Record 'V: The Devil's Fire' by ['Baptism'] already exists, insert skipped.\n",
      "['Baptism']\n",
      "Record 'Dead Shores Rising' by ['Deserted Fear'] already exists, insert skipped.\n",
      "['Deserted Fear']\n",
      "Record 'No Time To Waste' by ['No Turning Back'] already exists, insert skipped.\n",
      "['No Turning Back']\n",
      "Record 'Worlds Unknown' by ['Ays'] already exists, insert skipped.\n",
      "['Ays']\n",
      "Record 'Nightmares Made Flesh' by ['Bloodbath'] already exists, insert skipped.\n",
      "['Bloodbath']\n",
      "Record 'Love Don't Live Here' by ['Lionheart'] already exists, insert skipped.\n",
      "['Lionheart']\n",
      "Record 'Scars' by ['Ringworm'] already exists, insert skipped.\n",
      "['Ringworm']\n",
      "Record 'Rules' by ['First Blood'] already exists, insert skipped.\n",
      "['First Blood']\n",
      "Record 'Lowest Of The Low' by ['Terror'] already exists, insert skipped.\n",
      "['Terror']\n",
      "Record 'Deicide' by ['Deicide'] already exists, insert skipped.\n",
      "['Deicide']\n",
      "Record 'Raging Death' by ['Entrails'] already exists, insert skipped.\n",
      "['Entrails']\n",
      "Record 'For Kunsten Maa Vi Evig Vike' by ['Kvist'] already exists, insert skipped.\n",
      "['Kvist']\n",
      "Record 'Besatt Av Maane Og Natt' by ['Djevel'] already exists, insert skipped.\n",
      "['Djevel']\n",
      "Record 'The Dephts Of Inhumanity' by ['Fatalist'] already exists, insert skipped.\n",
      "['Fatalist']\n",
      "Record 'The Bitter End' by ['Fatalist'] already exists, insert skipped.\n",
      "['Fatalist']\n",
      "Record 'Consumed By Evil' by ['Morfin'] already exists, insert skipped.\n",
      "['Morfin']\n",
      "Record 'Thousand Mile Stare' by ['Incendiary'] already exists, insert skipped.\n",
      "['Incendiary']\n",
      "Record 'Minds Awake / Hearts Alive' by ['All For Nothing'] already exists, insert skipped.\n",
      "['All For Nothing']\n"
     ]
    },
    {
     "name": "stdout",
     "output_type": "stream",
     "text": [
      "Record 'Instinto Ruim' by ['Worst '] already exists, insert skipped.\n",
      "['Worst ']\n",
      "Record 'I'm Alone Even With You' by ['Rotten Mind'] already exists, insert skipped.\n",
      "['Rotten Mind']\n",
      "Record 'Los Primeros 7\"' by ['Suicidas '] already exists, insert skipped.\n",
      "['Suicidas ']\n",
      "Record 'Svartalvheim' by ['Ancient'] already exists, insert skipped.\n",
      "['Ancient']\n",
      "Record 'The Ten Commandments' by ['Malevolent Creation'] already exists, insert skipped.\n",
      "['Malevolent Creation']\n",
      "Record 'Legion' by ['Deicide'] already exists, insert skipped.\n",
      "['Deicide']\n",
      "Record 'Dawn Of Possession' by ['Immolation'] already exists, insert skipped.\n",
      "['Immolation']\n",
      "Record 'Köp Dig Lycklig' by ['Ursut'] already exists, insert skipped.\n",
      "['Ursut']\n",
      "Record 'Dårarnas Paradis' by ['Ursut'] already exists, insert skipped.\n",
      "['Ursut']\n",
      "Record 'Elddop' by ['Martyrdöd'] already exists, insert skipped.\n",
      "['Martyrdöd']\n",
      "Record 'Traits of The Past' by ['Agnosy'] already exists, insert skipped.\n",
      "['Agnosy']\n",
      "Record 'Past The Point Of No Return' by ['Agnosy'] already exists, insert skipped.\n",
      "['Agnosy']\n",
      "Record 'Grand Morbid Funeral' by ['Bloodbath'] already exists, insert skipped.\n",
      "['Bloodbath']\n",
      "Record 'List' by ['Martyrdöd'] already exists, insert skipped.\n",
      "['Martyrdöd']\n",
      "Record 'Die Knowing' by ['Comeback Kid'] already exists, insert skipped.\n",
      "['Comeback Kid']\n",
      "Record 'Divinity Of Purpose' by ['Hatebreed'] already exists, insert skipped.\n",
      "['Hatebreed']\n",
      "Record 'Redemption' by ['Vomitory'] already exists, insert skipped.\n",
      "['Vomitory']\n",
      "Record 'Raped In Their Own Blood' by ['Vomitory'] already exists, insert skipped.\n",
      "['Vomitory']\n",
      "Record 'Too Old To Die Young' by ['Spider Crew'] already exists, insert skipped.\n",
      "['Spider Crew']\n",
      "Record 'No Hope For The Kids' by ['No Hope For The Kids'] already exists, insert skipped.\n",
      "['No Hope For The Kids']\n",
      "Record 'The War Goes On' by ['The War Goes On'] already exists, insert skipped.\n",
      "['The War Goes On']\n",
      "Record 'Servants Of Chaos' by ['Blood Of Seklusion'] already exists, insert skipped.\n",
      "['Blood Of Seklusion']\n",
      "Record 'Pure Disgust' by ['Pure Disgust'] already exists, insert skipped.\n",
      "['Pure Disgust']\n",
      "Record 'New Wave Of British Hardcore' by ['Arms Race'] already exists, insert skipped.\n",
      "['Arms Race']\n",
      "Record 'Collection' by ['Rixe'] already exists, insert skipped.\n",
      "['Rixe']\n",
      "Record 'Con La Muerte A Tu Lado' by ['Generacion Suicida'] already exists, insert skipped.\n",
      "['Generacion Suicida']\n",
      "Record 'Todo Termina' by ['Generacion Suicida'] already exists, insert skipped.\n",
      "['Generacion Suicida']\n",
      "Record 'Sombras' by ['Generacion Suicida'] already exists, insert skipped.\n",
      "['Generacion Suicida']\n",
      "Record 'Easy Way Out' by ['PMS 84'] already exists, insert skipped.\n",
      "['PMS 84']\n",
      "Record 'Tyrant' by ['Tyrant'] already exists, insert skipped.\n",
      "['Tyrant']\n",
      "Record 'Heatwave' by ['Trapped Under Ice'] already exists, insert skipped.\n",
      "['Trapped Under Ice']\n",
      "Record 'Realigion' by ['Nasty'] already exists, insert skipped.\n",
      "['Nasty']\n",
      "Record 'Shokka' by ['Nasty'] already exists, insert skipped.\n",
      "['Nasty']\n",
      "Record 'Sounds Of Hatred' by ['Spider Crew'] already exists, insert skipped.\n",
      "['Spider Crew']\n",
      "Record 'Bad To My World' by ['Backtrack'] already exists, insert skipped.\n",
      "['Backtrack']\n",
      "Record 'Welcome To The Westcoast II' by ['Lionheart'] already exists, insert skipped.\n",
      "['Lionheart']\n",
      "Record 'Big Kiss Goodnight' by ['Trapped Under Ice'] already exists, insert skipped.\n",
      "['Trapped Under Ice']\n",
      "Record 'Secrets of The World' by ['Trapped Under Ice'] already exists, insert skipped.\n",
      "['Trapped Under Ice']\n",
      "Record 'Béton Nostalgie' by ['Syndrome 81'] already exists, insert skipped.\n",
      "['Syndrome 81']\n",
      "Record 'Radio Rebelde' by ['Baboon Show'] already exists, insert skipped.\n",
      "['Baboon Show']\n",
      "Record 'Addiction' by ['SS-Kaliert'] already exists, insert skipped.\n",
      "['SS-Kaliert']\n",
      "Record 'Cult Of The Goat' by ['Deathcult'] already exists, insert skipped.\n",
      "['Deathcult']\n",
      "Record 'Hatebreed' by ['Hatebreed'] already exists, insert skipped.\n",
      "['Hatebreed']\n",
      "Record 'Rise Of Brutality' by ['Hatebreed'] already exists, insert skipped.\n",
      "['Hatebreed']\n",
      "Record 'Look My Way' by ['Madball'] already exists, insert skipped.\n",
      "['Madball']\n",
      "Record 'Pretty Low' by ['Expire'] already exists, insert skipped.\n",
      "['Expire']\n",
      "Record 'With Regret' by ['Expire'] already exists, insert skipped.\n",
      "['Expire']\n",
      "Record 'Pain & Suffering' by ['Advent'] already exists, insert skipped.\n",
      "['Advent']\n",
      "Record 'Heaven's Too Good For Us ' by ['True Love'] already exists, insert skipped.\n",
      "['True Love']\n",
      "Record 'Never Asked For Heaven' by ['Bent Life'] already exists, insert skipped.\n",
      "['Bent Life']\n",
      "Record 'The End' by ['Desolated'] already exists, insert skipped.\n",
      "['Desolated']\n",
      "Record 'Radiation' by ['Turbo A.C.s'] already exists, insert skipped.\n",
      "['Turbo A.C.s']\n",
      "Record 'Pendulum Swings' by ['Expire'] already exists, insert skipped.\n",
      "['Expire']\n",
      "Record 'Verse Of Judas' by ['Desolated'] already exists, insert skipped.\n",
      "['Desolated']\n",
      "Record 'This Thing Of Ours' by ['The Setup'] already exists, insert skipped.\n",
      "['The Setup']\n",
      "Record 'Sea Of Misery' by ['Crowned Kings'] already exists, insert skipped.\n",
      "['Crowned Kings']\n",
      "Record 'Paycheck' by ['Harm/Shelter'] already exists, insert skipped.\n",
      "['Harm/Shelter']\n",
      "Record 'Tales From The Hood' by ['Neighbourhood Watch'] already exists, insert skipped.\n",
      "['Neighbourhood Watch']\n",
      "Record 'Silence Is Betrayal' by ['First Blood'] already exists, insert skipped.\n",
      "['First Blood']\n",
      "Record 'Crusade' by ['Incendiary'] already exists, insert skipped.\n",
      "['Incendiary']\n",
      "Record 'The Cost of Living' by ['Incendiary'] already exists, insert skipped.\n",
      "['Incendiary']\n",
      "Record 'Hanter Savet' by ['Vindland'] already exists, insert skipped.\n",
      "['Vindland']\n",
      "Record 'SOS' by ['Backswing'] already exists, insert skipped.\n",
      "['Backswing']\n",
      "Record 'Laugh Tracks' by ['Knocked Loose'] already exists, insert skipped.\n",
      "['Knocked Loose']\n",
      "Record 'For The Cause' by ['Madball'] already exists, insert skipped.\n",
      "['Madball']\n",
      "Record 'We Already Lost The World' by ['Birds In Row'] already exists, insert skipped.\n",
      "['Birds In Row']\n",
      "Record 'Every Generation' by ['Bonecrusher'] already exists, insert skipped.\n",
      "['Bonecrusher']\n",
      "Record 'Born to Deny' by ['Dying For It'] already exists, insert skipped.\n",
      "['Dying For It']\n",
      "Record 'Faith' by ['Spine'] already exists, insert skipped.\n",
      "['Spine']\n",
      "Record 'Short Days' by ['Short Days'] already exists, insert skipped.\n",
      "['Short Days']\n",
      "Record 'What Counts' by ['Have Heart'] already exists, insert skipped.\n",
      "['Have Heart']\n",
      "Record 'Songs To Scream At The Sun' by ['Have Heart'] already exists, insert skipped.\n",
      "['Have Heart']\n",
      "Record 'Perdu D'Avance' by ['Grabuge'] already exists, insert skipped.\n",
      "['Grabuge']\n",
      "Record 'Burnt Sugar' by ['Gouge Away'] already exists, insert skipped.\n",
      "['Gouge Away']\n",
      "Record 'Boulevard of Broken Bones' by ['Bonecrusher'] already exists, insert skipped.\n",
      "['Bonecrusher']\n",
      "Record 'Forward Into Darkness' by ['Weak Aside'] already exists, insert skipped.\n",
      "['Weak Aside']\n",
      "Record 'Global Resistance Rising' by ['Requiem'] already exists, insert skipped.\n",
      "['Requiem']\n",
      "Record 'Ascension' by ['Keitzer'] already exists, insert skipped.\n",
      "['Keitzer']\n",
      "Record 'To Cross The Line' by ['Decaying'] already exists, insert skipped.\n",
      "['Decaying']\n",
      "Record 'The Occult Mastery' by ['Lifeless'] already exists, insert skipped.\n",
      "['Lifeless']\n",
      "Record 'Procreation Of The Wretched' by ['Discreation'] already exists, insert skipped.\n",
      "['Discreation']\n",
      "Record 'Total Retaliation' by ['Terror'] already exists, insert skipped.\n",
      "['Terror']\n",
      "Record 'The Pact' by ['True Love'] already exists, insert skipped.\n",
      "['True Love']\n",
      "Record 'Ultra Razzia' by ['Ultra Razzia'] already exists, insert skipped.\n",
      "['Ultra Razzia']\n",
      "Record 'A Thousand Faces ' by ['Gonna Get Yours'] already exists, insert skipped.\n",
      "['Gonna Get Yours']\n",
      "Record 'Kronstadt' by ['Kronstadt'] already exists, insert skipped.\n",
      "['Kronstadt']\n",
      "Record 'LXV' by ['La Inquisicion'] already exists, insert skipped.\n",
      "['La Inquisicion']\n",
      "Record 'Beyond The Flesh' by ['Skeletal Remains'] already exists, insert skipped.\n",
      "['Skeletal Remains']\n",
      "Record 'Condemned To Misery' by ['Skeletal Remains'] already exists, insert skipped.\n",
      "['Skeletal Remains']\n",
      "Record 'Remnants …' by ['Rude'] already exists, insert skipped.\n",
      "['Rude']\n",
      "Record 'No Worlds … Nor Gods Beyond' by ['Insurgency'] already exists, insert skipped.\n",
      "['Insurgency']\n",
      "Record 'Savagery' by ['Skinless'] already exists, insert skipped.\n",
      "['Skinless']\n",
      "Record 'Devouring Mortality' by ['Skeletal Remains'] already exists, insert skipped.\n",
      "['Skeletal Remains']\n",
      "Record 'Impetus of Death' by ['Corpsessed'] already exists, insert skipped.\n",
      "['Corpsessed']\n",
      "Record 'Starspawn' by ['Blood Incantation'] already exists, insert skipped.\n",
      "['Blood Incantation']\n",
      "Record 'Blood Offerings' by ['Necrot'] already exists, insert skipped.\n",
      "['Necrot']\n",
      "Record 'Through Wilderness ' by ['Mortuous'] already exists, insert skipped.\n",
      "['Mortuous']\n",
      "Record 'Drowned By Humanity' by ['Deserted Fear'] already exists, insert skipped.\n",
      "['Deserted Fear']\n",
      "Record 'Primordial Malignity' by ['Tomb Mold'] already exists, insert skipped.\n",
      "['Tomb Mold']\n",
      "Record 'Twisted Prayers' by ['Gruesome'] already exists, insert skipped.\n",
      "['Gruesome']\n",
      "Record 'Things We Carry' by ['Have Heart'] already exists, insert skipped.\n",
      "['Have Heart']\n",
      "Record 'Coffin Birth' by ['Extremity'] already exists, insert skipped.\n",
      "['Extremity']\n",
      "Record 'Chapel Of Abhorrence ' by ['Carnation'] already exists, insert skipped.\n",
      "['Carnation']\n",
      "Record 'The Onset Of Eternal Darkness' by ['Climate Of Fear'] already exists, insert skipped.\n",
      "['Climate Of Fear']\n",
      "Record 'Damnatio Ad Bestias' by ['Imprecation'] already exists, insert skipped.\n",
      "['Imprecation']\n",
      "Record 'So Real, It's Now' by ['Deathgrave'] already exists, insert skipped.\n",
      "['Deathgrave']\n",
      "Record 'Death Velour' by ['Ghastly'] already exists, insert skipped.\n",
      "['Ghastly']\n",
      "Record 'Steeping Corporeal Mess' by ['Fetid'] already exists, insert skipped.\n",
      "['Fetid']\n",
      "Record 'To Whatever Fateful End' by ['Magnitude'] already exists, insert skipped.\n",
      "['Magnitude']\n",
      "Record 'Manor of Infinite Forms' by ['Tomb Mold'] already exists, insert skipped.\n",
      "['Tomb Mold']\n",
      "Record 'Torture' by ['Cannibal Corpse'] already exists, insert skipped.\n",
      "['Cannibal Corpse']\n",
      "Record 'Hollow of The Void' by ['Petrification'] already exists, insert skipped.\n",
      "['Petrification']\n",
      "Record 'Red Before Black' by ['Cannibal Corpse'] already exists, insert skipped.\n",
      "['Cannibal Corpse']\n",
      "Record 'Planetary Clairvoyance' by ['Tomb Mold'] already exists, insert skipped.\n",
      "['Tomb Mold']\n",
      "Record 'What On Earth Can We Do' by ['Abuse of Power'] already exists, insert skipped.\n",
      "['Abuse of Power']\n",
      "Record '9 Reasons Not To Live' by ['Buried Dreams'] already exists, insert skipped.\n",
      "['Buried Dreams']\n",
      "Record 'Tomb Of The Mutilated' by ['Cannibal Corpse'] already exists, insert skipped.\n",
      "['Cannibal Corpse']\n",
      "Record 'Obscene Majesty' by ['Devourment'] already exists, insert skipped.\n",
      "['Devourment']\n",
      "Record 'A Different Shade Of Blue' by ['Knocked Loose'] already exists, insert skipped.\n",
      "['Knocked Loose']\n",
      "Record 'The Gateway City Sound' by ['Time And Pressure'] already exists, insert skipped.\n",
      "['Time And Pressure']\n",
      "Record 'Buried Deep In A Bottomless Grave' by ['Witch Vomit'] already exists, insert skipped.\n",
      "['Witch Vomit']\n",
      "Record 'River Of Lies' by ['Guilt Trip'] already exists, insert skipped.\n",
      "['Guilt Trip']\n",
      "Record 'Beyond The Circular Demise' by ['Coffins'] already exists, insert skipped.\n",
      "['Coffins']\n"
     ]
    },
    {
     "name": "stdout",
     "output_type": "stream",
     "text": [
      "Record 'Cenotaph of Defectuous Creation' by ['Sempiternal Dusk'] already exists, insert skipped.\n",
      "['Sempiternal Dusk']\n",
      "Record 'Lost In Life' by ['Backtrack'] already exists, insert skipped.\n",
      "['Backtrack']\n",
      "Record 'The Wrong Way' by ['Rotting Out'] already exists, insert skipped.\n",
      "['Rotting Out']\n",
      "Record 'Upon The Throne of Apocalypse' by ['Incantation'] already exists, insert skipped.\n",
      "['Incantation']\n",
      "Record 'Odious Descent Into Decay' by ['Cerebral Rot'] already exists, insert skipped.\n",
      "['Cerebral Rot']\n",
      "Record 'Sonoran Depravation' by ['Gatecreeper'] already exists, insert skipped.\n",
      "['Gatecreeper']\n",
      "Record 'Tropical Sun' by ['Fulci'] already exists, insert skipped.\n",
      "['Fulci']\n",
      "Record 'From Wisdom To Baked' by ['Cannabis Corpse'] already exists, insert skipped.\n",
      "['Cannabis Corpse']\n",
      "Record 'Deserted' by ['Gatecreeper'] already exists, insert skipped.\n",
      "['Gatecreeper']\n",
      "Record 'Unhumanized' by ['Cianide'] already exists, insert skipped.\n",
      "['Cianide']\n",
      "Record 'Hidden History Of The Human Race' by ['Blood Incantation'] already exists, insert skipped.\n",
      "['Blood Incantation']\n",
      "Record 'Order of Torment' by ['Genocide Pact'] already exists, insert skipped.\n",
      "['Genocide Pact']\n",
      "Record 'Abiogenesis' by ['Burial Invocation'] already exists, insert skipped.\n",
      "['Burial Invocation']\n",
      "Record 'Nexus of Teeth' by ['Hyperdontia'] already exists, insert skipped.\n",
      "['Hyperdontia']\n",
      "Record 'Outcome Of Obnoxious Science' by ['Cryptic Brood'] already exists, insert skipped.\n",
      "['Cryptic Brood']\n",
      "Record 'Choir Of Babel' by ['Ruin Lust'] already exists, insert skipped.\n",
      "['Ruin Lust']\n",
      "Record 'Living Tomb' by ['Ossuarium'] already exists, insert skipped.\n",
      "['Ossuarium']\n",
      "Record 'Among The Lost' by ['Mortuous'] already exists, insert skipped.\n",
      "['Mortuous']\n",
      "Record 'Chapters Of Depravity' by ['Pestilent Death'] already exists, insert skipped.\n",
      "['Pestilent Death']\n",
      "Record 'Charnel Passages' by ['Cruciamentum'] already exists, insert skipped.\n",
      "['Cruciamentum']\n",
      "Record 'Forms Of Unreasoning Fear' by ['Mortal Wound'] already exists, insert skipped.\n",
      "['Mortal Wound']\n",
      "Record 'The Bleeding' by ['Cannibal Corpse'] already exists, insert skipped.\n",
      "['Cannibal Corpse']\n",
      "Record 'Retribution Of Jealous Gods' by ['Malignant Altar'] already exists, insert skipped.\n",
      "['Malignant Altar']\n",
      "Record 'Festering Excarnation' by ['Chaotian'] already exists, insert skipped.\n",
      "['Chaotian']\n",
      "Record 'Death Meditation' by ['Funeral Leech'] already exists, insert skipped.\n",
      "['Funeral Leech']\n",
      "Record 'Poisoned Blood' by ['Witch Vomit'] already exists, insert skipped.\n",
      "['Witch Vomit']\n",
      "Record 'Døden Læger Alle Sår' by ['Undergang'] already exists, insert skipped.\n",
      "['Undergang']\n",
      "Record 'Death Lust' by ['Living Gate'] already exists, insert skipped.\n",
      "['Living Gate']\n",
      "Record 'Reeking Gunk Of Abhorrence' by ['Cryptworm'] already exists, insert skipped.\n",
      "['Cryptworm']\n",
      "Record 'Desolate Endscape' by ['Prenelith'] already exists, insert skipped.\n",
      "['Prenelith']\n",
      "Record 'Division of Mind' by ['Division of Mind'] already exists, insert skipped.\n",
      "['Division of Mind']\n",
      "Record 'Swinging Swords, Choppin' Lords' by ['Mindforce'] already exists, insert skipped.\n",
      "['Mindforce']\n",
      "Record 'Excalibur' by ['Mindforce'] already exists, insert skipped.\n",
      "['Mindforce']\n",
      "Record 'Northeastern Deprivation' by ['Vomit Forth'] already exists, insert skipped.\n",
      "['Vomit Forth']\n",
      "Record 'Indhentet Af Døden' by ['Undergang'] already exists, insert skipped.\n",
      "['Undergang']\n",
      "Record 'Misantropologi' by ['Undergang'] already exists, insert skipped.\n",
      "['Undergang']\n",
      "Record 'Speciation' by ['Faceless Burial'] already exists, insert skipped.\n",
      "['Faceless Burial']\n",
      "Record 'Internal Incarceration' by ['Year of the Knife'] already exists, insert skipped.\n",
      "['Year of the Knife']\n",
      "Record 'Only Self' by ['Jesus Piece'] already exists, insert skipped.\n",
      "['Jesus Piece']\n",
      "Record 'War On Life' by ['Sanity Control'] already exists, insert skipped.\n",
      "['Sanity Control']\n",
      "Record 'Crossover Ministry' by ['Iron Reagan'] already exists, insert skipped.\n",
      "['Iron Reagan']\n",
      "Record 's/t' by ['Iron Reagan', 'Gatecreeper'] already exists, insert skipped.\n",
      "['Iron Reagan', 'Gatecreeper']\n",
      "Record 'Nightmare Logic' by ['Power Trip'] already exists, insert skipped.\n",
      "['Power Trip']\n",
      "Record 'Manifest Decimation' by ['Power Trip'] already exists, insert skipped.\n",
      "['Power Trip']\n",
      "Record 'No Blame … Just Facts' by ['Pain of Truth'] already exists, insert skipped.\n",
      "['Pain of Truth']\n",
      "Record 'The Entombment Of Chaos' by ['Skeletal Remains'] already exists, insert skipped.\n",
      "['Skeletal Remains']\n",
      "Record 'Mortal' by ['Necrot'] already exists, insert skipped.\n",
      "['Necrot']\n",
      "Record 'Realms Of Eternal Decay' by ['Outer Heaven'] already exists, insert skipped.\n",
      "['Outer Heaven']\n",
      "Record 'Grieving Birth' by ['Internal Rot'] already exists, insert skipped.\n",
      "['Internal Rot']\n",
      "Record 'Supreme Degradation' by ['Ossuary'] already exists, insert skipped.\n",
      "['Ossuary']\n",
      "Record 'Echoes of Terror ' by ['Disembowel'] already exists, insert skipped.\n",
      "['Disembowel']\n",
      "['Mortal Wound', 'Gutless']\n",
      "['End']\n",
      "['End']\n",
      "['Desolated']\n",
      "['Organic']\n",
      "['Ironed Out']\n",
      "['Frozen Soul']\n",
      "['Ratlord']\n",
      "['Xile']\n",
      "['Dead End Tragedy']\n",
      "['Desolated']\n",
      "['Queensway']\n",
      "['Sanguisugabogg']\n",
      "['Coffins', 'Depression']\n",
      "['Warp Chamber']\n",
      "['Celestial Sanctuary']\n",
      "['Fulci']\n",
      "['200 STAB WOUNDS']\n",
      "['Unurnment']\n",
      "['Infestment']\n",
      "['Heads For The Dead']\n"
     ]
    }
   ],
   "source": [
    "insert_df_with_sqlalchemy_orm(session, record_data)"
   ]
  },
  {
   "cell_type": "markdown",
   "metadata": {},
   "source": [
    "### Check The Results"
   ]
  },
  {
   "cell_type": "code",
   "execution_count": 20,
   "metadata": {
    "ExecuteTime": {
     "end_time": "2021-02-16T16:48:10.573005Z",
     "start_time": "2021-02-16T16:48:10.388002Z"
    }
   },
   "outputs": [
    {
     "data": {
      "text/plain": [
       "308"
      ]
     },
     "execution_count": 20,
     "metadata": {},
     "output_type": "execute_result"
    }
   ],
   "source": [
    "# Total Number Of Records In The DB\n",
    "session.query(Record).count()"
   ]
  },
  {
   "cell_type": "code",
   "execution_count": 21,
   "metadata": {
    "ExecuteTime": {
     "end_time": "2021-02-16T16:48:10.745000Z",
     "start_time": "2021-02-16T16:48:10.577003Z"
    }
   },
   "outputs": [
    {
     "data": {
      "text/plain": [
       "199"
      ]
     },
     "execution_count": 21,
     "metadata": {},
     "output_type": "execute_result"
    },
    {
     "data": {
      "text/plain": [
       "[<Artist(artist_id=195, artist_name=Celestial Sanctuary)>,\n",
       " <Artist(artist_id=196, artist_name=200 STAB WOUNDS)>,\n",
       " <Artist(artist_id=197, artist_name=Unurnment)>,\n",
       " <Artist(artist_id=198, artist_name=Infestment)>,\n",
       " <Artist(artist_id=199, artist_name=Heads For The Dead)>]"
      ]
     },
     "execution_count": 21,
     "metadata": {},
     "output_type": "execute_result"
    }
   ],
   "source": [
    "session.query(Artist).count()\n",
    "session.query(Artist).all()[-5:]"
   ]
  },
  {
   "cell_type": "code",
   "execution_count": 22,
   "metadata": {
    "ExecuteTime": {
     "end_time": "2021-02-16T16:48:10.922008Z",
     "start_time": "2021-02-16T16:48:10.748002Z"
    }
   },
   "outputs": [
    {
     "data": {
      "text/plain": [
       "9"
      ]
     },
     "execution_count": 22,
     "metadata": {},
     "output_type": "execute_result"
    },
    {
     "data": {
      "text/plain": [
       "[<Genre(genre_id=1, genre_name=Death Metal)>,\n",
       " <Genre(genre_id=2, genre_name=Thrash Metal)>,\n",
       " <Genre(genre_id=3, genre_name=Black Metal)>,\n",
       " <Genre(genre_id=4, genre_name=Speed Metal)>,\n",
       " <Genre(genre_id=5, genre_name=Hardcore)>,\n",
       " <Genre(genre_id=6, genre_name=Punk)>,\n",
       " <Genre(genre_id=7, genre_name=Crust)>,\n",
       " <Genre(genre_id=8, genre_name=Crossover)>,\n",
       " <Genre(genre_id=9, genre_name=Grindcore)>]"
      ]
     },
     "execution_count": 22,
     "metadata": {},
     "output_type": "execute_result"
    }
   ],
   "source": [
    "session.query(Genre).count()\n",
    "session.query(Genre).all()"
   ]
  },
  {
   "cell_type": "code",
   "execution_count": 30,
   "metadata": {
    "ExecuteTime": {
     "end_time": "2021-02-16T16:50:24.777148Z",
     "start_time": "2021-02-16T16:50:24.622149Z"
    }
   },
   "outputs": [
    {
     "data": {
      "text/plain": [
       "313"
      ]
     },
     "execution_count": 30,
     "metadata": {},
     "output_type": "execute_result"
    },
    {
     "data": {
      "text/plain": [
       "5.0"
      ]
     },
     "execution_count": 30,
     "metadata": {},
     "output_type": "execute_result"
    },
    {
     "data": {
      "text/plain": [
       "0.0"
      ]
     },
     "execution_count": 30,
     "metadata": {},
     "output_type": "execute_result"
    },
    {
     "data": {
      "text/plain": [
       "0.01597444089456869"
      ]
     },
     "execution_count": 30,
     "metadata": {},
     "output_type": "execute_result"
    }
   ],
   "source": [
    "session.query(CreditTrx).count()\n",
    "session.query(func.sum(CreditTrx.credit_value)).all()[0][0]\n",
    "session.query(func.min(CreditTrx.credit_value)).all()[0][0]\n",
    "session.query(func.avg(CreditTrx.credit_value)).all()[0][0]"
   ]
  },
  {
   "cell_type": "markdown",
   "metadata": {},
   "source": [
    "## Initial Credit Addition"
   ]
  },
  {
   "cell_type": "code",
   "execution_count": 24,
   "metadata": {
    "ExecuteTime": {
     "end_time": "2021-02-16T16:48:11.370000Z",
     "start_time": "2021-02-16T16:48:11.173006Z"
    }
   },
   "outputs": [],
   "source": [
    "# Add initial Addition trx, check the date an credit_saldo\n",
    "\n",
    "fake_trx = CreditTrx(\n",
    "    credit_trx_date=dt.datetime(year=2020, month=12, day=30),\n",
    "    credit_trx_type=\"Addition\",\n",
    "    credit_value=1,\n",
    "    credit_saldo=-1,\n",
    "    record_id=np.nan\n",
    ")\n",
    "session.add(fake_trx)"
   ]
  },
  {
   "cell_type": "code",
   "execution_count": 25,
   "metadata": {
    "ExecuteTime": {
     "end_time": "2021-02-16T16:48:11.598003Z",
     "start_time": "2021-02-16T16:48:11.373003Z"
    }
   },
   "outputs": [
    {
     "data": {
      "text/plain": [
       "[<CreditTrx(credit_trx_id=307, credit_trx_date=2021-02-05, credit_trx_type=Initial Load, credit_value=0.0, credit_saldo=0.0, record_id=307)>,\n",
       " <CreditTrx(credit_trx_id=308, credit_trx_date=2021-02-08, credit_trx_type=Initial Load, credit_value=0.0, credit_saldo=0.0, record_id=308)>,\n",
       " <CreditTrx(credit_trx_id=309, credit_trx_date=2020-12-30, credit_trx_type=Addition, credit_value=1.0, credit_saldo=-1.0, record_id=None)>]"
      ]
     },
     "execution_count": 25,
     "metadata": {},
     "output_type": "execute_result"
    }
   ],
   "source": [
    "# Check\n",
    "session.commit()\n",
    "session.query(CreditTrx).all()[-3:]"
   ]
  },
  {
   "cell_type": "code",
   "execution_count": 26,
   "metadata": {
    "ExecuteTime": {
     "end_time": "2021-02-16T16:48:11.892003Z",
     "start_time": "2021-02-16T16:48:11.602006Z"
    }
   },
   "outputs": [
    {
     "name": "stdout",
     "output_type": "stream",
     "text": [
      "Creating 'Addition' Trx for: 2021-01-09\n",
      "Creating 'Addition' Trx for: 2021-01-19\n",
      "Creating 'Addition' Trx for: 2021-01-29\n",
      "Creating 'Addition' Trx for: 2021-02-08\n"
     ]
    }
   ],
   "source": [
    "db_functions.add_regular_credits(session)"
   ]
  },
  {
   "cell_type": "code",
   "execution_count": 27,
   "metadata": {
    "ExecuteTime": {
     "end_time": "2021-02-16T16:48:12.048002Z",
     "start_time": "2021-02-16T16:48:11.896003Z"
    }
   },
   "outputs": [
    {
     "data": {
      "text/plain": [
       "[<CreditTrx(credit_trx_id=311, credit_trx_date=2021-01-19, credit_trx_type=Addition, credit_value=1.0, credit_saldo=1.0, record_id=None)>,\n",
       " <CreditTrx(credit_trx_id=312, credit_trx_date=2021-01-29, credit_trx_type=Addition, credit_value=1.0, credit_saldo=2.0, record_id=None)>,\n",
       " <CreditTrx(credit_trx_id=313, credit_trx_date=2021-02-08, credit_trx_type=Addition, credit_value=1.0, credit_saldo=3.0, record_id=None)>]"
      ]
     },
     "execution_count": 27,
     "metadata": {},
     "output_type": "execute_result"
    }
   ],
   "source": [
    "session.query(CreditTrx).all()[-3:]"
   ]
  },
  {
   "cell_type": "code",
   "execution_count": 28,
   "metadata": {
    "ExecuteTime": {
     "end_time": "2021-02-16T16:48:12.208001Z",
     "start_time": "2021-02-16T16:48:12.051005Z"
    }
   },
   "outputs": [],
   "source": [
    "# session.rollback()"
   ]
  },
  {
   "cell_type": "code",
   "execution_count": 29,
   "metadata": {
    "ExecuteTime": {
     "end_time": "2021-02-16T16:48:12.362999Z",
     "start_time": "2021-02-16T16:48:12.212001Z"
    }
   },
   "outputs": [],
   "source": [
    "session.close()"
   ]
  }
 ],
 "metadata": {
  "hide_input": false,
  "kernelspec": {
   "display_name": "Python 3",
   "language": "python",
   "name": "python3"
  },
  "language_info": {
   "codemirror_mode": {
    "name": "ipython",
    "version": 3
   },
   "file_extension": ".py",
   "mimetype": "text/x-python",
   "name": "python",
   "nbconvert_exporter": "python",
   "pygments_lexer": "ipython3",
   "version": "3.8.3"
  },
  "toc": {
   "base_numbering": 1,
   "nav_menu": {},
   "number_sections": true,
   "sideBar": true,
   "skip_h1_title": true,
   "title_cell": "Table of Contents",
   "title_sidebar": "Contents",
   "toc_cell": true,
   "toc_position": {
    "height": "calc(100% - 180px)",
    "left": "10px",
    "top": "150px",
    "width": "384px"
   },
   "toc_section_display": true,
   "toc_window_display": true
  }
 },
 "nbformat": 4,
 "nbformat_minor": 4
}
