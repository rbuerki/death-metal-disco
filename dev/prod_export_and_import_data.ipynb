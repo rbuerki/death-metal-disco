{
 "cells": [
  {
   "cell_type": "markdown",
   "metadata": {
    "toc": true
   },
   "source": [
    "<h1>Table of Contents<span class=\"tocSkip\"></span></h1>\n",
    "<div class=\"toc\"><ul class=\"toc-item\"><li><span><a href=\"#Inititial-Record-Ingestion\" data-toc-modified-id=\"Inititial-Record-Ingestion-1\"><span class=\"toc-item-num\">1&nbsp;&nbsp;</span>Inititial Record Ingestion</a></span><ul class=\"toc-item\"><li><span><a href=\"#Connect-To-And-Re-Create-DB\" data-toc-modified-id=\"Connect-To-And-Re-Create-DB-1.1\"><span class=\"toc-item-num\">1.1&nbsp;&nbsp;</span>Connect To And Re-Create DB</a></span></li><li><span><a href=\"#Read-Back-Up-Files\" data-toc-modified-id=\"Read-Back-Up-Files-1.2\"><span class=\"toc-item-num\">1.2&nbsp;&nbsp;</span>Read Back-Up Files</a></span></li><li><span><a href=\"#Write-Records-To-DB\" data-toc-modified-id=\"Write-Records-To-DB-1.3\"><span class=\"toc-item-num\">1.3&nbsp;&nbsp;</span>Write Records To DB</a></span></li><li><span><a href=\"#Check-The-Results\" data-toc-modified-id=\"Check-The-Results-1.4\"><span class=\"toc-item-num\">1.4&nbsp;&nbsp;</span>Check The Results</a></span></li></ul></li><li><span><a href=\"#Initial-Credit-Addition\" data-toc-modified-id=\"Initial-Credit-Addition-2\"><span class=\"toc-item-num\">2&nbsp;&nbsp;</span>Initial Credit Addition</a></span></li></ul></div>"
   ]
  },
  {
   "cell_type": "code",
   "execution_count": 1,
   "metadata": {
    "ExecuteTime": {
     "end_time": "2021-02-15T13:03:44.991195Z",
     "start_time": "2021-02-15T13:03:43.410740Z"
    }
   },
   "outputs": [],
   "source": [
    "import configparser\n",
    "import datetime as dt\n",
    "import sys\n",
    "import collections\n",
    "from pathlib import Path\n",
    "from typing import Union, Optional, List, Tuple\n",
    "\n",
    "import codebook.EDA as EDA\n",
    "import codebook.clean as clean\n",
    "import numpy as np\n",
    "import pandas as pd\n",
    "import matplotlib.pyplot as plt\n",
    "import seaborn as sns\n",
    "import sqlalchemy\n",
    "from sqlalchemy import func"
   ]
  },
  {
   "cell_type": "code",
   "execution_count": 2,
   "metadata": {
    "ExecuteTime": {
     "end_time": "2021-02-15T13:03:45.170398Z",
     "start_time": "2021-02-15T13:03:44.992682Z"
    }
   },
   "outputs": [],
   "source": [
    "%load_ext autoreload\n",
    "%autoreload 2\n",
    "\n",
    "%matplotlib inline\n",
    "plt.style.use('raph-base')\n",
    "\n",
    "from IPython.core.interactiveshell import InteractiveShell\n",
    "InteractiveShell.ast_node_interactivity = 'all'\n",
    "\n",
    "pd.options.display.float_format = '{:,.2f}'.format\n",
    "pd.set_option('display.max_columns', 30)\n",
    "pd.set_option('display.expand_frame_repr', False)\n",
    "pd.set_option('max_colwidth', 800)\n",
    "\n",
    "np.random.seed(666)"
   ]
  },
  {
   "cell_type": "code",
   "execution_count": 3,
   "metadata": {
    "ExecuteTime": {
     "end_time": "2021-02-15T13:03:45.483489Z",
     "start_time": "2021-02-15T13:03:45.174399Z"
    }
   },
   "outputs": [],
   "source": [
    "sys.path.append(str(Path.cwd().parent))\n",
    "\n",
    "from src.db_declaration2 import Base, Artist, CreditTrx, Genre, Label, Rating, Record\n",
    "from src import db_functions\n",
    "from src import db_connect"
   ]
  },
  {
   "cell_type": "code",
   "execution_count": 4,
   "metadata": {
    "ExecuteTime": {
     "end_time": "2021-02-15T13:03:45.632491Z",
     "start_time": "2021-02-15T13:03:45.486492Z"
    }
   },
   "outputs": [
    {
     "name": "stdout",
     "output_type": "stream",
     "text": [
      "C:\\Users\\r2d4\\miniconda3\\envs\\py3\\python.exe\n",
      "3.8.3 (default, May 19 2020, 06:50:17) [MSC v.1916 64 bit (AMD64)]\n",
      "sqlalchemy 1.3.17\n"
     ]
    }
   ],
   "source": [
    "print(sys.executable)\n",
    "print(sys.version)\n",
    "print(f'sqlalchemy {sqlalchemy.__version__}')"
   ]
  },
  {
   "cell_type": "markdown",
   "metadata": {
    "ExecuteTime": {
     "end_time": "2020-12-21T12:20:03.352983Z",
     "start_time": "2020-12-21T12:20:03.149529Z"
    }
   },
   "source": [
    "## Inititial Record Ingestion"
   ]
  },
  {
   "cell_type": "code",
   "execution_count": 13,
   "metadata": {
    "ExecuteTime": {
     "end_time": "2021-02-15T13:20:16.396208Z",
     "start_time": "2021-02-15T13:20:16.260004Z"
    }
   },
   "outputs": [],
   "source": [
    "CONFIG_PATH = Path.cwd().parent / \"config.yaml\""
   ]
  },
  {
   "cell_type": "markdown",
   "metadata": {
    "ExecuteTime": {
     "end_time": "2020-12-23T06:08:49.546499Z",
     "start_time": "2020-12-23T06:08:49.412497Z"
    }
   },
   "source": [
    "### Connect To And Re-Create DB"
   ]
  },
  {
   "cell_type": "markdown",
   "metadata": {},
   "source": [
    "<div class=\"alert alert-block alert-danger\">\n",
    "Attention This Will Delete All Entries In The DB!\n",
    "</div>"
   ]
  },
  {
   "cell_type": "code",
   "execution_count": 6,
   "metadata": {
    "ExecuteTime": {
     "end_time": "2021-02-15T13:03:45.954492Z",
     "start_time": "2021-02-15T13:03:45.748490Z"
    }
   },
   "outputs": [
    {
     "data": {
      "text/plain": [
       "Engine(sqlite:///C:\\Users\\r2d4\\OneDrive\\code\\projects\\20-02_disco\\db_aka_discobase\\DiscoBase2.db)"
      ]
     },
     "execution_count": 6,
     "metadata": {},
     "output_type": "execute_result"
    },
    {
     "data": {
      "text/plain": [
       "<sqlalchemy.orm.session.Session at 0x223108c6f40>"
      ]
     },
     "execution_count": 6,
     "metadata": {},
     "output_type": "execute_result"
    }
   ],
   "source": [
    "prod_path = r\"sqlite:///C:\\Users\\r2d4\\OneDrive\\code\\projects\\20-02_disco\\db_aka_discobase\\DiscoBase2.db\"\n",
    "\n",
    "\n",
    "engine = sqlalchemy.create_engine(prod_path)\n",
    "session = db_connect.create_session(engine)\n",
    "\n",
    "# Check\n",
    "engine\n",
    "session"
   ]
  },
  {
   "cell_type": "code",
   "execution_count": 7,
   "metadata": {
    "ExecuteTime": {
     "end_time": "2021-02-15T13:03:46.109488Z",
     "start_time": "2021-02-15T13:03:45.958490Z"
    }
   },
   "outputs": [],
   "source": [
    "# Re-Create\n",
    "# utils.create_DB_anew(engine, Base)"
   ]
  },
  {
   "cell_type": "markdown",
   "metadata": {},
   "source": [
    "### Read Back-Up Files"
   ]
  },
  {
   "cell_type": "code",
   "execution_count": 54,
   "metadata": {
    "ExecuteTime": {
     "end_time": "2021-02-15T13:53:25.849663Z",
     "start_time": "2021-02-15T13:53:25.703078Z"
    }
   },
   "outputs": [],
   "source": [
    "def load_backup_data_from_parquet(\n",
    "    config_path: Union[Path, str], \n",
    "    record_data_name: Union[Path, str],\n",
    "    trx_data_name: Union[Path, str]\n",
    ") -> Tuple[pd.DataFrame, pd.DataFrame]:\n",
    "    \"\"\"Load the two back-up files with the record-related and \n",
    "    the credit_trx data into Pandas DataFrames.\n",
    "    \"\"\"\n",
    "    \n",
    "    back_up_params = db_connect.read_yaml(config_path, \"BACK_UP\")\n",
    "    rel_path = back_up_params[\"REL_PATH\"]\n",
    "    target_folder = Path.cwd().parent / rel_path  # TODO CHANGE FOR PROD\n",
    "    \n",
    "    df_list = []\n",
    "    for file in [record_data_name, trx_data_name]:\n",
    "        full_path = target_folder / file\n",
    "    \n",
    "        df = pd.read_parquet(full_path)\n",
    "        df_list.append(df)\n",
    "        \n",
    "    return df_list[0], df_list[1]"
   ]
  },
  {
   "cell_type": "code",
   "execution_count": 66,
   "metadata": {
    "ExecuteTime": {
     "end_time": "2021-02-15T13:59:33.229429Z",
     "start_time": "2021-02-15T13:59:33.084284Z"
    }
   },
   "outputs": [],
   "source": [
    "record_data, trx_data = load_backup_data_from_parquet(\n",
    "    CONFIG_PATH, \n",
    "    \"record_data_2021-02-14-15-58-43.parquet\",\n",
    "    \"trx_data_2021-02-14-15-58-44.parquet\"\n",
    ")"
   ]
  },
  {
   "cell_type": "code",
   "execution_count": 67,
   "metadata": {
    "ExecuteTime": {
     "end_time": "2021-02-15T13:59:33.971193Z",
     "start_time": "2021-02-15T13:59:33.823016Z"
    }
   },
   "outputs": [
    {
     "name": "stdout",
     "output_type": "stream",
     "text": [
      "<class 'pandas.core.frame.DataFrame'>\n",
      "Int64Index: 308 entries, 1 to 308\n",
      "Data columns (total 16 columns):\n",
      " #   Column          Non-Null Count  Dtype         \n",
      "---  ------          --------------  -----         \n",
      " 0   artist          308 non-null    object        \n",
      " 1   artist_country  13 non-null     object        \n",
      " 2   title           308 non-null    object        \n",
      " 3   genre           308 non-null    object        \n",
      " 4   label           308 non-null    object        \n",
      " 5   year            308 non-null    int64         \n",
      " 6   record_format   308 non-null    object        \n",
      " 7   vinyl_color     212 non-null    object        \n",
      " 8   lim_edition     222 non-null    object        \n",
      " 9   number          24 non-null     object        \n",
      " 10  remarks         78 non-null     object        \n",
      " 11  price           308 non-null    float64       \n",
      " 12  purchase_date   308 non-null    datetime64[ns]\n",
      " 13  rating          103 non-null    float64       \n",
      " 14  is_digitized    308 non-null    bool          \n",
      " 15  is_active       308 non-null    bool          \n",
      "dtypes: bool(2), datetime64[ns](1), float64(2), int64(1), object(10)\n",
      "memory usage: 36.7+ KB\n"
     ]
    },
    {
     "data": {
      "text/html": [
       "<div>\n",
       "<style scoped>\n",
       "    .dataframe tbody tr th:only-of-type {\n",
       "        vertical-align: middle;\n",
       "    }\n",
       "\n",
       "    .dataframe tbody tr th {\n",
       "        vertical-align: top;\n",
       "    }\n",
       "\n",
       "    .dataframe thead th {\n",
       "        text-align: right;\n",
       "    }\n",
       "</style>\n",
       "<table border=\"1\" class=\"dataframe\">\n",
       "  <thead>\n",
       "    <tr style=\"text-align: right;\">\n",
       "      <th></th>\n",
       "      <th>artist</th>\n",
       "      <th>artist_country</th>\n",
       "      <th>title</th>\n",
       "      <th>genre</th>\n",
       "      <th>label</th>\n",
       "      <th>year</th>\n",
       "      <th>record_format</th>\n",
       "      <th>vinyl_color</th>\n",
       "      <th>lim_edition</th>\n",
       "      <th>number</th>\n",
       "      <th>remarks</th>\n",
       "      <th>price</th>\n",
       "      <th>purchase_date</th>\n",
       "      <th>rating</th>\n",
       "      <th>is_digitized</th>\n",
       "      <th>is_active</th>\n",
       "    </tr>\n",
       "    <tr>\n",
       "      <th>record_id</th>\n",
       "      <th></th>\n",
       "      <th></th>\n",
       "      <th></th>\n",
       "      <th></th>\n",
       "      <th></th>\n",
       "      <th></th>\n",
       "      <th></th>\n",
       "      <th></th>\n",
       "      <th></th>\n",
       "      <th></th>\n",
       "      <th></th>\n",
       "      <th></th>\n",
       "      <th></th>\n",
       "      <th></th>\n",
       "      <th></th>\n",
       "      <th></th>\n",
       "    </tr>\n",
       "  </thead>\n",
       "  <tbody>\n",
       "    <tr>\n",
       "      <th>1</th>\n",
       "      <td>Dismember</td>\n",
       "      <td>None</td>\n",
       "      <td>Pieces</td>\n",
       "      <td>Death Metal</td>\n",
       "      <td>[NA]</td>\n",
       "      <td>1992</td>\n",
       "      <td>12\"</td>\n",
       "      <td>None</td>\n",
       "      <td>None</td>\n",
       "      <td>None</td>\n",
       "      <td>None</td>\n",
       "      <td>35.00</td>\n",
       "      <td>1992-01-01</td>\n",
       "      <td>nan</td>\n",
       "      <td>False</td>\n",
       "      <td>True</td>\n",
       "    </tr>\n",
       "    <tr>\n",
       "      <th>2</th>\n",
       "      <td>Dismember</td>\n",
       "      <td>None</td>\n",
       "      <td>Skin Her Alive</td>\n",
       "      <td>Death Metal</td>\n",
       "      <td>[NA]</td>\n",
       "      <td>1991</td>\n",
       "      <td>7\" Pic</td>\n",
       "      <td>None</td>\n",
       "      <td>None</td>\n",
       "      <td>None</td>\n",
       "      <td>None</td>\n",
       "      <td>15.00</td>\n",
       "      <td>1992-01-01</td>\n",
       "      <td>nan</td>\n",
       "      <td>False</td>\n",
       "      <td>True</td>\n",
       "    </tr>\n",
       "    <tr>\n",
       "      <th>3</th>\n",
       "      <td>Dismember</td>\n",
       "      <td>None</td>\n",
       "      <td>Like An Everflowing Stream</td>\n",
       "      <td>Death Metal</td>\n",
       "      <td>[NA]</td>\n",
       "      <td>1991</td>\n",
       "      <td>LP</td>\n",
       "      <td>None</td>\n",
       "      <td>None</td>\n",
       "      <td>None</td>\n",
       "      <td>None</td>\n",
       "      <td>155.00</td>\n",
       "      <td>1992-01-01</td>\n",
       "      <td>nan</td>\n",
       "      <td>False</td>\n",
       "      <td>True</td>\n",
       "    </tr>\n",
       "    <tr>\n",
       "      <th>4</th>\n",
       "      <td>Dismember</td>\n",
       "      <td>None</td>\n",
       "      <td>Where Ironcrosses Flow</td>\n",
       "      <td>Death Metal</td>\n",
       "      <td>[NA]</td>\n",
       "      <td>2004</td>\n",
       "      <td>LP</td>\n",
       "      <td>None</td>\n",
       "      <td>None</td>\n",
       "      <td>None</td>\n",
       "      <td>None</td>\n",
       "      <td>15.00</td>\n",
       "      <td>1992-01-01</td>\n",
       "      <td>nan</td>\n",
       "      <td>True</td>\n",
       "      <td>True</td>\n",
       "    </tr>\n",
       "    <tr>\n",
       "      <th>5</th>\n",
       "      <td>Merciless</td>\n",
       "      <td>None</td>\n",
       "      <td>The Awakening</td>\n",
       "      <td>Death Metal</td>\n",
       "      <td>[NA]</td>\n",
       "      <td>1989</td>\n",
       "      <td>LP</td>\n",
       "      <td>None</td>\n",
       "      <td>None</td>\n",
       "      <td>None</td>\n",
       "      <td>New, Wert geschätzt / 1. der beiden Originalpressungen auf DSP</td>\n",
       "      <td>250.00</td>\n",
       "      <td>1992-01-01</td>\n",
       "      <td>nan</td>\n",
       "      <td>True</td>\n",
       "      <td>True</td>\n",
       "    </tr>\n",
       "  </tbody>\n",
       "</table>\n",
       "</div>"
      ],
      "text/plain": [
       "              artist artist_country                       title        genre label  year record_format vinyl_color lim_edition number                                                         remarks  price purchase_date  rating  is_digitized  is_active\n",
       "record_id                                                                                                                                                                                                                                                  \n",
       "1          Dismember           None                      Pieces  Death Metal  [NA]  1992           12\"        None        None   None                                                            None  35.00    1992-01-01     nan         False       True\n",
       "2          Dismember           None              Skin Her Alive  Death Metal  [NA]  1991        7\" Pic        None        None   None                                                            None  15.00    1992-01-01     nan         False       True\n",
       "3          Dismember           None  Like An Everflowing Stream  Death Metal  [NA]  1991            LP        None        None   None                                                            None 155.00    1992-01-01     nan         False       True\n",
       "4          Dismember           None      Where Ironcrosses Flow  Death Metal  [NA]  2004            LP        None        None   None                                                            None  15.00    1992-01-01     nan          True       True\n",
       "5          Merciless           None               The Awakening  Death Metal  [NA]  1989            LP        None        None   None  New, Wert geschätzt / 1. der beiden Originalpressungen auf DSP 250.00    1992-01-01     nan          True       True"
      ]
     },
     "execution_count": 67,
     "metadata": {},
     "output_type": "execute_result"
    }
   ],
   "source": [
    "record_data.info()\n",
    "record_data.head()"
   ]
  },
  {
   "cell_type": "code",
   "execution_count": 68,
   "metadata": {
    "ExecuteTime": {
     "end_time": "2021-02-15T13:59:37.192524Z",
     "start_time": "2021-02-15T13:59:37.019071Z"
    }
   },
   "outputs": [
    {
     "data": {
      "text/html": [
       "<style  type=\"text/css\" >\n",
       "</style><table id=\"T_0a32c0a9_6f96_11eb_bb23_60f67737a0fe\" ><thead>    <tr>        <th class=\"blank level0\" ></th>        <th class=\"col_heading level0 col0\" >total</th>        <th class=\"col_heading level0 col1\" >prop</th>        <th class=\"col_heading level0 col2\" >dtype</th>    </tr></thead><tbody>\n",
       "                <tr>\n",
       "                        <th id=\"T_0a32c0a9_6f96_11eb_bb23_60f67737a0felevel0_row0\" class=\"row_heading level0 row0\" >artist_country</th>\n",
       "                        <td id=\"T_0a32c0a9_6f96_11eb_bb23_60f67737a0ferow0_col0\" class=\"data row0 col0\" >295</td>\n",
       "                        <td id=\"T_0a32c0a9_6f96_11eb_bb23_60f67737a0ferow0_col1\" class=\"data row0 col1\" >95.8%</td>\n",
       "                        <td id=\"T_0a32c0a9_6f96_11eb_bb23_60f67737a0ferow0_col2\" class=\"data row0 col2\" >object</td>\n",
       "            </tr>\n",
       "            <tr>\n",
       "                        <th id=\"T_0a32c0a9_6f96_11eb_bb23_60f67737a0felevel0_row1\" class=\"row_heading level0 row1\" >number</th>\n",
       "                        <td id=\"T_0a32c0a9_6f96_11eb_bb23_60f67737a0ferow1_col0\" class=\"data row1 col0\" >284</td>\n",
       "                        <td id=\"T_0a32c0a9_6f96_11eb_bb23_60f67737a0ferow1_col1\" class=\"data row1 col1\" >92.2%</td>\n",
       "                        <td id=\"T_0a32c0a9_6f96_11eb_bb23_60f67737a0ferow1_col2\" class=\"data row1 col2\" >object</td>\n",
       "            </tr>\n",
       "            <tr>\n",
       "                        <th id=\"T_0a32c0a9_6f96_11eb_bb23_60f67737a0felevel0_row2\" class=\"row_heading level0 row2\" >remarks</th>\n",
       "                        <td id=\"T_0a32c0a9_6f96_11eb_bb23_60f67737a0ferow2_col0\" class=\"data row2 col0\" >230</td>\n",
       "                        <td id=\"T_0a32c0a9_6f96_11eb_bb23_60f67737a0ferow2_col1\" class=\"data row2 col1\" >74.7%</td>\n",
       "                        <td id=\"T_0a32c0a9_6f96_11eb_bb23_60f67737a0ferow2_col2\" class=\"data row2 col2\" >object</td>\n",
       "            </tr>\n",
       "            <tr>\n",
       "                        <th id=\"T_0a32c0a9_6f96_11eb_bb23_60f67737a0felevel0_row3\" class=\"row_heading level0 row3\" >rating</th>\n",
       "                        <td id=\"T_0a32c0a9_6f96_11eb_bb23_60f67737a0ferow3_col0\" class=\"data row3 col0\" >205</td>\n",
       "                        <td id=\"T_0a32c0a9_6f96_11eb_bb23_60f67737a0ferow3_col1\" class=\"data row3 col1\" >66.6%</td>\n",
       "                        <td id=\"T_0a32c0a9_6f96_11eb_bb23_60f67737a0ferow3_col2\" class=\"data row3 col2\" >float64</td>\n",
       "            </tr>\n",
       "            <tr>\n",
       "                        <th id=\"T_0a32c0a9_6f96_11eb_bb23_60f67737a0felevel0_row4\" class=\"row_heading level0 row4\" >vinyl_color</th>\n",
       "                        <td id=\"T_0a32c0a9_6f96_11eb_bb23_60f67737a0ferow4_col0\" class=\"data row4 col0\" >96</td>\n",
       "                        <td id=\"T_0a32c0a9_6f96_11eb_bb23_60f67737a0ferow4_col1\" class=\"data row4 col1\" >31.2%</td>\n",
       "                        <td id=\"T_0a32c0a9_6f96_11eb_bb23_60f67737a0ferow4_col2\" class=\"data row4 col2\" >object</td>\n",
       "            </tr>\n",
       "            <tr>\n",
       "                        <th id=\"T_0a32c0a9_6f96_11eb_bb23_60f67737a0felevel0_row5\" class=\"row_heading level0 row5\" >lim_edition</th>\n",
       "                        <td id=\"T_0a32c0a9_6f96_11eb_bb23_60f67737a0ferow5_col0\" class=\"data row5 col0\" >86</td>\n",
       "                        <td id=\"T_0a32c0a9_6f96_11eb_bb23_60f67737a0ferow5_col1\" class=\"data row5 col1\" >27.9%</td>\n",
       "                        <td id=\"T_0a32c0a9_6f96_11eb_bb23_60f67737a0ferow5_col2\" class=\"data row5 col2\" >object</td>\n",
       "            </tr>\n",
       "    </tbody></table>"
      ],
      "text/plain": [
       "<pandas.io.formats.style.Styler at 0x22311028a60>"
      ]
     },
     "execution_count": 68,
     "metadata": {},
     "output_type": "execute_result"
    }
   ],
   "source": [
    "EDA.display_nan(record_data)"
   ]
  },
  {
   "cell_type": "code",
   "execution_count": 69,
   "metadata": {
    "ExecuteTime": {
     "end_time": "2021-02-15T13:59:38.135676Z",
     "start_time": "2021-02-15T13:59:37.987440Z"
    }
   },
   "outputs": [
    {
     "data": {
      "text/plain": [
       "Int64Index([20, 170, 278, 288, 301], dtype='int64', name='record_id')"
      ]
     },
     "execution_count": 69,
     "metadata": {},
     "output_type": "execute_result"
    }
   ],
   "source": [
    "# splits_plus_one = record_data[record_data[\"artist\"].str.contains(\"/\")].index\n",
    "# splits_plus_one"
   ]
  },
  {
   "cell_type": "code",
   "execution_count": 73,
   "metadata": {
    "ExecuteTime": {
     "end_time": "2021-02-15T14:00:26.601232Z",
     "start_time": "2021-02-15T14:00:26.429747Z"
    }
   },
   "outputs": [
    {
     "data": {
      "text/html": [
       "<div>\n",
       "<style scoped>\n",
       "    .dataframe tbody tr th:only-of-type {\n",
       "        vertical-align: middle;\n",
       "    }\n",
       "\n",
       "    .dataframe tbody tr th {\n",
       "        vertical-align: top;\n",
       "    }\n",
       "\n",
       "    .dataframe thead th {\n",
       "        text-align: right;\n",
       "    }\n",
       "</style>\n",
       "<table border=\"1\" class=\"dataframe\">\n",
       "  <thead>\n",
       "    <tr style=\"text-align: right;\">\n",
       "      <th></th>\n",
       "      <th>artist</th>\n",
       "      <th>artist_country</th>\n",
       "      <th>title</th>\n",
       "      <th>genre</th>\n",
       "      <th>label</th>\n",
       "      <th>year</th>\n",
       "      <th>record_format</th>\n",
       "      <th>vinyl_color</th>\n",
       "      <th>lim_edition</th>\n",
       "      <th>number</th>\n",
       "      <th>remarks</th>\n",
       "      <th>price</th>\n",
       "      <th>purchase_date</th>\n",
       "      <th>rating</th>\n",
       "      <th>is_digitized</th>\n",
       "      <th>is_active</th>\n",
       "    </tr>\n",
       "    <tr>\n",
       "      <th>record_id</th>\n",
       "      <th></th>\n",
       "      <th></th>\n",
       "      <th></th>\n",
       "      <th></th>\n",
       "      <th></th>\n",
       "      <th></th>\n",
       "      <th></th>\n",
       "      <th></th>\n",
       "      <th></th>\n",
       "      <th></th>\n",
       "      <th></th>\n",
       "      <th></th>\n",
       "      <th></th>\n",
       "      <th></th>\n",
       "      <th></th>\n",
       "      <th></th>\n",
       "    </tr>\n",
       "  </thead>\n",
       "  <tbody>\n",
       "    <tr>\n",
       "      <th>20</th>\n",
       "      <td>[Hypocrisy, Immortal]</td>\n",
       "      <td>None</td>\n",
       "      <td>Valley Of The Damned / Hordes Of War</td>\n",
       "      <td>Black Metal</td>\n",
       "      <td>[NA]</td>\n",
       "      <td>2009</td>\n",
       "      <td>7\" Pic</td>\n",
       "      <td>None</td>\n",
       "      <td>lim</td>\n",
       "      <td>None</td>\n",
       "      <td>None</td>\n",
       "      <td>25.00</td>\n",
       "      <td>2013-09-01</td>\n",
       "      <td>nan</td>\n",
       "      <td>False</td>\n",
       "      <td>True</td>\n",
       "    </tr>\n",
       "    <tr>\n",
       "      <th>170</th>\n",
       "      <td>[Harm/Shelter]</td>\n",
       "      <td>None</td>\n",
       "      <td>Paycheck</td>\n",
       "      <td>Hardcore</td>\n",
       "      <td>[NA]</td>\n",
       "      <td>2016</td>\n",
       "      <td>LP</td>\n",
       "      <td>clear-black marbled</td>\n",
       "      <td>150</td>\n",
       "      <td>None</td>\n",
       "      <td>None</td>\n",
       "      <td>15.00</td>\n",
       "      <td>2018-04-01</td>\n",
       "      <td>nan</td>\n",
       "      <td>False</td>\n",
       "      <td>True</td>\n",
       "    </tr>\n",
       "    <tr>\n",
       "      <th>278</th>\n",
       "      <td>[Iron Reagan, Gatecreeper]</td>\n",
       "      <td>None</td>\n",
       "      <td>s/t</td>\n",
       "      <td>Crossover</td>\n",
       "      <td>[Relapse Records]</td>\n",
       "      <td>2018</td>\n",
       "      <td>12\"</td>\n",
       "      <td>bone white / blood red merge with black splatter</td>\n",
       "      <td>100</td>\n",
       "      <td>None</td>\n",
       "      <td>None</td>\n",
       "      <td>45.00</td>\n",
       "      <td>2020-09-01</td>\n",
       "      <td>7.00</td>\n",
       "      <td>False</td>\n",
       "      <td>True</td>\n",
       "    </tr>\n",
       "    <tr>\n",
       "      <th>288</th>\n",
       "      <td>[Mortal Wound, Gutless]</td>\n",
       "      <td>None</td>\n",
       "      <td>s/t</td>\n",
       "      <td>Death Metal</td>\n",
       "      <td>[Me Saco Un Ojo Records]</td>\n",
       "      <td>2020</td>\n",
       "      <td>12\"</td>\n",
       "      <td>neon pink</td>\n",
       "      <td>None</td>\n",
       "      <td>None</td>\n",
       "      <td>None</td>\n",
       "      <td>15.00</td>\n",
       "      <td>2020-10-01</td>\n",
       "      <td>9.00</td>\n",
       "      <td>False</td>\n",
       "      <td>True</td>\n",
       "    </tr>\n",
       "    <tr>\n",
       "      <th>301</th>\n",
       "      <td>[Coffins, Depression]</td>\n",
       "      <td>[Japan, Germany]</td>\n",
       "      <td>Split</td>\n",
       "      <td>Death Metal</td>\n",
       "      <td>[Hells Headbangers]</td>\n",
       "      <td>2021</td>\n",
       "      <td>LP</td>\n",
       "      <td>white with black splatter</td>\n",
       "      <td>100</td>\n",
       "      <td>None</td>\n",
       "      <td>None</td>\n",
       "      <td>20.00</td>\n",
       "      <td>2021-01-20</td>\n",
       "      <td>nan</td>\n",
       "      <td>True</td>\n",
       "      <td>True</td>\n",
       "    </tr>\n",
       "  </tbody>\n",
       "</table>\n",
       "</div>"
      ],
      "text/plain": [
       "                               artist    artist_country                                 title        genre                     label  year record_format                                       vinyl_color lim_edition number remarks  price purchase_date  rating  is_digitized  is_active\n",
       "record_id                                                                                                                                                                                                                                                                                  \n",
       "20              [Hypocrisy, Immortal]              None  Valley Of The Damned / Hordes Of War  Black Metal                      [NA]  2009        7\" Pic                                              None         lim   None    None  25.00    2013-09-01     nan         False       True\n",
       "170                    [Harm/Shelter]              None                              Paycheck     Hardcore                      [NA]  2016            LP                               clear-black marbled         150   None    None  15.00    2018-04-01     nan         False       True\n",
       "278        [Iron Reagan, Gatecreeper]              None                                   s/t    Crossover         [Relapse Records]  2018           12\"  bone white / blood red merge with black splatter         100   None    None  45.00    2020-09-01    7.00         False       True\n",
       "288           [Mortal Wound, Gutless]              None                                   s/t  Death Metal  [Me Saco Un Ojo Records]  2020           12\"                                         neon pink        None   None    None  15.00    2020-10-01    9.00         False       True\n",
       "301             [Coffins, Depression]  [Japan, Germany]                                 Split  Death Metal       [Hells Headbangers]  2021            LP                         white with black splatter         100   None    None  20.00    2021-01-20     nan          True       True"
      ]
     },
     "execution_count": 73,
     "metadata": {},
     "output_type": "execute_result"
    }
   ],
   "source": [
    "# TEMPORARY: Bring Artists To List\n",
    "\n",
    "def split_strings(x):\n",
    "    if isinstance(x, str):\n",
    "        x = x.split(\" / \")\n",
    "    return x\n",
    "\n",
    "record_data[\"artist\"] = record_data[\"artist\"].apply(split_strings)\n",
    "record_data[\"artist_country\"] = record_data[\"artist_country\"].apply(split_strings)\n",
    "record_data[record_data.index.isin(splits_plus_one)]"
   ]
  },
  {
   "cell_type": "code",
   "execution_count": 74,
   "metadata": {
    "ExecuteTime": {
     "end_time": "2021-02-15T14:00:59.251474Z",
     "start_time": "2021-02-15T14:00:59.070264Z"
    }
   },
   "outputs": [
    {
     "ename": "TypeError",
     "evalue": "unhashable type: 'list'",
     "output_type": "error",
     "traceback": [
      "\u001b[1;31m---------------------------------------------------------------------------\u001b[0m",
      "\u001b[1;31mTypeError\u001b[0m                                 Traceback (most recent call last)",
      "\u001b[1;32mpandas\\_libs\\hashtable_class_helper.pxi\u001b[0m in \u001b[0;36mpandas._libs.hashtable.PyObjectHashTable.map_locations\u001b[1;34m()\u001b[0m\n",
      "\u001b[1;31mTypeError\u001b[0m: unhashable type: 'list'"
     ]
    },
    {
     "name": "stderr",
     "output_type": "stream",
     "text": [
      "Exception ignored in: 'pandas._libs.index.IndexEngine._call_map_locations'\n",
      "Traceback (most recent call last):\n",
      "  File \"pandas\\_libs\\hashtable_class_helper.pxi\", line 1709, in pandas._libs.hashtable.PyObjectHashTable.map_locations\n",
      "TypeError: unhashable type: 'list'\n"
     ]
    },
    {
     "data": {
      "text/plain": [
       "[USA]               6\n",
       "[Germany]           2\n",
       "[Canada]            1\n",
       "[Japan, Germany]    1\n",
       "[New Zealand]       1\n",
       "[International]     1\n",
       "[England]           1\n",
       "Name: artist_country, dtype: int64"
      ]
     },
     "execution_count": 74,
     "metadata": {},
     "output_type": "execute_result"
    }
   ],
   "source": [
    "record_data[\"artist_country\"].value_counts()"
   ]
  },
  {
   "cell_type": "markdown",
   "metadata": {},
   "source": [
    "**TEMPORARY TO DOS:**\n",
    "\n",
    "- fillna in Ratings col because it will generate an FK in the future"
   ]
  },
  {
   "cell_type": "markdown",
   "metadata": {
    "ExecuteTime": {
     "end_time": "2020-12-23T21:50:04.810370Z",
     "start_time": "2020-12-23T21:50:04.664351Z"
    }
   },
   "source": [
    "### Write Records To DB\n",
    "\n",
    "**TODO:** Can I apply()?"
   ]
  },
  {
   "cell_type": "code",
   "execution_count": null,
   "metadata": {
    "ExecuteTime": {
     "end_time": "2021-02-15T13:03:47.340533Z",
     "start_time": "2021-02-15T13:03:43.459Z"
    }
   },
   "outputs": [],
   "source": [
    "def insert_df_with_sqlalchemy_orm(session, df):\n",
    "    for x in df.to_dict(\"records\"):\n",
    "        db_functions.add_new_record2(session, x)"
   ]
  },
  {
   "cell_type": "code",
   "execution_count": null,
   "metadata": {
    "ExecuteTime": {
     "end_time": "2021-02-15T13:03:47.342532Z",
     "start_time": "2021-02-15T13:03:43.466Z"
    }
   },
   "outputs": [],
   "source": [
    "insert_df_with_sqlalchemy_orm(session, collection_df)"
   ]
  },
  {
   "cell_type": "markdown",
   "metadata": {},
   "source": [
    "### Check The Results"
   ]
  },
  {
   "cell_type": "code",
   "execution_count": null,
   "metadata": {
    "ExecuteTime": {
     "end_time": "2021-02-15T13:03:47.344532Z",
     "start_time": "2021-02-15T13:03:43.470Z"
    }
   },
   "outputs": [],
   "source": [
    "# Total Number Of Records In The DB\n",
    "session.query(Record).count()"
   ]
  },
  {
   "cell_type": "code",
   "execution_count": null,
   "metadata": {
    "ExecuteTime": {
     "end_time": "2021-02-15T13:03:47.346533Z",
     "start_time": "2021-02-15T13:03:43.473Z"
    }
   },
   "outputs": [],
   "source": [
    "session.query(Artist).count()\n",
    "session.query(Artist).all()[-5:]"
   ]
  },
  {
   "cell_type": "code",
   "execution_count": null,
   "metadata": {
    "ExecuteTime": {
     "end_time": "2021-02-15T13:03:47.348534Z",
     "start_time": "2021-02-15T13:03:43.476Z"
    }
   },
   "outputs": [],
   "source": [
    "session.query(Genre).count()\n",
    "session.query(Genre).all()"
   ]
  },
  {
   "cell_type": "code",
   "execution_count": null,
   "metadata": {
    "ExecuteTime": {
     "end_time": "2021-02-15T13:03:47.350532Z",
     "start_time": "2021-02-15T13:03:43.480Z"
    }
   },
   "outputs": [],
   "source": [
    "session.query(func.sum(CreditTrx.credit_value)).all()[0][0]\n",
    "session.query(func.min(CreditTrx.credit_value)).all()[0][0]\n",
    "session.query(func.avg(CreditTrx.credit_value)).all()[0][0]"
   ]
  },
  {
   "cell_type": "markdown",
   "metadata": {},
   "source": [
    "## Initial Credit Addition"
   ]
  },
  {
   "cell_type": "code",
   "execution_count": null,
   "metadata": {
    "ExecuteTime": {
     "end_time": "2021-02-15T13:03:47.352532Z",
     "start_time": "2021-02-15T13:03:43.486Z"
    }
   },
   "outputs": [],
   "source": [
    "# Add initial Addition trx, check the date an credit_saldo\n",
    "\n",
    "fake_trx = CreditTrx(\n",
    "    credit_trx_date=dt.datetime(year=2020, month=12, day=30),\n",
    "    credit_trx_type=\"Addition\",\n",
    "    credit_value=1,\n",
    "    credit_saldo=-1,\n",
    "    record_id=np.nan\n",
    ")\n",
    "session.add(fake_trx)"
   ]
  },
  {
   "cell_type": "code",
   "execution_count": null,
   "metadata": {
    "ExecuteTime": {
     "end_time": "2021-02-15T13:03:47.355546Z",
     "start_time": "2021-02-15T13:03:43.488Z"
    }
   },
   "outputs": [],
   "source": [
    "# Check\n",
    "session.commit()\n",
    "session.query(CreditTrx).all()[-3:]"
   ]
  },
  {
   "cell_type": "code",
   "execution_count": null,
   "metadata": {
    "ExecuteTime": {
     "end_time": "2021-02-15T13:03:47.358533Z",
     "start_time": "2021-02-15T13:03:43.492Z"
    }
   },
   "outputs": [],
   "source": [
    "db_functions.add_regular_credits(session)"
   ]
  },
  {
   "cell_type": "code",
   "execution_count": null,
   "metadata": {
    "ExecuteTime": {
     "end_time": "2021-02-15T13:03:47.360535Z",
     "start_time": "2021-02-15T13:03:43.496Z"
    }
   },
   "outputs": [],
   "source": [
    "session.query(CreditTrx).all()[-3:]"
   ]
  },
  {
   "cell_type": "code",
   "execution_count": null,
   "metadata": {
    "ExecuteTime": {
     "end_time": "2021-02-15T13:03:47.363537Z",
     "start_time": "2021-02-15T13:03:43.500Z"
    }
   },
   "outputs": [],
   "source": [
    "# session.rollback()"
   ]
  },
  {
   "cell_type": "code",
   "execution_count": null,
   "metadata": {
    "ExecuteTime": {
     "end_time": "2021-02-15T13:03:47.366532Z",
     "start_time": "2021-02-15T13:03:43.503Z"
    }
   },
   "outputs": [],
   "source": [
    "session.close()"
   ]
  }
 ],
 "metadata": {
  "hide_input": false,
  "kernelspec": {
   "display_name": "Python 3",
   "language": "python",
   "name": "python3"
  },
  "language_info": {
   "codemirror_mode": {
    "name": "ipython",
    "version": 3
   },
   "file_extension": ".py",
   "mimetype": "text/x-python",
   "name": "python",
   "nbconvert_exporter": "python",
   "pygments_lexer": "ipython3",
   "version": "3.8.3"
  },
  "toc": {
   "base_numbering": 1,
   "nav_menu": {},
   "number_sections": true,
   "sideBar": true,
   "skip_h1_title": true,
   "title_cell": "Table of Contents",
   "title_sidebar": "Contents",
   "toc_cell": true,
   "toc_position": {
    "height": "calc(100% - 180px)",
    "left": "10px",
    "top": "150px",
    "width": "384px"
   },
   "toc_section_display": true,
   "toc_window_display": true
  }
 },
 "nbformat": 4,
 "nbformat_minor": 4
}
