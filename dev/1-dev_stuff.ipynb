{
 "cells": [
  {
   "cell_type": "code",
   "execution_count": 1,
   "metadata": {
    "ExecuteTime": {
     "end_time": "2020-12-28T21:26:53.125091Z",
     "start_time": "2020-12-28T21:26:51.560367Z"
    }
   },
   "outputs": [],
   "source": [
    "import configparser\n",
    "import datetime as dt\n",
    "import sys\n",
    "import collections\n",
    "from pathlib import Path\n",
    "from typing import Union, Optional, List\n",
    "\n",
    "import codebook.EDA as EDA\n",
    "import codebook.clean as clean\n",
    "import numpy as np\n",
    "import pandas as pd\n",
    "import matplotlib.pyplot as plt\n",
    "import seaborn as sns\n",
    "import sqlalchemy"
   ]
  },
  {
   "cell_type": "code",
   "execution_count": 2,
   "metadata": {
    "ExecuteTime": {
     "end_time": "2020-12-28T21:26:53.281830Z",
     "start_time": "2020-12-28T21:26:53.125091Z"
    }
   },
   "outputs": [],
   "source": [
    "%load_ext autoreload\n",
    "%autoreload 2\n",
    "\n",
    "%matplotlib inline\n",
    "plt.style.use('raph-base')\n",
    "\n",
    "from IPython.core.interactiveshell import InteractiveShell\n",
    "InteractiveShell.ast_node_interactivity = 'all'\n",
    "\n",
    "pd.options.display.float_format = '{:,.2f}'.format\n",
    "pd.set_option('display.max_columns', 30)\n",
    "pd.set_option('display.expand_frame_repr', False)\n",
    "pd.set_option('max_colwidth', 800)\n",
    "\n",
    "np.random.seed(666)"
   ]
  },
  {
   "cell_type": "code",
   "execution_count": 3,
   "metadata": {
    "ExecuteTime": {
     "end_time": "2020-12-28T21:26:53.413834Z",
     "start_time": "2020-12-28T21:26:53.284836Z"
    }
   },
   "outputs": [
    {
     "data": {
      "text/plain": [
       "WindowsPath('C:/Users/r2d4/OneDrive/code/projects/20-02_disco/src')"
      ]
     },
     "execution_count": 3,
     "metadata": {},
     "output_type": "execute_result"
    }
   ],
   "source": [
    "Path.cwd().parent / 'src'"
   ]
  },
  {
   "cell_type": "code",
   "execution_count": 4,
   "metadata": {
    "ExecuteTime": {
     "end_time": "2020-12-28T21:26:53.661058Z",
     "start_time": "2020-12-28T21:26:53.417835Z"
    }
   },
   "outputs": [
    {
     "name": "stdout",
     "output_type": "stream",
     "text": [
      "<class 'sqlalchemy.ext.declarative.api.DeclarativeMeta'>\n"
     ]
    }
   ],
   "source": [
    "sys.path.append(str(Path.cwd().parent))\n",
    "\n",
    "from src.db_declaration import Base, Artist, CreditTrx, Genre, Label, Record\n",
    "from src import insert_record\n",
    "from src import utils"
   ]
  },
  {
   "cell_type": "code",
   "execution_count": 5,
   "metadata": {
    "ExecuteTime": {
     "end_time": "2020-12-28T21:26:53.808059Z",
     "start_time": "2020-12-28T21:26:53.664059Z"
    }
   },
   "outputs": [
    {
     "name": "stdout",
     "output_type": "stream",
     "text": [
      "C:\\Users\\r2d4\\miniconda3\\envs\\py3\\python.exe\n",
      "3.8.3 (default, May 19 2020, 06:50:17) [MSC v.1916 64 bit (AMD64)]\n",
      "sqlalchemy 1.3.17\n"
     ]
    }
   ],
   "source": [
    "print(sys.executable)\n",
    "print(sys.version)\n",
    "print(f'sqlalchemy {sqlalchemy.__version__}')"
   ]
  },
  {
   "cell_type": "markdown",
   "metadata": {
    "ExecuteTime": {
     "end_time": "2020-12-21T12:20:03.352983Z",
     "start_time": "2020-12-21T12:20:03.149529Z"
    }
   },
   "source": [
    "## Inititial Data Ingestion"
   ]
  },
  {
   "cell_type": "code",
   "execution_count": 6,
   "metadata": {
    "ExecuteTime": {
     "end_time": "2020-12-28T21:26:53.951057Z",
     "start_time": "2020-12-28T21:26:53.811059Z"
    }
   },
   "outputs": [],
   "source": [
    "CONFIG_PATH = Path.cwd().parent / \"config.cfg\""
   ]
  },
  {
   "cell_type": "markdown",
   "metadata": {
    "ExecuteTime": {
     "end_time": "2020-12-23T06:08:49.546499Z",
     "start_time": "2020-12-23T06:08:49.412497Z"
    }
   },
   "source": [
    "### Re-Create DB"
   ]
  },
  {
   "cell_type": "code",
   "execution_count": 7,
   "metadata": {
    "ExecuteTime": {
     "end_time": "2020-12-28T21:26:54.337059Z",
     "start_time": "2020-12-28T21:26:53.954057Z"
    }
   },
   "outputs": [
    {
     "name": "stdout",
     "output_type": "stream",
     "text": [
      "C:\\Users\\r2d4\\OneDrive\\code\\projects\\20-02_disco\\db_aka_discobase\\DiscoBase.db\n"
     ]
    }
   ],
   "source": [
    "path_to_db = utils.read_config_return_str(CONFIG_PATH, \"SQLITE\")\n",
    "engine = utils.create_engine(path_to_db)\n",
    "session = utils.create_session(engine)\n",
    "utils.create_DB_anew(engine, Base)"
   ]
  },
  {
   "cell_type": "markdown",
   "metadata": {},
   "source": [
    "### \"Bulk\" Load Data Into DB - NOT WORKING WITH TABLE RELATIONSHIPS\n",
    "\n",
    "This is a fast approach using sqlalchemy core language, the problem is it copies the data from a df into a table, but does not take care of the relationships - the foreign keys are not created.\n",
    "\n",
    "Btw: This is not the really fast bulk load with `conn.executemany()`, see [here](https://stackoverflow.com/a/32239587/13797028)."
   ]
  },
  {
   "cell_type": "code",
   "execution_count": 8,
   "metadata": {
    "ExecuteTime": {
     "end_time": "2020-12-28T21:26:54.673858Z",
     "start_time": "2020-12-28T21:26:54.342058Z"
    }
   },
   "outputs": [],
   "source": [
    "def load_albums_from_xlsx(\n",
    "    filepath: Union[Path, str], genres: Optional[List] = None\n",
    ") -> pd.DataFrame:\n",
    "    \"\"\"Load the original album collection file into a dataframe.\n",
    "    You can specify a list of genres you want to include\n",
    "    (defaults to None).\n",
    "    \"\"\"\n",
    "    df = pd.read_excel(filepath, engine=\"openpyxl\")\n",
    "    if genres:\n",
    "        df = df[df[\"Genre\"].isin(genres)]\n",
    "    return df"
   ]
  },
  {
   "cell_type": "markdown",
   "metadata": {},
   "source": [
    "**TODO:** see the cleaning, this has to be formalized in a function"
   ]
  },
  {
   "cell_type": "code",
   "execution_count": 9,
   "metadata": {
    "ExecuteTime": {
     "end_time": "2020-12-28T21:26:55.655048Z",
     "start_time": "2020-12-28T21:26:54.677379Z"
    }
   },
   "outputs": [],
   "source": [
    "path_to_collection = utils.read_config_return_str(CONFIG_PATH, \"COLLECTION\")\n",
    "collection_df = load_albums_from_xlsx(path_to_collection)\n",
    "collection_df = clean.prettify_column_names(collection_df)\n",
    "collection_df.dropna(thresh=8, inplace=True)\n",
    "# collection_df[\"purchase_date\"] = collection_df[\"purchase_date\"].dt.date.astype(str)\n",
    "# collection_df[\"number\"] = collection_df[\"number\"].astype(str)\n",
    "# collection_df[\"digitized\"] = collection_df[\"digitized\"].map({True: 1, False: 0}).astype(int)\n",
    "collection_df[\"label\"].fillna(\"NA\", inplace=True)  # because it creates a foreign key\n"
   ]
  },
  {
   "cell_type": "code",
   "execution_count": 10,
   "metadata": {
    "ExecuteTime": {
     "end_time": "2020-12-28T21:26:55.812960Z",
     "start_time": "2020-12-28T21:26:55.655048Z"
    }
   },
   "outputs": [
    {
     "data": {
      "text/plain": [
       "(293, 15)"
      ]
     },
     "execution_count": 10,
     "metadata": {},
     "output_type": "execute_result"
    },
    {
     "name": "stdout",
     "output_type": "stream",
     "text": [
      "<class 'pandas.core.frame.DataFrame'>\n",
      "Int64Index: 293 entries, 0 to 292\n",
      "Data columns (total 15 columns):\n",
      " #   Column         Non-Null Count  Dtype         \n",
      "---  ------         --------------  -----         \n",
      " 0   active         293 non-null    float64       \n",
      " 1   artist         293 non-null    object        \n",
      " 2   title          293 non-null    object        \n",
      " 3   format         293 non-null    object        \n",
      " 4   year           293 non-null    float64       \n",
      " 5   genre          293 non-null    object        \n",
      " 6   price          293 non-null    float64       \n",
      " 7   purchase_date  293 non-null    datetime64[ns]\n",
      " 8   vinyl_color    197 non-null    object        \n",
      " 9   lim_edition    207 non-null    object        \n",
      " 10  number         24 non-null     object        \n",
      " 11  label          293 non-null    object        \n",
      " 12  digitized      293 non-null    object        \n",
      " 13  remarks        72 non-null     object        \n",
      " 14  rating         101 non-null    float64       \n",
      "dtypes: datetime64[ns](1), float64(4), object(10)\n",
      "memory usage: 36.6+ KB\n"
     ]
    }
   ],
   "source": [
    "collection_df.shape\n",
    "collection_df.info()"
   ]
  },
  {
   "cell_type": "code",
   "execution_count": 11,
   "metadata": {
    "ExecuteTime": {
     "end_time": "2020-12-28T21:26:56.438961Z",
     "start_time": "2020-12-28T21:26:55.815963Z"
    }
   },
   "outputs": [
    {
     "data": {
      "text/html": [
       "<style  type=\"text/css\" >\n",
       "</style><table id=\"T_6962dd3c_4953_11eb_a457_60f67737a0fe\" ><thead>    <tr>        <th class=\"blank level0\" ></th>        <th class=\"col_heading level0 col0\" >total</th>        <th class=\"col_heading level0 col1\" >prop</th>        <th class=\"col_heading level0 col2\" >dtype</th>    </tr></thead><tbody>\n",
       "                <tr>\n",
       "                        <th id=\"T_6962dd3c_4953_11eb_a457_60f67737a0felevel0_row0\" class=\"row_heading level0 row0\" >number</th>\n",
       "                        <td id=\"T_6962dd3c_4953_11eb_a457_60f67737a0ferow0_col0\" class=\"data row0 col0\" >269</td>\n",
       "                        <td id=\"T_6962dd3c_4953_11eb_a457_60f67737a0ferow0_col1\" class=\"data row0 col1\" >91.8%</td>\n",
       "                        <td id=\"T_6962dd3c_4953_11eb_a457_60f67737a0ferow0_col2\" class=\"data row0 col2\" >object</td>\n",
       "            </tr>\n",
       "            <tr>\n",
       "                        <th id=\"T_6962dd3c_4953_11eb_a457_60f67737a0felevel0_row1\" class=\"row_heading level0 row1\" >remarks</th>\n",
       "                        <td id=\"T_6962dd3c_4953_11eb_a457_60f67737a0ferow1_col0\" class=\"data row1 col0\" >221</td>\n",
       "                        <td id=\"T_6962dd3c_4953_11eb_a457_60f67737a0ferow1_col1\" class=\"data row1 col1\" >75.4%</td>\n",
       "                        <td id=\"T_6962dd3c_4953_11eb_a457_60f67737a0ferow1_col2\" class=\"data row1 col2\" >object</td>\n",
       "            </tr>\n",
       "            <tr>\n",
       "                        <th id=\"T_6962dd3c_4953_11eb_a457_60f67737a0felevel0_row2\" class=\"row_heading level0 row2\" >rating</th>\n",
       "                        <td id=\"T_6962dd3c_4953_11eb_a457_60f67737a0ferow2_col0\" class=\"data row2 col0\" >192</td>\n",
       "                        <td id=\"T_6962dd3c_4953_11eb_a457_60f67737a0ferow2_col1\" class=\"data row2 col1\" >65.5%</td>\n",
       "                        <td id=\"T_6962dd3c_4953_11eb_a457_60f67737a0ferow2_col2\" class=\"data row2 col2\" >float64</td>\n",
       "            </tr>\n",
       "            <tr>\n",
       "                        <th id=\"T_6962dd3c_4953_11eb_a457_60f67737a0felevel0_row3\" class=\"row_heading level0 row3\" >vinyl_color</th>\n",
       "                        <td id=\"T_6962dd3c_4953_11eb_a457_60f67737a0ferow3_col0\" class=\"data row3 col0\" >96</td>\n",
       "                        <td id=\"T_6962dd3c_4953_11eb_a457_60f67737a0ferow3_col1\" class=\"data row3 col1\" >32.8%</td>\n",
       "                        <td id=\"T_6962dd3c_4953_11eb_a457_60f67737a0ferow3_col2\" class=\"data row3 col2\" >object</td>\n",
       "            </tr>\n",
       "            <tr>\n",
       "                        <th id=\"T_6962dd3c_4953_11eb_a457_60f67737a0felevel0_row4\" class=\"row_heading level0 row4\" >lim_edition</th>\n",
       "                        <td id=\"T_6962dd3c_4953_11eb_a457_60f67737a0ferow4_col0\" class=\"data row4 col0\" >86</td>\n",
       "                        <td id=\"T_6962dd3c_4953_11eb_a457_60f67737a0ferow4_col1\" class=\"data row4 col1\" >29.4%</td>\n",
       "                        <td id=\"T_6962dd3c_4953_11eb_a457_60f67737a0ferow4_col2\" class=\"data row4 col2\" >object</td>\n",
       "            </tr>\n",
       "    </tbody></table>"
      ],
      "text/plain": [
       "<pandas.io.formats.style.Styler at 0x1e3c08f3b80>"
      ]
     },
     "execution_count": 11,
     "metadata": {},
     "output_type": "execute_result"
    }
   ],
   "source": [
    "EDA.display_nan(collection_df)"
   ]
  },
  {
   "cell_type": "code",
   "execution_count": 12,
   "metadata": {
    "ExecuteTime": {
     "end_time": "2020-12-28T21:26:56.810287Z",
     "start_time": "2020-12-28T21:26:56.440961Z"
    }
   },
   "outputs": [
    {
     "data": {
      "image/png": "[encoded data removed]",
      "text/plain": [
       "<Figure size 1008x432 with 1 Axes>"
      ]
     },
     "metadata": {},
     "output_type": "display_data"
    }
   ],
   "source": [
    "EDA.plot_nan(collection_df)"
   ]
  },
  {
   "cell_type": "code",
   "execution_count": 13,
   "metadata": {
    "ExecuteTime": {
     "end_time": "2020-12-28T21:26:57.018294Z",
     "start_time": "2020-12-28T21:26:56.813288Z"
    }
   },
   "outputs": [
    {
     "data": {
      "text/plain": [
       "{'active': 1.0,\n",
       " 'artist': 'Living Gate',\n",
       " 'title': 'Death Lust',\n",
       " 'format': 'MLP',\n",
       " 'year': 2020.0,\n",
       " 'genre': 'Death Metal',\n",
       " 'price': 20.0,\n",
       " 'purchase_date': Timestamp('2020-07-01 00:00:00'),\n",
       " 'vinyl_color': 'milky clear with blood red, black and white splatter',\n",
       " 'lim_edition': 250,\n",
       " 'number': nan,\n",
       " 'label': 'Relapse Records',\n",
       " 'digitized': True,\n",
       " 'remarks': 'warped, etched on B-Side',\n",
       " 'rating': 8.0}"
      ]
     },
     "execution_count": 13,
     "metadata": {},
     "output_type": "execute_result"
    }
   ],
   "source": [
    "test_record = collection_df.to_dict(\"records\")[-30]\n",
    "test_record"
   ]
  },
  {
   "cell_type": "code",
   "execution_count": 14,
   "metadata": {
    "ExecuteTime": {
     "end_time": "2020-12-28T21:26:57.173492Z",
     "start_time": "2020-12-28T21:26:57.021287Z"
    }
   },
   "outputs": [],
   "source": [
    "def insert_df_with_sqlalchemy_core(df, table_class, engine):\n",
    "    start = time.time()\n",
    "    engine.execute(\n",
    "        table_class.__table__.insert(),\n",
    "        [x for x in df.to_dict(\"records\")]\n",
    "    )\n",
    "    end = time.time()\n",
    "    print(\"SQLAlchemy Core: Insert {0} records in {1} seconds\".format(\n",
    "        str(len(df)), str(end - start)\n",
    "        )\n",
    "     )"
   ]
  },
  {
   "cell_type": "code",
   "execution_count": 15,
   "metadata": {
    "ExecuteTime": {
     "end_time": "2020-12-28T21:26:57.351487Z",
     "start_time": "2020-12-28T21:26:57.176489Z"
    }
   },
   "outputs": [
    {
     "name": "stdout",
     "output_type": "stream",
     "text": [
      "SQLAlchemy Core: Insert 293 records in 0.024998903274536133 seconds\n"
     ]
    }
   ],
   "source": [
    "import time\n",
    "\n",
    "insert_df_with_sqlalchemy_core(collection_df, Record, engine)"
   ]
  },
  {
   "cell_type": "code",
   "execution_count": 16,
   "metadata": {
    "ExecuteTime": {
     "end_time": "2020-12-28T21:26:57.520489Z",
     "start_time": "2020-12-28T21:26:57.356488Z"
    }
   },
   "outputs": [
    {
     "data": {
      "text/plain": [
       "[Column('record_id', Integer(), table=<records>, primary_key=True, nullable=False),\n",
       " Column('artist_id', Integer(), ForeignKey('artists.artist_id'), table=<records>),\n",
       " Column('title', String(), table=<records>, nullable=False),\n",
       " Column('genre_id', Integer(), ForeignKey('genres.genre_id'), table=<records>),\n",
       " Column('label', Integer(), ForeignKey('labels.label_id'), table=<records>),\n",
       " Column('year', Integer(), table=<records>),\n",
       " Column('format_id', Integer(), ForeignKey('formats.format_id'), table=<records>),\n",
       " Column('vinyl_color', String(), table=<records>),\n",
       " Column('lim_edition', String(), table=<records>),\n",
       " Column('number', String(), table=<records>),\n",
       " Column('remarks', String(), table=<records>),\n",
       " Column('purchase_date', Date(), table=<records>, nullable=False),\n",
       " Column('price', Numeric(), table=<records>, nullable=False),\n",
       " Column('digitized', Integer(), table=<records>, nullable=False),\n",
       " Column('rating', Integer(), table=<records>),\n",
       " Column('active', Integer(), table=<records>, nullable=False)]"
      ]
     },
     "execution_count": 16,
     "metadata": {},
     "output_type": "execute_result"
    }
   ],
   "source": [
    "list(Record.__table__.columns)"
   ]
  },
  {
   "cell_type": "code",
   "execution_count": 17,
   "metadata": {
    "ExecuteTime": {
     "end_time": "2020-12-28T21:26:57.855718Z",
     "start_time": "2020-12-28T21:26:57.524716Z"
    }
   },
   "outputs": [],
   "source": [
    "# Reset DB\n",
    "utils.create_DB_anew(engine, Base)"
   ]
  },
  {
   "cell_type": "markdown",
   "metadata": {},
   "source": [
    "## Test \"add_new_record\"\n",
    "\n",
    "**TODO**: Do I have to loop? Using apply only after all is done would be more efficient"
   ]
  },
  {
   "cell_type": "code",
   "execution_count": 18,
   "metadata": {
    "ExecuteTime": {
     "end_time": "2020-12-28T21:26:58.334081Z",
     "start_time": "2020-12-28T21:26:57.861719Z"
    }
   },
   "outputs": [
    {
     "name": "stderr",
     "output_type": "stream",
     "text": [
      "C:\\Users\\r2d4\\miniconda3\\envs\\py3\\lib\\site-packages\\sqlalchemy\\sql\\sqltypes.py:660: SAWarning: Dialect sqlite+pysqlite does *not* support Decimal objects natively, and SQLAlchemy must convert from floating point - rounding errors and other issues may occur. Please consider storing Decimal numbers as strings or integers on this platform for lossless storage.\n",
      "  util.warn(\n"
     ]
    }
   ],
   "source": [
    "insert_record.add_new_record(session, test_record)"
   ]
  },
  {
   "cell_type": "code",
   "execution_count": 19,
   "metadata": {
    "ExecuteTime": {
     "end_time": "2020-12-28T21:26:58.533865Z",
     "start_time": "2020-12-28T21:26:58.339081Z"
    }
   },
   "outputs": [
    {
     "data": {
      "text/plain": [
       "{'active': 1.0,\n",
       " 'artist': 'Living Gate',\n",
       " 'title': 'Death Lust',\n",
       " 'format': 'MLP',\n",
       " 'year': 2020.0,\n",
       " 'genre': 'Death Metal',\n",
       " 'price': 20.0,\n",
       " 'purchase_date': Timestamp('2020-07-01 00:00:00'),\n",
       " 'vinyl_color': 'milky clear with blood red, black and white splatter',\n",
       " 'lim_edition': 250,\n",
       " 'number': nan,\n",
       " 'label': 'Relapse Records',\n",
       " 'digitized': True,\n",
       " 'remarks': 'warped, etched on B-Side',\n",
       " 'rating': 8.0}"
      ]
     },
     "execution_count": 19,
     "metadata": {},
     "output_type": "execute_result"
    }
   ],
   "source": [
    "test_record"
   ]
  },
  {
   "cell_type": "markdown",
   "metadata": {
    "ExecuteTime": {
     "end_time": "2020-12-23T21:50:04.810370Z",
     "start_time": "2020-12-23T21:50:04.664351Z"
    }
   },
   "source": [
    "### Add all records\n",
    "\n",
    "**TODO:** Can I apply()?"
   ]
  },
  {
   "cell_type": "code",
   "execution_count": 20,
   "metadata": {
    "ExecuteTime": {
     "end_time": "2020-12-28T21:26:58.688869Z",
     "start_time": "2020-12-28T21:26:58.536866Z"
    }
   },
   "outputs": [],
   "source": [
    "def insert_df_with_sqlalchemy_orm(session, df):\n",
    "    for x in df.to_dict(\"records\"):\n",
    "        insert_record.add_new_record(session, x)"
   ]
  },
  {
   "cell_type": "code",
   "execution_count": 21,
   "metadata": {
    "ExecuteTime": {
     "end_time": "2020-12-28T21:27:06.976840Z",
     "start_time": "2020-12-28T21:26:58.691866Z"
    }
   },
   "outputs": [
    {
     "name": "stdout",
     "output_type": "stream",
     "text": [
      "Record 'Death Lust' by Living Gate already exists, insert skipped.\n"
     ]
    }
   ],
   "source": [
    "insert_df_with_sqlalchemy_orm(session, collection_df)"
   ]
  },
  {
   "cell_type": "markdown",
   "metadata": {},
   "source": [
    "## Query DB"
   ]
  },
  {
   "cell_type": "code",
   "execution_count": 22,
   "metadata": {
    "ExecuteTime": {
     "end_time": "2020-12-28T21:27:07.398822Z",
     "start_time": "2020-12-28T21:27:06.976840Z"
    }
   },
   "outputs": [
    {
     "data": {
      "text/plain": [
       "293"
      ]
     },
     "execution_count": 22,
     "metadata": {},
     "output_type": "execute_result"
    }
   ],
   "source": [
    "session.query(Record).count()"
   ]
  },
  {
   "cell_type": "code",
   "execution_count": 23,
   "metadata": {
    "ExecuteTime": {
     "end_time": "2020-12-28T21:27:07.794822Z",
     "start_time": "2020-12-28T21:27:07.406822Z"
    }
   },
   "outputs": [
    {
     "data": {
      "text/plain": [
       "<Record(record_id=1, title=Death Lust, artist_id=1)>"
      ]
     },
     "execution_count": 23,
     "metadata": {},
     "output_type": "execute_result"
    }
   ],
   "source": [
    "for result in session.query(Record).filter(Record.title == \"Death Lust\").all():\n",
    "    result"
   ]
  },
  {
   "cell_type": "code",
   "execution_count": 24,
   "metadata": {
    "ExecuteTime": {
     "end_time": "2020-12-28T21:27:08.186822Z",
     "start_time": "2020-12-28T21:27:07.799824Z"
    }
   },
   "outputs": [
    {
     "data": {
      "text/plain": [
       "188"
      ]
     },
     "execution_count": 24,
     "metadata": {},
     "output_type": "execute_result"
    },
    {
     "data": {
      "text/plain": [
       "[<Artist(artist_id=1, artist_name=Living Gate)>,\n",
       " <Artist(artist_id=2, artist_name=Dismember)>,\n",
       " <Artist(artist_id=3, artist_name=Merciless)>,\n",
       " <Artist(artist_id=4, artist_name=Overkill)>,\n",
       " <Artist(artist_id=5, artist_name=Entombed)>]"
      ]
     },
     "execution_count": 24,
     "metadata": {},
     "output_type": "execute_result"
    }
   ],
   "source": [
    "session.query(Artist).count()\n",
    "session.query(Artist).all()[:5]"
   ]
  },
  {
   "cell_type": "code",
   "execution_count": 25,
   "metadata": {
    "ExecuteTime": {
     "end_time": "2020-12-28T21:27:08.530823Z",
     "start_time": "2020-12-28T21:27:08.190822Z"
    }
   },
   "outputs": [
    {
     "data": {
      "text/plain": [
       "9"
      ]
     },
     "execution_count": 25,
     "metadata": {},
     "output_type": "execute_result"
    },
    {
     "data": {
      "text/plain": [
       "[<Genre(genre_id=1, genre_name=Death Metal)>,\n",
       " <Genre(genre_id=2, genre_name=Thrash Metal)>,\n",
       " <Genre(genre_id=3, genre_name=Black Metal)>,\n",
       " <Genre(genre_id=4, genre_name=Speed Metal)>,\n",
       " <Genre(genre_id=5, genre_name=Hardcore)>,\n",
       " <Genre(genre_id=6, genre_name=Punk)>,\n",
       " <Genre(genre_id=7, genre_name=Crust)>,\n",
       " <Genre(genre_id=8, genre_name=Crossover)>,\n",
       " <Genre(genre_id=9, genre_name=Grindcore)>]"
      ]
     },
     "execution_count": 25,
     "metadata": {},
     "output_type": "execute_result"
    }
   ],
   "source": [
    "session.query(Genre).count()\n",
    "session.query(Genre).all()"
   ]
  },
  {
   "cell_type": "code",
   "execution_count": 31,
   "metadata": {
    "ExecuteTime": {
     "end_time": "2020-12-28T21:28:09.416606Z",
     "start_time": "2020-12-28T21:28:09.241193Z"
    }
   },
   "outputs": [
    {
     "data": {
      "text/plain": [
       "-293.0"
      ]
     },
     "execution_count": 31,
     "metadata": {},
     "output_type": "execute_result"
    }
   ],
   "source": [
    "result = session.query(CreditTrx.credit_saldo).all()\n",
    "np.array(result).min()"
   ]
  },
  {
   "cell_type": "code",
   "execution_count": 29,
   "metadata": {
    "ExecuteTime": {
     "end_time": "2020-12-28T21:27:44.672753Z",
     "start_time": "2020-12-28T21:27:44.502356Z"
    }
   },
   "outputs": [
    {
     "data": {
      "text/plain": [
       "[<CreditTrx(credit_trx_id=1, credit_trx_date=2020-07-01, credit_trx_type=Purchase, credit_value=-1.0, credit_saldo=-1.0, record_id=1)>,\n",
       " <CreditTrx(credit_trx_id=2, credit_trx_date=1992-01-01, credit_trx_type=Purchase, credit_value=-1.0, credit_saldo=-2.0, record_id=2)>,\n",
       " <CreditTrx(credit_trx_id=3, credit_trx_date=1992-01-01, credit_trx_type=Purchase, credit_value=-1.0, credit_saldo=-3.0, record_id=3)>,\n",
       " <CreditTrx(credit_trx_id=4, credit_trx_date=1992-01-01, credit_trx_type=Purchase, credit_value=-1.0, credit_saldo=-4.0, record_id=4)>,\n",
       " <CreditTrx(credit_trx_id=5, credit_trx_date=1992-01-01, credit_trx_type=Purchase, credit_value=-1.0, credit_saldo=-5.0, record_id=5)>,\n",
       " <CreditTrx(credit_trx_id=6, credit_trx_date=1992-01-01, credit_trx_type=Purchase, credit_value=-1.0, credit_saldo=-6.0, record_id=6)>,\n",
       " <CreditTrx(credit_trx_id=7, credit_trx_date=2013-06-01, credit_trx_type=Purchase, credit_value=-1.0, credit_saldo=-7.0, record_id=7)>,\n",
       " <CreditTrx(credit_trx_id=8, credit_trx_date=2013-06-01, credit_trx_type=Purchase, credit_value=-1.0, credit_saldo=-8.0, record_id=8)>,\n",
       " <CreditTrx(credit_trx_id=9, credit_trx_date=2013-06-01, credit_trx_type=Purchase, credit_value=-1.0, credit_saldo=-9.0, record_id=9)>,\n",
       " <CreditTrx(credit_trx_id=10, credit_trx_date=2013-07-01, credit_trx_type=Purchase, credit_value=-1.0, credit_saldo=-10.0, record_id=10)>,\n",
       " <CreditTrx(credit_trx_id=11, credit_trx_date=2013-07-01, credit_trx_type=Purchase, credit_value=-1.0, credit_saldo=-11.0, record_id=11)>,\n",
       " <CreditTrx(credit_trx_id=12, credit_trx_date=2013-07-01, credit_trx_type=Purchase, credit_value=-1.0, credit_saldo=-12.0, record_id=12)>,\n",
       " <CreditTrx(credit_trx_id=13, credit_trx_date=2013-07-01, credit_trx_type=Purchase, credit_value=-1.0, credit_saldo=-13.0, record_id=13)>,\n",
       " <CreditTrx(credit_trx_id=14, credit_trx_date=2013-07-01, credit_trx_type=Purchase, credit_value=-1.0, credit_saldo=-14.0, record_id=14)>,\n",
       " <CreditTrx(credit_trx_id=15, credit_trx_date=2013-07-01, credit_trx_type=Purchase, credit_value=-1.0, credit_saldo=-15.0, record_id=15)>,\n",
       " <CreditTrx(credit_trx_id=16, credit_trx_date=2013-07-01, credit_trx_type=Purchase, credit_value=-1.0, credit_saldo=-16.0, record_id=16)>,\n",
       " <CreditTrx(credit_trx_id=17, credit_trx_date=2013-08-01, credit_trx_type=Purchase, credit_value=-1.0, credit_saldo=-17.0, record_id=17)>,\n",
       " <CreditTrx(credit_trx_id=18, credit_trx_date=2013-09-01, credit_trx_type=Purchase, credit_value=-1.0, credit_saldo=-18.0, record_id=18)>,\n",
       " <CreditTrx(credit_trx_id=19, credit_trx_date=2013-09-01, credit_trx_type=Purchase, credit_value=-1.0, credit_saldo=-19.0, record_id=19)>,\n",
       " <CreditTrx(credit_trx_id=20, credit_trx_date=2013-09-01, credit_trx_type=Purchase, credit_value=-1.0, credit_saldo=-20.0, record_id=20)>,\n",
       " <CreditTrx(credit_trx_id=21, credit_trx_date=2013-09-01, credit_trx_type=Purchase, credit_value=-1.0, credit_saldo=-21.0, record_id=21)>,\n",
       " <CreditTrx(credit_trx_id=22, credit_trx_date=2013-09-01, credit_trx_type=Purchase, credit_value=-1.0, credit_saldo=-22.0, record_id=22)>,\n",
       " <CreditTrx(credit_trx_id=23, credit_trx_date=2013-09-01, credit_trx_type=Purchase, credit_value=-1.0, credit_saldo=-23.0, record_id=23)>,\n",
       " <CreditTrx(credit_trx_id=24, credit_trx_date=2014-01-01, credit_trx_type=Purchase, credit_value=-1.0, credit_saldo=-24.0, record_id=24)>,\n",
       " <CreditTrx(credit_trx_id=25, credit_trx_date=2014-02-01, credit_trx_type=Purchase, credit_value=-1.0, credit_saldo=-25.0, record_id=25)>,\n",
       " <CreditTrx(credit_trx_id=26, credit_trx_date=2014-02-01, credit_trx_type=Purchase, credit_value=-1.0, credit_saldo=-26.0, record_id=26)>,\n",
       " <CreditTrx(credit_trx_id=27, credit_trx_date=2014-02-01, credit_trx_type=Purchase, credit_value=-1.0, credit_saldo=-27.0, record_id=27)>,\n",
       " <CreditTrx(credit_trx_id=28, credit_trx_date=2014-04-01, credit_trx_type=Purchase, credit_value=-1.0, credit_saldo=-28.0, record_id=28)>,\n",
       " <CreditTrx(credit_trx_id=29, credit_trx_date=2014-05-01, credit_trx_type=Purchase, credit_value=-1.0, credit_saldo=-29.0, record_id=29)>,\n",
       " <CreditTrx(credit_trx_id=30, credit_trx_date=2014-08-01, credit_trx_type=Purchase, credit_value=-1.0, credit_saldo=-30.0, record_id=30)>,\n",
       " <CreditTrx(credit_trx_id=31, credit_trx_date=2014-08-01, credit_trx_type=Purchase, credit_value=-1.0, credit_saldo=-31.0, record_id=31)>,\n",
       " <CreditTrx(credit_trx_id=32, credit_trx_date=2015-06-01, credit_trx_type=Purchase, credit_value=-1.0, credit_saldo=-32.0, record_id=32)>,\n",
       " <CreditTrx(credit_trx_id=33, credit_trx_date=2015-07-01, credit_trx_type=Purchase, credit_value=-1.0, credit_saldo=-33.0, record_id=33)>,\n",
       " <CreditTrx(credit_trx_id=34, credit_trx_date=2015-07-01, credit_trx_type=Purchase, credit_value=-1.0, credit_saldo=-34.0, record_id=34)>,\n",
       " <CreditTrx(credit_trx_id=35, credit_trx_date=2015-07-01, credit_trx_type=Purchase, credit_value=-1.0, credit_saldo=-35.0, record_id=35)>,\n",
       " <CreditTrx(credit_trx_id=36, credit_trx_date=2015-08-01, credit_trx_type=Purchase, credit_value=-1.0, credit_saldo=-36.0, record_id=36)>,\n",
       " <CreditTrx(credit_trx_id=37, credit_trx_date=2015-08-01, credit_trx_type=Purchase, credit_value=-1.0, credit_saldo=-37.0, record_id=37)>,\n",
       " <CreditTrx(credit_trx_id=38, credit_trx_date=2015-08-01, credit_trx_type=Purchase, credit_value=-1.0, credit_saldo=-38.0, record_id=38)>,\n",
       " <CreditTrx(credit_trx_id=39, credit_trx_date=2015-08-01, credit_trx_type=Purchase, credit_value=-1.0, credit_saldo=-39.0, record_id=39)>,\n",
       " <CreditTrx(credit_trx_id=40, credit_trx_date=2015-09-01, credit_trx_type=Purchase, credit_value=-1.0, credit_saldo=-40.0, record_id=40)>,\n",
       " <CreditTrx(credit_trx_id=41, credit_trx_date=2015-10-01, credit_trx_type=Purchase, credit_value=-1.0, credit_saldo=-41.0, record_id=41)>,\n",
       " <CreditTrx(credit_trx_id=42, credit_trx_date=2015-12-01, credit_trx_type=Purchase, credit_value=-1.0, credit_saldo=-42.0, record_id=42)>,\n",
       " <CreditTrx(credit_trx_id=43, credit_trx_date=2016-01-01, credit_trx_type=Purchase, credit_value=-1.0, credit_saldo=-43.0, record_id=43)>,\n",
       " <CreditTrx(credit_trx_id=44, credit_trx_date=2016-01-01, credit_trx_type=Purchase, credit_value=-1.0, credit_saldo=-44.0, record_id=44)>,\n",
       " <CreditTrx(credit_trx_id=45, credit_trx_date=2016-01-01, credit_trx_type=Purchase, credit_value=-1.0, credit_saldo=-45.0, record_id=45)>,\n",
       " <CreditTrx(credit_trx_id=46, credit_trx_date=2016-02-01, credit_trx_type=Purchase, credit_value=-1.0, credit_saldo=-46.0, record_id=46)>,\n",
       " <CreditTrx(credit_trx_id=47, credit_trx_date=2016-02-01, credit_trx_type=Purchase, credit_value=-1.0, credit_saldo=-47.0, record_id=47)>,\n",
       " <CreditTrx(credit_trx_id=48, credit_trx_date=2016-02-01, credit_trx_type=Purchase, credit_value=-1.0, credit_saldo=-48.0, record_id=48)>,\n",
       " <CreditTrx(credit_trx_id=49, credit_trx_date=2016-02-01, credit_trx_type=Purchase, credit_value=-1.0, credit_saldo=-49.0, record_id=49)>,\n",
       " <CreditTrx(credit_trx_id=50, credit_trx_date=2016-02-01, credit_trx_type=Purchase, credit_value=-1.0, credit_saldo=-50.0, record_id=50)>,\n",
       " <CreditTrx(credit_trx_id=51, credit_trx_date=2016-03-01, credit_trx_type=Purchase, credit_value=-1.0, credit_saldo=-51.0, record_id=51)>,\n",
       " <CreditTrx(credit_trx_id=52, credit_trx_date=2016-03-01, credit_trx_type=Purchase, credit_value=-1.0, credit_saldo=-52.0, record_id=52)>,\n",
       " <CreditTrx(credit_trx_id=53, credit_trx_date=2016-04-01, credit_trx_type=Purchase, credit_value=-1.0, credit_saldo=-53.0, record_id=53)>,\n",
       " <CreditTrx(credit_trx_id=54, credit_trx_date=2016-04-01, credit_trx_type=Purchase, credit_value=-1.0, credit_saldo=-54.0, record_id=54)>,\n",
       " <CreditTrx(credit_trx_id=55, credit_trx_date=2016-04-01, credit_trx_type=Purchase, credit_value=-1.0, credit_saldo=-55.0, record_id=55)>,\n",
       " <CreditTrx(credit_trx_id=56, credit_trx_date=2016-05-01, credit_trx_type=Purchase, credit_value=-1.0, credit_saldo=-56.0, record_id=56)>,\n",
       " <CreditTrx(credit_trx_id=57, credit_trx_date=2016-05-01, credit_trx_type=Purchase, credit_value=-1.0, credit_saldo=-57.0, record_id=57)>,\n",
       " <CreditTrx(credit_trx_id=58, credit_trx_date=2016-05-01, credit_trx_type=Purchase, credit_value=-1.0, credit_saldo=-58.0, record_id=58)>,\n",
       " <CreditTrx(credit_trx_id=59, credit_trx_date=2016-06-01, credit_trx_type=Purchase, credit_value=-1.0, credit_saldo=-59.0, record_id=59)>,\n",
       " <CreditTrx(credit_trx_id=60, credit_trx_date=2016-06-01, credit_trx_type=Purchase, credit_value=-1.0, credit_saldo=-60.0, record_id=60)>,\n",
       " <CreditTrx(credit_trx_id=61, credit_trx_date=2016-06-01, credit_trx_type=Purchase, credit_value=-1.0, credit_saldo=-61.0, record_id=61)>,\n",
       " <CreditTrx(credit_trx_id=62, credit_trx_date=2016-06-01, credit_trx_type=Purchase, credit_value=-1.0, credit_saldo=-62.0, record_id=62)>,\n",
       " <CreditTrx(credit_trx_id=63, credit_trx_date=2016-06-01, credit_trx_type=Purchase, credit_value=-1.0, credit_saldo=-63.0, record_id=63)>,\n",
       " <CreditTrx(credit_trx_id=64, credit_trx_date=2016-07-01, credit_trx_type=Purchase, credit_value=-1.0, credit_saldo=-64.0, record_id=64)>,\n",
       " <CreditTrx(credit_trx_id=65, credit_trx_date=2016-07-01, credit_trx_type=Purchase, credit_value=-1.0, credit_saldo=-65.0, record_id=65)>,\n",
       " <CreditTrx(credit_trx_id=66, credit_trx_date=2016-08-01, credit_trx_type=Purchase, credit_value=-1.0, credit_saldo=-66.0, record_id=66)>,\n",
       " <CreditTrx(credit_trx_id=67, credit_trx_date=2016-08-01, credit_trx_type=Purchase, credit_value=-1.0, credit_saldo=-67.0, record_id=67)>,\n",
       " <CreditTrx(credit_trx_id=68, credit_trx_date=2016-08-01, credit_trx_type=Purchase, credit_value=-1.0, credit_saldo=-68.0, record_id=68)>,\n",
       " <CreditTrx(credit_trx_id=69, credit_trx_date=2016-08-01, credit_trx_type=Purchase, credit_value=-1.0, credit_saldo=-69.0, record_id=69)>,\n",
       " <CreditTrx(credit_trx_id=70, credit_trx_date=2016-08-01, credit_trx_type=Purchase, credit_value=-1.0, credit_saldo=-70.0, record_id=70)>,\n",
       " <CreditTrx(credit_trx_id=71, credit_trx_date=2016-09-01, credit_trx_type=Purchase, credit_value=-1.0, credit_saldo=-71.0, record_id=71)>,\n",
       " <CreditTrx(credit_trx_id=72, credit_trx_date=2016-09-01, credit_trx_type=Purchase, credit_value=-1.0, credit_saldo=-72.0, record_id=72)>,\n",
       " <CreditTrx(credit_trx_id=73, credit_trx_date=2016-09-01, credit_trx_type=Purchase, credit_value=-1.0, credit_saldo=-73.0, record_id=73)>,\n",
       " <CreditTrx(credit_trx_id=74, credit_trx_date=2016-09-01, credit_trx_type=Purchase, credit_value=-1.0, credit_saldo=-74.0, record_id=74)>,\n",
       " <CreditTrx(credit_trx_id=75, credit_trx_date=2016-09-01, credit_trx_type=Purchase, credit_value=-1.0, credit_saldo=-75.0, record_id=75)>,\n",
       " <CreditTrx(credit_trx_id=76, credit_trx_date=2016-10-01, credit_trx_type=Purchase, credit_value=-1.0, credit_saldo=-76.0, record_id=76)>,\n",
       " <CreditTrx(credit_trx_id=77, credit_trx_date=2016-10-01, credit_trx_type=Purchase, credit_value=-1.0, credit_saldo=-77.0, record_id=77)>,\n",
       " <CreditTrx(credit_trx_id=78, credit_trx_date=2016-11-01, credit_trx_type=Purchase, credit_value=-1.0, credit_saldo=-78.0, record_id=78)>,\n",
       " <CreditTrx(credit_trx_id=79, credit_trx_date=2016-11-01, credit_trx_type=Purchase, credit_value=-1.0, credit_saldo=-79.0, record_id=79)>,\n",
       " <CreditTrx(credit_trx_id=80, credit_trx_date=2016-11-01, credit_trx_type=Purchase, credit_value=-1.0, credit_saldo=-80.0, record_id=80)>,\n",
       " <CreditTrx(credit_trx_id=81, credit_trx_date=2016-11-01, credit_trx_type=Purchase, credit_value=-1.0, credit_saldo=-81.0, record_id=81)>,\n",
       " <CreditTrx(credit_trx_id=82, credit_trx_date=2016-11-01, credit_trx_type=Purchase, credit_value=-1.0, credit_saldo=-82.0, record_id=82)>,\n",
       " <CreditTrx(credit_trx_id=83, credit_trx_date=2016-11-01, credit_trx_type=Purchase, credit_value=-1.0, credit_saldo=-83.0, record_id=83)>,\n",
       " <CreditTrx(credit_trx_id=84, credit_trx_date=2016-11-01, credit_trx_type=Purchase, credit_value=-1.0, credit_saldo=-84.0, record_id=84)>,\n",
       " <CreditTrx(credit_trx_id=85, credit_trx_date=2016-11-01, credit_trx_type=Purchase, credit_value=-1.0, credit_saldo=-85.0, record_id=85)>,\n",
       " <CreditTrx(credit_trx_id=86, credit_trx_date=2016-11-01, credit_trx_type=Purchase, credit_value=-1.0, credit_saldo=-86.0, record_id=86)>,\n",
       " <CreditTrx(credit_trx_id=87, credit_trx_date=2016-12-01, credit_trx_type=Purchase, credit_value=-1.0, credit_saldo=-87.0, record_id=87)>,\n",
       " <CreditTrx(credit_trx_id=88, credit_trx_date=2016-12-01, credit_trx_type=Purchase, credit_value=-1.0, credit_saldo=-88.0, record_id=88)>,\n",
       " <CreditTrx(credit_trx_id=89, credit_trx_date=2016-12-01, credit_trx_type=Purchase, credit_value=-1.0, credit_saldo=-89.0, record_id=89)>,\n",
       " <CreditTrx(credit_trx_id=90, credit_trx_date=2016-12-01, credit_trx_type=Purchase, credit_value=-1.0, credit_saldo=-90.0, record_id=90)>,\n",
       " <CreditTrx(credit_trx_id=91, credit_trx_date=2017-01-01, credit_trx_type=Purchase, credit_value=-1.0, credit_saldo=-91.0, record_id=91)>,\n",
       " <CreditTrx(credit_trx_id=92, credit_trx_date=2017-01-01, credit_trx_type=Purchase, credit_value=-1.0, credit_saldo=-92.0, record_id=92)>,\n",
       " <CreditTrx(credit_trx_id=93, credit_trx_date=2017-01-01, credit_trx_type=Purchase, credit_value=-1.0, credit_saldo=-93.0, record_id=93)>,\n",
       " <CreditTrx(credit_trx_id=94, credit_trx_date=2017-01-01, credit_trx_type=Purchase, credit_value=-1.0, credit_saldo=-94.0, record_id=94)>,\n",
       " <CreditTrx(credit_trx_id=95, credit_trx_date=2017-01-01, credit_trx_type=Purchase, credit_value=-1.0, credit_saldo=-95.0, record_id=95)>,\n",
       " <CreditTrx(credit_trx_id=96, credit_trx_date=2017-01-01, credit_trx_type=Purchase, credit_value=-1.0, credit_saldo=-96.0, record_id=96)>,\n",
       " <CreditTrx(credit_trx_id=97, credit_trx_date=2017-02-01, credit_trx_type=Purchase, credit_value=-1.0, credit_saldo=-97.0, record_id=97)>,\n",
       " <CreditTrx(credit_trx_id=98, credit_trx_date=2017-02-01, credit_trx_type=Purchase, credit_value=-1.0, credit_saldo=-98.0, record_id=98)>,\n",
       " <CreditTrx(credit_trx_id=99, credit_trx_date=2017-03-01, credit_trx_type=Purchase, credit_value=-1.0, credit_saldo=-99.0, record_id=99)>,\n",
       " <CreditTrx(credit_trx_id=100, credit_trx_date=2017-03-01, credit_trx_type=Purchase, credit_value=-1.0, credit_saldo=-100.0, record_id=100)>,\n",
       " <CreditTrx(credit_trx_id=101, credit_trx_date=2017-03-01, credit_trx_type=Purchase, credit_value=-1.0, credit_saldo=-101.0, record_id=101)>,\n",
       " <CreditTrx(credit_trx_id=102, credit_trx_date=2017-03-01, credit_trx_type=Purchase, credit_value=-1.0, credit_saldo=-102.0, record_id=102)>,\n",
       " <CreditTrx(credit_trx_id=103, credit_trx_date=2017-03-01, credit_trx_type=Purchase, credit_value=-1.0, credit_saldo=-103.0, record_id=103)>,\n",
       " <CreditTrx(credit_trx_id=104, credit_trx_date=2017-03-01, credit_trx_type=Purchase, credit_value=-1.0, credit_saldo=-104.0, record_id=104)>,\n",
       " <CreditTrx(credit_trx_id=105, credit_trx_date=2017-03-01, credit_trx_type=Purchase, credit_value=-1.0, credit_saldo=-105.0, record_id=105)>,\n",
       " <CreditTrx(credit_trx_id=106, credit_trx_date=2017-04-01, credit_trx_type=Purchase, credit_value=-1.0, credit_saldo=-106.0, record_id=106)>,\n",
       " <CreditTrx(credit_trx_id=107, credit_trx_date=2017-04-01, credit_trx_type=Purchase, credit_value=-1.0, credit_saldo=-107.0, record_id=107)>,\n",
       " <CreditTrx(credit_trx_id=108, credit_trx_date=2017-04-01, credit_trx_type=Purchase, credit_value=-1.0, credit_saldo=-108.0, record_id=108)>,\n",
       " <CreditTrx(credit_trx_id=109, credit_trx_date=2017-04-01, credit_trx_type=Purchase, credit_value=-1.0, credit_saldo=-109.0, record_id=109)>,\n",
       " <CreditTrx(credit_trx_id=110, credit_trx_date=2017-05-01, credit_trx_type=Purchase, credit_value=-1.0, credit_saldo=-110.0, record_id=110)>,\n",
       " <CreditTrx(credit_trx_id=111, credit_trx_date=2017-05-01, credit_trx_type=Purchase, credit_value=-1.0, credit_saldo=-111.0, record_id=111)>,\n",
       " <CreditTrx(credit_trx_id=112, credit_trx_date=2017-05-01, credit_trx_type=Purchase, credit_value=-1.0, credit_saldo=-112.0, record_id=112)>,\n",
       " <CreditTrx(credit_trx_id=113, credit_trx_date=2017-05-01, credit_trx_type=Purchase, credit_value=-1.0, credit_saldo=-113.0, record_id=113)>,\n",
       " <CreditTrx(credit_trx_id=114, credit_trx_date=2017-05-01, credit_trx_type=Purchase, credit_value=-1.0, credit_saldo=-114.0, record_id=114)>,\n",
       " <CreditTrx(credit_trx_id=115, credit_trx_date=2017-05-01, credit_trx_type=Purchase, credit_value=-1.0, credit_saldo=-115.0, record_id=115)>,\n",
       " <CreditTrx(credit_trx_id=116, credit_trx_date=2017-05-01, credit_trx_type=Purchase, credit_value=-1.0, credit_saldo=-116.0, record_id=116)>,\n",
       " <CreditTrx(credit_trx_id=117, credit_trx_date=2017-05-01, credit_trx_type=Purchase, credit_value=-1.0, credit_saldo=-117.0, record_id=117)>,\n",
       " <CreditTrx(credit_trx_id=118, credit_trx_date=2017-06-01, credit_trx_type=Purchase, credit_value=-1.0, credit_saldo=-118.0, record_id=118)>,\n",
       " <CreditTrx(credit_trx_id=119, credit_trx_date=2017-06-01, credit_trx_type=Purchase, credit_value=-1.0, credit_saldo=-119.0, record_id=119)>,\n",
       " <CreditTrx(credit_trx_id=120, credit_trx_date=2017-06-01, credit_trx_type=Purchase, credit_value=-1.0, credit_saldo=-120.0, record_id=120)>,\n",
       " <CreditTrx(credit_trx_id=121, credit_trx_date=2017-06-01, credit_trx_type=Purchase, credit_value=-1.0, credit_saldo=-121.0, record_id=121)>,\n",
       " <CreditTrx(credit_trx_id=122, credit_trx_date=2017-07-01, credit_trx_type=Purchase, credit_value=-1.0, credit_saldo=-122.0, record_id=122)>,\n",
       " <CreditTrx(credit_trx_id=123, credit_trx_date=2017-07-01, credit_trx_type=Purchase, credit_value=-1.0, credit_saldo=-123.0, record_id=123)>,\n",
       " <CreditTrx(credit_trx_id=124, credit_trx_date=2017-07-01, credit_trx_type=Purchase, credit_value=-1.0, credit_saldo=-124.0, record_id=124)>,\n",
       " <CreditTrx(credit_trx_id=125, credit_trx_date=2017-08-01, credit_trx_type=Purchase, credit_value=-1.0, credit_saldo=-125.0, record_id=125)>,\n",
       " <CreditTrx(credit_trx_id=126, credit_trx_date=2017-08-01, credit_trx_type=Purchase, credit_value=-1.0, credit_saldo=-126.0, record_id=126)>,\n",
       " <CreditTrx(credit_trx_id=127, credit_trx_date=2017-08-01, credit_trx_type=Purchase, credit_value=-1.0, credit_saldo=-127.0, record_id=127)>,\n",
       " <CreditTrx(credit_trx_id=128, credit_trx_date=2017-08-01, credit_trx_type=Purchase, credit_value=-1.0, credit_saldo=-128.0, record_id=128)>,\n",
       " <CreditTrx(credit_trx_id=129, credit_trx_date=2017-08-01, credit_trx_type=Purchase, credit_value=-1.0, credit_saldo=-129.0, record_id=129)>,\n",
       " <CreditTrx(credit_trx_id=130, credit_trx_date=2017-08-01, credit_trx_type=Purchase, credit_value=-1.0, credit_saldo=-130.0, record_id=130)>,\n",
       " <CreditTrx(credit_trx_id=131, credit_trx_date=2017-09-01, credit_trx_type=Purchase, credit_value=-1.0, credit_saldo=-131.0, record_id=131)>,\n",
       " <CreditTrx(credit_trx_id=132, credit_trx_date=2017-09-01, credit_trx_type=Purchase, credit_value=-1.0, credit_saldo=-132.0, record_id=132)>,\n",
       " <CreditTrx(credit_trx_id=133, credit_trx_date=2017-09-01, credit_trx_type=Purchase, credit_value=-1.0, credit_saldo=-133.0, record_id=133)>,\n",
       " <CreditTrx(credit_trx_id=134, credit_trx_date=2017-09-01, credit_trx_type=Purchase, credit_value=-1.0, credit_saldo=-134.0, record_id=134)>,\n",
       " <CreditTrx(credit_trx_id=135, credit_trx_date=2017-09-01, credit_trx_type=Purchase, credit_value=-1.0, credit_saldo=-135.0, record_id=135)>,\n",
       " <CreditTrx(credit_trx_id=136, credit_trx_date=2017-10-01, credit_trx_type=Purchase, credit_value=-1.0, credit_saldo=-136.0, record_id=136)>,\n",
       " <CreditTrx(credit_trx_id=137, credit_trx_date=2017-10-01, credit_trx_type=Purchase, credit_value=-1.0, credit_saldo=-137.0, record_id=137)>,\n",
       " <CreditTrx(credit_trx_id=138, credit_trx_date=2017-10-01, credit_trx_type=Purchase, credit_value=-1.0, credit_saldo=-138.0, record_id=138)>,\n",
       " <CreditTrx(credit_trx_id=139, credit_trx_date=2017-10-01, credit_trx_type=Purchase, credit_value=-1.0, credit_saldo=-139.0, record_id=139)>,\n",
       " <CreditTrx(credit_trx_id=140, credit_trx_date=2017-10-01, credit_trx_type=Purchase, credit_value=-1.0, credit_saldo=-140.0, record_id=140)>,\n",
       " <CreditTrx(credit_trx_id=141, credit_trx_date=2017-10-01, credit_trx_type=Purchase, credit_value=-1.0, credit_saldo=-141.0, record_id=141)>,\n",
       " <CreditTrx(credit_trx_id=142, credit_trx_date=2017-10-01, credit_trx_type=Purchase, credit_value=-1.0, credit_saldo=-142.0, record_id=142)>,\n",
       " <CreditTrx(credit_trx_id=143, credit_trx_date=2017-10-01, credit_trx_type=Purchase, credit_value=-1.0, credit_saldo=-143.0, record_id=143)>,\n",
       " <CreditTrx(credit_trx_id=144, credit_trx_date=2017-10-01, credit_trx_type=Purchase, credit_value=-1.0, credit_saldo=-144.0, record_id=144)>,\n",
       " <CreditTrx(credit_trx_id=145, credit_trx_date=2017-11-01, credit_trx_type=Purchase, credit_value=-1.0, credit_saldo=-145.0, record_id=145)>,\n",
       " <CreditTrx(credit_trx_id=146, credit_trx_date=2017-11-01, credit_trx_type=Purchase, credit_value=-1.0, credit_saldo=-146.0, record_id=146)>,\n",
       " <CreditTrx(credit_trx_id=147, credit_trx_date=2017-12-01, credit_trx_type=Purchase, credit_value=-1.0, credit_saldo=-147.0, record_id=147)>,\n",
       " <CreditTrx(credit_trx_id=148, credit_trx_date=2017-12-01, credit_trx_type=Purchase, credit_value=-1.0, credit_saldo=-148.0, record_id=148)>,\n",
       " <CreditTrx(credit_trx_id=149, credit_trx_date=2017-12-01, credit_trx_type=Purchase, credit_value=-1.0, credit_saldo=-149.0, record_id=149)>,\n",
       " <CreditTrx(credit_trx_id=150, credit_trx_date=2017-12-01, credit_trx_type=Purchase, credit_value=-1.0, credit_saldo=-150.0, record_id=150)>,\n",
       " <CreditTrx(credit_trx_id=151, credit_trx_date=2018-01-01, credit_trx_type=Purchase, credit_value=-1.0, credit_saldo=-151.0, record_id=151)>,\n",
       " <CreditTrx(credit_trx_id=152, credit_trx_date=2018-01-01, credit_trx_type=Purchase, credit_value=-1.0, credit_saldo=-152.0, record_id=152)>,\n",
       " <CreditTrx(credit_trx_id=153, credit_trx_date=2018-01-01, credit_trx_type=Purchase, credit_value=-1.0, credit_saldo=-153.0, record_id=153)>,\n",
       " <CreditTrx(credit_trx_id=154, credit_trx_date=2018-01-01, credit_trx_type=Purchase, credit_value=-1.0, credit_saldo=-154.0, record_id=154)>,\n",
       " <CreditTrx(credit_trx_id=155, credit_trx_date=2018-01-01, credit_trx_type=Purchase, credit_value=-1.0, credit_saldo=-155.0, record_id=155)>,\n",
       " <CreditTrx(credit_trx_id=156, credit_trx_date=2018-02-01, credit_trx_type=Purchase, credit_value=-1.0, credit_saldo=-156.0, record_id=156)>,\n",
       " <CreditTrx(credit_trx_id=157, credit_trx_date=2018-02-01, credit_trx_type=Purchase, credit_value=-1.0, credit_saldo=-157.0, record_id=157)>,\n",
       " <CreditTrx(credit_trx_id=158, credit_trx_date=2018-02-01, credit_trx_type=Purchase, credit_value=-1.0, credit_saldo=-158.0, record_id=158)>,\n",
       " <CreditTrx(credit_trx_id=159, credit_trx_date=2018-02-01, credit_trx_type=Purchase, credit_value=-1.0, credit_saldo=-159.0, record_id=159)>,\n",
       " <CreditTrx(credit_trx_id=160, credit_trx_date=2018-02-01, credit_trx_type=Purchase, credit_value=-1.0, credit_saldo=-160.0, record_id=160)>,\n",
       " <CreditTrx(credit_trx_id=161, credit_trx_date=2018-02-01, credit_trx_type=Purchase, credit_value=-1.0, credit_saldo=-161.0, record_id=161)>,\n",
       " <CreditTrx(credit_trx_id=162, credit_trx_date=2018-02-01, credit_trx_type=Purchase, credit_value=-1.0, credit_saldo=-162.0, record_id=162)>,\n",
       " <CreditTrx(credit_trx_id=163, credit_trx_date=2018-02-01, credit_trx_type=Purchase, credit_value=-1.0, credit_saldo=-163.0, record_id=163)>,\n",
       " <CreditTrx(credit_trx_id=164, credit_trx_date=2018-02-01, credit_trx_type=Purchase, credit_value=-1.0, credit_saldo=-164.0, record_id=164)>,\n",
       " <CreditTrx(credit_trx_id=165, credit_trx_date=2018-02-01, credit_trx_type=Purchase, credit_value=-1.0, credit_saldo=-165.0, record_id=165)>,\n",
       " <CreditTrx(credit_trx_id=166, credit_trx_date=2018-02-01, credit_trx_type=Purchase, credit_value=-1.0, credit_saldo=-166.0, record_id=166)>,\n",
       " <CreditTrx(credit_trx_id=167, credit_trx_date=2018-03-01, credit_trx_type=Purchase, credit_value=-1.0, credit_saldo=-167.0, record_id=167)>,\n",
       " <CreditTrx(credit_trx_id=168, credit_trx_date=2018-03-01, credit_trx_type=Purchase, credit_value=-1.0, credit_saldo=-168.0, record_id=168)>,\n",
       " <CreditTrx(credit_trx_id=169, credit_trx_date=2018-04-01, credit_trx_type=Purchase, credit_value=-1.0, credit_saldo=-169.0, record_id=169)>,\n",
       " <CreditTrx(credit_trx_id=170, credit_trx_date=2018-04-01, credit_trx_type=Purchase, credit_value=-1.0, credit_saldo=-170.0, record_id=170)>,\n",
       " <CreditTrx(credit_trx_id=171, credit_trx_date=2018-04-01, credit_trx_type=Purchase, credit_value=-1.0, credit_saldo=-171.0, record_id=171)>,\n",
       " <CreditTrx(credit_trx_id=172, credit_trx_date=2018-04-01, credit_trx_type=Purchase, credit_value=-1.0, credit_saldo=-172.0, record_id=172)>,\n",
       " <CreditTrx(credit_trx_id=173, credit_trx_date=2018-05-01, credit_trx_type=Purchase, credit_value=-1.0, credit_saldo=-173.0, record_id=173)>,\n",
       " <CreditTrx(credit_trx_id=174, credit_trx_date=2018-05-01, credit_trx_type=Purchase, credit_value=-1.0, credit_saldo=-174.0, record_id=174)>,\n",
       " <CreditTrx(credit_trx_id=175, credit_trx_date=2018-05-01, credit_trx_type=Purchase, credit_value=-1.0, credit_saldo=-175.0, record_id=175)>,\n",
       " <CreditTrx(credit_trx_id=176, credit_trx_date=2018-06-01, credit_trx_type=Purchase, credit_value=-1.0, credit_saldo=-176.0, record_id=176)>,\n",
       " <CreditTrx(credit_trx_id=177, credit_trx_date=2018-06-01, credit_trx_type=Purchase, credit_value=-1.0, credit_saldo=-177.0, record_id=177)>,\n",
       " <CreditTrx(credit_trx_id=178, credit_trx_date=2018-06-01, credit_trx_type=Purchase, credit_value=-1.0, credit_saldo=-178.0, record_id=178)>,\n",
       " <CreditTrx(credit_trx_id=179, credit_trx_date=2018-06-01, credit_trx_type=Purchase, credit_value=-1.0, credit_saldo=-179.0, record_id=179)>,\n",
       " <CreditTrx(credit_trx_id=180, credit_trx_date=2018-06-01, credit_trx_type=Purchase, credit_value=-1.0, credit_saldo=-180.0, record_id=180)>,\n",
       " <CreditTrx(credit_trx_id=181, credit_trx_date=2018-07-01, credit_trx_type=Purchase, credit_value=-1.0, credit_saldo=-181.0, record_id=181)>,\n",
       " <CreditTrx(credit_trx_id=182, credit_trx_date=2018-07-01, credit_trx_type=Purchase, credit_value=-1.0, credit_saldo=-182.0, record_id=182)>,\n",
       " <CreditTrx(credit_trx_id=183, credit_trx_date=2018-07-01, credit_trx_type=Purchase, credit_value=-1.0, credit_saldo=-183.0, record_id=183)>,\n",
       " <CreditTrx(credit_trx_id=184, credit_trx_date=2018-07-01, credit_trx_type=Purchase, credit_value=-1.0, credit_saldo=-184.0, record_id=184)>,\n",
       " <CreditTrx(credit_trx_id=185, credit_trx_date=2018-08-01, credit_trx_type=Purchase, credit_value=-1.0, credit_saldo=-185.0, record_id=185)>,\n",
       " <CreditTrx(credit_trx_id=186, credit_trx_date=2018-08-01, credit_trx_type=Purchase, credit_value=-1.0, credit_saldo=-186.0, record_id=186)>,\n",
       " <CreditTrx(credit_trx_id=187, credit_trx_date=2018-08-01, credit_trx_type=Purchase, credit_value=-1.0, credit_saldo=-187.0, record_id=187)>,\n",
       " <CreditTrx(credit_trx_id=188, credit_trx_date=2018-09-01, credit_trx_type=Purchase, credit_value=-1.0, credit_saldo=-188.0, record_id=188)>,\n",
       " <CreditTrx(credit_trx_id=189, credit_trx_date=2018-09-01, credit_trx_type=Purchase, credit_value=-1.0, credit_saldo=-189.0, record_id=189)>,\n",
       " <CreditTrx(credit_trx_id=190, credit_trx_date=2018-10-01, credit_trx_type=Purchase, credit_value=-1.0, credit_saldo=-190.0, record_id=190)>,\n",
       " <CreditTrx(credit_trx_id=191, credit_trx_date=2018-10-01, credit_trx_type=Purchase, credit_value=-1.0, credit_saldo=-191.0, record_id=191)>,\n",
       " <CreditTrx(credit_trx_id=192, credit_trx_date=2018-10-01, credit_trx_type=Purchase, credit_value=-1.0, credit_saldo=-192.0, record_id=192)>,\n",
       " <CreditTrx(credit_trx_id=193, credit_trx_date=2018-10-01, credit_trx_type=Purchase, credit_value=-1.0, credit_saldo=-193.0, record_id=193)>,\n",
       " <CreditTrx(credit_trx_id=194, credit_trx_date=2018-10-01, credit_trx_type=Purchase, credit_value=-1.0, credit_saldo=-194.0, record_id=194)>,\n",
       " <CreditTrx(credit_trx_id=195, credit_trx_date=2018-10-01, credit_trx_type=Purchase, credit_value=-1.0, credit_saldo=-195.0, record_id=195)>,\n",
       " <CreditTrx(credit_trx_id=196, credit_trx_date=2018-10-01, credit_trx_type=Purchase, credit_value=-1.0, credit_saldo=-196.0, record_id=196)>,\n",
       " <CreditTrx(credit_trx_id=197, credit_trx_date=2018-10-01, credit_trx_type=Purchase, credit_value=-1.0, credit_saldo=-197.0, record_id=197)>,\n",
       " <CreditTrx(credit_trx_id=198, credit_trx_date=2018-10-01, credit_trx_type=Purchase, credit_value=-1.0, credit_saldo=-198.0, record_id=198)>,\n",
       " <CreditTrx(credit_trx_id=199, credit_trx_date=2018-10-01, credit_trx_type=Purchase, credit_value=-1.0, credit_saldo=-199.0, record_id=199)>,\n",
       " <CreditTrx(credit_trx_id=200, credit_trx_date=2018-10-01, credit_trx_type=Purchase, credit_value=-1.0, credit_saldo=-200.0, record_id=200)>,\n",
       " <CreditTrx(credit_trx_id=201, credit_trx_date=2018-10-01, credit_trx_type=Purchase, credit_value=-1.0, credit_saldo=-201.0, record_id=201)>,\n",
       " <CreditTrx(credit_trx_id=202, credit_trx_date=2018-12-01, credit_trx_type=Purchase, credit_value=-1.0, credit_saldo=-202.0, record_id=202)>,\n",
       " <CreditTrx(credit_trx_id=203, credit_trx_date=2018-12-01, credit_trx_type=Purchase, credit_value=-1.0, credit_saldo=-203.0, record_id=203)>,\n",
       " <CreditTrx(credit_trx_id=204, credit_trx_date=2018-12-01, credit_trx_type=Purchase, credit_value=-1.0, credit_saldo=-204.0, record_id=204)>,\n",
       " <CreditTrx(credit_trx_id=205, credit_trx_date=2018-12-01, credit_trx_type=Purchase, credit_value=-1.0, credit_saldo=-205.0, record_id=205)>,\n",
       " <CreditTrx(credit_trx_id=206, credit_trx_date=2018-12-01, credit_trx_type=Purchase, credit_value=-1.0, credit_saldo=-206.0, record_id=206)>,\n",
       " <CreditTrx(credit_trx_id=207, credit_trx_date=2019-01-01, credit_trx_type=Purchase, credit_value=-1.0, credit_saldo=-207.0, record_id=207)>,\n",
       " <CreditTrx(credit_trx_id=208, credit_trx_date=2019-01-01, credit_trx_type=Purchase, credit_value=-1.0, credit_saldo=-208.0, record_id=208)>,\n",
       " <CreditTrx(credit_trx_id=209, credit_trx_date=2019-02-01, credit_trx_type=Purchase, credit_value=-1.0, credit_saldo=-209.0, record_id=209)>,\n",
       " <CreditTrx(credit_trx_id=210, credit_trx_date=2019-02-01, credit_trx_type=Purchase, credit_value=-1.0, credit_saldo=-210.0, record_id=210)>,\n",
       " <CreditTrx(credit_trx_id=211, credit_trx_date=2019-02-01, credit_trx_type=Purchase, credit_value=-1.0, credit_saldo=-211.0, record_id=211)>,\n",
       " <CreditTrx(credit_trx_id=212, credit_trx_date=2019-03-01, credit_trx_type=Purchase, credit_value=-1.0, credit_saldo=-212.0, record_id=212)>,\n",
       " <CreditTrx(credit_trx_id=213, credit_trx_date=2019-03-01, credit_trx_type=Purchase, credit_value=-1.0, credit_saldo=-213.0, record_id=213)>,\n",
       " <CreditTrx(credit_trx_id=214, credit_trx_date=2019-03-01, credit_trx_type=Purchase, credit_value=-1.0, credit_saldo=-214.0, record_id=214)>,\n",
       " <CreditTrx(credit_trx_id=215, credit_trx_date=2019-03-01, credit_trx_type=Purchase, credit_value=-1.0, credit_saldo=-215.0, record_id=215)>,\n",
       " <CreditTrx(credit_trx_id=216, credit_trx_date=2019-03-01, credit_trx_type=Purchase, credit_value=-1.0, credit_saldo=-216.0, record_id=216)>,\n",
       " <CreditTrx(credit_trx_id=217, credit_trx_date=2019-03-01, credit_trx_type=Purchase, credit_value=-1.0, credit_saldo=-217.0, record_id=217)>,\n",
       " <CreditTrx(credit_trx_id=218, credit_trx_date=2019-04-01, credit_trx_type=Purchase, credit_value=-1.0, credit_saldo=-218.0, record_id=218)>,\n",
       " <CreditTrx(credit_trx_id=219, credit_trx_date=2019-04-01, credit_trx_type=Purchase, credit_value=-1.0, credit_saldo=-219.0, record_id=219)>,\n",
       " <CreditTrx(credit_trx_id=220, credit_trx_date=2019-05-01, credit_trx_type=Purchase, credit_value=-1.0, credit_saldo=-220.0, record_id=220)>,\n",
       " <CreditTrx(credit_trx_id=221, credit_trx_date=2019-05-01, credit_trx_type=Purchase, credit_value=-1.0, credit_saldo=-221.0, record_id=221)>,\n",
       " <CreditTrx(credit_trx_id=222, credit_trx_date=2019-06-01, credit_trx_type=Purchase, credit_value=-1.0, credit_saldo=-222.0, record_id=222)>,\n",
       " <CreditTrx(credit_trx_id=223, credit_trx_date=2019-06-01, credit_trx_type=Purchase, credit_value=-1.0, credit_saldo=-223.0, record_id=223)>,\n",
       " <CreditTrx(credit_trx_id=224, credit_trx_date=2019-06-01, credit_trx_type=Purchase, credit_value=-1.0, credit_saldo=-224.0, record_id=224)>,\n",
       " <CreditTrx(credit_trx_id=225, credit_trx_date=2019-07-01, credit_trx_type=Purchase, credit_value=-1.0, credit_saldo=-225.0, record_id=225)>,\n",
       " <CreditTrx(credit_trx_id=226, credit_trx_date=2019-07-01, credit_trx_type=Purchase, credit_value=-1.0, credit_saldo=-226.0, record_id=226)>,\n",
       " <CreditTrx(credit_trx_id=227, credit_trx_date=2019-07-01, credit_trx_type=Purchase, credit_value=-1.0, credit_saldo=-227.0, record_id=227)>,\n",
       " <CreditTrx(credit_trx_id=228, credit_trx_date=2019-07-01, credit_trx_type=Purchase, credit_value=-1.0, credit_saldo=-228.0, record_id=228)>,\n",
       " <CreditTrx(credit_trx_id=229, credit_trx_date=2019-08-01, credit_trx_type=Purchase, credit_value=-1.0, credit_saldo=-229.0, record_id=229)>,\n",
       " <CreditTrx(credit_trx_id=230, credit_trx_date=2019-08-01, credit_trx_type=Purchase, credit_value=-1.0, credit_saldo=-230.0, record_id=230)>,\n",
       " <CreditTrx(credit_trx_id=231, credit_trx_date=2019-08-01, credit_trx_type=Purchase, credit_value=-1.0, credit_saldo=-231.0, record_id=231)>,\n",
       " <CreditTrx(credit_trx_id=232, credit_trx_date=2019-08-01, credit_trx_type=Purchase, credit_value=-1.0, credit_saldo=-232.0, record_id=232)>,\n",
       " <CreditTrx(credit_trx_id=233, credit_trx_date=2019-08-01, credit_trx_type=Purchase, credit_value=-1.0, credit_saldo=-233.0, record_id=233)>,\n",
       " <CreditTrx(credit_trx_id=234, credit_trx_date=2019-09-01, credit_trx_type=Purchase, credit_value=-1.0, credit_saldo=-234.0, record_id=234)>,\n",
       " <CreditTrx(credit_trx_id=235, credit_trx_date=2019-09-01, credit_trx_type=Purchase, credit_value=-1.0, credit_saldo=-235.0, record_id=235)>,\n",
       " <CreditTrx(credit_trx_id=236, credit_trx_date=2019-09-01, credit_trx_type=Purchase, credit_value=-1.0, credit_saldo=-236.0, record_id=236)>,\n",
       " <CreditTrx(credit_trx_id=237, credit_trx_date=2019-09-01, credit_trx_type=Purchase, credit_value=-1.0, credit_saldo=-237.0, record_id=237)>,\n",
       " <CreditTrx(credit_trx_id=238, credit_trx_date=2019-11-01, credit_trx_type=Purchase, credit_value=-1.0, credit_saldo=-238.0, record_id=238)>,\n",
       " <CreditTrx(credit_trx_id=239, credit_trx_date=2019-11-01, credit_trx_type=Purchase, credit_value=-1.0, credit_saldo=-239.0, record_id=239)>,\n",
       " <CreditTrx(credit_trx_id=240, credit_trx_date=2019-12-01, credit_trx_type=Purchase, credit_value=-1.0, credit_saldo=-240.0, record_id=240)>,\n",
       " <CreditTrx(credit_trx_id=241, credit_trx_date=2019-12-01, credit_trx_type=Purchase, credit_value=-1.0, credit_saldo=-241.0, record_id=241)>,\n",
       " <CreditTrx(credit_trx_id=242, credit_trx_date=2019-12-01, credit_trx_type=Purchase, credit_value=-1.0, credit_saldo=-242.0, record_id=242)>,\n",
       " <CreditTrx(credit_trx_id=243, credit_trx_date=2020-01-01, credit_trx_type=Purchase, credit_value=-1.0, credit_saldo=-243.0, record_id=243)>,\n",
       " <CreditTrx(credit_trx_id=244, credit_trx_date=2020-01-01, credit_trx_type=Purchase, credit_value=-1.0, credit_saldo=-244.0, record_id=244)>,\n",
       " <CreditTrx(credit_trx_id=245, credit_trx_date=2020-01-01, credit_trx_type=Purchase, credit_value=-1.0, credit_saldo=-245.0, record_id=245)>,\n",
       " <CreditTrx(credit_trx_id=246, credit_trx_date=2020-01-01, credit_trx_type=Purchase, credit_value=-1.0, credit_saldo=-246.0, record_id=246)>,\n",
       " <CreditTrx(credit_trx_id=247, credit_trx_date=2020-02-01, credit_trx_type=Purchase, credit_value=-1.0, credit_saldo=-247.0, record_id=247)>,\n",
       " <CreditTrx(credit_trx_id=248, credit_trx_date=2020-02-01, credit_trx_type=Purchase, credit_value=-1.0, credit_saldo=-248.0, record_id=248)>,\n",
       " <CreditTrx(credit_trx_id=249, credit_trx_date=2020-02-01, credit_trx_type=Purchase, credit_value=-1.0, credit_saldo=-249.0, record_id=249)>,\n",
       " <CreditTrx(credit_trx_id=250, credit_trx_date=2020-02-01, credit_trx_type=Purchase, credit_value=-1.0, credit_saldo=-250.0, record_id=250)>,\n",
       " <CreditTrx(credit_trx_id=251, credit_trx_date=2020-02-01, credit_trx_type=Purchase, credit_value=-1.0, credit_saldo=-251.0, record_id=251)>,\n",
       " <CreditTrx(credit_trx_id=252, credit_trx_date=2020-02-01, credit_trx_type=Purchase, credit_value=-1.0, credit_saldo=-252.0, record_id=252)>,\n",
       " <CreditTrx(credit_trx_id=253, credit_trx_date=2020-03-01, credit_trx_type=Purchase, credit_value=-1.0, credit_saldo=-253.0, record_id=253)>,\n",
       " <CreditTrx(credit_trx_id=254, credit_trx_date=2020-03-01, credit_trx_type=Purchase, credit_value=-1.0, credit_saldo=-254.0, record_id=254)>,\n",
       " <CreditTrx(credit_trx_id=255, credit_trx_date=2020-03-01, credit_trx_type=Purchase, credit_value=-1.0, credit_saldo=-255.0, record_id=255)>,\n",
       " <CreditTrx(credit_trx_id=256, credit_trx_date=2020-03-01, credit_trx_type=Purchase, credit_value=-1.0, credit_saldo=-256.0, record_id=256)>,\n",
       " <CreditTrx(credit_trx_id=257, credit_trx_date=2020-04-01, credit_trx_type=Purchase, credit_value=-1.0, credit_saldo=-257.0, record_id=257)>,\n",
       " <CreditTrx(credit_trx_id=258, credit_trx_date=2020-04-01, credit_trx_type=Purchase, credit_value=-1.0, credit_saldo=-258.0, record_id=258)>,\n",
       " <CreditTrx(credit_trx_id=259, credit_trx_date=2020-05-01, credit_trx_type=Purchase, credit_value=-1.0, credit_saldo=-259.0, record_id=259)>,\n",
       " <CreditTrx(credit_trx_id=260, credit_trx_date=2020-05-01, credit_trx_type=Purchase, credit_value=-1.0, credit_saldo=-260.0, record_id=260)>,\n",
       " <CreditTrx(credit_trx_id=261, credit_trx_date=2020-05-01, credit_trx_type=Purchase, credit_value=-1.0, credit_saldo=-261.0, record_id=261)>,\n",
       " <CreditTrx(credit_trx_id=262, credit_trx_date=2020-05-01, credit_trx_type=Purchase, credit_value=-1.0, credit_saldo=-262.0, record_id=262)>,\n",
       " <CreditTrx(credit_trx_id=263, credit_trx_date=2020-06-01, credit_trx_type=Purchase, credit_value=-1.0, credit_saldo=-263.0, record_id=263)>,\n",
       " <CreditTrx(credit_trx_id=264, credit_trx_date=2020-06-01, credit_trx_type=Purchase, credit_value=-1.0, credit_saldo=-264.0, record_id=264)>,\n",
       " <CreditTrx(credit_trx_id=265, credit_trx_date=2020-07-01, credit_trx_type=Purchase, credit_value=-1.0, credit_saldo=-265.0, record_id=265)>,\n",
       " <CreditTrx(credit_trx_id=266, credit_trx_date=2020-07-01, credit_trx_type=Purchase, credit_value=-1.0, credit_saldo=-266.0, record_id=266)>,\n",
       " <CreditTrx(credit_trx_id=267, credit_trx_date=2020-07-01, credit_trx_type=Purchase, credit_value=-1.0, credit_saldo=-267.0, record_id=267)>,\n",
       " <CreditTrx(credit_trx_id=268, credit_trx_date=2020-07-01, credit_trx_type=Purchase, credit_value=-1.0, credit_saldo=-268.0, record_id=268)>,\n",
       " <CreditTrx(credit_trx_id=269, credit_trx_date=2020-07-01, credit_trx_type=Purchase, credit_value=-1.0, credit_saldo=-269.0, record_id=269)>,\n",
       " <CreditTrx(credit_trx_id=270, credit_trx_date=2020-07-01, credit_trx_type=Purchase, credit_value=-1.0, credit_saldo=-270.0, record_id=270)>,\n",
       " <CreditTrx(credit_trx_id=271, credit_trx_date=2020-08-01, credit_trx_type=Purchase, credit_value=-1.0, credit_saldo=-271.0, record_id=271)>,\n",
       " <CreditTrx(credit_trx_id=272, credit_trx_date=2020-08-01, credit_trx_type=Purchase, credit_value=-1.0, credit_saldo=-272.0, record_id=272)>,\n",
       " <CreditTrx(credit_trx_id=273, credit_trx_date=2020-08-01, credit_trx_type=Purchase, credit_value=-1.0, credit_saldo=-273.0, record_id=273)>,\n",
       " <CreditTrx(credit_trx_id=274, credit_trx_date=2020-08-01, credit_trx_type=Purchase, credit_value=-1.0, credit_saldo=-274.0, record_id=274)>,\n",
       " <CreditTrx(credit_trx_id=275, credit_trx_date=2020-08-01, credit_trx_type=Purchase, credit_value=-1.0, credit_saldo=-275.0, record_id=275)>,\n",
       " <CreditTrx(credit_trx_id=276, credit_trx_date=2020-08-01, credit_trx_type=Purchase, credit_value=-1.0, credit_saldo=-276.0, record_id=276)>,\n",
       " <CreditTrx(credit_trx_id=277, credit_trx_date=2020-09-01, credit_trx_type=Purchase, credit_value=-1.0, credit_saldo=-277.0, record_id=277)>,\n",
       " <CreditTrx(credit_trx_id=278, credit_trx_date=2020-09-01, credit_trx_type=Purchase, credit_value=-1.0, credit_saldo=-278.0, record_id=278)>,\n",
       " <CreditTrx(credit_trx_id=279, credit_trx_date=2020-09-01, credit_trx_type=Purchase, credit_value=-1.0, credit_saldo=-279.0, record_id=279)>,\n",
       " <CreditTrx(credit_trx_id=280, credit_trx_date=2020-09-01, credit_trx_type=Purchase, credit_value=-1.0, credit_saldo=-280.0, record_id=280)>,\n",
       " <CreditTrx(credit_trx_id=281, credit_trx_date=2020-09-01, credit_trx_type=Purchase, credit_value=-1.0, credit_saldo=-281.0, record_id=281)>,\n",
       " <CreditTrx(credit_trx_id=282, credit_trx_date=2020-09-01, credit_trx_type=Purchase, credit_value=-1.0, credit_saldo=-282.0, record_id=282)>,\n",
       " <CreditTrx(credit_trx_id=283, credit_trx_date=2020-09-01, credit_trx_type=Purchase, credit_value=-1.0, credit_saldo=-283.0, record_id=283)>,\n",
       " <CreditTrx(credit_trx_id=284, credit_trx_date=2020-09-01, credit_trx_type=Purchase, credit_value=-1.0, credit_saldo=-284.0, record_id=284)>,\n",
       " <CreditTrx(credit_trx_id=285, credit_trx_date=2020-10-01, credit_trx_type=Purchase, credit_value=-1.0, credit_saldo=-285.0, record_id=285)>,\n",
       " <CreditTrx(credit_trx_id=286, credit_trx_date=2020-10-01, credit_trx_type=Purchase, credit_value=-1.0, credit_saldo=-286.0, record_id=286)>,\n",
       " <CreditTrx(credit_trx_id=287, credit_trx_date=2020-10-01, credit_trx_type=Purchase, credit_value=-1.0, credit_saldo=-287.0, record_id=287)>,\n",
       " <CreditTrx(credit_trx_id=288, credit_trx_date=2020-10-01, credit_trx_type=Purchase, credit_value=-1.0, credit_saldo=-288.0, record_id=288)>,\n",
       " <CreditTrx(credit_trx_id=289, credit_trx_date=2020-10-01, credit_trx_type=Purchase, credit_value=-1.0, credit_saldo=-289.0, record_id=289)>,\n",
       " <CreditTrx(credit_trx_id=290, credit_trx_date=2020-10-01, credit_trx_type=Purchase, credit_value=-1.0, credit_saldo=-290.0, record_id=290)>,\n",
       " <CreditTrx(credit_trx_id=291, credit_trx_date=2020-10-01, credit_trx_type=Purchase, credit_value=-1.0, credit_saldo=-291.0, record_id=291)>,\n",
       " <CreditTrx(credit_trx_id=292, credit_trx_date=2020-11-01, credit_trx_type=Purchase, credit_value=-1.0, credit_saldo=-292.0, record_id=292)>,\n",
       " <CreditTrx(credit_trx_id=293, credit_trx_date=2020-12-01, credit_trx_type=Purchase, credit_value=-1.0, credit_saldo=-293.0, record_id=293)>]"
      ]
     },
     "execution_count": 29,
     "metadata": {},
     "output_type": "execute_result"
    }
   ],
   "source": [
    "session.query(CreditTrx).all()"
   ]
  },
  {
   "cell_type": "code",
   "execution_count": null,
   "metadata": {},
   "outputs": [],
   "source": []
  }
 ],
 "metadata": {
  "hide_input": false,
  "kernelspec": {
   "display_name": "Python 3",
   "language": "python",
   "name": "python3"
  },
  "language_info": {
   "codemirror_mode": {
    "name": "ipython",
    "version": 3
   },
   "file_extension": ".py",
   "mimetype": "text/x-python",
   "name": "python",
   "nbconvert_exporter": "python",
   "pygments_lexer": "ipython3",
   "version": "3.8.3"
  },
  "toc": {
   "base_numbering": 1,
   "nav_menu": {},
   "number_sections": true,
   "sideBar": false,
   "skip_h1_title": true,
   "title_cell": "Table of Contents",
   "title_sidebar": "Contents",
   "toc_cell": false,
   "toc_position": {},
   "toc_section_display": true,
   "toc_window_display": false
  }
 },
 "nbformat": 4,
 "nbformat_minor": 4
}
