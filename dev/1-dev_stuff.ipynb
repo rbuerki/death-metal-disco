{
 "cells": [
  {
   "cell_type": "code",
   "execution_count": 1,
   "metadata": {
    "ExecuteTime": {
     "end_time": "2020-12-27T22:26:11.442655Z",
     "start_time": "2020-12-27T22:26:10.053007Z"
    }
   },
   "outputs": [],
   "source": [
    "import configparser\n",
    "import datetime as dt\n",
    "import sys\n",
    "import collections\n",
    "from pathlib import Path\n",
    "from typing import Union, Optional, List\n",
    "\n",
    "import codebook.EDA as EDA\n",
    "import codebook.clean as clean\n",
    "import numpy as np\n",
    "import pandas as pd\n",
    "import matplotlib.pyplot as plt\n",
    "import seaborn as sns\n",
    "import sqlalchemy"
   ]
  },
  {
   "cell_type": "code",
   "execution_count": 2,
   "metadata": {
    "ExecuteTime": {
     "end_time": "2020-12-27T22:26:11.622062Z",
     "start_time": "2020-12-27T22:26:11.442655Z"
    }
   },
   "outputs": [],
   "source": [
    "%load_ext autoreload\n",
    "%autoreload 2\n",
    "\n",
    "%matplotlib inline\n",
    "plt.style.use('raph-base')\n",
    "\n",
    "from IPython.core.interactiveshell import InteractiveShell\n",
    "InteractiveShell.ast_node_interactivity = 'all'\n",
    "\n",
    "pd.options.display.float_format = '{:,.2f}'.format\n",
    "pd.set_option('display.max_columns', 30)\n",
    "pd.set_option('display.expand_frame_repr', False)\n",
    "pd.set_option('max_colwidth', 800)\n",
    "\n",
    "np.random.seed(666)"
   ]
  },
  {
   "cell_type": "code",
   "execution_count": 3,
   "metadata": {
    "ExecuteTime": {
     "end_time": "2020-12-27T22:26:11.752063Z",
     "start_time": "2020-12-27T22:26:11.625065Z"
    }
   },
   "outputs": [
    {
     "data": {
      "text/plain": [
       "WindowsPath('C:/Users/r2d4/OneDrive/code/projects/20-02_disco/src')"
      ]
     },
     "execution_count": 3,
     "metadata": {},
     "output_type": "execute_result"
    }
   ],
   "source": [
    "Path.cwd().parent / 'src'"
   ]
  },
  {
   "cell_type": "code",
   "execution_count": 4,
   "metadata": {
    "ExecuteTime": {
     "end_time": "2020-12-27T22:26:11.987211Z",
     "start_time": "2020-12-27T22:26:11.756063Z"
    }
   },
   "outputs": [
    {
     "name": "stdout",
     "output_type": "stream",
     "text": [
      "<class 'sqlalchemy.ext.declarative.api.DeclarativeMeta'>\n"
     ]
    }
   ],
   "source": [
    "sys.path.append(str(Path.cwd().parent))\n",
    "\n",
    "from src.db_declaration import Base, Record\n",
    "from src import insert_record\n",
    "from src import utils"
   ]
  },
  {
   "cell_type": "code",
   "execution_count": 5,
   "metadata": {
    "ExecuteTime": {
     "end_time": "2020-12-27T22:26:12.122426Z",
     "start_time": "2020-12-27T22:26:11.990212Z"
    }
   },
   "outputs": [
    {
     "name": "stdout",
     "output_type": "stream",
     "text": [
      "C:\\Users\\r2d4\\miniconda3\\envs\\py3\\python.exe\n",
      "3.8.3 (default, May 19 2020, 06:50:17) [MSC v.1916 64 bit (AMD64)]\n",
      "sqlalchemy 1.3.17\n"
     ]
    }
   ],
   "source": [
    "print(sys.executable)\n",
    "print(sys.version)\n",
    "print(f'sqlalchemy {sqlalchemy.__version__}')"
   ]
  },
  {
   "cell_type": "markdown",
   "metadata": {
    "ExecuteTime": {
     "end_time": "2020-12-21T12:20:03.352983Z",
     "start_time": "2020-12-21T12:20:03.149529Z"
    }
   },
   "source": [
    "## Inititial Data Ingestion"
   ]
  },
  {
   "cell_type": "code",
   "execution_count": 6,
   "metadata": {
    "ExecuteTime": {
     "end_time": "2020-12-27T22:26:12.245427Z",
     "start_time": "2020-12-27T22:26:12.124426Z"
    }
   },
   "outputs": [],
   "source": [
    "CONFIG_PATH = Path.cwd().parent / \"config.cfg\""
   ]
  },
  {
   "cell_type": "markdown",
   "metadata": {
    "ExecuteTime": {
     "end_time": "2020-12-23T06:08:49.546499Z",
     "start_time": "2020-12-23T06:08:49.412497Z"
    }
   },
   "source": [
    "### Re-Create DB"
   ]
  },
  {
   "cell_type": "code",
   "execution_count": 7,
   "metadata": {
    "ExecuteTime": {
     "end_time": "2020-12-27T22:26:12.545868Z",
     "start_time": "2020-12-27T22:26:12.248426Z"
    }
   },
   "outputs": [
    {
     "name": "stdout",
     "output_type": "stream",
     "text": [
      "C:\\Users\\r2d4\\OneDrive\\code\\projects\\20-02_disco\\db_aka_discobase\\DiscoBase.db\n"
     ]
    }
   ],
   "source": [
    "path_to_db = utils.read_config_return_str(CONFIG_PATH, \"SQLITE\")\n",
    "engine = utils.create_engine(path_to_db)\n",
    "session = utils.create_session(engine)\n",
    "utils.create_DB_anew(engine, Base)"
   ]
  },
  {
   "cell_type": "markdown",
   "metadata": {},
   "source": [
    "### \"Bulk\" Load Data Into DB - NOT WORKING WITH TABLE RELATIONSHIPS\n",
    "\n",
    "This is a fast approach using sqlalchemy core language, the problem is it copies the data from a df into a table, but does not take care of the relationships - the foreign keys are not created.\n",
    "\n",
    "Btw: This is not the really fast bulk load with `conn.executemany()`, see [here](https://stackoverflow.com/a/32239587/13797028)."
   ]
  },
  {
   "cell_type": "code",
   "execution_count": 8,
   "metadata": {
    "ExecuteTime": {
     "end_time": "2020-12-27T22:26:12.905863Z",
     "start_time": "2020-12-27T22:26:12.550868Z"
    }
   },
   "outputs": [],
   "source": [
    "def load_albums_from_xlsx(\n",
    "    filepath: Union[Path, str], genres: Optional[List] = None\n",
    ") -> pd.DataFrame:\n",
    "    \"\"\"Load the original album collection file into a dataframe.\n",
    "    You can specify a list of genres you want to include\n",
    "    (defaults to None).\n",
    "    \"\"\"\n",
    "    df = pd.read_excel(filepath, engine=\"openpyxl\")\n",
    "    if genres:\n",
    "        df = df[df[\"Genre\"].isin(genres)]\n",
    "    return df"
   ]
  },
  {
   "cell_type": "markdown",
   "metadata": {},
   "source": [
    "**TODO:** see the cleaning, this has to be formalized in a function"
   ]
  },
  {
   "cell_type": "code",
   "execution_count": 9,
   "metadata": {
    "ExecuteTime": {
     "end_time": "2020-12-27T22:26:13.732173Z",
     "start_time": "2020-12-27T22:26:12.910865Z"
    }
   },
   "outputs": [],
   "source": [
    "path_to_collection = utils.read_config_return_str(CONFIG_PATH, \"COLLECTION\")\n",
    "collection_df = load_albums_from_xlsx(path_to_collection)\n",
    "collection_df = clean.prettify_column_names(collection_df)\n",
    "collection_df.dropna(thresh=8, inplace=True)\n",
    "collection_df[\"purchase_date\"] = collection_df[\"purchase_date\"].dt.date.astype(str)\n",
    "collection_df[\"number\"] = collection_df[\"number\"].astype(str)\n",
    "# collection_df[\"digitized\"] = collection_df[\"digitized\"].map({True: 1, False: 0}).astype(int)\n",
    "collection_df[\"label\"].fillna(\"NA\", inplace=True)  # because it creates a foreign key\n"
   ]
  },
  {
   "cell_type": "code",
   "execution_count": 10,
   "metadata": {
    "ExecuteTime": {
     "end_time": "2020-12-27T22:26:13.890547Z",
     "start_time": "2020-12-27T22:26:13.732173Z"
    }
   },
   "outputs": [
    {
     "data": {
      "text/plain": [
       "(293, 15)"
      ]
     },
     "execution_count": 10,
     "metadata": {},
     "output_type": "execute_result"
    },
    {
     "name": "stdout",
     "output_type": "stream",
     "text": [
      "<class 'pandas.core.frame.DataFrame'>\n",
      "Int64Index: 293 entries, 0 to 292\n",
      "Data columns (total 15 columns):\n",
      " #   Column         Non-Null Count  Dtype  \n",
      "---  ------         --------------  -----  \n",
      " 0   active         293 non-null    float64\n",
      " 1   artist         293 non-null    object \n",
      " 2   title          293 non-null    object \n",
      " 3   format         293 non-null    object \n",
      " 4   year           293 non-null    float64\n",
      " 5   genre          293 non-null    object \n",
      " 6   price          293 non-null    float64\n",
      " 7   purchase_date  293 non-null    object \n",
      " 8   vinyl_color    197 non-null    object \n",
      " 9   lim_edition    207 non-null    object \n",
      " 10  number         293 non-null    object \n",
      " 11  label          293 non-null    object \n",
      " 12  digitized      293 non-null    object \n",
      " 13  remarks        72 non-null     object \n",
      " 14  rating         101 non-null    float64\n",
      "dtypes: float64(4), object(11)\n",
      "memory usage: 36.6+ KB\n"
     ]
    }
   ],
   "source": [
    "collection_df.shape\n",
    "collection_df.info()"
   ]
  },
  {
   "cell_type": "code",
   "execution_count": 11,
   "metadata": {
    "ExecuteTime": {
     "end_time": "2020-12-27T22:26:14.435688Z",
     "start_time": "2020-12-27T22:26:13.893548Z"
    }
   },
   "outputs": [
    {
     "data": {
      "text/html": [
       "<style  type=\"text/css\" >\n",
       "</style><table id=\"T_87b5c20c_4892_11eb_9a2b_60f67737a0fe\" ><thead>    <tr>        <th class=\"blank level0\" ></th>        <th class=\"col_heading level0 col0\" >total</th>        <th class=\"col_heading level0 col1\" >prop</th>        <th class=\"col_heading level0 col2\" >dtype</th>    </tr></thead><tbody>\n",
       "                <tr>\n",
       "                        <th id=\"T_87b5c20c_4892_11eb_9a2b_60f67737a0felevel0_row0\" class=\"row_heading level0 row0\" >remarks</th>\n",
       "                        <td id=\"T_87b5c20c_4892_11eb_9a2b_60f67737a0ferow0_col0\" class=\"data row0 col0\" >221</td>\n",
       "                        <td id=\"T_87b5c20c_4892_11eb_9a2b_60f67737a0ferow0_col1\" class=\"data row0 col1\" >75.4%</td>\n",
       "                        <td id=\"T_87b5c20c_4892_11eb_9a2b_60f67737a0ferow0_col2\" class=\"data row0 col2\" >object</td>\n",
       "            </tr>\n",
       "            <tr>\n",
       "                        <th id=\"T_87b5c20c_4892_11eb_9a2b_60f67737a0felevel0_row1\" class=\"row_heading level0 row1\" >rating</th>\n",
       "                        <td id=\"T_87b5c20c_4892_11eb_9a2b_60f67737a0ferow1_col0\" class=\"data row1 col0\" >192</td>\n",
       "                        <td id=\"T_87b5c20c_4892_11eb_9a2b_60f67737a0ferow1_col1\" class=\"data row1 col1\" >65.5%</td>\n",
       "                        <td id=\"T_87b5c20c_4892_11eb_9a2b_60f67737a0ferow1_col2\" class=\"data row1 col2\" >float64</td>\n",
       "            </tr>\n",
       "            <tr>\n",
       "                        <th id=\"T_87b5c20c_4892_11eb_9a2b_60f67737a0felevel0_row2\" class=\"row_heading level0 row2\" >vinyl_color</th>\n",
       "                        <td id=\"T_87b5c20c_4892_11eb_9a2b_60f67737a0ferow2_col0\" class=\"data row2 col0\" >96</td>\n",
       "                        <td id=\"T_87b5c20c_4892_11eb_9a2b_60f67737a0ferow2_col1\" class=\"data row2 col1\" >32.8%</td>\n",
       "                        <td id=\"T_87b5c20c_4892_11eb_9a2b_60f67737a0ferow2_col2\" class=\"data row2 col2\" >object</td>\n",
       "            </tr>\n",
       "            <tr>\n",
       "                        <th id=\"T_87b5c20c_4892_11eb_9a2b_60f67737a0felevel0_row3\" class=\"row_heading level0 row3\" >lim_edition</th>\n",
       "                        <td id=\"T_87b5c20c_4892_11eb_9a2b_60f67737a0ferow3_col0\" class=\"data row3 col0\" >86</td>\n",
       "                        <td id=\"T_87b5c20c_4892_11eb_9a2b_60f67737a0ferow3_col1\" class=\"data row3 col1\" >29.4%</td>\n",
       "                        <td id=\"T_87b5c20c_4892_11eb_9a2b_60f67737a0ferow3_col2\" class=\"data row3 col2\" >object</td>\n",
       "            </tr>\n",
       "    </tbody></table>"
      ],
      "text/plain": [
       "<pandas.io.formats.style.Styler at 0x24c9e6d40a0>"
      ]
     },
     "execution_count": 11,
     "metadata": {},
     "output_type": "execute_result"
    }
   ],
   "source": [
    "EDA.display_nan(collection_df)"
   ]
  },
  {
   "cell_type": "code",
   "execution_count": 12,
   "metadata": {
    "ExecuteTime": {
     "end_time": "2020-12-27T22:26:14.823899Z",
     "start_time": "2020-12-27T22:26:14.437687Z"
    }
   },
   "outputs": [
    {
     "data": {
      "image/png": "[encoded data removed]",
      "text/plain": [
       "<Figure size 1008x432 with 1 Axes>"
      ]
     },
     "metadata": {},
     "output_type": "display_data"
    }
   ],
   "source": [
    "EDA.plot_nan(collection_df)"
   ]
  },
  {
   "cell_type": "code",
   "execution_count": 13,
   "metadata": {
    "ExecuteTime": {
     "end_time": "2020-12-27T22:26:14.986864Z",
     "start_time": "2020-12-27T22:26:14.826866Z"
    }
   },
   "outputs": [
    {
     "data": {
      "text/plain": [
       "{'active': 1.0,\n",
       " 'artist': 'Living Gate',\n",
       " 'title': 'Death Lust',\n",
       " 'format': 'MLP',\n",
       " 'year': 2020.0,\n",
       " 'genre': 'Death Metal',\n",
       " 'price': 20.0,\n",
       " 'purchase_date': '2020-07-01',\n",
       " 'vinyl_color': 'milky clear with blood red, black and white splatter',\n",
       " 'lim_edition': 250,\n",
       " 'number': 'nan',\n",
       " 'label': 'Relapse Records',\n",
       " 'digitized': True,\n",
       " 'remarks': 'warped, etched on B-Side',\n",
       " 'rating': 8.0}"
      ]
     },
     "execution_count": 13,
     "metadata": {},
     "output_type": "execute_result"
    }
   ],
   "source": [
    "test_record = collection_df.to_dict(\"records\")[-30]\n",
    "test_record"
   ]
  },
  {
   "cell_type": "code",
   "execution_count": 14,
   "metadata": {
    "ExecuteTime": {
     "end_time": "2020-12-27T22:26:15.146867Z",
     "start_time": "2020-12-27T22:26:14.989865Z"
    }
   },
   "outputs": [],
   "source": [
    "def insert_df_with_sqlalchemy_core(df, table_class, engine):\n",
    "    start = time.time()\n",
    "    engine.execute(\n",
    "        table_class.__table__.insert(),\n",
    "        [x for x in df.to_dict(\"records\")]\n",
    "    )\n",
    "    end = time.time()\n",
    "    print(\"SQLAlchemy Core: Insert {0} records in {1} seconds\".format(\n",
    "        str(len(df)), str(end - start)\n",
    "        )\n",
    "     )"
   ]
  },
  {
   "cell_type": "code",
   "execution_count": 15,
   "metadata": {
    "ExecuteTime": {
     "end_time": "2020-12-27T22:26:15.440864Z",
     "start_time": "2020-12-27T22:26:15.149863Z"
    }
   },
   "outputs": [
    {
     "name": "stdout",
     "output_type": "stream",
     "text": [
      "SQLAlchemy Core: Insert 293 records in 0.07899785041809082 seconds\n"
     ]
    }
   ],
   "source": [
    "import time\n",
    "\n",
    "insert_df_with_sqlalchemy_core(collection_df, Record, engine)"
   ]
  },
  {
   "cell_type": "code",
   "execution_count": 16,
   "metadata": {
    "ExecuteTime": {
     "end_time": "2020-12-27T22:26:15.617866Z",
     "start_time": "2020-12-27T22:26:15.444867Z"
    }
   },
   "outputs": [
    {
     "data": {
      "text/plain": [
       "[Column('record_id', INTEGER(), table=<records>, primary_key=True, nullable=False),\n",
       " Column('artist_id', INTEGER(), ForeignKey('artists.artist_id'), table=<records>),\n",
       " Column('title', TEXT(), table=<records>, nullable=False),\n",
       " Column('genre_id', INTEGER(), ForeignKey('genres.genre_id'), table=<records>),\n",
       " Column('label', INTEGER(), ForeignKey('labels.label_id'), table=<records>),\n",
       " Column('year', INTEGER(), table=<records>),\n",
       " Column('format_id', INTEGER(), ForeignKey('formats.format_id'), table=<records>),\n",
       " Column('vinyl_color', TEXT(), table=<records>),\n",
       " Column('lim_edition', TEXT(), table=<records>),\n",
       " Column('number', TEXT(), table=<records>),\n",
       " Column('remarks', TEXT(), table=<records>),\n",
       " Column('purchase_date', TEXT(), table=<records>, nullable=False),\n",
       " Column('price', REAL(), table=<records>, nullable=False),\n",
       " Column('digitized', INTEGER(), table=<records>, nullable=False),\n",
       " Column('rating', INTEGER(), table=<records>),\n",
       " Column('active', INTEGER(), table=<records>, nullable=False)]"
      ]
     },
     "execution_count": 16,
     "metadata": {},
     "output_type": "execute_result"
    }
   ],
   "source": [
    "list(Record.__table__.columns)"
   ]
  },
  {
   "cell_type": "code",
   "execution_count": 17,
   "metadata": {
    "ExecuteTime": {
     "end_time": "2020-12-27T22:26:15.923865Z",
     "start_time": "2020-12-27T22:26:15.620863Z"
    }
   },
   "outputs": [],
   "source": [
    "# Reset DB\n",
    "utils.create_DB_anew(engine, Base)"
   ]
  },
  {
   "cell_type": "markdown",
   "metadata": {},
   "source": [
    "## Test \"add_new_record\"\n",
    "\n",
    "**TODO**: Do I have to loop? Using apply only after all is done would be more efficient"
   ]
  },
  {
   "cell_type": "code",
   "execution_count": 18,
   "metadata": {
    "ExecuteTime": {
     "end_time": "2020-12-27T22:26:16.360865Z",
     "start_time": "2020-12-27T22:26:15.928864Z"
    }
   },
   "outputs": [],
   "source": [
    "insert_record.add_new_record(session, test_record)"
   ]
  },
  {
   "cell_type": "code",
   "execution_count": 19,
   "metadata": {
    "ExecuteTime": {
     "end_time": "2020-12-27T22:26:16.685863Z",
     "start_time": "2020-12-27T22:26:16.363866Z"
    }
   },
   "outputs": [
    {
     "data": {
      "text/plain": [
       "{'active': 1.0,\n",
       " 'artist': 'Living Gate',\n",
       " 'title': 'Death Lust',\n",
       " 'format': 'MLP',\n",
       " 'year': 2020.0,\n",
       " 'genre': 'Death Metal',\n",
       " 'price': 20.0,\n",
       " 'purchase_date': '2020-07-01',\n",
       " 'vinyl_color': 'milky clear with blood red, black and white splatter',\n",
       " 'lim_edition': 250,\n",
       " 'number': 'nan',\n",
       " 'label': 'Relapse Records',\n",
       " 'digitized': True,\n",
       " 'remarks': 'warped, etched on B-Side',\n",
       " 'rating': 8.0}"
      ]
     },
     "execution_count": 19,
     "metadata": {},
     "output_type": "execute_result"
    }
   ],
   "source": [
    "test_record"
   ]
  },
  {
   "cell_type": "markdown",
   "metadata": {
    "ExecuteTime": {
     "end_time": "2020-12-23T21:50:04.810370Z",
     "start_time": "2020-12-23T21:50:04.664351Z"
    }
   },
   "source": [
    "### Add all records\n",
    "\n",
    "**TODO:** Can I apply()?"
   ]
  },
  {
   "cell_type": "code",
   "execution_count": 20,
   "metadata": {
    "ExecuteTime": {
     "end_time": "2020-12-27T22:26:16.848863Z",
     "start_time": "2020-12-27T22:26:16.689865Z"
    }
   },
   "outputs": [],
   "source": [
    "def insert_df_with_sqlalchemy_orm(session, df):\n",
    "    for x in df.to_dict(\"records\"):\n",
    "        insert_record.add_new_record(session, x)"
   ]
  },
  {
   "cell_type": "code",
   "execution_count": 21,
   "metadata": {
    "ExecuteTime": {
     "end_time": "2020-12-27T22:26:23.804310Z",
     "start_time": "2020-12-27T22:26:16.850862Z"
    }
   },
   "outputs": [
    {
     "name": "stdout",
     "output_type": "stream",
     "text": [
      "Record 'Death Lust' by Living Gate already exists, insert skipped.\n"
     ]
    }
   ],
   "source": [
    "insert_df_with_sqlalchemy_orm(session, collection_df)"
   ]
  },
  {
   "cell_type": "markdown",
   "metadata": {},
   "source": [
    "## Query DB"
   ]
  },
  {
   "cell_type": "code",
   "execution_count": 22,
   "metadata": {
    "ExecuteTime": {
     "end_time": "2020-12-27T22:26:24.258235Z",
     "start_time": "2020-12-27T22:26:23.804310Z"
    }
   },
   "outputs": [
    {
     "data": {
      "text/plain": [
       "293"
      ]
     },
     "execution_count": 22,
     "metadata": {},
     "output_type": "execute_result"
    }
   ],
   "source": [
    "session.query(Record).count()"
   ]
  },
  {
   "cell_type": "code",
   "execution_count": 23,
   "metadata": {
    "ExecuteTime": {
     "end_time": "2020-12-27T22:26:24.642234Z",
     "start_time": "2020-12-27T22:26:24.267238Z"
    }
   },
   "outputs": [
    {
     "data": {
      "text/plain": [
       "<Record(record_id=1 title=Death Lust artist_id=1)>"
      ]
     },
     "execution_count": 23,
     "metadata": {},
     "output_type": "execute_result"
    }
   ],
   "source": [
    "for result in session.query(Record).filter(Record.title == \"Death Lust\").all():\n",
    "    result"
   ]
  }
 ],
 "metadata": {
  "hide_input": false,
  "kernelspec": {
   "display_name": "Python 3",
   "language": "python",
   "name": "python3"
  },
  "language_info": {
   "codemirror_mode": {
    "name": "ipython",
    "version": 3
   },
   "file_extension": ".py",
   "mimetype": "text/x-python",
   "name": "python",
   "nbconvert_exporter": "python",
   "pygments_lexer": "ipython3",
   "version": "3.8.3"
  },
  "toc": {
   "base_numbering": 1,
   "nav_menu": {},
   "number_sections": true,
   "sideBar": false,
   "skip_h1_title": true,
   "title_cell": "Table of Contents",
   "title_sidebar": "Contents",
   "toc_cell": false,
   "toc_position": {},
   "toc_section_display": true,
   "toc_window_display": false
  }
 },
 "nbformat": 4,
 "nbformat_minor": 4
}
