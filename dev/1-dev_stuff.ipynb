{
 "cells": [
  {
   "cell_type": "code",
   "execution_count": 1,
   "metadata": {
    "ExecuteTime": {
     "end_time": "2020-12-29T20:04:47.138361Z",
     "start_time": "2020-12-29T20:04:43.165239Z"
    }
   },
   "outputs": [],
   "source": [
    "import configparser\n",
    "import datetime as dt\n",
    "import sys\n",
    "import collections\n",
    "from pathlib import Path\n",
    "from typing import Union, Optional, List\n",
    "\n",
    "import codebook.EDA as EDA\n",
    "import codebook.clean as clean\n",
    "import numpy as np\n",
    "import pandas as pd\n",
    "import matplotlib.pyplot as plt\n",
    "import seaborn as sns\n",
    "import sqlalchemy"
   ]
  },
  {
   "cell_type": "code",
   "execution_count": 2,
   "metadata": {
    "ExecuteTime": {
     "end_time": "2020-12-29T20:04:47.281481Z",
     "start_time": "2020-12-29T20:04:47.138361Z"
    }
   },
   "outputs": [],
   "source": [
    "%load_ext autoreload\n",
    "%autoreload 2\n",
    "\n",
    "%matplotlib inline\n",
    "plt.style.use('raph-base')\n",
    "\n",
    "from IPython.core.interactiveshell import InteractiveShell\n",
    "InteractiveShell.ast_node_interactivity = 'all'\n",
    "\n",
    "pd.options.display.float_format = '{:,.2f}'.format\n",
    "pd.set_option('display.max_columns', 30)\n",
    "pd.set_option('display.expand_frame_repr', False)\n",
    "pd.set_option('max_colwidth', 800)\n",
    "\n",
    "np.random.seed(666)"
   ]
  },
  {
   "cell_type": "code",
   "execution_count": 3,
   "metadata": {
    "ExecuteTime": {
     "end_time": "2020-12-29T20:04:47.410481Z",
     "start_time": "2020-12-29T20:04:47.284484Z"
    }
   },
   "outputs": [
    {
     "data": {
      "text/plain": [
       "WindowsPath('C:/Users/r2d4/OneDrive/code/projects/20-02_disco/src')"
      ]
     },
     "execution_count": 3,
     "metadata": {},
     "output_type": "execute_result"
    }
   ],
   "source": [
    "Path.cwd().parent / 'src'"
   ]
  },
  {
   "cell_type": "code",
   "execution_count": 4,
   "metadata": {
    "ExecuteTime": {
     "end_time": "2020-12-29T20:04:47.657490Z",
     "start_time": "2020-12-29T20:04:47.414482Z"
    }
   },
   "outputs": [
    {
     "name": "stdout",
     "output_type": "stream",
     "text": [
      "<class 'sqlalchemy.ext.declarative.api.DeclarativeMeta'>\n"
     ]
    }
   ],
   "source": [
    "sys.path.append(str(Path.cwd().parent))\n",
    "\n",
    "from src.db_declaration import Base, Artist, CreditTrx, Genre, Label, Record\n",
    "from src import insert_record\n",
    "from src import utils"
   ]
  },
  {
   "cell_type": "code",
   "execution_count": 5,
   "metadata": {
    "ExecuteTime": {
     "end_time": "2020-12-29T20:04:47.800482Z",
     "start_time": "2020-12-29T20:04:47.660482Z"
    }
   },
   "outputs": [
    {
     "name": "stdout",
     "output_type": "stream",
     "text": [
      "C:\\Users\\r2d4\\miniconda3\\envs\\py3\\python.exe\n",
      "3.8.3 (default, May 19 2020, 06:50:17) [MSC v.1916 64 bit (AMD64)]\n",
      "sqlalchemy 1.3.17\n"
     ]
    }
   ],
   "source": [
    "print(sys.executable)\n",
    "print(sys.version)\n",
    "print(f'sqlalchemy {sqlalchemy.__version__}')"
   ]
  },
  {
   "cell_type": "markdown",
   "metadata": {
    "ExecuteTime": {
     "end_time": "2020-12-21T12:20:03.352983Z",
     "start_time": "2020-12-21T12:20:03.149529Z"
    }
   },
   "source": [
    "## Inititial Data Ingestion"
   ]
  },
  {
   "cell_type": "code",
   "execution_count": 6,
   "metadata": {
    "ExecuteTime": {
     "end_time": "2020-12-29T20:04:47.954479Z",
     "start_time": "2020-12-29T20:04:47.803483Z"
    }
   },
   "outputs": [],
   "source": [
    "CONFIG_PATH = Path.cwd().parent / \"config.cfg\""
   ]
  },
  {
   "cell_type": "markdown",
   "metadata": {
    "ExecuteTime": {
     "end_time": "2020-12-23T06:08:49.546499Z",
     "start_time": "2020-12-23T06:08:49.412497Z"
    }
   },
   "source": [
    "### Re-Create DB"
   ]
  },
  {
   "cell_type": "code",
   "execution_count": 7,
   "metadata": {
    "ExecuteTime": {
     "end_time": "2020-12-29T20:04:48.272481Z",
     "start_time": "2020-12-29T20:04:47.957481Z"
    }
   },
   "outputs": [
    {
     "name": "stdout",
     "output_type": "stream",
     "text": [
      "C:\\Users\\r2d4\\OneDrive\\code\\projects\\20-02_disco\\db_aka_discobase\\DiscoBase.db\n"
     ]
    }
   ],
   "source": [
    "path_to_db = utils.read_config_return_str(CONFIG_PATH, \"SQLITE\")\n",
    "engine = utils.create_engine(path_to_db)\n",
    "session = utils.create_session(engine)\n",
    "utils.create_DB_anew(engine, Base)"
   ]
  },
  {
   "cell_type": "markdown",
   "metadata": {},
   "source": [
    "### \"Bulk\" Load Data Into DB - NOT WORKING WITH TABLE RELATIONSHIPS\n",
    "\n",
    "This is a fast approach using sqlalchemy core language, the problem is it copies the data from a df into a table, but does not take care of the relationships - the foreign keys are not created.\n",
    "\n",
    "Btw: This is not the really fast bulk load with `conn.executemany()`, see [here](https://stackoverflow.com/a/32239587/13797028)."
   ]
  },
  {
   "cell_type": "code",
   "execution_count": 8,
   "metadata": {
    "ExecuteTime": {
     "end_time": "2020-12-29T20:04:48.424482Z",
     "start_time": "2020-12-29T20:04:48.275486Z"
    }
   },
   "outputs": [],
   "source": [
    "def load_albums_from_xlsx(\n",
    "    filepath: Union[Path, str], genres: Optional[List] = None\n",
    ") -> pd.DataFrame:\n",
    "    \"\"\"Load the original album collection file into a dataframe.\n",
    "    You can specify a list of genres you want to include\n",
    "    (defaults to None).\n",
    "    \"\"\"\n",
    "    df = pd.read_excel(filepath, engine=\"openpyxl\")\n",
    "    if genres:\n",
    "        df = df[df[\"Genre\"].isin(genres)]\n",
    "    return df"
   ]
  },
  {
   "cell_type": "markdown",
   "metadata": {},
   "source": [
    "**TODO:** see the cleaning, this has to be formalized in a function"
   ]
  },
  {
   "cell_type": "code",
   "execution_count": 9,
   "metadata": {
    "ExecuteTime": {
     "end_time": "2020-12-29T20:04:49.714015Z",
     "start_time": "2020-12-29T20:04:48.433484Z"
    }
   },
   "outputs": [],
   "source": [
    "path_to_collection = utils.read_config_return_str(CONFIG_PATH, \"COLLECTION\")\n",
    "collection_df = load_albums_from_xlsx(path_to_collection)\n",
    "collection_df = clean.prettify_column_names(collection_df)\n",
    "collection_df.dropna(thresh=8, inplace=True)\n",
    "# collection_df[\"purchase_date\"] = collection_df[\"purchase_date\"].dt.date.astype(str)\n",
    "# collection_df[\"number\"] = collection_df[\"number\"].astype(str)\n",
    "# collection_df[\"digitized\"] = collection_df[\"digitized\"].map({True: 1, False: 0}).astype(int)\n",
    "collection_df[\"label\"].fillna(\"NA\", inplace=True)  # because it creates a foreign key\n"
   ]
  },
  {
   "cell_type": "code",
   "execution_count": 10,
   "metadata": {
    "ExecuteTime": {
     "end_time": "2020-12-29T20:04:49.880362Z",
     "start_time": "2020-12-29T20:04:49.717021Z"
    }
   },
   "outputs": [
    {
     "data": {
      "text/plain": [
       "(293, 15)"
      ]
     },
     "execution_count": 10,
     "metadata": {},
     "output_type": "execute_result"
    },
    {
     "name": "stdout",
     "output_type": "stream",
     "text": [
      "<class 'pandas.core.frame.DataFrame'>\n",
      "Int64Index: 293 entries, 0 to 292\n",
      "Data columns (total 15 columns):\n",
      " #   Column         Non-Null Count  Dtype         \n",
      "---  ------         --------------  -----         \n",
      " 0   active         293 non-null    float64       \n",
      " 1   artist         293 non-null    object        \n",
      " 2   title          293 non-null    object        \n",
      " 3   format         293 non-null    object        \n",
      " 4   year           293 non-null    float64       \n",
      " 5   genre          293 non-null    object        \n",
      " 6   price          293 non-null    float64       \n",
      " 7   purchase_date  293 non-null    datetime64[ns]\n",
      " 8   vinyl_color    197 non-null    object        \n",
      " 9   lim_edition    207 non-null    object        \n",
      " 10  number         24 non-null     object        \n",
      " 11  label          293 non-null    object        \n",
      " 12  digitized      293 non-null    object        \n",
      " 13  remarks        72 non-null     object        \n",
      " 14  rating         101 non-null    float64       \n",
      "dtypes: datetime64[ns](1), float64(4), object(10)\n",
      "memory usage: 36.6+ KB\n"
     ]
    }
   ],
   "source": [
    "collection_df.shape\n",
    "collection_df.info()"
   ]
  },
  {
   "cell_type": "code",
   "execution_count": 11,
   "metadata": {
    "ExecuteTime": {
     "end_time": "2020-12-29T20:04:50.574367Z",
     "start_time": "2020-12-29T20:04:49.882361Z"
    }
   },
   "outputs": [
    {
     "data": {
      "text/html": [
       "<style  type=\"text/css\" >\n",
       "</style><table id=\"T_1bc36c5a_4a11_11eb_8128_60f67737a0fe\" ><thead>    <tr>        <th class=\"blank level0\" ></th>        <th class=\"col_heading level0 col0\" >total</th>        <th class=\"col_heading level0 col1\" >prop</th>        <th class=\"col_heading level0 col2\" >dtype</th>    </tr></thead><tbody>\n",
       "                <tr>\n",
       "                        <th id=\"T_1bc36c5a_4a11_11eb_8128_60f67737a0felevel0_row0\" class=\"row_heading level0 row0\" >number</th>\n",
       "                        <td id=\"T_1bc36c5a_4a11_11eb_8128_60f67737a0ferow0_col0\" class=\"data row0 col0\" >269</td>\n",
       "                        <td id=\"T_1bc36c5a_4a11_11eb_8128_60f67737a0ferow0_col1\" class=\"data row0 col1\" >91.8%</td>\n",
       "                        <td id=\"T_1bc36c5a_4a11_11eb_8128_60f67737a0ferow0_col2\" class=\"data row0 col2\" >object</td>\n",
       "            </tr>\n",
       "            <tr>\n",
       "                        <th id=\"T_1bc36c5a_4a11_11eb_8128_60f67737a0felevel0_row1\" class=\"row_heading level0 row1\" >remarks</th>\n",
       "                        <td id=\"T_1bc36c5a_4a11_11eb_8128_60f67737a0ferow1_col0\" class=\"data row1 col0\" >221</td>\n",
       "                        <td id=\"T_1bc36c5a_4a11_11eb_8128_60f67737a0ferow1_col1\" class=\"data row1 col1\" >75.4%</td>\n",
       "                        <td id=\"T_1bc36c5a_4a11_11eb_8128_60f67737a0ferow1_col2\" class=\"data row1 col2\" >object</td>\n",
       "            </tr>\n",
       "            <tr>\n",
       "                        <th id=\"T_1bc36c5a_4a11_11eb_8128_60f67737a0felevel0_row2\" class=\"row_heading level0 row2\" >rating</th>\n",
       "                        <td id=\"T_1bc36c5a_4a11_11eb_8128_60f67737a0ferow2_col0\" class=\"data row2 col0\" >192</td>\n",
       "                        <td id=\"T_1bc36c5a_4a11_11eb_8128_60f67737a0ferow2_col1\" class=\"data row2 col1\" >65.5%</td>\n",
       "                        <td id=\"T_1bc36c5a_4a11_11eb_8128_60f67737a0ferow2_col2\" class=\"data row2 col2\" >float64</td>\n",
       "            </tr>\n",
       "            <tr>\n",
       "                        <th id=\"T_1bc36c5a_4a11_11eb_8128_60f67737a0felevel0_row3\" class=\"row_heading level0 row3\" >vinyl_color</th>\n",
       "                        <td id=\"T_1bc36c5a_4a11_11eb_8128_60f67737a0ferow3_col0\" class=\"data row3 col0\" >96</td>\n",
       "                        <td id=\"T_1bc36c5a_4a11_11eb_8128_60f67737a0ferow3_col1\" class=\"data row3 col1\" >32.8%</td>\n",
       "                        <td id=\"T_1bc36c5a_4a11_11eb_8128_60f67737a0ferow3_col2\" class=\"data row3 col2\" >object</td>\n",
       "            </tr>\n",
       "            <tr>\n",
       "                        <th id=\"T_1bc36c5a_4a11_11eb_8128_60f67737a0felevel0_row4\" class=\"row_heading level0 row4\" >lim_edition</th>\n",
       "                        <td id=\"T_1bc36c5a_4a11_11eb_8128_60f67737a0ferow4_col0\" class=\"data row4 col0\" >86</td>\n",
       "                        <td id=\"T_1bc36c5a_4a11_11eb_8128_60f67737a0ferow4_col1\" class=\"data row4 col1\" >29.4%</td>\n",
       "                        <td id=\"T_1bc36c5a_4a11_11eb_8128_60f67737a0ferow4_col2\" class=\"data row4 col2\" >object</td>\n",
       "            </tr>\n",
       "    </tbody></table>"
      ],
      "text/plain": [
       "<pandas.io.formats.style.Styler at 0x1acdbd6d160>"
      ]
     },
     "execution_count": 11,
     "metadata": {},
     "output_type": "execute_result"
    }
   ],
   "source": [
    "EDA.display_nan(collection_df)"
   ]
  },
  {
   "cell_type": "code",
   "execution_count": 12,
   "metadata": {
    "ExecuteTime": {
     "end_time": "2020-12-29T20:04:51.036363Z",
     "start_time": "2020-12-29T20:04:50.577376Z"
    }
   },
   "outputs": [
    {
     "data": {
      "image/png": "[encoded data removed]",
      "text/plain": [
       "<Figure size 1008x432 with 1 Axes>"
      ]
     },
     "metadata": {},
     "output_type": "display_data"
    }
   ],
   "source": [
    "EDA.plot_nan(collection_df)"
   ]
  },
  {
   "cell_type": "code",
   "execution_count": 13,
   "metadata": {
    "ExecuteTime": {
     "end_time": "2020-12-29T20:04:51.245534Z",
     "start_time": "2020-12-29T20:04:51.039363Z"
    }
   },
   "outputs": [
    {
     "data": {
      "text/plain": [
       "{'active': 1.0,\n",
       " 'artist': 'Living Gate',\n",
       " 'title': 'Death Lust',\n",
       " 'format': 'MLP',\n",
       " 'year': 2020.0,\n",
       " 'genre': 'Death Metal',\n",
       " 'price': 20.0,\n",
       " 'purchase_date': Timestamp('2020-07-01 00:00:00'),\n",
       " 'vinyl_color': 'milky clear with blood red, black and white splatter',\n",
       " 'lim_edition': 250,\n",
       " 'number': nan,\n",
       " 'label': 'Relapse Records',\n",
       " 'digitized': True,\n",
       " 'remarks': 'warped, etched on B-Side',\n",
       " 'rating': 8.0}"
      ]
     },
     "execution_count": 13,
     "metadata": {},
     "output_type": "execute_result"
    }
   ],
   "source": [
    "test_record = collection_df.to_dict(\"records\")[-30]\n",
    "test_record"
   ]
  },
  {
   "cell_type": "code",
   "execution_count": 14,
   "metadata": {
    "ExecuteTime": {
     "end_time": "2020-12-29T20:04:51.404524Z",
     "start_time": "2020-12-29T20:04:51.248525Z"
    }
   },
   "outputs": [],
   "source": [
    "def insert_df_with_sqlalchemy_core(df, table_class, engine):\n",
    "    start = time.time()\n",
    "    engine.execute(\n",
    "        table_class.__table__.insert(),\n",
    "        [x for x in df.to_dict(\"records\")]\n",
    "    )\n",
    "    end = time.time()\n",
    "    print(\"SQLAlchemy Core: Insert {0} records in {1} seconds\".format(\n",
    "        str(len(df)), str(end - start)\n",
    "        )\n",
    "     )"
   ]
  },
  {
   "cell_type": "code",
   "execution_count": 15,
   "metadata": {
    "ExecuteTime": {
     "end_time": "2020-12-29T20:04:51.581690Z",
     "start_time": "2020-12-29T20:04:51.407524Z"
    }
   },
   "outputs": [
    {
     "name": "stdout",
     "output_type": "stream",
     "text": [
      "SQLAlchemy Core: Insert 293 records in 0.020001888275146484 seconds\n"
     ]
    }
   ],
   "source": [
    "import time\n",
    "\n",
    "insert_df_with_sqlalchemy_core(collection_df, Record, engine)"
   ]
  },
  {
   "cell_type": "code",
   "execution_count": 16,
   "metadata": {
    "ExecuteTime": {
     "end_time": "2020-12-29T20:04:51.742688Z",
     "start_time": "2020-12-29T20:04:51.584690Z"
    }
   },
   "outputs": [
    {
     "data": {
      "text/plain": [
       "[Column('record_id', Integer(), table=<records>, primary_key=True, nullable=False),\n",
       " Column('artist_id', Integer(), ForeignKey('artists.artist_id'), table=<records>),\n",
       " Column('title', String(), table=<records>, nullable=False),\n",
       " Column('genre_id', Integer(), ForeignKey('genres.genre_id'), table=<records>),\n",
       " Column('label', Integer(), ForeignKey('labels.label_id'), table=<records>),\n",
       " Column('year', Integer(), table=<records>),\n",
       " Column('format_id', Integer(), ForeignKey('formats.format_id'), table=<records>),\n",
       " Column('vinyl_color', String(), table=<records>),\n",
       " Column('lim_edition', String(), table=<records>),\n",
       " Column('number', String(), table=<records>),\n",
       " Column('remarks', String(), table=<records>),\n",
       " Column('purchase_date', Date(), table=<records>, nullable=False),\n",
       " Column('price', Numeric(), table=<records>, nullable=False),\n",
       " Column('digitized', Integer(), table=<records>, nullable=False),\n",
       " Column('rating', Integer(), table=<records>),\n",
       " Column('active', Integer(), table=<records>, nullable=False)]"
      ]
     },
     "execution_count": 16,
     "metadata": {},
     "output_type": "execute_result"
    }
   ],
   "source": [
    "list(Record.__table__.columns)"
   ]
  },
  {
   "cell_type": "code",
   "execution_count": 17,
   "metadata": {
    "ExecuteTime": {
     "end_time": "2020-12-29T20:04:52.028684Z",
     "start_time": "2020-12-29T20:04:51.745687Z"
    }
   },
   "outputs": [],
   "source": [
    "# Reset DB\n",
    "utils.create_DB_anew(engine, Base)"
   ]
  },
  {
   "cell_type": "markdown",
   "metadata": {},
   "source": [
    "## Test \"add_new_record\"\n",
    "\n",
    "**TODO**: Do I have to loop? Using apply only after all is done would be more efficient"
   ]
  },
  {
   "cell_type": "code",
   "execution_count": 18,
   "metadata": {
    "ExecuteTime": {
     "end_time": "2020-12-29T20:04:52.231981Z",
     "start_time": "2020-12-29T20:04:52.031689Z"
    }
   },
   "outputs": [
    {
     "name": "stderr",
     "output_type": "stream",
     "text": [
      "C:\\Users\\r2d4\\miniconda3\\envs\\py3\\lib\\site-packages\\sqlalchemy\\sql\\sqltypes.py:660: SAWarning: Dialect sqlite+pysqlite does *not* support Decimal objects natively, and SQLAlchemy must convert from floating point - rounding errors and other issues may occur. Please consider storing Decimal numbers as strings or integers on this platform for lossless storage.\n",
      "  util.warn(\n"
     ]
    }
   ],
   "source": [
    "insert_record.add_new_record(session, test_record)"
   ]
  },
  {
   "cell_type": "code",
   "execution_count": 19,
   "metadata": {
    "ExecuteTime": {
     "end_time": "2020-12-29T20:04:52.393983Z",
     "start_time": "2020-12-29T20:04:52.234980Z"
    }
   },
   "outputs": [
    {
     "data": {
      "text/plain": [
       "{'active': 1.0,\n",
       " 'artist': 'Living Gate',\n",
       " 'title': 'Death Lust',\n",
       " 'format': 'MLP',\n",
       " 'year': 2020.0,\n",
       " 'genre': 'Death Metal',\n",
       " 'price': 20.0,\n",
       " 'purchase_date': Timestamp('2020-07-01 00:00:00'),\n",
       " 'vinyl_color': 'milky clear with blood red, black and white splatter',\n",
       " 'lim_edition': 250,\n",
       " 'number': nan,\n",
       " 'label': 'Relapse Records',\n",
       " 'digitized': True,\n",
       " 'remarks': 'warped, etched on B-Side',\n",
       " 'rating': 8.0}"
      ]
     },
     "execution_count": 19,
     "metadata": {},
     "output_type": "execute_result"
    }
   ],
   "source": [
    "test_record"
   ]
  },
  {
   "cell_type": "markdown",
   "metadata": {
    "ExecuteTime": {
     "end_time": "2020-12-23T21:50:04.810370Z",
     "start_time": "2020-12-23T21:50:04.664351Z"
    }
   },
   "source": [
    "### Add all records\n",
    "\n",
    "**TODO:** Can I apply()?"
   ]
  },
  {
   "cell_type": "code",
   "execution_count": 20,
   "metadata": {
    "ExecuteTime": {
     "end_time": "2020-12-29T20:04:52.546978Z",
     "start_time": "2020-12-29T20:04:52.396984Z"
    }
   },
   "outputs": [],
   "source": [
    "def insert_df_with_sqlalchemy_orm(session, df):\n",
    "    for x in df.to_dict(\"records\"):\n",
    "        insert_record.add_new_record(session, x)"
   ]
  },
  {
   "cell_type": "code",
   "execution_count": 21,
   "metadata": {
    "ExecuteTime": {
     "end_time": "2020-12-29T20:04:52.701982Z",
     "start_time": "2020-12-29T20:04:52.548979Z"
    }
   },
   "outputs": [],
   "source": [
    "# insert_df_with_sqlalchemy_orm(session, collection_df)"
   ]
  },
  {
   "cell_type": "markdown",
   "metadata": {},
   "source": [
    "## Query DB"
   ]
  },
  {
   "cell_type": "code",
   "execution_count": 22,
   "metadata": {
    "ExecuteTime": {
     "end_time": "2020-12-29T20:04:52.992983Z",
     "start_time": "2020-12-29T20:04:52.704982Z"
    }
   },
   "outputs": [
    {
     "data": {
      "text/plain": [
       "1"
      ]
     },
     "execution_count": 22,
     "metadata": {},
     "output_type": "execute_result"
    }
   ],
   "source": [
    "session.query(Record).count()"
   ]
  },
  {
   "cell_type": "code",
   "execution_count": 23,
   "metadata": {
    "ExecuteTime": {
     "end_time": "2020-12-29T20:04:53.246980Z",
     "start_time": "2020-12-29T20:04:52.997984Z"
    }
   },
   "outputs": [
    {
     "data": {
      "text/plain": [
       "<Record(record_id=1, title=Death Lust, artist_id=1)>"
      ]
     },
     "execution_count": 23,
     "metadata": {},
     "output_type": "execute_result"
    }
   ],
   "source": [
    "for result in session.query(Record).filter(Record.title == \"Death Lust\").all():\n",
    "    result"
   ]
  },
  {
   "cell_type": "code",
   "execution_count": 24,
   "metadata": {
    "ExecuteTime": {
     "end_time": "2020-12-29T20:04:53.461981Z",
     "start_time": "2020-12-29T20:04:53.249984Z"
    }
   },
   "outputs": [
    {
     "data": {
      "text/plain": [
       "1"
      ]
     },
     "execution_count": 24,
     "metadata": {},
     "output_type": "execute_result"
    },
    {
     "data": {
      "text/plain": [
       "[<Artist(artist_id=1, artist_name=Living Gate)>]"
      ]
     },
     "execution_count": 24,
     "metadata": {},
     "output_type": "execute_result"
    }
   ],
   "source": [
    "session.query(Artist).count()\n",
    "session.query(Artist).all()[:5]"
   ]
  },
  {
   "cell_type": "code",
   "execution_count": 25,
   "metadata": {
    "ExecuteTime": {
     "end_time": "2020-12-29T20:04:53.699982Z",
     "start_time": "2020-12-29T20:04:53.464984Z"
    }
   },
   "outputs": [
    {
     "data": {
      "text/plain": [
       "1"
      ]
     },
     "execution_count": 25,
     "metadata": {},
     "output_type": "execute_result"
    },
    {
     "data": {
      "text/plain": [
       "[<Genre(genre_id=1, genre_name=Death Metal)>]"
      ]
     },
     "execution_count": 25,
     "metadata": {},
     "output_type": "execute_result"
    }
   ],
   "source": [
    "session.query(Genre).count()\n",
    "session.query(Genre).all()"
   ]
  },
  {
   "cell_type": "code",
   "execution_count": 26,
   "metadata": {
    "ExecuteTime": {
     "end_time": "2020-12-29T20:04:53.928982Z",
     "start_time": "2020-12-29T20:04:53.702984Z"
    }
   },
   "outputs": [
    {
     "data": {
      "text/plain": [
       "-1.0"
      ]
     },
     "execution_count": 26,
     "metadata": {},
     "output_type": "execute_result"
    }
   ],
   "source": [
    "result = session.query(CreditTrx.credit_saldo).all()\n",
    "np.array(result).min()"
   ]
  },
  {
   "cell_type": "code",
   "execution_count": 27,
   "metadata": {
    "ExecuteTime": {
     "end_time": "2020-12-29T20:04:54.193982Z",
     "start_time": "2020-12-29T20:04:53.934983Z"
    }
   },
   "outputs": [
    {
     "data": {
      "text/plain": [
       "[<CreditTrx(credit_trx_id=1, credit_trx_date=2020-07-01, credit_trx_type=Purchase, credit_value=-1.0, credit_saldo=-1.0, record_id=1)>]"
      ]
     },
     "execution_count": 27,
     "metadata": {},
     "output_type": "execute_result"
    }
   ],
   "source": [
    "session.query(CreditTrx).all()"
   ]
  },
  {
   "cell_type": "markdown",
   "metadata": {},
   "source": [
    "## Dev Credit Addition"
   ]
  },
  {
   "cell_type": "code",
   "execution_count": 112,
   "metadata": {
    "ExecuteTime": {
     "end_time": "2020-12-29T21:43:57.750436Z",
     "start_time": "2020-12-29T21:43:57.591883Z"
    }
   },
   "outputs": [],
   "source": [
    "for id_ in session.query(CreditTrx.credit_trx_id).all():\n",
    "#     print(id_[0])\n",
    "    to_delete = session.query(CreditTrx).filter(CreditTrx.credit_trx_id == id_[0]).one()\n",
    "    session.delete(to_delete)"
   ]
  },
  {
   "cell_type": "code",
   "execution_count": 113,
   "metadata": {
    "ExecuteTime": {
     "end_time": "2020-12-29T21:43:58.341771Z",
     "start_time": "2020-12-29T21:43:58.204193Z"
    }
   },
   "outputs": [],
   "source": [
    "# Add fake Addition trx\n",
    "\n",
    "fake_trx = CreditTrx(\n",
    "    credit_trx_date=dt.datetime(year=2020, month=11, day=2),\n",
    "    credit_trx_type=\"Addition\",\n",
    "    credit_value=1,\n",
    "    credit_saldo=np.array(session.query(CreditTrx.credit_value).all()).sum() + 1,\n",
    "    record_id=np.nan\n",
    ")\n",
    "session.add(fake_trx)\n",
    "\n",
    "fake_trx = CreditTrx(\n",
    "    credit_trx_date=dt.datetime(year=2020, month=11, day=1),\n",
    "    credit_trx_type=\"Addition\",\n",
    "    credit_value=1,\n",
    "    credit_saldo=np.array(session.query(CreditTrx.credit_value).all()).sum() + 1,\n",
    "    record_id=np.nan\n",
    ")\n",
    "session.add(fake_trx)\n",
    "\n",
    "fake_trx = CreditTrx(\n",
    "    credit_trx_date=dt.datetime(year=2020, month=12, day=1),\n",
    "    credit_trx_type=\"Test\",\n",
    "    credit_value=1,\n",
    "    credit_saldo=np.array(session.query(CreditTrx.credit_value).all()).sum() + 1,\n",
    "    record_id=np.nan\n",
    ")\n",
    "session.add(fake_trx)\n",
    "# session.commit()"
   ]
  },
  {
   "cell_type": "code",
   "execution_count": 114,
   "metadata": {
    "ExecuteTime": {
     "end_time": "2020-12-29T21:43:59.276149Z",
     "start_time": "2020-12-29T21:43:59.143046Z"
    }
   },
   "outputs": [
    {
     "data": {
      "text/plain": [
       "[<CreditTrx(credit_trx_id=1, credit_trx_date=2020-11-02, credit_trx_type=Addition, credit_value=1.0, credit_saldo=1.0, record_id=None)>,\n",
       " <CreditTrx(credit_trx_id=2, credit_trx_date=2020-11-01, credit_trx_type=Addition, credit_value=1.0, credit_saldo=2.0, record_id=None)>,\n",
       " <CreditTrx(credit_trx_id=3, credit_trx_date=2020-12-01 00:00:00, credit_trx_type=Test, credit_value=1, credit_saldo=3.0, record_id=nan)>]"
      ]
     },
     "execution_count": 114,
     "metadata": {},
     "output_type": "execute_result"
    }
   ],
   "source": [
    "# Check\n",
    "# session.commit()\n",
    "session.query(CreditTrx).all()"
   ]
  },
  {
   "cell_type": "code",
   "execution_count": 115,
   "metadata": {
    "ExecuteTime": {
     "end_time": "2020-12-29T21:44:00.094454Z",
     "start_time": "2020-12-29T21:43:59.942453Z"
    }
   },
   "outputs": [],
   "source": [
    "last_addition_date = (session\n",
    "    .query(CreditTrx.credit_trx_date)\n",
    "    .filter(CreditTrx.credit_trx_type == \"Addition\")\n",
    "    .order_by(CreditTrx.credit_trx_date.desc())\n",
    "    .first()\n",
    ")[0]\n",
    "\n",
    "days_since_last = (dt.date.today() - last_addition_date).days"
   ]
  },
  {
   "cell_type": "code",
   "execution_count": 116,
   "metadata": {
    "ExecuteTime": {
     "end_time": "2020-12-29T21:44:01.600493Z",
     "start_time": "2020-12-29T21:44:01.462490Z"
    }
   },
   "outputs": [
    {
     "data": {
      "text/plain": [
       "datetime.date(2020, 11, 2)"
      ]
     },
     "execution_count": 116,
     "metadata": {},
     "output_type": "execute_result"
    },
    {
     "data": {
      "text/plain": [
       "57"
      ]
     },
     "execution_count": 116,
     "metadata": {},
     "output_type": "execute_result"
    }
   ],
   "source": [
    "last_addition_date\n",
    "days_since_last"
   ]
  },
  {
   "cell_type": "code",
   "execution_count": 117,
   "metadata": {
    "ExecuteTime": {
     "end_time": "2020-12-29T21:44:04.785773Z",
     "start_time": "2020-12-29T21:44:04.654648Z"
    }
   },
   "outputs": [],
   "source": [
    "# while days_since_last >= 10:\n",
    "#     fake_trx = CreditTrx(\n",
    "#         credit_trx_date=last_addition_date + + dt.timedelta(days=10),\n",
    "#         credit_trx_type=\"Addition\",\n",
    "#         credit_value=1,\n",
    "#         credit_saldo=np.array(session.query(CreditTrx.credit_value).all()).sum() + 1,\n",
    "#         record_id=np.nan\n",
    "#     )\n",
    "    \n",
    "#     session.add(fake_trx)\n",
    "    \n",
    "#     last_addition_date = (session\n",
    "#         .query(CreditTrx.credit_trx_date)\n",
    "#         .filter(CreditTrx.credit_trx_type == \"Addition\")\n",
    "#         .order_by(CreditTrx.credit_trx_date.desc())\n",
    "#         .first()\n",
    "#     )[0]\n",
    "    \n",
    "#     days_since_last = (dt.date.today() - last_addition_date).days\n",
    "\n",
    "# session.commit()"
   ]
  },
  {
   "cell_type": "code",
   "execution_count": 121,
   "metadata": {
    "ExecuteTime": {
     "end_time": "2020-12-29T21:45:21.247653Z",
     "start_time": "2020-12-29T21:45:21.104146Z"
    }
   },
   "outputs": [],
   "source": [
    "def _get_days_since_last_addition() -> Tuple[dt.date, int]:\n",
    "    \"\"\"Return the date of and the number of days since the \n",
    "    last transaction with type 'Addition' stored in the \n",
    "    CreditTrx table. (This is called within 'add_credit').\n",
    "    \"\"\"\n",
    "    last_addition_date = (session\n",
    "        .query(CreditTrx.credit_trx_date)\n",
    "        .filter(CreditTrx.credit_trx_type == \"Addition\")\n",
    "        .order_by(CreditTrx.credit_trx_date.desc())\n",
    "        .first()\n",
    "    )[0]\n",
    "\n",
    "    days_since_last = (dt.date.today() - last_addition_date).days\n",
    "    \n",
    "    return last_addition_date, days_since_last\n",
    "\n",
    "\n",
    "def add_regular_credits(interval_days: int =10):\n",
    "    \"\"\"Every x days a new credit is added (to be spent\n",
    "    on purchasing new records). This function checks\n",
    "    the delta in days since the last addition and inserts\n",
    "    the necessary credit transactions depending on the\n",
    "    defined interval.\n",
    "    \"\"\"\n",
    "    last_addition_date, days_since_last = _get_days_since_last_addition()\n",
    "    \n",
    "    while days_since_last >= 10:\n",
    "        print(last_addition_date)\n",
    "        addition_trx = CreditTrx(\n",
    "            credit_trx_date=last_addition_date + dt.timedelta(days=interval_days),\n",
    "            credit_trx_type=\"Addition\",\n",
    "            credit_value=1,\n",
    "            credit_saldo=np.array(session.query(CreditTrx.credit_value).all()).sum() + 1,\n",
    "            record_id=np.nan\n",
    "        )\n",
    "        session.add(addition_trx)\n",
    "        last_addition_date, days_since_last = _get_days_since_last_addition()\n",
    "    \n",
    "    session.commit()"
   ]
  },
  {
   "cell_type": "code",
   "execution_count": 122,
   "metadata": {
    "ExecuteTime": {
     "end_time": "2020-12-29T21:45:22.828548Z",
     "start_time": "2020-12-29T21:45:22.663505Z"
    }
   },
   "outputs": [
    {
     "name": "stdout",
     "output_type": "stream",
     "text": [
      "2020-11-02\n",
      "2020-11-12\n",
      "2020-11-12\n",
      "2020-11-22\n",
      "2020-11-22\n",
      "2020-12-02\n",
      "2020-12-02\n",
      "2020-12-12\n",
      "2020-12-12\n",
      "2020-12-22\n"
     ]
    }
   ],
   "source": [
    "add_credit()"
   ]
  },
  {
   "cell_type": "code",
   "execution_count": 126,
   "metadata": {
    "ExecuteTime": {
     "end_time": "2020-12-29T21:56:38.221552Z",
     "start_time": "2020-12-29T21:56:38.040551Z"
    }
   },
   "outputs": [
    {
     "data": {
      "text/plain": [
       "[<CreditTrx(credit_trx_id=1, credit_trx_date=2020-07-01, credit_trx_type=Purchase, credit_value=-1.0, credit_saldo=-1.0, record_id=1)>,\n",
       " <CreditTrx(credit_trx_id=2, credit_trx_date=2020-12-01, credit_trx_type=Addition, credit_value=1.0, credit_saldo=0.0, record_id=None)>,\n",
       " <CreditTrx(credit_trx_id=3, credit_trx_date=2020-11-01, credit_trx_type=Addition, credit_value=1.0, credit_saldo=1.0, record_id=None)>,\n",
       " <CreditTrx(credit_trx_id=6, credit_trx_date=2020-11-01, credit_trx_type=Addition, credit_value=1.0, credit_saldo=4.0, record_id=None)>,\n",
       " <CreditTrx(credit_trx_id=7, credit_trx_date=2020-12-02, credit_trx_type=Addition, credit_value=1.0, credit_saldo=5.0, record_id=None)>,\n",
       " <CreditTrx(credit_trx_id=8, credit_trx_date=2020-12-02, credit_trx_type=Addition, credit_value=1.0, credit_saldo=6.0, record_id=None)>,\n",
       " <CreditTrx(credit_trx_id=9, credit_trx_date=2020-12-12, credit_trx_type=Addition, credit_value=1.0, credit_saldo=5.0, record_id=None)>,\n",
       " <CreditTrx(credit_trx_id=10, credit_trx_date=2020-12-22, credit_trx_type=Addition, credit_value=1.0, credit_saldo=6.0, record_id=None)>]"
      ]
     },
     "execution_count": 126,
     "metadata": {},
     "output_type": "execute_result"
    }
   ],
   "source": [
    "session.query(CreditTrx).all()"
   ]
  },
  {
   "cell_type": "code",
   "execution_count": 125,
   "metadata": {
    "ExecuteTime": {
     "end_time": "2020-12-29T21:56:36.026251Z",
     "start_time": "2020-12-29T21:56:35.834255Z"
    }
   },
   "outputs": [],
   "source": [
    "session.rollback()"
   ]
  },
  {
   "cell_type": "code",
   "execution_count": 124,
   "metadata": {
    "ExecuteTime": {
     "end_time": "2020-12-29T21:49:50.048345Z",
     "start_time": "2020-12-29T21:49:49.892822Z"
    }
   },
   "outputs": [
    {
     "data": {
      "text/plain": [
       "datetime.date"
      ]
     },
     "execution_count": 124,
     "metadata": {},
     "output_type": "execute_result"
    }
   ],
   "source": [
    "type(last_addition_date)"
   ]
  },
  {
   "cell_type": "code",
   "execution_count": null,
   "metadata": {},
   "outputs": [],
   "source": []
  }
 ],
 "metadata": {
  "hide_input": false,
  "kernelspec": {
   "display_name": "Python 3",
   "language": "python",
   "name": "python3"
  },
  "language_info": {
   "codemirror_mode": {
    "name": "ipython",
    "version": 3
   },
   "file_extension": ".py",
   "mimetype": "text/x-python",
   "name": "python",
   "nbconvert_exporter": "python",
   "pygments_lexer": "ipython3",
   "version": "3.8.3"
  },
  "toc": {
   "base_numbering": 1,
   "nav_menu": {},
   "number_sections": true,
   "sideBar": false,
   "skip_h1_title": true,
   "title_cell": "Table of Contents",
   "title_sidebar": "Contents",
   "toc_cell": false,
   "toc_position": {},
   "toc_section_display": true,
   "toc_window_display": false
  }
 },
 "nbformat": 4,
 "nbformat_minor": 4
}
