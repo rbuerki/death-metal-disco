{
 "cells": [
  {
   "cell_type": "markdown",
   "metadata": {},
   "source": [
    "# Test Notebook\n",
    "\n",
    "This is mainly a test notebook that runs db operations on the small test db (DEV connection) that is first created, then filled with 3 records and 2 'addition' credit trx, before a record is deactivated and then also fully deleted. Assert statements help to check everything works as expected.\n",
    "\n",
    "But you can also use it to test front end manipulations if you run the front end against the DEV db. Use parts 2 / 3 for that after having run the notebook once from start to end."
   ]
  },
  {
   "cell_type": "code",
   "execution_count": 1,
   "metadata": {
    "ExecuteTime": {
     "end_time": "2021-03-09T14:04:07.665324Z",
     "start_time": "2021-03-09T14:04:02.141462Z"
    }
   },
   "outputs": [],
   "source": [
    "import configparser\n",
    "import datetime as dt\n",
    "import sys\n",
    "import collections\n",
    "from pathlib import Path\n",
    "from typing import Union, Optional, Iterable, List, Tuple\n",
    "\n",
    "import codebook.EDA as EDA\n",
    "import codebook.clean as clean\n",
    "import numpy as np\n",
    "import pandas as pd\n",
    "import matplotlib.pyplot as plt\n",
    "import seaborn as sns\n",
    "import sqlalchemy\n",
    "from sqlalchemy import func, distinct"
   ]
  },
  {
   "cell_type": "code",
   "execution_count": 2,
   "metadata": {
    "ExecuteTime": {
     "end_time": "2021-03-09T14:04:07.899124Z",
     "start_time": "2021-03-09T14:04:07.667242Z"
    }
   },
   "outputs": [],
   "source": [
    "%load_ext autoreload\n",
    "%autoreload 2\n",
    "\n",
    "%matplotlib inline\n",
    "plt.style.use('raph-base')\n",
    "\n",
    "from IPython.core.interactiveshell import InteractiveShell\n",
    "InteractiveShell.ast_node_interactivity = 'all'\n",
    "\n",
    "pd.options.display.float_format = '{:,.2f}'.format\n",
    "pd.set_option('display.max_columns', 30)\n",
    "pd.set_option('display.expand_frame_repr', False)\n",
    "pd.set_option('max_colwidth', 800)\n",
    "\n",
    "np.random.seed(666)"
   ]
  },
  {
   "cell_type": "code",
   "execution_count": 3,
   "metadata": {
    "ExecuteTime": {
     "end_time": "2021-03-09T14:04:09.965243Z",
     "start_time": "2021-03-09T14:04:07.903124Z"
    }
   },
   "outputs": [],
   "source": [
    "sys.path.append(str(Path.cwd().parent))\n",
    "\n",
    "from src.db_declaration import (\n",
    "    Base, Artist, CreditTrx, Genre, Label, Record, RecordFormat, \n",
    "    ArtistRecordLink, ArtistGenreLink, GenreLabelLink, LabelRecordLink\n",
    ")\n",
    "from src import db_functions\n",
    "from src import db_connect\n",
    "from src.apps import crud_app\n",
    "\n",
    "CONFIG_PATH = Path.cwd().parent / \"config.yaml\""
   ]
  },
  {
   "cell_type": "code",
   "execution_count": 4,
   "metadata": {
    "ExecuteTime": {
     "end_time": "2021-03-09T14:04:10.148569Z",
     "start_time": "2021-03-09T14:04:09.966270Z"
    }
   },
   "outputs": [
    {
     "name": "stdout",
     "output_type": "stream",
     "text": [
      "C:\\Users\\r2d4\\miniconda3\\envs\\py3\\python.exe\n",
      "3.8.3 (default, May 19 2020, 06:50:17) [MSC v.1916 64 bit (AMD64)]\n",
      "sqlalchemy 1.3.17\n"
     ]
    }
   ],
   "source": [
    "print(sys.executable)\n",
    "print(sys.version)\n",
    "print(f'sqlalchemy {sqlalchemy.__version__}')"
   ]
  },
  {
   "cell_type": "markdown",
   "metadata": {
    "ExecuteTime": {
     "end_time": "2020-12-23T06:08:49.546499Z",
     "start_time": "2020-12-23T06:08:49.412497Z"
    }
   },
   "source": [
    "## (Re-)Create A Test DB\n",
    "\n",
    "### Connect And Reset\n",
    "\n",
    "Because we connect from `dev`subfolder, I work with the sqlalchemy `create_engine` function directly."
   ]
  },
  {
   "cell_type": "code",
   "execution_count": 5,
   "metadata": {
    "ExecuteTime": {
     "end_time": "2021-03-09T14:04:10.363997Z",
     "start_time": "2021-03-09T14:04:10.150569Z"
    },
    "scrolled": true
   },
   "outputs": [
    {
     "data": {
      "text/plain": [
       "Engine(sqlite:///C:\\Users\\r2d4\\OneDrive\\code\\projects\\20-02_disco\\dev\\DeafDiscoBase.db)"
      ]
     },
     "execution_count": 5,
     "metadata": {},
     "output_type": "execute_result"
    },
    {
     "data": {
      "text/plain": [
       "<sqlalchemy.orm.session.Session at 0x1da7598efd0>"
      ]
     },
     "execution_count": 5,
     "metadata": {},
     "output_type": "execute_result"
    }
   ],
   "source": [
    "# session.close()\n",
    "\n",
    "db_params = {\"REL_PATH\": \"DeafDiscoBase.db\"}\n",
    "engine = db_connect.create_engine(db_params)\n",
    "session = db_connect.create_session(engine)\n",
    "\n",
    "# Check\n",
    "engine\n",
    "session"
   ]
  },
  {
   "cell_type": "code",
   "execution_count": 6,
   "metadata": {
    "ExecuteTime": {
     "end_time": "2021-03-09T14:04:10.736978Z",
     "start_time": "2021-03-09T14:04:10.367001Z"
    }
   },
   "outputs": [],
   "source": [
    "db_functions._drop_and_reset_DB(engine, Base)"
   ]
  },
  {
   "cell_type": "markdown",
   "metadata": {},
   "source": [
    "## Insert And Remove\n",
    "\n",
    "### Load and Insert 3 Test Records, assert"
   ]
  },
  {
   "cell_type": "code",
   "execution_count": 7,
   "metadata": {
    "ExecuteTime": {
     "end_time": "2021-03-09T14:04:11.467365Z",
     "start_time": "2021-03-09T14:04:10.739980Z"
    }
   },
   "outputs": [
    {
     "data": {
      "text/html": [
       "<div>\n",
       "<style scoped>\n",
       "    .dataframe tbody tr th:only-of-type {\n",
       "        vertical-align: middle;\n",
       "    }\n",
       "\n",
       "    .dataframe tbody tr th {\n",
       "        vertical-align: top;\n",
       "    }\n",
       "\n",
       "    .dataframe thead th {\n",
       "        text-align: right;\n",
       "    }\n",
       "</style>\n",
       "<table border=\"1\" class=\"dataframe\">\n",
       "  <thead>\n",
       "    <tr style=\"text-align: right;\">\n",
       "      <th></th>\n",
       "      <th>artist</th>\n",
       "      <th>artist_country</th>\n",
       "      <th>title</th>\n",
       "      <th>genre</th>\n",
       "      <th>label</th>\n",
       "      <th>year</th>\n",
       "      <th>record_format</th>\n",
       "      <th>vinyl_color</th>\n",
       "      <th>lim_edition</th>\n",
       "      <th>number</th>\n",
       "      <th>remarks</th>\n",
       "      <th>purchase_date</th>\n",
       "      <th>price</th>\n",
       "      <th>rating</th>\n",
       "      <th>is_digitized</th>\n",
       "      <th>is_active</th>\n",
       "    </tr>\n",
       "    <tr>\n",
       "      <th>record_id</th>\n",
       "      <th></th>\n",
       "      <th></th>\n",
       "      <th></th>\n",
       "      <th></th>\n",
       "      <th></th>\n",
       "      <th></th>\n",
       "      <th></th>\n",
       "      <th></th>\n",
       "      <th></th>\n",
       "      <th></th>\n",
       "      <th></th>\n",
       "      <th></th>\n",
       "      <th></th>\n",
       "      <th></th>\n",
       "      <th></th>\n",
       "      <th></th>\n",
       "    </tr>\n",
       "  </thead>\n",
       "  <tbody>\n",
       "    <tr>\n",
       "      <th>1</th>\n",
       "      <td>[Dismember]</td>\n",
       "      <td>[NA]</td>\n",
       "      <td>Pieces</td>\n",
       "      <td>Death Metal</td>\n",
       "      <td>[NA]</td>\n",
       "      <td>1992</td>\n",
       "      <td>12\"</td>\n",
       "      <td>None</td>\n",
       "      <td>None</td>\n",
       "      <td>None</td>\n",
       "      <td>None</td>\n",
       "      <td>1992-01-01</td>\n",
       "      <td>35.00</td>\n",
       "      <td>nan</td>\n",
       "      <td>False</td>\n",
       "      <td>True</td>\n",
       "    </tr>\n",
       "    <tr>\n",
       "      <th>2</th>\n",
       "      <td>[Dismember]</td>\n",
       "      <td>[NA]</td>\n",
       "      <td>Skin Her Alive</td>\n",
       "      <td>Death Metal</td>\n",
       "      <td>[NA]</td>\n",
       "      <td>1991</td>\n",
       "      <td>7\" Pic</td>\n",
       "      <td>None</td>\n",
       "      <td>None</td>\n",
       "      <td>None</td>\n",
       "      <td>None</td>\n",
       "      <td>1992-01-01</td>\n",
       "      <td>15.00</td>\n",
       "      <td>nan</td>\n",
       "      <td>False</td>\n",
       "      <td>True</td>\n",
       "    </tr>\n",
       "    <tr>\n",
       "      <th>225</th>\n",
       "      <td>[Petrification]</td>\n",
       "      <td>[NA]</td>\n",
       "      <td>Hollow of The Void</td>\n",
       "      <td>Death Metal</td>\n",
       "      <td>[Dawnbreed / Sentient Ruin]</td>\n",
       "      <td>2018</td>\n",
       "      <td>LP</td>\n",
       "      <td>green transparent with black haze</td>\n",
       "      <td>200</td>\n",
       "      <td>None</td>\n",
       "      <td>None</td>\n",
       "      <td>2019-07-01</td>\n",
       "      <td>25.00</td>\n",
       "      <td>10.00</td>\n",
       "      <td>True</td>\n",
       "      <td>True</td>\n",
       "    </tr>\n",
       "    <tr>\n",
       "      <th>301</th>\n",
       "      <td>[Coffins, Depression]</td>\n",
       "      <td>[NA, Germany]</td>\n",
       "      <td>Split</td>\n",
       "      <td>Death Metal</td>\n",
       "      <td>[Hells Headbangers]</td>\n",
       "      <td>2021</td>\n",
       "      <td>LP</td>\n",
       "      <td>white with black splatter</td>\n",
       "      <td>100</td>\n",
       "      <td>None</td>\n",
       "      <td>None</td>\n",
       "      <td>2021-01-20</td>\n",
       "      <td>20.00</td>\n",
       "      <td>nan</td>\n",
       "      <td>True</td>\n",
       "      <td>True</td>\n",
       "    </tr>\n",
       "  </tbody>\n",
       "</table>\n",
       "</div>"
      ],
      "text/plain": [
       "                          artist artist_country               title        genre                        label  year record_format                        vinyl_color lim_edition number remarks purchase_date  price  rating  is_digitized  is_active\n",
       "record_id                                                                                                                                                                                                                                            \n",
       "1                    [Dismember]           [NA]              Pieces  Death Metal                         [NA]  1992           12\"                               None        None   None    None    1992-01-01  35.00     nan         False       True\n",
       "2                    [Dismember]           [NA]      Skin Her Alive  Death Metal                         [NA]  1991        7\" Pic                               None        None   None    None    1992-01-01  15.00     nan         False       True\n",
       "225              [Petrification]           [NA]  Hollow of The Void  Death Metal  [Dawnbreed / Sentient Ruin]  2018            LP  green transparent with black haze         200   None    None    2019-07-01  25.00   10.00          True       True\n",
       "301        [Coffins, Depression]  [NA, Germany]               Split  Death Metal          [Hells Headbangers]  2021            LP          white with black splatter         100   None    None    2021-01-20  20.00     nan          True       True"
      ]
     },
     "execution_count": 7,
     "metadata": {},
     "output_type": "execute_result"
    }
   ],
   "source": [
    "record_data = pd.read_parquet(\n",
    "    r\"C:\\Users\\r2d4\\OneDrive\\code\\projects\\20-02_disco\\db_aka_discobase\\back-up\\record_data_2021-02-17-09-02-53.parquet\"\n",
    ")\n",
    "test_records = record_data[record_data.index.isin([1, 2, 225, 301])].copy()\n",
    "test_records.head()"
   ]
  },
  {
   "cell_type": "code",
   "execution_count": 8,
   "metadata": {
    "ExecuteTime": {
     "end_time": "2021-03-09T14:04:11.866906Z",
     "start_time": "2021-03-09T14:04:11.470369Z"
    }
   },
   "outputs": [
    {
     "name": "stderr",
     "output_type": "stream",
     "text": [
      "C:\\Users\\r2d4\\miniconda3\\envs\\py3\\lib\\site-packages\\sqlalchemy\\sql\\sqltypes.py:660: SAWarning: Dialect sqlite+pysqlite does *not* support Decimal objects natively, and SQLAlchemy must convert from floating point - rounding errors and other issues may occur. Please consider storing Decimal numbers as strings or integers on this platform for lossless storage.\n",
      "  util.warn(\n"
     ]
    }
   ],
   "source": [
    "db_functions._insert_record_data_with_sqlalchemy_orm(session, test_records)"
   ]
  },
  {
   "cell_type": "code",
   "execution_count": 9,
   "metadata": {
    "ExecuteTime": {
     "end_time": "2021-03-09T14:04:12.053904Z",
     "start_time": "2021-03-09T14:04:11.871910Z"
    }
   },
   "outputs": [],
   "source": [
    "assert session.query(Record).count() == 4\n",
    "assert session.query(ArtistRecordLink).count() == 5"
   ]
  },
  {
   "cell_type": "markdown",
   "metadata": {},
   "source": [
    "### Insertion of 2 Credit Addition Trx, assert"
   ]
  },
  {
   "cell_type": "code",
   "execution_count": 10,
   "metadata": {
    "ExecuteTime": {
     "end_time": "2021-03-09T14:04:12.286903Z",
     "start_time": "2021-03-09T14:04:12.057906Z"
    }
   },
   "outputs": [],
   "source": [
    "# to_delete = session.query(CreditTrx).filter(CreditTrx.credit_trx_id == 8).one()\n",
    "# session.delete(to_delete)\n",
    "# session.commit()"
   ]
  },
  {
   "cell_type": "code",
   "execution_count": 11,
   "metadata": {
    "ExecuteTime": {
     "end_time": "2021-03-09T14:04:12.482124Z",
     "start_time": "2021-03-09T14:04:12.289907Z"
    }
   },
   "outputs": [
    {
     "name": "stdout",
     "output_type": "stream",
     "text": [
      "Creating 'Addition' Trx for: 2021-03-08\n"
     ]
    }
   ],
   "source": [
    "# Initial trx, 11 days ago\n",
    "\n",
    "addition_trx = CreditTrx(\n",
    "    credit_trx_date=dt.datetime.today().date() - dt.timedelta(11),\n",
    "    credit_trx_type=\"Addition\",\n",
    "    credit_value=1,\n",
    "    credit_saldo=1,\n",
    "    record_id=np.nan\n",
    ")\n",
    "session.add(addition_trx)\n",
    "\n",
    "# And a regular interval addition\n",
    "db_functions.add_regular_credits(session)\n",
    "\n",
    "session.commit()"
   ]
  },
  {
   "cell_type": "code",
   "execution_count": 12,
   "metadata": {
    "ExecuteTime": {
     "end_time": "2021-03-09T14:04:12.696125Z",
     "start_time": "2021-03-09T14:04:12.486124Z"
    }
   },
   "outputs": [
    {
     "data": {
      "text/html": [
       "<div>\n",
       "<style scoped>\n",
       "    .dataframe tbody tr th:only-of-type {\n",
       "        vertical-align: middle;\n",
       "    }\n",
       "\n",
       "    .dataframe tbody tr th {\n",
       "        vertical-align: top;\n",
       "    }\n",
       "\n",
       "    .dataframe thead th {\n",
       "        text-align: right;\n",
       "    }\n",
       "</style>\n",
       "<table border=\"1\" class=\"dataframe\">\n",
       "  <thead>\n",
       "    <tr style=\"text-align: right;\">\n",
       "      <th></th>\n",
       "      <th>credit_trx_id</th>\n",
       "      <th>credit_trx_date</th>\n",
       "      <th>credit_trx_type</th>\n",
       "      <th>credit_value</th>\n",
       "      <th>credit_saldo</th>\n",
       "      <th>record_id</th>\n",
       "      <th>created_at</th>\n",
       "      <th>updated_at</th>\n",
       "    </tr>\n",
       "  </thead>\n",
       "  <tbody>\n",
       "    <tr>\n",
       "      <th>0</th>\n",
       "      <td>1</td>\n",
       "      <td>1992-01-01</td>\n",
       "      <td>Initial Load</td>\n",
       "      <td>0.00</td>\n",
       "      <td>0.00</td>\n",
       "      <td>1.00</td>\n",
       "      <td>2021-03-09 14:04:11</td>\n",
       "      <td>NaT</td>\n",
       "    </tr>\n",
       "    <tr>\n",
       "      <th>1</th>\n",
       "      <td>2</td>\n",
       "      <td>1992-01-01</td>\n",
       "      <td>Initial Load</td>\n",
       "      <td>0.00</td>\n",
       "      <td>0.00</td>\n",
       "      <td>2.00</td>\n",
       "      <td>2021-03-09 14:04:11</td>\n",
       "      <td>NaT</td>\n",
       "    </tr>\n",
       "    <tr>\n",
       "      <th>2</th>\n",
       "      <td>3</td>\n",
       "      <td>2019-07-01</td>\n",
       "      <td>Initial Load</td>\n",
       "      <td>0.00</td>\n",
       "      <td>0.00</td>\n",
       "      <td>3.00</td>\n",
       "      <td>2021-03-09 14:04:11</td>\n",
       "      <td>NaT</td>\n",
       "    </tr>\n",
       "    <tr>\n",
       "      <th>3</th>\n",
       "      <td>4</td>\n",
       "      <td>2021-01-20</td>\n",
       "      <td>Initial Load</td>\n",
       "      <td>0.00</td>\n",
       "      <td>0.00</td>\n",
       "      <td>4.00</td>\n",
       "      <td>2021-03-09 14:04:11</td>\n",
       "      <td>NaT</td>\n",
       "    </tr>\n",
       "    <tr>\n",
       "      <th>4</th>\n",
       "      <td>5</td>\n",
       "      <td>2021-02-26</td>\n",
       "      <td>Addition</td>\n",
       "      <td>1.00</td>\n",
       "      <td>1.00</td>\n",
       "      <td>nan</td>\n",
       "      <td>2021-03-09 14:04:12</td>\n",
       "      <td>NaT</td>\n",
       "    </tr>\n",
       "    <tr>\n",
       "      <th>5</th>\n",
       "      <td>6</td>\n",
       "      <td>2021-03-08</td>\n",
       "      <td>Addition</td>\n",
       "      <td>1.00</td>\n",
       "      <td>2.00</td>\n",
       "      <td>nan</td>\n",
       "      <td>2021-03-09 14:04:12</td>\n",
       "      <td>NaT</td>\n",
       "    </tr>\n",
       "  </tbody>\n",
       "</table>\n",
       "</div>"
      ],
      "text/plain": [
       "   credit_trx_id credit_trx_date credit_trx_type  credit_value  credit_saldo  record_id          created_at updated_at\n",
       "0              1      1992-01-01    Initial Load          0.00          0.00       1.00 2021-03-09 14:04:11        NaT\n",
       "1              2      1992-01-01    Initial Load          0.00          0.00       2.00 2021-03-09 14:04:11        NaT\n",
       "2              3      2019-07-01    Initial Load          0.00          0.00       3.00 2021-03-09 14:04:11        NaT\n",
       "3              4      2021-01-20    Initial Load          0.00          0.00       4.00 2021-03-09 14:04:11        NaT\n",
       "4              5      2021-02-26        Addition          1.00          1.00        nan 2021-03-09 14:04:12        NaT\n",
       "5              6      2021-03-08        Addition          1.00          2.00        nan 2021-03-09 14:04:12        NaT"
      ]
     },
     "execution_count": 12,
     "metadata": {},
     "output_type": "execute_result"
    }
   ],
   "source": [
    "pd.read_sql(\"credit_trx\", engine)"
   ]
  },
  {
   "cell_type": "code",
   "execution_count": 13,
   "metadata": {
    "ExecuteTime": {
     "end_time": "2021-03-09T14:04:12.917168Z",
     "start_time": "2021-03-09T14:04:12.698642Z"
    }
   },
   "outputs": [],
   "source": [
    "assert session.query(CreditTrx).count()\n",
    "assert session.query(func.sum(CreditTrx.credit_value)).all()[0][0] == 2\n",
    "assert session.query(func.max(CreditTrx.credit_saldo)).all()[0][0] == 2"
   ]
  },
  {
   "cell_type": "markdown",
   "metadata": {},
   "source": [
    "### [Display of Tables]"
   ]
  },
  {
   "cell_type": "code",
   "execution_count": 14,
   "metadata": {
    "ExecuteTime": {
     "end_time": "2021-03-09T14:04:13.190172Z",
     "start_time": "2021-03-09T14:04:12.920171Z"
    }
   },
   "outputs": [
    {
     "data": {
      "text/html": [
       "<div>\n",
       "<style scoped>\n",
       "    .dataframe tbody tr th:only-of-type {\n",
       "        vertical-align: middle;\n",
       "    }\n",
       "\n",
       "    .dataframe tbody tr th {\n",
       "        vertical-align: top;\n",
       "    }\n",
       "\n",
       "    .dataframe thead th {\n",
       "        text-align: right;\n",
       "    }\n",
       "</style>\n",
       "<table border=\"1\" class=\"dataframe\">\n",
       "  <thead>\n",
       "    <tr style=\"text-align: right;\">\n",
       "      <th></th>\n",
       "      <th>record_id</th>\n",
       "      <th>title</th>\n",
       "      <th>year</th>\n",
       "      <th>genre_id</th>\n",
       "      <th>format_id</th>\n",
       "      <th>vinyl_color</th>\n",
       "      <th>lim_edition</th>\n",
       "      <th>number</th>\n",
       "      <th>remarks</th>\n",
       "      <th>purchase_date</th>\n",
       "      <th>price</th>\n",
       "      <th>rating</th>\n",
       "      <th>is_digitized</th>\n",
       "      <th>is_active</th>\n",
       "      <th>created_at</th>\n",
       "      <th>updated_at</th>\n",
       "    </tr>\n",
       "  </thead>\n",
       "  <tbody>\n",
       "    <tr>\n",
       "      <th>0</th>\n",
       "      <td>1</td>\n",
       "      <td>Pieces</td>\n",
       "      <td>1992</td>\n",
       "      <td>1</td>\n",
       "      <td>1</td>\n",
       "      <td>None</td>\n",
       "      <td>None</td>\n",
       "      <td>None</td>\n",
       "      <td>None</td>\n",
       "      <td>1992-01-01</td>\n",
       "      <td>35</td>\n",
       "      <td>nan</td>\n",
       "      <td>0</td>\n",
       "      <td>1</td>\n",
       "      <td>2021-03-09 14:04:11</td>\n",
       "      <td>NaT</td>\n",
       "    </tr>\n",
       "    <tr>\n",
       "      <th>1</th>\n",
       "      <td>2</td>\n",
       "      <td>Skin Her Alive</td>\n",
       "      <td>1991</td>\n",
       "      <td>1</td>\n",
       "      <td>2</td>\n",
       "      <td>None</td>\n",
       "      <td>None</td>\n",
       "      <td>None</td>\n",
       "      <td>None</td>\n",
       "      <td>1992-01-01</td>\n",
       "      <td>15</td>\n",
       "      <td>nan</td>\n",
       "      <td>0</td>\n",
       "      <td>1</td>\n",
       "      <td>2021-03-09 14:04:11</td>\n",
       "      <td>NaT</td>\n",
       "    </tr>\n",
       "    <tr>\n",
       "      <th>2</th>\n",
       "      <td>3</td>\n",
       "      <td>Hollow of The Void</td>\n",
       "      <td>2018</td>\n",
       "      <td>1</td>\n",
       "      <td>3</td>\n",
       "      <td>green transparent with black haze</td>\n",
       "      <td>200</td>\n",
       "      <td>None</td>\n",
       "      <td>None</td>\n",
       "      <td>2019-07-01</td>\n",
       "      <td>25</td>\n",
       "      <td>10.00</td>\n",
       "      <td>1</td>\n",
       "      <td>1</td>\n",
       "      <td>2021-03-09 14:04:11</td>\n",
       "      <td>NaT</td>\n",
       "    </tr>\n",
       "    <tr>\n",
       "      <th>3</th>\n",
       "      <td>4</td>\n",
       "      <td>Split</td>\n",
       "      <td>2021</td>\n",
       "      <td>1</td>\n",
       "      <td>3</td>\n",
       "      <td>white with black splatter</td>\n",
       "      <td>100</td>\n",
       "      <td>None</td>\n",
       "      <td>None</td>\n",
       "      <td>2021-01-20</td>\n",
       "      <td>20</td>\n",
       "      <td>nan</td>\n",
       "      <td>1</td>\n",
       "      <td>1</td>\n",
       "      <td>2021-03-09 14:04:11</td>\n",
       "      <td>NaT</td>\n",
       "    </tr>\n",
       "  </tbody>\n",
       "</table>\n",
       "</div>"
      ],
      "text/plain": [
       "   record_id               title  year  genre_id  format_id                        vinyl_color lim_edition number remarks purchase_date  price  rating  is_digitized  is_active          created_at updated_at\n",
       "0          1              Pieces  1992         1          1                               None        None   None    None    1992-01-01     35     nan             0          1 2021-03-09 14:04:11        NaT\n",
       "1          2      Skin Her Alive  1991         1          2                               None        None   None    None    1992-01-01     15     nan             0          1 2021-03-09 14:04:11        NaT\n",
       "2          3  Hollow of The Void  2018         1          3  green transparent with black haze         200   None    None    2019-07-01     25   10.00             1          1 2021-03-09 14:04:11        NaT\n",
       "3          4               Split  2021         1          3          white with black splatter         100   None    None    2021-01-20     20     nan             1          1 2021-03-09 14:04:11        NaT"
      ]
     },
     "execution_count": 14,
     "metadata": {},
     "output_type": "execute_result"
    }
   ],
   "source": [
    "pd.read_sql(\"records\", engine)"
   ]
  },
  {
   "cell_type": "code",
   "execution_count": 15,
   "metadata": {
    "ExecuteTime": {
     "end_time": "2021-03-09T14:04:13.425168Z",
     "start_time": "2021-03-09T14:04:13.193172Z"
    }
   },
   "outputs": [
    {
     "data": {
      "text/html": [
       "<div>\n",
       "<style scoped>\n",
       "    .dataframe tbody tr th:only-of-type {\n",
       "        vertical-align: middle;\n",
       "    }\n",
       "\n",
       "    .dataframe tbody tr th {\n",
       "        vertical-align: top;\n",
       "    }\n",
       "\n",
       "    .dataframe thead th {\n",
       "        text-align: right;\n",
       "    }\n",
       "</style>\n",
       "<table border=\"1\" class=\"dataframe\">\n",
       "  <thead>\n",
       "    <tr style=\"text-align: right;\">\n",
       "      <th></th>\n",
       "      <th>artist_id</th>\n",
       "      <th>artist_name</th>\n",
       "      <th>artist_country</th>\n",
       "      <th>created_at</th>\n",
       "      <th>updated_at</th>\n",
       "    </tr>\n",
       "  </thead>\n",
       "  <tbody>\n",
       "    <tr>\n",
       "      <th>0</th>\n",
       "      <td>1</td>\n",
       "      <td>Dismember</td>\n",
       "      <td>NA</td>\n",
       "      <td>2021-03-09 14:04:11</td>\n",
       "      <td>NaT</td>\n",
       "    </tr>\n",
       "    <tr>\n",
       "      <th>1</th>\n",
       "      <td>2</td>\n",
       "      <td>Petrification</td>\n",
       "      <td>NA</td>\n",
       "      <td>2021-03-09 14:04:11</td>\n",
       "      <td>NaT</td>\n",
       "    </tr>\n",
       "    <tr>\n",
       "      <th>2</th>\n",
       "      <td>3</td>\n",
       "      <td>Coffins</td>\n",
       "      <td>NA</td>\n",
       "      <td>2021-03-09 14:04:11</td>\n",
       "      <td>NaT</td>\n",
       "    </tr>\n",
       "    <tr>\n",
       "      <th>3</th>\n",
       "      <td>4</td>\n",
       "      <td>Depression</td>\n",
       "      <td>Germany</td>\n",
       "      <td>2021-03-09 14:04:11</td>\n",
       "      <td>NaT</td>\n",
       "    </tr>\n",
       "  </tbody>\n",
       "</table>\n",
       "</div>"
      ],
      "text/plain": [
       "   artist_id    artist_name artist_country          created_at updated_at\n",
       "0          1      Dismember             NA 2021-03-09 14:04:11        NaT\n",
       "1          2  Petrification             NA 2021-03-09 14:04:11        NaT\n",
       "2          3        Coffins             NA 2021-03-09 14:04:11        NaT\n",
       "3          4     Depression        Germany 2021-03-09 14:04:11        NaT"
      ]
     },
     "execution_count": 15,
     "metadata": {},
     "output_type": "execute_result"
    }
   ],
   "source": [
    "pd.read_sql(\"artists\", engine)"
   ]
  },
  {
   "cell_type": "code",
   "execution_count": 16,
   "metadata": {
    "ExecuteTime": {
     "end_time": "2021-03-09T14:04:13.622175Z",
     "start_time": "2021-03-09T14:04:13.428174Z"
    }
   },
   "outputs": [
    {
     "data": {
      "text/html": [
       "<div>\n",
       "<style scoped>\n",
       "    .dataframe tbody tr th:only-of-type {\n",
       "        vertical-align: middle;\n",
       "    }\n",
       "\n",
       "    .dataframe tbody tr th {\n",
       "        vertical-align: top;\n",
       "    }\n",
       "\n",
       "    .dataframe thead th {\n",
       "        text-align: right;\n",
       "    }\n",
       "</style>\n",
       "<table border=\"1\" class=\"dataframe\">\n",
       "  <thead>\n",
       "    <tr style=\"text-align: right;\">\n",
       "      <th></th>\n",
       "      <th>label_id</th>\n",
       "      <th>label_name</th>\n",
       "      <th>created_at</th>\n",
       "      <th>updated_at</th>\n",
       "    </tr>\n",
       "  </thead>\n",
       "  <tbody>\n",
       "    <tr>\n",
       "      <th>0</th>\n",
       "      <td>1</td>\n",
       "      <td>NA</td>\n",
       "      <td>2021-03-09 14:04:11</td>\n",
       "      <td>NaT</td>\n",
       "    </tr>\n",
       "    <tr>\n",
       "      <th>1</th>\n",
       "      <td>2</td>\n",
       "      <td>Dawnbreed / Sentient Ruin</td>\n",
       "      <td>2021-03-09 14:04:11</td>\n",
       "      <td>NaT</td>\n",
       "    </tr>\n",
       "    <tr>\n",
       "      <th>2</th>\n",
       "      <td>3</td>\n",
       "      <td>Hells Headbangers</td>\n",
       "      <td>2021-03-09 14:04:11</td>\n",
       "      <td>NaT</td>\n",
       "    </tr>\n",
       "  </tbody>\n",
       "</table>\n",
       "</div>"
      ],
      "text/plain": [
       "   label_id                 label_name          created_at updated_at\n",
       "0         1                         NA 2021-03-09 14:04:11        NaT\n",
       "1         2  Dawnbreed / Sentient Ruin 2021-03-09 14:04:11        NaT\n",
       "2         3          Hells Headbangers 2021-03-09 14:04:11        NaT"
      ]
     },
     "execution_count": 16,
     "metadata": {},
     "output_type": "execute_result"
    }
   ],
   "source": [
    "pd.read_sql(\"labels\", engine)"
   ]
  },
  {
   "cell_type": "code",
   "execution_count": 17,
   "metadata": {
    "ExecuteTime": {
     "end_time": "2021-03-09T14:04:13.823169Z",
     "start_time": "2021-03-09T14:04:13.625171Z"
    }
   },
   "outputs": [
    {
     "data": {
      "text/html": [
       "<div>\n",
       "<style scoped>\n",
       "    .dataframe tbody tr th:only-of-type {\n",
       "        vertical-align: middle;\n",
       "    }\n",
       "\n",
       "    .dataframe tbody tr th {\n",
       "        vertical-align: top;\n",
       "    }\n",
       "\n",
       "    .dataframe thead th {\n",
       "        text-align: right;\n",
       "    }\n",
       "</style>\n",
       "<table border=\"1\" class=\"dataframe\">\n",
       "  <thead>\n",
       "    <tr style=\"text-align: right;\">\n",
       "      <th></th>\n",
       "      <th>artist_id</th>\n",
       "      <th>label_id</th>\n",
       "    </tr>\n",
       "  </thead>\n",
       "  <tbody>\n",
       "    <tr>\n",
       "      <th>0</th>\n",
       "      <td>1</td>\n",
       "      <td>1</td>\n",
       "    </tr>\n",
       "    <tr>\n",
       "      <th>1</th>\n",
       "      <td>2</td>\n",
       "      <td>2</td>\n",
       "    </tr>\n",
       "    <tr>\n",
       "      <th>2</th>\n",
       "      <td>3</td>\n",
       "      <td>3</td>\n",
       "    </tr>\n",
       "    <tr>\n",
       "      <th>3</th>\n",
       "      <td>4</td>\n",
       "      <td>3</td>\n",
       "    </tr>\n",
       "  </tbody>\n",
       "</table>\n",
       "</div>"
      ],
      "text/plain": [
       "   artist_id  label_id\n",
       "0          1         1\n",
       "1          2         2\n",
       "2          3         3\n",
       "3          4         3"
      ]
     },
     "execution_count": 17,
     "metadata": {},
     "output_type": "execute_result"
    }
   ],
   "source": [
    "pd.read_sql(\"artist_label_link\", engine)"
   ]
  },
  {
   "cell_type": "code",
   "execution_count": 18,
   "metadata": {
    "ExecuteTime": {
     "end_time": "2021-03-09T14:04:14.060169Z",
     "start_time": "2021-03-09T14:04:13.826172Z"
    }
   },
   "outputs": [
    {
     "data": {
      "text/html": [
       "<div>\n",
       "<style scoped>\n",
       "    .dataframe tbody tr th:only-of-type {\n",
       "        vertical-align: middle;\n",
       "    }\n",
       "\n",
       "    .dataframe tbody tr th {\n",
       "        vertical-align: top;\n",
       "    }\n",
       "\n",
       "    .dataframe thead th {\n",
       "        text-align: right;\n",
       "    }\n",
       "</style>\n",
       "<table border=\"1\" class=\"dataframe\">\n",
       "  <thead>\n",
       "    <tr style=\"text-align: right;\">\n",
       "      <th></th>\n",
       "      <th>artist_id</th>\n",
       "      <th>label_id</th>\n",
       "    </tr>\n",
       "  </thead>\n",
       "  <tbody>\n",
       "    <tr>\n",
       "      <th>0</th>\n",
       "      <td>1</td>\n",
       "      <td>1</td>\n",
       "    </tr>\n",
       "    <tr>\n",
       "      <th>1</th>\n",
       "      <td>2</td>\n",
       "      <td>2</td>\n",
       "    </tr>\n",
       "    <tr>\n",
       "      <th>2</th>\n",
       "      <td>3</td>\n",
       "      <td>3</td>\n",
       "    </tr>\n",
       "    <tr>\n",
       "      <th>3</th>\n",
       "      <td>4</td>\n",
       "      <td>3</td>\n",
       "    </tr>\n",
       "  </tbody>\n",
       "</table>\n",
       "</div>"
      ],
      "text/plain": [
       "   artist_id  label_id\n",
       "0          1         1\n",
       "1          2         2\n",
       "2          3         3\n",
       "3          4         3"
      ]
     },
     "execution_count": 18,
     "metadata": {},
     "output_type": "execute_result"
    }
   ],
   "source": [
    "pd.read_sql(\"artist_label_link\", engine)"
   ]
  },
  {
   "cell_type": "code",
   "execution_count": 19,
   "metadata": {
    "ExecuteTime": {
     "end_time": "2021-03-09T14:04:14.245189Z",
     "start_time": "2021-03-09T14:04:14.063171Z"
    }
   },
   "outputs": [],
   "source": [
    "session.close()"
   ]
  },
  {
   "cell_type": "markdown",
   "metadata": {},
   "source": [
    "### Removal of Existing Record, assert\n",
    "\n",
    "Necessary cols: trx_type, credit_value, title, artist, date"
   ]
  },
  {
   "cell_type": "code",
   "execution_count": 20,
   "metadata": {
    "ExecuteTime": {
     "end_time": "2021-03-09T14:04:14.420167Z",
     "start_time": "2021-03-09T14:04:14.247168Z"
    }
   },
   "outputs": [],
   "source": [
    "test_removal = {\n",
    "    \"trx_type\": \"Remove\",\n",
    "    \"credit_value\": 1,\n",
    "    \"artist\": \"Coffins\",\n",
    "    \"title\": \"Split\",\n",
    "#     \"year\": 1993,\n",
    "    \"removal_date\": dt.datetime.today().date()\n",
    "}"
   ]
  },
  {
   "cell_type": "code",
   "execution_count": 21,
   "metadata": {
    "ExecuteTime": {
     "end_time": "2021-03-09T14:04:14.621169Z",
     "start_time": "2021-03-09T14:04:14.422169Z"
    }
   },
   "outputs": [
    {
     "name": "stdout",
     "output_type": "stream",
     "text": [
      "Record set to inactive.\n"
     ]
    },
    {
     "data": {
      "text/plain": [
       "False"
      ]
     },
     "execution_count": 21,
     "metadata": {},
     "output_type": "execute_result"
    }
   ],
   "source": [
    "db_functions.set_record_to_inactive(session, test_removal)\n",
    "session.query(func.count(distinct(Record.is_active))).all()[0][0] == 3\n",
    "assert len(session.query(CreditTrx).all()) == 7"
   ]
  },
  {
   "cell_type": "code",
   "execution_count": 22,
   "metadata": {
    "ExecuteTime": {
     "end_time": "2021-03-09T14:04:14.820169Z",
     "start_time": "2021-03-09T14:04:14.625188Z"
    }
   },
   "outputs": [],
   "source": [
    "# session.query(CreditTrx).all()[-3:]"
   ]
  },
  {
   "cell_type": "markdown",
   "metadata": {},
   "source": [
    "### Reactivation of inactive Record [OPEN]"
   ]
  },
  {
   "cell_type": "code",
   "execution_count": 23,
   "metadata": {
    "ExecuteTime": {
     "end_time": "2021-03-09T14:04:15.016167Z",
     "start_time": "2021-03-09T14:04:14.823170Z"
    }
   },
   "outputs": [],
   "source": [
    "# ATTENTION It has to be possible ro re-add inactive records! (and to pay for it in credits!)"
   ]
  },
  {
   "cell_type": "markdown",
   "metadata": {},
   "source": [
    "### [Display Of Tables]"
   ]
  },
  {
   "cell_type": "code",
   "execution_count": 24,
   "metadata": {
    "ExecuteTime": {
     "end_time": "2021-03-09T14:04:15.266167Z",
     "start_time": "2021-03-09T14:04:15.019172Z"
    }
   },
   "outputs": [
    {
     "data": {
      "text/html": [
       "<div>\n",
       "<style scoped>\n",
       "    .dataframe tbody tr th:only-of-type {\n",
       "        vertical-align: middle;\n",
       "    }\n",
       "\n",
       "    .dataframe tbody tr th {\n",
       "        vertical-align: top;\n",
       "    }\n",
       "\n",
       "    .dataframe thead th {\n",
       "        text-align: right;\n",
       "    }\n",
       "</style>\n",
       "<table border=\"1\" class=\"dataframe\">\n",
       "  <thead>\n",
       "    <tr style=\"text-align: right;\">\n",
       "      <th></th>\n",
       "      <th>record_id</th>\n",
       "      <th>title</th>\n",
       "      <th>year</th>\n",
       "      <th>genre_id</th>\n",
       "      <th>format_id</th>\n",
       "      <th>vinyl_color</th>\n",
       "      <th>lim_edition</th>\n",
       "      <th>number</th>\n",
       "      <th>remarks</th>\n",
       "      <th>purchase_date</th>\n",
       "      <th>price</th>\n",
       "      <th>rating</th>\n",
       "      <th>is_digitized</th>\n",
       "      <th>is_active</th>\n",
       "      <th>created_at</th>\n",
       "      <th>updated_at</th>\n",
       "    </tr>\n",
       "  </thead>\n",
       "  <tbody>\n",
       "    <tr>\n",
       "      <th>0</th>\n",
       "      <td>1</td>\n",
       "      <td>Pieces</td>\n",
       "      <td>1992</td>\n",
       "      <td>1</td>\n",
       "      <td>1</td>\n",
       "      <td>None</td>\n",
       "      <td>None</td>\n",
       "      <td>None</td>\n",
       "      <td>None</td>\n",
       "      <td>1992-01-01</td>\n",
       "      <td>35</td>\n",
       "      <td>nan</td>\n",
       "      <td>0</td>\n",
       "      <td>1</td>\n",
       "      <td>2021-03-09 14:04:11</td>\n",
       "      <td>NaT</td>\n",
       "    </tr>\n",
       "    <tr>\n",
       "      <th>1</th>\n",
       "      <td>2</td>\n",
       "      <td>Skin Her Alive</td>\n",
       "      <td>1991</td>\n",
       "      <td>1</td>\n",
       "      <td>2</td>\n",
       "      <td>None</td>\n",
       "      <td>None</td>\n",
       "      <td>None</td>\n",
       "      <td>None</td>\n",
       "      <td>1992-01-01</td>\n",
       "      <td>15</td>\n",
       "      <td>nan</td>\n",
       "      <td>0</td>\n",
       "      <td>1</td>\n",
       "      <td>2021-03-09 14:04:11</td>\n",
       "      <td>NaT</td>\n",
       "    </tr>\n",
       "    <tr>\n",
       "      <th>2</th>\n",
       "      <td>3</td>\n",
       "      <td>Hollow of The Void</td>\n",
       "      <td>2018</td>\n",
       "      <td>1</td>\n",
       "      <td>3</td>\n",
       "      <td>green transparent with black haze</td>\n",
       "      <td>200</td>\n",
       "      <td>None</td>\n",
       "      <td>None</td>\n",
       "      <td>2019-07-01</td>\n",
       "      <td>25</td>\n",
       "      <td>10.00</td>\n",
       "      <td>1</td>\n",
       "      <td>1</td>\n",
       "      <td>2021-03-09 14:04:11</td>\n",
       "      <td>NaT</td>\n",
       "    </tr>\n",
       "    <tr>\n",
       "      <th>3</th>\n",
       "      <td>4</td>\n",
       "      <td>Split</td>\n",
       "      <td>2021</td>\n",
       "      <td>1</td>\n",
       "      <td>3</td>\n",
       "      <td>white with black splatter</td>\n",
       "      <td>100</td>\n",
       "      <td>None</td>\n",
       "      <td>None</td>\n",
       "      <td>2021-01-20</td>\n",
       "      <td>20</td>\n",
       "      <td>nan</td>\n",
       "      <td>1</td>\n",
       "      <td>0</td>\n",
       "      <td>2021-03-09 14:04:11</td>\n",
       "      <td>2021-03-09 14:04:14</td>\n",
       "    </tr>\n",
       "  </tbody>\n",
       "</table>\n",
       "</div>"
      ],
      "text/plain": [
       "   record_id               title  year  genre_id  format_id                        vinyl_color lim_edition number remarks purchase_date  price  rating  is_digitized  is_active          created_at          updated_at\n",
       "0          1              Pieces  1992         1          1                               None        None   None    None    1992-01-01     35     nan             0          1 2021-03-09 14:04:11                 NaT\n",
       "1          2      Skin Her Alive  1991         1          2                               None        None   None    None    1992-01-01     15     nan             0          1 2021-03-09 14:04:11                 NaT\n",
       "2          3  Hollow of The Void  2018         1          3  green transparent with black haze         200   None    None    2019-07-01     25   10.00             1          1 2021-03-09 14:04:11                 NaT\n",
       "3          4               Split  2021         1          3          white with black splatter         100   None    None    2021-01-20     20     nan             1          0 2021-03-09 14:04:11 2021-03-09 14:04:14"
      ]
     },
     "execution_count": 24,
     "metadata": {},
     "output_type": "execute_result"
    }
   ],
   "source": [
    "pd.read_sql(\"records\", engine)"
   ]
  },
  {
   "cell_type": "code",
   "execution_count": 25,
   "metadata": {
    "ExecuteTime": {
     "end_time": "2021-03-09T14:04:15.470172Z",
     "start_time": "2021-03-09T14:04:15.268169Z"
    }
   },
   "outputs": [
    {
     "data": {
      "text/html": [
       "<div>\n",
       "<style scoped>\n",
       "    .dataframe tbody tr th:only-of-type {\n",
       "        vertical-align: middle;\n",
       "    }\n",
       "\n",
       "    .dataframe tbody tr th {\n",
       "        vertical-align: top;\n",
       "    }\n",
       "\n",
       "    .dataframe thead th {\n",
       "        text-align: right;\n",
       "    }\n",
       "</style>\n",
       "<table border=\"1\" class=\"dataframe\">\n",
       "  <thead>\n",
       "    <tr style=\"text-align: right;\">\n",
       "      <th></th>\n",
       "      <th>artist_id</th>\n",
       "      <th>artist_name</th>\n",
       "      <th>artist_country</th>\n",
       "      <th>created_at</th>\n",
       "      <th>updated_at</th>\n",
       "    </tr>\n",
       "  </thead>\n",
       "  <tbody>\n",
       "    <tr>\n",
       "      <th>0</th>\n",
       "      <td>1</td>\n",
       "      <td>Dismember</td>\n",
       "      <td>NA</td>\n",
       "      <td>2021-03-09 14:04:11</td>\n",
       "      <td>NaT</td>\n",
       "    </tr>\n",
       "    <tr>\n",
       "      <th>1</th>\n",
       "      <td>2</td>\n",
       "      <td>Petrification</td>\n",
       "      <td>NA</td>\n",
       "      <td>2021-03-09 14:04:11</td>\n",
       "      <td>NaT</td>\n",
       "    </tr>\n",
       "    <tr>\n",
       "      <th>2</th>\n",
       "      <td>3</td>\n",
       "      <td>Coffins</td>\n",
       "      <td>NA</td>\n",
       "      <td>2021-03-09 14:04:11</td>\n",
       "      <td>NaT</td>\n",
       "    </tr>\n",
       "    <tr>\n",
       "      <th>3</th>\n",
       "      <td>4</td>\n",
       "      <td>Depression</td>\n",
       "      <td>Germany</td>\n",
       "      <td>2021-03-09 14:04:11</td>\n",
       "      <td>NaT</td>\n",
       "    </tr>\n",
       "  </tbody>\n",
       "</table>\n",
       "</div>"
      ],
      "text/plain": [
       "   artist_id    artist_name artist_country          created_at updated_at\n",
       "0          1      Dismember             NA 2021-03-09 14:04:11        NaT\n",
       "1          2  Petrification             NA 2021-03-09 14:04:11        NaT\n",
       "2          3        Coffins             NA 2021-03-09 14:04:11        NaT\n",
       "3          4     Depression        Germany 2021-03-09 14:04:11        NaT"
      ]
     },
     "execution_count": 25,
     "metadata": {},
     "output_type": "execute_result"
    }
   ],
   "source": [
    "pd.read_sql(\"artists\", engine)"
   ]
  },
  {
   "cell_type": "code",
   "execution_count": 26,
   "metadata": {
    "ExecuteTime": {
     "end_time": "2021-03-09T14:04:15.734169Z",
     "start_time": "2021-03-09T14:04:15.473170Z"
    }
   },
   "outputs": [
    {
     "data": {
      "text/html": [
       "<div>\n",
       "<style scoped>\n",
       "    .dataframe tbody tr th:only-of-type {\n",
       "        vertical-align: middle;\n",
       "    }\n",
       "\n",
       "    .dataframe tbody tr th {\n",
       "        vertical-align: top;\n",
       "    }\n",
       "\n",
       "    .dataframe thead th {\n",
       "        text-align: right;\n",
       "    }\n",
       "</style>\n",
       "<table border=\"1\" class=\"dataframe\">\n",
       "  <thead>\n",
       "    <tr style=\"text-align: right;\">\n",
       "      <th></th>\n",
       "      <th>artist_id</th>\n",
       "      <th>record_id</th>\n",
       "    </tr>\n",
       "  </thead>\n",
       "  <tbody>\n",
       "    <tr>\n",
       "      <th>0</th>\n",
       "      <td>1</td>\n",
       "      <td>1</td>\n",
       "    </tr>\n",
       "    <tr>\n",
       "      <th>1</th>\n",
       "      <td>1</td>\n",
       "      <td>2</td>\n",
       "    </tr>\n",
       "    <tr>\n",
       "      <th>2</th>\n",
       "      <td>2</td>\n",
       "      <td>3</td>\n",
       "    </tr>\n",
       "    <tr>\n",
       "      <th>3</th>\n",
       "      <td>3</td>\n",
       "      <td>4</td>\n",
       "    </tr>\n",
       "    <tr>\n",
       "      <th>4</th>\n",
       "      <td>4</td>\n",
       "      <td>4</td>\n",
       "    </tr>\n",
       "  </tbody>\n",
       "</table>\n",
       "</div>"
      ],
      "text/plain": [
       "   artist_id  record_id\n",
       "0          1          1\n",
       "1          1          2\n",
       "2          2          3\n",
       "3          3          4\n",
       "4          4          4"
      ]
     },
     "execution_count": 26,
     "metadata": {},
     "output_type": "execute_result"
    }
   ],
   "source": [
    "pd.read_sql(\"artist_record_link\", engine)"
   ]
  },
  {
   "cell_type": "code",
   "execution_count": 27,
   "metadata": {
    "ExecuteTime": {
     "end_time": "2021-03-09T14:04:15.988169Z",
     "start_time": "2021-03-09T14:04:15.742170Z"
    }
   },
   "outputs": [
    {
     "data": {
      "text/html": [
       "<div>\n",
       "<style scoped>\n",
       "    .dataframe tbody tr th:only-of-type {\n",
       "        vertical-align: middle;\n",
       "    }\n",
       "\n",
       "    .dataframe tbody tr th {\n",
       "        vertical-align: top;\n",
       "    }\n",
       "\n",
       "    .dataframe thead th {\n",
       "        text-align: right;\n",
       "    }\n",
       "</style>\n",
       "<table border=\"1\" class=\"dataframe\">\n",
       "  <thead>\n",
       "    <tr style=\"text-align: right;\">\n",
       "      <th></th>\n",
       "      <th>genre_id</th>\n",
       "      <th>genre_name</th>\n",
       "      <th>created_at</th>\n",
       "      <th>updated_at</th>\n",
       "    </tr>\n",
       "  </thead>\n",
       "  <tbody>\n",
       "    <tr>\n",
       "      <th>0</th>\n",
       "      <td>1</td>\n",
       "      <td>Death Metal</td>\n",
       "      <td>2021-03-09 14:04:11</td>\n",
       "      <td>NaT</td>\n",
       "    </tr>\n",
       "  </tbody>\n",
       "</table>\n",
       "</div>"
      ],
      "text/plain": [
       "   genre_id   genre_name          created_at updated_at\n",
       "0         1  Death Metal 2021-03-09 14:04:11        NaT"
      ]
     },
     "execution_count": 27,
     "metadata": {},
     "output_type": "execute_result"
    }
   ],
   "source": [
    "pd.read_sql(\"genres\", engine)"
   ]
  },
  {
   "cell_type": "code",
   "execution_count": 28,
   "metadata": {
    "ExecuteTime": {
     "end_time": "2021-03-09T14:04:16.230173Z",
     "start_time": "2021-03-09T14:04:15.993169Z"
    }
   },
   "outputs": [
    {
     "data": {
      "text/html": [
       "<div>\n",
       "<style scoped>\n",
       "    .dataframe tbody tr th:only-of-type {\n",
       "        vertical-align: middle;\n",
       "    }\n",
       "\n",
       "    .dataframe tbody tr th {\n",
       "        vertical-align: top;\n",
       "    }\n",
       "\n",
       "    .dataframe thead th {\n",
       "        text-align: right;\n",
       "    }\n",
       "</style>\n",
       "<table border=\"1\" class=\"dataframe\">\n",
       "  <thead>\n",
       "    <tr style=\"text-align: right;\">\n",
       "      <th></th>\n",
       "      <th>artist_id</th>\n",
       "      <th>genre_id</th>\n",
       "    </tr>\n",
       "  </thead>\n",
       "  <tbody>\n",
       "    <tr>\n",
       "      <th>0</th>\n",
       "      <td>1</td>\n",
       "      <td>1</td>\n",
       "    </tr>\n",
       "    <tr>\n",
       "      <th>1</th>\n",
       "      <td>2</td>\n",
       "      <td>1</td>\n",
       "    </tr>\n",
       "    <tr>\n",
       "      <th>2</th>\n",
       "      <td>3</td>\n",
       "      <td>1</td>\n",
       "    </tr>\n",
       "    <tr>\n",
       "      <th>3</th>\n",
       "      <td>4</td>\n",
       "      <td>1</td>\n",
       "    </tr>\n",
       "  </tbody>\n",
       "</table>\n",
       "</div>"
      ],
      "text/plain": [
       "   artist_id  genre_id\n",
       "0          1         1\n",
       "1          2         1\n",
       "2          3         1\n",
       "3          4         1"
      ]
     },
     "execution_count": 28,
     "metadata": {},
     "output_type": "execute_result"
    }
   ],
   "source": [
    "pd.read_sql(\"artist_genre_link\", engine)"
   ]
  },
  {
   "cell_type": "code",
   "execution_count": 29,
   "metadata": {
    "ExecuteTime": {
     "end_time": "2021-03-09T14:04:16.465169Z",
     "start_time": "2021-03-09T14:04:16.233172Z"
    }
   },
   "outputs": [
    {
     "data": {
      "text/html": [
       "<div>\n",
       "<style scoped>\n",
       "    .dataframe tbody tr th:only-of-type {\n",
       "        vertical-align: middle;\n",
       "    }\n",
       "\n",
       "    .dataframe tbody tr th {\n",
       "        vertical-align: top;\n",
       "    }\n",
       "\n",
       "    .dataframe thead th {\n",
       "        text-align: right;\n",
       "    }\n",
       "</style>\n",
       "<table border=\"1\" class=\"dataframe\">\n",
       "  <thead>\n",
       "    <tr style=\"text-align: right;\">\n",
       "      <th></th>\n",
       "      <th>format_id</th>\n",
       "      <th>format_name</th>\n",
       "      <th>created_at</th>\n",
       "      <th>updated_at</th>\n",
       "    </tr>\n",
       "  </thead>\n",
       "  <tbody>\n",
       "    <tr>\n",
       "      <th>0</th>\n",
       "      <td>1</td>\n",
       "      <td>12\"</td>\n",
       "      <td>2021-03-09 14:04:11</td>\n",
       "      <td>NaT</td>\n",
       "    </tr>\n",
       "    <tr>\n",
       "      <th>1</th>\n",
       "      <td>2</td>\n",
       "      <td>7\" Pic</td>\n",
       "      <td>2021-03-09 14:04:11</td>\n",
       "      <td>NaT</td>\n",
       "    </tr>\n",
       "    <tr>\n",
       "      <th>2</th>\n",
       "      <td>3</td>\n",
       "      <td>LP</td>\n",
       "      <td>2021-03-09 14:04:11</td>\n",
       "      <td>NaT</td>\n",
       "    </tr>\n",
       "  </tbody>\n",
       "</table>\n",
       "</div>"
      ],
      "text/plain": [
       "   format_id format_name          created_at updated_at\n",
       "0          1         12\" 2021-03-09 14:04:11        NaT\n",
       "1          2      7\" Pic 2021-03-09 14:04:11        NaT\n",
       "2          3          LP 2021-03-09 14:04:11        NaT"
      ]
     },
     "execution_count": 29,
     "metadata": {},
     "output_type": "execute_result"
    }
   ],
   "source": [
    "pd.read_sql(\"formats\", engine)"
   ]
  },
  {
   "cell_type": "code",
   "execution_count": 30,
   "metadata": {
    "ExecuteTime": {
     "end_time": "2021-03-09T14:04:16.661339Z",
     "start_time": "2021-03-09T14:04:16.468175Z"
    }
   },
   "outputs": [
    {
     "data": {
      "text/html": [
       "<div>\n",
       "<style scoped>\n",
       "    .dataframe tbody tr th:only-of-type {\n",
       "        vertical-align: middle;\n",
       "    }\n",
       "\n",
       "    .dataframe tbody tr th {\n",
       "        vertical-align: top;\n",
       "    }\n",
       "\n",
       "    .dataframe thead th {\n",
       "        text-align: right;\n",
       "    }\n",
       "</style>\n",
       "<table border=\"1\" class=\"dataframe\">\n",
       "  <thead>\n",
       "    <tr style=\"text-align: right;\">\n",
       "      <th></th>\n",
       "      <th>label_id</th>\n",
       "      <th>label_name</th>\n",
       "      <th>created_at</th>\n",
       "      <th>updated_at</th>\n",
       "    </tr>\n",
       "  </thead>\n",
       "  <tbody>\n",
       "    <tr>\n",
       "      <th>0</th>\n",
       "      <td>1</td>\n",
       "      <td>NA</td>\n",
       "      <td>2021-03-09 14:04:11</td>\n",
       "      <td>NaT</td>\n",
       "    </tr>\n",
       "    <tr>\n",
       "      <th>1</th>\n",
       "      <td>2</td>\n",
       "      <td>Dawnbreed / Sentient Ruin</td>\n",
       "      <td>2021-03-09 14:04:11</td>\n",
       "      <td>NaT</td>\n",
       "    </tr>\n",
       "    <tr>\n",
       "      <th>2</th>\n",
       "      <td>3</td>\n",
       "      <td>Hells Headbangers</td>\n",
       "      <td>2021-03-09 14:04:11</td>\n",
       "      <td>NaT</td>\n",
       "    </tr>\n",
       "  </tbody>\n",
       "</table>\n",
       "</div>"
      ],
      "text/plain": [
       "   label_id                 label_name          created_at updated_at\n",
       "0         1                         NA 2021-03-09 14:04:11        NaT\n",
       "1         2  Dawnbreed / Sentient Ruin 2021-03-09 14:04:11        NaT\n",
       "2         3          Hells Headbangers 2021-03-09 14:04:11        NaT"
      ]
     },
     "execution_count": 30,
     "metadata": {},
     "output_type": "execute_result"
    }
   ],
   "source": [
    "pd.read_sql(\"labels\", engine)"
   ]
  },
  {
   "cell_type": "code",
   "execution_count": 31,
   "metadata": {
    "ExecuteTime": {
     "end_time": "2021-03-09T14:04:16.856337Z",
     "start_time": "2021-03-09T14:04:16.664339Z"
    }
   },
   "outputs": [
    {
     "data": {
      "text/html": [
       "<div>\n",
       "<style scoped>\n",
       "    .dataframe tbody tr th:only-of-type {\n",
       "        vertical-align: middle;\n",
       "    }\n",
       "\n",
       "    .dataframe tbody tr th {\n",
       "        vertical-align: top;\n",
       "    }\n",
       "\n",
       "    .dataframe thead th {\n",
       "        text-align: right;\n",
       "    }\n",
       "</style>\n",
       "<table border=\"1\" class=\"dataframe\">\n",
       "  <thead>\n",
       "    <tr style=\"text-align: right;\">\n",
       "      <th></th>\n",
       "      <th>label_id</th>\n",
       "      <th>record_id</th>\n",
       "    </tr>\n",
       "  </thead>\n",
       "  <tbody>\n",
       "    <tr>\n",
       "      <th>0</th>\n",
       "      <td>1</td>\n",
       "      <td>1</td>\n",
       "    </tr>\n",
       "    <tr>\n",
       "      <th>1</th>\n",
       "      <td>1</td>\n",
       "      <td>2</td>\n",
       "    </tr>\n",
       "    <tr>\n",
       "      <th>2</th>\n",
       "      <td>2</td>\n",
       "      <td>3</td>\n",
       "    </tr>\n",
       "    <tr>\n",
       "      <th>3</th>\n",
       "      <td>3</td>\n",
       "      <td>4</td>\n",
       "    </tr>\n",
       "  </tbody>\n",
       "</table>\n",
       "</div>"
      ],
      "text/plain": [
       "   label_id  record_id\n",
       "0         1          1\n",
       "1         1          2\n",
       "2         2          3\n",
       "3         3          4"
      ]
     },
     "execution_count": 31,
     "metadata": {},
     "output_type": "execute_result"
    }
   ],
   "source": [
    "pd.read_sql(\"label_record_link\", engine)"
   ]
  },
  {
   "cell_type": "code",
   "execution_count": 32,
   "metadata": {
    "ExecuteTime": {
     "end_time": "2021-03-09T14:04:17.051335Z",
     "start_time": "2021-03-09T14:04:16.858337Z"
    }
   },
   "outputs": [
    {
     "data": {
      "text/html": [
       "<div>\n",
       "<style scoped>\n",
       "    .dataframe tbody tr th:only-of-type {\n",
       "        vertical-align: middle;\n",
       "    }\n",
       "\n",
       "    .dataframe tbody tr th {\n",
       "        vertical-align: top;\n",
       "    }\n",
       "\n",
       "    .dataframe thead th {\n",
       "        text-align: right;\n",
       "    }\n",
       "</style>\n",
       "<table border=\"1\" class=\"dataframe\">\n",
       "  <thead>\n",
       "    <tr style=\"text-align: right;\">\n",
       "      <th></th>\n",
       "      <th>artist_id</th>\n",
       "      <th>label_id</th>\n",
       "    </tr>\n",
       "  </thead>\n",
       "  <tbody>\n",
       "    <tr>\n",
       "      <th>0</th>\n",
       "      <td>1</td>\n",
       "      <td>1</td>\n",
       "    </tr>\n",
       "    <tr>\n",
       "      <th>1</th>\n",
       "      <td>2</td>\n",
       "      <td>2</td>\n",
       "    </tr>\n",
       "    <tr>\n",
       "      <th>2</th>\n",
       "      <td>3</td>\n",
       "      <td>3</td>\n",
       "    </tr>\n",
       "    <tr>\n",
       "      <th>3</th>\n",
       "      <td>4</td>\n",
       "      <td>3</td>\n",
       "    </tr>\n",
       "  </tbody>\n",
       "</table>\n",
       "</div>"
      ],
      "text/plain": [
       "   artist_id  label_id\n",
       "0          1         1\n",
       "1          2         2\n",
       "2          3         3\n",
       "3          4         3"
      ]
     },
     "execution_count": 32,
     "metadata": {},
     "output_type": "execute_result"
    }
   ],
   "source": [
    "pd.read_sql(\"artist_label_link\", engine)"
   ]
  },
  {
   "cell_type": "markdown",
   "metadata": {
    "ExecuteTime": {
     "end_time": "2021-02-28T16:20:46.817587Z",
     "start_time": "2021-02-28T16:20:46.120208Z"
    }
   },
   "source": [
    "### Update Of Record, assert"
   ]
  },
  {
   "cell_type": "code",
   "execution_count": 33,
   "metadata": {
    "ExecuteTime": {
     "end_time": "2021-03-09T14:04:17.245499Z",
     "start_time": "2021-03-09T14:04:17.053338Z"
    }
   },
   "outputs": [
    {
     "data": {
      "text/plain": [
       "{'trx_type': 'Update',\n",
       " 'artist': 'Dismember',\n",
       " 'artist_country': 'NA',\n",
       " 'title': 'Pieces',\n",
       " 'genre': 'Death Metal',\n",
       " 'label': 'NA',\n",
       " 'year': 1992,\n",
       " 'record_format': '12\"',\n",
       " 'vinyl_color': None,\n",
       " 'lim_edition': None,\n",
       " 'number': None,\n",
       " 'remarks': None,\n",
       " 'purchase_date': datetime.date(1992, 1, 1),\n",
       " 'price': 35.0,\n",
       " 'rating': None,\n",
       " 'is_digitized': 0,\n",
       " 'is_active': 1}"
      ]
     },
     "execution_count": 33,
     "metadata": {},
     "output_type": "execute_result"
    }
   ],
   "source": [
    "artist = \"Dismember\"\n",
    "title =\"Pieces\"\n",
    "trx_type = \"Update\"\n",
    "\n",
    "record = db_functions.fetch_a_record_from_the_shelf(session, artist, title)\n",
    "assert record.record_id == 1\n",
    "\n",
    "artist = \"; \".join([artist.artist_name for artist in record.artists])\n",
    "artist_country = \"; \".join([artist.artist_country for artist in record.artists])\n",
    "title = record.title    \n",
    "genre = value=record.genre.genre_name\n",
    "label =\"; \".join([label.label_name for label in record.labels])\n",
    "year = record.year\n",
    "record_format =record.record_format.format_name\n",
    "vinyl_color = record.vinyl_color\n",
    "lim_edition = record.lim_edition\n",
    "number = record.number\n",
    "remarks = record.remarks\n",
    "price = float(record.price)\n",
    "is_digitized = record.is_digitized\n",
    "rating = record.rating\n",
    "is_active = record.is_active\n",
    "purchase_date = record.purchase_date\n",
    "\n",
    "record_data = {\n",
    "    \"trx_type\": trx_type,\n",
    "    \"artist\": artist if artist != \"\" else \"NA\",\n",
    "    \"artist_country\": artist_country if artist_country != \"\" else \"NA\",\n",
    "    \"title\": title if title != \"\" else None,\n",
    "    \"genre\": genre,\n",
    "    \"label\": label if label != \"\" else \"NA\",\n",
    "    \"year\": year,\n",
    "    \"record_format\": record_format,\n",
    "    \"vinyl_color\": vinyl_color if vinyl_color != \"\" else None,\n",
    "    \"lim_edition\": lim_edition if lim_edition != \"\" else None,\n",
    "    \"number\": number if number != \"\" else None,\n",
    "    \"remarks\": remarks if remarks != \"\" else None,\n",
    "    \"purchase_date\": purchase_date,\n",
    "    \"price\": price,\n",
    "    \"rating\": rating if rating != \"\" else None,\n",
    "    \"is_digitized\": is_digitized,\n",
    "    \"is_active\": is_active,\n",
    "    # \"credit_value\": credit_value,  # we dont return a cretid value yet\n",
    "}\n",
    "\n",
    "record_data"
   ]
  },
  {
   "cell_type": "code",
   "execution_count": 34,
   "metadata": {
    "ExecuteTime": {
     "end_time": "2021-03-09T14:04:17.418505Z",
     "start_time": "2021-03-09T14:04:17.248529Z"
    }
   },
   "outputs": [],
   "source": [
    "record_data[\"artist_country\"] = \"Sweden\"\n",
    "record_data[\"label\"] = \"Nuclear Blast; Bogus\""
   ]
  },
  {
   "cell_type": "code",
   "execution_count": 35,
   "metadata": {
    "ExecuteTime": {
     "end_time": "2021-03-09T14:04:17.585505Z",
     "start_time": "2021-03-09T14:04:17.421505Z"
    }
   },
   "outputs": [
    {
     "data": {
      "text/plain": [
       "{'trx_type': 'Update',\n",
       " 'artist': ['Dismember'],\n",
       " 'artist_country': ['Sweden'],\n",
       " 'title': 'Pieces',\n",
       " 'genre': 'Death Metal',\n",
       " 'label': ['Nuclear Blast', 'Bogus'],\n",
       " 'year': 1992,\n",
       " 'record_format': '12\"',\n",
       " 'vinyl_color': None,\n",
       " 'lim_edition': None,\n",
       " 'number': None,\n",
       " 'remarks': None,\n",
       " 'purchase_date': datetime.date(1992, 1, 1),\n",
       " 'price': 35.0,\n",
       " 'rating': None,\n",
       " 'is_digitized': 0,\n",
       " 'is_active': 1}"
      ]
     },
     "execution_count": 35,
     "metadata": {},
     "output_type": "execute_result"
    }
   ],
   "source": [
    "record_data = crud_app.prepare_record_data_for_DB_insert(record_data)\n",
    "record_data"
   ]
  },
  {
   "cell_type": "code",
   "execution_count": 36,
   "metadata": {
    "ExecuteTime": {
     "end_time": "2021-03-09T14:04:17.796509Z",
     "start_time": "2021-03-09T14:04:17.588511Z"
    }
   },
   "outputs": [],
   "source": [
    "db_functions.update_record(session, record_data)"
   ]
  },
  {
   "cell_type": "code",
   "execution_count": 37,
   "metadata": {
    "ExecuteTime": {
     "end_time": "2021-03-09T14:04:17.982338Z",
     "start_time": "2021-03-09T14:04:17.800506Z"
    }
   },
   "outputs": [],
   "source": [
    "result = session.query(Record).filter(Record.record_id == 1).one_or_none()\n",
    "\n",
    "assert session.query(Label.label_name).filter(Label.label_id == 5).one_or_none()[0] == \"Bogus\"\n",
    "assert [artist.artist_name for artist in result.artists] == [\"Dismember\"]\n",
    "assert [artist.artist_country for artist in result.artists] == [\"Sweden\"]"
   ]
  },
  {
   "cell_type": "markdown",
   "metadata": {},
   "source": [
    "## (Effective) DELETION of Record, assert"
   ]
  },
  {
   "cell_type": "code",
   "execution_count": 38,
   "metadata": {
    "ExecuteTime": {
     "end_time": "2021-03-09T14:04:18.214335Z",
     "start_time": "2021-03-09T14:04:17.985334Z"
    }
   },
   "outputs": [],
   "source": [
    "to_delete = session.query(Record).filter(Record.record_id == 4).one_or_none()\n",
    "session.delete(to_delete)\n",
    "session.commit()\n",
    "\n",
    "assert session.query(Record).count() == 3"
   ]
  },
  {
   "cell_type": "code",
   "execution_count": 39,
   "metadata": {
    "ExecuteTime": {
     "end_time": "2021-03-09T14:04:18.526331Z",
     "start_time": "2021-03-09T14:04:18.218336Z"
    }
   },
   "outputs": [
    {
     "data": {
      "text/html": [
       "<div>\n",
       "<style scoped>\n",
       "    .dataframe tbody tr th:only-of-type {\n",
       "        vertical-align: middle;\n",
       "    }\n",
       "\n",
       "    .dataframe tbody tr th {\n",
       "        vertical-align: top;\n",
       "    }\n",
       "\n",
       "    .dataframe thead th {\n",
       "        text-align: right;\n",
       "    }\n",
       "</style>\n",
       "<table border=\"1\" class=\"dataframe\">\n",
       "  <thead>\n",
       "    <tr style=\"text-align: right;\">\n",
       "      <th></th>\n",
       "      <th>label_id</th>\n",
       "      <th>label_name</th>\n",
       "      <th>created_at</th>\n",
       "      <th>updated_at</th>\n",
       "    </tr>\n",
       "  </thead>\n",
       "  <tbody>\n",
       "    <tr>\n",
       "      <th>0</th>\n",
       "      <td>1</td>\n",
       "      <td>NA</td>\n",
       "      <td>2021-03-09 14:04:11</td>\n",
       "      <td>NaT</td>\n",
       "    </tr>\n",
       "    <tr>\n",
       "      <th>1</th>\n",
       "      <td>2</td>\n",
       "      <td>Dawnbreed / Sentient Ruin</td>\n",
       "      <td>2021-03-09 14:04:11</td>\n",
       "      <td>NaT</td>\n",
       "    </tr>\n",
       "    <tr>\n",
       "      <th>2</th>\n",
       "      <td>3</td>\n",
       "      <td>Hells Headbangers</td>\n",
       "      <td>2021-03-09 14:04:11</td>\n",
       "      <td>NaT</td>\n",
       "    </tr>\n",
       "    <tr>\n",
       "      <th>3</th>\n",
       "      <td>4</td>\n",
       "      <td>Nuclear Blast</td>\n",
       "      <td>2021-03-09 14:04:17</td>\n",
       "      <td>NaT</td>\n",
       "    </tr>\n",
       "    <tr>\n",
       "      <th>4</th>\n",
       "      <td>5</td>\n",
       "      <td>Bogus</td>\n",
       "      <td>2021-03-09 14:04:17</td>\n",
       "      <td>NaT</td>\n",
       "    </tr>\n",
       "  </tbody>\n",
       "</table>\n",
       "</div>"
      ],
      "text/plain": [
       "   label_id                 label_name          created_at updated_at\n",
       "0         1                         NA 2021-03-09 14:04:11        NaT\n",
       "1         2  Dawnbreed / Sentient Ruin 2021-03-09 14:04:11        NaT\n",
       "2         3          Hells Headbangers 2021-03-09 14:04:11        NaT\n",
       "3         4              Nuclear Blast 2021-03-09 14:04:17        NaT\n",
       "4         5                      Bogus 2021-03-09 14:04:17        NaT"
      ]
     },
     "execution_count": 39,
     "metadata": {},
     "output_type": "execute_result"
    },
    {
     "data": {
      "text/html": [
       "<div>\n",
       "<style scoped>\n",
       "    .dataframe tbody tr th:only-of-type {\n",
       "        vertical-align: middle;\n",
       "    }\n",
       "\n",
       "    .dataframe tbody tr th {\n",
       "        vertical-align: top;\n",
       "    }\n",
       "\n",
       "    .dataframe thead th {\n",
       "        text-align: right;\n",
       "    }\n",
       "</style>\n",
       "<table border=\"1\" class=\"dataframe\">\n",
       "  <thead>\n",
       "    <tr style=\"text-align: right;\">\n",
       "      <th></th>\n",
       "      <th>artist_id</th>\n",
       "      <th>artist_name</th>\n",
       "      <th>artist_country</th>\n",
       "      <th>created_at</th>\n",
       "      <th>updated_at</th>\n",
       "    </tr>\n",
       "  </thead>\n",
       "  <tbody>\n",
       "    <tr>\n",
       "      <th>0</th>\n",
       "      <td>1</td>\n",
       "      <td>Dismember</td>\n",
       "      <td>Sweden</td>\n",
       "      <td>2021-03-09 14:04:11</td>\n",
       "      <td>2021-03-09 14:04:17</td>\n",
       "    </tr>\n",
       "    <tr>\n",
       "      <th>1</th>\n",
       "      <td>2</td>\n",
       "      <td>Petrification</td>\n",
       "      <td>NA</td>\n",
       "      <td>2021-03-09 14:04:11</td>\n",
       "      <td>NaT</td>\n",
       "    </tr>\n",
       "    <tr>\n",
       "      <th>2</th>\n",
       "      <td>3</td>\n",
       "      <td>Coffins</td>\n",
       "      <td>NA</td>\n",
       "      <td>2021-03-09 14:04:11</td>\n",
       "      <td>NaT</td>\n",
       "    </tr>\n",
       "    <tr>\n",
       "      <th>3</th>\n",
       "      <td>4</td>\n",
       "      <td>Depression</td>\n",
       "      <td>Germany</td>\n",
       "      <td>2021-03-09 14:04:11</td>\n",
       "      <td>NaT</td>\n",
       "    </tr>\n",
       "  </tbody>\n",
       "</table>\n",
       "</div>"
      ],
      "text/plain": [
       "   artist_id    artist_name artist_country          created_at          updated_at\n",
       "0          1      Dismember         Sweden 2021-03-09 14:04:11 2021-03-09 14:04:17\n",
       "1          2  Petrification             NA 2021-03-09 14:04:11                 NaT\n",
       "2          3        Coffins             NA 2021-03-09 14:04:11                 NaT\n",
       "3          4     Depression        Germany 2021-03-09 14:04:11                 NaT"
      ]
     },
     "execution_count": 39,
     "metadata": {},
     "output_type": "execute_result"
    },
    {
     "data": {
      "text/html": [
       "<div>\n",
       "<style scoped>\n",
       "    .dataframe tbody tr th:only-of-type {\n",
       "        vertical-align: middle;\n",
       "    }\n",
       "\n",
       "    .dataframe tbody tr th {\n",
       "        vertical-align: top;\n",
       "    }\n",
       "\n",
       "    .dataframe thead th {\n",
       "        text-align: right;\n",
       "    }\n",
       "</style>\n",
       "<table border=\"1\" class=\"dataframe\">\n",
       "  <thead>\n",
       "    <tr style=\"text-align: right;\">\n",
       "      <th></th>\n",
       "      <th>artist_id</th>\n",
       "      <th>label_id</th>\n",
       "    </tr>\n",
       "  </thead>\n",
       "  <tbody>\n",
       "    <tr>\n",
       "      <th>0</th>\n",
       "      <td>1</td>\n",
       "      <td>1</td>\n",
       "    </tr>\n",
       "    <tr>\n",
       "      <th>1</th>\n",
       "      <td>2</td>\n",
       "      <td>2</td>\n",
       "    </tr>\n",
       "    <tr>\n",
       "      <th>2</th>\n",
       "      <td>3</td>\n",
       "      <td>3</td>\n",
       "    </tr>\n",
       "    <tr>\n",
       "      <th>3</th>\n",
       "      <td>4</td>\n",
       "      <td>3</td>\n",
       "    </tr>\n",
       "    <tr>\n",
       "      <th>4</th>\n",
       "      <td>1</td>\n",
       "      <td>4</td>\n",
       "    </tr>\n",
       "    <tr>\n",
       "      <th>5</th>\n",
       "      <td>1</td>\n",
       "      <td>5</td>\n",
       "    </tr>\n",
       "  </tbody>\n",
       "</table>\n",
       "</div>"
      ],
      "text/plain": [
       "   artist_id  label_id\n",
       "0          1         1\n",
       "1          2         2\n",
       "2          3         3\n",
       "3          4         3\n",
       "4          1         4\n",
       "5          1         5"
      ]
     },
     "execution_count": 39,
     "metadata": {},
     "output_type": "execute_result"
    },
    {
     "data": {
      "text/html": [
       "<div>\n",
       "<style scoped>\n",
       "    .dataframe tbody tr th:only-of-type {\n",
       "        vertical-align: middle;\n",
       "    }\n",
       "\n",
       "    .dataframe tbody tr th {\n",
       "        vertical-align: top;\n",
       "    }\n",
       "\n",
       "    .dataframe thead th {\n",
       "        text-align: right;\n",
       "    }\n",
       "</style>\n",
       "<table border=\"1\" class=\"dataframe\">\n",
       "  <thead>\n",
       "    <tr style=\"text-align: right;\">\n",
       "      <th></th>\n",
       "      <th>credit_trx_id</th>\n",
       "      <th>credit_trx_date</th>\n",
       "      <th>credit_trx_type</th>\n",
       "      <th>credit_value</th>\n",
       "      <th>credit_saldo</th>\n",
       "      <th>record_id</th>\n",
       "      <th>created_at</th>\n",
       "      <th>updated_at</th>\n",
       "    </tr>\n",
       "  </thead>\n",
       "  <tbody>\n",
       "    <tr>\n",
       "      <th>0</th>\n",
       "      <td>1</td>\n",
       "      <td>1992-01-01</td>\n",
       "      <td>Initial Load</td>\n",
       "      <td>0.00</td>\n",
       "      <td>0.00</td>\n",
       "      <td>1.00</td>\n",
       "      <td>2021-03-09 14:04:11</td>\n",
       "      <td>NaT</td>\n",
       "    </tr>\n",
       "    <tr>\n",
       "      <th>1</th>\n",
       "      <td>2</td>\n",
       "      <td>1992-01-01</td>\n",
       "      <td>Initial Load</td>\n",
       "      <td>0.00</td>\n",
       "      <td>0.00</td>\n",
       "      <td>2.00</td>\n",
       "      <td>2021-03-09 14:04:11</td>\n",
       "      <td>NaT</td>\n",
       "    </tr>\n",
       "    <tr>\n",
       "      <th>2</th>\n",
       "      <td>3</td>\n",
       "      <td>2019-07-01</td>\n",
       "      <td>Initial Load</td>\n",
       "      <td>0.00</td>\n",
       "      <td>0.00</td>\n",
       "      <td>3.00</td>\n",
       "      <td>2021-03-09 14:04:11</td>\n",
       "      <td>NaT</td>\n",
       "    </tr>\n",
       "    <tr>\n",
       "      <th>3</th>\n",
       "      <td>5</td>\n",
       "      <td>2021-02-26</td>\n",
       "      <td>Addition</td>\n",
       "      <td>1.00</td>\n",
       "      <td>1.00</td>\n",
       "      <td>nan</td>\n",
       "      <td>2021-03-09 14:04:12</td>\n",
       "      <td>NaT</td>\n",
       "    </tr>\n",
       "    <tr>\n",
       "      <th>4</th>\n",
       "      <td>6</td>\n",
       "      <td>2021-03-08</td>\n",
       "      <td>Addition</td>\n",
       "      <td>1.00</td>\n",
       "      <td>2.00</td>\n",
       "      <td>nan</td>\n",
       "      <td>2021-03-09 14:04:12</td>\n",
       "      <td>NaT</td>\n",
       "    </tr>\n",
       "  </tbody>\n",
       "</table>\n",
       "</div>"
      ],
      "text/plain": [
       "   credit_trx_id credit_trx_date credit_trx_type  credit_value  credit_saldo  record_id          created_at updated_at\n",
       "0              1      1992-01-01    Initial Load          0.00          0.00       1.00 2021-03-09 14:04:11        NaT\n",
       "1              2      1992-01-01    Initial Load          0.00          0.00       2.00 2021-03-09 14:04:11        NaT\n",
       "2              3      2019-07-01    Initial Load          0.00          0.00       3.00 2021-03-09 14:04:11        NaT\n",
       "3              5      2021-02-26        Addition          1.00          1.00        nan 2021-03-09 14:04:12        NaT\n",
       "4              6      2021-03-08        Addition          1.00          2.00        nan 2021-03-09 14:04:12        NaT"
      ]
     },
     "execution_count": 39,
     "metadata": {},
     "output_type": "execute_result"
    }
   ],
   "source": [
    "pd.read_sql(\"labels\", engine)\n",
    "pd.read_sql(\"artists\", engine)\n",
    "pd.read_sql(\"artist_label_link\", engine)\n",
    "pd.read_sql(\"credit_trx\", engine)\n",
    "\n",
    "assert session.query(Record).count() == 3\n",
    "assert session.query(ArtistRecordLink).count() == 3\n",
    "assert session.query(CreditTrx).count() == 5"
   ]
  },
  {
   "cell_type": "code",
   "execution_count": 40,
   "metadata": {
    "ExecuteTime": {
     "end_time": "2021-03-09T14:04:18.757334Z",
     "start_time": "2021-03-09T14:04:18.529334Z"
    }
   },
   "outputs": [
    {
     "data": {
      "text/html": [
       "<div>\n",
       "<style scoped>\n",
       "    .dataframe tbody tr th:only-of-type {\n",
       "        vertical-align: middle;\n",
       "    }\n",
       "\n",
       "    .dataframe tbody tr th {\n",
       "        vertical-align: top;\n",
       "    }\n",
       "\n",
       "    .dataframe thead th {\n",
       "        text-align: right;\n",
       "    }\n",
       "</style>\n",
       "<table border=\"1\" class=\"dataframe\">\n",
       "  <thead>\n",
       "    <tr style=\"text-align: right;\">\n",
       "      <th></th>\n",
       "      <th>genre_id</th>\n",
       "      <th>genre_name</th>\n",
       "      <th>created_at</th>\n",
       "      <th>updated_at</th>\n",
       "    </tr>\n",
       "  </thead>\n",
       "  <tbody>\n",
       "    <tr>\n",
       "      <th>0</th>\n",
       "      <td>1</td>\n",
       "      <td>Death Metal</td>\n",
       "      <td>2021-03-09 14:04:11</td>\n",
       "      <td>NaT</td>\n",
       "    </tr>\n",
       "  </tbody>\n",
       "</table>\n",
       "</div>"
      ],
      "text/plain": [
       "   genre_id   genre_name          created_at updated_at\n",
       "0         1  Death Metal 2021-03-09 14:04:11        NaT"
      ]
     },
     "execution_count": 40,
     "metadata": {},
     "output_type": "execute_result"
    }
   ],
   "source": [
    "pd.read_sql(\"genres\", engine)"
   ]
  },
  {
   "cell_type": "code",
   "execution_count": 41,
   "metadata": {
    "ExecuteTime": {
     "end_time": "2021-03-09T14:04:18.952331Z",
     "start_time": "2021-03-09T14:04:18.760336Z"
    }
   },
   "outputs": [],
   "source": [
    "to_delete = session.query(Record).filter(Record.record_id == 1).one_or_none()\n",
    "session.delete(to_delete)\n",
    "session.commit()\n",
    "\n",
    "assert session.query(Record).count() == 2"
   ]
  },
  {
   "cell_type": "code",
   "execution_count": 42,
   "metadata": {
    "ExecuteTime": {
     "end_time": "2021-03-09T14:04:19.314333Z",
     "start_time": "2021-03-09T14:04:18.955335Z"
    },
    "scrolled": false
   },
   "outputs": [
    {
     "data": {
      "text/html": [
       "<div>\n",
       "<style scoped>\n",
       "    .dataframe tbody tr th:only-of-type {\n",
       "        vertical-align: middle;\n",
       "    }\n",
       "\n",
       "    .dataframe tbody tr th {\n",
       "        vertical-align: top;\n",
       "    }\n",
       "\n",
       "    .dataframe thead th {\n",
       "        text-align: right;\n",
       "    }\n",
       "</style>\n",
       "<table border=\"1\" class=\"dataframe\">\n",
       "  <thead>\n",
       "    <tr style=\"text-align: right;\">\n",
       "      <th></th>\n",
       "      <th>record_id</th>\n",
       "      <th>title</th>\n",
       "      <th>year</th>\n",
       "      <th>genre_id</th>\n",
       "      <th>format_id</th>\n",
       "      <th>vinyl_color</th>\n",
       "      <th>lim_edition</th>\n",
       "      <th>number</th>\n",
       "      <th>remarks</th>\n",
       "      <th>purchase_date</th>\n",
       "      <th>price</th>\n",
       "      <th>rating</th>\n",
       "      <th>is_digitized</th>\n",
       "      <th>is_active</th>\n",
       "      <th>created_at</th>\n",
       "      <th>updated_at</th>\n",
       "    </tr>\n",
       "  </thead>\n",
       "  <tbody>\n",
       "    <tr>\n",
       "      <th>0</th>\n",
       "      <td>2</td>\n",
       "      <td>Skin Her Alive</td>\n",
       "      <td>1991</td>\n",
       "      <td>1</td>\n",
       "      <td>2</td>\n",
       "      <td>None</td>\n",
       "      <td>None</td>\n",
       "      <td>None</td>\n",
       "      <td>None</td>\n",
       "      <td>1992-01-01</td>\n",
       "      <td>15</td>\n",
       "      <td>nan</td>\n",
       "      <td>0</td>\n",
       "      <td>1</td>\n",
       "      <td>2021-03-09 14:04:11</td>\n",
       "      <td>NaT</td>\n",
       "    </tr>\n",
       "    <tr>\n",
       "      <th>1</th>\n",
       "      <td>3</td>\n",
       "      <td>Hollow of The Void</td>\n",
       "      <td>2018</td>\n",
       "      <td>1</td>\n",
       "      <td>3</td>\n",
       "      <td>green transparent with black haze</td>\n",
       "      <td>200</td>\n",
       "      <td>None</td>\n",
       "      <td>None</td>\n",
       "      <td>2019-07-01</td>\n",
       "      <td>25</td>\n",
       "      <td>10.00</td>\n",
       "      <td>1</td>\n",
       "      <td>1</td>\n",
       "      <td>2021-03-09 14:04:11</td>\n",
       "      <td>NaT</td>\n",
       "    </tr>\n",
       "  </tbody>\n",
       "</table>\n",
       "</div>"
      ],
      "text/plain": [
       "   record_id               title  year  genre_id  format_id                        vinyl_color lim_edition number remarks purchase_date  price  rating  is_digitized  is_active          created_at updated_at\n",
       "0          2      Skin Her Alive  1991         1          2                               None        None   None    None    1992-01-01     15     nan             0          1 2021-03-09 14:04:11        NaT\n",
       "1          3  Hollow of The Void  2018         1          3  green transparent with black haze         200   None    None    2019-07-01     25   10.00             1          1 2021-03-09 14:04:11        NaT"
      ]
     },
     "execution_count": 42,
     "metadata": {},
     "output_type": "execute_result"
    },
    {
     "data": {
      "text/html": [
       "<div>\n",
       "<style scoped>\n",
       "    .dataframe tbody tr th:only-of-type {\n",
       "        vertical-align: middle;\n",
       "    }\n",
       "\n",
       "    .dataframe tbody tr th {\n",
       "        vertical-align: top;\n",
       "    }\n",
       "\n",
       "    .dataframe thead th {\n",
       "        text-align: right;\n",
       "    }\n",
       "</style>\n",
       "<table border=\"1\" class=\"dataframe\">\n",
       "  <thead>\n",
       "    <tr style=\"text-align: right;\">\n",
       "      <th></th>\n",
       "      <th>label_id</th>\n",
       "      <th>label_name</th>\n",
       "      <th>created_at</th>\n",
       "      <th>updated_at</th>\n",
       "    </tr>\n",
       "  </thead>\n",
       "  <tbody>\n",
       "    <tr>\n",
       "      <th>0</th>\n",
       "      <td>1</td>\n",
       "      <td>NA</td>\n",
       "      <td>2021-03-09 14:04:11</td>\n",
       "      <td>NaT</td>\n",
       "    </tr>\n",
       "    <tr>\n",
       "      <th>1</th>\n",
       "      <td>2</td>\n",
       "      <td>Dawnbreed / Sentient Ruin</td>\n",
       "      <td>2021-03-09 14:04:11</td>\n",
       "      <td>NaT</td>\n",
       "    </tr>\n",
       "    <tr>\n",
       "      <th>2</th>\n",
       "      <td>3</td>\n",
       "      <td>Hells Headbangers</td>\n",
       "      <td>2021-03-09 14:04:11</td>\n",
       "      <td>NaT</td>\n",
       "    </tr>\n",
       "    <tr>\n",
       "      <th>3</th>\n",
       "      <td>4</td>\n",
       "      <td>Nuclear Blast</td>\n",
       "      <td>2021-03-09 14:04:17</td>\n",
       "      <td>NaT</td>\n",
       "    </tr>\n",
       "    <tr>\n",
       "      <th>4</th>\n",
       "      <td>5</td>\n",
       "      <td>Bogus</td>\n",
       "      <td>2021-03-09 14:04:17</td>\n",
       "      <td>NaT</td>\n",
       "    </tr>\n",
       "  </tbody>\n",
       "</table>\n",
       "</div>"
      ],
      "text/plain": [
       "   label_id                 label_name          created_at updated_at\n",
       "0         1                         NA 2021-03-09 14:04:11        NaT\n",
       "1         2  Dawnbreed / Sentient Ruin 2021-03-09 14:04:11        NaT\n",
       "2         3          Hells Headbangers 2021-03-09 14:04:11        NaT\n",
       "3         4              Nuclear Blast 2021-03-09 14:04:17        NaT\n",
       "4         5                      Bogus 2021-03-09 14:04:17        NaT"
      ]
     },
     "execution_count": 42,
     "metadata": {},
     "output_type": "execute_result"
    },
    {
     "data": {
      "text/html": [
       "<div>\n",
       "<style scoped>\n",
       "    .dataframe tbody tr th:only-of-type {\n",
       "        vertical-align: middle;\n",
       "    }\n",
       "\n",
       "    .dataframe tbody tr th {\n",
       "        vertical-align: top;\n",
       "    }\n",
       "\n",
       "    .dataframe thead th {\n",
       "        text-align: right;\n",
       "    }\n",
       "</style>\n",
       "<table border=\"1\" class=\"dataframe\">\n",
       "  <thead>\n",
       "    <tr style=\"text-align: right;\">\n",
       "      <th></th>\n",
       "      <th>artist_id</th>\n",
       "      <th>artist_name</th>\n",
       "      <th>artist_country</th>\n",
       "      <th>created_at</th>\n",
       "      <th>updated_at</th>\n",
       "    </tr>\n",
       "  </thead>\n",
       "  <tbody>\n",
       "    <tr>\n",
       "      <th>0</th>\n",
       "      <td>1</td>\n",
       "      <td>Dismember</td>\n",
       "      <td>Sweden</td>\n",
       "      <td>2021-03-09 14:04:11</td>\n",
       "      <td>2021-03-09 14:04:17</td>\n",
       "    </tr>\n",
       "    <tr>\n",
       "      <th>1</th>\n",
       "      <td>2</td>\n",
       "      <td>Petrification</td>\n",
       "      <td>NA</td>\n",
       "      <td>2021-03-09 14:04:11</td>\n",
       "      <td>NaT</td>\n",
       "    </tr>\n",
       "    <tr>\n",
       "      <th>2</th>\n",
       "      <td>3</td>\n",
       "      <td>Coffins</td>\n",
       "      <td>NA</td>\n",
       "      <td>2021-03-09 14:04:11</td>\n",
       "      <td>NaT</td>\n",
       "    </tr>\n",
       "    <tr>\n",
       "      <th>3</th>\n",
       "      <td>4</td>\n",
       "      <td>Depression</td>\n",
       "      <td>Germany</td>\n",
       "      <td>2021-03-09 14:04:11</td>\n",
       "      <td>NaT</td>\n",
       "    </tr>\n",
       "  </tbody>\n",
       "</table>\n",
       "</div>"
      ],
      "text/plain": [
       "   artist_id    artist_name artist_country          created_at          updated_at\n",
       "0          1      Dismember         Sweden 2021-03-09 14:04:11 2021-03-09 14:04:17\n",
       "1          2  Petrification             NA 2021-03-09 14:04:11                 NaT\n",
       "2          3        Coffins             NA 2021-03-09 14:04:11                 NaT\n",
       "3          4     Depression        Germany 2021-03-09 14:04:11                 NaT"
      ]
     },
     "execution_count": 42,
     "metadata": {},
     "output_type": "execute_result"
    },
    {
     "data": {
      "text/html": [
       "<div>\n",
       "<style scoped>\n",
       "    .dataframe tbody tr th:only-of-type {\n",
       "        vertical-align: middle;\n",
       "    }\n",
       "\n",
       "    .dataframe tbody tr th {\n",
       "        vertical-align: top;\n",
       "    }\n",
       "\n",
       "    .dataframe thead th {\n",
       "        text-align: right;\n",
       "    }\n",
       "</style>\n",
       "<table border=\"1\" class=\"dataframe\">\n",
       "  <thead>\n",
       "    <tr style=\"text-align: right;\">\n",
       "      <th></th>\n",
       "      <th>artist_id</th>\n",
       "      <th>label_id</th>\n",
       "    </tr>\n",
       "  </thead>\n",
       "  <tbody>\n",
       "    <tr>\n",
       "      <th>0</th>\n",
       "      <td>1</td>\n",
       "      <td>1</td>\n",
       "    </tr>\n",
       "    <tr>\n",
       "      <th>1</th>\n",
       "      <td>2</td>\n",
       "      <td>2</td>\n",
       "    </tr>\n",
       "    <tr>\n",
       "      <th>2</th>\n",
       "      <td>3</td>\n",
       "      <td>3</td>\n",
       "    </tr>\n",
       "    <tr>\n",
       "      <th>3</th>\n",
       "      <td>4</td>\n",
       "      <td>3</td>\n",
       "    </tr>\n",
       "    <tr>\n",
       "      <th>4</th>\n",
       "      <td>1</td>\n",
       "      <td>4</td>\n",
       "    </tr>\n",
       "    <tr>\n",
       "      <th>5</th>\n",
       "      <td>1</td>\n",
       "      <td>5</td>\n",
       "    </tr>\n",
       "  </tbody>\n",
       "</table>\n",
       "</div>"
      ],
      "text/plain": [
       "   artist_id  label_id\n",
       "0          1         1\n",
       "1          2         2\n",
       "2          3         3\n",
       "3          4         3\n",
       "4          1         4\n",
       "5          1         5"
      ]
     },
     "execution_count": 42,
     "metadata": {},
     "output_type": "execute_result"
    },
    {
     "data": {
      "text/html": [
       "<div>\n",
       "<style scoped>\n",
       "    .dataframe tbody tr th:only-of-type {\n",
       "        vertical-align: middle;\n",
       "    }\n",
       "\n",
       "    .dataframe tbody tr th {\n",
       "        vertical-align: top;\n",
       "    }\n",
       "\n",
       "    .dataframe thead th {\n",
       "        text-align: right;\n",
       "    }\n",
       "</style>\n",
       "<table border=\"1\" class=\"dataframe\">\n",
       "  <thead>\n",
       "    <tr style=\"text-align: right;\">\n",
       "      <th></th>\n",
       "      <th>credit_trx_id</th>\n",
       "      <th>credit_trx_date</th>\n",
       "      <th>credit_trx_type</th>\n",
       "      <th>credit_value</th>\n",
       "      <th>credit_saldo</th>\n",
       "      <th>record_id</th>\n",
       "      <th>created_at</th>\n",
       "      <th>updated_at</th>\n",
       "    </tr>\n",
       "  </thead>\n",
       "  <tbody>\n",
       "    <tr>\n",
       "      <th>0</th>\n",
       "      <td>2</td>\n",
       "      <td>1992-01-01</td>\n",
       "      <td>Initial Load</td>\n",
       "      <td>0.00</td>\n",
       "      <td>0.00</td>\n",
       "      <td>2.00</td>\n",
       "      <td>2021-03-09 14:04:11</td>\n",
       "      <td>NaT</td>\n",
       "    </tr>\n",
       "    <tr>\n",
       "      <th>1</th>\n",
       "      <td>3</td>\n",
       "      <td>2019-07-01</td>\n",
       "      <td>Initial Load</td>\n",
       "      <td>0.00</td>\n",
       "      <td>0.00</td>\n",
       "      <td>3.00</td>\n",
       "      <td>2021-03-09 14:04:11</td>\n",
       "      <td>NaT</td>\n",
       "    </tr>\n",
       "    <tr>\n",
       "      <th>2</th>\n",
       "      <td>5</td>\n",
       "      <td>2021-02-26</td>\n",
       "      <td>Addition</td>\n",
       "      <td>1.00</td>\n",
       "      <td>1.00</td>\n",
       "      <td>nan</td>\n",
       "      <td>2021-03-09 14:04:12</td>\n",
       "      <td>NaT</td>\n",
       "    </tr>\n",
       "    <tr>\n",
       "      <th>3</th>\n",
       "      <td>6</td>\n",
       "      <td>2021-03-08</td>\n",
       "      <td>Addition</td>\n",
       "      <td>1.00</td>\n",
       "      <td>2.00</td>\n",
       "      <td>nan</td>\n",
       "      <td>2021-03-09 14:04:12</td>\n",
       "      <td>NaT</td>\n",
       "    </tr>\n",
       "  </tbody>\n",
       "</table>\n",
       "</div>"
      ],
      "text/plain": [
       "   credit_trx_id credit_trx_date credit_trx_type  credit_value  credit_saldo  record_id          created_at updated_at\n",
       "0              2      1992-01-01    Initial Load          0.00          0.00       2.00 2021-03-09 14:04:11        NaT\n",
       "1              3      2019-07-01    Initial Load          0.00          0.00       3.00 2021-03-09 14:04:11        NaT\n",
       "2              5      2021-02-26        Addition          1.00          1.00        nan 2021-03-09 14:04:12        NaT\n",
       "3              6      2021-03-08        Addition          1.00          2.00        nan 2021-03-09 14:04:12        NaT"
      ]
     },
     "execution_count": 42,
     "metadata": {},
     "output_type": "execute_result"
    },
    {
     "data": {
      "text/html": [
       "<div>\n",
       "<style scoped>\n",
       "    .dataframe tbody tr th:only-of-type {\n",
       "        vertical-align: middle;\n",
       "    }\n",
       "\n",
       "    .dataframe tbody tr th {\n",
       "        vertical-align: top;\n",
       "    }\n",
       "\n",
       "    .dataframe thead th {\n",
       "        text-align: right;\n",
       "    }\n",
       "</style>\n",
       "<table border=\"1\" class=\"dataframe\">\n",
       "  <thead>\n",
       "    <tr style=\"text-align: right;\">\n",
       "      <th></th>\n",
       "      <th>format_id</th>\n",
       "      <th>format_name</th>\n",
       "      <th>created_at</th>\n",
       "      <th>updated_at</th>\n",
       "    </tr>\n",
       "  </thead>\n",
       "  <tbody>\n",
       "    <tr>\n",
       "      <th>0</th>\n",
       "      <td>1</td>\n",
       "      <td>12\"</td>\n",
       "      <td>2021-03-09 14:04:11</td>\n",
       "      <td>NaT</td>\n",
       "    </tr>\n",
       "    <tr>\n",
       "      <th>1</th>\n",
       "      <td>2</td>\n",
       "      <td>7\" Pic</td>\n",
       "      <td>2021-03-09 14:04:11</td>\n",
       "      <td>NaT</td>\n",
       "    </tr>\n",
       "    <tr>\n",
       "      <th>2</th>\n",
       "      <td>3</td>\n",
       "      <td>LP</td>\n",
       "      <td>2021-03-09 14:04:11</td>\n",
       "      <td>NaT</td>\n",
       "    </tr>\n",
       "  </tbody>\n",
       "</table>\n",
       "</div>"
      ],
      "text/plain": [
       "   format_id format_name          created_at updated_at\n",
       "0          1         12\" 2021-03-09 14:04:11        NaT\n",
       "1          2      7\" Pic 2021-03-09 14:04:11        NaT\n",
       "2          3          LP 2021-03-09 14:04:11        NaT"
      ]
     },
     "execution_count": 42,
     "metadata": {},
     "output_type": "execute_result"
    }
   ],
   "source": [
    "pd.read_sql(\"records\", engine)\n",
    "pd.read_sql(\"labels\", engine)\n",
    "pd.read_sql(\"artists\", engine)\n",
    "pd.read_sql(\"artist_label_link\", engine)\n",
    "pd.read_sql(\"credit_trx\", engine)\n",
    "pd.read_sql(\"formats\", engine)"
   ]
  },
  {
   "cell_type": "code",
   "execution_count": 43,
   "metadata": {
    "ExecuteTime": {
     "end_time": "2021-03-09T14:04:19.517252Z",
     "start_time": "2021-03-09T14:04:19.317333Z"
    }
   },
   "outputs": [
    {
     "name": "stdout",
     "output_type": "stream",
     "text": [
      "[<Artist(artist_id=1, artist_name=Dismember)>]\n",
      "[<Artist(artist_id=2, artist_name=Petrification)>]\n",
      "[<Artist(artist_id=3, artist_name=Coffins)>, <Artist(artist_id=4, artist_name=Depression)>]\n",
      "[<Artist(artist_id=1, artist_name=Dismember)>]\n",
      "[<Artist(artist_id=1, artist_name=Dismember)>]\n",
      "\n",
      "[<Artist(artist_id=1, artist_name=Dismember)>, <Artist(artist_id=2, artist_name=Petrification)>, <Artist(artist_id=3, artist_name=Coffins)>, <Artist(artist_id=4, artist_name=Depression)>]\n"
     ]
    }
   ],
   "source": [
    "result = session.query(Label)\n",
    "for r in result:\n",
    "    print(r.artists)\n",
    "    \n",
    "print(\"\")\n",
    "    \n",
    "result = session.query(Genre)\n",
    "for r in result:\n",
    "    print(r.artists)"
   ]
  },
  {
   "cell_type": "markdown",
   "metadata": {},
   "source": [
    "**ATTENTION:** Altough there are NO records for artists Coffins and Depression left, these artists are still listed as such in the DB, as is their relation with the Label Hells Headbangers (that also has no record left here.) That is not ideal.\n",
    "\n",
    "For the credit_trx (and the ratings, if they were implemented yet) the behaviour is as desired."
   ]
  },
  {
   "cell_type": "markdown",
   "metadata": {},
   "source": [
    "---"
   ]
  },
  {
   "cell_type": "code",
   "execution_count": 44,
   "metadata": {
    "ExecuteTime": {
     "end_time": "2021-03-09T14:04:20.474759Z",
     "start_time": "2021-03-09T14:04:19.519251Z"
    }
   },
   "outputs": [
    {
     "ename": "NameError",
     "evalue": "name 'brk' is not defined",
     "output_type": "error",
     "traceback": [
      "\u001b[1;31m---------------------------------------------------------------------------\u001b[0m",
      "\u001b[1;31mNameError\u001b[0m                                 Traceback (most recent call last)",
      "\u001b[1;32m<ipython-input-44-50a2b75a1e72>\u001b[0m in \u001b[0;36m<module>\u001b[1;34m\u001b[0m\n\u001b[1;32m----> 1\u001b[1;33m \u001b[0mbrk\u001b[0m\u001b[1;33m\u001b[0m\u001b[1;33m\u001b[0m\u001b[0m\n\u001b[0m",
      "\u001b[1;31mNameError\u001b[0m: name 'brk' is not defined"
     ]
    }
   ],
   "source": [
    "brk"
   ]
  },
  {
   "cell_type": "code",
   "execution_count": null,
   "metadata": {
    "ExecuteTime": {
     "end_time": "2021-03-09T14:04:20.477758Z",
     "start_time": "2021-03-09T14:04:02.398Z"
    }
   },
   "outputs": [],
   "source": [
    "result = session.query(Record).filter(Record.record_id == 2).one()\n",
    "\n",
    "# HERE I MANUALLY OVERWRITE AN ARTISTS RELATIONSHIP, WHILE ALSO CREATING A NEW ARTIST ON THE FLY\n",
    "result.artists = [Artist(artist_id=5, artist_name=\"Fake-Artist\")]\n",
    "print(result)"
   ]
  },
  {
   "cell_type": "code",
   "execution_count": null,
   "metadata": {
    "ExecuteTime": {
     "end_time": "2021-03-09T14:04:20.480758Z",
     "start_time": "2021-03-09T14:04:02.401Z"
    }
   },
   "outputs": [],
   "source": [
    "type(result.artists)"
   ]
  },
  {
   "cell_type": "code",
   "execution_count": null,
   "metadata": {
    "ExecuteTime": {
     "end_time": "2021-03-09T14:04:20.482757Z",
     "start_time": "2021-03-09T14:04:02.407Z"
    }
   },
   "outputs": [],
   "source": [
    "result = session.query(Artist).all()\n",
    "for r in result:\n",
    "    print(r, r.artist_country)"
   ]
  },
  {
   "cell_type": "code",
   "execution_count": null,
   "metadata": {
    "ExecuteTime": {
     "end_time": "2021-03-09T14:04:20.483757Z",
     "start_time": "2021-03-09T14:04:02.410Z"
    }
   },
   "outputs": [],
   "source": [
    "type(result[0].artist_country)"
   ]
  },
  {
   "cell_type": "code",
   "execution_count": null,
   "metadata": {
    "ExecuteTime": {
     "end_time": "2021-03-09T14:04:20.485757Z",
     "start_time": "2021-03-09T14:04:02.415Z"
    }
   },
   "outputs": [],
   "source": [
    "session.close()"
   ]
  },
  {
   "cell_type": "code",
   "execution_count": null,
   "metadata": {},
   "outputs": [],
   "source": []
  }
 ],
 "metadata": {
  "hide_input": false,
  "kernelspec": {
   "display_name": "Python 3",
   "language": "python",
   "name": "python3"
  },
  "language_info": {
   "codemirror_mode": {
    "name": "ipython",
    "version": 3
   },
   "file_extension": ".py",
   "mimetype": "text/x-python",
   "name": "python",
   "nbconvert_exporter": "python",
   "pygments_lexer": "ipython3",
   "version": "3.8.3"
  },
  "toc": {
   "base_numbering": 1,
   "nav_menu": {},
   "number_sections": true,
   "sideBar": false,
   "skip_h1_title": true,
   "title_cell": "Table of Contents",
   "title_sidebar": "Contents",
   "toc_cell": false,
   "toc_position": {},
   "toc_section_display": true,
   "toc_window_display": true
  }
 },
 "nbformat": 4,
 "nbformat_minor": 4
}
