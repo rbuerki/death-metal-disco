{
 "cells": [
  {
   "cell_type": "code",
   "execution_count": 1,
   "metadata": {
    "ExecuteTime": {
     "end_time": "2021-02-16T16:28:15.083212Z",
     "start_time": "2021-02-16T16:28:13.485543Z"
    }
   },
   "outputs": [],
   "source": [
    "import configparser\n",
    "import datetime as dt\n",
    "import sys\n",
    "import collections\n",
    "from pathlib import Path\n",
    "from typing import Union, Optional, Iterable, List, Tuple\n",
    "\n",
    "import codebook.EDA as EDA\n",
    "import codebook.clean as clean\n",
    "import numpy as np\n",
    "import pandas as pd\n",
    "import matplotlib.pyplot as plt\n",
    "import seaborn as sns\n",
    "import sqlalchemy\n",
    "from sqlalchemy import func, distinct"
   ]
  },
  {
   "cell_type": "code",
   "execution_count": 2,
   "metadata": {
    "ExecuteTime": {
     "end_time": "2021-02-16T16:28:15.226046Z",
     "start_time": "2021-02-16T16:28:15.085116Z"
    }
   },
   "outputs": [],
   "source": [
    "%load_ext autoreload\n",
    "%autoreload 2\n",
    "\n",
    "%matplotlib inline\n",
    "plt.style.use('raph-base')\n",
    "\n",
    "from IPython.core.interactiveshell import InteractiveShell\n",
    "InteractiveShell.ast_node_interactivity = 'all'\n",
    "\n",
    "pd.options.display.float_format = '{:,.2f}'.format\n",
    "pd.set_option('display.max_columns', 30)\n",
    "pd.set_option('display.expand_frame_repr', False)\n",
    "pd.set_option('max_colwidth', 800)\n",
    "\n",
    "np.random.seed(666)"
   ]
  },
  {
   "cell_type": "code",
   "execution_count": 3,
   "metadata": {
    "ExecuteTime": {
     "end_time": "2021-02-16T16:28:15.461695Z",
     "start_time": "2021-02-16T16:28:15.228027Z"
    }
   },
   "outputs": [],
   "source": [
    "sys.path.append(str(Path.cwd().parent))\n",
    "\n",
    "from src.db_declaration2 import (\n",
    "    Base, Artist, CreditTrx, Genre, Label, Record, RecordFormat, \n",
    "    ArtistRecordLink, ArtistGenreLink, GenreLabelLink, LabelRecordLink\n",
    ")\n",
    "from src import db_functions\n",
    "from src import db_connect\n",
    "\n",
    "CONFIG_PATH = Path.cwd().parent / \"config.yaml\""
   ]
  },
  {
   "cell_type": "code",
   "execution_count": 4,
   "metadata": {
    "ExecuteTime": {
     "end_time": "2021-02-16T16:28:15.578597Z",
     "start_time": "2021-02-16T16:28:15.464601Z"
    }
   },
   "outputs": [
    {
     "name": "stdout",
     "output_type": "stream",
     "text": [
      "C:\\Users\\r2d4\\miniconda3\\envs\\py3\\python.exe\n",
      "3.8.3 (default, May 19 2020, 06:50:17) [MSC v.1916 64 bit (AMD64)]\n",
      "sqlalchemy 1.3.17\n"
     ]
    }
   ],
   "source": [
    "print(sys.executable)\n",
    "print(sys.version)\n",
    "print(f'sqlalchemy {sqlalchemy.__version__}')"
   ]
  },
  {
   "cell_type": "markdown",
   "metadata": {
    "ExecuteTime": {
     "end_time": "2020-12-23T06:08:49.546499Z",
     "start_time": "2020-12-23T06:08:49.412497Z"
    }
   },
   "source": [
    "## Connect To And (Re-)Create DB\n",
    "\n",
    "Because we connect from `dev`subfolder, I have to work with the sqlalchemy `create_engine` function directly."
   ]
  },
  {
   "cell_type": "code",
   "execution_count": 5,
   "metadata": {
    "ExecuteTime": {
     "end_time": "2021-02-16T16:28:15.769596Z",
     "start_time": "2021-02-16T16:28:15.581600Z"
    },
    "scrolled": true
   },
   "outputs": [
    {
     "data": {
      "text/plain": [
       "Engine(sqlite:///C:\\Users\\r2d4\\OneDrive\\code\\projects\\20-02_disco\\dev\\DeafDiscoBase.db)"
      ]
     },
     "execution_count": 5,
     "metadata": {},
     "output_type": "execute_result"
    },
    {
     "data": {
      "text/plain": [
       "<sqlalchemy.orm.session.Session at 0x22b5c8e5610>"
      ]
     },
     "execution_count": 5,
     "metadata": {},
     "output_type": "execute_result"
    }
   ],
   "source": [
    "db_params = {\"REL_PATH\": \"DeafDiscoBase.db\"}\n",
    "engine = db_connect.create_engine(db_params)\n",
    "session = db_connect.create_session(engine)\n",
    "\n",
    "# Check\n",
    "engine\n",
    "session"
   ]
  },
  {
   "cell_type": "code",
   "execution_count": 6,
   "metadata": {
    "ExecuteTime": {
     "end_time": "2021-02-16T16:28:16.137598Z",
     "start_time": "2021-02-16T16:28:15.772598Z"
    }
   },
   "outputs": [],
   "source": [
    "db_functions.create_DB_anew(engine, Base)"
   ]
  },
  {
   "cell_type": "code",
   "execution_count": 7,
   "metadata": {
    "ExecuteTime": {
     "end_time": "2021-02-16T16:28:16.517596Z",
     "start_time": "2021-02-16T16:28:16.141597Z"
    }
   },
   "outputs": [],
   "source": [
    "# COPIED FROM PROD_EXPORT\n",
    "\n",
    "def load_backup_data_from_parquet(\n",
    "    config_path: Union[Path, str], \n",
    "    record_data_name: Union[Path, str],\n",
    "    trx_data_name: Union[Path, str]\n",
    ") -> Tuple[pd.DataFrame, pd.DataFrame]:\n",
    "    \"\"\"Load the two back-up files with the record-related and \n",
    "    the credit_trx data into Pandas DataFrames.\n",
    "    \"\"\"\n",
    "    \n",
    "    back_up_params = db_connect.read_yaml(config_path, \"BACK_UP\")\n",
    "    rel_path = back_up_params[\"REL_PATH\"]\n",
    "    target_folder = Path.cwd().parent / rel_path  # TODO CHANGE FOR PROD\n",
    "    \n",
    "    df_list = []\n",
    "    for file in [record_data_name, trx_data_name]:\n",
    "        full_path = target_folder / file\n",
    "    \n",
    "        df = pd.read_parquet(full_path)\n",
    "        df_list.append(df)\n",
    "        \n",
    "    return df_list[0], df_list[1]"
   ]
  },
  {
   "cell_type": "code",
   "execution_count": 8,
   "metadata": {
    "ExecuteTime": {
     "end_time": "2021-02-16T16:28:16.754594Z",
     "start_time": "2021-02-16T16:28:16.523597Z"
    }
   },
   "outputs": [],
   "source": [
    "record_data, trx_data = load_backup_data_from_parquet(\n",
    "    CONFIG_PATH, \n",
    "    \"record_data_2021-02-14-15-58-43.parquet\",\n",
    "    \"trx_data_2021-02-14-15-58-44.parquet\"\n",
    ")\n",
    "\n",
    "\n",
    "# TEMPORARY: Bring Artists To List\n",
    "\n",
    "record_data[\"artist_country\"] = record_data[\"artist_country\"].fillna(\"NA\")\n",
    "\n",
    "def split_strings(x):\n",
    "    if isinstance(x, str):\n",
    "        x = x.split(\" / \")\n",
    "    return x\n",
    "\n",
    "record_data[\"artist\"] = record_data[\"artist\"].apply(split_strings)\n",
    "record_data[\"artist_country\"] = record_data[\"artist_country\"].apply(split_strings)\n",
    "\n",
    "\n",
    "# SIMULATE A TRX\n",
    "\n",
    "record_data[\"credit_value\"] = 0\n",
    "record_data[\"trx_type\"] = \"Initial Load\""
   ]
  },
  {
   "cell_type": "code",
   "execution_count": 9,
   "metadata": {
    "ExecuteTime": {
     "end_time": "2021-02-16T16:28:16.887601Z",
     "start_time": "2021-02-16T16:28:16.756596Z"
    }
   },
   "outputs": [],
   "source": [
    "record_df = record_data[record_data.index.isin([1, 301])]"
   ]
  },
  {
   "cell_type": "code",
   "execution_count": 10,
   "metadata": {
    "ExecuteTime": {
     "end_time": "2021-02-16T16:28:17.034598Z",
     "start_time": "2021-02-16T16:28:16.889596Z"
    }
   },
   "outputs": [
    {
     "name": "stdout",
     "output_type": "stream",
     "text": [
      "<class 'pandas.core.frame.DataFrame'>\n",
      "Int64Index: 2 entries, 1 to 301\n",
      "Data columns (total 18 columns):\n",
      " #   Column          Non-Null Count  Dtype         \n",
      "---  ------          --------------  -----         \n",
      " 0   artist          2 non-null      object        \n",
      " 1   artist_country  2 non-null      object        \n",
      " 2   title           2 non-null      object        \n",
      " 3   genre           2 non-null      object        \n",
      " 4   label           2 non-null      object        \n",
      " 5   year            2 non-null      int64         \n",
      " 6   record_format   2 non-null      object        \n",
      " 7   vinyl_color     1 non-null      object        \n",
      " 8   lim_edition     1 non-null      object        \n",
      " 9   number          0 non-null      object        \n",
      " 10  remarks         0 non-null      object        \n",
      " 11  price           2 non-null      float64       \n",
      " 12  purchase_date   2 non-null      datetime64[ns]\n",
      " 13  rating          0 non-null      float64       \n",
      " 14  is_digitized    2 non-null      bool          \n",
      " 15  is_active       2 non-null      bool          \n",
      " 16  credit_value    2 non-null      int64         \n",
      " 17  trx_type        2 non-null      object        \n",
      "dtypes: bool(2), datetime64[ns](1), float64(2), int64(2), object(11)\n",
      "memory usage: 276.0+ bytes\n"
     ]
    },
    {
     "data": {
      "text/html": [
       "<div>\n",
       "<style scoped>\n",
       "    .dataframe tbody tr th:only-of-type {\n",
       "        vertical-align: middle;\n",
       "    }\n",
       "\n",
       "    .dataframe tbody tr th {\n",
       "        vertical-align: top;\n",
       "    }\n",
       "\n",
       "    .dataframe thead th {\n",
       "        text-align: right;\n",
       "    }\n",
       "</style>\n",
       "<table border=\"1\" class=\"dataframe\">\n",
       "  <thead>\n",
       "    <tr style=\"text-align: right;\">\n",
       "      <th></th>\n",
       "      <th>artist</th>\n",
       "      <th>artist_country</th>\n",
       "      <th>title</th>\n",
       "      <th>genre</th>\n",
       "      <th>label</th>\n",
       "      <th>year</th>\n",
       "      <th>record_format</th>\n",
       "      <th>vinyl_color</th>\n",
       "      <th>lim_edition</th>\n",
       "      <th>number</th>\n",
       "      <th>remarks</th>\n",
       "      <th>price</th>\n",
       "      <th>purchase_date</th>\n",
       "      <th>rating</th>\n",
       "      <th>is_digitized</th>\n",
       "      <th>is_active</th>\n",
       "      <th>credit_value</th>\n",
       "      <th>trx_type</th>\n",
       "    </tr>\n",
       "    <tr>\n",
       "      <th>record_id</th>\n",
       "      <th></th>\n",
       "      <th></th>\n",
       "      <th></th>\n",
       "      <th></th>\n",
       "      <th></th>\n",
       "      <th></th>\n",
       "      <th></th>\n",
       "      <th></th>\n",
       "      <th></th>\n",
       "      <th></th>\n",
       "      <th></th>\n",
       "      <th></th>\n",
       "      <th></th>\n",
       "      <th></th>\n",
       "      <th></th>\n",
       "      <th></th>\n",
       "      <th></th>\n",
       "      <th></th>\n",
       "    </tr>\n",
       "  </thead>\n",
       "  <tbody>\n",
       "    <tr>\n",
       "      <th>1</th>\n",
       "      <td>[Dismember]</td>\n",
       "      <td>[NA]</td>\n",
       "      <td>Pieces</td>\n",
       "      <td>Death Metal</td>\n",
       "      <td>[NA]</td>\n",
       "      <td>1992</td>\n",
       "      <td>12\"</td>\n",
       "      <td>None</td>\n",
       "      <td>None</td>\n",
       "      <td>None</td>\n",
       "      <td>None</td>\n",
       "      <td>35.00</td>\n",
       "      <td>1992-01-01</td>\n",
       "      <td>nan</td>\n",
       "      <td>False</td>\n",
       "      <td>True</td>\n",
       "      <td>0</td>\n",
       "      <td>Initial Load</td>\n",
       "    </tr>\n",
       "    <tr>\n",
       "      <th>301</th>\n",
       "      <td>[Coffins, Depression]</td>\n",
       "      <td>[Japan, Germany]</td>\n",
       "      <td>Split</td>\n",
       "      <td>Death Metal</td>\n",
       "      <td>[Hells Headbangers]</td>\n",
       "      <td>2021</td>\n",
       "      <td>LP</td>\n",
       "      <td>white with black splatter</td>\n",
       "      <td>100</td>\n",
       "      <td>None</td>\n",
       "      <td>None</td>\n",
       "      <td>20.00</td>\n",
       "      <td>2021-01-20</td>\n",
       "      <td>nan</td>\n",
       "      <td>True</td>\n",
       "      <td>True</td>\n",
       "      <td>0</td>\n",
       "      <td>Initial Load</td>\n",
       "    </tr>\n",
       "  </tbody>\n",
       "</table>\n",
       "</div>"
      ],
      "text/plain": [
       "                          artist    artist_country   title        genre                label  year record_format                vinyl_color lim_edition number remarks  price purchase_date  rating  is_digitized  is_active  credit_value      trx_type\n",
       "record_id                                                                                                                                                                                                                                               \n",
       "1                    [Dismember]              [NA]  Pieces  Death Metal                 [NA]  1992           12\"                       None        None   None    None  35.00    1992-01-01     nan         False       True             0  Initial Load\n",
       "301        [Coffins, Depression]  [Japan, Germany]   Split  Death Metal  [Hells Headbangers]  2021            LP  white with black splatter         100   None    None  20.00    2021-01-20     nan          True       True             0  Initial Load"
      ]
     },
     "execution_count": 10,
     "metadata": {},
     "output_type": "execute_result"
    }
   ],
   "source": [
    "record_df.info()\n",
    "record_df.head(2)"
   ]
  },
  {
   "cell_type": "code",
   "execution_count": 11,
   "metadata": {
    "ExecuteTime": {
     "end_time": "2021-02-16T16:28:17.161597Z",
     "start_time": "2021-02-16T16:28:17.036596Z"
    }
   },
   "outputs": [],
   "source": [
    "def insert_df_with_sqlalchemy_orm(session, df):\n",
    "    for x in df.to_dict(\"records\"):\n",
    "        print(x)\n",
    "        db_functions.add_new_record(session, x)"
   ]
  },
  {
   "cell_type": "code",
   "execution_count": 12,
   "metadata": {
    "ExecuteTime": {
     "end_time": "2021-02-16T16:28:17.412598Z",
     "start_time": "2021-02-16T16:28:17.163599Z"
    }
   },
   "outputs": [
    {
     "name": "stdout",
     "output_type": "stream",
     "text": [
      "{'artist': ['Dismember'], 'artist_country': ['NA'], 'title': 'Pieces', 'genre': 'Death Metal', 'label': array(['NA'], dtype=object), 'year': 1992, 'record_format': '12\"', 'vinyl_color': None, 'lim_edition': None, 'number': None, 'remarks': None, 'price': 35.0, 'purchase_date': Timestamp('1992-01-01 00:00:00'), 'rating': nan, 'is_digitized': False, 'is_active': True, 'credit_value': 0, 'trx_type': 'Initial Load'}\n",
      "{'artist': ['Coffins', 'Depression'], 'artist_country': ['Japan', 'Germany'], 'title': 'Split', 'genre': 'Death Metal', 'label': array(['Hells Headbangers'], dtype=object), 'year': 2021, 'record_format': 'LP', 'vinyl_color': 'white with black splatter', 'lim_edition': '100', 'number': None, 'remarks': None, 'price': 20.0, 'purchase_date': Timestamp('2021-01-20 00:00:00'), 'rating': nan, 'is_digitized': True, 'is_active': True, 'credit_value': 0, 'trx_type': 'Initial Load'}\n"
     ]
    },
    {
     "name": "stderr",
     "output_type": "stream",
     "text": [
      "C:\\Users\\r2d4\\miniconda3\\envs\\py3\\lib\\site-packages\\sqlalchemy\\sql\\sqltypes.py:660: SAWarning: Dialect sqlite+pysqlite does *not* support Decimal objects natively, and SQLAlchemy must convert from floating point - rounding errors and other issues may occur. Please consider storing Decimal numbers as strings or integers on this platform for lossless storage.\n",
      "  util.warn(\n"
     ]
    }
   ],
   "source": [
    "insert_df_with_sqlalchemy_orm(session, record_df)"
   ]
  },
  {
   "cell_type": "markdown",
   "metadata": {},
   "source": [
    "### Insertion of 2 Credit Addition Trx"
   ]
  },
  {
   "cell_type": "code",
   "execution_count": 14,
   "metadata": {
    "ExecuteTime": {
     "end_time": "2021-02-16T16:28:40.818307Z",
     "start_time": "2021-02-16T16:28:40.680308Z"
    }
   },
   "outputs": [],
   "source": [
    "# to_delete = session.query(CreditTrx).filter(CreditTrx.credit_trx_id == 8).one()\n",
    "# session.delete(to_delete)\n",
    "# session.commit()"
   ]
  },
  {
   "cell_type": "code",
   "execution_count": 15,
   "metadata": {
    "ExecuteTime": {
     "end_time": "2021-02-16T16:28:41.266310Z",
     "start_time": "2021-02-16T16:28:41.103309Z"
    }
   },
   "outputs": [
    {
     "name": "stdout",
     "output_type": "stream",
     "text": [
      "Creating 'Addition' Trx for: 2021-02-15\n"
     ]
    }
   ],
   "source": [
    "# Initial trx, 11 days ago\n",
    "\n",
    "addition_trx = CreditTrx(\n",
    "    credit_trx_date=dt.datetime.today().date() - dt.timedelta(11),\n",
    "    credit_trx_type=\"Addition\",\n",
    "    credit_value=1,\n",
    "    credit_saldo=1,\n",
    "    record_id=np.nan\n",
    ")\n",
    "session.add(addition_trx)\n",
    "\n",
    "# And a regular interval addition\n",
    "db_functions.add_regular_credits(session)\n",
    "\n",
    "session.commit()"
   ]
  },
  {
   "cell_type": "code",
   "execution_count": 16,
   "metadata": {
    "ExecuteTime": {
     "end_time": "2021-02-16T16:28:42.269310Z",
     "start_time": "2021-02-16T16:28:42.126309Z"
    }
   },
   "outputs": [
    {
     "data": {
      "text/plain": [
       "[<CreditTrx(credit_trx_id=1, credit_trx_date=1992-01-01, credit_trx_type=Initial Load, credit_value=0.0, credit_saldo=0.0, record_id=1)>,\n",
       " <CreditTrx(credit_trx_id=2, credit_trx_date=2021-01-20, credit_trx_type=Initial Load, credit_value=0.0, credit_saldo=0.0, record_id=2)>,\n",
       " <CreditTrx(credit_trx_id=3, credit_trx_date=2021-02-05, credit_trx_type=Addition, credit_value=1.0, credit_saldo=1.0, record_id=None)>,\n",
       " <CreditTrx(credit_trx_id=4, credit_trx_date=2021-02-15, credit_trx_type=Addition, credit_value=1.0, credit_saldo=2.0, record_id=None)>]"
      ]
     },
     "execution_count": 16,
     "metadata": {},
     "output_type": "execute_result"
    }
   ],
   "source": [
    "session.query(CreditTrx).all()"
   ]
  },
  {
   "cell_type": "markdown",
   "metadata": {},
   "source": [
    "### Insertion of new Record"
   ]
  },
  {
   "cell_type": "code",
   "execution_count": 17,
   "metadata": {
    "ExecuteTime": {
     "end_time": "2021-02-16T16:28:43.521306Z",
     "start_time": "2021-02-16T16:28:43.390313Z"
    }
   },
   "outputs": [],
   "source": [
    "# db_functions.add_new_record(session, test_record)\n",
    "\n",
    "# assert session.query(Record).count() == 4"
   ]
  },
  {
   "cell_type": "code",
   "execution_count": 18,
   "metadata": {
    "ExecuteTime": {
     "end_time": "2021-02-16T16:28:44.005308Z",
     "start_time": "2021-02-16T16:28:43.869309Z"
    }
   },
   "outputs": [],
   "source": [
    "# session.query(CreditTrx).all()[-2:]"
   ]
  },
  {
   "cell_type": "markdown",
   "metadata": {},
   "source": [
    "### Removal of Existing Record\n",
    "\n",
    "Necessary cols: trx_type, credit_value, title, artist, date"
   ]
  },
  {
   "cell_type": "code",
   "execution_count": 19,
   "metadata": {
    "ExecuteTime": {
     "end_time": "2021-02-16T16:28:44.836307Z",
     "start_time": "2021-02-16T16:28:44.701310Z"
    }
   },
   "outputs": [],
   "source": [
    "# test_removal = {\n",
    "#     \"trx_type\": \"Remove\",\n",
    "#     \"credit_value\": 1,\n",
    "#     \"artist\": \"Emperor\",\n",
    "#     \"title\": \"s/t\",\n",
    "# #     \"year\": 1993,\n",
    "#     \"removal_date\": dt.datetime.today().date()\n",
    "# }"
   ]
  },
  {
   "cell_type": "code",
   "execution_count": 20,
   "metadata": {
    "ExecuteTime": {
     "end_time": "2021-02-16T16:28:45.346344Z",
     "start_time": "2021-02-16T16:28:45.207310Z"
    }
   },
   "outputs": [],
   "source": [
    "# db_functions.set_record_to_inactive(session, test_removal)"
   ]
  },
  {
   "cell_type": "code",
   "execution_count": 21,
   "metadata": {
    "ExecuteTime": {
     "end_time": "2021-02-16T16:28:46.064306Z",
     "start_time": "2021-02-16T16:28:45.935312Z"
    }
   },
   "outputs": [],
   "source": [
    "# session.query(func.count(distinct(Record.active))).all()\n",
    "# session.query(func.count(Record.record_id)).group_by(Record.active).all()"
   ]
  },
  {
   "cell_type": "code",
   "execution_count": 22,
   "metadata": {
    "ExecuteTime": {
     "end_time": "2021-02-16T16:28:46.465309Z",
     "start_time": "2021-02-16T16:28:46.326313Z"
    }
   },
   "outputs": [],
   "source": [
    "# session.query(CreditTrx).all()[-3:]"
   ]
  },
  {
   "cell_type": "markdown",
   "metadata": {},
   "source": [
    "### Reactivation of inactive Record [OPEN]"
   ]
  },
  {
   "cell_type": "code",
   "execution_count": 23,
   "metadata": {
    "ExecuteTime": {
     "end_time": "2021-02-16T16:28:47.242305Z",
     "start_time": "2021-02-16T16:28:47.109309Z"
    }
   },
   "outputs": [],
   "source": [
    "# ATTENTION It has to be possible ro re-add inactive records! (and to pay for it in credits!)"
   ]
  },
  {
   "cell_type": "markdown",
   "metadata": {},
   "source": [
    "## Query DB\n",
    "\n",
    "### Check Tables"
   ]
  },
  {
   "cell_type": "code",
   "execution_count": 24,
   "metadata": {
    "ExecuteTime": {
     "end_time": "2021-02-16T16:28:48.217925Z",
     "start_time": "2021-02-16T16:28:48.036931Z"
    }
   },
   "outputs": [
    {
     "data": {
      "text/html": [
       "<div>\n",
       "<style scoped>\n",
       "    .dataframe tbody tr th:only-of-type {\n",
       "        vertical-align: middle;\n",
       "    }\n",
       "\n",
       "    .dataframe tbody tr th {\n",
       "        vertical-align: top;\n",
       "    }\n",
       "\n",
       "    .dataframe thead th {\n",
       "        text-align: right;\n",
       "    }\n",
       "</style>\n",
       "<table border=\"1\" class=\"dataframe\">\n",
       "  <thead>\n",
       "    <tr style=\"text-align: right;\">\n",
       "      <th></th>\n",
       "      <th>record_id</th>\n",
       "      <th>title</th>\n",
       "      <th>year</th>\n",
       "      <th>genre_id</th>\n",
       "      <th>format_id</th>\n",
       "      <th>vinyl_color</th>\n",
       "      <th>lim_edition</th>\n",
       "      <th>number</th>\n",
       "      <th>remarks</th>\n",
       "      <th>purchase_date</th>\n",
       "      <th>price</th>\n",
       "      <th>rating</th>\n",
       "      <th>is_digitized</th>\n",
       "      <th>is_active</th>\n",
       "      <th>created_at</th>\n",
       "      <th>updated_at</th>\n",
       "    </tr>\n",
       "  </thead>\n",
       "  <tbody>\n",
       "    <tr>\n",
       "      <th>0</th>\n",
       "      <td>1</td>\n",
       "      <td>Pieces</td>\n",
       "      <td>1992</td>\n",
       "      <td>1</td>\n",
       "      <td>1</td>\n",
       "      <td>None</td>\n",
       "      <td>None</td>\n",
       "      <td>None</td>\n",
       "      <td>None</td>\n",
       "      <td>1992-01-01</td>\n",
       "      <td>35</td>\n",
       "      <td>None</td>\n",
       "      <td>0</td>\n",
       "      <td>1</td>\n",
       "      <td>2021-02-16 16:28:17</td>\n",
       "      <td>NaT</td>\n",
       "    </tr>\n",
       "    <tr>\n",
       "      <th>1</th>\n",
       "      <td>2</td>\n",
       "      <td>Split</td>\n",
       "      <td>2021</td>\n",
       "      <td>1</td>\n",
       "      <td>2</td>\n",
       "      <td>white with black splatter</td>\n",
       "      <td>100</td>\n",
       "      <td>None</td>\n",
       "      <td>None</td>\n",
       "      <td>2021-01-20</td>\n",
       "      <td>20</td>\n",
       "      <td>None</td>\n",
       "      <td>1</td>\n",
       "      <td>1</td>\n",
       "      <td>2021-02-16 16:28:17</td>\n",
       "      <td>NaT</td>\n",
       "    </tr>\n",
       "  </tbody>\n",
       "</table>\n",
       "</div>"
      ],
      "text/plain": [
       "   record_id   title  year  genre_id  format_id                vinyl_color lim_edition number remarks purchase_date  price rating  is_digitized  is_active          created_at updated_at\n",
       "0          1  Pieces  1992         1          1                       None        None   None    None    1992-01-01     35   None             0          1 2021-02-16 16:28:17        NaT\n",
       "1          2   Split  2021         1          2  white with black splatter         100   None    None    2021-01-20     20   None             1          1 2021-02-16 16:28:17        NaT"
      ]
     },
     "execution_count": 24,
     "metadata": {},
     "output_type": "execute_result"
    }
   ],
   "source": [
    "pd.read_sql(\"records\", engine)"
   ]
  },
  {
   "cell_type": "code",
   "execution_count": 25,
   "metadata": {
    "ExecuteTime": {
     "end_time": "2021-02-16T16:28:51.604884Z",
     "start_time": "2021-02-16T16:28:51.441885Z"
    }
   },
   "outputs": [
    {
     "data": {
      "text/html": [
       "<div>\n",
       "<style scoped>\n",
       "    .dataframe tbody tr th:only-of-type {\n",
       "        vertical-align: middle;\n",
       "    }\n",
       "\n",
       "    .dataframe tbody tr th {\n",
       "        vertical-align: top;\n",
       "    }\n",
       "\n",
       "    .dataframe thead th {\n",
       "        text-align: right;\n",
       "    }\n",
       "</style>\n",
       "<table border=\"1\" class=\"dataframe\">\n",
       "  <thead>\n",
       "    <tr style=\"text-align: right;\">\n",
       "      <th></th>\n",
       "      <th>artist_id</th>\n",
       "      <th>artist_name</th>\n",
       "      <th>artist_country</th>\n",
       "      <th>created_at</th>\n",
       "      <th>updated_at</th>\n",
       "    </tr>\n",
       "  </thead>\n",
       "  <tbody>\n",
       "    <tr>\n",
       "      <th>0</th>\n",
       "      <td>1</td>\n",
       "      <td>Dismember</td>\n",
       "      <td>NA</td>\n",
       "      <td>2021-02-16 16:28:17</td>\n",
       "      <td>NaT</td>\n",
       "    </tr>\n",
       "    <tr>\n",
       "      <th>1</th>\n",
       "      <td>2</td>\n",
       "      <td>Coffins</td>\n",
       "      <td>Japan</td>\n",
       "      <td>2021-02-16 16:28:17</td>\n",
       "      <td>NaT</td>\n",
       "    </tr>\n",
       "    <tr>\n",
       "      <th>2</th>\n",
       "      <td>3</td>\n",
       "      <td>Depression</td>\n",
       "      <td>Germany</td>\n",
       "      <td>2021-02-16 16:28:17</td>\n",
       "      <td>NaT</td>\n",
       "    </tr>\n",
       "  </tbody>\n",
       "</table>\n",
       "</div>"
      ],
      "text/plain": [
       "   artist_id artist_name artist_country          created_at updated_at\n",
       "0          1   Dismember             NA 2021-02-16 16:28:17        NaT\n",
       "1          2     Coffins          Japan 2021-02-16 16:28:17        NaT\n",
       "2          3  Depression        Germany 2021-02-16 16:28:17        NaT"
      ]
     },
     "execution_count": 25,
     "metadata": {},
     "output_type": "execute_result"
    }
   ],
   "source": [
    "pd.read_sql(\"artists\", engine)"
   ]
  },
  {
   "cell_type": "code",
   "execution_count": 26,
   "metadata": {
    "ExecuteTime": {
     "end_time": "2021-02-16T16:28:53.502953Z",
     "start_time": "2021-02-16T16:28:53.326952Z"
    }
   },
   "outputs": [
    {
     "data": {
      "text/html": [
       "<div>\n",
       "<style scoped>\n",
       "    .dataframe tbody tr th:only-of-type {\n",
       "        vertical-align: middle;\n",
       "    }\n",
       "\n",
       "    .dataframe tbody tr th {\n",
       "        vertical-align: top;\n",
       "    }\n",
       "\n",
       "    .dataframe thead th {\n",
       "        text-align: right;\n",
       "    }\n",
       "</style>\n",
       "<table border=\"1\" class=\"dataframe\">\n",
       "  <thead>\n",
       "    <tr style=\"text-align: right;\">\n",
       "      <th></th>\n",
       "      <th>artist_id</th>\n",
       "      <th>record_id</th>\n",
       "    </tr>\n",
       "  </thead>\n",
       "  <tbody>\n",
       "    <tr>\n",
       "      <th>0</th>\n",
       "      <td>1</td>\n",
       "      <td>1</td>\n",
       "    </tr>\n",
       "    <tr>\n",
       "      <th>1</th>\n",
       "      <td>2</td>\n",
       "      <td>2</td>\n",
       "    </tr>\n",
       "    <tr>\n",
       "      <th>2</th>\n",
       "      <td>3</td>\n",
       "      <td>2</td>\n",
       "    </tr>\n",
       "  </tbody>\n",
       "</table>\n",
       "</div>"
      ],
      "text/plain": [
       "   artist_id  record_id\n",
       "0          1          1\n",
       "1          2          2\n",
       "2          3          2"
      ]
     },
     "execution_count": 26,
     "metadata": {},
     "output_type": "execute_result"
    }
   ],
   "source": [
    "pd.read_sql(\"artist_record_link\", engine)"
   ]
  },
  {
   "cell_type": "code",
   "execution_count": 27,
   "metadata": {
    "ExecuteTime": {
     "end_time": "2021-02-16T16:28:54.075948Z",
     "start_time": "2021-02-16T16:28:53.925954Z"
    }
   },
   "outputs": [
    {
     "data": {
      "text/html": [
       "<div>\n",
       "<style scoped>\n",
       "    .dataframe tbody tr th:only-of-type {\n",
       "        vertical-align: middle;\n",
       "    }\n",
       "\n",
       "    .dataframe tbody tr th {\n",
       "        vertical-align: top;\n",
       "    }\n",
       "\n",
       "    .dataframe thead th {\n",
       "        text-align: right;\n",
       "    }\n",
       "</style>\n",
       "<table border=\"1\" class=\"dataframe\">\n",
       "  <thead>\n",
       "    <tr style=\"text-align: right;\">\n",
       "      <th></th>\n",
       "      <th>genre_id</th>\n",
       "      <th>genre_name</th>\n",
       "      <th>created_at</th>\n",
       "      <th>updated_at</th>\n",
       "    </tr>\n",
       "  </thead>\n",
       "  <tbody>\n",
       "    <tr>\n",
       "      <th>0</th>\n",
       "      <td>1</td>\n",
       "      <td>Death Metal</td>\n",
       "      <td>2021-02-16 16:28:17</td>\n",
       "      <td>NaT</td>\n",
       "    </tr>\n",
       "  </tbody>\n",
       "</table>\n",
       "</div>"
      ],
      "text/plain": [
       "   genre_id   genre_name          created_at updated_at\n",
       "0         1  Death Metal 2021-02-16 16:28:17        NaT"
      ]
     },
     "execution_count": 27,
     "metadata": {},
     "output_type": "execute_result"
    }
   ],
   "source": [
    "pd.read_sql(\"genres\", engine)"
   ]
  },
  {
   "cell_type": "code",
   "execution_count": 28,
   "metadata": {
    "ExecuteTime": {
     "end_time": "2021-02-16T16:29:00.465407Z",
     "start_time": "2021-02-16T16:29:00.312359Z"
    }
   },
   "outputs": [
    {
     "data": {
      "text/html": [
       "<div>\n",
       "<style scoped>\n",
       "    .dataframe tbody tr th:only-of-type {\n",
       "        vertical-align: middle;\n",
       "    }\n",
       "\n",
       "    .dataframe tbody tr th {\n",
       "        vertical-align: top;\n",
       "    }\n",
       "\n",
       "    .dataframe thead th {\n",
       "        text-align: right;\n",
       "    }\n",
       "</style>\n",
       "<table border=\"1\" class=\"dataframe\">\n",
       "  <thead>\n",
       "    <tr style=\"text-align: right;\">\n",
       "      <th></th>\n",
       "      <th>artist_id</th>\n",
       "      <th>genre_id</th>\n",
       "    </tr>\n",
       "  </thead>\n",
       "  <tbody>\n",
       "    <tr>\n",
       "      <th>0</th>\n",
       "      <td>1</td>\n",
       "      <td>1</td>\n",
       "    </tr>\n",
       "    <tr>\n",
       "      <th>1</th>\n",
       "      <td>2</td>\n",
       "      <td>1</td>\n",
       "    </tr>\n",
       "    <tr>\n",
       "      <th>2</th>\n",
       "      <td>3</td>\n",
       "      <td>1</td>\n",
       "    </tr>\n",
       "  </tbody>\n",
       "</table>\n",
       "</div>"
      ],
      "text/plain": [
       "   artist_id  genre_id\n",
       "0          1         1\n",
       "1          2         1\n",
       "2          3         1"
      ]
     },
     "execution_count": 28,
     "metadata": {},
     "output_type": "execute_result"
    }
   ],
   "source": [
    "pd.read_sql(\"artist_genre_link\", engine)"
   ]
  },
  {
   "cell_type": "code",
   "execution_count": 29,
   "metadata": {
    "ExecuteTime": {
     "end_time": "2021-02-16T16:29:01.364405Z",
     "start_time": "2021-02-16T16:29:01.205406Z"
    }
   },
   "outputs": [
    {
     "data": {
      "text/html": [
       "<div>\n",
       "<style scoped>\n",
       "    .dataframe tbody tr th:only-of-type {\n",
       "        vertical-align: middle;\n",
       "    }\n",
       "\n",
       "    .dataframe tbody tr th {\n",
       "        vertical-align: top;\n",
       "    }\n",
       "\n",
       "    .dataframe thead th {\n",
       "        text-align: right;\n",
       "    }\n",
       "</style>\n",
       "<table border=\"1\" class=\"dataframe\">\n",
       "  <thead>\n",
       "    <tr style=\"text-align: right;\">\n",
       "      <th></th>\n",
       "      <th>format_id</th>\n",
       "      <th>format_name</th>\n",
       "      <th>created_at</th>\n",
       "      <th>updated_at</th>\n",
       "    </tr>\n",
       "  </thead>\n",
       "  <tbody>\n",
       "    <tr>\n",
       "      <th>0</th>\n",
       "      <td>1</td>\n",
       "      <td>12\"</td>\n",
       "      <td>2021-02-16 16:28:17</td>\n",
       "      <td>NaT</td>\n",
       "    </tr>\n",
       "    <tr>\n",
       "      <th>1</th>\n",
       "      <td>2</td>\n",
       "      <td>LP</td>\n",
       "      <td>2021-02-16 16:28:17</td>\n",
       "      <td>NaT</td>\n",
       "    </tr>\n",
       "  </tbody>\n",
       "</table>\n",
       "</div>"
      ],
      "text/plain": [
       "   format_id format_name          created_at updated_at\n",
       "0          1         12\" 2021-02-16 16:28:17        NaT\n",
       "1          2          LP 2021-02-16 16:28:17        NaT"
      ]
     },
     "execution_count": 29,
     "metadata": {},
     "output_type": "execute_result"
    }
   ],
   "source": [
    "pd.read_sql(\"formats\", engine)"
   ]
  },
  {
   "cell_type": "code",
   "execution_count": 30,
   "metadata": {
    "ExecuteTime": {
     "end_time": "2021-02-16T16:29:04.627105Z",
     "start_time": "2021-02-16T16:29:04.431108Z"
    }
   },
   "outputs": [
    {
     "data": {
      "text/html": [
       "<div>\n",
       "<style scoped>\n",
       "    .dataframe tbody tr th:only-of-type {\n",
       "        vertical-align: middle;\n",
       "    }\n",
       "\n",
       "    .dataframe tbody tr th {\n",
       "        vertical-align: top;\n",
       "    }\n",
       "\n",
       "    .dataframe thead th {\n",
       "        text-align: right;\n",
       "    }\n",
       "</style>\n",
       "<table border=\"1\" class=\"dataframe\">\n",
       "  <thead>\n",
       "    <tr style=\"text-align: right;\">\n",
       "      <th></th>\n",
       "      <th>label_id</th>\n",
       "      <th>label_name</th>\n",
       "      <th>created_at</th>\n",
       "      <th>updated_at</th>\n",
       "    </tr>\n",
       "  </thead>\n",
       "  <tbody>\n",
       "    <tr>\n",
       "      <th>0</th>\n",
       "      <td>1</td>\n",
       "      <td>NA</td>\n",
       "      <td>2021-02-16 16:28:17</td>\n",
       "      <td>NaT</td>\n",
       "    </tr>\n",
       "    <tr>\n",
       "      <th>1</th>\n",
       "      <td>2</td>\n",
       "      <td>Hells Headbangers</td>\n",
       "      <td>2021-02-16 16:28:17</td>\n",
       "      <td>NaT</td>\n",
       "    </tr>\n",
       "  </tbody>\n",
       "</table>\n",
       "</div>"
      ],
      "text/plain": [
       "   label_id         label_name          created_at updated_at\n",
       "0         1                 NA 2021-02-16 16:28:17        NaT\n",
       "1         2  Hells Headbangers 2021-02-16 16:28:17        NaT"
      ]
     },
     "execution_count": 30,
     "metadata": {},
     "output_type": "execute_result"
    }
   ],
   "source": [
    "pd.read_sql(\"labels\", engine)"
   ]
  },
  {
   "cell_type": "code",
   "execution_count": 31,
   "metadata": {
    "ExecuteTime": {
     "end_time": "2021-02-16T16:29:06.272648Z",
     "start_time": "2021-02-16T16:29:06.109647Z"
    }
   },
   "outputs": [
    {
     "data": {
      "text/html": [
       "<div>\n",
       "<style scoped>\n",
       "    .dataframe tbody tr th:only-of-type {\n",
       "        vertical-align: middle;\n",
       "    }\n",
       "\n",
       "    .dataframe tbody tr th {\n",
       "        vertical-align: top;\n",
       "    }\n",
       "\n",
       "    .dataframe thead th {\n",
       "        text-align: right;\n",
       "    }\n",
       "</style>\n",
       "<table border=\"1\" class=\"dataframe\">\n",
       "  <thead>\n",
       "    <tr style=\"text-align: right;\">\n",
       "      <th></th>\n",
       "      <th>label_id</th>\n",
       "      <th>record_id</th>\n",
       "    </tr>\n",
       "  </thead>\n",
       "  <tbody>\n",
       "    <tr>\n",
       "      <th>0</th>\n",
       "      <td>1</td>\n",
       "      <td>1</td>\n",
       "    </tr>\n",
       "    <tr>\n",
       "      <th>1</th>\n",
       "      <td>2</td>\n",
       "      <td>2</td>\n",
       "    </tr>\n",
       "  </tbody>\n",
       "</table>\n",
       "</div>"
      ],
      "text/plain": [
       "   label_id  record_id\n",
       "0         1          1\n",
       "1         2          2"
      ]
     },
     "execution_count": 31,
     "metadata": {},
     "output_type": "execute_result"
    }
   ],
   "source": [
    "pd.read_sql(\"label_record_link\", engine)"
   ]
  },
  {
   "cell_type": "code",
   "execution_count": 32,
   "metadata": {
    "ExecuteTime": {
     "end_time": "2021-02-16T16:29:08.962700Z",
     "start_time": "2021-02-16T16:29:08.816647Z"
    }
   },
   "outputs": [
    {
     "data": {
      "text/html": [
       "<div>\n",
       "<style scoped>\n",
       "    .dataframe tbody tr th:only-of-type {\n",
       "        vertical-align: middle;\n",
       "    }\n",
       "\n",
       "    .dataframe tbody tr th {\n",
       "        vertical-align: top;\n",
       "    }\n",
       "\n",
       "    .dataframe thead th {\n",
       "        text-align: right;\n",
       "    }\n",
       "</style>\n",
       "<table border=\"1\" class=\"dataframe\">\n",
       "  <thead>\n",
       "    <tr style=\"text-align: right;\">\n",
       "      <th></th>\n",
       "      <th>artist_id</th>\n",
       "      <th>label_id</th>\n",
       "    </tr>\n",
       "  </thead>\n",
       "  <tbody>\n",
       "    <tr>\n",
       "      <th>0</th>\n",
       "      <td>1</td>\n",
       "      <td>1</td>\n",
       "    </tr>\n",
       "    <tr>\n",
       "      <th>1</th>\n",
       "      <td>2</td>\n",
       "      <td>2</td>\n",
       "    </tr>\n",
       "    <tr>\n",
       "      <th>2</th>\n",
       "      <td>3</td>\n",
       "      <td>2</td>\n",
       "    </tr>\n",
       "  </tbody>\n",
       "</table>\n",
       "</div>"
      ],
      "text/plain": [
       "   artist_id  label_id\n",
       "0          1         1\n",
       "1          2         2\n",
       "2          3         2"
      ]
     },
     "execution_count": 32,
     "metadata": {},
     "output_type": "execute_result"
    }
   ],
   "source": [
    "pd.read_sql(\"artist_label_link\", engine)"
   ]
  },
  {
   "cell_type": "markdown",
   "metadata": {},
   "source": [
    "### Miscelaneous Queries"
   ]
  },
  {
   "cell_type": "code",
   "execution_count": 33,
   "metadata": {
    "ExecuteTime": {
     "end_time": "2021-02-16T16:29:14.553031Z",
     "start_time": "2021-02-16T16:29:14.414008Z"
    }
   },
   "outputs": [],
   "source": [
    "artist_test = [\"Dismember\"]\n",
    "title_test = \"Pieces\"\n",
    "\n",
    "def fetch_a_record_from_the_shelf(\n",
    "    session: sqlalchemy.orm.session.Session, artist: Iterable[str], title: str\n",
    ") -> sqlalchemy.orm.query.Query:\n",
    "    \"\"\"Query a record by title, artist and (optional) year,\n",
    "    Return the query result object. Returns None if no record is\n",
    "    found, raises an error if more than one record is matched.\n",
    "    \"\"\"\n",
    "    record = (\n",
    "        session.query(Record)\n",
    "        .filter(\n",
    "            (Record.title.ilike(title)),\n",
    "            (Record.artists.any(artist_name = artist[0]))\n",
    "        )\n",
    "        .one_or_none()\n",
    "    )\n",
    "    return record\n"
   ]
  },
  {
   "cell_type": "code",
   "execution_count": 34,
   "metadata": {
    "ExecuteTime": {
     "end_time": "2021-02-16T16:29:15.410967Z",
     "start_time": "2021-02-16T16:29:15.277454Z"
    }
   },
   "outputs": [
    {
     "name": "stdout",
     "output_type": "stream",
     "text": [
      "<Record(record_id=1, title=Pieces, artist=[<Artist(artist_id=1, artist_name=Dismember)>])>\n"
     ]
    }
   ],
   "source": [
    "r = fetch_a_record_from_the_shelf(session, artist_test, title_test)\n",
    "print(r)"
   ]
  },
  {
   "cell_type": "code",
   "execution_count": null,
   "metadata": {
    "ExecuteTime": {
     "end_time": "2021-02-16T16:28:18.155293Z",
     "start_time": "2021-02-16T16:28:13.747Z"
    }
   },
   "outputs": [],
   "source": [
    "# TODO: On Updates the old values are not overwritten in many to many relationships (-->Labels) ... new ones are added\n",
    "# I cound make a correction function that enables updates on many to many entities (labels, genres, artists)"
   ]
  },
  {
   "cell_type": "code",
   "execution_count": 35,
   "metadata": {
    "ExecuteTime": {
     "end_time": "2021-02-16T16:37:02.066312Z",
     "start_time": "2021-02-16T16:37:01.921298Z"
    }
   },
   "outputs": [],
   "source": [
    "session.close()"
   ]
  },
  {
   "cell_type": "code",
   "execution_count": 36,
   "metadata": {
    "ExecuteTime": {
     "end_time": "2021-02-16T16:37:09.305747Z",
     "start_time": "2021-02-16T16:37:09.159434Z"
    }
   },
   "outputs": [
    {
     "ename": "NameError",
     "evalue": "name 'brk' is not defined",
     "output_type": "error",
     "traceback": [
      "\u001b[1;31m---------------------------------------------------------------------------\u001b[0m",
      "\u001b[1;31mNameError\u001b[0m                                 Traceback (most recent call last)",
      "\u001b[1;32m<ipython-input-36-50a2b75a1e72>\u001b[0m in \u001b[0;36m<module>\u001b[1;34m\u001b[0m\n\u001b[1;32m----> 1\u001b[1;33m \u001b[0mbrk\u001b[0m\u001b[1;33m\u001b[0m\u001b[1;33m\u001b[0m\u001b[0m\n\u001b[0m",
      "\u001b[1;31mNameError\u001b[0m: name 'brk' is not defined"
     ]
    }
   ],
   "source": [
    "brk"
   ]
  },
  {
   "cell_type": "markdown",
   "metadata": {},
   "source": [
    "# Export"
   ]
  },
  {
   "cell_type": "code",
   "execution_count": null,
   "metadata": {
    "ExecuteTime": {
     "end_time": "2021-02-16T16:28:18.159294Z",
     "start_time": "2021-02-16T16:28:13.756Z"
    }
   },
   "outputs": [],
   "source": [
    "for result in session.query(Record).all():\n",
    "    print(result)"
   ]
  },
  {
   "cell_type": "code",
   "execution_count": null,
   "metadata": {
    "ExecuteTime": {
     "end_time": "2021-02-16T16:28:18.161293Z",
     "start_time": "2021-02-16T16:28:13.761Z"
    }
   },
   "outputs": [],
   "source": [
    "result = session.query(Record).filter(Record.record_id == 4).one_or_none()\n",
    "\n",
    "# Check\n",
    "result"
   ]
  },
  {
   "cell_type": "code",
   "execution_count": null,
   "metadata": {
    "ExecuteTime": {
     "end_time": "2021-02-16T16:28:18.162300Z",
     "start_time": "2021-02-16T16:28:13.764Z"
    }
   },
   "outputs": [],
   "source": [
    "# Note for the first export this is still many-to-one, will change to many-to-many in the future\n",
    "\n",
    "# artist_tuple = (\n",
    "#     session\n",
    "#     .query(Artist.artist_name, Artist.artist_country)\n",
    "#     .join(Record, Record.artist_id == Artist.artist_id)\n",
    "#     .filter(Artist.artist_id == result.artist_id)\n",
    "#     .first()\n",
    "# )            \n",
    "\n",
    "# # Check\n",
    "# print(artist_tuple[0])\n",
    "# print(artist_tuple[1])\n",
    "\n",
    "result.artist.artist_name\n",
    "result.artist.artist_country"
   ]
  },
  {
   "cell_type": "code",
   "execution_count": null,
   "metadata": {
    "ExecuteTime": {
     "end_time": "2021-02-16T16:28:18.164293Z",
     "start_time": "2021-02-16T16:28:13.768Z"
    }
   },
   "outputs": [],
   "source": [
    "# One-to-many\n",
    "\n",
    "# record_format = (\n",
    "#     session\n",
    "#     .query(RecordFormat.format_name)\n",
    "#     .join(Record, Record.format_id == RecordFormat.format_id)\n",
    "#     .filter(RecordFormat.format_id == result.format_id)\n",
    "#     .first()[0]\n",
    "# )            \n",
    "\n",
    "\n",
    "result.record_format.format_name"
   ]
  },
  {
   "cell_type": "code",
   "execution_count": null,
   "metadata": {
    "ExecuteTime": {
     "end_time": "2021-02-16T16:28:18.167293Z",
     "start_time": "2021-02-16T16:28:13.771Z"
    }
   },
   "outputs": [],
   "source": [
    "# many-to-many\n",
    "\n",
    "# Check\n",
    "[label.label_name for label in result.labels]\n",
    "result.labels[0].label_name"
   ]
  },
  {
   "cell_type": "code",
   "execution_count": null,
   "metadata": {
    "ExecuteTime": {
     "end_time": "2021-02-16T16:28:18.168292Z",
     "start_time": "2021-02-16T16:28:13.775Z"
    }
   },
   "outputs": [],
   "source": [
    "record_data_dict = {\n",
    "    \"record_id\": result.record_id,\n",
    "    \"artist\": result.artist.artist_name,  # has to be adapted to many-to-many\n",
    "    \"artist_country\": result.artist.artist_country,  # has to be adapted to many-to-many\n",
    "    \"title\": result.title,\n",
    "    \"genre\": result.genre.genre_name,\n",
    "    \"label\": [label.label_name for label in result.labels],\n",
    "    \"year\": result.year,\n",
    "    \"record_format\": result.record_format.format_name,\n",
    "    \"vinyl_color\": result.vinyl_color,\n",
    "    \"lim_edition\": result.lim_edition,\n",
    "    \"number\": result.number,\n",
    "    \"remarks\": result.remarks,\n",
    "    \"price\": result.price,\n",
    "    \"digitized\": result.digitized,\n",
    "    \"rating\": result.rating, # has to be datapted to one-to-many\n",
    "    \"is_active\": result.active,\n",
    "    \"purchase_date\": result.purchase_date,\n",
    "}"
   ]
  },
  {
   "cell_type": "code",
   "execution_count": null,
   "metadata": {
    "ExecuteTime": {
     "end_time": "2021-02-16T16:28:18.170294Z",
     "start_time": "2021-02-16T16:28:13.781Z"
    }
   },
   "outputs": [],
   "source": [
    "record_data_dict"
   ]
  },
  {
   "cell_type": "code",
   "execution_count": null,
   "metadata": {
    "ExecuteTime": {
     "end_time": "2021-02-16T16:28:18.172293Z",
     "start_time": "2021-02-16T16:28:13.787Z"
    }
   },
   "outputs": [],
   "source": [
    "result_list = session.query(Record).order_by(Record.record_id).all()\n",
    "dict_list = []\n",
    "for result in result_list:\n",
    "    record_data_dict = {\n",
    "    \"record_id\": result.record_id,\n",
    "    \"artist\": result.artist.artist_name,  # has to be adapted to many-to-many\n",
    "    \"artist_country\": result.artist.artist_country,  # has to be adapted to many-to-many\n",
    "    \"title\": result.title,\n",
    "    \"genre\": result.genre.genre_name,\n",
    "    \"label\": [label.label_name for label in result.labels],\n",
    "    \"year\": result.year,\n",
    "    \"record_format\": result.record_format.format_name,\n",
    "    \"vinyl_color\": result.vinyl_color,\n",
    "    \"lim_edition\": result.lim_edition,\n",
    "    \"number\": result.number,\n",
    "    \"remarks\": result.remarks,\n",
    "    \"price\": result.price,\n",
    "    \"digitized\": result.digitized,\n",
    "    \"rating\": result.rating, # has to be datapted to one-to-many\n",
    "    \"is_active\": result.active,\n",
    "    \"purchase_date\": result.purchase_date,\n",
    "    }\n",
    "    dict_list.append(record_data_dict)\n",
    "\n",
    "records_df = pd.DataFrame(dict_list, columns=dict_list[0].keys())\n",
    "records_df.set_index('record_id', drop=True, inplace=True) \n",
    "\n",
    "assert records_df.index.is_monotonic_increasing & records_df.index.is_unique"
   ]
  },
  {
   "cell_type": "code",
   "execution_count": null,
   "metadata": {
    "ExecuteTime": {
     "end_time": "2021-02-16T16:28:18.173291Z",
     "start_time": "2021-02-16T16:28:13.791Z"
    }
   },
   "outputs": [],
   "source": [
    "records_df.head()"
   ]
  },
  {
   "cell_type": "code",
   "execution_count": null,
   "metadata": {
    "ExecuteTime": {
     "end_time": "2021-02-16T16:28:18.175292Z",
     "start_time": "2021-02-16T16:28:13.795Z"
    }
   },
   "outputs": [],
   "source": [
    "credit_trx_df = pd.read_sql(\"credit_trx\", engine)\n",
    "credit_trx_df.set_index('credit_trx_id', drop=True, inplace=True) \n",
    "\n",
    "assert credit_trx_df.index.is_monotonic_increasing & credit_trx_df.index.is_unique"
   ]
  },
  {
   "cell_type": "code",
   "execution_count": null,
   "metadata": {
    "ExecuteTime": {
     "end_time": "2021-02-16T16:28:18.177293Z",
     "start_time": "2021-02-16T16:28:13.799Z"
    }
   },
   "outputs": [],
   "source": [
    "credit_trx_df.head()"
   ]
  },
  {
   "cell_type": "code",
   "execution_count": null,
   "metadata": {
    "ExecuteTime": {
     "end_time": "2021-02-16T16:28:18.179293Z",
     "start_time": "2021-02-16T16:28:13.803Z"
    }
   },
   "outputs": [],
   "source": [
    "def export_db_data_to_2_parquet_files(session, engine, config_path):\n",
    "    \"\"\"Create 2 tabular parquet files, one with record-related\n",
    "    data (incl. information on artists, genres, labels), and one that \n",
    "    is a copy of the `credit_trx` table. With help of these files the \n",
    "    database can be repopulated after a complete reset.\n",
    "    \"\"\"\n",
    "    \n",
    "    record_df_tuple = _save_record_related_data_to_df(session)\n",
    "    credit_trx_df_tuple = _save_credit_trx_table_to_df(engine)\n",
    "    \n",
    "    for df_tuple in [record_df_tuple, credit_trx_df_tuple]:\n",
    "        _save_df_to_parquet(df_tuple, config_path)\n",
    "    \n",
    "    \n",
    "def _save_record_related_data_to_df(session) -> Tuple[str, pd.DataFrame]:\n",
    "    \"\"\"Save all record-related data to Pandas Dataframe and return a tuple\n",
    "    with a dataframe name string and the dataframe. Called within \n",
    "    `export_db_data_to_2_parquet_files`.\n",
    "    \"\"\"\n",
    "    result_list = session.query(Record).order_by(Record.record_id).all()\n",
    "    dict_list = []\n",
    "    \n",
    "    for result in result_list:\n",
    "        record_data_dict = {\n",
    "        \"record_id\": result.record_id,\n",
    "        \"artist\": result.artist.artist_name,  # TODO: has to be adapted to many-to-many\n",
    "        \"artist_country\": result.artist.artist_country,  #TODO: has to be adapted to many-to-many\n",
    "        \"title\": result.title,\n",
    "        \"genre\": result.genre.genre_name,\n",
    "        \"label\": [label.label_name for label in result.labels],\n",
    "        \"year\": result.year,\n",
    "        \"record_format\": result.record_format.format_name,\n",
    "        \"vinyl_color\": result.vinyl_color,\n",
    "        \"lim_edition\": result.lim_edition,\n",
    "        \"number\": result.number,\n",
    "        \"remarks\": result.remarks,\n",
    "        \"price\": result.price,\n",
    "        \"digitized\": result.digitized,\n",
    "        \"rating\": result.rating, # TODO: has to be datapted to one-to-many\n",
    "        \"is_active\": result.active,\n",
    "        \"purchase_date\": result.purchase_date,\n",
    "        }\n",
    "        dict_list.append(record_data_dict)\n",
    "\n",
    "    records_df = pd.DataFrame(dict_list, columns=dict_list[0].keys())\n",
    "    records_df.set_index('record_id', drop=True, inplace=True) \n",
    "    df_name = \"record_data\"\n",
    "\n",
    "    if not records_df.index.is_monotonic_increasing and not records_df.index.is_unique:\n",
    "        raise AssertionError(\"record_ids are messed up, please check data.\")\n",
    "    \n",
    "    return df_name, records_df\n",
    "\n",
    "    \n",
    "def _save_credit_trx_table_to_df(engine) -> Tuple[str, pd.DataFrame]:\n",
    "    \"\"\"Copy credit_trx_table to Pandas Dataframe and return a tuple\n",
    "    with a dataframe name string and the dataframe. Called within \n",
    "    `export_db_data_to_2_parquet_files`.\n",
    "    \"\"\"\n",
    "    credit_trx_df = pd.read_sql(\"credit_trx\", engine)\n",
    "    credit_trx_df.set_index('credit_trx_id', drop=True, inplace=True)\n",
    "    df_name = \"trx_data\"\n",
    "\n",
    "    if not credit_trx_df.index.is_monotonic_increasing and not credit_trx_df.index.is_unique:\n",
    "        raise AssertionError(\"record_ids are messed up, please check data.\")\n",
    "\n",
    "    return df_name, credit_trx_df\n",
    "\n",
    "\n",
    "def _save_df_to_parquet(df_tuple: Tuple[str, pd.DataFrame], config_path: Path):\n",
    "    \"\"\"Create date and timestamped directory and file name at path\n",
    "    defined in config.yaml and save dataframe as back-up to parquet.\n",
    "    Called within `export_db_data_to_2_parquet_files`.\n",
    "    \"\"\"\n",
    "    df_name, df = df_tuple\n",
    "    date_stamp = dt.datetime.strftime(dt.datetime.now(), \"%Y-%m-%d\")\n",
    "    datetime_stamp = dt.datetime.strftime(dt.datetime.now(), \"%Y-%m-%d-%H-%M-%S\")\n",
    "\n",
    "    back_up_params = db_connect.read_yaml(CONFIG_PATH, \"BACK_UP\")\n",
    "    rel_path = back_up_params[\"REL_PATH\"]\n",
    "    target = Path.cwd() / rel_path / f\"{date_stamp}\"\n",
    "    Path.mkdir(target, parents=True, exist_ok=True)\n",
    "\n",
    "    full_path = target / f\"{df_name}_{datetime_stamp}.parquet\"\n",
    "    df.to_parquet(full_path)"
   ]
  }
 ],
 "metadata": {
  "hide_input": false,
  "kernelspec": {
   "display_name": "Python 3",
   "language": "python",
   "name": "python3"
  },
  "language_info": {
   "codemirror_mode": {
    "name": "ipython",
    "version": 3
   },
   "file_extension": ".py",
   "mimetype": "text/x-python",
   "name": "python",
   "nbconvert_exporter": "python",
   "pygments_lexer": "ipython3",
   "version": "3.8.3"
  },
  "toc": {
   "base_numbering": 1,
   "nav_menu": {},
   "number_sections": true,
   "sideBar": false,
   "skip_h1_title": true,
   "title_cell": "Table of Contents",
   "title_sidebar": "Contents",
   "toc_cell": false,
   "toc_position": {},
   "toc_section_display": true,
   "toc_window_display": true
  }
 },
 "nbformat": 4,
 "nbformat_minor": 4
}
