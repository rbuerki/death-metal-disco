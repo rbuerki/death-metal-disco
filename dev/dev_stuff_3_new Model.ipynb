{
 "cells": [
  {
   "cell_type": "code",
   "execution_count": 1,
   "metadata": {
    "ExecuteTime": {
     "end_time": "2021-02-17T12:36:22.250918Z",
     "start_time": "2021-02-17T12:36:20.129096Z"
    }
   },
   "outputs": [],
   "source": [
    "import configparser\n",
    "import datetime as dt\n",
    "import sys\n",
    "import collections\n",
    "from pathlib import Path\n",
    "from typing import Union, Optional, Iterable, List, Tuple\n",
    "\n",
    "import codebook.EDA as EDA\n",
    "import codebook.clean as clean\n",
    "import numpy as np\n",
    "import pandas as pd\n",
    "import matplotlib.pyplot as plt\n",
    "import seaborn as sns\n",
    "import sqlalchemy\n",
    "from sqlalchemy import func, distinct"
   ]
  },
  {
   "cell_type": "code",
   "execution_count": 2,
   "metadata": {
    "ExecuteTime": {
     "end_time": "2021-02-17T12:36:22.404844Z",
     "start_time": "2021-02-17T12:36:22.252189Z"
    }
   },
   "outputs": [],
   "source": [
    "%load_ext autoreload\n",
    "%autoreload 2\n",
    "\n",
    "%matplotlib inline\n",
    "plt.style.use('raph-base')\n",
    "\n",
    "from IPython.core.interactiveshell import InteractiveShell\n",
    "InteractiveShell.ast_node_interactivity = 'all'\n",
    "\n",
    "pd.options.display.float_format = '{:,.2f}'.format\n",
    "pd.set_option('display.max_columns', 30)\n",
    "pd.set_option('display.expand_frame_repr', False)\n",
    "pd.set_option('max_colwidth', 800)\n",
    "\n",
    "np.random.seed(666)"
   ]
  },
  {
   "cell_type": "code",
   "execution_count": 3,
   "metadata": {
    "ExecuteTime": {
     "end_time": "2021-02-17T12:36:22.714788Z",
     "start_time": "2021-02-17T12:36:22.404844Z"
    }
   },
   "outputs": [],
   "source": [
    "sys.path.append(str(Path.cwd().parent))\n",
    "\n",
    "from src.db_declaration import (\n",
    "    Base, Artist, CreditTrx, Genre, Label, Record, RecordFormat, \n",
    "    ArtistRecordLink, ArtistGenreLink, GenreLabelLink, LabelRecordLink\n",
    ")\n",
    "from src import db_functions\n",
    "from src import db_connect\n",
    "\n",
    "CONFIG_PATH = Path.cwd().parent / \"config.yaml\""
   ]
  },
  {
   "cell_type": "code",
   "execution_count": 4,
   "metadata": {
    "ExecuteTime": {
     "end_time": "2021-02-17T12:36:22.864551Z",
     "start_time": "2021-02-17T12:36:22.717790Z"
    }
   },
   "outputs": [
    {
     "name": "stdout",
     "output_type": "stream",
     "text": [
      "C:\\Users\\r2d4\\miniconda3\\envs\\py3\\python.exe\n",
      "3.8.3 (default, May 19 2020, 06:50:17) [MSC v.1916 64 bit (AMD64)]\n",
      "sqlalchemy 1.3.17\n"
     ]
    }
   ],
   "source": [
    "print(sys.executable)\n",
    "print(sys.version)\n",
    "print(f'sqlalchemy {sqlalchemy.__version__}')"
   ]
  },
  {
   "cell_type": "markdown",
   "metadata": {
    "ExecuteTime": {
     "end_time": "2020-12-23T06:08:49.546499Z",
     "start_time": "2020-12-23T06:08:49.412497Z"
    }
   },
   "source": [
    "## (Re-)Create A Test DB\n",
    "\n",
    "### Connect And Reset\n",
    "\n",
    "Because we connect from `dev`subfolder, I work with the sqlalchemy `create_engine` function directly."
   ]
  },
  {
   "cell_type": "code",
   "execution_count": 5,
   "metadata": {
    "ExecuteTime": {
     "end_time": "2021-02-17T12:36:23.033470Z",
     "start_time": "2021-02-17T12:36:22.868549Z"
    },
    "scrolled": true
   },
   "outputs": [
    {
     "data": {
      "text/plain": [
       "Engine(sqlite:///C:\\Users\\r2d4\\OneDrive\\code\\projects\\20-02_disco\\dev\\DeafDiscoBase.db)"
      ]
     },
     "execution_count": 5,
     "metadata": {},
     "output_type": "execute_result"
    },
    {
     "data": {
      "text/plain": [
       "<sqlalchemy.orm.session.Session at 0x1a6ffa0a340>"
      ]
     },
     "execution_count": 5,
     "metadata": {},
     "output_type": "execute_result"
    }
   ],
   "source": [
    "# session.close()\n",
    "\n",
    "db_params = {\"REL_PATH\": \"DeafDiscoBase.db\"}\n",
    "engine = db_connect.create_engine(db_params)\n",
    "session = db_connect.create_session(engine)\n",
    "\n",
    "# Check\n",
    "engine\n",
    "session"
   ]
  },
  {
   "cell_type": "code",
   "execution_count": 6,
   "metadata": {
    "ExecuteTime": {
     "end_time": "2021-02-17T12:36:23.437974Z",
     "start_time": "2021-02-17T12:36:23.033470Z"
    }
   },
   "outputs": [],
   "source": [
    "db_functions._drop_and_reset_DB(engine, Base)"
   ]
  },
  {
   "cell_type": "markdown",
   "metadata": {},
   "source": [
    "### Load and Insert 3 Test Records, assert"
   ]
  },
  {
   "cell_type": "code",
   "execution_count": 7,
   "metadata": {
    "ExecuteTime": {
     "end_time": "2021-02-17T12:36:23.913497Z",
     "start_time": "2021-02-17T12:36:23.440977Z"
    }
   },
   "outputs": [
    {
     "data": {
      "text/html": [
       "<div>\n",
       "<style scoped>\n",
       "    .dataframe tbody tr th:only-of-type {\n",
       "        vertical-align: middle;\n",
       "    }\n",
       "\n",
       "    .dataframe tbody tr th {\n",
       "        vertical-align: top;\n",
       "    }\n",
       "\n",
       "    .dataframe thead th {\n",
       "        text-align: right;\n",
       "    }\n",
       "</style>\n",
       "<table border=\"1\" class=\"dataframe\">\n",
       "  <thead>\n",
       "    <tr style=\"text-align: right;\">\n",
       "      <th></th>\n",
       "      <th>artist</th>\n",
       "      <th>artist_country</th>\n",
       "      <th>title</th>\n",
       "      <th>genre</th>\n",
       "      <th>label</th>\n",
       "      <th>year</th>\n",
       "      <th>record_format</th>\n",
       "      <th>vinyl_color</th>\n",
       "      <th>lim_edition</th>\n",
       "      <th>number</th>\n",
       "      <th>remarks</th>\n",
       "      <th>purchase_date</th>\n",
       "      <th>price</th>\n",
       "      <th>rating</th>\n",
       "      <th>is_digitized</th>\n",
       "      <th>is_active</th>\n",
       "    </tr>\n",
       "    <tr>\n",
       "      <th>record_id</th>\n",
       "      <th></th>\n",
       "      <th></th>\n",
       "      <th></th>\n",
       "      <th></th>\n",
       "      <th></th>\n",
       "      <th></th>\n",
       "      <th></th>\n",
       "      <th></th>\n",
       "      <th></th>\n",
       "      <th></th>\n",
       "      <th></th>\n",
       "      <th></th>\n",
       "      <th></th>\n",
       "      <th></th>\n",
       "      <th></th>\n",
       "      <th></th>\n",
       "    </tr>\n",
       "  </thead>\n",
       "  <tbody>\n",
       "    <tr>\n",
       "      <th>1</th>\n",
       "      <td>[Dismember]</td>\n",
       "      <td>[NA]</td>\n",
       "      <td>Pieces</td>\n",
       "      <td>Death Metal</td>\n",
       "      <td>[NA]</td>\n",
       "      <td>1992</td>\n",
       "      <td>12\"</td>\n",
       "      <td>None</td>\n",
       "      <td>None</td>\n",
       "      <td>None</td>\n",
       "      <td>None</td>\n",
       "      <td>1992-01-01</td>\n",
       "      <td>35.00</td>\n",
       "      <td>nan</td>\n",
       "      <td>False</td>\n",
       "      <td>True</td>\n",
       "    </tr>\n",
       "    <tr>\n",
       "      <th>225</th>\n",
       "      <td>[Petrification]</td>\n",
       "      <td>[NA]</td>\n",
       "      <td>Hollow of The Void</td>\n",
       "      <td>Death Metal</td>\n",
       "      <td>[Dawnbreed / Sentient Ruin]</td>\n",
       "      <td>2018</td>\n",
       "      <td>LP</td>\n",
       "      <td>green transparent with black haze</td>\n",
       "      <td>200</td>\n",
       "      <td>None</td>\n",
       "      <td>None</td>\n",
       "      <td>2019-07-01</td>\n",
       "      <td>25.00</td>\n",
       "      <td>10.00</td>\n",
       "      <td>True</td>\n",
       "      <td>True</td>\n",
       "    </tr>\n",
       "    <tr>\n",
       "      <th>301</th>\n",
       "      <td>[Coffins, Depression]</td>\n",
       "      <td>[NA, Germany]</td>\n",
       "      <td>Split</td>\n",
       "      <td>Death Metal</td>\n",
       "      <td>[Hells Headbangers]</td>\n",
       "      <td>2021</td>\n",
       "      <td>LP</td>\n",
       "      <td>white with black splatter</td>\n",
       "      <td>100</td>\n",
       "      <td>None</td>\n",
       "      <td>None</td>\n",
       "      <td>2021-01-20</td>\n",
       "      <td>20.00</td>\n",
       "      <td>nan</td>\n",
       "      <td>True</td>\n",
       "      <td>True</td>\n",
       "    </tr>\n",
       "  </tbody>\n",
       "</table>\n",
       "</div>"
      ],
      "text/plain": [
       "                          artist artist_country               title        genre                        label  year record_format                        vinyl_color lim_edition number remarks purchase_date  price  rating  is_digitized  is_active\n",
       "record_id                                                                                                                                                                                                                                            \n",
       "1                    [Dismember]           [NA]              Pieces  Death Metal                         [NA]  1992           12\"                               None        None   None    None    1992-01-01  35.00     nan         False       True\n",
       "225              [Petrification]           [NA]  Hollow of The Void  Death Metal  [Dawnbreed / Sentient Ruin]  2018            LP  green transparent with black haze         200   None    None    2019-07-01  25.00   10.00          True       True\n",
       "301        [Coffins, Depression]  [NA, Germany]               Split  Death Metal          [Hells Headbangers]  2021            LP          white with black splatter         100   None    None    2021-01-20  20.00     nan          True       True"
      ]
     },
     "execution_count": 7,
     "metadata": {},
     "output_type": "execute_result"
    }
   ],
   "source": [
    "record_data = pd.read_parquet(\n",
    "    r\"C:\\Users\\r2d4\\OneDrive\\code\\projects\\20-02_disco\\db_aka_discobase\\back-up\\record_data_2021-02-17-09-02-53.parquet\"\n",
    ")\n",
    "test_records = record_data[record_data.index.isin([1, 225, 301])].copy()\n",
    "test_records.head()"
   ]
  },
  {
   "cell_type": "code",
   "execution_count": 8,
   "metadata": {
    "ExecuteTime": {
     "end_time": "2021-02-17T12:36:24.254243Z",
     "start_time": "2021-02-17T12:36:23.913497Z"
    }
   },
   "outputs": [
    {
     "name": "stderr",
     "output_type": "stream",
     "text": [
      "C:\\Users\\r2d4\\miniconda3\\envs\\py3\\lib\\site-packages\\sqlalchemy\\sql\\sqltypes.py:660: SAWarning: Dialect sqlite+pysqlite does *not* support Decimal objects natively, and SQLAlchemy must convert from floating point - rounding errors and other issues may occur. Please consider storing Decimal numbers as strings or integers on this platform for lossless storage.\n",
      "  util.warn(\n"
     ]
    }
   ],
   "source": [
    "db_functions._insert_record_data_with_sqlalchemy_orm(session, test_records)"
   ]
  },
  {
   "cell_type": "code",
   "execution_count": 9,
   "metadata": {
    "ExecuteTime": {
     "end_time": "2021-02-17T12:36:24.432019Z",
     "start_time": "2021-02-17T12:36:24.258243Z"
    }
   },
   "outputs": [],
   "source": [
    "assert session.query(Record).count() == 3\n",
    "assert session.query(ArtistRecordLink).count() == 4"
   ]
  },
  {
   "cell_type": "markdown",
   "metadata": {},
   "source": [
    "### Insertion of 2 Credit Addition Trx, assert"
   ]
  },
  {
   "cell_type": "code",
   "execution_count": 10,
   "metadata": {
    "ExecuteTime": {
     "end_time": "2021-02-17T12:36:24.587143Z",
     "start_time": "2021-02-17T12:36:24.432019Z"
    }
   },
   "outputs": [],
   "source": [
    "# to_delete = session.query(CreditTrx).filter(CreditTrx.credit_trx_id == 8).one()\n",
    "# session.delete(to_delete)\n",
    "# session.commit()"
   ]
  },
  {
   "cell_type": "code",
   "execution_count": 11,
   "metadata": {
    "ExecuteTime": {
     "end_time": "2021-02-17T12:36:24.759025Z",
     "start_time": "2021-02-17T12:36:24.587143Z"
    }
   },
   "outputs": [
    {
     "name": "stdout",
     "output_type": "stream",
     "text": [
      "Creating 'Addition' Trx for: 2021-02-16\n"
     ]
    }
   ],
   "source": [
    "# Initial trx, 11 days ago\n",
    "\n",
    "addition_trx = CreditTrx(\n",
    "    credit_trx_date=dt.datetime.today().date() - dt.timedelta(11),\n",
    "    credit_trx_type=\"Addition\",\n",
    "    credit_value=1,\n",
    "    credit_saldo=1,\n",
    "    record_id=np.nan\n",
    ")\n",
    "session.add(addition_trx)\n",
    "\n",
    "# And a regular interval addition\n",
    "db_functions.add_regular_credits(session)\n",
    "\n",
    "session.commit()"
   ]
  },
  {
   "cell_type": "code",
   "execution_count": 12,
   "metadata": {
    "ExecuteTime": {
     "end_time": "2021-02-17T12:36:24.962231Z",
     "start_time": "2021-02-17T12:36:24.759025Z"
    }
   },
   "outputs": [
    {
     "data": {
      "text/html": [
       "<div>\n",
       "<style scoped>\n",
       "    .dataframe tbody tr th:only-of-type {\n",
       "        vertical-align: middle;\n",
       "    }\n",
       "\n",
       "    .dataframe tbody tr th {\n",
       "        vertical-align: top;\n",
       "    }\n",
       "\n",
       "    .dataframe thead th {\n",
       "        text-align: right;\n",
       "    }\n",
       "</style>\n",
       "<table border=\"1\" class=\"dataframe\">\n",
       "  <thead>\n",
       "    <tr style=\"text-align: right;\">\n",
       "      <th></th>\n",
       "      <th>credit_trx_id</th>\n",
       "      <th>credit_trx_date</th>\n",
       "      <th>credit_trx_type</th>\n",
       "      <th>credit_value</th>\n",
       "      <th>credit_saldo</th>\n",
       "      <th>record_id</th>\n",
       "      <th>created_at</th>\n",
       "      <th>updated_at</th>\n",
       "    </tr>\n",
       "  </thead>\n",
       "  <tbody>\n",
       "    <tr>\n",
       "      <th>0</th>\n",
       "      <td>1</td>\n",
       "      <td>1992-01-01</td>\n",
       "      <td>Initial Load</td>\n",
       "      <td>0.00</td>\n",
       "      <td>0.00</td>\n",
       "      <td>1.00</td>\n",
       "      <td>2021-02-17 12:36:24</td>\n",
       "      <td>NaT</td>\n",
       "    </tr>\n",
       "    <tr>\n",
       "      <th>1</th>\n",
       "      <td>2</td>\n",
       "      <td>2019-07-01</td>\n",
       "      <td>Initial Load</td>\n",
       "      <td>0.00</td>\n",
       "      <td>0.00</td>\n",
       "      <td>2.00</td>\n",
       "      <td>2021-02-17 12:36:24</td>\n",
       "      <td>NaT</td>\n",
       "    </tr>\n",
       "    <tr>\n",
       "      <th>2</th>\n",
       "      <td>3</td>\n",
       "      <td>2021-01-20</td>\n",
       "      <td>Initial Load</td>\n",
       "      <td>0.00</td>\n",
       "      <td>0.00</td>\n",
       "      <td>3.00</td>\n",
       "      <td>2021-02-17 12:36:24</td>\n",
       "      <td>NaT</td>\n",
       "    </tr>\n",
       "    <tr>\n",
       "      <th>3</th>\n",
       "      <td>4</td>\n",
       "      <td>2021-02-06</td>\n",
       "      <td>Addition</td>\n",
       "      <td>1.00</td>\n",
       "      <td>1.00</td>\n",
       "      <td>nan</td>\n",
       "      <td>2021-02-17 12:36:24</td>\n",
       "      <td>NaT</td>\n",
       "    </tr>\n",
       "    <tr>\n",
       "      <th>4</th>\n",
       "      <td>5</td>\n",
       "      <td>2021-02-16</td>\n",
       "      <td>Addition</td>\n",
       "      <td>1.00</td>\n",
       "      <td>2.00</td>\n",
       "      <td>nan</td>\n",
       "      <td>2021-02-17 12:36:24</td>\n",
       "      <td>NaT</td>\n",
       "    </tr>\n",
       "  </tbody>\n",
       "</table>\n",
       "</div>"
      ],
      "text/plain": [
       "   credit_trx_id credit_trx_date credit_trx_type  credit_value  credit_saldo  record_id          created_at updated_at\n",
       "0              1      1992-01-01    Initial Load          0.00          0.00       1.00 2021-02-17 12:36:24        NaT\n",
       "1              2      2019-07-01    Initial Load          0.00          0.00       2.00 2021-02-17 12:36:24        NaT\n",
       "2              3      2021-01-20    Initial Load          0.00          0.00       3.00 2021-02-17 12:36:24        NaT\n",
       "3              4      2021-02-06        Addition          1.00          1.00        nan 2021-02-17 12:36:24        NaT\n",
       "4              5      2021-02-16        Addition          1.00          2.00        nan 2021-02-17 12:36:24        NaT"
      ]
     },
     "execution_count": 12,
     "metadata": {},
     "output_type": "execute_result"
    }
   ],
   "source": [
    "pd.read_sql(\"credit_trx\", engine)"
   ]
  },
  {
   "cell_type": "code",
   "execution_count": 13,
   "metadata": {
    "ExecuteTime": {
     "end_time": "2021-02-17T12:36:25.136623Z",
     "start_time": "2021-02-17T12:36:24.966239Z"
    }
   },
   "outputs": [],
   "source": [
    "assert session.query(CreditTrx).count()\n",
    "assert session.query(func.sum(CreditTrx.credit_value)).all()[0][0] == 2\n",
    "assert session.query(func.avg(CreditTrx.credit_value)).all()[0][0] == 0.4\n",
    "assert session.query(func.max(CreditTrx.credit_saldo)).all()[0][0] == 2"
   ]
  },
  {
   "cell_type": "markdown",
   "metadata": {},
   "source": [
    "## Test Front-end Manipulations (Optional)"
   ]
  },
  {
   "cell_type": "code",
   "execution_count": 14,
   "metadata": {
    "ExecuteTime": {
     "end_time": "2021-02-17T12:36:25.375416Z",
     "start_time": "2021-02-17T12:36:25.136623Z"
    }
   },
   "outputs": [
    {
     "data": {
      "text/html": [
       "<div>\n",
       "<style scoped>\n",
       "    .dataframe tbody tr th:only-of-type {\n",
       "        vertical-align: middle;\n",
       "    }\n",
       "\n",
       "    .dataframe tbody tr th {\n",
       "        vertical-align: top;\n",
       "    }\n",
       "\n",
       "    .dataframe thead th {\n",
       "        text-align: right;\n",
       "    }\n",
       "</style>\n",
       "<table border=\"1\" class=\"dataframe\">\n",
       "  <thead>\n",
       "    <tr style=\"text-align: right;\">\n",
       "      <th></th>\n",
       "      <th>artist_id</th>\n",
       "      <th>artist_name</th>\n",
       "      <th>artist_country</th>\n",
       "      <th>created_at</th>\n",
       "      <th>updated_at</th>\n",
       "    </tr>\n",
       "  </thead>\n",
       "  <tbody>\n",
       "    <tr>\n",
       "      <th>0</th>\n",
       "      <td>1</td>\n",
       "      <td>Dismember</td>\n",
       "      <td>NA</td>\n",
       "      <td>2021-02-17 12:36:24</td>\n",
       "      <td>NaT</td>\n",
       "    </tr>\n",
       "    <tr>\n",
       "      <th>1</th>\n",
       "      <td>2</td>\n",
       "      <td>Petrification</td>\n",
       "      <td>NA</td>\n",
       "      <td>2021-02-17 12:36:24</td>\n",
       "      <td>NaT</td>\n",
       "    </tr>\n",
       "    <tr>\n",
       "      <th>2</th>\n",
       "      <td>3</td>\n",
       "      <td>Coffins</td>\n",
       "      <td>NA</td>\n",
       "      <td>2021-02-17 12:36:24</td>\n",
       "      <td>NaT</td>\n",
       "    </tr>\n",
       "    <tr>\n",
       "      <th>3</th>\n",
       "      <td>4</td>\n",
       "      <td>Depression</td>\n",
       "      <td>Germany</td>\n",
       "      <td>2021-02-17 12:36:24</td>\n",
       "      <td>NaT</td>\n",
       "    </tr>\n",
       "  </tbody>\n",
       "</table>\n",
       "</div>"
      ],
      "text/plain": [
       "   artist_id    artist_name artist_country          created_at updated_at\n",
       "0          1      Dismember             NA 2021-02-17 12:36:24        NaT\n",
       "1          2  Petrification             NA 2021-02-17 12:36:24        NaT\n",
       "2          3        Coffins             NA 2021-02-17 12:36:24        NaT\n",
       "3          4     Depression        Germany 2021-02-17 12:36:24        NaT"
      ]
     },
     "execution_count": 14,
     "metadata": {},
     "output_type": "execute_result"
    }
   ],
   "source": [
    "pd.read_sql(\"artists\", engine)"
   ]
  },
  {
   "cell_type": "code",
   "execution_count": 15,
   "metadata": {
    "ExecuteTime": {
     "end_time": "2021-02-17T12:36:25.610416Z",
     "start_time": "2021-02-17T12:36:25.378420Z"
    }
   },
   "outputs": [
    {
     "data": {
      "text/html": [
       "<div>\n",
       "<style scoped>\n",
       "    .dataframe tbody tr th:only-of-type {\n",
       "        vertical-align: middle;\n",
       "    }\n",
       "\n",
       "    .dataframe tbody tr th {\n",
       "        vertical-align: top;\n",
       "    }\n",
       "\n",
       "    .dataframe thead th {\n",
       "        text-align: right;\n",
       "    }\n",
       "</style>\n",
       "<table border=\"1\" class=\"dataframe\">\n",
       "  <thead>\n",
       "    <tr style=\"text-align: right;\">\n",
       "      <th></th>\n",
       "      <th>label_id</th>\n",
       "      <th>label_name</th>\n",
       "      <th>created_at</th>\n",
       "      <th>updated_at</th>\n",
       "    </tr>\n",
       "  </thead>\n",
       "  <tbody>\n",
       "    <tr>\n",
       "      <th>0</th>\n",
       "      <td>1</td>\n",
       "      <td>NA</td>\n",
       "      <td>2021-02-17 12:36:24</td>\n",
       "      <td>NaT</td>\n",
       "    </tr>\n",
       "    <tr>\n",
       "      <th>1</th>\n",
       "      <td>2</td>\n",
       "      <td>Dawnbreed / Sentient Ruin</td>\n",
       "      <td>2021-02-17 12:36:24</td>\n",
       "      <td>NaT</td>\n",
       "    </tr>\n",
       "    <tr>\n",
       "      <th>2</th>\n",
       "      <td>3</td>\n",
       "      <td>Hells Headbangers</td>\n",
       "      <td>2021-02-17 12:36:24</td>\n",
       "      <td>NaT</td>\n",
       "    </tr>\n",
       "  </tbody>\n",
       "</table>\n",
       "</div>"
      ],
      "text/plain": [
       "   label_id                 label_name          created_at updated_at\n",
       "0         1                         NA 2021-02-17 12:36:24        NaT\n",
       "1         2  Dawnbreed / Sentient Ruin 2021-02-17 12:36:24        NaT\n",
       "2         3          Hells Headbangers 2021-02-17 12:36:24        NaT"
      ]
     },
     "execution_count": 15,
     "metadata": {},
     "output_type": "execute_result"
    }
   ],
   "source": [
    "pd.read_sql(\"labels\", engine)"
   ]
  },
  {
   "cell_type": "code",
   "execution_count": 33,
   "metadata": {
    "ExecuteTime": {
     "end_time": "2021-02-17T12:37:24.726399Z",
     "start_time": "2021-02-17T12:37:24.562615Z"
    }
   },
   "outputs": [
    {
     "data": {
      "text/html": [
       "<div>\n",
       "<style scoped>\n",
       "    .dataframe tbody tr th:only-of-type {\n",
       "        vertical-align: middle;\n",
       "    }\n",
       "\n",
       "    .dataframe tbody tr th {\n",
       "        vertical-align: top;\n",
       "    }\n",
       "\n",
       "    .dataframe thead th {\n",
       "        text-align: right;\n",
       "    }\n",
       "</style>\n",
       "<table border=\"1\" class=\"dataframe\">\n",
       "  <thead>\n",
       "    <tr style=\"text-align: right;\">\n",
       "      <th></th>\n",
       "      <th>artist_id</th>\n",
       "      <th>label_id</th>\n",
       "    </tr>\n",
       "  </thead>\n",
       "  <tbody>\n",
       "    <tr>\n",
       "      <th>0</th>\n",
       "      <td>1</td>\n",
       "      <td>1</td>\n",
       "    </tr>\n",
       "    <tr>\n",
       "      <th>1</th>\n",
       "      <td>2</td>\n",
       "      <td>2</td>\n",
       "    </tr>\n",
       "    <tr>\n",
       "      <th>2</th>\n",
       "      <td>3</td>\n",
       "      <td>3</td>\n",
       "    </tr>\n",
       "    <tr>\n",
       "      <th>3</th>\n",
       "      <td>4</td>\n",
       "      <td>3</td>\n",
       "    </tr>\n",
       "    <tr>\n",
       "      <th>4</th>\n",
       "      <td>2</td>\n",
       "      <td>4</td>\n",
       "    </tr>\n",
       "    <tr>\n",
       "      <th>5</th>\n",
       "      <td>2</td>\n",
       "      <td>5</td>\n",
       "    </tr>\n",
       "  </tbody>\n",
       "</table>\n",
       "</div>"
      ],
      "text/plain": [
       "   artist_id  label_id\n",
       "0          1         1\n",
       "1          2         2\n",
       "2          3         3\n",
       "3          4         3\n",
       "4          2         4\n",
       "5          2         5"
      ]
     },
     "execution_count": 33,
     "metadata": {},
     "output_type": "execute_result"
    }
   ],
   "source": [
    "pd.read_sql(\"artist_label_link\", engine)"
   ]
  },
  {
   "cell_type": "code",
   "execution_count": 17,
   "metadata": {
    "ExecuteTime": {
     "end_time": "2021-02-17T12:36:26.058004Z",
     "start_time": "2021-02-17T12:36:25.822203Z"
    }
   },
   "outputs": [
    {
     "data": {
      "text/html": [
       "<div>\n",
       "<style scoped>\n",
       "    .dataframe tbody tr th:only-of-type {\n",
       "        vertical-align: middle;\n",
       "    }\n",
       "\n",
       "    .dataframe tbody tr th {\n",
       "        vertical-align: top;\n",
       "    }\n",
       "\n",
       "    .dataframe thead th {\n",
       "        text-align: right;\n",
       "    }\n",
       "</style>\n",
       "<table border=\"1\" class=\"dataframe\">\n",
       "  <thead>\n",
       "    <tr style=\"text-align: right;\">\n",
       "      <th></th>\n",
       "      <th>artist_id</th>\n",
       "      <th>label_id</th>\n",
       "    </tr>\n",
       "  </thead>\n",
       "  <tbody>\n",
       "    <tr>\n",
       "      <th>0</th>\n",
       "      <td>1</td>\n",
       "      <td>1</td>\n",
       "    </tr>\n",
       "    <tr>\n",
       "      <th>1</th>\n",
       "      <td>2</td>\n",
       "      <td>2</td>\n",
       "    </tr>\n",
       "    <tr>\n",
       "      <th>2</th>\n",
       "      <td>3</td>\n",
       "      <td>3</td>\n",
       "    </tr>\n",
       "    <tr>\n",
       "      <th>3</th>\n",
       "      <td>4</td>\n",
       "      <td>3</td>\n",
       "    </tr>\n",
       "  </tbody>\n",
       "</table>\n",
       "</div>"
      ],
      "text/plain": [
       "   artist_id  label_id\n",
       "0          1         1\n",
       "1          2         2\n",
       "2          3         3\n",
       "3          4         3"
      ]
     },
     "execution_count": 17,
     "metadata": {},
     "output_type": "execute_result"
    }
   ],
   "source": [
    "pd.read_sql(\"artist_label_link\", engine)"
   ]
  },
  {
   "cell_type": "code",
   "execution_count": 18,
   "metadata": {
    "ExecuteTime": {
     "end_time": "2021-02-17T12:36:26.289703Z",
     "start_time": "2021-02-17T12:36:26.058004Z"
    }
   },
   "outputs": [],
   "source": [
    "session.close()"
   ]
  },
  {
   "cell_type": "markdown",
   "metadata": {},
   "source": [
    "### Removal of Existing Record\n",
    "\n",
    "Necessary cols: trx_type, credit_value, title, artist, date"
   ]
  },
  {
   "cell_type": "code",
   "execution_count": 19,
   "metadata": {
    "ExecuteTime": {
     "end_time": "2021-02-17T12:36:26.468383Z",
     "start_time": "2021-02-17T12:36:26.294704Z"
    }
   },
   "outputs": [],
   "source": [
    "# test_removal = {\n",
    "#     \"trx_type\": \"Remove\",\n",
    "#     \"credit_value\": 1,\n",
    "#     \"artist\": \"Emperor\",\n",
    "#     \"title\": \"s/t\",\n",
    "# #     \"year\": 1993,\n",
    "#     \"removal_date\": dt.datetime.today().date()\n",
    "# }"
   ]
  },
  {
   "cell_type": "code",
   "execution_count": 20,
   "metadata": {
    "ExecuteTime": {
     "end_time": "2021-02-17T12:36:26.627434Z",
     "start_time": "2021-02-17T12:36:26.468383Z"
    }
   },
   "outputs": [],
   "source": [
    "# db_functions.set_record_to_inactive(session, test_removal)"
   ]
  },
  {
   "cell_type": "code",
   "execution_count": 21,
   "metadata": {
    "ExecuteTime": {
     "end_time": "2021-02-17T12:36:26.826444Z",
     "start_time": "2021-02-17T12:36:26.631433Z"
    }
   },
   "outputs": [],
   "source": [
    "# session.query(func.count(distinct(Record.active))).all()\n",
    "# session.query(func.count(Record.record_id)).group_by(Record.active).all()"
   ]
  },
  {
   "cell_type": "code",
   "execution_count": 22,
   "metadata": {
    "ExecuteTime": {
     "end_time": "2021-02-17T12:36:27.065103Z",
     "start_time": "2021-02-17T12:36:26.826444Z"
    }
   },
   "outputs": [],
   "source": [
    "# session.query(CreditTrx).all()[-3:]"
   ]
  },
  {
   "cell_type": "markdown",
   "metadata": {},
   "source": [
    "### Reactivation of inactive Record [OPEN]"
   ]
  },
  {
   "cell_type": "code",
   "execution_count": 23,
   "metadata": {
    "ExecuteTime": {
     "end_time": "2021-02-17T12:36:27.308243Z",
     "start_time": "2021-02-17T12:36:27.073103Z"
    }
   },
   "outputs": [],
   "source": [
    "# ATTENTION It has to be possible ro re-add inactive records! (and to pay for it in credits!)"
   ]
  },
  {
   "cell_type": "markdown",
   "metadata": {},
   "source": [
    "## Query DB\n",
    "\n",
    "### Check Tables"
   ]
  },
  {
   "cell_type": "code",
   "execution_count": 24,
   "metadata": {
    "ExecuteTime": {
     "end_time": "2021-02-17T12:36:27.733504Z",
     "start_time": "2021-02-17T12:36:27.308243Z"
    }
   },
   "outputs": [
    {
     "data": {
      "text/html": [
       "<div>\n",
       "<style scoped>\n",
       "    .dataframe tbody tr th:only-of-type {\n",
       "        vertical-align: middle;\n",
       "    }\n",
       "\n",
       "    .dataframe tbody tr th {\n",
       "        vertical-align: top;\n",
       "    }\n",
       "\n",
       "    .dataframe thead th {\n",
       "        text-align: right;\n",
       "    }\n",
       "</style>\n",
       "<table border=\"1\" class=\"dataframe\">\n",
       "  <thead>\n",
       "    <tr style=\"text-align: right;\">\n",
       "      <th></th>\n",
       "      <th>record_id</th>\n",
       "      <th>title</th>\n",
       "      <th>year</th>\n",
       "      <th>genre_id</th>\n",
       "      <th>format_id</th>\n",
       "      <th>vinyl_color</th>\n",
       "      <th>lim_edition</th>\n",
       "      <th>number</th>\n",
       "      <th>remarks</th>\n",
       "      <th>purchase_date</th>\n",
       "      <th>price</th>\n",
       "      <th>rating</th>\n",
       "      <th>is_digitized</th>\n",
       "      <th>is_active</th>\n",
       "      <th>created_at</th>\n",
       "      <th>updated_at</th>\n",
       "    </tr>\n",
       "  </thead>\n",
       "  <tbody>\n",
       "    <tr>\n",
       "      <th>0</th>\n",
       "      <td>1</td>\n",
       "      <td>Pieces</td>\n",
       "      <td>1992</td>\n",
       "      <td>1</td>\n",
       "      <td>1</td>\n",
       "      <td>None</td>\n",
       "      <td>None</td>\n",
       "      <td>None</td>\n",
       "      <td>None</td>\n",
       "      <td>1992-01-01</td>\n",
       "      <td>35</td>\n",
       "      <td>nan</td>\n",
       "      <td>0</td>\n",
       "      <td>1</td>\n",
       "      <td>2021-02-17 12:36:24</td>\n",
       "      <td>NaT</td>\n",
       "    </tr>\n",
       "    <tr>\n",
       "      <th>1</th>\n",
       "      <td>2</td>\n",
       "      <td>Hollow of The Void</td>\n",
       "      <td>2018</td>\n",
       "      <td>1</td>\n",
       "      <td>2</td>\n",
       "      <td>green transparent with black haze</td>\n",
       "      <td>200</td>\n",
       "      <td>None</td>\n",
       "      <td>None</td>\n",
       "      <td>2019-07-01</td>\n",
       "      <td>25</td>\n",
       "      <td>10.00</td>\n",
       "      <td>1</td>\n",
       "      <td>1</td>\n",
       "      <td>2021-02-17 12:36:24</td>\n",
       "      <td>NaT</td>\n",
       "    </tr>\n",
       "    <tr>\n",
       "      <th>2</th>\n",
       "      <td>3</td>\n",
       "      <td>Split</td>\n",
       "      <td>2021</td>\n",
       "      <td>1</td>\n",
       "      <td>2</td>\n",
       "      <td>white with black splatter</td>\n",
       "      <td>100</td>\n",
       "      <td>None</td>\n",
       "      <td>None</td>\n",
       "      <td>2021-01-20</td>\n",
       "      <td>20</td>\n",
       "      <td>nan</td>\n",
       "      <td>1</td>\n",
       "      <td>1</td>\n",
       "      <td>2021-02-17 12:36:24</td>\n",
       "      <td>NaT</td>\n",
       "    </tr>\n",
       "  </tbody>\n",
       "</table>\n",
       "</div>"
      ],
      "text/plain": [
       "   record_id               title  year  genre_id  format_id                        vinyl_color lim_edition number remarks purchase_date  price  rating  is_digitized  is_active          created_at updated_at\n",
       "0          1              Pieces  1992         1          1                               None        None   None    None    1992-01-01     35     nan             0          1 2021-02-17 12:36:24        NaT\n",
       "1          2  Hollow of The Void  2018         1          2  green transparent with black haze         200   None    None    2019-07-01     25   10.00             1          1 2021-02-17 12:36:24        NaT\n",
       "2          3               Split  2021         1          2          white with black splatter         100   None    None    2021-01-20     20     nan             1          1 2021-02-17 12:36:24        NaT"
      ]
     },
     "execution_count": 24,
     "metadata": {},
     "output_type": "execute_result"
    }
   ],
   "source": [
    "pd.read_sql(\"records\", engine)"
   ]
  },
  {
   "cell_type": "code",
   "execution_count": 25,
   "metadata": {
    "ExecuteTime": {
     "end_time": "2021-02-17T12:36:28.012482Z",
     "start_time": "2021-02-17T12:36:27.737507Z"
    }
   },
   "outputs": [
    {
     "data": {
      "text/html": [
       "<div>\n",
       "<style scoped>\n",
       "    .dataframe tbody tr th:only-of-type {\n",
       "        vertical-align: middle;\n",
       "    }\n",
       "\n",
       "    .dataframe tbody tr th {\n",
       "        vertical-align: top;\n",
       "    }\n",
       "\n",
       "    .dataframe thead th {\n",
       "        text-align: right;\n",
       "    }\n",
       "</style>\n",
       "<table border=\"1\" class=\"dataframe\">\n",
       "  <thead>\n",
       "    <tr style=\"text-align: right;\">\n",
       "      <th></th>\n",
       "      <th>artist_id</th>\n",
       "      <th>artist_name</th>\n",
       "      <th>artist_country</th>\n",
       "      <th>created_at</th>\n",
       "      <th>updated_at</th>\n",
       "    </tr>\n",
       "  </thead>\n",
       "  <tbody>\n",
       "    <tr>\n",
       "      <th>0</th>\n",
       "      <td>1</td>\n",
       "      <td>Dismember</td>\n",
       "      <td>NA</td>\n",
       "      <td>2021-02-17 12:36:24</td>\n",
       "      <td>NaT</td>\n",
       "    </tr>\n",
       "    <tr>\n",
       "      <th>1</th>\n",
       "      <td>2</td>\n",
       "      <td>Petrification</td>\n",
       "      <td>NA</td>\n",
       "      <td>2021-02-17 12:36:24</td>\n",
       "      <td>NaT</td>\n",
       "    </tr>\n",
       "    <tr>\n",
       "      <th>2</th>\n",
       "      <td>3</td>\n",
       "      <td>Coffins</td>\n",
       "      <td>NA</td>\n",
       "      <td>2021-02-17 12:36:24</td>\n",
       "      <td>NaT</td>\n",
       "    </tr>\n",
       "    <tr>\n",
       "      <th>3</th>\n",
       "      <td>4</td>\n",
       "      <td>Depression</td>\n",
       "      <td>Germany</td>\n",
       "      <td>2021-02-17 12:36:24</td>\n",
       "      <td>NaT</td>\n",
       "    </tr>\n",
       "  </tbody>\n",
       "</table>\n",
       "</div>"
      ],
      "text/plain": [
       "   artist_id    artist_name artist_country          created_at updated_at\n",
       "0          1      Dismember             NA 2021-02-17 12:36:24        NaT\n",
       "1          2  Petrification             NA 2021-02-17 12:36:24        NaT\n",
       "2          3        Coffins             NA 2021-02-17 12:36:24        NaT\n",
       "3          4     Depression        Germany 2021-02-17 12:36:24        NaT"
      ]
     },
     "execution_count": 25,
     "metadata": {},
     "output_type": "execute_result"
    }
   ],
   "source": [
    "pd.read_sql(\"artists\", engine)"
   ]
  },
  {
   "cell_type": "code",
   "execution_count": 26,
   "metadata": {
    "ExecuteTime": {
     "end_time": "2021-02-17T12:36:28.273538Z",
     "start_time": "2021-02-17T12:36:28.016476Z"
    }
   },
   "outputs": [
    {
     "data": {
      "text/html": [
       "<div>\n",
       "<style scoped>\n",
       "    .dataframe tbody tr th:only-of-type {\n",
       "        vertical-align: middle;\n",
       "    }\n",
       "\n",
       "    .dataframe tbody tr th {\n",
       "        vertical-align: top;\n",
       "    }\n",
       "\n",
       "    .dataframe thead th {\n",
       "        text-align: right;\n",
       "    }\n",
       "</style>\n",
       "<table border=\"1\" class=\"dataframe\">\n",
       "  <thead>\n",
       "    <tr style=\"text-align: right;\">\n",
       "      <th></th>\n",
       "      <th>artist_id</th>\n",
       "      <th>record_id</th>\n",
       "    </tr>\n",
       "  </thead>\n",
       "  <tbody>\n",
       "    <tr>\n",
       "      <th>0</th>\n",
       "      <td>1</td>\n",
       "      <td>1</td>\n",
       "    </tr>\n",
       "    <tr>\n",
       "      <th>1</th>\n",
       "      <td>2</td>\n",
       "      <td>2</td>\n",
       "    </tr>\n",
       "    <tr>\n",
       "      <th>2</th>\n",
       "      <td>3</td>\n",
       "      <td>3</td>\n",
       "    </tr>\n",
       "    <tr>\n",
       "      <th>3</th>\n",
       "      <td>4</td>\n",
       "      <td>3</td>\n",
       "    </tr>\n",
       "  </tbody>\n",
       "</table>\n",
       "</div>"
      ],
      "text/plain": [
       "   artist_id  record_id\n",
       "0          1          1\n",
       "1          2          2\n",
       "2          3          3\n",
       "3          4          3"
      ]
     },
     "execution_count": 26,
     "metadata": {},
     "output_type": "execute_result"
    }
   ],
   "source": [
    "pd.read_sql(\"artist_record_link\", engine)"
   ]
  },
  {
   "cell_type": "code",
   "execution_count": 27,
   "metadata": {
    "ExecuteTime": {
     "end_time": "2021-02-17T12:36:28.566809Z",
     "start_time": "2021-02-17T12:36:28.273538Z"
    }
   },
   "outputs": [
    {
     "data": {
      "text/html": [
       "<div>\n",
       "<style scoped>\n",
       "    .dataframe tbody tr th:only-of-type {\n",
       "        vertical-align: middle;\n",
       "    }\n",
       "\n",
       "    .dataframe tbody tr th {\n",
       "        vertical-align: top;\n",
       "    }\n",
       "\n",
       "    .dataframe thead th {\n",
       "        text-align: right;\n",
       "    }\n",
       "</style>\n",
       "<table border=\"1\" class=\"dataframe\">\n",
       "  <thead>\n",
       "    <tr style=\"text-align: right;\">\n",
       "      <th></th>\n",
       "      <th>genre_id</th>\n",
       "      <th>genre_name</th>\n",
       "      <th>created_at</th>\n",
       "      <th>updated_at</th>\n",
       "    </tr>\n",
       "  </thead>\n",
       "  <tbody>\n",
       "    <tr>\n",
       "      <th>0</th>\n",
       "      <td>1</td>\n",
       "      <td>Death Metal</td>\n",
       "      <td>2021-02-17 12:36:24</td>\n",
       "      <td>NaT</td>\n",
       "    </tr>\n",
       "  </tbody>\n",
       "</table>\n",
       "</div>"
      ],
      "text/plain": [
       "   genre_id   genre_name          created_at updated_at\n",
       "0         1  Death Metal 2021-02-17 12:36:24        NaT"
      ]
     },
     "execution_count": 27,
     "metadata": {},
     "output_type": "execute_result"
    }
   ],
   "source": [
    "pd.read_sql(\"genres\", engine)"
   ]
  },
  {
   "cell_type": "code",
   "execution_count": 28,
   "metadata": {
    "ExecuteTime": {
     "end_time": "2021-02-17T12:36:28.801809Z",
     "start_time": "2021-02-17T12:36:28.569810Z"
    }
   },
   "outputs": [
    {
     "data": {
      "text/html": [
       "<div>\n",
       "<style scoped>\n",
       "    .dataframe tbody tr th:only-of-type {\n",
       "        vertical-align: middle;\n",
       "    }\n",
       "\n",
       "    .dataframe tbody tr th {\n",
       "        vertical-align: top;\n",
       "    }\n",
       "\n",
       "    .dataframe thead th {\n",
       "        text-align: right;\n",
       "    }\n",
       "</style>\n",
       "<table border=\"1\" class=\"dataframe\">\n",
       "  <thead>\n",
       "    <tr style=\"text-align: right;\">\n",
       "      <th></th>\n",
       "      <th>artist_id</th>\n",
       "      <th>genre_id</th>\n",
       "    </tr>\n",
       "  </thead>\n",
       "  <tbody>\n",
       "    <tr>\n",
       "      <th>0</th>\n",
       "      <td>1</td>\n",
       "      <td>1</td>\n",
       "    </tr>\n",
       "    <tr>\n",
       "      <th>1</th>\n",
       "      <td>2</td>\n",
       "      <td>1</td>\n",
       "    </tr>\n",
       "    <tr>\n",
       "      <th>2</th>\n",
       "      <td>3</td>\n",
       "      <td>1</td>\n",
       "    </tr>\n",
       "    <tr>\n",
       "      <th>3</th>\n",
       "      <td>4</td>\n",
       "      <td>1</td>\n",
       "    </tr>\n",
       "  </tbody>\n",
       "</table>\n",
       "</div>"
      ],
      "text/plain": [
       "   artist_id  genre_id\n",
       "0          1         1\n",
       "1          2         1\n",
       "2          3         1\n",
       "3          4         1"
      ]
     },
     "execution_count": 28,
     "metadata": {},
     "output_type": "execute_result"
    }
   ],
   "source": [
    "pd.read_sql(\"artist_genre_link\", engine)"
   ]
  },
  {
   "cell_type": "code",
   "execution_count": 29,
   "metadata": {
    "ExecuteTime": {
     "end_time": "2021-02-17T12:36:29.022809Z",
     "start_time": "2021-02-17T12:36:28.804808Z"
    }
   },
   "outputs": [
    {
     "data": {
      "text/html": [
       "<div>\n",
       "<style scoped>\n",
       "    .dataframe tbody tr th:only-of-type {\n",
       "        vertical-align: middle;\n",
       "    }\n",
       "\n",
       "    .dataframe tbody tr th {\n",
       "        vertical-align: top;\n",
       "    }\n",
       "\n",
       "    .dataframe thead th {\n",
       "        text-align: right;\n",
       "    }\n",
       "</style>\n",
       "<table border=\"1\" class=\"dataframe\">\n",
       "  <thead>\n",
       "    <tr style=\"text-align: right;\">\n",
       "      <th></th>\n",
       "      <th>format_id</th>\n",
       "      <th>format_name</th>\n",
       "      <th>created_at</th>\n",
       "      <th>updated_at</th>\n",
       "    </tr>\n",
       "  </thead>\n",
       "  <tbody>\n",
       "    <tr>\n",
       "      <th>0</th>\n",
       "      <td>1</td>\n",
       "      <td>12\"</td>\n",
       "      <td>2021-02-17 12:36:24</td>\n",
       "      <td>NaT</td>\n",
       "    </tr>\n",
       "    <tr>\n",
       "      <th>1</th>\n",
       "      <td>2</td>\n",
       "      <td>LP</td>\n",
       "      <td>2021-02-17 12:36:24</td>\n",
       "      <td>NaT</td>\n",
       "    </tr>\n",
       "  </tbody>\n",
       "</table>\n",
       "</div>"
      ],
      "text/plain": [
       "   format_id format_name          created_at updated_at\n",
       "0          1         12\" 2021-02-17 12:36:24        NaT\n",
       "1          2          LP 2021-02-17 12:36:24        NaT"
      ]
     },
     "execution_count": 29,
     "metadata": {},
     "output_type": "execute_result"
    }
   ],
   "source": [
    "pd.read_sql(\"formats\", engine)"
   ]
  },
  {
   "cell_type": "code",
   "execution_count": 30,
   "metadata": {
    "ExecuteTime": {
     "end_time": "2021-02-17T12:36:29.256808Z",
     "start_time": "2021-02-17T12:36:29.025809Z"
    }
   },
   "outputs": [
    {
     "data": {
      "text/html": [
       "<div>\n",
       "<style scoped>\n",
       "    .dataframe tbody tr th:only-of-type {\n",
       "        vertical-align: middle;\n",
       "    }\n",
       "\n",
       "    .dataframe tbody tr th {\n",
       "        vertical-align: top;\n",
       "    }\n",
       "\n",
       "    .dataframe thead th {\n",
       "        text-align: right;\n",
       "    }\n",
       "</style>\n",
       "<table border=\"1\" class=\"dataframe\">\n",
       "  <thead>\n",
       "    <tr style=\"text-align: right;\">\n",
       "      <th></th>\n",
       "      <th>label_id</th>\n",
       "      <th>label_name</th>\n",
       "      <th>created_at</th>\n",
       "      <th>updated_at</th>\n",
       "    </tr>\n",
       "  </thead>\n",
       "  <tbody>\n",
       "    <tr>\n",
       "      <th>0</th>\n",
       "      <td>1</td>\n",
       "      <td>NA</td>\n",
       "      <td>2021-02-17 12:36:24</td>\n",
       "      <td>NaT</td>\n",
       "    </tr>\n",
       "    <tr>\n",
       "      <th>1</th>\n",
       "      <td>2</td>\n",
       "      <td>Dawnbreed / Sentient Ruin</td>\n",
       "      <td>2021-02-17 12:36:24</td>\n",
       "      <td>NaT</td>\n",
       "    </tr>\n",
       "    <tr>\n",
       "      <th>2</th>\n",
       "      <td>3</td>\n",
       "      <td>Hells Headbangers</td>\n",
       "      <td>2021-02-17 12:36:24</td>\n",
       "      <td>NaT</td>\n",
       "    </tr>\n",
       "  </tbody>\n",
       "</table>\n",
       "</div>"
      ],
      "text/plain": [
       "   label_id                 label_name          created_at updated_at\n",
       "0         1                         NA 2021-02-17 12:36:24        NaT\n",
       "1         2  Dawnbreed / Sentient Ruin 2021-02-17 12:36:24        NaT\n",
       "2         3          Hells Headbangers 2021-02-17 12:36:24        NaT"
      ]
     },
     "execution_count": 30,
     "metadata": {},
     "output_type": "execute_result"
    }
   ],
   "source": [
    "pd.read_sql(\"labels\", engine)"
   ]
  },
  {
   "cell_type": "code",
   "execution_count": 31,
   "metadata": {
    "ExecuteTime": {
     "end_time": "2021-02-17T12:36:29.513809Z",
     "start_time": "2021-02-17T12:36:29.259810Z"
    }
   },
   "outputs": [
    {
     "data": {
      "text/html": [
       "<div>\n",
       "<style scoped>\n",
       "    .dataframe tbody tr th:only-of-type {\n",
       "        vertical-align: middle;\n",
       "    }\n",
       "\n",
       "    .dataframe tbody tr th {\n",
       "        vertical-align: top;\n",
       "    }\n",
       "\n",
       "    .dataframe thead th {\n",
       "        text-align: right;\n",
       "    }\n",
       "</style>\n",
       "<table border=\"1\" class=\"dataframe\">\n",
       "  <thead>\n",
       "    <tr style=\"text-align: right;\">\n",
       "      <th></th>\n",
       "      <th>label_id</th>\n",
       "      <th>record_id</th>\n",
       "    </tr>\n",
       "  </thead>\n",
       "  <tbody>\n",
       "    <tr>\n",
       "      <th>0</th>\n",
       "      <td>1</td>\n",
       "      <td>1</td>\n",
       "    </tr>\n",
       "    <tr>\n",
       "      <th>1</th>\n",
       "      <td>2</td>\n",
       "      <td>2</td>\n",
       "    </tr>\n",
       "    <tr>\n",
       "      <th>2</th>\n",
       "      <td>3</td>\n",
       "      <td>3</td>\n",
       "    </tr>\n",
       "  </tbody>\n",
       "</table>\n",
       "</div>"
      ],
      "text/plain": [
       "   label_id  record_id\n",
       "0         1          1\n",
       "1         2          2\n",
       "2         3          3"
      ]
     },
     "execution_count": 31,
     "metadata": {},
     "output_type": "execute_result"
    }
   ],
   "source": [
    "pd.read_sql(\"label_record_link\", engine)"
   ]
  },
  {
   "cell_type": "code",
   "execution_count": 32,
   "metadata": {
    "ExecuteTime": {
     "end_time": "2021-02-17T12:36:29.740810Z",
     "start_time": "2021-02-17T12:36:29.517811Z"
    }
   },
   "outputs": [
    {
     "data": {
      "text/html": [
       "<div>\n",
       "<style scoped>\n",
       "    .dataframe tbody tr th:only-of-type {\n",
       "        vertical-align: middle;\n",
       "    }\n",
       "\n",
       "    .dataframe tbody tr th {\n",
       "        vertical-align: top;\n",
       "    }\n",
       "\n",
       "    .dataframe thead th {\n",
       "        text-align: right;\n",
       "    }\n",
       "</style>\n",
       "<table border=\"1\" class=\"dataframe\">\n",
       "  <thead>\n",
       "    <tr style=\"text-align: right;\">\n",
       "      <th></th>\n",
       "      <th>artist_id</th>\n",
       "      <th>label_id</th>\n",
       "    </tr>\n",
       "  </thead>\n",
       "  <tbody>\n",
       "    <tr>\n",
       "      <th>0</th>\n",
       "      <td>1</td>\n",
       "      <td>1</td>\n",
       "    </tr>\n",
       "    <tr>\n",
       "      <th>1</th>\n",
       "      <td>2</td>\n",
       "      <td>2</td>\n",
       "    </tr>\n",
       "    <tr>\n",
       "      <th>2</th>\n",
       "      <td>3</td>\n",
       "      <td>3</td>\n",
       "    </tr>\n",
       "    <tr>\n",
       "      <th>3</th>\n",
       "      <td>4</td>\n",
       "      <td>3</td>\n",
       "    </tr>\n",
       "  </tbody>\n",
       "</table>\n",
       "</div>"
      ],
      "text/plain": [
       "   artist_id  label_id\n",
       "0          1         1\n",
       "1          2         2\n",
       "2          3         3\n",
       "3          4         3"
      ]
     },
     "execution_count": 32,
     "metadata": {},
     "output_type": "execute_result"
    }
   ],
   "source": [
    "pd.read_sql(\"artist_label_link\", engine)"
   ]
  }
 ],
 "metadata": {
  "hide_input": false,
  "kernelspec": {
   "display_name": "Python 3",
   "language": "python",
   "name": "python3"
  },
  "language_info": {
   "codemirror_mode": {
    "name": "ipython",
    "version": 3
   },
   "file_extension": ".py",
   "mimetype": "text/x-python",
   "name": "python",
   "nbconvert_exporter": "python",
   "pygments_lexer": "ipython3",
   "version": "3.8.3"
  },
  "toc": {
   "base_numbering": 1,
   "nav_menu": {},
   "number_sections": true,
   "sideBar": false,
   "skip_h1_title": true,
   "title_cell": "Table of Contents",
   "title_sidebar": "Contents",
   "toc_cell": false,
   "toc_position": {},
   "toc_section_display": true,
   "toc_window_display": true
  }
 },
 "nbformat": 4,
 "nbformat_minor": 4
}
