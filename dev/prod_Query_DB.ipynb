{
 "cells": [
  {
   "cell_type": "code",
   "execution_count": 1,
   "metadata": {
    "ExecuteTime": {
     "end_time": "2021-04-10T21:03:04.307662Z",
     "start_time": "2021-04-10T21:02:58.654461Z"
    }
   },
   "outputs": [],
   "source": [
    "import configparser\n",
    "import datetime as dt\n",
    "import sys\n",
    "import collections\n",
    "from pathlib import Path\n",
    "from typing import Union, Optional, List, Tuple\n",
    "\n",
    "import codebook.EDA as EDA\n",
    "import codebook.clean as clean\n",
    "import numpy as np\n",
    "import pandas as pd\n",
    "import matplotlib.pyplot as plt\n",
    "import seaborn as sns\n",
    "import sqlalchemy"
   ]
  },
  {
   "cell_type": "code",
   "execution_count": 2,
   "metadata": {
    "ExecuteTime": {
     "end_time": "2021-04-10T21:03:04.598076Z",
     "start_time": "2021-04-10T21:03:04.310055Z"
    }
   },
   "outputs": [],
   "source": [
    "%load_ext autoreload\n",
    "%autoreload 2\n",
    "\n",
    "%matplotlib inline\n",
    "plt.style.use('raph-base')\n",
    "\n",
    "from IPython.core.interactiveshell import InteractiveShell\n",
    "InteractiveShell.ast_node_interactivity = 'all'\n",
    "\n",
    "pd.options.display.float_format = '{:,.2f}'.format\n",
    "pd.set_option('display.max_columns', 30)\n",
    "pd.set_option('display.expand_frame_repr', False)\n",
    "pd.set_option('max_colwidth', 800)\n",
    "\n",
    "np.random.seed(666)"
   ]
  },
  {
   "cell_type": "code",
   "execution_count": 3,
   "metadata": {
    "ExecuteTime": {
     "end_time": "2021-04-10T21:03:04.926076Z",
     "start_time": "2021-04-10T21:03:04.610307Z"
    }
   },
   "outputs": [
    {
     "data": {
      "text/plain": [
       "WindowsPath('C:/Users/r2d4/OneDrive/code/projects/20-02_disco/src')"
      ]
     },
     "execution_count": 3,
     "metadata": {},
     "output_type": "execute_result"
    }
   ],
   "source": [
    "Path.cwd().parent / 'src'"
   ]
  },
  {
   "cell_type": "code",
   "execution_count": 4,
   "metadata": {
    "ExecuteTime": {
     "end_time": "2021-04-10T21:03:05.497910Z",
     "start_time": "2021-04-10T21:03:04.931140Z"
    }
   },
   "outputs": [],
   "source": [
    "sys.path.append(str(Path.cwd().parent))\n",
    "\n",
    "from src.db_declaration import (\n",
    "    Base, Artist, CreditTrx, Genre, Label, Record, RecordFormat, CreditTrx, LabelRecordLink, ArtistLabelLink\n",
    ")\n",
    "from src import db_functions\n",
    "from src import db_connect"
   ]
  },
  {
   "cell_type": "code",
   "execution_count": 5,
   "metadata": {
    "ExecuteTime": {
     "end_time": "2021-04-10T21:03:05.808090Z",
     "start_time": "2021-04-10T21:03:05.502521Z"
    }
   },
   "outputs": [
    {
     "name": "stdout",
     "output_type": "stream",
     "text": [
      "C:\\Users\\r2d4\\miniconda3\\envs\\py3\\python.exe\n",
      "3.8.3 (default, May 19 2020, 06:50:17) [MSC v.1916 64 bit (AMD64)]\n",
      "sqlalchemy 1.3.17\n"
     ]
    }
   ],
   "source": [
    "print(sys.executable)\n",
    "print(sys.version)\n",
    "print(f'sqlalchemy {sqlalchemy.__version__}')"
   ]
  },
  {
   "cell_type": "markdown",
   "metadata": {
    "ExecuteTime": {
     "end_time": "2020-12-23T06:08:49.546499Z",
     "start_time": "2020-12-23T06:08:49.412497Z"
    }
   },
   "source": [
    "## Connect To DB\n",
    "\n",
    "Because we connect from `dev`subfolder, I have to work with the sqlalchemy `create_engine` function directly."
   ]
  },
  {
   "cell_type": "code",
   "execution_count": 6,
   "metadata": {
    "ExecuteTime": {
     "end_time": "2021-04-10T21:03:06.117249Z",
     "start_time": "2021-04-10T21:03:05.810501Z"
    }
   },
   "outputs": [
    {
     "data": {
      "text/plain": [
       "<sqlalchemy.orm.session.Session at 0x216ea110940>"
      ]
     },
     "execution_count": 6,
     "metadata": {},
     "output_type": "execute_result"
    }
   ],
   "source": [
    "# session.close()\n",
    "prod_path = r\"sqlite:///C:\\Users\\r2d4\\OneDrive\\code\\projects\\20-02_disco\\db_aka_discobase\\DiscoBase.db\"\n",
    "engine = sqlalchemy.create_engine(prod_path)\n",
    "\n",
    "session = db_connect.create_session(engine)\n",
    "\n",
    "# Check\n",
    "session"
   ]
  },
  {
   "cell_type": "markdown",
   "metadata": {},
   "source": [
    "## Query DB"
   ]
  },
  {
   "cell_type": "code",
   "execution_count": 7,
   "metadata": {
    "ExecuteTime": {
     "end_time": "2021-04-10T21:03:06.527850Z",
     "start_time": "2021-04-10T21:03:06.123850Z"
    }
   },
   "outputs": [
    {
     "data": {
      "text/html": [
       "<div>\n",
       "<style scoped>\n",
       "    .dataframe tbody tr th:only-of-type {\n",
       "        vertical-align: middle;\n",
       "    }\n",
       "\n",
       "    .dataframe tbody tr th {\n",
       "        vertical-align: top;\n",
       "    }\n",
       "\n",
       "    .dataframe thead th {\n",
       "        text-align: right;\n",
       "    }\n",
       "</style>\n",
       "<table border=\"1\" class=\"dataframe\">\n",
       "  <thead>\n",
       "    <tr style=\"text-align: right;\">\n",
       "      <th></th>\n",
       "      <th>record_id</th>\n",
       "      <th>title</th>\n",
       "      <th>year</th>\n",
       "      <th>genre_id</th>\n",
       "      <th>format_id</th>\n",
       "      <th>vinyl_color</th>\n",
       "      <th>lim_edition</th>\n",
       "      <th>number</th>\n",
       "      <th>remarks</th>\n",
       "      <th>purchase_date</th>\n",
       "      <th>price</th>\n",
       "      <th>rating</th>\n",
       "      <th>is_digitized</th>\n",
       "      <th>is_active</th>\n",
       "      <th>created_at</th>\n",
       "      <th>updated_at</th>\n",
       "    </tr>\n",
       "  </thead>\n",
       "  <tbody>\n",
       "    <tr>\n",
       "      <th>319</th>\n",
       "      <td>320</td>\n",
       "      <td>Three Knee Deep</td>\n",
       "      <td>2020</td>\n",
       "      <td>5</td>\n",
       "      <td>3</td>\n",
       "      <td>purple-green swirl</td>\n",
       "      <td>300</td>\n",
       "      <td>None</td>\n",
       "      <td>None</td>\n",
       "      <td>2021-03-29</td>\n",
       "      <td>35</td>\n",
       "      <td>None</td>\n",
       "      <td>0</td>\n",
       "      <td>1</td>\n",
       "      <td>2021-03-29 19:36:11</td>\n",
       "      <td>NaT</td>\n",
       "    </tr>\n",
       "    <tr>\n",
       "      <th>320</th>\n",
       "      <td>321</td>\n",
       "      <td>Sunami / Demonstration</td>\n",
       "      <td>2020</td>\n",
       "      <td>5</td>\n",
       "      <td>1</td>\n",
       "      <td>blue-black pinwheel</td>\n",
       "      <td>300</td>\n",
       "      <td>None</td>\n",
       "      <td>2nd press, etched on b-side</td>\n",
       "      <td>2021-04-01</td>\n",
       "      <td>50</td>\n",
       "      <td>None</td>\n",
       "      <td>0</td>\n",
       "      <td>1</td>\n",
       "      <td>2021-04-01 19:46:37</td>\n",
       "      <td>NaT</td>\n",
       "    </tr>\n",
       "    <tr>\n",
       "      <th>321</th>\n",
       "      <td>322</td>\n",
       "      <td>Gallery Of Torment</td>\n",
       "      <td>2021</td>\n",
       "      <td>1</td>\n",
       "      <td>3</td>\n",
       "      <td>black</td>\n",
       "      <td>150</td>\n",
       "      <td>None</td>\n",
       "      <td>None</td>\n",
       "      <td>2021-04-03</td>\n",
       "      <td>20</td>\n",
       "      <td>None</td>\n",
       "      <td>1</td>\n",
       "      <td>1</td>\n",
       "      <td>2021-04-03 07:38:56</td>\n",
       "      <td>NaT</td>\n",
       "    </tr>\n",
       "    <tr>\n",
       "      <th>322</th>\n",
       "      <td>323</td>\n",
       "      <td>Wrong World</td>\n",
       "      <td>2018</td>\n",
       "      <td>5</td>\n",
       "      <td>1</td>\n",
       "      <td>ultra clear w/ sea blue splatter</td>\n",
       "      <td>100</td>\n",
       "      <td>None</td>\n",
       "      <td>None</td>\n",
       "      <td>2021-04-09</td>\n",
       "      <td>50</td>\n",
       "      <td>None</td>\n",
       "      <td>0</td>\n",
       "      <td>1</td>\n",
       "      <td>2021-04-09 16:14:18</td>\n",
       "      <td>NaT</td>\n",
       "    </tr>\n",
       "    <tr>\n",
       "      <th>323</th>\n",
       "      <td>324</td>\n",
       "      <td>Aldrig I Livet</td>\n",
       "      <td>2020</td>\n",
       "      <td>1</td>\n",
       "      <td>3</td>\n",
       "      <td>green translucent</td>\n",
       "      <td>lim</td>\n",
       "      <td>None</td>\n",
       "      <td>repress, replacement for mispressed first issue</td>\n",
       "      <td>2020-11-06</td>\n",
       "      <td>20</td>\n",
       "      <td>None</td>\n",
       "      <td>1</td>\n",
       "      <td>1</td>\n",
       "      <td>2021-04-09 16:22:47</td>\n",
       "      <td>NaT</td>\n",
       "    </tr>\n",
       "  </tbody>\n",
       "</table>\n",
       "</div>"
      ],
      "text/plain": [
       "     record_id                   title  year  genre_id  format_id                       vinyl_color lim_edition number                                          remarks purchase_date  price rating  is_digitized  is_active          created_at updated_at\n",
       "319        320         Three Knee Deep  2020         5          3                purple-green swirl         300   None                                             None    2021-03-29     35   None             0          1 2021-03-29 19:36:11        NaT\n",
       "320        321  Sunami / Demonstration  2020         5          1               blue-black pinwheel         300   None                      2nd press, etched on b-side    2021-04-01     50   None             0          1 2021-04-01 19:46:37        NaT\n",
       "321        322      Gallery Of Torment  2021         1          3                             black         150   None                                             None    2021-04-03     20   None             1          1 2021-04-03 07:38:56        NaT\n",
       "322        323             Wrong World  2018         5          1  ultra clear w/ sea blue splatter         100   None                                             None    2021-04-09     50   None             0          1 2021-04-09 16:14:18        NaT\n",
       "323        324          Aldrig I Livet  2020         1          3                 green translucent         lim   None  repress, replacement for mispressed first issue    2020-11-06     20   None             1          1 2021-04-09 16:22:47        NaT"
      ]
     },
     "execution_count": 7,
     "metadata": {},
     "output_type": "execute_result"
    }
   ],
   "source": [
    "pd.read_sql(\"records\", engine).tail(5)"
   ]
  },
  {
   "cell_type": "code",
   "execution_count": 8,
   "metadata": {
    "ExecuteTime": {
     "end_time": "2021-04-10T21:03:06.897859Z",
     "start_time": "2021-04-10T21:03:06.536560Z"
    }
   },
   "outputs": [
    {
     "data": {
      "text/plain": [
       "294"
      ]
     },
     "execution_count": 8,
     "metadata": {},
     "output_type": "execute_result"
    }
   ],
   "source": [
    "pd.read_sql(\"records\", engine)[\"is_active\"].sum()"
   ]
  },
  {
   "cell_type": "code",
   "execution_count": 9,
   "metadata": {
    "ExecuteTime": {
     "end_time": "2021-04-10T21:03:07.250519Z",
     "start_time": "2021-04-10T21:03:06.903259Z"
    }
   },
   "outputs": [
    {
     "data": {
      "text/plain": [
       "<bound method NDFrame.tail of      artist_id      artist_name artist_country          created_at          updated_at\n",
       "0            1        Dismember         Sweden 2021-02-24 14:24:16                 NaT\n",
       "1            2        Merciless         Sweden 2021-02-24 14:24:16 2021-02-28 16:57:22\n",
       "2            3         Overkill            USA 2021-02-24 14:24:16 2021-02-24 14:44:37\n",
       "3            4         Entombed         Sweden 2021-02-24 14:24:16                 NaT\n",
       "4            5        Metallica            USA 2021-02-24 14:24:16 2021-02-28 16:59:06\n",
       "..         ...              ...            ...                 ...                 ...\n",
       "206        207      Tribal Gaze            USA 2021-03-05 09:51:25                 NaT\n",
       "207        208            Gulch            USA 2021-03-22 16:35:22                 NaT\n",
       "208        209  Three Knee Deep            USA 2021-03-29 19:36:11                 NaT\n",
       "209        210           Sunami            USA 2021-04-01 19:46:37                 NaT\n",
       "210        211             Maul            USA 2021-04-03 07:38:56                 NaT\n",
       "\n",
       "[211 rows x 5 columns]>"
      ]
     },
     "execution_count": 9,
     "metadata": {},
     "output_type": "execute_result"
    }
   ],
   "source": [
    "pd.read_sql(\"artists\", engine).tail"
   ]
  },
  {
   "cell_type": "code",
   "execution_count": 10,
   "metadata": {
    "ExecuteTime": {
     "end_time": "2021-04-10T21:03:07.617037Z",
     "start_time": "2021-04-10T21:03:07.262952Z"
    }
   },
   "outputs": [
    {
     "data": {
      "text/html": [
       "<div>\n",
       "<style scoped>\n",
       "    .dataframe tbody tr th:only-of-type {\n",
       "        vertical-align: middle;\n",
       "    }\n",
       "\n",
       "    .dataframe tbody tr th {\n",
       "        vertical-align: top;\n",
       "    }\n",
       "\n",
       "    .dataframe thead th {\n",
       "        text-align: right;\n",
       "    }\n",
       "</style>\n",
       "<table border=\"1\" class=\"dataframe\">\n",
       "  <thead>\n",
       "    <tr style=\"text-align: right;\">\n",
       "      <th></th>\n",
       "      <th>credit_trx_id</th>\n",
       "      <th>credit_trx_date</th>\n",
       "      <th>credit_trx_type</th>\n",
       "      <th>credit_value</th>\n",
       "      <th>credit_saldo</th>\n",
       "      <th>record_id</th>\n",
       "      <th>created_at</th>\n",
       "      <th>updated_at</th>\n",
       "    </tr>\n",
       "  </thead>\n",
       "  <tbody>\n",
       "    <tr>\n",
       "      <th>335</th>\n",
       "      <td>336</td>\n",
       "      <td>2021-03-22</td>\n",
       "      <td>Remove</td>\n",
       "      <td>1.00</td>\n",
       "      <td>-2.00</td>\n",
       "      <td>95.00</td>\n",
       "      <td>2021-03-22 16:36:29</td>\n",
       "      <td>NaT</td>\n",
       "    </tr>\n",
       "    <tr>\n",
       "      <th>336</th>\n",
       "      <td>337</td>\n",
       "      <td>2021-03-29</td>\n",
       "      <td>Purchase</td>\n",
       "      <td>-1.00</td>\n",
       "      <td>-3.00</td>\n",
       "      <td>320.00</td>\n",
       "      <td>2021-03-29 19:36:11</td>\n",
       "      <td>NaT</td>\n",
       "    </tr>\n",
       "    <tr>\n",
       "      <th>337</th>\n",
       "      <td>338</td>\n",
       "      <td>2021-03-30</td>\n",
       "      <td>Addition</td>\n",
       "      <td>1.00</td>\n",
       "      <td>-2.00</td>\n",
       "      <td>nan</td>\n",
       "      <td>2021-04-01 19:29:06</td>\n",
       "      <td>NaT</td>\n",
       "    </tr>\n",
       "    <tr>\n",
       "      <th>338</th>\n",
       "      <td>339</td>\n",
       "      <td>2021-04-01</td>\n",
       "      <td>Remove</td>\n",
       "      <td>1.00</td>\n",
       "      <td>-1.00</td>\n",
       "      <td>19.00</td>\n",
       "      <td>2021-04-01 19:36:22</td>\n",
       "      <td>NaT</td>\n",
       "    </tr>\n",
       "    <tr>\n",
       "      <th>339</th>\n",
       "      <td>340</td>\n",
       "      <td>2021-04-01</td>\n",
       "      <td>Remove</td>\n",
       "      <td>0.00</td>\n",
       "      <td>-1.00</td>\n",
       "      <td>20.00</td>\n",
       "      <td>2021-04-01 19:39:37</td>\n",
       "      <td>NaT</td>\n",
       "    </tr>\n",
       "    <tr>\n",
       "      <th>340</th>\n",
       "      <td>341</td>\n",
       "      <td>2021-04-01</td>\n",
       "      <td>Purchase</td>\n",
       "      <td>-1.00</td>\n",
       "      <td>-2.00</td>\n",
       "      <td>321.00</td>\n",
       "      <td>2021-04-01 19:46:37</td>\n",
       "      <td>NaT</td>\n",
       "    </tr>\n",
       "    <tr>\n",
       "      <th>341</th>\n",
       "      <td>342</td>\n",
       "      <td>2021-04-03</td>\n",
       "      <td>Purchase</td>\n",
       "      <td>-1.00</td>\n",
       "      <td>-3.00</td>\n",
       "      <td>322.00</td>\n",
       "      <td>2021-04-03 07:38:56</td>\n",
       "      <td>NaT</td>\n",
       "    </tr>\n",
       "    <tr>\n",
       "      <th>342</th>\n",
       "      <td>343</td>\n",
       "      <td>2021-04-09</td>\n",
       "      <td>Addition</td>\n",
       "      <td>1.00</td>\n",
       "      <td>-2.00</td>\n",
       "      <td>nan</td>\n",
       "      <td>2021-04-09 16:03:02</td>\n",
       "      <td>NaT</td>\n",
       "    </tr>\n",
       "    <tr>\n",
       "      <th>343</th>\n",
       "      <td>344</td>\n",
       "      <td>2021-04-09</td>\n",
       "      <td>Purchase</td>\n",
       "      <td>-1.00</td>\n",
       "      <td>-3.00</td>\n",
       "      <td>323.00</td>\n",
       "      <td>2021-04-09 16:14:18</td>\n",
       "      <td>NaT</td>\n",
       "    </tr>\n",
       "    <tr>\n",
       "      <th>344</th>\n",
       "      <td>345</td>\n",
       "      <td>2020-11-06</td>\n",
       "      <td>Purchase</td>\n",
       "      <td>0.00</td>\n",
       "      <td>-3.00</td>\n",
       "      <td>324.00</td>\n",
       "      <td>2021-04-09 16:22:47</td>\n",
       "      <td>NaT</td>\n",
       "    </tr>\n",
       "  </tbody>\n",
       "</table>\n",
       "</div>"
      ],
      "text/plain": [
       "     credit_trx_id credit_trx_date credit_trx_type  credit_value  credit_saldo  record_id          created_at updated_at\n",
       "335            336      2021-03-22          Remove          1.00         -2.00      95.00 2021-03-22 16:36:29        NaT\n",
       "336            337      2021-03-29        Purchase         -1.00         -3.00     320.00 2021-03-29 19:36:11        NaT\n",
       "337            338      2021-03-30        Addition          1.00         -2.00        nan 2021-04-01 19:29:06        NaT\n",
       "338            339      2021-04-01          Remove          1.00         -1.00      19.00 2021-04-01 19:36:22        NaT\n",
       "339            340      2021-04-01          Remove          0.00         -1.00      20.00 2021-04-01 19:39:37        NaT\n",
       "340            341      2021-04-01        Purchase         -1.00         -2.00     321.00 2021-04-01 19:46:37        NaT\n",
       "341            342      2021-04-03        Purchase         -1.00         -3.00     322.00 2021-04-03 07:38:56        NaT\n",
       "342            343      2021-04-09        Addition          1.00         -2.00        nan 2021-04-09 16:03:02        NaT\n",
       "343            344      2021-04-09        Purchase         -1.00         -3.00     323.00 2021-04-09 16:14:18        NaT\n",
       "344            345      2020-11-06        Purchase          0.00         -3.00     324.00 2021-04-09 16:22:47        NaT"
      ]
     },
     "execution_count": 10,
     "metadata": {},
     "output_type": "execute_result"
    }
   ],
   "source": [
    "pd.read_sql(\"credit_trx\", engine).tail(10)"
   ]
  },
  {
   "cell_type": "code",
   "execution_count": 11,
   "metadata": {
    "ExecuteTime": {
     "end_time": "2021-04-10T21:03:07.908029Z",
     "start_time": "2021-04-10T21:03:07.622315Z"
    },
    "scrolled": false
   },
   "outputs": [
    {
     "data": {
      "text/html": [
       "<div>\n",
       "<style scoped>\n",
       "    .dataframe tbody tr th:only-of-type {\n",
       "        vertical-align: middle;\n",
       "    }\n",
       "\n",
       "    .dataframe tbody tr th {\n",
       "        vertical-align: top;\n",
       "    }\n",
       "\n",
       "    .dataframe thead th {\n",
       "        text-align: right;\n",
       "    }\n",
       "</style>\n",
       "<table border=\"1\" class=\"dataframe\">\n",
       "  <thead>\n",
       "    <tr style=\"text-align: right;\">\n",
       "      <th></th>\n",
       "      <th>record_id</th>\n",
       "      <th>label_id</th>\n",
       "    </tr>\n",
       "  </thead>\n",
       "  <tbody>\n",
       "    <tr>\n",
       "      <th>303</th>\n",
       "      <td>304</td>\n",
       "      <td>25</td>\n",
       "    </tr>\n",
       "    <tr>\n",
       "      <th>304</th>\n",
       "      <td>305</td>\n",
       "      <td>33</td>\n",
       "    </tr>\n",
       "    <tr>\n",
       "      <th>305</th>\n",
       "      <td>306</td>\n",
       "      <td>33</td>\n",
       "    </tr>\n",
       "    <tr>\n",
       "      <th>306</th>\n",
       "      <td>307</td>\n",
       "      <td>33</td>\n",
       "    </tr>\n",
       "    <tr>\n",
       "      <th>307</th>\n",
       "      <td>308</td>\n",
       "      <td>45</td>\n",
       "    </tr>\n",
       "  </tbody>\n",
       "</table>\n",
       "</div>"
      ],
      "text/plain": [
       "     record_id  label_id\n",
       "303        304        25\n",
       "304        305        33\n",
       "305        306        33\n",
       "306        307        33\n",
       "307        308        45"
      ]
     },
     "execution_count": 11,
     "metadata": {},
     "output_type": "execute_result"
    },
    {
     "data": {
      "text/html": [
       "<div>\n",
       "<style scoped>\n",
       "    .dataframe tbody tr th:only-of-type {\n",
       "        vertical-align: middle;\n",
       "    }\n",
       "\n",
       "    .dataframe tbody tr th {\n",
       "        vertical-align: top;\n",
       "    }\n",
       "\n",
       "    .dataframe thead th {\n",
       "        text-align: right;\n",
       "    }\n",
       "</style>\n",
       "<table border=\"1\" class=\"dataframe\">\n",
       "  <thead>\n",
       "    <tr style=\"text-align: right;\">\n",
       "      <th></th>\n",
       "      <th>artist_id</th>\n",
       "      <th>label_id</th>\n",
       "    </tr>\n",
       "  </thead>\n",
       "  <tbody>\n",
       "    <tr>\n",
       "      <th>308</th>\n",
       "      <td>71</td>\n",
       "      <td>106</td>\n",
       "    </tr>\n",
       "    <tr>\n",
       "      <th>309</th>\n",
       "      <td>208</td>\n",
       "      <td>107</td>\n",
       "    </tr>\n",
       "    <tr>\n",
       "      <th>310</th>\n",
       "      <td>209</td>\n",
       "      <td>21</td>\n",
       "    </tr>\n",
       "    <tr>\n",
       "      <th>311</th>\n",
       "      <td>210</td>\n",
       "      <td>108</td>\n",
       "    </tr>\n",
       "    <tr>\n",
       "      <th>312</th>\n",
       "      <td>211</td>\n",
       "      <td>109</td>\n",
       "    </tr>\n",
       "  </tbody>\n",
       "</table>\n",
       "</div>"
      ],
      "text/plain": [
       "     artist_id  label_id\n",
       "308         71       106\n",
       "309        208       107\n",
       "310        209        21\n",
       "311        210       108\n",
       "312        211       109"
      ]
     },
     "execution_count": 11,
     "metadata": {},
     "output_type": "execute_result"
    },
    {
     "data": {
      "text/html": [
       "<div>\n",
       "<style scoped>\n",
       "    .dataframe tbody tr th:only-of-type {\n",
       "        vertical-align: middle;\n",
       "    }\n",
       "\n",
       "    .dataframe tbody tr th {\n",
       "        vertical-align: top;\n",
       "    }\n",
       "\n",
       "    .dataframe thead th {\n",
       "        text-align: right;\n",
       "    }\n",
       "</style>\n",
       "<table border=\"1\" class=\"dataframe\">\n",
       "  <thead>\n",
       "    <tr style=\"text-align: right;\">\n",
       "      <th></th>\n",
       "      <th>artist_id</th>\n",
       "      <th>genre_id</th>\n",
       "    </tr>\n",
       "  </thead>\n",
       "  <tbody>\n",
       "    <tr>\n",
       "      <th>209</th>\n",
       "      <td>207</td>\n",
       "      <td>1</td>\n",
       "    </tr>\n",
       "    <tr>\n",
       "      <th>210</th>\n",
       "      <td>208</td>\n",
       "      <td>5</td>\n",
       "    </tr>\n",
       "    <tr>\n",
       "      <th>211</th>\n",
       "      <td>209</td>\n",
       "      <td>5</td>\n",
       "    </tr>\n",
       "    <tr>\n",
       "      <th>212</th>\n",
       "      <td>210</td>\n",
       "      <td>5</td>\n",
       "    </tr>\n",
       "    <tr>\n",
       "      <th>213</th>\n",
       "      <td>211</td>\n",
       "      <td>1</td>\n",
       "    </tr>\n",
       "  </tbody>\n",
       "</table>\n",
       "</div>"
      ],
      "text/plain": [
       "     artist_id  genre_id\n",
       "209        207         1\n",
       "210        208         5\n",
       "211        209         5\n",
       "212        210         5\n",
       "213        211         1"
      ]
     },
     "execution_count": 11,
     "metadata": {},
     "output_type": "execute_result"
    },
    {
     "data": {
      "text/html": [
       "<div>\n",
       "<style scoped>\n",
       "    .dataframe tbody tr th:only-of-type {\n",
       "        vertical-align: middle;\n",
       "    }\n",
       "\n",
       "    .dataframe tbody tr th {\n",
       "        vertical-align: top;\n",
       "    }\n",
       "\n",
       "    .dataframe thead th {\n",
       "        text-align: right;\n",
       "    }\n",
       "</style>\n",
       "<table border=\"1\" class=\"dataframe\">\n",
       "  <thead>\n",
       "    <tr style=\"text-align: right;\">\n",
       "      <th></th>\n",
       "      <th>genre_id</th>\n",
       "      <th>label_id</th>\n",
       "    </tr>\n",
       "  </thead>\n",
       "  <tbody>\n",
       "    <tr>\n",
       "      <th>116</th>\n",
       "      <td>1</td>\n",
       "      <td>105</td>\n",
       "    </tr>\n",
       "    <tr>\n",
       "      <th>117</th>\n",
       "      <td>5</td>\n",
       "      <td>106</td>\n",
       "    </tr>\n",
       "    <tr>\n",
       "      <th>118</th>\n",
       "      <td>5</td>\n",
       "      <td>107</td>\n",
       "    </tr>\n",
       "    <tr>\n",
       "      <th>119</th>\n",
       "      <td>5</td>\n",
       "      <td>108</td>\n",
       "    </tr>\n",
       "    <tr>\n",
       "      <th>120</th>\n",
       "      <td>1</td>\n",
       "      <td>109</td>\n",
       "    </tr>\n",
       "  </tbody>\n",
       "</table>\n",
       "</div>"
      ],
      "text/plain": [
       "     genre_id  label_id\n",
       "116         1       105\n",
       "117         5       106\n",
       "118         5       107\n",
       "119         5       108\n",
       "120         1       109"
      ]
     },
     "execution_count": 11,
     "metadata": {},
     "output_type": "execute_result"
    }
   ],
   "source": [
    "pd.read_sql(\"record_label_link\", engine).tail()\n",
    "pd.read_sql(\"artist_label_link\", engine).tail()\n",
    "pd.read_sql(\"artist_genre_link\", engine).tail()\n",
    "pd.read_sql(\"genre_label_link\", engine).tail()"
   ]
  },
  {
   "cell_type": "code",
   "execution_count": 12,
   "metadata": {
    "ExecuteTime": {
     "end_time": "2021-04-10T21:03:08.227722Z",
     "start_time": "2021-04-10T21:03:07.911096Z"
    }
   },
   "outputs": [
    {
     "data": {
      "text/html": [
       "<div>\n",
       "<style scoped>\n",
       "    .dataframe tbody tr th:only-of-type {\n",
       "        vertical-align: middle;\n",
       "    }\n",
       "\n",
       "    .dataframe tbody tr th {\n",
       "        vertical-align: top;\n",
       "    }\n",
       "\n",
       "    .dataframe thead th {\n",
       "        text-align: right;\n",
       "    }\n",
       "</style>\n",
       "<table border=\"1\" class=\"dataframe\">\n",
       "  <thead>\n",
       "    <tr style=\"text-align: right;\">\n",
       "      <th></th>\n",
       "      <th>label_id</th>\n",
       "      <th>label_name</th>\n",
       "      <th>created_at</th>\n",
       "      <th>updated_at</th>\n",
       "    </tr>\n",
       "  </thead>\n",
       "  <tbody>\n",
       "    <tr>\n",
       "      <th>17</th>\n",
       "      <td>18</td>\n",
       "      <td>20 Buck Spin</td>\n",
       "      <td>2021-02-24 14:24:22</td>\n",
       "      <td>NaT</td>\n",
       "    </tr>\n",
       "    <tr>\n",
       "      <th>27</th>\n",
       "      <td>28</td>\n",
       "      <td>6131</td>\n",
       "      <td>2021-02-24 14:24:23</td>\n",
       "      <td>NaT</td>\n",
       "    </tr>\n",
       "    <tr>\n",
       "      <th>89</th>\n",
       "      <td>90</td>\n",
       "      <td>Abfall</td>\n",
       "      <td>2021-02-28 17:49:06</td>\n",
       "      <td>NaT</td>\n",
       "    </tr>\n",
       "    <tr>\n",
       "      <th>91</th>\n",
       "      <td>92</td>\n",
       "      <td>Acouphènes!</td>\n",
       "      <td>2021-02-28 17:50:46</td>\n",
       "      <td>NaT</td>\n",
       "    </tr>\n",
       "    <tr>\n",
       "      <th>9</th>\n",
       "      <td>10</td>\n",
       "      <td>Active Rebellion</td>\n",
       "      <td>2021-02-24 14:24:20</td>\n",
       "      <td>NaT</td>\n",
       "    </tr>\n",
       "    <tr>\n",
       "      <th>...</th>\n",
       "      <td>...</td>\n",
       "      <td>...</td>\n",
       "      <td>...</td>\n",
       "      <td>...</td>\n",
       "    </tr>\n",
       "    <tr>\n",
       "      <th>49</th>\n",
       "      <td>50</td>\n",
       "      <td>Vinyl Collectors</td>\n",
       "      <td>2021-02-24 16:31:31</td>\n",
       "      <td>NaT</td>\n",
       "    </tr>\n",
       "    <tr>\n",
       "      <th>73</th>\n",
       "      <td>74</td>\n",
       "      <td>Virgin</td>\n",
       "      <td>2021-02-28 11:24:25</td>\n",
       "      <td>NaT</td>\n",
       "    </tr>\n",
       "    <tr>\n",
       "      <th>69</th>\n",
       "      <td>70</td>\n",
       "      <td>War Anthem</td>\n",
       "      <td>2021-02-28 10:48:59</td>\n",
       "      <td>NaT</td>\n",
       "    </tr>\n",
       "    <tr>\n",
       "      <th>64</th>\n",
       "      <td>65</td>\n",
       "      <td>Witching Hour Productions</td>\n",
       "      <td>2021-02-26 17:07:08</td>\n",
       "      <td>NaT</td>\n",
       "    </tr>\n",
       "    <tr>\n",
       "      <th>56</th>\n",
       "      <td>57</td>\n",
       "      <td>Wounded Love</td>\n",
       "      <td>2021-02-26 15:56:38</td>\n",
       "      <td>NaT</td>\n",
       "    </tr>\n",
       "  </tbody>\n",
       "</table>\n",
       "<p>109 rows × 4 columns</p>\n",
       "</div>"
      ],
      "text/plain": [
       "    label_id                 label_name          created_at updated_at\n",
       "17        18               20 Buck Spin 2021-02-24 14:24:22        NaT\n",
       "27        28                       6131 2021-02-24 14:24:23        NaT\n",
       "89        90                     Abfall 2021-02-28 17:49:06        NaT\n",
       "91        92                Acouphènes! 2021-02-28 17:50:46        NaT\n",
       "9         10           Active Rebellion 2021-02-24 14:24:20        NaT\n",
       "..       ...                        ...                 ...        ...\n",
       "49        50           Vinyl Collectors 2021-02-24 16:31:31        NaT\n",
       "73        74                     Virgin 2021-02-28 11:24:25        NaT\n",
       "69        70                 War Anthem 2021-02-28 10:48:59        NaT\n",
       "64        65  Witching Hour Productions 2021-02-26 17:07:08        NaT\n",
       "56        57               Wounded Love 2021-02-26 15:56:38        NaT\n",
       "\n",
       "[109 rows x 4 columns]"
      ]
     },
     "execution_count": 12,
     "metadata": {},
     "output_type": "execute_result"
    }
   ],
   "source": [
    "pd.read_sql(\"labels\", engine).sort_values(\"label_name\")"
   ]
  },
  {
   "cell_type": "code",
   "execution_count": 13,
   "metadata": {
    "ExecuteTime": {
     "end_time": "2021-04-10T21:03:08.606992Z",
     "start_time": "2021-04-10T21:03:08.237124Z"
    }
   },
   "outputs": [
    {
     "name": "stdout",
     "output_type": "stream",
     "text": [
      "<Record(record_id=11, title=Uprising, artist=[<Artist(artist_id=4, artist_name=Entombed)>])> 2013-07-01\n",
      "<Record(record_id=12, title=Morning Star, artist=[<Artist(artist_id=4, artist_name=Entombed)>])> 2013-07-01\n",
      "<Record(record_id=23, title=Wolverine Blues, artist=[<Artist(artist_id=4, artist_name=Entombed)>])> 2014-01-01\n",
      "<Record(record_id=36, title=Clandestine, artist=[<Artist(artist_id=4, artist_name=Entombed)>])> 2015-08-01\n",
      "<Record(record_id=40, title=Left Hand Path, artist=[<Artist(artist_id=4, artist_name=Entombed)>])> 2015-10-01\n"
     ]
    },
    {
     "name": "stderr",
     "output_type": "stream",
     "text": [
      "C:\\Users\\r2d4\\miniconda3\\envs\\py3\\lib\\site-packages\\sqlalchemy\\sql\\sqltypes.py:660: SAWarning: Dialect sqlite+pysqlite does *not* support Decimal objects natively, and SQLAlchemy must convert from floating point - rounding errors and other issues may occur. Please consider storing Decimal numbers as strings or integers on this platform for lossless storage.\n",
      "  util.warn(\n"
     ]
    }
   ],
   "source": [
    "result = session.query(Record).filter(Record.artists.any(Artist.artist_name == \"Entombed\")).all()\n",
    "for record in result:\n",
    "    print(record, record.purchase_date)"
   ]
  },
  {
   "cell_type": "code",
   "execution_count": 14,
   "metadata": {
    "ExecuteTime": {
     "end_time": "2021-04-10T21:03:08.863772Z",
     "start_time": "2021-04-10T21:03:08.613579Z"
    }
   },
   "outputs": [
    {
     "name": "stdout",
     "output_type": "stream",
     "text": [
      "Sweden\n"
     ]
    }
   ],
   "source": [
    "result = session.query(Artist).filter(Artist.artist_name == \"Entombed\").one()\n",
    "print(result.artist_country)"
   ]
  },
  {
   "cell_type": "code",
   "execution_count": 15,
   "metadata": {
    "ExecuteTime": {
     "end_time": "2021-04-10T21:03:09.083534Z",
     "start_time": "2021-04-10T21:03:08.870421Z"
    }
   },
   "outputs": [
    {
     "data": {
      "text/html": [
       "<div>\n",
       "<style scoped>\n",
       "    .dataframe tbody tr th:only-of-type {\n",
       "        vertical-align: middle;\n",
       "    }\n",
       "\n",
       "    .dataframe tbody tr th {\n",
       "        vertical-align: top;\n",
       "    }\n",
       "\n",
       "    .dataframe thead th {\n",
       "        text-align: right;\n",
       "    }\n",
       "</style>\n",
       "<table border=\"1\" class=\"dataframe\">\n",
       "  <thead>\n",
       "    <tr style=\"text-align: right;\">\n",
       "      <th></th>\n",
       "      <th>format_id</th>\n",
       "      <th>format_name</th>\n",
       "      <th>created_at</th>\n",
       "      <th>updated_at</th>\n",
       "    </tr>\n",
       "  </thead>\n",
       "  <tbody>\n",
       "    <tr>\n",
       "      <th>0</th>\n",
       "      <td>1</td>\n",
       "      <td>12\"</td>\n",
       "      <td>2021-02-24 14:24:16</td>\n",
       "      <td>NaT</td>\n",
       "    </tr>\n",
       "    <tr>\n",
       "      <th>1</th>\n",
       "      <td>2</td>\n",
       "      <td>Pic-7\"</td>\n",
       "      <td>2021-02-24 14:24:16</td>\n",
       "      <td>2021-02-24 14:37:30</td>\n",
       "    </tr>\n",
       "    <tr>\n",
       "      <th>2</th>\n",
       "      <td>3</td>\n",
       "      <td>LP</td>\n",
       "      <td>2021-02-24 14:24:16</td>\n",
       "      <td>NaT</td>\n",
       "    </tr>\n",
       "    <tr>\n",
       "      <th>3</th>\n",
       "      <td>4</td>\n",
       "      <td>2LP</td>\n",
       "      <td>2021-02-24 14:24:16</td>\n",
       "      <td>NaT</td>\n",
       "    </tr>\n",
       "    <tr>\n",
       "      <th>4</th>\n",
       "      <td>5</td>\n",
       "      <td>10\"</td>\n",
       "      <td>2021-02-24 14:24:16</td>\n",
       "      <td>NaT</td>\n",
       "    </tr>\n",
       "    <tr>\n",
       "      <th>5</th>\n",
       "      <td>6</td>\n",
       "      <td>7\"</td>\n",
       "      <td>2021-02-24 14:24:16</td>\n",
       "      <td>NaT</td>\n",
       "    </tr>\n",
       "    <tr>\n",
       "      <th>6</th>\n",
       "      <td>7</td>\n",
       "      <td>MLP</td>\n",
       "      <td>2021-02-24 14:24:17</td>\n",
       "      <td>NaT</td>\n",
       "    </tr>\n",
       "    <tr>\n",
       "      <th>7</th>\n",
       "      <td>8</td>\n",
       "      <td>2xLP</td>\n",
       "      <td>2021-02-24 14:24:17</td>\n",
       "      <td>NaT</td>\n",
       "    </tr>\n",
       "    <tr>\n",
       "      <th>8</th>\n",
       "      <td>9</td>\n",
       "      <td>LP</td>\n",
       "      <td>2021-02-24 14:24:20</td>\n",
       "      <td>NaT</td>\n",
       "    </tr>\n",
       "    <tr>\n",
       "      <th>9</th>\n",
       "      <td>10</td>\n",
       "      <td>Pic-LP</td>\n",
       "      <td>2021-02-24 14:24:21</td>\n",
       "      <td>NaT</td>\n",
       "    </tr>\n",
       "    <tr>\n",
       "      <th>10</th>\n",
       "      <td>11</td>\n",
       "      <td>Tape</td>\n",
       "      <td>2021-02-24 14:24:26</td>\n",
       "      <td>NaT</td>\n",
       "    </tr>\n",
       "  </tbody>\n",
       "</table>\n",
       "</div>"
      ],
      "text/plain": [
       "    format_id format_name          created_at          updated_at\n",
       "0           1         12\" 2021-02-24 14:24:16                 NaT\n",
       "1           2      Pic-7\" 2021-02-24 14:24:16 2021-02-24 14:37:30\n",
       "2           3          LP 2021-02-24 14:24:16                 NaT\n",
       "3           4         2LP 2021-02-24 14:24:16                 NaT\n",
       "4           5         10\" 2021-02-24 14:24:16                 NaT\n",
       "5           6          7\" 2021-02-24 14:24:16                 NaT\n",
       "6           7         MLP 2021-02-24 14:24:17                 NaT\n",
       "7           8        2xLP 2021-02-24 14:24:17                 NaT\n",
       "8           9         LP  2021-02-24 14:24:20                 NaT\n",
       "9          10      Pic-LP 2021-02-24 14:24:21                 NaT\n",
       "10         11        Tape 2021-02-24 14:24:26                 NaT"
      ]
     },
     "execution_count": 15,
     "metadata": {},
     "output_type": "execute_result"
    }
   ],
   "source": [
    "pd.read_sql(\"formats\", engine)"
   ]
  },
  {
   "cell_type": "code",
   "execution_count": 16,
   "metadata": {
    "ExecuteTime": {
     "end_time": "2021-04-10T21:03:09.317240Z",
     "start_time": "2021-04-10T21:03:09.084532Z"
    }
   },
   "outputs": [
    {
     "data": {
      "text/html": [
       "<div>\n",
       "<style scoped>\n",
       "    .dataframe tbody tr th:only-of-type {\n",
       "        vertical-align: middle;\n",
       "    }\n",
       "\n",
       "    .dataframe tbody tr th {\n",
       "        vertical-align: top;\n",
       "    }\n",
       "\n",
       "    .dataframe thead th {\n",
       "        text-align: right;\n",
       "    }\n",
       "</style>\n",
       "<table border=\"1\" class=\"dataframe\">\n",
       "  <thead>\n",
       "    <tr style=\"text-align: right;\">\n",
       "      <th></th>\n",
       "      <th>genre_id</th>\n",
       "      <th>genre_name</th>\n",
       "      <th>created_at</th>\n",
       "      <th>updated_at</th>\n",
       "    </tr>\n",
       "  </thead>\n",
       "  <tbody>\n",
       "    <tr>\n",
       "      <th>0</th>\n",
       "      <td>1</td>\n",
       "      <td>Death Metal</td>\n",
       "      <td>2021-02-24 14:24:16</td>\n",
       "      <td>NaT</td>\n",
       "    </tr>\n",
       "    <tr>\n",
       "      <th>1</th>\n",
       "      <td>2</td>\n",
       "      <td>Thrash Metal</td>\n",
       "      <td>2021-02-24 14:24:16</td>\n",
       "      <td>NaT</td>\n",
       "    </tr>\n",
       "    <tr>\n",
       "      <th>2</th>\n",
       "      <td>3</td>\n",
       "      <td>Black Metal</td>\n",
       "      <td>2021-02-24 14:24:16</td>\n",
       "      <td>NaT</td>\n",
       "    </tr>\n",
       "    <tr>\n",
       "      <th>3</th>\n",
       "      <td>4</td>\n",
       "      <td>Speed Metal</td>\n",
       "      <td>2021-02-24 14:24:17</td>\n",
       "      <td>NaT</td>\n",
       "    </tr>\n",
       "    <tr>\n",
       "      <th>4</th>\n",
       "      <td>5</td>\n",
       "      <td>Hardcore</td>\n",
       "      <td>2021-02-24 14:24:18</td>\n",
       "      <td>NaT</td>\n",
       "    </tr>\n",
       "    <tr>\n",
       "      <th>5</th>\n",
       "      <td>6</td>\n",
       "      <td>Punk</td>\n",
       "      <td>2021-02-24 14:24:19</td>\n",
       "      <td>NaT</td>\n",
       "    </tr>\n",
       "    <tr>\n",
       "      <th>6</th>\n",
       "      <td>7</td>\n",
       "      <td>Crust</td>\n",
       "      <td>2021-02-24 14:24:19</td>\n",
       "      <td>NaT</td>\n",
       "    </tr>\n",
       "    <tr>\n",
       "      <th>7</th>\n",
       "      <td>8</td>\n",
       "      <td>Crossover</td>\n",
       "      <td>2021-02-24 14:24:24</td>\n",
       "      <td>NaT</td>\n",
       "    </tr>\n",
       "    <tr>\n",
       "      <th>8</th>\n",
       "      <td>9</td>\n",
       "      <td>Grindcore</td>\n",
       "      <td>2021-02-24 14:24:25</td>\n",
       "      <td>NaT</td>\n",
       "    </tr>\n",
       "  </tbody>\n",
       "</table>\n",
       "</div>"
      ],
      "text/plain": [
       "   genre_id    genre_name          created_at updated_at\n",
       "0         1   Death Metal 2021-02-24 14:24:16        NaT\n",
       "1         2  Thrash Metal 2021-02-24 14:24:16        NaT\n",
       "2         3   Black Metal 2021-02-24 14:24:16        NaT\n",
       "3         4   Speed Metal 2021-02-24 14:24:17        NaT\n",
       "4         5      Hardcore 2021-02-24 14:24:18        NaT\n",
       "5         6          Punk 2021-02-24 14:24:19        NaT\n",
       "6         7         Crust 2021-02-24 14:24:19        NaT\n",
       "7         8     Crossover 2021-02-24 14:24:24        NaT\n",
       "8         9     Grindcore 2021-02-24 14:24:25        NaT"
      ]
     },
     "execution_count": 16,
     "metadata": {},
     "output_type": "execute_result"
    }
   ],
   "source": [
    "pd.read_sql(\"genres\", engine)"
   ]
  },
  {
   "cell_type": "code",
   "execution_count": null,
   "metadata": {},
   "outputs": [],
   "source": []
  },
  {
   "cell_type": "markdown",
   "metadata": {},
   "source": [
    "## Inactivate A Record (Temporary Section)"
   ]
  },
  {
   "cell_type": "code",
   "execution_count": 17,
   "metadata": {
    "ExecuteTime": {
     "end_time": "2021-04-10T21:03:09.499179Z",
     "start_time": "2021-04-10T21:03:09.320258Z"
    }
   },
   "outputs": [],
   "source": [
    "# removal = {\n",
    "#     \"trx_type\": \"Removal\",\n",
    "#     \"credit_value\": 0,\n",
    "#     \"artist\": \"Furia\",\n",
    "#     \"title\": \"Marzannie, Królowej Polski\",\n",
    "#     \"year\": 2012,\n",
    "#     \"date\": dt.datetime.today().date()\n",
    "# }"
   ]
  },
  {
   "cell_type": "code",
   "execution_count": 18,
   "metadata": {
    "ExecuteTime": {
     "end_time": "2021-04-10T21:03:09.727133Z",
     "start_time": "2021-04-10T21:03:09.502397Z"
    }
   },
   "outputs": [],
   "source": [
    "# db_functions.set_record_to_inactive(session, removal)"
   ]
  },
  {
   "cell_type": "code",
   "execution_count": 19,
   "metadata": {
    "ExecuteTime": {
     "end_time": "2021-04-10T21:03:10.024886Z",
     "start_time": "2021-04-10T21:03:09.730760Z"
    }
   },
   "outputs": [],
   "source": [
    "# pd.read_sql(\"credit_trx\", engine).tail()"
   ]
  },
  {
   "cell_type": "code",
   "execution_count": 20,
   "metadata": {
    "ExecuteTime": {
     "end_time": "2021-04-10T21:03:10.349072Z",
     "start_time": "2021-04-10T21:03:10.031632Z"
    }
   },
   "outputs": [],
   "source": [
    "# to_delete = session.query(CreditTrx).filter(CreditTrx.credit_trx_id == 301).one()\n",
    "# session.delete(to_delete)\n",
    "# session.commit()"
   ]
  },
  {
   "cell_type": "markdown",
   "metadata": {},
   "source": [
    "## Backfill Missing Record-Format-Relations in Records Table (Done)"
   ]
  },
  {
   "cell_type": "code",
   "execution_count": 21,
   "metadata": {
    "ExecuteTime": {
     "end_time": "2021-04-10T21:03:10.643956Z",
     "start_time": "2021-04-10T21:03:10.356781Z"
    }
   },
   "outputs": [],
   "source": [
    "# def load_albums_from_xlsx(\n",
    "#     filepath: Union[Path, str], genres: Optional[List] = None\n",
    "# ) -> pd.DataFrame:\n",
    "#     \"\"\"Load the original album collection file into a dataframe.\n",
    "#     You can specify a list of genres you want to include\n",
    "#     (defaults to None).\n",
    "#     \"\"\"\n",
    "#     df = pd.read_excel(filepath, engine=\"openpyxl\")\n",
    "#     if genres:\n",
    "#         df = df[df[\"Genre\"].isin(genres)]\n",
    "#     return df"
   ]
  },
  {
   "cell_type": "code",
   "execution_count": 22,
   "metadata": {
    "ExecuteTime": {
     "end_time": "2021-04-10T21:03:10.949034Z",
     "start_time": "2021-04-10T21:03:10.649567Z"
    }
   },
   "outputs": [],
   "source": [
    "# CONFIG_PATH = Path.cwd().parent / \"config.cfg\"\n",
    "# path_to_collection = utils.read_config_return_str(CONFIG_PATH, \"COLLECTION\")\n",
    "# collection_df = load_albums_from_xlsx(path_to_collection)\n",
    "# collection_df = clean.prettify_column_names(collection_df)\n",
    "# collection_df.dropna(thresh=8, inplace=True)\n",
    "# collection_df.rename(columns={\"format\": \"record_format\"}, inplace=True)\n",
    "# # collection_df[\"purchase_date\"] = collection_df[\"purchase_date\"].dt.date.astype(str)\n",
    "# # collection_df[\"number\"] = collection_df[\"number\"].astype(str)\n",
    "# # collection_df[\"digitized\"] = collection_df[\"digitized\"].map({True: 1, False: 0}).astype(int)\n",
    "# collection_df[\"label\"].fillna(\"NA\", inplace=True)  # because it creates a foreign key\n",
    "\n",
    "# # This is for the initial ingestion only\n",
    "# collection_df[\"artist_country\"] = None\n",
    "# collection_df[\"credit_value\"] = 0\n",
    "# collection_df[\"trx_type\"] = \"Initial Load\"\n",
    "\n",
    "# assert len(collection_df) == 293"
   ]
  },
  {
   "cell_type": "code",
   "execution_count": 23,
   "metadata": {
    "ExecuteTime": {
     "end_time": "2021-04-10T21:03:11.214701Z",
     "start_time": "2021-04-10T21:03:10.968203Z"
    }
   },
   "outputs": [],
   "source": [
    "# # backfill\n",
    "\n",
    "# for rec in collection_df.itertuples():\n",
    "#     record = db_functions.fetch_a_record_from_the_shelf(session, rec.artist, rec.title)\n",
    "#     r_format = rec.record_format\n",
    "    \n",
    "#     # Check if the format already exists or has to be created\n",
    "#     record_format = (\n",
    "#         session.query(RecordFormat)\n",
    "#         .filter(RecordFormat.format_name.ilike(r_format))\n",
    "#         .one_or_none()\n",
    "#     )\n",
    "#     if record_format is None:\n",
    "#         record_format = RecordFormat(format_name=r_format)\n",
    "#         session.add(record_format)\n",
    "    \n",
    "#     record.record_format = record_format\n",
    "\n",
    "# session.commit()"
   ]
  },
  {
   "cell_type": "code",
   "execution_count": 24,
   "metadata": {
    "ExecuteTime": {
     "end_time": "2021-04-10T21:03:11.377823Z",
     "start_time": "2021-04-10T21:03:11.221473Z"
    }
   },
   "outputs": [],
   "source": [
    "# # Manual Update\n",
    "\n",
    "# record = session.query(Record).filter(Record.record_id == 295).one()\n",
    "# r_format = '12\"'\n",
    "\n",
    "# # Check if the format already exists or has to be created\n",
    "# record_format = (\n",
    "#     session.query(RecordFormat)\n",
    "#     .filter(RecordFormat.format_name.ilike(r_format))\n",
    "#     .one_or_none()\n",
    "# )\n",
    "# if record_format is None:\n",
    "#     record_format = RecordFormat(format_name=r_format)\n",
    "#     session.add(record_format)\n",
    "\n",
    "# record.record_format = record_format\n",
    "\n",
    "# session.commit()"
   ]
  },
  {
   "cell_type": "markdown",
   "metadata": {},
   "source": [
    "## Manual Updates\n",
    "\n",
    "### Credit Trx"
   ]
  },
  {
   "cell_type": "code",
   "execution_count": 25,
   "metadata": {
    "ExecuteTime": {
     "end_time": "2021-04-10T21:03:11.666331Z",
     "start_time": "2021-04-10T21:03:11.380281Z"
    }
   },
   "outputs": [],
   "source": [
    "# result = session.query(CreditTrx).filter(CreditTrx.credit_trx_type == \"Removal\").all()\n",
    "# for r in result:\n",
    "#     r.credit_trx_type = \"Remove\"\n",
    "#     print(r)"
   ]
  },
  {
   "cell_type": "code",
   "execution_count": 26,
   "metadata": {
    "ExecuteTime": {
     "end_time": "2021-04-10T21:03:11.976372Z",
     "start_time": "2021-04-10T21:03:11.671772Z"
    }
   },
   "outputs": [],
   "source": [
    "# r = session.query(Artist).filter(Artist.artist_name == \"CELESTIAL SANCTUARY\").one()\n",
    "# r.artist_name = \"Celestial Sanctuary\""
   ]
  },
  {
   "cell_type": "code",
   "execution_count": 27,
   "metadata": {
    "ExecuteTime": {
     "end_time": "2021-04-10T21:03:12.175192Z",
     "start_time": "2021-04-10T21:03:11.983000Z"
    }
   },
   "outputs": [],
   "source": [
    "# session.commit()"
   ]
  },
  {
   "cell_type": "markdown",
   "metadata": {},
   "source": [
    "### Remove \"Records\" From Label-Names And Split Labels"
   ]
  },
  {
   "cell_type": "code",
   "execution_count": 28,
   "metadata": {
    "ExecuteTime": {
     "end_time": "2021-04-10T21:03:12.483357Z",
     "start_time": "2021-04-10T21:03:12.177174Z"
    }
   },
   "outputs": [],
   "source": [
    "# result = session.query(Label).filter(Label.label_name.like('% Records')).all()\n",
    "# for x in result:\n",
    "#     x.label_name = x.label_name.rpartition(\" Records\")[0]\n",
    "# session.commit()"
   ]
  },
  {
   "cell_type": "code",
   "execution_count": 29,
   "metadata": {
    "ExecuteTime": {
     "end_time": "2021-04-10T21:03:12.733238Z",
     "start_time": "2021-04-10T21:03:12.487155Z"
    }
   },
   "outputs": [],
   "source": [
    "# session.query(Label).get(42)"
   ]
  },
  {
   "cell_type": "code",
   "execution_count": 30,
   "metadata": {
    "ExecuteTime": {
     "end_time": "2021-04-10T21:03:12.933389Z",
     "start_time": "2021-04-10T21:03:12.737257Z"
    }
   },
   "outputs": [],
   "source": [
    "# result = session.query(Label).filter(Label.label_name.contains(' / ')).all()\n",
    "# for x in result:\n",
    "#     print(x)"
   ]
  },
  {
   "cell_type": "code",
   "execution_count": 31,
   "metadata": {
    "ExecuteTime": {
     "end_time": "2021-04-10T21:03:13.242100Z",
     "start_time": "2021-04-10T21:03:12.937842Z"
    }
   },
   "outputs": [],
   "source": [
    "# result = session.query(Record).filter(Record.labels.any(Label.label_id.in_([19, 31, 32])))\n",
    "# for x in result:\n",
    "#     print(x)"
   ]
  },
  {
   "cell_type": "code",
   "execution_count": 32,
   "metadata": {
    "ExecuteTime": {
     "end_time": "2021-04-10T21:03:13.516533Z",
     "start_time": "2021-04-10T21:03:13.243105Z"
    }
   },
   "outputs": [],
   "source": [
    "# jack = session.query(Label).filter(Label.label_id.in_([19, 31, 32])).all()\n",
    "# for x in jack:\n",
    "#     print(x)\n",
    "#     session.delete(x)\n",
    "# session.commit()"
   ]
  },
  {
   "cell_type": "code",
   "execution_count": 33,
   "metadata": {
    "ExecuteTime": {
     "end_time": "2021-04-10T21:03:13.787046Z",
     "start_time": "2021-04-10T21:03:13.519785Z"
    }
   },
   "outputs": [],
   "source": [
    "# session.close()"
   ]
  },
  {
   "cell_type": "markdown",
   "metadata": {},
   "source": [
    "### Update Stuff"
   ]
  },
  {
   "cell_type": "code",
   "execution_count": 34,
   "metadata": {
    "ExecuteTime": {
     "end_time": "2021-04-10T21:03:14.088005Z",
     "start_time": "2021-04-10T21:03:13.790139Z"
    }
   },
   "outputs": [
    {
     "data": {
      "text/plain": [
       "<Record(record_id=270, title=Northeastern Deprivation, artist=[<Artist(artist_id=171, artist_name=Vomit Forth)>])>"
      ]
     },
     "execution_count": 34,
     "metadata": {},
     "output_type": "execute_result"
    }
   ],
   "source": [
    "result = session.query(Record).filter(Record.artists.any(Artist.artist_country == \"NA\")).first()\n",
    "result"
   ]
  },
  {
   "cell_type": "code",
   "execution_count": 35,
   "metadata": {
    "ExecuteTime": {
     "end_time": "2021-04-10T21:03:14.386810Z",
     "start_time": "2021-04-10T21:03:14.097658Z"
    }
   },
   "outputs": [],
   "source": [
    "# result = session.query(Artist).filter(Artist.artist_name == \"Insurgency\").first()\n",
    "# result.artist_name = \"Resurgency\"\n",
    "# session.commit()"
   ]
  },
  {
   "cell_type": "code",
   "execution_count": 36,
   "metadata": {
    "ExecuteTime": {
     "end_time": "2021-04-10T21:03:14.759155Z",
     "start_time": "2021-04-10T21:03:14.403267Z"
    }
   },
   "outputs": [],
   "source": [
    "# session.close()\n",
    "# session = db_connect.create_session(engine)"
   ]
  },
  {
   "cell_type": "code",
   "execution_count": 37,
   "metadata": {
    "ExecuteTime": {
     "end_time": "2021-04-10T21:03:15.117707Z",
     "start_time": "2021-04-10T21:03:14.764579Z"
    }
   },
   "outputs": [
    {
     "data": {
      "text/plain": [
       "0"
      ]
     },
     "execution_count": 37,
     "metadata": {},
     "output_type": "execute_result"
    }
   ],
   "source": [
    "result = session.query(Record).filter(Record.vinyl_color == 'None').all()\n",
    "len(result)"
   ]
  }
 ],
 "metadata": {
  "hide_input": false,
  "kernelspec": {
   "display_name": "Python 3",
   "language": "python",
   "name": "python3"
  },
  "language_info": {
   "codemirror_mode": {
    "name": "ipython",
    "version": 3
   },
   "file_extension": ".py",
   "mimetype": "text/x-python",
   "name": "python",
   "nbconvert_exporter": "python",
   "pygments_lexer": "ipython3",
   "version": "3.8.3"
  },
  "toc": {
   "base_numbering": 1,
   "nav_menu": {},
   "number_sections": true,
   "sideBar": false,
   "skip_h1_title": true,
   "title_cell": "Table of Contents",
   "title_sidebar": "Contents",
   "toc_cell": false,
   "toc_position": {},
   "toc_section_display": true,
   "toc_window_display": false
  }
 },
 "nbformat": 4,
 "nbformat_minor": 4
}
