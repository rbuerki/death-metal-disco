{
 "cells": [
  {
   "cell_type": "code",
   "execution_count": 1,
   "metadata": {
    "ExecuteTime": {
     "end_time": "2021-02-23T13:06:32.710970Z",
     "start_time": "2021-02-23T13:06:31.456102Z"
    }
   },
   "outputs": [],
   "source": [
    "import configparser\n",
    "import datetime as dt\n",
    "import sys\n",
    "import collections\n",
    "from pathlib import Path\n",
    "from typing import Union, Optional, List, Tuple\n",
    "\n",
    "import codebook.EDA as EDA\n",
    "import codebook.clean as clean\n",
    "import numpy as np\n",
    "import pandas as pd\n",
    "import matplotlib.pyplot as plt\n",
    "import seaborn as sns\n",
    "import sqlalchemy"
   ]
  },
  {
   "cell_type": "code",
   "execution_count": 2,
   "metadata": {
    "ExecuteTime": {
     "end_time": "2021-02-23T13:06:32.842966Z",
     "start_time": "2021-02-23T13:06:32.713902Z"
    }
   },
   "outputs": [],
   "source": [
    "%load_ext autoreload\n",
    "%autoreload 2\n",
    "\n",
    "%matplotlib inline\n",
    "plt.style.use('raph-base')\n",
    "\n",
    "from IPython.core.interactiveshell import InteractiveShell\n",
    "InteractiveShell.ast_node_interactivity = 'all'\n",
    "\n",
    "pd.options.display.float_format = '{:,.2f}'.format\n",
    "pd.set_option('display.max_columns', 30)\n",
    "pd.set_option('display.expand_frame_repr', False)\n",
    "pd.set_option('max_colwidth', 800)\n",
    "\n",
    "np.random.seed(666)"
   ]
  },
  {
   "cell_type": "code",
   "execution_count": 3,
   "metadata": {
    "ExecuteTime": {
     "end_time": "2021-02-23T13:06:32.959422Z",
     "start_time": "2021-02-23T13:06:32.845873Z"
    }
   },
   "outputs": [
    {
     "data": {
      "text/plain": [
       "WindowsPath('C:/Users/r2d4/OneDrive/code/projects/20-02_disco/src')"
      ]
     },
     "execution_count": 3,
     "metadata": {},
     "output_type": "execute_result"
    }
   ],
   "source": [
    "Path.cwd().parent / 'src'"
   ]
  },
  {
   "cell_type": "code",
   "execution_count": 4,
   "metadata": {
    "ExecuteTime": {
     "end_time": "2021-02-23T13:06:33.180044Z",
     "start_time": "2021-02-23T13:06:32.962945Z"
    }
   },
   "outputs": [],
   "source": [
    "sys.path.append(str(Path.cwd().parent))\n",
    "\n",
    "from src.db_declaration import (\n",
    "    Base, Artist, CreditTrx, Genre, Label, Record, RecordFormat, CreditTrx, LabelRecordLink, ArtistLabelLink\n",
    ")\n",
    "from src import db_functions\n",
    "from src import db_connect"
   ]
  },
  {
   "cell_type": "code",
   "execution_count": 5,
   "metadata": {
    "ExecuteTime": {
     "end_time": "2021-02-23T13:06:33.298835Z",
     "start_time": "2021-02-23T13:06:33.181944Z"
    }
   },
   "outputs": [
    {
     "name": "stdout",
     "output_type": "stream",
     "text": [
      "C:\\Users\\r2d4\\miniconda3\\envs\\py3\\python.exe\n",
      "3.8.3 (default, May 19 2020, 06:50:17) [MSC v.1916 64 bit (AMD64)]\n",
      "sqlalchemy 1.3.17\n"
     ]
    }
   ],
   "source": [
    "print(sys.executable)\n",
    "print(sys.version)\n",
    "print(f'sqlalchemy {sqlalchemy.__version__}')"
   ]
  },
  {
   "cell_type": "markdown",
   "metadata": {
    "ExecuteTime": {
     "end_time": "2020-12-23T06:08:49.546499Z",
     "start_time": "2020-12-23T06:08:49.412497Z"
    }
   },
   "source": [
    "## Connect To DB\n",
    "\n",
    "Because we connect from `dev`subfolder, I have to work with the sqlalchemy `create_engine` function directly."
   ]
  },
  {
   "cell_type": "code",
   "execution_count": 7,
   "metadata": {
    "ExecuteTime": {
     "end_time": "2021-02-23T13:06:53.477939Z",
     "start_time": "2021-02-23T13:06:53.349939Z"
    }
   },
   "outputs": [
    {
     "data": {
      "text/plain": [
       "<sqlalchemy.orm.session.Session at 0x2208a5d80a0>"
      ]
     },
     "execution_count": 7,
     "metadata": {},
     "output_type": "execute_result"
    }
   ],
   "source": [
    "# session.close()\n",
    "prod_path = r\"sqlite:///C:\\Users\\r2d4\\OneDrive\\code\\projects\\20-02_disco\\db_aka_discobase\\DiscoBase.db\"\n",
    "engine = sqlalchemy.create_engine(prod_path)\n",
    "\n",
    "session = db_connect.create_session(engine)\n",
    "\n",
    "# Check\n",
    "session"
   ]
  },
  {
   "cell_type": "markdown",
   "metadata": {},
   "source": [
    "## Query DB"
   ]
  },
  {
   "cell_type": "code",
   "execution_count": null,
   "metadata": {
    "ExecuteTime": {
     "end_time": "2021-02-23T13:06:33.986856Z",
     "start_time": "2021-02-23T13:06:31.474Z"
    }
   },
   "outputs": [],
   "source": [
    "pd.read_sql(\"records\", engine).tail(5)"
   ]
  },
  {
   "cell_type": "code",
   "execution_count": null,
   "metadata": {
    "ExecuteTime": {
     "end_time": "2021-02-23T13:06:33.988844Z",
     "start_time": "2021-02-23T13:06:31.477Z"
    }
   },
   "outputs": [],
   "source": [
    "pd.read_sql(\"records\", engine)[\"is_active\"].sum()"
   ]
  },
  {
   "cell_type": "code",
   "execution_count": null,
   "metadata": {
    "ExecuteTime": {
     "end_time": "2021-02-23T13:06:33.991845Z",
     "start_time": "2021-02-23T13:06:31.480Z"
    }
   },
   "outputs": [],
   "source": [
    "pd.read_sql(\"artists\", engine).tail"
   ]
  },
  {
   "cell_type": "code",
   "execution_count": null,
   "metadata": {
    "ExecuteTime": {
     "end_time": "2021-02-23T13:06:33.992844Z",
     "start_time": "2021-02-23T13:06:31.485Z"
    }
   },
   "outputs": [],
   "source": [
    "pd.read_sql(\"credit_trx\", engine).tail(10)"
   ]
  },
  {
   "cell_type": "code",
   "execution_count": null,
   "metadata": {
    "ExecuteTime": {
     "end_time": "2021-02-23T13:06:33.994848Z",
     "start_time": "2021-02-23T13:06:31.488Z"
    },
    "scrolled": false
   },
   "outputs": [],
   "source": [
    "pd.read_sql(\"record_label_link\", engine).tail()\n",
    "pd.read_sql(\"artist_label_link\", engine).tail()\n",
    "pd.read_sql(\"artist_genre_link\", engine).tail()\n",
    "pd.read_sql(\"genre_label_link\", engine).tail()"
   ]
  },
  {
   "cell_type": "code",
   "execution_count": null,
   "metadata": {
    "ExecuteTime": {
     "end_time": "2021-02-23T13:06:33.996845Z",
     "start_time": "2021-02-23T13:06:31.493Z"
    }
   },
   "outputs": [],
   "source": [
    "pd.read_sql(\"labels\", engine).sort_values(\"label_name\")"
   ]
  },
  {
   "cell_type": "code",
   "execution_count": null,
   "metadata": {
    "ExecuteTime": {
     "end_time": "2021-02-23T13:06:33.998845Z",
     "start_time": "2021-02-23T13:06:31.496Z"
    }
   },
   "outputs": [],
   "source": [
    "result = session.query(Record).filter(Record.artists.any(Artist.artist_name == \"Entombed\")).all()\n",
    "for record in result:\n",
    "    print(record, record.purchase_date)"
   ]
  },
  {
   "cell_type": "code",
   "execution_count": null,
   "metadata": {
    "ExecuteTime": {
     "end_time": "2021-02-23T13:06:33.999845Z",
     "start_time": "2021-02-23T13:06:31.500Z"
    }
   },
   "outputs": [],
   "source": [
    "result = session.query(Artist).filter(Artist.artist_name == \"Entombed\").one()\n",
    "print(result.artist_country)"
   ]
  },
  {
   "cell_type": "code",
   "execution_count": null,
   "metadata": {
    "ExecuteTime": {
     "end_time": "2021-02-23T13:06:34.001845Z",
     "start_time": "2021-02-23T13:06:31.503Z"
    }
   },
   "outputs": [],
   "source": [
    "pd.read_sql(\"formats\", engine)"
   ]
  },
  {
   "cell_type": "code",
   "execution_count": null,
   "metadata": {
    "ExecuteTime": {
     "end_time": "2021-02-23T13:06:34.003845Z",
     "start_time": "2021-02-23T13:06:31.507Z"
    }
   },
   "outputs": [],
   "source": [
    "pd.read_sql(\"genres\", engine)"
   ]
  },
  {
   "cell_type": "code",
   "execution_count": null,
   "metadata": {},
   "outputs": [],
   "source": []
  },
  {
   "cell_type": "markdown",
   "metadata": {},
   "source": [
    "## Inactivate A Record (Temporary Section)"
   ]
  },
  {
   "cell_type": "code",
   "execution_count": null,
   "metadata": {
    "ExecuteTime": {
     "end_time": "2021-02-23T13:06:34.005844Z",
     "start_time": "2021-02-23T13:06:31.511Z"
    }
   },
   "outputs": [],
   "source": [
    "# removal = {\n",
    "#     \"trx_type\": \"Removal\",\n",
    "#     \"credit_value\": 0,\n",
    "#     \"artist\": \"Furia\",\n",
    "#     \"title\": \"Marzannie, Królowej Polski\",\n",
    "#     \"year\": 2012,\n",
    "#     \"date\": dt.datetime.today().date()\n",
    "# }"
   ]
  },
  {
   "cell_type": "code",
   "execution_count": null,
   "metadata": {
    "ExecuteTime": {
     "end_time": "2021-02-23T13:06:34.008849Z",
     "start_time": "2021-02-23T13:06:31.514Z"
    }
   },
   "outputs": [],
   "source": [
    "# db_functions.set_record_to_inactive(session, removal)"
   ]
  },
  {
   "cell_type": "code",
   "execution_count": null,
   "metadata": {
    "ExecuteTime": {
     "end_time": "2021-02-23T13:06:34.011849Z",
     "start_time": "2021-02-23T13:06:31.516Z"
    }
   },
   "outputs": [],
   "source": [
    "# pd.read_sql(\"credit_trx\", engine).tail()"
   ]
  },
  {
   "cell_type": "code",
   "execution_count": null,
   "metadata": {
    "ExecuteTime": {
     "end_time": "2021-02-23T13:06:34.014847Z",
     "start_time": "2021-02-23T13:06:31.519Z"
    }
   },
   "outputs": [],
   "source": [
    "# to_delete = session.query(CreditTrx).filter(CreditTrx.credit_trx_id == 301).one()\n",
    "# session.delete(to_delete)\n",
    "# session.commit()"
   ]
  },
  {
   "cell_type": "markdown",
   "metadata": {},
   "source": [
    "## Backfill Missing Record-Format-Relations in Records Table (Done)"
   ]
  },
  {
   "cell_type": "code",
   "execution_count": null,
   "metadata": {
    "ExecuteTime": {
     "end_time": "2021-02-23T13:06:34.016847Z",
     "start_time": "2021-02-23T13:06:31.522Z"
    }
   },
   "outputs": [],
   "source": [
    "# def load_albums_from_xlsx(\n",
    "#     filepath: Union[Path, str], genres: Optional[List] = None\n",
    "# ) -> pd.DataFrame:\n",
    "#     \"\"\"Load the original album collection file into a dataframe.\n",
    "#     You can specify a list of genres you want to include\n",
    "#     (defaults to None).\n",
    "#     \"\"\"\n",
    "#     df = pd.read_excel(filepath, engine=\"openpyxl\")\n",
    "#     if genres:\n",
    "#         df = df[df[\"Genre\"].isin(genres)]\n",
    "#     return df"
   ]
  },
  {
   "cell_type": "code",
   "execution_count": null,
   "metadata": {
    "ExecuteTime": {
     "end_time": "2021-02-23T13:06:34.018847Z",
     "start_time": "2021-02-23T13:06:31.525Z"
    }
   },
   "outputs": [],
   "source": [
    "# CONFIG_PATH = Path.cwd().parent / \"config.cfg\"\n",
    "# path_to_collection = utils.read_config_return_str(CONFIG_PATH, \"COLLECTION\")\n",
    "# collection_df = load_albums_from_xlsx(path_to_collection)\n",
    "# collection_df = clean.prettify_column_names(collection_df)\n",
    "# collection_df.dropna(thresh=8, inplace=True)\n",
    "# collection_df.rename(columns={\"format\": \"record_format\"}, inplace=True)\n",
    "# # collection_df[\"purchase_date\"] = collection_df[\"purchase_date\"].dt.date.astype(str)\n",
    "# # collection_df[\"number\"] = collection_df[\"number\"].astype(str)\n",
    "# # collection_df[\"digitized\"] = collection_df[\"digitized\"].map({True: 1, False: 0}).astype(int)\n",
    "# collection_df[\"label\"].fillna(\"NA\", inplace=True)  # because it creates a foreign key\n",
    "\n",
    "# # This is for the initial ingestion only\n",
    "# collection_df[\"artist_country\"] = None\n",
    "# collection_df[\"credit_value\"] = 0\n",
    "# collection_df[\"trx_type\"] = \"Initial Load\"\n",
    "\n",
    "# assert len(collection_df) == 293"
   ]
  },
  {
   "cell_type": "code",
   "execution_count": null,
   "metadata": {
    "ExecuteTime": {
     "end_time": "2021-02-23T13:06:34.021868Z",
     "start_time": "2021-02-23T13:06:31.527Z"
    }
   },
   "outputs": [],
   "source": [
    "# # backfill\n",
    "\n",
    "# for rec in collection_df.itertuples():\n",
    "#     record = db_functions.fetch_a_record_from_the_shelf(session, rec.artist, rec.title)\n",
    "#     r_format = rec.record_format\n",
    "    \n",
    "#     # Check if the format already exists or has to be created\n",
    "#     record_format = (\n",
    "#         session.query(RecordFormat)\n",
    "#         .filter(RecordFormat.format_name.ilike(r_format))\n",
    "#         .one_or_none()\n",
    "#     )\n",
    "#     if record_format is None:\n",
    "#         record_format = RecordFormat(format_name=r_format)\n",
    "#         session.add(record_format)\n",
    "    \n",
    "#     record.record_format = record_format\n",
    "\n",
    "# session.commit()"
   ]
  },
  {
   "cell_type": "code",
   "execution_count": null,
   "metadata": {
    "ExecuteTime": {
     "end_time": "2021-02-23T13:06:34.022846Z",
     "start_time": "2021-02-23T13:06:31.530Z"
    }
   },
   "outputs": [],
   "source": [
    "# # Manual Update\n",
    "\n",
    "# record = session.query(Record).filter(Record.record_id == 295).one()\n",
    "# r_format = '12\"'\n",
    "\n",
    "# # Check if the format already exists or has to be created\n",
    "# record_format = (\n",
    "#     session.query(RecordFormat)\n",
    "#     .filter(RecordFormat.format_name.ilike(r_format))\n",
    "#     .one_or_none()\n",
    "# )\n",
    "# if record_format is None:\n",
    "#     record_format = RecordFormat(format_name=r_format)\n",
    "#     session.add(record_format)\n",
    "\n",
    "# record.record_format = record_format\n",
    "\n",
    "# session.commit()"
   ]
  },
  {
   "cell_type": "markdown",
   "metadata": {},
   "source": [
    "## Manual Updates\n",
    "\n",
    "### Credit Trx"
   ]
  },
  {
   "cell_type": "code",
   "execution_count": null,
   "metadata": {
    "ExecuteTime": {
     "end_time": "2021-02-23T13:06:34.024845Z",
     "start_time": "2021-02-23T13:06:31.533Z"
    }
   },
   "outputs": [],
   "source": [
    "# result = session.query(CreditTrx).filter(CreditTrx.credit_trx_type == \"Removal\").all()\n",
    "# for r in result:\n",
    "#     r.credit_trx_type = \"Remove\"\n",
    "#     print(r)"
   ]
  },
  {
   "cell_type": "code",
   "execution_count": null,
   "metadata": {
    "ExecuteTime": {
     "end_time": "2021-02-23T13:06:34.026846Z",
     "start_time": "2021-02-23T13:06:31.536Z"
    }
   },
   "outputs": [],
   "source": [
    "# r = session.query(Artist).filter(Artist.artist_name == \"CELESTIAL SANCTUARY\").one()\n",
    "# r.artist_name = \"Celestial Sanctuary\""
   ]
  },
  {
   "cell_type": "code",
   "execution_count": null,
   "metadata": {
    "ExecuteTime": {
     "end_time": "2021-02-23T13:06:34.029848Z",
     "start_time": "2021-02-23T13:06:31.538Z"
    }
   },
   "outputs": [],
   "source": [
    "# session.commit()"
   ]
  },
  {
   "cell_type": "markdown",
   "metadata": {},
   "source": [
    "### Remove \"Records\" From Label-Names And Split Labels"
   ]
  },
  {
   "cell_type": "code",
   "execution_count": null,
   "metadata": {
    "ExecuteTime": {
     "end_time": "2021-02-23T13:06:34.031847Z",
     "start_time": "2021-02-23T13:06:31.541Z"
    }
   },
   "outputs": [],
   "source": [
    "# result = session.query(Label).filter(Label.label_name.like('% Records')).all()\n",
    "# for x in result:\n",
    "#     x.label_name = x.label_name.rpartition(\" Records\")[0]\n",
    "# session.commit()"
   ]
  },
  {
   "cell_type": "code",
   "execution_count": null,
   "metadata": {
    "ExecuteTime": {
     "end_time": "2021-02-23T13:06:34.033846Z",
     "start_time": "2021-02-23T13:06:31.544Z"
    }
   },
   "outputs": [],
   "source": [
    "# session.query(Label).get(42)"
   ]
  },
  {
   "cell_type": "code",
   "execution_count": null,
   "metadata": {
    "ExecuteTime": {
     "end_time": "2021-02-23T13:06:34.036847Z",
     "start_time": "2021-02-23T13:06:31.547Z"
    }
   },
   "outputs": [],
   "source": [
    "# result = session.query(Label).filter(Label.label_name.contains(' / ')).all()\n",
    "# for x in result:\n",
    "#     print(x)"
   ]
  },
  {
   "cell_type": "code",
   "execution_count": null,
   "metadata": {
    "ExecuteTime": {
     "end_time": "2021-02-23T13:06:34.038845Z",
     "start_time": "2021-02-23T13:06:31.550Z"
    }
   },
   "outputs": [],
   "source": [
    "# result = session.query(Record).filter(Record.labels.any(Label.label_id.in_([19, 31, 32])))\n",
    "# for x in result:\n",
    "#     print(x)"
   ]
  },
  {
   "cell_type": "code",
   "execution_count": null,
   "metadata": {
    "ExecuteTime": {
     "end_time": "2021-02-23T13:06:34.041846Z",
     "start_time": "2021-02-23T13:06:31.553Z"
    }
   },
   "outputs": [],
   "source": [
    "# jack = session.query(Label).filter(Label.label_id.in_([19, 31, 32])).all()\n",
    "# for x in jack:\n",
    "#     print(x)\n",
    "#     session.delete(x)\n",
    "# session.commit()"
   ]
  },
  {
   "cell_type": "code",
   "execution_count": null,
   "metadata": {
    "ExecuteTime": {
     "end_time": "2021-02-23T13:06:34.050849Z",
     "start_time": "2021-02-23T13:06:31.556Z"
    }
   },
   "outputs": [],
   "source": [
    "# session.close()"
   ]
  },
  {
   "cell_type": "markdown",
   "metadata": {},
   "source": [
    "### Remove Faulty DB-Entries"
   ]
  }
 ],
 "metadata": {
  "hide_input": false,
  "kernelspec": {
   "display_name": "Python 3",
   "language": "python",
   "name": "python3"
  },
  "language_info": {
   "codemirror_mode": {
    "name": "ipython",
    "version": 3
   },
   "file_extension": ".py",
   "mimetype": "text/x-python",
   "name": "python",
   "nbconvert_exporter": "python",
   "pygments_lexer": "ipython3",
   "version": "3.8.3"
  },
  "toc": {
   "base_numbering": 1,
   "nav_menu": {},
   "number_sections": true,
   "sideBar": false,
   "skip_h1_title": true,
   "title_cell": "Table of Contents",
   "title_sidebar": "Contents",
   "toc_cell": false,
   "toc_position": {},
   "toc_section_display": true,
   "toc_window_display": false
  }
 },
 "nbformat": 4,
 "nbformat_minor": 4
}
