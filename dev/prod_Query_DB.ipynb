{
 "cells": [
  {
   "cell_type": "code",
   "execution_count": 1,
   "metadata": {
    "ExecuteTime": {
     "end_time": "2021-02-17T13:09:32.176223Z",
     "start_time": "2021-02-17T13:09:30.913979Z"
    }
   },
   "outputs": [],
   "source": [
    "import configparser\n",
    "import datetime as dt\n",
    "import sys\n",
    "import collections\n",
    "from pathlib import Path\n",
    "from typing import Union, Optional, List, Tuple\n",
    "\n",
    "import codebook.EDA as EDA\n",
    "import codebook.clean as clean\n",
    "import numpy as np\n",
    "import pandas as pd\n",
    "import matplotlib.pyplot as plt\n",
    "import seaborn as sns\n",
    "import sqlalchemy"
   ]
  },
  {
   "cell_type": "code",
   "execution_count": 2,
   "metadata": {
    "ExecuteTime": {
     "end_time": "2021-02-17T13:09:32.305292Z",
     "start_time": "2021-02-17T13:09:32.179231Z"
    }
   },
   "outputs": [],
   "source": [
    "%load_ext autoreload\n",
    "%autoreload 2\n",
    "\n",
    "%matplotlib inline\n",
    "plt.style.use('raph-base')\n",
    "\n",
    "from IPython.core.interactiveshell import InteractiveShell\n",
    "InteractiveShell.ast_node_interactivity = 'all'\n",
    "\n",
    "pd.options.display.float_format = '{:,.2f}'.format\n",
    "pd.set_option('display.max_columns', 30)\n",
    "pd.set_option('display.expand_frame_repr', False)\n",
    "pd.set_option('max_colwidth', 800)\n",
    "\n",
    "np.random.seed(666)"
   ]
  },
  {
   "cell_type": "code",
   "execution_count": 3,
   "metadata": {
    "ExecuteTime": {
     "end_time": "2021-02-17T13:09:32.418784Z",
     "start_time": "2021-02-17T13:09:32.307268Z"
    }
   },
   "outputs": [
    {
     "data": {
      "text/plain": [
       "WindowsPath('C:/Users/r2d4/OneDrive/code/projects/20-02_disco/src')"
      ]
     },
     "execution_count": 3,
     "metadata": {},
     "output_type": "execute_result"
    }
   ],
   "source": [
    "Path.cwd().parent / 'src'"
   ]
  },
  {
   "cell_type": "code",
   "execution_count": 4,
   "metadata": {
    "ExecuteTime": {
     "end_time": "2021-02-17T13:09:32.643821Z",
     "start_time": "2021-02-17T13:09:32.421303Z"
    }
   },
   "outputs": [],
   "source": [
    "sys.path.append(str(Path.cwd().parent))\n",
    "\n",
    "from src.db_declaration import (\n",
    "    Base, Artist, CreditTrx, Genre, Label, Record, RecordFormat, CreditTrx, LabelRecordLink, ArtistLabelLink\n",
    ")\n",
    "from src import db_functions\n",
    "from src import db_connect"
   ]
  },
  {
   "cell_type": "code",
   "execution_count": 5,
   "metadata": {
    "ExecuteTime": {
     "end_time": "2021-02-17T13:09:32.760803Z",
     "start_time": "2021-02-17T13:09:32.645823Z"
    }
   },
   "outputs": [
    {
     "name": "stdout",
     "output_type": "stream",
     "text": [
      "C:\\Users\\r2d4\\miniconda3\\envs\\py3\\python.exe\n",
      "3.8.3 (default, May 19 2020, 06:50:17) [MSC v.1916 64 bit (AMD64)]\n",
      "sqlalchemy 1.3.17\n"
     ]
    }
   ],
   "source": [
    "print(sys.executable)\n",
    "print(sys.version)\n",
    "print(f'sqlalchemy {sqlalchemy.__version__}')"
   ]
  },
  {
   "cell_type": "markdown",
   "metadata": {
    "ExecuteTime": {
     "end_time": "2020-12-23T06:08:49.546499Z",
     "start_time": "2020-12-23T06:08:49.412497Z"
    }
   },
   "source": [
    "## Connect To DB\n",
    "\n",
    "Because we connect from `dev`subfolder, I have to work with the sqlalchemy `create_engine` function directly."
   ]
  },
  {
   "cell_type": "code",
   "execution_count": 6,
   "metadata": {
    "ExecuteTime": {
     "end_time": "2021-02-17T13:09:32.894770Z",
     "start_time": "2021-02-17T13:09:32.763770Z"
    }
   },
   "outputs": [
    {
     "data": {
      "text/plain": [
       "<sqlalchemy.orm.session.Session at 0x1904e25d6a0>"
      ]
     },
     "execution_count": 6,
     "metadata": {},
     "output_type": "execute_result"
    }
   ],
   "source": [
    "prod_path = r\"sqlite:///C:\\Users\\r2d4\\OneDrive\\code\\projects\\20-02_disco\\db_aka_discobase\\DiscoBase.db\"\n",
    "engine = sqlalchemy.create_engine(prod_path)\n",
    "\n",
    "session = db_connect.create_session(engine)\n",
    "\n",
    "# Check\n",
    "session"
   ]
  },
  {
   "cell_type": "markdown",
   "metadata": {},
   "source": [
    "## Query DB"
   ]
  },
  {
   "cell_type": "code",
   "execution_count": 7,
   "metadata": {
    "ExecuteTime": {
     "end_time": "2021-02-17T13:09:33.059804Z",
     "start_time": "2021-02-17T13:09:32.897774Z"
    }
   },
   "outputs": [
    {
     "data": {
      "text/html": [
       "<div>\n",
       "<style scoped>\n",
       "    .dataframe tbody tr th:only-of-type {\n",
       "        vertical-align: middle;\n",
       "    }\n",
       "\n",
       "    .dataframe tbody tr th {\n",
       "        vertical-align: top;\n",
       "    }\n",
       "\n",
       "    .dataframe thead th {\n",
       "        text-align: right;\n",
       "    }\n",
       "</style>\n",
       "<table border=\"1\" class=\"dataframe\">\n",
       "  <thead>\n",
       "    <tr style=\"text-align: right;\">\n",
       "      <th></th>\n",
       "      <th>record_id</th>\n",
       "      <th>title</th>\n",
       "      <th>year</th>\n",
       "      <th>genre_id</th>\n",
       "      <th>format_id</th>\n",
       "      <th>vinyl_color</th>\n",
       "      <th>lim_edition</th>\n",
       "      <th>number</th>\n",
       "      <th>remarks</th>\n",
       "      <th>purchase_date</th>\n",
       "      <th>price</th>\n",
       "      <th>rating</th>\n",
       "      <th>is_digitized</th>\n",
       "      <th>is_active</th>\n",
       "      <th>created_at</th>\n",
       "      <th>updated_at</th>\n",
       "    </tr>\n",
       "  </thead>\n",
       "  <tbody>\n",
       "    <tr>\n",
       "      <th>303</th>\n",
       "      <td>304</td>\n",
       "      <td>Opening The Hell Gates</td>\n",
       "      <td>2021</td>\n",
       "      <td>1</td>\n",
       "      <td>3</td>\n",
       "      <td>neon green</td>\n",
       "      <td>150</td>\n",
       "      <td>None</td>\n",
       "      <td>1st vinyl issue of 2015 album</td>\n",
       "      <td>2021-01-25</td>\n",
       "      <td>25</td>\n",
       "      <td>nan</td>\n",
       "      <td>1</td>\n",
       "      <td>1</td>\n",
       "      <td>2021-02-17 09:02:38</td>\n",
       "      <td>NaT</td>\n",
       "    </tr>\n",
       "    <tr>\n",
       "      <th>304</th>\n",
       "      <td>305</td>\n",
       "      <td>Piles of Festering Decomposition</td>\n",
       "      <td>2021</td>\n",
       "      <td>1</td>\n",
       "      <td>1</td>\n",
       "      <td>purple-pink</td>\n",
       "      <td>lim</td>\n",
       "      <td>None</td>\n",
       "      <td>1st vinyl pressing of 2020 demo</td>\n",
       "      <td>2021-02-05</td>\n",
       "      <td>20</td>\n",
       "      <td>9.00</td>\n",
       "      <td>1</td>\n",
       "      <td>1</td>\n",
       "      <td>2021-02-17 09:02:38</td>\n",
       "      <td>NaT</td>\n",
       "    </tr>\n",
       "    <tr>\n",
       "      <th>305</th>\n",
       "      <td>306</td>\n",
       "      <td>Self-Immolation Suite</td>\n",
       "      <td>2021</td>\n",
       "      <td>1</td>\n",
       "      <td>1</td>\n",
       "      <td>red with black streaks</td>\n",
       "      <td>lim</td>\n",
       "      <td>None</td>\n",
       "      <td>1st vinyl pressing of 2019 / 2020 EPs</td>\n",
       "      <td>2021-02-05</td>\n",
       "      <td>20</td>\n",
       "      <td>nan</td>\n",
       "      <td>1</td>\n",
       "      <td>1</td>\n",
       "      <td>2021-02-17 09:02:38</td>\n",
       "      <td>NaT</td>\n",
       "    </tr>\n",
       "    <tr>\n",
       "      <th>306</th>\n",
       "      <td>307</td>\n",
       "      <td>Human Altar</td>\n",
       "      <td>2021</td>\n",
       "      <td>1</td>\n",
       "      <td>1</td>\n",
       "      <td>coke clear with blue swirl</td>\n",
       "      <td>lim</td>\n",
       "      <td>None</td>\n",
       "      <td>1st vinyl pressing of 2020 demo</td>\n",
       "      <td>2021-02-05</td>\n",
       "      <td>20</td>\n",
       "      <td>nan</td>\n",
       "      <td>1</td>\n",
       "      <td>1</td>\n",
       "      <td>2021-02-17 09:02:38</td>\n",
       "      <td>NaT</td>\n",
       "    </tr>\n",
       "    <tr>\n",
       "      <th>307</th>\n",
       "      <td>308</td>\n",
       "      <td>Into The Red</td>\n",
       "      <td>2020</td>\n",
       "      <td>1</td>\n",
       "      <td>3</td>\n",
       "      <td>clear with read and black and white splatter</td>\n",
       "      <td>80</td>\n",
       "      <td>None</td>\n",
       "      <td>Variant #4 out of 5 x 80 LPs</td>\n",
       "      <td>2021-02-08</td>\n",
       "      <td>25</td>\n",
       "      <td>nan</td>\n",
       "      <td>1</td>\n",
       "      <td>1</td>\n",
       "      <td>2021-02-17 09:02:38</td>\n",
       "      <td>NaT</td>\n",
       "    </tr>\n",
       "  </tbody>\n",
       "</table>\n",
       "</div>"
      ],
      "text/plain": [
       "     record_id                             title  year  genre_id  format_id                                   vinyl_color lim_edition number                                remarks purchase_date  price  rating  is_digitized  is_active          created_at updated_at\n",
       "303        304            Opening The Hell Gates  2021         1          3                                    neon green         150   None          1st vinyl issue of 2015 album    2021-01-25     25     nan             1          1 2021-02-17 09:02:38        NaT\n",
       "304        305  Piles of Festering Decomposition  2021         1          1                                   purple-pink         lim   None        1st vinyl pressing of 2020 demo    2021-02-05     20    9.00             1          1 2021-02-17 09:02:38        NaT\n",
       "305        306             Self-Immolation Suite  2021         1          1                        red with black streaks         lim   None  1st vinyl pressing of 2019 / 2020 EPs    2021-02-05     20     nan             1          1 2021-02-17 09:02:38        NaT\n",
       "306        307                       Human Altar  2021         1          1                    coke clear with blue swirl         lim   None        1st vinyl pressing of 2020 demo    2021-02-05     20     nan             1          1 2021-02-17 09:02:38        NaT\n",
       "307        308                      Into The Red  2020         1          3  clear with read and black and white splatter          80   None           Variant #4 out of 5 x 80 LPs    2021-02-08     25     nan             1          1 2021-02-17 09:02:38        NaT"
      ]
     },
     "execution_count": 7,
     "metadata": {},
     "output_type": "execute_result"
    }
   ],
   "source": [
    "pd.read_sql(\"records\", engine).tail(5)"
   ]
  },
  {
   "cell_type": "code",
   "execution_count": 8,
   "metadata": {
    "ExecuteTime": {
     "end_time": "2021-02-17T13:09:33.205801Z",
     "start_time": "2021-02-17T13:09:33.063772Z"
    }
   },
   "outputs": [
    {
     "data": {
      "text/plain": [
       "289"
      ]
     },
     "execution_count": 8,
     "metadata": {},
     "output_type": "execute_result"
    }
   ],
   "source": [
    "pd.read_sql(\"records\", engine)[\"is_active\"].sum()"
   ]
  },
  {
   "cell_type": "code",
   "execution_count": 9,
   "metadata": {
    "ExecuteTime": {
     "end_time": "2021-02-17T13:09:33.341768Z",
     "start_time": "2021-02-17T13:09:33.208804Z"
    }
   },
   "outputs": [
    {
     "data": {
      "text/plain": [
       "<bound method NDFrame.tail of      artist_id          artist_name artist_country          created_at updated_at\n",
       "0            1            Dismember             NA 2021-02-17 09:02:28        NaT\n",
       "1            2            Merciless             NA 2021-02-17 09:02:28        NaT\n",
       "2            3             Overkill             NA 2021-02-17 09:02:28        NaT\n",
       "3            4             Entombed             NA 2021-02-17 09:02:28        NaT\n",
       "4            5            Metallica             NA 2021-02-17 09:02:28        NaT\n",
       "..         ...                  ...            ...                 ...        ...\n",
       "194        195  Celestial Sanctuary        England 2021-02-17 09:02:38        NaT\n",
       "195        196      200 STAB WOUNDS            USA 2021-02-17 09:02:38        NaT\n",
       "196        197            Unurnment            USA 2021-02-17 09:02:38        NaT\n",
       "197        198           Infestment            USA 2021-02-17 09:02:38        NaT\n",
       "198        199   Heads For The Dead  International 2021-02-17 09:02:38        NaT\n",
       "\n",
       "[199 rows x 5 columns]>"
      ]
     },
     "execution_count": 9,
     "metadata": {},
     "output_type": "execute_result"
    }
   ],
   "source": [
    "pd.read_sql(\"artists\", engine).tail"
   ]
  },
  {
   "cell_type": "code",
   "execution_count": 10,
   "metadata": {
    "ExecuteTime": {
     "end_time": "2021-02-17T13:09:33.497775Z",
     "start_time": "2021-02-17T13:09:33.343772Z"
    }
   },
   "outputs": [
    {
     "data": {
      "text/html": [
       "<div>\n",
       "<style scoped>\n",
       "    .dataframe tbody tr th:only-of-type {\n",
       "        vertical-align: middle;\n",
       "    }\n",
       "\n",
       "    .dataframe tbody tr th {\n",
       "        vertical-align: top;\n",
       "    }\n",
       "\n",
       "    .dataframe thead th {\n",
       "        text-align: right;\n",
       "    }\n",
       "</style>\n",
       "<table border=\"1\" class=\"dataframe\">\n",
       "  <thead>\n",
       "    <tr style=\"text-align: right;\">\n",
       "      <th></th>\n",
       "      <th>credit_trx_id</th>\n",
       "      <th>credit_trx_date</th>\n",
       "      <th>credit_trx_type</th>\n",
       "      <th>credit_value</th>\n",
       "      <th>credit_saldo</th>\n",
       "      <th>record_id</th>\n",
       "      <th>created_at</th>\n",
       "      <th>updated_at</th>\n",
       "    </tr>\n",
       "  </thead>\n",
       "  <tbody>\n",
       "    <tr>\n",
       "      <th>307</th>\n",
       "      <td>308</td>\n",
       "      <td>2021-01-22</td>\n",
       "      <td>Remove</td>\n",
       "      <td>0.00</td>\n",
       "      <td>-4.00</td>\n",
       "      <td>123.00</td>\n",
       "      <td>2021-02-17 09:02:38</td>\n",
       "      <td>NaT</td>\n",
       "    </tr>\n",
       "    <tr>\n",
       "      <th>308</th>\n",
       "      <td>309</td>\n",
       "      <td>2021-01-22</td>\n",
       "      <td>Remove</td>\n",
       "      <td>1.00</td>\n",
       "      <td>-3.00</td>\n",
       "      <td>121.00</td>\n",
       "      <td>2021-02-17 09:02:38</td>\n",
       "      <td>NaT</td>\n",
       "    </tr>\n",
       "    <tr>\n",
       "      <th>309</th>\n",
       "      <td>310</td>\n",
       "      <td>2021-01-25</td>\n",
       "      <td>Purchase</td>\n",
       "      <td>-1.00</td>\n",
       "      <td>-4.00</td>\n",
       "      <td>303.00</td>\n",
       "      <td>2021-02-17 09:02:38</td>\n",
       "      <td>NaT</td>\n",
       "    </tr>\n",
       "    <tr>\n",
       "      <th>310</th>\n",
       "      <td>311</td>\n",
       "      <td>2021-01-25</td>\n",
       "      <td>Purchase</td>\n",
       "      <td>0.00</td>\n",
       "      <td>-4.00</td>\n",
       "      <td>304.00</td>\n",
       "      <td>2021-02-17 09:02:38</td>\n",
       "      <td>NaT</td>\n",
       "    </tr>\n",
       "    <tr>\n",
       "      <th>311</th>\n",
       "      <td>312</td>\n",
       "      <td>2021-01-29</td>\n",
       "      <td>Addition</td>\n",
       "      <td>1.00</td>\n",
       "      <td>-3.00</td>\n",
       "      <td>nan</td>\n",
       "      <td>2021-02-17 09:02:38</td>\n",
       "      <td>NaT</td>\n",
       "    </tr>\n",
       "    <tr>\n",
       "      <th>312</th>\n",
       "      <td>313</td>\n",
       "      <td>2021-02-05</td>\n",
       "      <td>Purchase</td>\n",
       "      <td>0.00</td>\n",
       "      <td>-3.00</td>\n",
       "      <td>305.00</td>\n",
       "      <td>2021-02-17 09:02:38</td>\n",
       "      <td>NaT</td>\n",
       "    </tr>\n",
       "    <tr>\n",
       "      <th>313</th>\n",
       "      <td>314</td>\n",
       "      <td>2021-02-05</td>\n",
       "      <td>Purchase</td>\n",
       "      <td>-1.00</td>\n",
       "      <td>-4.00</td>\n",
       "      <td>306.00</td>\n",
       "      <td>2021-02-17 09:02:38</td>\n",
       "      <td>NaT</td>\n",
       "    </tr>\n",
       "    <tr>\n",
       "      <th>314</th>\n",
       "      <td>315</td>\n",
       "      <td>2021-02-05</td>\n",
       "      <td>Purchase</td>\n",
       "      <td>-1.00</td>\n",
       "      <td>-5.00</td>\n",
       "      <td>307.00</td>\n",
       "      <td>2021-02-17 09:02:38</td>\n",
       "      <td>NaT</td>\n",
       "    </tr>\n",
       "    <tr>\n",
       "      <th>315</th>\n",
       "      <td>316</td>\n",
       "      <td>2021-02-08</td>\n",
       "      <td>Addition</td>\n",
       "      <td>1.00</td>\n",
       "      <td>-4.00</td>\n",
       "      <td>nan</td>\n",
       "      <td>2021-02-17 09:02:38</td>\n",
       "      <td>NaT</td>\n",
       "    </tr>\n",
       "    <tr>\n",
       "      <th>316</th>\n",
       "      <td>317</td>\n",
       "      <td>2021-02-08</td>\n",
       "      <td>Purchase</td>\n",
       "      <td>-1.00</td>\n",
       "      <td>-5.00</td>\n",
       "      <td>308.00</td>\n",
       "      <td>2021-02-17 09:02:38</td>\n",
       "      <td>NaT</td>\n",
       "    </tr>\n",
       "  </tbody>\n",
       "</table>\n",
       "</div>"
      ],
      "text/plain": [
       "     credit_trx_id credit_trx_date credit_trx_type  credit_value  credit_saldo  record_id          created_at updated_at\n",
       "307            308      2021-01-22          Remove          0.00         -4.00     123.00 2021-02-17 09:02:38        NaT\n",
       "308            309      2021-01-22          Remove          1.00         -3.00     121.00 2021-02-17 09:02:38        NaT\n",
       "309            310      2021-01-25        Purchase         -1.00         -4.00     303.00 2021-02-17 09:02:38        NaT\n",
       "310            311      2021-01-25        Purchase          0.00         -4.00     304.00 2021-02-17 09:02:38        NaT\n",
       "311            312      2021-01-29        Addition          1.00         -3.00        nan 2021-02-17 09:02:38        NaT\n",
       "312            313      2021-02-05        Purchase          0.00         -3.00     305.00 2021-02-17 09:02:38        NaT\n",
       "313            314      2021-02-05        Purchase         -1.00         -4.00     306.00 2021-02-17 09:02:38        NaT\n",
       "314            315      2021-02-05        Purchase         -1.00         -5.00     307.00 2021-02-17 09:02:38        NaT\n",
       "315            316      2021-02-08        Addition          1.00         -4.00        nan 2021-02-17 09:02:38        NaT\n",
       "316            317      2021-02-08        Purchase         -1.00         -5.00     308.00 2021-02-17 09:02:38        NaT"
      ]
     },
     "execution_count": 10,
     "metadata": {},
     "output_type": "execute_result"
    }
   ],
   "source": [
    "pd.read_sql(\"credit_trx\", engine).tail(10)"
   ]
  },
  {
   "cell_type": "code",
   "execution_count": 11,
   "metadata": {
    "ExecuteTime": {
     "end_time": "2021-02-17T13:09:33.699772Z",
     "start_time": "2021-02-17T13:09:33.500770Z"
    },
    "scrolled": false
   },
   "outputs": [
    {
     "data": {
      "text/html": [
       "<div>\n",
       "<style scoped>\n",
       "    .dataframe tbody tr th:only-of-type {\n",
       "        vertical-align: middle;\n",
       "    }\n",
       "\n",
       "    .dataframe tbody tr th {\n",
       "        vertical-align: top;\n",
       "    }\n",
       "\n",
       "    .dataframe thead th {\n",
       "        text-align: right;\n",
       "    }\n",
       "</style>\n",
       "<table border=\"1\" class=\"dataframe\">\n",
       "  <thead>\n",
       "    <tr style=\"text-align: right;\">\n",
       "      <th></th>\n",
       "      <th>record_id</th>\n",
       "      <th>label_id</th>\n",
       "    </tr>\n",
       "  </thead>\n",
       "  <tbody>\n",
       "    <tr>\n",
       "      <th>303</th>\n",
       "      <td>304</td>\n",
       "      <td>25</td>\n",
       "    </tr>\n",
       "    <tr>\n",
       "      <th>304</th>\n",
       "      <td>305</td>\n",
       "      <td>33</td>\n",
       "    </tr>\n",
       "    <tr>\n",
       "      <th>305</th>\n",
       "      <td>306</td>\n",
       "      <td>33</td>\n",
       "    </tr>\n",
       "    <tr>\n",
       "      <th>306</th>\n",
       "      <td>307</td>\n",
       "      <td>33</td>\n",
       "    </tr>\n",
       "    <tr>\n",
       "      <th>307</th>\n",
       "      <td>308</td>\n",
       "      <td>45</td>\n",
       "    </tr>\n",
       "  </tbody>\n",
       "</table>\n",
       "</div>"
      ],
      "text/plain": [
       "     record_id  label_id\n",
       "303        304        25\n",
       "304        305        33\n",
       "305        306        33\n",
       "306        307        33\n",
       "307        308        45"
      ]
     },
     "execution_count": 11,
     "metadata": {},
     "output_type": "execute_result"
    },
    {
     "data": {
      "text/html": [
       "<div>\n",
       "<style scoped>\n",
       "    .dataframe tbody tr th:only-of-type {\n",
       "        vertical-align: middle;\n",
       "    }\n",
       "\n",
       "    .dataframe tbody tr th {\n",
       "        vertical-align: top;\n",
       "    }\n",
       "\n",
       "    .dataframe thead th {\n",
       "        text-align: right;\n",
       "    }\n",
       "</style>\n",
       "<table border=\"1\" class=\"dataframe\">\n",
       "  <thead>\n",
       "    <tr style=\"text-align: right;\">\n",
       "      <th></th>\n",
       "      <th>artist_id</th>\n",
       "      <th>label_id</th>\n",
       "    </tr>\n",
       "  </thead>\n",
       "  <tbody>\n",
       "    <tr>\n",
       "      <th>208</th>\n",
       "      <td>195</td>\n",
       "      <td>44</td>\n",
       "    </tr>\n",
       "    <tr>\n",
       "      <th>209</th>\n",
       "      <td>196</td>\n",
       "      <td>33</td>\n",
       "    </tr>\n",
       "    <tr>\n",
       "      <th>210</th>\n",
       "      <td>197</td>\n",
       "      <td>33</td>\n",
       "    </tr>\n",
       "    <tr>\n",
       "      <th>211</th>\n",
       "      <td>198</td>\n",
       "      <td>33</td>\n",
       "    </tr>\n",
       "    <tr>\n",
       "      <th>212</th>\n",
       "      <td>199</td>\n",
       "      <td>45</td>\n",
       "    </tr>\n",
       "  </tbody>\n",
       "</table>\n",
       "</div>"
      ],
      "text/plain": [
       "     artist_id  label_id\n",
       "208        195        44\n",
       "209        196        33\n",
       "210        197        33\n",
       "211        198        33\n",
       "212        199        45"
      ]
     },
     "execution_count": 11,
     "metadata": {},
     "output_type": "execute_result"
    },
    {
     "data": {
      "text/html": [
       "<div>\n",
       "<style scoped>\n",
       "    .dataframe tbody tr th:only-of-type {\n",
       "        vertical-align: middle;\n",
       "    }\n",
       "\n",
       "    .dataframe tbody tr th {\n",
       "        vertical-align: top;\n",
       "    }\n",
       "\n",
       "    .dataframe thead th {\n",
       "        text-align: right;\n",
       "    }\n",
       "</style>\n",
       "<table border=\"1\" class=\"dataframe\">\n",
       "  <thead>\n",
       "    <tr style=\"text-align: right;\">\n",
       "      <th></th>\n",
       "      <th>artist_id</th>\n",
       "      <th>genre_id</th>\n",
       "    </tr>\n",
       "  </thead>\n",
       "  <tbody>\n",
       "    <tr>\n",
       "      <th>198</th>\n",
       "      <td>195</td>\n",
       "      <td>1</td>\n",
       "    </tr>\n",
       "    <tr>\n",
       "      <th>199</th>\n",
       "      <td>196</td>\n",
       "      <td>1</td>\n",
       "    </tr>\n",
       "    <tr>\n",
       "      <th>200</th>\n",
       "      <td>197</td>\n",
       "      <td>1</td>\n",
       "    </tr>\n",
       "    <tr>\n",
       "      <th>201</th>\n",
       "      <td>198</td>\n",
       "      <td>1</td>\n",
       "    </tr>\n",
       "    <tr>\n",
       "      <th>202</th>\n",
       "      <td>199</td>\n",
       "      <td>1</td>\n",
       "    </tr>\n",
       "  </tbody>\n",
       "</table>\n",
       "</div>"
      ],
      "text/plain": [
       "     artist_id  genre_id\n",
       "198        195         1\n",
       "199        196         1\n",
       "200        197         1\n",
       "201        198         1\n",
       "202        199         1"
      ]
     },
     "execution_count": 11,
     "metadata": {},
     "output_type": "execute_result"
    },
    {
     "data": {
      "text/html": [
       "<div>\n",
       "<style scoped>\n",
       "    .dataframe tbody tr th:only-of-type {\n",
       "        vertical-align: middle;\n",
       "    }\n",
       "\n",
       "    .dataframe tbody tr th {\n",
       "        vertical-align: top;\n",
       "    }\n",
       "\n",
       "    .dataframe thead th {\n",
       "        text-align: right;\n",
       "    }\n",
       "</style>\n",
       "<table border=\"1\" class=\"dataframe\">\n",
       "  <thead>\n",
       "    <tr style=\"text-align: right;\">\n",
       "      <th></th>\n",
       "      <th>genre_id</th>\n",
       "      <th>label_id</th>\n",
       "    </tr>\n",
       "  </thead>\n",
       "  <tbody>\n",
       "    <tr>\n",
       "      <th>49</th>\n",
       "      <td>5</td>\n",
       "      <td>41</td>\n",
       "    </tr>\n",
       "    <tr>\n",
       "      <th>50</th>\n",
       "      <td>1</td>\n",
       "      <td>42</td>\n",
       "    </tr>\n",
       "    <tr>\n",
       "      <th>51</th>\n",
       "      <td>1</td>\n",
       "      <td>43</td>\n",
       "    </tr>\n",
       "    <tr>\n",
       "      <th>52</th>\n",
       "      <td>1</td>\n",
       "      <td>44</td>\n",
       "    </tr>\n",
       "    <tr>\n",
       "      <th>53</th>\n",
       "      <td>1</td>\n",
       "      <td>45</td>\n",
       "    </tr>\n",
       "  </tbody>\n",
       "</table>\n",
       "</div>"
      ],
      "text/plain": [
       "    genre_id  label_id\n",
       "49         5        41\n",
       "50         1        42\n",
       "51         1        43\n",
       "52         1        44\n",
       "53         1        45"
      ]
     },
     "execution_count": 11,
     "metadata": {},
     "output_type": "execute_result"
    }
   ],
   "source": [
    "pd.read_sql(\"record_label_link\", engine).tail()\n",
    "pd.read_sql(\"artist_label_link\", engine).tail()\n",
    "pd.read_sql(\"artist_genre_link\", engine).tail()\n",
    "pd.read_sql(\"genre_label_link\", engine).tail()"
   ]
  },
  {
   "cell_type": "code",
   "execution_count": 33,
   "metadata": {
    "ExecuteTime": {
     "end_time": "2021-02-17T13:24:08.394543Z",
     "start_time": "2021-02-17T13:24:08.223212Z"
    }
   },
   "outputs": [
    {
     "data": {
      "text/html": [
       "<div>\n",
       "<style scoped>\n",
       "    .dataframe tbody tr th:only-of-type {\n",
       "        vertical-align: middle;\n",
       "    }\n",
       "\n",
       "    .dataframe tbody tr th {\n",
       "        vertical-align: top;\n",
       "    }\n",
       "\n",
       "    .dataframe thead th {\n",
       "        text-align: right;\n",
       "    }\n",
       "</style>\n",
       "<table border=\"1\" class=\"dataframe\">\n",
       "  <thead>\n",
       "    <tr style=\"text-align: right;\">\n",
       "      <th></th>\n",
       "      <th>label_id</th>\n",
       "      <th>label_name</th>\n",
       "      <th>created_at</th>\n",
       "      <th>updated_at</th>\n",
       "    </tr>\n",
       "  </thead>\n",
       "  <tbody>\n",
       "    <tr>\n",
       "      <th>14</th>\n",
       "      <td>15</td>\n",
       "      <td>20 Buck Spin</td>\n",
       "      <td>2021-02-17 09:02:35</td>\n",
       "      <td>NaT</td>\n",
       "    </tr>\n",
       "    <tr>\n",
       "      <th>22</th>\n",
       "      <td>24</td>\n",
       "      <td>6131</td>\n",
       "      <td>2021-02-17 09:02:36</td>\n",
       "      <td>2021-02-17 09:42:57</td>\n",
       "    </tr>\n",
       "    <tr>\n",
       "      <th>17</th>\n",
       "      <td>18</td>\n",
       "      <td>BBB</td>\n",
       "      <td>2021-02-17 09:02:35</td>\n",
       "      <td>2021-02-17 09:42:57</td>\n",
       "    </tr>\n",
       "    <tr>\n",
       "      <th>21</th>\n",
       "      <td>23</td>\n",
       "      <td>BDHW</td>\n",
       "      <td>2021-02-17 09:02:36</td>\n",
       "      <td>2021-02-17 09:42:57</td>\n",
       "    </tr>\n",
       "    <tr>\n",
       "      <th>18</th>\n",
       "      <td>20</td>\n",
       "      <td>Back on Black</td>\n",
       "      <td>2021-02-17 09:02:35</td>\n",
       "      <td>NaT</td>\n",
       "    </tr>\n",
       "    <tr>\n",
       "      <th>28</th>\n",
       "      <td>30</td>\n",
       "      <td>Blood Harvest</td>\n",
       "      <td>2021-02-17 09:02:36</td>\n",
       "      <td>NaT</td>\n",
       "    </tr>\n",
       "    <tr>\n",
       "      <th>15</th>\n",
       "      <td>16</td>\n",
       "      <td>Bridge 9</td>\n",
       "      <td>2021-02-17 09:02:35</td>\n",
       "      <td>2021-02-17 09:42:57</td>\n",
       "    </tr>\n",
       "    <tr>\n",
       "      <th>13</th>\n",
       "      <td>14</td>\n",
       "      <td>Carbonized</td>\n",
       "      <td>2021-02-17 09:02:35</td>\n",
       "      <td>2021-02-17 09:42:57</td>\n",
       "    </tr>\n",
       "    <tr>\n",
       "      <th>5</th>\n",
       "      <td>6</td>\n",
       "      <td>Century Media</td>\n",
       "      <td>2021-02-17 09:02:31</td>\n",
       "      <td>NaT</td>\n",
       "    </tr>\n",
       "    <tr>\n",
       "      <th>34</th>\n",
       "      <td>38</td>\n",
       "      <td>Closed Casket Activities</td>\n",
       "      <td>2021-02-17 09:02:38</td>\n",
       "      <td>NaT</td>\n",
       "    </tr>\n",
       "    <tr>\n",
       "      <th>4</th>\n",
       "      <td>5</td>\n",
       "      <td>Dark Descent</td>\n",
       "      <td>2021-02-17 09:02:31</td>\n",
       "      <td>2021-02-17 09:42:57</td>\n",
       "    </tr>\n",
       "    <tr>\n",
       "      <th>27</th>\n",
       "      <td>29</td>\n",
       "      <td>Dawnbreed</td>\n",
       "      <td>2021-02-17 09:02:36</td>\n",
       "      <td>2021-02-17 09:42:57</td>\n",
       "    </tr>\n",
       "    <tr>\n",
       "      <th>32</th>\n",
       "      <td>36</td>\n",
       "      <td>Daze</td>\n",
       "      <td>2021-02-17 09:02:37</td>\n",
       "      <td>NaT</td>\n",
       "    </tr>\n",
       "    <tr>\n",
       "      <th>16</th>\n",
       "      <td>17</td>\n",
       "      <td>Demons Run Amok Entertainment ‎</td>\n",
       "      <td>2021-02-17 09:02:35</td>\n",
       "      <td>NaT</td>\n",
       "    </tr>\n",
       "    <tr>\n",
       "      <th>2</th>\n",
       "      <td>3</td>\n",
       "      <td>FDA</td>\n",
       "      <td>2021-02-17 09:02:30</td>\n",
       "      <td>2021-02-17 09:42:57</td>\n",
       "    </tr>\n",
       "    <tr>\n",
       "      <th>9</th>\n",
       "      <td>10</td>\n",
       "      <td>Fadeless</td>\n",
       "      <td>2021-02-17 09:02:32</td>\n",
       "      <td>2021-02-17 09:42:57</td>\n",
       "    </tr>\n",
       "    <tr>\n",
       "      <th>37</th>\n",
       "      <td>41</td>\n",
       "      <td>GSR</td>\n",
       "      <td>2021-02-17 09:02:38</td>\n",
       "      <td>NaT</td>\n",
       "    </tr>\n",
       "    <tr>\n",
       "      <th>10</th>\n",
       "      <td>11</td>\n",
       "      <td>Give Praise</td>\n",
       "      <td>2021-02-17 09:02:34</td>\n",
       "      <td>2021-02-17 09:42:57</td>\n",
       "    </tr>\n",
       "    <tr>\n",
       "      <th>24</th>\n",
       "      <td>26</td>\n",
       "      <td>Hells Headbangers</td>\n",
       "      <td>2021-02-17 09:02:36</td>\n",
       "      <td>NaT</td>\n",
       "    </tr>\n",
       "    <tr>\n",
       "      <th>38</th>\n",
       "      <td>42</td>\n",
       "      <td>Injustice</td>\n",
       "      <td>2021-02-17 09:02:38</td>\n",
       "      <td>2021-02-17 09:42:57</td>\n",
       "    </tr>\n",
       "    <tr>\n",
       "      <th>33</th>\n",
       "      <td>37</td>\n",
       "      <td>Iron Lung</td>\n",
       "      <td>2021-02-17 09:02:38</td>\n",
       "      <td>2021-02-17 09:42:57</td>\n",
       "    </tr>\n",
       "    <tr>\n",
       "      <th>35</th>\n",
       "      <td>39</td>\n",
       "      <td>MLVLTD</td>\n",
       "      <td>2021-02-17 09:02:38</td>\n",
       "      <td>NaT</td>\n",
       "    </tr>\n",
       "    <tr>\n",
       "      <th>29</th>\n",
       "      <td>33</td>\n",
       "      <td>Maggot Stomp</td>\n",
       "      <td>2021-02-17 09:02:37</td>\n",
       "      <td>NaT</td>\n",
       "    </tr>\n",
       "    <tr>\n",
       "      <th>25</th>\n",
       "      <td>27</td>\n",
       "      <td>Me Saco Un Ojo</td>\n",
       "      <td>2021-02-17 09:02:36</td>\n",
       "      <td>2021-02-17 09:36:26</td>\n",
       "    </tr>\n",
       "    <tr>\n",
       "      <th>1</th>\n",
       "      <td>2</td>\n",
       "      <td>Metal Blade</td>\n",
       "      <td>2021-02-17 09:02:29</td>\n",
       "      <td>NaT</td>\n",
       "    </tr>\n",
       "    <tr>\n",
       "      <th>0</th>\n",
       "      <td>1</td>\n",
       "      <td>NA</td>\n",
       "      <td>2021-02-17 09:02:28</td>\n",
       "      <td>NaT</td>\n",
       "    </tr>\n",
       "    <tr>\n",
       "      <th>8</th>\n",
       "      <td>9</td>\n",
       "      <td>Peaceville</td>\n",
       "      <td>2021-02-17 09:02:32</td>\n",
       "      <td>NaT</td>\n",
       "    </tr>\n",
       "    <tr>\n",
       "      <th>39</th>\n",
       "      <td>43</td>\n",
       "      <td>Profound Lore</td>\n",
       "      <td>2021-02-17 09:02:38</td>\n",
       "      <td>NaT</td>\n",
       "    </tr>\n",
       "    <tr>\n",
       "      <th>19</th>\n",
       "      <td>21</td>\n",
       "      <td>Pure Noise</td>\n",
       "      <td>2021-02-17 09:02:35</td>\n",
       "      <td>2021-02-17 09:42:57</td>\n",
       "    </tr>\n",
       "    <tr>\n",
       "      <th>7</th>\n",
       "      <td>8</td>\n",
       "      <td>R/C</td>\n",
       "      <td>2021-02-17 09:02:32</td>\n",
       "      <td>2021-02-17 09:42:57</td>\n",
       "    </tr>\n",
       "    <tr>\n",
       "      <th>40</th>\n",
       "      <td>44</td>\n",
       "      <td>Redefining Darkness</td>\n",
       "      <td>2021-02-17 09:02:38</td>\n",
       "      <td>NaT</td>\n",
       "    </tr>\n",
       "    <tr>\n",
       "      <th>11</th>\n",
       "      <td>12</td>\n",
       "      <td>Relapse</td>\n",
       "      <td>2021-02-17 09:02:35</td>\n",
       "      <td>2021-02-17 09:42:57</td>\n",
       "    </tr>\n",
       "    <tr>\n",
       "      <th>6</th>\n",
       "      <td>7</td>\n",
       "      <td>Roadrunner</td>\n",
       "      <td>2021-02-17 09:02:32</td>\n",
       "      <td>2021-02-17 09:42:57</td>\n",
       "    </tr>\n",
       "    <tr>\n",
       "      <th>20</th>\n",
       "      <td>22</td>\n",
       "      <td>Safe Inside</td>\n",
       "      <td>2021-02-17 09:02:35</td>\n",
       "      <td>2021-02-17 09:42:57</td>\n",
       "    </tr>\n",
       "    <tr>\n",
       "      <th>3</th>\n",
       "      <td>4</td>\n",
       "      <td>Season Of Mist</td>\n",
       "      <td>2021-02-17 09:02:31</td>\n",
       "      <td>NaT</td>\n",
       "    </tr>\n",
       "    <tr>\n",
       "      <th>31</th>\n",
       "      <td>35</td>\n",
       "      <td>Selfmadegod</td>\n",
       "      <td>2021-02-17 09:02:37</td>\n",
       "      <td>2021-02-17 09:42:57</td>\n",
       "    </tr>\n",
       "    <tr>\n",
       "      <th>42</th>\n",
       "      <td>46</td>\n",
       "      <td>Sentient Ruin</td>\n",
       "      <td>2021-02-17 13:16:17</td>\n",
       "      <td>NaT</td>\n",
       "    </tr>\n",
       "    <tr>\n",
       "      <th>30</th>\n",
       "      <td>34</td>\n",
       "      <td>Southern Lord</td>\n",
       "      <td>2021-02-17 09:02:37</td>\n",
       "      <td>NaT</td>\n",
       "    </tr>\n",
       "    <tr>\n",
       "      <th>12</th>\n",
       "      <td>13</td>\n",
       "      <td>Tankcrimes</td>\n",
       "      <td>2021-02-17 09:02:35</td>\n",
       "      <td>NaT</td>\n",
       "    </tr>\n",
       "    <tr>\n",
       "      <th>26</th>\n",
       "      <td>28</td>\n",
       "      <td>Terror From Hell</td>\n",
       "      <td>2021-02-17 09:02:36</td>\n",
       "      <td>2021-02-17 09:42:57</td>\n",
       "    </tr>\n",
       "    <tr>\n",
       "      <th>36</th>\n",
       "      <td>40</td>\n",
       "      <td>Testimony</td>\n",
       "      <td>2021-02-17 09:02:38</td>\n",
       "      <td>2021-02-17 09:42:57</td>\n",
       "    </tr>\n",
       "    <tr>\n",
       "      <th>23</th>\n",
       "      <td>25</td>\n",
       "      <td>Time To Kill</td>\n",
       "      <td>2021-02-17 09:02:36</td>\n",
       "      <td>NaT</td>\n",
       "    </tr>\n",
       "    <tr>\n",
       "      <th>41</th>\n",
       "      <td>45</td>\n",
       "      <td>Transcendenting Obscurity</td>\n",
       "      <td>2021-02-17 09:02:38</td>\n",
       "      <td>NaT</td>\n",
       "    </tr>\n",
       "  </tbody>\n",
       "</table>\n",
       "</div>"
      ],
      "text/plain": [
       "    label_id                       label_name          created_at          updated_at\n",
       "14        15                     20 Buck Spin 2021-02-17 09:02:35                 NaT\n",
       "22        24                             6131 2021-02-17 09:02:36 2021-02-17 09:42:57\n",
       "17        18                              BBB 2021-02-17 09:02:35 2021-02-17 09:42:57\n",
       "21        23                             BDHW 2021-02-17 09:02:36 2021-02-17 09:42:57\n",
       "18        20                    Back on Black 2021-02-17 09:02:35                 NaT\n",
       "28        30                    Blood Harvest 2021-02-17 09:02:36                 NaT\n",
       "15        16                         Bridge 9 2021-02-17 09:02:35 2021-02-17 09:42:57\n",
       "13        14                       Carbonized 2021-02-17 09:02:35 2021-02-17 09:42:57\n",
       "5          6                    Century Media 2021-02-17 09:02:31                 NaT\n",
       "34        38         Closed Casket Activities 2021-02-17 09:02:38                 NaT\n",
       "4          5                     Dark Descent 2021-02-17 09:02:31 2021-02-17 09:42:57\n",
       "27        29                        Dawnbreed 2021-02-17 09:02:36 2021-02-17 09:42:57\n",
       "32        36                             Daze 2021-02-17 09:02:37                 NaT\n",
       "16        17  Demons Run Amok Entertainment ‎ 2021-02-17 09:02:35                 NaT\n",
       "2          3                              FDA 2021-02-17 09:02:30 2021-02-17 09:42:57\n",
       "9         10                         Fadeless 2021-02-17 09:02:32 2021-02-17 09:42:57\n",
       "37        41                              GSR 2021-02-17 09:02:38                 NaT\n",
       "10        11                      Give Praise 2021-02-17 09:02:34 2021-02-17 09:42:57\n",
       "24        26                Hells Headbangers 2021-02-17 09:02:36                 NaT\n",
       "38        42                        Injustice 2021-02-17 09:02:38 2021-02-17 09:42:57\n",
       "33        37                        Iron Lung 2021-02-17 09:02:38 2021-02-17 09:42:57\n",
       "35        39                           MLVLTD 2021-02-17 09:02:38                 NaT\n",
       "29        33                     Maggot Stomp 2021-02-17 09:02:37                 NaT\n",
       "25        27                   Me Saco Un Ojo 2021-02-17 09:02:36 2021-02-17 09:36:26\n",
       "1          2                      Metal Blade 2021-02-17 09:02:29                 NaT\n",
       "0          1                               NA 2021-02-17 09:02:28                 NaT\n",
       "8          9                       Peaceville 2021-02-17 09:02:32                 NaT\n",
       "39        43                    Profound Lore 2021-02-17 09:02:38                 NaT\n",
       "19        21                       Pure Noise 2021-02-17 09:02:35 2021-02-17 09:42:57\n",
       "7          8                              R/C 2021-02-17 09:02:32 2021-02-17 09:42:57\n",
       "40        44              Redefining Darkness 2021-02-17 09:02:38                 NaT\n",
       "11        12                          Relapse 2021-02-17 09:02:35 2021-02-17 09:42:57\n",
       "6          7                       Roadrunner 2021-02-17 09:02:32 2021-02-17 09:42:57\n",
       "20        22                      Safe Inside 2021-02-17 09:02:35 2021-02-17 09:42:57\n",
       "3          4                   Season Of Mist 2021-02-17 09:02:31                 NaT\n",
       "31        35                      Selfmadegod 2021-02-17 09:02:37 2021-02-17 09:42:57\n",
       "42        46                    Sentient Ruin 2021-02-17 13:16:17                 NaT\n",
       "30        34                    Southern Lord 2021-02-17 09:02:37                 NaT\n",
       "12        13                       Tankcrimes 2021-02-17 09:02:35                 NaT\n",
       "26        28                 Terror From Hell 2021-02-17 09:02:36 2021-02-17 09:42:57\n",
       "36        40                        Testimony 2021-02-17 09:02:38 2021-02-17 09:42:57\n",
       "23        25                    Time To Kill  2021-02-17 09:02:36                 NaT\n",
       "41        45        Transcendenting Obscurity 2021-02-17 09:02:38                 NaT"
      ]
     },
     "execution_count": 33,
     "metadata": {},
     "output_type": "execute_result"
    }
   ],
   "source": [
    "pd.read_sql(\"labels\", engine).sort_values(\"label_name\")"
   ]
  },
  {
   "cell_type": "code",
   "execution_count": 14,
   "metadata": {
    "ExecuteTime": {
     "end_time": "2021-02-17T13:10:35.721528Z",
     "start_time": "2021-02-17T13:10:35.581211Z"
    }
   },
   "outputs": [
    {
     "name": "stdout",
     "output_type": "stream",
     "text": [
      "<Record(record_id=11, title=Uprising, artist=[<Artist(artist_id=4, artist_name=Entombed)>])> 2013-07-01\n",
      "<Record(record_id=12, title=Morning Star, artist=[<Artist(artist_id=4, artist_name=Entombed)>])> 2013-07-01\n",
      "<Record(record_id=23, title=Wolverine Blues, artist=[<Artist(artist_id=4, artist_name=Entombed)>])> 2014-01-01\n",
      "<Record(record_id=36, title=Clandestine, artist=[<Artist(artist_id=4, artist_name=Entombed)>])> 2015-08-01\n",
      "<Record(record_id=40, title=Left Hand Path, artist=[<Artist(artist_id=4, artist_name=Entombed)>])> 2015-10-01\n"
     ]
    },
    {
     "name": "stderr",
     "output_type": "stream",
     "text": [
      "C:\\Users\\r2d4\\miniconda3\\envs\\py3\\lib\\site-packages\\sqlalchemy\\sql\\sqltypes.py:660: SAWarning: Dialect sqlite+pysqlite does *not* support Decimal objects natively, and SQLAlchemy must convert from floating point - rounding errors and other issues may occur. Please consider storing Decimal numbers as strings or integers on this platform for lossless storage.\n",
      "  util.warn(\n"
     ]
    }
   ],
   "source": [
    "result = session.query(Record).filter(Record.artists.any(Artist.artist_name == \"Entombed\")).all()\n",
    "for record in result:\n",
    "    print(record, record.purchase_date)"
   ]
  },
  {
   "cell_type": "code",
   "execution_count": 15,
   "metadata": {
    "ExecuteTime": {
     "end_time": "2021-02-17T13:10:47.895585Z",
     "start_time": "2021-02-17T13:10:47.763585Z"
    }
   },
   "outputs": [
    {
     "name": "stdout",
     "output_type": "stream",
     "text": [
      "NA\n"
     ]
    }
   ],
   "source": [
    "result = session.query(Artist).filter(Artist.artist_name == \"Entombed\").one()\n",
    "print(result.artist_country)"
   ]
  },
  {
   "cell_type": "code",
   "execution_count": 16,
   "metadata": {
    "ExecuteTime": {
     "end_time": "2021-02-17T13:10:48.732588Z",
     "start_time": "2021-02-17T13:10:48.547586Z"
    }
   },
   "outputs": [
    {
     "data": {
      "text/html": [
       "<div>\n",
       "<style scoped>\n",
       "    .dataframe tbody tr th:only-of-type {\n",
       "        vertical-align: middle;\n",
       "    }\n",
       "\n",
       "    .dataframe tbody tr th {\n",
       "        vertical-align: top;\n",
       "    }\n",
       "\n",
       "    .dataframe thead th {\n",
       "        text-align: right;\n",
       "    }\n",
       "</style>\n",
       "<table border=\"1\" class=\"dataframe\">\n",
       "  <thead>\n",
       "    <tr style=\"text-align: right;\">\n",
       "      <th></th>\n",
       "      <th>format_id</th>\n",
       "      <th>format_name</th>\n",
       "      <th>created_at</th>\n",
       "      <th>updated_at</th>\n",
       "    </tr>\n",
       "  </thead>\n",
       "  <tbody>\n",
       "    <tr>\n",
       "      <th>0</th>\n",
       "      <td>1</td>\n",
       "      <td>12\"</td>\n",
       "      <td>2021-02-17 09:02:28</td>\n",
       "      <td>NaT</td>\n",
       "    </tr>\n",
       "    <tr>\n",
       "      <th>1</th>\n",
       "      <td>2</td>\n",
       "      <td>7\" Pic</td>\n",
       "      <td>2021-02-17 09:02:28</td>\n",
       "      <td>NaT</td>\n",
       "    </tr>\n",
       "    <tr>\n",
       "      <th>2</th>\n",
       "      <td>3</td>\n",
       "      <td>LP</td>\n",
       "      <td>2021-02-17 09:02:28</td>\n",
       "      <td>NaT</td>\n",
       "    </tr>\n",
       "    <tr>\n",
       "      <th>3</th>\n",
       "      <td>4</td>\n",
       "      <td>2LP</td>\n",
       "      <td>2021-02-17 09:02:28</td>\n",
       "      <td>NaT</td>\n",
       "    </tr>\n",
       "    <tr>\n",
       "      <th>4</th>\n",
       "      <td>5</td>\n",
       "      <td>10\"</td>\n",
       "      <td>2021-02-17 09:02:28</td>\n",
       "      <td>NaT</td>\n",
       "    </tr>\n",
       "    <tr>\n",
       "      <th>5</th>\n",
       "      <td>6</td>\n",
       "      <td>7\"</td>\n",
       "      <td>2021-02-17 09:02:28</td>\n",
       "      <td>NaT</td>\n",
       "    </tr>\n",
       "    <tr>\n",
       "      <th>6</th>\n",
       "      <td>7</td>\n",
       "      <td>MLP</td>\n",
       "      <td>2021-02-17 09:02:29</td>\n",
       "      <td>NaT</td>\n",
       "    </tr>\n",
       "    <tr>\n",
       "      <th>7</th>\n",
       "      <td>8</td>\n",
       "      <td>2xLP</td>\n",
       "      <td>2021-02-17 09:02:30</td>\n",
       "      <td>NaT</td>\n",
       "    </tr>\n",
       "    <tr>\n",
       "      <th>8</th>\n",
       "      <td>9</td>\n",
       "      <td>LP</td>\n",
       "      <td>2021-02-17 09:02:33</td>\n",
       "      <td>NaT</td>\n",
       "    </tr>\n",
       "    <tr>\n",
       "      <th>9</th>\n",
       "      <td>10</td>\n",
       "      <td>Pic-LP</td>\n",
       "      <td>2021-02-17 09:02:34</td>\n",
       "      <td>NaT</td>\n",
       "    </tr>\n",
       "  </tbody>\n",
       "</table>\n",
       "</div>"
      ],
      "text/plain": [
       "   format_id format_name          created_at updated_at\n",
       "0          1         12\" 2021-02-17 09:02:28        NaT\n",
       "1          2      7\" Pic 2021-02-17 09:02:28        NaT\n",
       "2          3          LP 2021-02-17 09:02:28        NaT\n",
       "3          4         2LP 2021-02-17 09:02:28        NaT\n",
       "4          5         10\" 2021-02-17 09:02:28        NaT\n",
       "5          6          7\" 2021-02-17 09:02:28        NaT\n",
       "6          7         MLP 2021-02-17 09:02:29        NaT\n",
       "7          8        2xLP 2021-02-17 09:02:30        NaT\n",
       "8          9         LP  2021-02-17 09:02:33        NaT\n",
       "9         10      Pic-LP 2021-02-17 09:02:34        NaT"
      ]
     },
     "execution_count": 16,
     "metadata": {},
     "output_type": "execute_result"
    }
   ],
   "source": [
    "pd.read_sql(\"formats\", engine)"
   ]
  },
  {
   "cell_type": "markdown",
   "metadata": {},
   "source": [
    "## Delete A Record (Temporary Section)"
   ]
  },
  {
   "cell_type": "code",
   "execution_count": null,
   "metadata": {
    "ExecuteTime": {
     "end_time": "2021-02-17T13:09:34.492769Z",
     "start_time": "2021-02-17T13:09:30.970Z"
    }
   },
   "outputs": [],
   "source": [
    "# removal = {\n",
    "#     \"trx_type\": \"Removal\",\n",
    "#     \"credit_value\": 0,\n",
    "#     \"artist\": \"Furia\",\n",
    "#     \"title\": \"Marzannie, Królowej Polski\",\n",
    "#     \"year\": 2012,\n",
    "#     \"date\": dt.datetime.today().date()\n",
    "# }"
   ]
  },
  {
   "cell_type": "code",
   "execution_count": null,
   "metadata": {
    "ExecuteTime": {
     "end_time": "2021-02-17T13:09:34.494770Z",
     "start_time": "2021-02-17T13:09:30.973Z"
    }
   },
   "outputs": [],
   "source": [
    "# db_functions.set_record_to_inactive(session, removal)"
   ]
  },
  {
   "cell_type": "code",
   "execution_count": null,
   "metadata": {
    "ExecuteTime": {
     "end_time": "2021-02-17T13:09:34.497768Z",
     "start_time": "2021-02-17T13:09:30.976Z"
    }
   },
   "outputs": [],
   "source": [
    "# pd.read_sql(\"credit_trx\", engine).tail()"
   ]
  },
  {
   "cell_type": "code",
   "execution_count": null,
   "metadata": {
    "ExecuteTime": {
     "end_time": "2021-02-17T13:09:34.500769Z",
     "start_time": "2021-02-17T13:09:30.981Z"
    }
   },
   "outputs": [],
   "source": [
    "# to_delete = session.query(CreditTrx).filter(CreditTrx.credit_trx_id == 301).one()\n",
    "# session.delete(to_delete)\n",
    "# session.commit()"
   ]
  },
  {
   "cell_type": "markdown",
   "metadata": {},
   "source": [
    "## Backfill Missing Record-Format-Relations in Records Table (Done)"
   ]
  },
  {
   "cell_type": "code",
   "execution_count": null,
   "metadata": {
    "ExecuteTime": {
     "end_time": "2021-02-17T13:09:34.502768Z",
     "start_time": "2021-02-17T13:09:30.986Z"
    }
   },
   "outputs": [],
   "source": [
    "# def load_albums_from_xlsx(\n",
    "#     filepath: Union[Path, str], genres: Optional[List] = None\n",
    "# ) -> pd.DataFrame:\n",
    "#     \"\"\"Load the original album collection file into a dataframe.\n",
    "#     You can specify a list of genres you want to include\n",
    "#     (defaults to None).\n",
    "#     \"\"\"\n",
    "#     df = pd.read_excel(filepath, engine=\"openpyxl\")\n",
    "#     if genres:\n",
    "#         df = df[df[\"Genre\"].isin(genres)]\n",
    "#     return df"
   ]
  },
  {
   "cell_type": "code",
   "execution_count": null,
   "metadata": {
    "ExecuteTime": {
     "end_time": "2021-02-17T13:09:34.504769Z",
     "start_time": "2021-02-17T13:09:30.989Z"
    }
   },
   "outputs": [],
   "source": [
    "# CONFIG_PATH = Path.cwd().parent / \"config.cfg\"\n",
    "# path_to_collection = utils.read_config_return_str(CONFIG_PATH, \"COLLECTION\")\n",
    "# collection_df = load_albums_from_xlsx(path_to_collection)\n",
    "# collection_df = clean.prettify_column_names(collection_df)\n",
    "# collection_df.dropna(thresh=8, inplace=True)\n",
    "# collection_df.rename(columns={\"format\": \"record_format\"}, inplace=True)\n",
    "# # collection_df[\"purchase_date\"] = collection_df[\"purchase_date\"].dt.date.astype(str)\n",
    "# # collection_df[\"number\"] = collection_df[\"number\"].astype(str)\n",
    "# # collection_df[\"digitized\"] = collection_df[\"digitized\"].map({True: 1, False: 0}).astype(int)\n",
    "# collection_df[\"label\"].fillna(\"NA\", inplace=True)  # because it creates a foreign key\n",
    "\n",
    "# # This is for the initial ingestion only\n",
    "# collection_df[\"artist_country\"] = None\n",
    "# collection_df[\"credit_value\"] = 0\n",
    "# collection_df[\"trx_type\"] = \"Initial Load\"\n",
    "\n",
    "# assert len(collection_df) == 293"
   ]
  },
  {
   "cell_type": "code",
   "execution_count": null,
   "metadata": {
    "ExecuteTime": {
     "end_time": "2021-02-17T13:09:34.506769Z",
     "start_time": "2021-02-17T13:09:30.992Z"
    }
   },
   "outputs": [],
   "source": [
    "# # backfill\n",
    "\n",
    "# for rec in collection_df.itertuples():\n",
    "#     record = db_functions.fetch_a_record_from_the_shelf(session, rec.artist, rec.title)\n",
    "#     r_format = rec.record_format\n",
    "    \n",
    "#     # Check if the format already exists or has to be created\n",
    "#     record_format = (\n",
    "#         session.query(RecordFormat)\n",
    "#         .filter(RecordFormat.format_name.ilike(r_format))\n",
    "#         .one_or_none()\n",
    "#     )\n",
    "#     if record_format is None:\n",
    "#         record_format = RecordFormat(format_name=r_format)\n",
    "#         session.add(record_format)\n",
    "    \n",
    "#     record.record_format = record_format\n",
    "\n",
    "# session.commit()"
   ]
  },
  {
   "cell_type": "code",
   "execution_count": null,
   "metadata": {
    "ExecuteTime": {
     "end_time": "2021-02-17T13:09:34.507769Z",
     "start_time": "2021-02-17T13:09:30.995Z"
    }
   },
   "outputs": [],
   "source": [
    "# # Manual Update\n",
    "\n",
    "# record = session.query(Record).filter(Record.record_id == 295).one()\n",
    "# r_format = '12\"'\n",
    "\n",
    "# # Check if the format already exists or has to be created\n",
    "# record_format = (\n",
    "#     session.query(RecordFormat)\n",
    "#     .filter(RecordFormat.format_name.ilike(r_format))\n",
    "#     .one_or_none()\n",
    "# )\n",
    "# if record_format is None:\n",
    "#     record_format = RecordFormat(format_name=r_format)\n",
    "#     session.add(record_format)\n",
    "\n",
    "# record.record_format = record_format\n",
    "\n",
    "# session.commit()"
   ]
  },
  {
   "cell_type": "markdown",
   "metadata": {},
   "source": [
    "## Manual Updates\n",
    "\n",
    "### Credit Trx"
   ]
  },
  {
   "cell_type": "code",
   "execution_count": null,
   "metadata": {
    "ExecuteTime": {
     "end_time": "2021-02-17T13:09:34.509770Z",
     "start_time": "2021-02-17T13:09:30.998Z"
    }
   },
   "outputs": [],
   "source": [
    "# result = session.query(CreditTrx).filter(CreditTrx.credit_trx_type == \"Removal\").all()\n",
    "# for r in result:\n",
    "#     r.credit_trx_type = \"Remove\"\n",
    "#     print(r)"
   ]
  },
  {
   "cell_type": "code",
   "execution_count": null,
   "metadata": {
    "ExecuteTime": {
     "end_time": "2021-02-17T13:09:34.511770Z",
     "start_time": "2021-02-17T13:09:31.000Z"
    }
   },
   "outputs": [],
   "source": [
    "# r = session.query(Artist).filter(Artist.artist_name == \"CELESTIAL SANCTUARY\").one()\n",
    "# r.artist_name = \"Celestial Sanctuary\""
   ]
  },
  {
   "cell_type": "code",
   "execution_count": null,
   "metadata": {
    "ExecuteTime": {
     "end_time": "2021-02-17T13:09:34.513768Z",
     "start_time": "2021-02-17T13:09:31.003Z"
    }
   },
   "outputs": [],
   "source": [
    "# session.commit()"
   ]
  },
  {
   "cell_type": "markdown",
   "metadata": {},
   "source": [
    "### Remove \"Records\" From Label-Names And Split Labels"
   ]
  },
  {
   "cell_type": "code",
   "execution_count": null,
   "metadata": {
    "ExecuteTime": {
     "end_time": "2021-02-17T13:09:34.515771Z",
     "start_time": "2021-02-17T13:09:31.006Z"
    }
   },
   "outputs": [],
   "source": [
    "# result = session.query(Label).filter(Label.label_name.like('% Records')).all()\n",
    "# for x in result:\n",
    "#     x.label_name = x.label_name.rpartition(\" Records\")[0]\n",
    "# session.commit()"
   ]
  },
  {
   "cell_type": "code",
   "execution_count": null,
   "metadata": {
    "ExecuteTime": {
     "end_time": "2021-02-17T13:09:34.519769Z",
     "start_time": "2021-02-17T13:09:31.008Z"
    }
   },
   "outputs": [],
   "source": [
    "# session.query(Label).get(42)"
   ]
  },
  {
   "cell_type": "code",
   "execution_count": 17,
   "metadata": {
    "ExecuteTime": {
     "end_time": "2021-02-17T13:11:20.829405Z",
     "start_time": "2021-02-17T13:11:20.683408Z"
    }
   },
   "outputs": [
    {
     "name": "stdout",
     "output_type": "stream",
     "text": [
      "<Label(label_id=19, label_name=Dawnbreed / Sentient Ruin)>\n",
      "<Label(label_id=31, label_name=Me Saco Un Ojo Records / Profound Lore)>\n",
      "<Label(label_id=32, label_name=Me Saco Un Ojo Records / Maggot Stomp)>\n"
     ]
    }
   ],
   "source": [
    "# result = session.query(Label).filter(Label.label_name.contains(' / ')).all()\n",
    "# for x in result:\n",
    "#     print(x)"
   ]
  },
  {
   "cell_type": "code",
   "execution_count": 21,
   "metadata": {
    "ExecuteTime": {
     "end_time": "2021-02-17T13:14:05.031153Z",
     "start_time": "2021-02-17T13:14:04.891608Z"
    }
   },
   "outputs": [
    {
     "name": "stdout",
     "output_type": "stream",
     "text": [
      "<Record(record_id=225, title=Hollow of The Void, artist=[<Artist(artist_id=137, artist_name=Petrification)>])>\n",
      "<Record(record_id=256, title=Charnel Passages, artist=[<Artist(artist_id=160, artist_name=Cruciamentum)>])>\n",
      "<Record(record_id=257, title=Forms Of Unreasoning Fear, artist=[<Artist(artist_id=161, artist_name=Mortal Wound)>])>\n"
     ]
    }
   ],
   "source": [
    "# result = session.query(Record).filter(Record.labels.any(Label.label_id.in_([19, 31, 32])))\n",
    "# for x in result:\n",
    "#     print(x)"
   ]
  },
  {
   "cell_type": "code",
   "execution_count": 30,
   "metadata": {
    "ExecuteTime": {
     "end_time": "2021-02-17T13:23:29.328019Z",
     "start_time": "2021-02-17T13:23:29.189036Z"
    }
   },
   "outputs": [],
   "source": [
    "# jack = session.query(Label).filter(Label.label_id.in_([19, 31, 32])).all()\n",
    "# for x in jack:\n",
    "#     print(x)\n",
    "#     session.delete(x)\n",
    "# session.commit()"
   ]
  },
  {
   "cell_type": "code",
   "execution_count": 35,
   "metadata": {
    "ExecuteTime": {
     "end_time": "2021-02-17T13:24:25.457848Z",
     "start_time": "2021-02-17T13:24:25.302624Z"
    }
   },
   "outputs": [],
   "source": [
    "# session.close()"
   ]
  }
 ],
 "metadata": {
  "hide_input": false,
  "kernelspec": {
   "display_name": "Python 3",
   "language": "python",
   "name": "python3"
  },
  "language_info": {
   "codemirror_mode": {
    "name": "ipython",
    "version": 3
   },
   "file_extension": ".py",
   "mimetype": "text/x-python",
   "name": "python",
   "nbconvert_exporter": "python",
   "pygments_lexer": "ipython3",
   "version": "3.8.3"
  },
  "toc": {
   "base_numbering": 1,
   "nav_menu": {},
   "number_sections": true,
   "sideBar": false,
   "skip_h1_title": true,
   "title_cell": "Table of Contents",
   "title_sidebar": "Contents",
   "toc_cell": false,
   "toc_position": {},
   "toc_section_display": true,
   "toc_window_display": false
  }
 },
 "nbformat": 4,
 "nbformat_minor": 4
}
