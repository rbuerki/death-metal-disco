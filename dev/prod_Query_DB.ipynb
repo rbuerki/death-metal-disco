{
 "cells": [
  {
   "cell_type": "code",
   "execution_count": 1,
   "metadata": {
    "ExecuteTime": {
     "end_time": "2021-05-08T20:58:21.681317Z",
     "start_time": "2021-05-08T20:58:17.910540Z"
    }
   },
   "outputs": [],
   "source": [
    "import configparser\n",
    "import datetime as dt\n",
    "import sys\n",
    "import collections\n",
    "from pathlib import Path\n",
    "from typing import Union, Optional, List, Tuple\n",
    "\n",
    "import codebook.EDA as EDA\n",
    "import codebook.clean as clean\n",
    "import numpy as np\n",
    "import pandas as pd\n",
    "import matplotlib.pyplot as plt\n",
    "import seaborn as sns\n",
    "import sqlalchemy"
   ]
  },
  {
   "cell_type": "code",
   "execution_count": 2,
   "metadata": {
    "ExecuteTime": {
     "end_time": "2021-05-08T20:58:21.840442Z",
     "start_time": "2021-05-08T20:58:21.681317Z"
    }
   },
   "outputs": [],
   "source": [
    "%load_ext autoreload\n",
    "%autoreload 2\n",
    "\n",
    "%matplotlib inline\n",
    "plt.style.use('raph-base')\n",
    "\n",
    "from IPython.core.interactiveshell import InteractiveShell\n",
    "InteractiveShell.ast_node_interactivity = 'all'\n",
    "\n",
    "pd.options.display.float_format = '{:,.2f}'.format\n",
    "pd.set_option('display.max_columns', 30)\n",
    "pd.set_option('display.expand_frame_repr', False)\n",
    "pd.set_option('max_colwidth', 800)\n",
    "\n",
    "np.random.seed(666)"
   ]
  },
  {
   "cell_type": "code",
   "execution_count": 3,
   "metadata": {
    "ExecuteTime": {
     "end_time": "2021-05-08T20:58:21.984442Z",
     "start_time": "2021-05-08T20:58:21.843448Z"
    }
   },
   "outputs": [
    {
     "data": {
      "text/plain": [
       "WindowsPath('C:/Users/r2d4/OneDrive/code/projects/20-02_disco/src')"
      ]
     },
     "execution_count": 3,
     "metadata": {},
     "output_type": "execute_result"
    }
   ],
   "source": [
    "Path.cwd().parent / 'src'"
   ]
  },
  {
   "cell_type": "code",
   "execution_count": 4,
   "metadata": {
    "ExecuteTime": {
     "end_time": "2021-05-08T20:58:22.252444Z",
     "start_time": "2021-05-08T20:58:21.987449Z"
    }
   },
   "outputs": [],
   "source": [
    "sys.path.append(str(Path.cwd().parent))\n",
    "\n",
    "from src.db_declaration import (\n",
    "    Base, Artist, CreditTrx, Genre, Label, Record, RecordFormat, CreditTrx, LabelRecordLink, ArtistLabelLink\n",
    ")\n",
    "from src import db_functions\n",
    "from src import db_connect"
   ]
  },
  {
   "cell_type": "code",
   "execution_count": 5,
   "metadata": {
    "ExecuteTime": {
     "end_time": "2021-05-08T20:58:22.378478Z",
     "start_time": "2021-05-08T20:58:22.255446Z"
    }
   },
   "outputs": [
    {
     "name": "stdout",
     "output_type": "stream",
     "text": [
      "C:\\Users\\r2d4\\miniconda3\\envs\\py3\\python.exe\n",
      "3.8.3 (default, May 19 2020, 06:50:17) [MSC v.1916 64 bit (AMD64)]\n",
      "sqlalchemy 1.3.17\n"
     ]
    }
   ],
   "source": [
    "print(sys.executable)\n",
    "print(sys.version)\n",
    "print(f'sqlalchemy {sqlalchemy.__version__}')"
   ]
  },
  {
   "cell_type": "markdown",
   "metadata": {
    "ExecuteTime": {
     "end_time": "2020-12-23T06:08:49.546499Z",
     "start_time": "2020-12-23T06:08:49.412497Z"
    }
   },
   "source": [
    "## Connect To DB\n",
    "\n",
    "Because we connect from `dev`subfolder, I have to work with the sqlalchemy `create_engine` function directly."
   ]
  },
  {
   "cell_type": "code",
   "execution_count": 6,
   "metadata": {
    "ExecuteTime": {
     "end_time": "2021-05-08T20:58:22.520448Z",
     "start_time": "2021-05-08T20:58:22.381447Z"
    }
   },
   "outputs": [
    {
     "data": {
      "text/plain": [
       "<sqlalchemy.orm.session.Session at 0x1eee7b529a0>"
      ]
     },
     "execution_count": 6,
     "metadata": {},
     "output_type": "execute_result"
    }
   ],
   "source": [
    "# session.close()\n",
    "prod_path = r\"sqlite:///C:\\Users\\r2d4\\OneDrive\\code\\projects\\20-02_disco\\db_aka_discobase\\DiscoBase.db\"\n",
    "engine = sqlalchemy.create_engine(prod_path)\n",
    "\n",
    "session = db_connect.create_session(engine)\n",
    "\n",
    "# Check\n",
    "session"
   ]
  },
  {
   "cell_type": "markdown",
   "metadata": {},
   "source": [
    "## Query DB"
   ]
  },
  {
   "cell_type": "code",
   "execution_count": 7,
   "metadata": {
    "ExecuteTime": {
     "end_time": "2021-05-08T20:58:22.726446Z",
     "start_time": "2021-05-08T20:58:22.523449Z"
    }
   },
   "outputs": [
    {
     "data": {
      "text/html": [
       "<div>\n",
       "<style scoped>\n",
       "    .dataframe tbody tr th:only-of-type {\n",
       "        vertical-align: middle;\n",
       "    }\n",
       "\n",
       "    .dataframe tbody tr th {\n",
       "        vertical-align: top;\n",
       "    }\n",
       "\n",
       "    .dataframe thead th {\n",
       "        text-align: right;\n",
       "    }\n",
       "</style>\n",
       "<table border=\"1\" class=\"dataframe\">\n",
       "  <thead>\n",
       "    <tr style=\"text-align: right;\">\n",
       "      <th></th>\n",
       "      <th>record_id</th>\n",
       "      <th>title</th>\n",
       "      <th>year</th>\n",
       "      <th>genre_id</th>\n",
       "      <th>format_id</th>\n",
       "      <th>vinyl_color</th>\n",
       "      <th>lim_edition</th>\n",
       "      <th>number</th>\n",
       "      <th>remarks</th>\n",
       "      <th>purchase_date</th>\n",
       "      <th>price</th>\n",
       "      <th>rating</th>\n",
       "      <th>is_digitized</th>\n",
       "      <th>is_active</th>\n",
       "      <th>created_at</th>\n",
       "      <th>updated_at</th>\n",
       "    </tr>\n",
       "  </thead>\n",
       "  <tbody>\n",
       "    <tr>\n",
       "      <th>325</th>\n",
       "      <td>326</td>\n",
       "      <td>Septic Decadence</td>\n",
       "      <td>2021</td>\n",
       "      <td>1</td>\n",
       "      <td>6</td>\n",
       "      <td>yellow with red splatter</td>\n",
       "      <td>None</td>\n",
       "      <td>None</td>\n",
       "      <td>2nd press of 2020 record</td>\n",
       "      <td>2021-04-11</td>\n",
       "      <td>10</td>\n",
       "      <td>nan</td>\n",
       "      <td>1</td>\n",
       "      <td>1</td>\n",
       "      <td>2021-04-13 15:19:56</td>\n",
       "      <td>2021-05-05 19:24:25</td>\n",
       "    </tr>\n",
       "    <tr>\n",
       "      <th>326</th>\n",
       "      <td>327</td>\n",
       "      <td>The Delta Death Sirens</td>\n",
       "      <td>2021</td>\n",
       "      <td>1</td>\n",
       "      <td>1</td>\n",
       "      <td>swamp green</td>\n",
       "      <td>300</td>\n",
       "      <td>None</td>\n",
       "      <td>None</td>\n",
       "      <td>2021-04-29</td>\n",
       "      <td>15</td>\n",
       "      <td>nan</td>\n",
       "      <td>1</td>\n",
       "      <td>1</td>\n",
       "      <td>2021-04-29 19:31:38</td>\n",
       "      <td>NaT</td>\n",
       "    </tr>\n",
       "    <tr>\n",
       "      <th>327</th>\n",
       "      <td>328</td>\n",
       "      <td>Split</td>\n",
       "      <td>2021</td>\n",
       "      <td>1</td>\n",
       "      <td>3</td>\n",
       "      <td>ultra-clear with electric blue &amp; green glow-in-the-dark splatter</td>\n",
       "      <td>150</td>\n",
       "      <td>None</td>\n",
       "      <td>None</td>\n",
       "      <td>2021-04-27</td>\n",
       "      <td>20</td>\n",
       "      <td>nan</td>\n",
       "      <td>0</td>\n",
       "      <td>1</td>\n",
       "      <td>2021-04-29 19:39:27</td>\n",
       "      <td>NaT</td>\n",
       "    </tr>\n",
       "    <tr>\n",
       "      <th>328</th>\n",
       "      <td>329</td>\n",
       "      <td>World At War</td>\n",
       "      <td>2021</td>\n",
       "      <td>5</td>\n",
       "      <td>3</td>\n",
       "      <td>clear red inside clear yellow</td>\n",
       "      <td>400</td>\n",
       "      <td>None</td>\n",
       "      <td>None</td>\n",
       "      <td>2021-05-05</td>\n",
       "      <td>20</td>\n",
       "      <td>nan</td>\n",
       "      <td>0</td>\n",
       "      <td>1</td>\n",
       "      <td>2021-05-05 18:56:23</td>\n",
       "      <td>NaT</td>\n",
       "    </tr>\n",
       "    <tr>\n",
       "      <th>329</th>\n",
       "      <td>330</td>\n",
       "      <td>Good To Feel</td>\n",
       "      <td>2018</td>\n",
       "      <td>5</td>\n",
       "      <td>3</td>\n",
       "      <td>cloudy green</td>\n",
       "      <td>500</td>\n",
       "      <td>None</td>\n",
       "      <td>3rd press</td>\n",
       "      <td>2021-05-05</td>\n",
       "      <td>20</td>\n",
       "      <td>nan</td>\n",
       "      <td>1</td>\n",
       "      <td>1</td>\n",
       "      <td>2021-05-05 18:59:31</td>\n",
       "      <td>NaT</td>\n",
       "    </tr>\n",
       "  </tbody>\n",
       "</table>\n",
       "</div>"
      ],
      "text/plain": [
       "     record_id                   title  year  genre_id  format_id                                                       vinyl_color lim_edition number                   remarks purchase_date  price  rating  is_digitized  is_active          created_at          updated_at\n",
       "325        326        Septic Decadence  2021         1          6                                          yellow with red splatter        None   None  2nd press of 2020 record    2021-04-11     10     nan             1          1 2021-04-13 15:19:56 2021-05-05 19:24:25\n",
       "326        327  The Delta Death Sirens  2021         1          1                                                       swamp green         300   None                      None    2021-04-29     15     nan             1          1 2021-04-29 19:31:38                 NaT\n",
       "327        328                   Split  2021         1          3  ultra-clear with electric blue & green glow-in-the-dark splatter         150   None                      None    2021-04-27     20     nan             0          1 2021-04-29 19:39:27                 NaT\n",
       "328        329            World At War  2021         5          3                                     clear red inside clear yellow         400   None                      None    2021-05-05     20     nan             0          1 2021-05-05 18:56:23                 NaT\n",
       "329        330            Good To Feel  2018         5          3                                                      cloudy green         500   None                 3rd press    2021-05-05     20     nan             1          1 2021-05-05 18:59:31                 NaT"
      ]
     },
     "execution_count": 7,
     "metadata": {},
     "output_type": "execute_result"
    }
   ],
   "source": [
    "pd.read_sql(\"records\", engine).tail(5)"
   ]
  },
  {
   "cell_type": "code",
   "execution_count": 8,
   "metadata": {
    "ExecuteTime": {
     "end_time": "2021-05-08T20:58:22.900445Z",
     "start_time": "2021-05-08T20:58:22.729447Z"
    }
   },
   "outputs": [
    {
     "data": {
      "text/plain": [
       "299"
      ]
     },
     "execution_count": 8,
     "metadata": {},
     "output_type": "execute_result"
    }
   ],
   "source": [
    "pd.read_sql(\"records\", engine)[\"is_active\"].sum()"
   ]
  },
  {
   "cell_type": "code",
   "execution_count": 9,
   "metadata": {
    "ExecuteTime": {
     "end_time": "2021-05-08T20:58:23.058443Z",
     "start_time": "2021-05-08T20:58:22.905447Z"
    }
   },
   "outputs": [
    {
     "data": {
      "text/plain": [
       "<bound method NDFrame.tail of      artist_id      artist_name artist_country          created_at          updated_at\n",
       "0            1        Dismember         Sweden 2021-02-24 14:24:16                 NaT\n",
       "1            2        Merciless         Sweden 2021-02-24 14:24:16 2021-02-28 16:57:22\n",
       "2            3         Overkill            USA 2021-02-24 14:24:16 2021-02-24 14:44:37\n",
       "3            4         Entombed         Sweden 2021-02-24 14:24:16                 NaT\n",
       "4            5        Metallica            USA 2021-02-24 14:24:16 2021-02-28 16:59:06\n",
       "..         ...              ...            ...                 ...                 ...\n",
       "215        216        Coagulate            USA 2021-04-29 19:39:27                 NaT\n",
       "216        217  Soul Devourment            USA 2021-04-29 19:39:27                 NaT\n",
       "217        218          Gutvoid         Canada 2021-04-29 19:39:27                 NaT\n",
       "218        219        Dead Heat            USA 2021-05-05 18:56:23                 NaT\n",
       "219        220            Candy   Good To Feel 2021-05-05 18:59:31                 NaT\n",
       "\n",
       "[220 rows x 5 columns]>"
      ]
     },
     "execution_count": 9,
     "metadata": {},
     "output_type": "execute_result"
    }
   ],
   "source": [
    "pd.read_sql(\"artists\", engine).tail"
   ]
  },
  {
   "cell_type": "code",
   "execution_count": 10,
   "metadata": {
    "ExecuteTime": {
     "end_time": "2021-05-08T20:58:23.234449Z",
     "start_time": "2021-05-08T20:58:23.061447Z"
    }
   },
   "outputs": [
    {
     "data": {
      "text/html": [
       "<div>\n",
       "<style scoped>\n",
       "    .dataframe tbody tr th:only-of-type {\n",
       "        vertical-align: middle;\n",
       "    }\n",
       "\n",
       "    .dataframe tbody tr th {\n",
       "        vertical-align: top;\n",
       "    }\n",
       "\n",
       "    .dataframe thead th {\n",
       "        text-align: right;\n",
       "    }\n",
       "</style>\n",
       "<table border=\"1\" class=\"dataframe\">\n",
       "  <thead>\n",
       "    <tr style=\"text-align: right;\">\n",
       "      <th></th>\n",
       "      <th>credit_trx_id</th>\n",
       "      <th>credit_trx_date</th>\n",
       "      <th>credit_trx_type</th>\n",
       "      <th>credit_value</th>\n",
       "      <th>credit_saldo</th>\n",
       "      <th>record_id</th>\n",
       "      <th>created_at</th>\n",
       "      <th>updated_at</th>\n",
       "    </tr>\n",
       "  </thead>\n",
       "  <tbody>\n",
       "    <tr>\n",
       "      <th>344</th>\n",
       "      <td>345</td>\n",
       "      <td>2020-11-06</td>\n",
       "      <td>Purchase</td>\n",
       "      <td>0.00</td>\n",
       "      <td>-3.00</td>\n",
       "      <td>324.00</td>\n",
       "      <td>2021-04-09 16:22:47</td>\n",
       "      <td>NaT</td>\n",
       "    </tr>\n",
       "    <tr>\n",
       "      <th>345</th>\n",
       "      <td>346</td>\n",
       "      <td>2021-04-11</td>\n",
       "      <td>Purchase</td>\n",
       "      <td>0.00</td>\n",
       "      <td>-3.00</td>\n",
       "      <td>325.00</td>\n",
       "      <td>2021-04-13 15:12:04</td>\n",
       "      <td>NaT</td>\n",
       "    </tr>\n",
       "    <tr>\n",
       "      <th>346</th>\n",
       "      <td>347</td>\n",
       "      <td>2021-04-13</td>\n",
       "      <td>Purchase</td>\n",
       "      <td>0.00</td>\n",
       "      <td>-3.00</td>\n",
       "      <td>326.00</td>\n",
       "      <td>2021-04-13 15:19:56</td>\n",
       "      <td>NaT</td>\n",
       "    </tr>\n",
       "    <tr>\n",
       "      <th>347</th>\n",
       "      <td>348</td>\n",
       "      <td>2021-04-19</td>\n",
       "      <td>Addition</td>\n",
       "      <td>1.00</td>\n",
       "      <td>-2.00</td>\n",
       "      <td>nan</td>\n",
       "      <td>2021-04-19 11:50:19</td>\n",
       "      <td>NaT</td>\n",
       "    </tr>\n",
       "    <tr>\n",
       "      <th>348</th>\n",
       "      <td>349</td>\n",
       "      <td>2021-04-29</td>\n",
       "      <td>Purchase</td>\n",
       "      <td>-1.00</td>\n",
       "      <td>-3.00</td>\n",
       "      <td>327.00</td>\n",
       "      <td>2021-04-29 19:31:38</td>\n",
       "      <td>NaT</td>\n",
       "    </tr>\n",
       "    <tr>\n",
       "      <th>349</th>\n",
       "      <td>350</td>\n",
       "      <td>2021-04-29</td>\n",
       "      <td>Addition</td>\n",
       "      <td>1.00</td>\n",
       "      <td>-2.00</td>\n",
       "      <td>nan</td>\n",
       "      <td>2021-04-29 19:31:57</td>\n",
       "      <td>NaT</td>\n",
       "    </tr>\n",
       "    <tr>\n",
       "      <th>350</th>\n",
       "      <td>351</td>\n",
       "      <td>2021-04-27</td>\n",
       "      <td>Purchase</td>\n",
       "      <td>-1.00</td>\n",
       "      <td>-3.00</td>\n",
       "      <td>328.00</td>\n",
       "      <td>2021-04-29 19:39:27</td>\n",
       "      <td>NaT</td>\n",
       "    </tr>\n",
       "    <tr>\n",
       "      <th>351</th>\n",
       "      <td>352</td>\n",
       "      <td>2021-04-30</td>\n",
       "      <td>Remove</td>\n",
       "      <td>1.00</td>\n",
       "      <td>-2.00</td>\n",
       "      <td>269.00</td>\n",
       "      <td>2021-04-30 20:32:47</td>\n",
       "      <td>NaT</td>\n",
       "    </tr>\n",
       "    <tr>\n",
       "      <th>352</th>\n",
       "      <td>353</td>\n",
       "      <td>2021-05-05</td>\n",
       "      <td>Purchase</td>\n",
       "      <td>-1.00</td>\n",
       "      <td>-3.00</td>\n",
       "      <td>329.00</td>\n",
       "      <td>2021-05-05 18:56:23</td>\n",
       "      <td>NaT</td>\n",
       "    </tr>\n",
       "    <tr>\n",
       "      <th>353</th>\n",
       "      <td>354</td>\n",
       "      <td>2021-05-05</td>\n",
       "      <td>Purchase</td>\n",
       "      <td>-1.00</td>\n",
       "      <td>-4.00</td>\n",
       "      <td>330.00</td>\n",
       "      <td>2021-05-05 18:59:31</td>\n",
       "      <td>NaT</td>\n",
       "    </tr>\n",
       "  </tbody>\n",
       "</table>\n",
       "</div>"
      ],
      "text/plain": [
       "     credit_trx_id credit_trx_date credit_trx_type  credit_value  credit_saldo  record_id          created_at updated_at\n",
       "344            345      2020-11-06        Purchase          0.00         -3.00     324.00 2021-04-09 16:22:47        NaT\n",
       "345            346      2021-04-11        Purchase          0.00         -3.00     325.00 2021-04-13 15:12:04        NaT\n",
       "346            347      2021-04-13        Purchase          0.00         -3.00     326.00 2021-04-13 15:19:56        NaT\n",
       "347            348      2021-04-19        Addition          1.00         -2.00        nan 2021-04-19 11:50:19        NaT\n",
       "348            349      2021-04-29        Purchase         -1.00         -3.00     327.00 2021-04-29 19:31:38        NaT\n",
       "349            350      2021-04-29        Addition          1.00         -2.00        nan 2021-04-29 19:31:57        NaT\n",
       "350            351      2021-04-27        Purchase         -1.00         -3.00     328.00 2021-04-29 19:39:27        NaT\n",
       "351            352      2021-04-30          Remove          1.00         -2.00     269.00 2021-04-30 20:32:47        NaT\n",
       "352            353      2021-05-05        Purchase         -1.00         -3.00     329.00 2021-05-05 18:56:23        NaT\n",
       "353            354      2021-05-05        Purchase         -1.00         -4.00     330.00 2021-05-05 18:59:31        NaT"
      ]
     },
     "execution_count": 10,
     "metadata": {},
     "output_type": "execute_result"
    }
   ],
   "source": [
    "pd.read_sql(\"credit_trx\", engine).tail(10)"
   ]
  },
  {
   "cell_type": "code",
   "execution_count": 11,
   "metadata": {
    "ExecuteTime": {
     "end_time": "2021-05-08T20:58:23.488661Z",
     "start_time": "2021-05-08T20:58:23.236445Z"
    },
    "scrolled": false
   },
   "outputs": [
    {
     "data": {
      "text/html": [
       "<div>\n",
       "<style scoped>\n",
       "    .dataframe tbody tr th:only-of-type {\n",
       "        vertical-align: middle;\n",
       "    }\n",
       "\n",
       "    .dataframe tbody tr th {\n",
       "        vertical-align: top;\n",
       "    }\n",
       "\n",
       "    .dataframe thead th {\n",
       "        text-align: right;\n",
       "    }\n",
       "</style>\n",
       "<table border=\"1\" class=\"dataframe\">\n",
       "  <thead>\n",
       "    <tr style=\"text-align: right;\">\n",
       "      <th></th>\n",
       "      <th>record_id</th>\n",
       "      <th>label_id</th>\n",
       "    </tr>\n",
       "  </thead>\n",
       "  <tbody>\n",
       "    <tr>\n",
       "      <th>303</th>\n",
       "      <td>304</td>\n",
       "      <td>25</td>\n",
       "    </tr>\n",
       "    <tr>\n",
       "      <th>304</th>\n",
       "      <td>305</td>\n",
       "      <td>33</td>\n",
       "    </tr>\n",
       "    <tr>\n",
       "      <th>305</th>\n",
       "      <td>306</td>\n",
       "      <td>33</td>\n",
       "    </tr>\n",
       "    <tr>\n",
       "      <th>306</th>\n",
       "      <td>307</td>\n",
       "      <td>33</td>\n",
       "    </tr>\n",
       "    <tr>\n",
       "      <th>307</th>\n",
       "      <td>308</td>\n",
       "      <td>45</td>\n",
       "    </tr>\n",
       "  </tbody>\n",
       "</table>\n",
       "</div>"
      ],
      "text/plain": [
       "     record_id  label_id\n",
       "303        304        25\n",
       "304        305        33\n",
       "305        306        33\n",
       "306        307        33\n",
       "307        308        45"
      ]
     },
     "execution_count": 11,
     "metadata": {},
     "output_type": "execute_result"
    },
    {
     "data": {
      "text/html": [
       "<div>\n",
       "<style scoped>\n",
       "    .dataframe tbody tr th:only-of-type {\n",
       "        vertical-align: middle;\n",
       "    }\n",
       "\n",
       "    .dataframe tbody tr th {\n",
       "        vertical-align: top;\n",
       "    }\n",
       "\n",
       "    .dataframe thead th {\n",
       "        text-align: right;\n",
       "    }\n",
       "</style>\n",
       "<table border=\"1\" class=\"dataframe\">\n",
       "  <thead>\n",
       "    <tr style=\"text-align: right;\">\n",
       "      <th></th>\n",
       "      <th>artist_id</th>\n",
       "      <th>label_id</th>\n",
       "    </tr>\n",
       "  </thead>\n",
       "  <tbody>\n",
       "    <tr>\n",
       "      <th>317</th>\n",
       "      <td>216</td>\n",
       "      <td>33</td>\n",
       "    </tr>\n",
       "    <tr>\n",
       "      <th>318</th>\n",
       "      <td>217</td>\n",
       "      <td>33</td>\n",
       "    </tr>\n",
       "    <tr>\n",
       "      <th>319</th>\n",
       "      <td>218</td>\n",
       "      <td>33</td>\n",
       "    </tr>\n",
       "    <tr>\n",
       "      <th>320</th>\n",
       "      <td>219</td>\n",
       "      <td>21</td>\n",
       "    </tr>\n",
       "    <tr>\n",
       "      <th>321</th>\n",
       "      <td>220</td>\n",
       "      <td>21</td>\n",
       "    </tr>\n",
       "  </tbody>\n",
       "</table>\n",
       "</div>"
      ],
      "text/plain": [
       "     artist_id  label_id\n",
       "317        216        33\n",
       "318        217        33\n",
       "319        218        33\n",
       "320        219        21\n",
       "321        220        21"
      ]
     },
     "execution_count": 11,
     "metadata": {},
     "output_type": "execute_result"
    },
    {
     "data": {
      "text/html": [
       "<div>\n",
       "<style scoped>\n",
       "    .dataframe tbody tr th:only-of-type {\n",
       "        vertical-align: middle;\n",
       "    }\n",
       "\n",
       "    .dataframe tbody tr th {\n",
       "        vertical-align: top;\n",
       "    }\n",
       "\n",
       "    .dataframe thead th {\n",
       "        text-align: right;\n",
       "    }\n",
       "</style>\n",
       "<table border=\"1\" class=\"dataframe\">\n",
       "  <thead>\n",
       "    <tr style=\"text-align: right;\">\n",
       "      <th></th>\n",
       "      <th>artist_id</th>\n",
       "      <th>genre_id</th>\n",
       "    </tr>\n",
       "  </thead>\n",
       "  <tbody>\n",
       "    <tr>\n",
       "      <th>218</th>\n",
       "      <td>216</td>\n",
       "      <td>1</td>\n",
       "    </tr>\n",
       "    <tr>\n",
       "      <th>219</th>\n",
       "      <td>217</td>\n",
       "      <td>1</td>\n",
       "    </tr>\n",
       "    <tr>\n",
       "      <th>220</th>\n",
       "      <td>218</td>\n",
       "      <td>1</td>\n",
       "    </tr>\n",
       "    <tr>\n",
       "      <th>221</th>\n",
       "      <td>219</td>\n",
       "      <td>5</td>\n",
       "    </tr>\n",
       "    <tr>\n",
       "      <th>222</th>\n",
       "      <td>220</td>\n",
       "      <td>5</td>\n",
       "    </tr>\n",
       "  </tbody>\n",
       "</table>\n",
       "</div>"
      ],
      "text/plain": [
       "     artist_id  genre_id\n",
       "218        216         1\n",
       "219        217         1\n",
       "220        218         1\n",
       "221        219         5\n",
       "222        220         5"
      ]
     },
     "execution_count": 11,
     "metadata": {},
     "output_type": "execute_result"
    },
    {
     "data": {
      "text/html": [
       "<div>\n",
       "<style scoped>\n",
       "    .dataframe tbody tr th:only-of-type {\n",
       "        vertical-align: middle;\n",
       "    }\n",
       "\n",
       "    .dataframe tbody tr th {\n",
       "        vertical-align: top;\n",
       "    }\n",
       "\n",
       "    .dataframe thead th {\n",
       "        text-align: right;\n",
       "    }\n",
       "</style>\n",
       "<table border=\"1\" class=\"dataframe\">\n",
       "  <thead>\n",
       "    <tr style=\"text-align: right;\">\n",
       "      <th></th>\n",
       "      <th>genre_id</th>\n",
       "      <th>label_id</th>\n",
       "    </tr>\n",
       "  </thead>\n",
       "  <tbody>\n",
       "    <tr>\n",
       "      <th>117</th>\n",
       "      <td>5</td>\n",
       "      <td>106</td>\n",
       "    </tr>\n",
       "    <tr>\n",
       "      <th>118</th>\n",
       "      <td>5</td>\n",
       "      <td>107</td>\n",
       "    </tr>\n",
       "    <tr>\n",
       "      <th>119</th>\n",
       "      <td>5</td>\n",
       "      <td>108</td>\n",
       "    </tr>\n",
       "    <tr>\n",
       "      <th>120</th>\n",
       "      <td>1</td>\n",
       "      <td>109</td>\n",
       "    </tr>\n",
       "    <tr>\n",
       "      <th>121</th>\n",
       "      <td>1</td>\n",
       "      <td>110</td>\n",
       "    </tr>\n",
       "  </tbody>\n",
       "</table>\n",
       "</div>"
      ],
      "text/plain": [
       "     genre_id  label_id\n",
       "117         5       106\n",
       "118         5       107\n",
       "119         5       108\n",
       "120         1       109\n",
       "121         1       110"
      ]
     },
     "execution_count": 11,
     "metadata": {},
     "output_type": "execute_result"
    }
   ],
   "source": [
    "pd.read_sql(\"record_label_link\", engine).tail()\n",
    "pd.read_sql(\"artist_label_link\", engine).tail()\n",
    "pd.read_sql(\"artist_genre_link\", engine).tail()\n",
    "pd.read_sql(\"genre_label_link\", engine).tail()"
   ]
  },
  {
   "cell_type": "code",
   "execution_count": 12,
   "metadata": {
    "ExecuteTime": {
     "end_time": "2021-05-08T20:58:23.664662Z",
     "start_time": "2021-05-08T20:58:23.491666Z"
    }
   },
   "outputs": [
    {
     "data": {
      "text/html": [
       "<div>\n",
       "<style scoped>\n",
       "    .dataframe tbody tr th:only-of-type {\n",
       "        vertical-align: middle;\n",
       "    }\n",
       "\n",
       "    .dataframe tbody tr th {\n",
       "        vertical-align: top;\n",
       "    }\n",
       "\n",
       "    .dataframe thead th {\n",
       "        text-align: right;\n",
       "    }\n",
       "</style>\n",
       "<table border=\"1\" class=\"dataframe\">\n",
       "  <thead>\n",
       "    <tr style=\"text-align: right;\">\n",
       "      <th></th>\n",
       "      <th>label_id</th>\n",
       "      <th>label_name</th>\n",
       "      <th>created_at</th>\n",
       "      <th>updated_at</th>\n",
       "    </tr>\n",
       "  </thead>\n",
       "  <tbody>\n",
       "    <tr>\n",
       "      <th>17</th>\n",
       "      <td>18</td>\n",
       "      <td>20 Buck Spin</td>\n",
       "      <td>2021-02-24 14:24:22</td>\n",
       "      <td>NaT</td>\n",
       "    </tr>\n",
       "    <tr>\n",
       "      <th>27</th>\n",
       "      <td>28</td>\n",
       "      <td>6131</td>\n",
       "      <td>2021-02-24 14:24:23</td>\n",
       "      <td>NaT</td>\n",
       "    </tr>\n",
       "    <tr>\n",
       "      <th>89</th>\n",
       "      <td>90</td>\n",
       "      <td>Abfall</td>\n",
       "      <td>2021-02-28 17:49:06</td>\n",
       "      <td>NaT</td>\n",
       "    </tr>\n",
       "    <tr>\n",
       "      <th>91</th>\n",
       "      <td>92</td>\n",
       "      <td>Acouphènes!</td>\n",
       "      <td>2021-02-28 17:50:46</td>\n",
       "      <td>NaT</td>\n",
       "    </tr>\n",
       "    <tr>\n",
       "      <th>9</th>\n",
       "      <td>10</td>\n",
       "      <td>Active Rebellion</td>\n",
       "      <td>2021-02-24 14:24:20</td>\n",
       "      <td>NaT</td>\n",
       "    </tr>\n",
       "    <tr>\n",
       "      <th>...</th>\n",
       "      <td>...</td>\n",
       "      <td>...</td>\n",
       "      <td>...</td>\n",
       "      <td>...</td>\n",
       "    </tr>\n",
       "    <tr>\n",
       "      <th>49</th>\n",
       "      <td>50</td>\n",
       "      <td>Vinyl Collectors</td>\n",
       "      <td>2021-02-24 16:31:31</td>\n",
       "      <td>NaT</td>\n",
       "    </tr>\n",
       "    <tr>\n",
       "      <th>73</th>\n",
       "      <td>74</td>\n",
       "      <td>Virgin</td>\n",
       "      <td>2021-02-28 11:24:25</td>\n",
       "      <td>NaT</td>\n",
       "    </tr>\n",
       "    <tr>\n",
       "      <th>69</th>\n",
       "      <td>70</td>\n",
       "      <td>War Anthem</td>\n",
       "      <td>2021-02-28 10:48:59</td>\n",
       "      <td>NaT</td>\n",
       "    </tr>\n",
       "    <tr>\n",
       "      <th>64</th>\n",
       "      <td>65</td>\n",
       "      <td>Witching Hour Productions</td>\n",
       "      <td>2021-02-26 17:07:08</td>\n",
       "      <td>NaT</td>\n",
       "    </tr>\n",
       "    <tr>\n",
       "      <th>56</th>\n",
       "      <td>57</td>\n",
       "      <td>Wounded Love</td>\n",
       "      <td>2021-02-26 15:56:38</td>\n",
       "      <td>NaT</td>\n",
       "    </tr>\n",
       "  </tbody>\n",
       "</table>\n",
       "<p>110 rows × 4 columns</p>\n",
       "</div>"
      ],
      "text/plain": [
       "    label_id                 label_name          created_at updated_at\n",
       "17        18               20 Buck Spin 2021-02-24 14:24:22        NaT\n",
       "27        28                       6131 2021-02-24 14:24:23        NaT\n",
       "89        90                     Abfall 2021-02-28 17:49:06        NaT\n",
       "91        92                Acouphènes! 2021-02-28 17:50:46        NaT\n",
       "9         10           Active Rebellion 2021-02-24 14:24:20        NaT\n",
       "..       ...                        ...                 ...        ...\n",
       "49        50           Vinyl Collectors 2021-02-24 16:31:31        NaT\n",
       "73        74                     Virgin 2021-02-28 11:24:25        NaT\n",
       "69        70                 War Anthem 2021-02-28 10:48:59        NaT\n",
       "64        65  Witching Hour Productions 2021-02-26 17:07:08        NaT\n",
       "56        57               Wounded Love 2021-02-26 15:56:38        NaT\n",
       "\n",
       "[110 rows x 4 columns]"
      ]
     },
     "execution_count": 12,
     "metadata": {},
     "output_type": "execute_result"
    }
   ],
   "source": [
    "pd.read_sql(\"labels\", engine).sort_values(\"label_name\")"
   ]
  },
  {
   "cell_type": "code",
   "execution_count": 13,
   "metadata": {
    "ExecuteTime": {
     "end_time": "2021-05-08T20:58:23.838661Z",
     "start_time": "2021-05-08T20:58:23.667661Z"
    }
   },
   "outputs": [
    {
     "name": "stdout",
     "output_type": "stream",
     "text": [
      "<Record(record_id=11, title=Uprising, artist=[<Artist(artist_id=4, artist_name=Entombed)>])> 2013-07-01\n",
      "<Record(record_id=12, title=Morning Star, artist=[<Artist(artist_id=4, artist_name=Entombed)>])> 2013-07-01\n",
      "<Record(record_id=23, title=Wolverine Blues, artist=[<Artist(artist_id=4, artist_name=Entombed)>])> 2014-01-01\n",
      "<Record(record_id=36, title=Clandestine, artist=[<Artist(artist_id=4, artist_name=Entombed)>])> 2015-08-01\n",
      "<Record(record_id=40, title=Left Hand Path, artist=[<Artist(artist_id=4, artist_name=Entombed)>])> 2015-10-01\n"
     ]
    },
    {
     "name": "stderr",
     "output_type": "stream",
     "text": [
      "C:\\Users\\r2d4\\miniconda3\\envs\\py3\\lib\\site-packages\\sqlalchemy\\sql\\sqltypes.py:660: SAWarning: Dialect sqlite+pysqlite does *not* support Decimal objects natively, and SQLAlchemy must convert from floating point - rounding errors and other issues may occur. Please consider storing Decimal numbers as strings or integers on this platform for lossless storage.\n",
      "  util.warn(\n"
     ]
    }
   ],
   "source": [
    "result = session.query(Record).filter(Record.artists.any(Artist.artist_name == \"Entombed\")).all()\n",
    "for record in result:\n",
    "    print(record, record.purchase_date)"
   ]
  },
  {
   "cell_type": "code",
   "execution_count": 14,
   "metadata": {
    "ExecuteTime": {
     "end_time": "2021-05-08T20:58:23.982661Z",
     "start_time": "2021-05-08T20:58:23.841664Z"
    }
   },
   "outputs": [
    {
     "name": "stdout",
     "output_type": "stream",
     "text": [
      "Sweden\n"
     ]
    }
   ],
   "source": [
    "result = session.query(Artist).filter(Artist.artist_name == \"Entombed\").one()\n",
    "print(result.artist_country)"
   ]
  },
  {
   "cell_type": "code",
   "execution_count": 15,
   "metadata": {
    "ExecuteTime": {
     "end_time": "2021-05-08T20:58:24.140660Z",
     "start_time": "2021-05-08T20:58:23.985660Z"
    }
   },
   "outputs": [
    {
     "data": {
      "text/html": [
       "<div>\n",
       "<style scoped>\n",
       "    .dataframe tbody tr th:only-of-type {\n",
       "        vertical-align: middle;\n",
       "    }\n",
       "\n",
       "    .dataframe tbody tr th {\n",
       "        vertical-align: top;\n",
       "    }\n",
       "\n",
       "    .dataframe thead th {\n",
       "        text-align: right;\n",
       "    }\n",
       "</style>\n",
       "<table border=\"1\" class=\"dataframe\">\n",
       "  <thead>\n",
       "    <tr style=\"text-align: right;\">\n",
       "      <th></th>\n",
       "      <th>format_id</th>\n",
       "      <th>format_name</th>\n",
       "      <th>created_at</th>\n",
       "      <th>updated_at</th>\n",
       "    </tr>\n",
       "  </thead>\n",
       "  <tbody>\n",
       "    <tr>\n",
       "      <th>0</th>\n",
       "      <td>1</td>\n",
       "      <td>12\"</td>\n",
       "      <td>2021-02-24 14:24:16</td>\n",
       "      <td>NaT</td>\n",
       "    </tr>\n",
       "    <tr>\n",
       "      <th>1</th>\n",
       "      <td>2</td>\n",
       "      <td>Pic-7\"</td>\n",
       "      <td>2021-02-24 14:24:16</td>\n",
       "      <td>2021-02-24 14:37:30</td>\n",
       "    </tr>\n",
       "    <tr>\n",
       "      <th>2</th>\n",
       "      <td>3</td>\n",
       "      <td>LP</td>\n",
       "      <td>2021-02-24 14:24:16</td>\n",
       "      <td>NaT</td>\n",
       "    </tr>\n",
       "    <tr>\n",
       "      <th>3</th>\n",
       "      <td>4</td>\n",
       "      <td>2LP</td>\n",
       "      <td>2021-02-24 14:24:16</td>\n",
       "      <td>NaT</td>\n",
       "    </tr>\n",
       "    <tr>\n",
       "      <th>4</th>\n",
       "      <td>5</td>\n",
       "      <td>10\"</td>\n",
       "      <td>2021-02-24 14:24:16</td>\n",
       "      <td>NaT</td>\n",
       "    </tr>\n",
       "    <tr>\n",
       "      <th>5</th>\n",
       "      <td>6</td>\n",
       "      <td>7\"</td>\n",
       "      <td>2021-02-24 14:24:16</td>\n",
       "      <td>NaT</td>\n",
       "    </tr>\n",
       "    <tr>\n",
       "      <th>6</th>\n",
       "      <td>7</td>\n",
       "      <td>MLP</td>\n",
       "      <td>2021-02-24 14:24:17</td>\n",
       "      <td>NaT</td>\n",
       "    </tr>\n",
       "    <tr>\n",
       "      <th>7</th>\n",
       "      <td>8</td>\n",
       "      <td>2xLP</td>\n",
       "      <td>2021-02-24 14:24:17</td>\n",
       "      <td>NaT</td>\n",
       "    </tr>\n",
       "    <tr>\n",
       "      <th>8</th>\n",
       "      <td>9</td>\n",
       "      <td>LP</td>\n",
       "      <td>2021-02-24 14:24:20</td>\n",
       "      <td>NaT</td>\n",
       "    </tr>\n",
       "    <tr>\n",
       "      <th>9</th>\n",
       "      <td>10</td>\n",
       "      <td>Pic-LP</td>\n",
       "      <td>2021-02-24 14:24:21</td>\n",
       "      <td>NaT</td>\n",
       "    </tr>\n",
       "    <tr>\n",
       "      <th>10</th>\n",
       "      <td>11</td>\n",
       "      <td>Tape</td>\n",
       "      <td>2021-02-24 14:24:26</td>\n",
       "      <td>NaT</td>\n",
       "    </tr>\n",
       "  </tbody>\n",
       "</table>\n",
       "</div>"
      ],
      "text/plain": [
       "    format_id format_name          created_at          updated_at\n",
       "0           1         12\" 2021-02-24 14:24:16                 NaT\n",
       "1           2      Pic-7\" 2021-02-24 14:24:16 2021-02-24 14:37:30\n",
       "2           3          LP 2021-02-24 14:24:16                 NaT\n",
       "3           4         2LP 2021-02-24 14:24:16                 NaT\n",
       "4           5         10\" 2021-02-24 14:24:16                 NaT\n",
       "5           6          7\" 2021-02-24 14:24:16                 NaT\n",
       "6           7         MLP 2021-02-24 14:24:17                 NaT\n",
       "7           8        2xLP 2021-02-24 14:24:17                 NaT\n",
       "8           9         LP  2021-02-24 14:24:20                 NaT\n",
       "9          10      Pic-LP 2021-02-24 14:24:21                 NaT\n",
       "10         11        Tape 2021-02-24 14:24:26                 NaT"
      ]
     },
     "execution_count": 15,
     "metadata": {},
     "output_type": "execute_result"
    }
   ],
   "source": [
    "pd.read_sql(\"formats\", engine)"
   ]
  },
  {
   "cell_type": "code",
   "execution_count": 16,
   "metadata": {
    "ExecuteTime": {
     "end_time": "2021-05-08T20:58:24.316663Z",
     "start_time": "2021-05-08T20:58:24.143663Z"
    }
   },
   "outputs": [
    {
     "data": {
      "text/html": [
       "<div>\n",
       "<style scoped>\n",
       "    .dataframe tbody tr th:only-of-type {\n",
       "        vertical-align: middle;\n",
       "    }\n",
       "\n",
       "    .dataframe tbody tr th {\n",
       "        vertical-align: top;\n",
       "    }\n",
       "\n",
       "    .dataframe thead th {\n",
       "        text-align: right;\n",
       "    }\n",
       "</style>\n",
       "<table border=\"1\" class=\"dataframe\">\n",
       "  <thead>\n",
       "    <tr style=\"text-align: right;\">\n",
       "      <th></th>\n",
       "      <th>genre_id</th>\n",
       "      <th>genre_name</th>\n",
       "      <th>created_at</th>\n",
       "      <th>updated_at</th>\n",
       "    </tr>\n",
       "  </thead>\n",
       "  <tbody>\n",
       "    <tr>\n",
       "      <th>0</th>\n",
       "      <td>1</td>\n",
       "      <td>Death Metal</td>\n",
       "      <td>2021-02-24 14:24:16</td>\n",
       "      <td>NaT</td>\n",
       "    </tr>\n",
       "    <tr>\n",
       "      <th>1</th>\n",
       "      <td>2</td>\n",
       "      <td>Thrash Metal</td>\n",
       "      <td>2021-02-24 14:24:16</td>\n",
       "      <td>NaT</td>\n",
       "    </tr>\n",
       "    <tr>\n",
       "      <th>2</th>\n",
       "      <td>3</td>\n",
       "      <td>Black Metal</td>\n",
       "      <td>2021-02-24 14:24:16</td>\n",
       "      <td>NaT</td>\n",
       "    </tr>\n",
       "    <tr>\n",
       "      <th>3</th>\n",
       "      <td>4</td>\n",
       "      <td>Speed Metal</td>\n",
       "      <td>2021-02-24 14:24:17</td>\n",
       "      <td>NaT</td>\n",
       "    </tr>\n",
       "    <tr>\n",
       "      <th>4</th>\n",
       "      <td>5</td>\n",
       "      <td>Hardcore</td>\n",
       "      <td>2021-02-24 14:24:18</td>\n",
       "      <td>NaT</td>\n",
       "    </tr>\n",
       "    <tr>\n",
       "      <th>5</th>\n",
       "      <td>6</td>\n",
       "      <td>Punk</td>\n",
       "      <td>2021-02-24 14:24:19</td>\n",
       "      <td>NaT</td>\n",
       "    </tr>\n",
       "    <tr>\n",
       "      <th>6</th>\n",
       "      <td>7</td>\n",
       "      <td>Crust</td>\n",
       "      <td>2021-02-24 14:24:19</td>\n",
       "      <td>NaT</td>\n",
       "    </tr>\n",
       "    <tr>\n",
       "      <th>7</th>\n",
       "      <td>8</td>\n",
       "      <td>Crossover</td>\n",
       "      <td>2021-02-24 14:24:24</td>\n",
       "      <td>NaT</td>\n",
       "    </tr>\n",
       "    <tr>\n",
       "      <th>8</th>\n",
       "      <td>9</td>\n",
       "      <td>Grindcore</td>\n",
       "      <td>2021-02-24 14:24:25</td>\n",
       "      <td>NaT</td>\n",
       "    </tr>\n",
       "  </tbody>\n",
       "</table>\n",
       "</div>"
      ],
      "text/plain": [
       "   genre_id    genre_name          created_at updated_at\n",
       "0         1   Death Metal 2021-02-24 14:24:16        NaT\n",
       "1         2  Thrash Metal 2021-02-24 14:24:16        NaT\n",
       "2         3   Black Metal 2021-02-24 14:24:16        NaT\n",
       "3         4   Speed Metal 2021-02-24 14:24:17        NaT\n",
       "4         5      Hardcore 2021-02-24 14:24:18        NaT\n",
       "5         6          Punk 2021-02-24 14:24:19        NaT\n",
       "6         7         Crust 2021-02-24 14:24:19        NaT\n",
       "7         8     Crossover 2021-02-24 14:24:24        NaT\n",
       "8         9     Grindcore 2021-02-24 14:24:25        NaT"
      ]
     },
     "execution_count": 16,
     "metadata": {},
     "output_type": "execute_result"
    }
   ],
   "source": [
    "pd.read_sql(\"genres\", engine)"
   ]
  },
  {
   "cell_type": "code",
   "execution_count": null,
   "metadata": {},
   "outputs": [],
   "source": []
  },
  {
   "cell_type": "markdown",
   "metadata": {},
   "source": [
    "## Inactivate A Record (Temporary Section)"
   ]
  },
  {
   "cell_type": "code",
   "execution_count": 17,
   "metadata": {
    "ExecuteTime": {
     "end_time": "2021-05-08T20:58:24.442675Z",
     "start_time": "2021-05-08T20:58:24.319662Z"
    }
   },
   "outputs": [],
   "source": [
    "# removal = {\n",
    "#     \"trx_type\": \"Removal\",\n",
    "#     \"credit_value\": 0,\n",
    "#     \"artist\": \"Furia\",\n",
    "#     \"title\": \"Marzannie, Królowej Polski\",\n",
    "#     \"year\": 2012,\n",
    "#     \"date\": dt.datetime.today().date()\n",
    "# }"
   ]
  },
  {
   "cell_type": "code",
   "execution_count": 18,
   "metadata": {
    "ExecuteTime": {
     "end_time": "2021-05-08T20:58:24.569661Z",
     "start_time": "2021-05-08T20:58:24.445662Z"
    }
   },
   "outputs": [],
   "source": [
    "# db_functions.set_record_to_inactive(session, removal)"
   ]
  },
  {
   "cell_type": "code",
   "execution_count": 19,
   "metadata": {
    "ExecuteTime": {
     "end_time": "2021-05-08T20:58:24.712658Z",
     "start_time": "2021-05-08T20:58:24.572664Z"
    }
   },
   "outputs": [],
   "source": [
    "# pd.read_sql(\"credit_trx\", engine).tail()"
   ]
  },
  {
   "cell_type": "code",
   "execution_count": 20,
   "metadata": {
    "ExecuteTime": {
     "end_time": "2021-05-08T20:58:24.854661Z",
     "start_time": "2021-05-08T20:58:24.714661Z"
    }
   },
   "outputs": [],
   "source": [
    "# to_delete = session.query(CreditTrx).filter(CreditTrx.credit_trx_id == 301).one()\n",
    "# session.delete(to_delete)\n",
    "# session.commit()"
   ]
  },
  {
   "cell_type": "markdown",
   "metadata": {},
   "source": [
    "## Backfill Missing Record-Format-Relations in Records Table (Done)"
   ]
  },
  {
   "cell_type": "code",
   "execution_count": 21,
   "metadata": {
    "ExecuteTime": {
     "end_time": "2021-05-08T20:58:24.993658Z",
     "start_time": "2021-05-08T20:58:24.857663Z"
    }
   },
   "outputs": [],
   "source": [
    "# def load_albums_from_xlsx(\n",
    "#     filepath: Union[Path, str], genres: Optional[List] = None\n",
    "# ) -> pd.DataFrame:\n",
    "#     \"\"\"Load the original album collection file into a dataframe.\n",
    "#     You can specify a list of genres you want to include\n",
    "#     (defaults to None).\n",
    "#     \"\"\"\n",
    "#     df = pd.read_excel(filepath, engine=\"openpyxl\")\n",
    "#     if genres:\n",
    "#         df = df[df[\"Genre\"].isin(genres)]\n",
    "#     return df"
   ]
  },
  {
   "cell_type": "code",
   "execution_count": 22,
   "metadata": {
    "ExecuteTime": {
     "end_time": "2021-05-08T20:58:25.134657Z",
     "start_time": "2021-05-08T20:58:24.995661Z"
    }
   },
   "outputs": [],
   "source": [
    "# CONFIG_PATH = Path.cwd().parent / \"config.cfg\"\n",
    "# path_to_collection = utils.read_config_return_str(CONFIG_PATH, \"COLLECTION\")\n",
    "# collection_df = load_albums_from_xlsx(path_to_collection)\n",
    "# collection_df = clean.prettify_column_names(collection_df)\n",
    "# collection_df.dropna(thresh=8, inplace=True)\n",
    "# collection_df.rename(columns={\"format\": \"record_format\"}, inplace=True)\n",
    "# # collection_df[\"purchase_date\"] = collection_df[\"purchase_date\"].dt.date.astype(str)\n",
    "# # collection_df[\"number\"] = collection_df[\"number\"].astype(str)\n",
    "# # collection_df[\"digitized\"] = collection_df[\"digitized\"].map({True: 1, False: 0}).astype(int)\n",
    "# collection_df[\"label\"].fillna(\"NA\", inplace=True)  # because it creates a foreign key\n",
    "\n",
    "# # This is for the initial ingestion only\n",
    "# collection_df[\"artist_country\"] = None\n",
    "# collection_df[\"credit_value\"] = 0\n",
    "# collection_df[\"trx_type\"] = \"Initial Load\"\n",
    "\n",
    "# assert len(collection_df) == 293"
   ]
  },
  {
   "cell_type": "code",
   "execution_count": 23,
   "metadata": {
    "ExecuteTime": {
     "end_time": "2021-05-08T20:58:25.259660Z",
     "start_time": "2021-05-08T20:58:25.136662Z"
    }
   },
   "outputs": [],
   "source": [
    "# # backfill\n",
    "\n",
    "# for rec in collection_df.itertuples():\n",
    "#     record = db_functions.fetch_a_record_from_the_shelf(session, rec.artist, rec.title)\n",
    "#     r_format = rec.record_format\n",
    "    \n",
    "#     # Check if the format already exists or has to be created\n",
    "#     record_format = (\n",
    "#         session.query(RecordFormat)\n",
    "#         .filter(RecordFormat.format_name.ilike(r_format))\n",
    "#         .one_or_none()\n",
    "#     )\n",
    "#     if record_format is None:\n",
    "#         record_format = RecordFormat(format_name=r_format)\n",
    "#         session.add(record_format)\n",
    "    \n",
    "#     record.record_format = record_format\n",
    "\n",
    "# session.commit()"
   ]
  },
  {
   "cell_type": "code",
   "execution_count": 24,
   "metadata": {
    "ExecuteTime": {
     "end_time": "2021-05-08T20:58:25.386660Z",
     "start_time": "2021-05-08T20:58:25.261662Z"
    }
   },
   "outputs": [],
   "source": [
    "# # Manual Update\n",
    "\n",
    "# record = session.query(Record).filter(Record.record_id == 295).one()\n",
    "# r_format = '12\"'\n",
    "\n",
    "# # Check if the format already exists or has to be created\n",
    "# record_format = (\n",
    "#     session.query(RecordFormat)\n",
    "#     .filter(RecordFormat.format_name.ilike(r_format))\n",
    "#     .one_or_none()\n",
    "# )\n",
    "# if record_format is None:\n",
    "#     record_format = RecordFormat(format_name=r_format)\n",
    "#     session.add(record_format)\n",
    "\n",
    "# record.record_format = record_format\n",
    "\n",
    "# session.commit()"
   ]
  },
  {
   "cell_type": "markdown",
   "metadata": {},
   "source": [
    "## Manual Updates\n",
    "\n",
    "### Credit Trx"
   ]
  },
  {
   "cell_type": "code",
   "execution_count": 25,
   "metadata": {
    "ExecuteTime": {
     "end_time": "2021-05-08T20:58:25.514660Z",
     "start_time": "2021-05-08T20:58:25.389665Z"
    }
   },
   "outputs": [],
   "source": [
    "# result = session.query(CreditTrx).filter(CreditTrx.credit_trx_type == \"Removal\").all()\n",
    "# for r in result:\n",
    "#     r.credit_trx_type = \"Remove\"\n",
    "#     print(r)"
   ]
  },
  {
   "cell_type": "code",
   "execution_count": 26,
   "metadata": {
    "ExecuteTime": {
     "end_time": "2021-05-08T20:58:25.641945Z",
     "start_time": "2021-05-08T20:58:25.516664Z"
    }
   },
   "outputs": [],
   "source": [
    "# r = session.query(Artist).filter(Artist.artist_name == \"CELESTIAL SANCTUARY\").one()\n",
    "# r.artist_name = \"Celestial Sanctuary\""
   ]
  },
  {
   "cell_type": "code",
   "execution_count": 27,
   "metadata": {
    "ExecuteTime": {
     "end_time": "2021-05-08T20:58:25.801944Z",
     "start_time": "2021-05-08T20:58:25.647953Z"
    }
   },
   "outputs": [],
   "source": [
    "# session.commit()"
   ]
  },
  {
   "cell_type": "markdown",
   "metadata": {},
   "source": [
    "### Remove \"Records\" From Label-Names And Split Labels"
   ]
  },
  {
   "cell_type": "code",
   "execution_count": 28,
   "metadata": {
    "ExecuteTime": {
     "end_time": "2021-05-08T20:58:25.927947Z",
     "start_time": "2021-05-08T20:58:25.803948Z"
    }
   },
   "outputs": [],
   "source": [
    "# result = session.query(Label).filter(Label.label_name.like('% Records')).all()\n",
    "# for x in result:\n",
    "#     x.label_name = x.label_name.rpartition(\" Records\")[0]\n",
    "# session.commit()"
   ]
  },
  {
   "cell_type": "code",
   "execution_count": 29,
   "metadata": {
    "ExecuteTime": {
     "end_time": "2021-05-08T20:58:26.053946Z",
     "start_time": "2021-05-08T20:58:25.930949Z"
    }
   },
   "outputs": [],
   "source": [
    "# session.query(Label).get(42)"
   ]
  },
  {
   "cell_type": "code",
   "execution_count": 30,
   "metadata": {
    "ExecuteTime": {
     "end_time": "2021-05-08T20:58:26.180944Z",
     "start_time": "2021-05-08T20:58:26.056949Z"
    }
   },
   "outputs": [],
   "source": [
    "# result = session.query(Label).filter(Label.label_name.contains(' / ')).all()\n",
    "# for x in result:\n",
    "#     print(x)"
   ]
  },
  {
   "cell_type": "code",
   "execution_count": 31,
   "metadata": {
    "ExecuteTime": {
     "end_time": "2021-05-08T20:58:26.319943Z",
     "start_time": "2021-05-08T20:58:26.182947Z"
    }
   },
   "outputs": [],
   "source": [
    "# result = session.query(Record).filter(Record.labels.any(Label.label_id.in_([19, 31, 32])))\n",
    "# for x in result:\n",
    "#     print(x)"
   ]
  },
  {
   "cell_type": "code",
   "execution_count": 32,
   "metadata": {
    "ExecuteTime": {
     "end_time": "2021-05-08T20:58:26.447943Z",
     "start_time": "2021-05-08T20:58:26.321946Z"
    }
   },
   "outputs": [],
   "source": [
    "# jack = session.query(Label).filter(Label.label_id.in_([19, 31, 32])).all()\n",
    "# for x in jack:\n",
    "#     print(x)\n",
    "#     session.delete(x)\n",
    "# session.commit()"
   ]
  },
  {
   "cell_type": "code",
   "execution_count": 33,
   "metadata": {
    "ExecuteTime": {
     "end_time": "2021-05-08T20:58:26.591945Z",
     "start_time": "2021-05-08T20:58:26.449946Z"
    }
   },
   "outputs": [],
   "source": [
    "# session.close()"
   ]
  },
  {
   "cell_type": "markdown",
   "metadata": {},
   "source": [
    "### Check for \"None\" str Values in Ratings and Fix Them"
   ]
  },
  {
   "cell_type": "code",
   "execution_count": 34,
   "metadata": {
    "ExecuteTime": {
     "end_time": "2021-05-08T20:58:26.745944Z",
     "start_time": "2021-05-08T20:58:26.594948Z"
    }
   },
   "outputs": [],
   "source": [
    "# result = session.query(Record).filter(Record.rating == \"None\").all()\n",
    "# for record in result:\n",
    "#     print(record)\n",
    "#     record.rating = None\n",
    "# session.commit()"
   ]
  },
  {
   "cell_type": "markdown",
   "metadata": {},
   "source": [
    "### Update Stuff"
   ]
  },
  {
   "cell_type": "code",
   "execution_count": 39,
   "metadata": {
    "ExecuteTime": {
     "end_time": "2021-05-08T20:59:13.615626Z",
     "start_time": "2021-05-08T20:59:13.454384Z"
    }
   },
   "outputs": [
    {
     "data": {
      "text/plain": [
       "<Record(record_id=273, title=Speciation, artist=[<Artist(artist_id=172, artist_name=Faceless Burial)>])>"
      ]
     },
     "execution_count": 39,
     "metadata": {},
     "output_type": "execute_result"
    }
   ],
   "source": [
    "result = session.query(Record).filter(Record.artists.any(Artist.artist_country == \"NA\")).first()\n",
    "result"
   ]
  },
  {
   "cell_type": "code",
   "execution_count": 36,
   "metadata": {
    "ExecuteTime": {
     "end_time": "2021-05-08T20:58:27.171946Z",
     "start_time": "2021-05-08T20:58:26.972951Z"
    }
   },
   "outputs": [],
   "source": [
    "# result = session.query(Artist).filter(Artist.artist_name == \"Insurgency\").first()\n",
    "# result.artist_name = \"Resurgency\"\n",
    "# session.commit()"
   ]
  },
  {
   "cell_type": "code",
   "execution_count": 37,
   "metadata": {
    "ExecuteTime": {
     "end_time": "2021-05-08T20:58:27.357946Z",
     "start_time": "2021-05-08T20:58:27.176949Z"
    }
   },
   "outputs": [],
   "source": [
    "# session.close()\n",
    "# session = db_connect.create_session(engine)"
   ]
  },
  {
   "cell_type": "code",
   "execution_count": 38,
   "metadata": {
    "ExecuteTime": {
     "end_time": "2021-05-08T20:58:27.501950Z",
     "start_time": "2021-05-08T20:58:27.361948Z"
    }
   },
   "outputs": [
    {
     "data": {
      "text/plain": [
       "0"
      ]
     },
     "execution_count": 38,
     "metadata": {},
     "output_type": "execute_result"
    }
   ],
   "source": [
    "result = session.query(Record).filter(Record.vinyl_color == 'None').all()\n",
    "len(result)"
   ]
  }
 ],
 "metadata": {
  "hide_input": false,
  "kernelspec": {
   "display_name": "Python 3",
   "language": "python",
   "name": "python3"
  },
  "language_info": {
   "codemirror_mode": {
    "name": "ipython",
    "version": 3
   },
   "file_extension": ".py",
   "mimetype": "text/x-python",
   "name": "python",
   "nbconvert_exporter": "python",
   "pygments_lexer": "ipython3",
   "version": "3.8.3"
  },
  "toc": {
   "base_numbering": 1,
   "nav_menu": {},
   "number_sections": true,
   "sideBar": false,
   "skip_h1_title": true,
   "title_cell": "Table of Contents",
   "title_sidebar": "Contents",
   "toc_cell": false,
   "toc_position": {},
   "toc_section_display": true,
   "toc_window_display": false
  }
 },
 "nbformat": 4,
 "nbformat_minor": 4
}
