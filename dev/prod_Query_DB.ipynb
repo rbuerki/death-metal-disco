{
 "cells": [
  {
   "cell_type": "code",
   "execution_count": 1,
   "metadata": {
    "ExecuteTime": {
     "end_time": "2021-02-24T12:54:41.754853Z",
     "start_time": "2021-02-24T12:54:40.268355Z"
    }
   },
   "outputs": [],
   "source": [
    "import configparser\n",
    "import datetime as dt\n",
    "import sys\n",
    "import collections\n",
    "from pathlib import Path\n",
    "from typing import Union, Optional, List, Tuple\n",
    "\n",
    "import codebook.EDA as EDA\n",
    "import codebook.clean as clean\n",
    "import numpy as np\n",
    "import pandas as pd\n",
    "import matplotlib.pyplot as plt\n",
    "import seaborn as sns\n",
    "import sqlalchemy"
   ]
  },
  {
   "cell_type": "code",
   "execution_count": 2,
   "metadata": {
    "ExecuteTime": {
     "end_time": "2021-02-24T12:54:41.914230Z",
     "start_time": "2021-02-24T12:54:41.754853Z"
    }
   },
   "outputs": [],
   "source": [
    "%load_ext autoreload\n",
    "%autoreload 2\n",
    "\n",
    "%matplotlib inline\n",
    "plt.style.use('raph-base')\n",
    "\n",
    "from IPython.core.interactiveshell import InteractiveShell\n",
    "InteractiveShell.ast_node_interactivity = 'all'\n",
    "\n",
    "pd.options.display.float_format = '{:,.2f}'.format\n",
    "pd.set_option('display.max_columns', 30)\n",
    "pd.set_option('display.expand_frame_repr', False)\n",
    "pd.set_option('max_colwidth', 800)\n",
    "\n",
    "np.random.seed(666)"
   ]
  },
  {
   "cell_type": "code",
   "execution_count": 3,
   "metadata": {
    "ExecuteTime": {
     "end_time": "2021-02-24T12:54:42.053363Z",
     "start_time": "2021-02-24T12:54:41.917237Z"
    }
   },
   "outputs": [
    {
     "data": {
      "text/plain": [
       "WindowsPath('C:/Users/r2d4/OneDrive/code/projects/20-02_disco/src')"
      ]
     },
     "execution_count": 3,
     "metadata": {},
     "output_type": "execute_result"
    }
   ],
   "source": [
    "Path.cwd().parent / 'src'"
   ]
  },
  {
   "cell_type": "code",
   "execution_count": 4,
   "metadata": {
    "ExecuteTime": {
     "end_time": "2021-02-24T12:54:42.354361Z",
     "start_time": "2021-02-24T12:54:42.056366Z"
    }
   },
   "outputs": [],
   "source": [
    "sys.path.append(str(Path.cwd().parent))\n",
    "\n",
    "from src.db_declaration import (\n",
    "    Base, Artist, CreditTrx, Genre, Label, Record, RecordFormat, CreditTrx, LabelRecordLink, ArtistLabelLink\n",
    ")\n",
    "from src import db_functions\n",
    "from src import db_connect"
   ]
  },
  {
   "cell_type": "code",
   "execution_count": 5,
   "metadata": {
    "ExecuteTime": {
     "end_time": "2021-02-24T12:54:42.501360Z",
     "start_time": "2021-02-24T12:54:42.357365Z"
    }
   },
   "outputs": [
    {
     "name": "stdout",
     "output_type": "stream",
     "text": [
      "C:\\Users\\r2d4\\miniconda3\\envs\\py3\\python.exe\n",
      "3.8.3 (default, May 19 2020, 06:50:17) [MSC v.1916 64 bit (AMD64)]\n",
      "sqlalchemy 1.3.17\n"
     ]
    }
   ],
   "source": [
    "print(sys.executable)\n",
    "print(sys.version)\n",
    "print(f'sqlalchemy {sqlalchemy.__version__}')"
   ]
  },
  {
   "cell_type": "markdown",
   "metadata": {
    "ExecuteTime": {
     "end_time": "2020-12-23T06:08:49.546499Z",
     "start_time": "2020-12-23T06:08:49.412497Z"
    }
   },
   "source": [
    "## Connect To DB\n",
    "\n",
    "Because we connect from `dev`subfolder, I have to work with the sqlalchemy `create_engine` function directly."
   ]
  },
  {
   "cell_type": "code",
   "execution_count": 39,
   "metadata": {
    "ExecuteTime": {
     "end_time": "2021-02-24T14:33:13.528860Z",
     "start_time": "2021-02-24T14:33:13.396206Z"
    }
   },
   "outputs": [
    {
     "data": {
      "text/plain": [
       "<sqlalchemy.orm.session.Session at 0x21a1cacc2e0>"
      ]
     },
     "execution_count": 39,
     "metadata": {},
     "output_type": "execute_result"
    }
   ],
   "source": [
    "# session.close()\n",
    "prod_path = r\"sqlite:///C:\\Users\\r2d4\\OneDrive\\code\\projects\\20-02_disco\\db_aka_discobase\\DiscoBase.db\"\n",
    "engine = sqlalchemy.create_engine(prod_path)\n",
    "\n",
    "session = db_connect.create_session(engine)\n",
    "\n",
    "# Check\n",
    "session"
   ]
  },
  {
   "cell_type": "markdown",
   "metadata": {},
   "source": [
    "## Query DB"
   ]
  },
  {
   "cell_type": "code",
   "execution_count": 7,
   "metadata": {
    "ExecuteTime": {
     "end_time": "2021-02-24T12:54:42.850361Z",
     "start_time": "2021-02-24T12:54:42.655367Z"
    }
   },
   "outputs": [
    {
     "data": {
      "text/html": [
       "<div>\n",
       "<style scoped>\n",
       "    .dataframe tbody tr th:only-of-type {\n",
       "        vertical-align: middle;\n",
       "    }\n",
       "\n",
       "    .dataframe tbody tr th {\n",
       "        vertical-align: top;\n",
       "    }\n",
       "\n",
       "    .dataframe thead th {\n",
       "        text-align: right;\n",
       "    }\n",
       "</style>\n",
       "<table border=\"1\" class=\"dataframe\">\n",
       "  <thead>\n",
       "    <tr style=\"text-align: right;\">\n",
       "      <th></th>\n",
       "      <th>record_id</th>\n",
       "      <th>title</th>\n",
       "      <th>year</th>\n",
       "      <th>genre_id</th>\n",
       "      <th>format_id</th>\n",
       "      <th>vinyl_color</th>\n",
       "      <th>lim_edition</th>\n",
       "      <th>number</th>\n",
       "      <th>remarks</th>\n",
       "      <th>purchase_date</th>\n",
       "      <th>price</th>\n",
       "      <th>rating</th>\n",
       "      <th>is_digitized</th>\n",
       "      <th>is_active</th>\n",
       "      <th>created_at</th>\n",
       "      <th>updated_at</th>\n",
       "    </tr>\n",
       "  </thead>\n",
       "  <tbody>\n",
       "    <tr>\n",
       "      <th>308</th>\n",
       "      <td>309</td>\n",
       "      <td>Demo 2020</td>\n",
       "      <td>2020</td>\n",
       "      <td>1</td>\n",
       "      <td>6</td>\n",
       "      <td>yellow</td>\n",
       "      <td>100</td>\n",
       "      <td>None</td>\n",
       "      <td>None</td>\n",
       "      <td>2020-10-23</td>\n",
       "      <td>10</td>\n",
       "      <td>9</td>\n",
       "      <td>1</td>\n",
       "      <td>1</td>\n",
       "      <td>2021-02-23 13:22:15</td>\n",
       "      <td>NaT</td>\n",
       "    </tr>\n",
       "    <tr>\n",
       "      <th>309</th>\n",
       "      <td>310</td>\n",
       "      <td>One Way Track</td>\n",
       "      <td>2020</td>\n",
       "      <td>5</td>\n",
       "      <td>11</td>\n",
       "      <td>None</td>\n",
       "      <td>None</td>\n",
       "      <td>None</td>\n",
       "      <td>None</td>\n",
       "      <td>2021-02-19</td>\n",
       "      <td>10</td>\n",
       "      <td>None</td>\n",
       "      <td>0</td>\n",
       "      <td>1</td>\n",
       "      <td>2021-02-23 13:22:15</td>\n",
       "      <td>NaT</td>\n",
       "    </tr>\n",
       "    <tr>\n",
       "      <th>310</th>\n",
       "      <td>311</td>\n",
       "      <td>Most Dangerous Game</td>\n",
       "      <td>2020</td>\n",
       "      <td>5</td>\n",
       "      <td>6</td>\n",
       "      <td>clear with red splatter</td>\n",
       "      <td>400</td>\n",
       "      <td>None</td>\n",
       "      <td>None</td>\n",
       "      <td>2021-02-19</td>\n",
       "      <td>10</td>\n",
       "      <td>None</td>\n",
       "      <td>1</td>\n",
       "      <td>1</td>\n",
       "      <td>2021-02-23 13:22:16</td>\n",
       "      <td>2021-02-24 12:52:10</td>\n",
       "    </tr>\n",
       "    <tr>\n",
       "      <th>311</th>\n",
       "      <td>312</td>\n",
       "      <td>Loyalty At All Costs</td>\n",
       "      <td>2021</td>\n",
       "      <td>5</td>\n",
       "      <td>6</td>\n",
       "      <td>black with red swirl</td>\n",
       "      <td>100</td>\n",
       "      <td>None</td>\n",
       "      <td>Streets Of Hate exclusive</td>\n",
       "      <td>2021-02-19</td>\n",
       "      <td>10</td>\n",
       "      <td>None</td>\n",
       "      <td>0</td>\n",
       "      <td>1</td>\n",
       "      <td>2021-02-23 13:22:16</td>\n",
       "      <td>NaT</td>\n",
       "    </tr>\n",
       "    <tr>\n",
       "      <th>312</th>\n",
       "      <td>313</td>\n",
       "      <td>Ultimate Aggression</td>\n",
       "      <td>2019</td>\n",
       "      <td>5</td>\n",
       "      <td>3</td>\n",
       "      <td>half baby blue, half electric blue</td>\n",
       "      <td>300</td>\n",
       "      <td>None</td>\n",
       "      <td>None</td>\n",
       "      <td>2020-09-13</td>\n",
       "      <td>35</td>\n",
       "      <td>None</td>\n",
       "      <td>1</td>\n",
       "      <td>1</td>\n",
       "      <td>2021-02-23 13:26:45</td>\n",
       "      <td>NaT</td>\n",
       "    </tr>\n",
       "  </tbody>\n",
       "</table>\n",
       "</div>"
      ],
      "text/plain": [
       "     record_id                 title  year  genre_id  format_id                         vinyl_color lim_edition number                    remarks purchase_date  price rating  is_digitized  is_active          created_at          updated_at\n",
       "308        309             Demo 2020  2020         1          6                              yellow         100   None                       None    2020-10-23     10      9             1          1 2021-02-23 13:22:15                 NaT\n",
       "309        310         One Way Track  2020         5         11                                None        None   None                       None    2021-02-19     10   None             0          1 2021-02-23 13:22:15                 NaT\n",
       "310        311   Most Dangerous Game  2020         5          6             clear with red splatter         400   None                       None    2021-02-19     10   None             1          1 2021-02-23 13:22:16 2021-02-24 12:52:10\n",
       "311        312  Loyalty At All Costs  2021         5          6                black with red swirl         100   None  Streets Of Hate exclusive    2021-02-19     10   None             0          1 2021-02-23 13:22:16                 NaT\n",
       "312        313   Ultimate Aggression  2019         5          3  half baby blue, half electric blue         300   None                       None    2020-09-13     35   None             1          1 2021-02-23 13:26:45                 NaT"
      ]
     },
     "execution_count": 7,
     "metadata": {},
     "output_type": "execute_result"
    }
   ],
   "source": [
    "pd.read_sql(\"records\", engine).tail(5)"
   ]
  },
  {
   "cell_type": "code",
   "execution_count": 8,
   "metadata": {
    "ExecuteTime": {
     "end_time": "2021-02-24T12:54:43.028365Z",
     "start_time": "2021-02-24T12:54:42.855364Z"
    }
   },
   "outputs": [
    {
     "data": {
      "text/plain": [
       "293"
      ]
     },
     "execution_count": 8,
     "metadata": {},
     "output_type": "execute_result"
    }
   ],
   "source": [
    "pd.read_sql(\"records\", engine)[\"is_active\"].sum()"
   ]
  },
  {
   "cell_type": "code",
   "execution_count": 9,
   "metadata": {
    "ExecuteTime": {
     "end_time": "2021-02-24T12:54:43.188360Z",
     "start_time": "2021-02-24T12:54:43.032366Z"
    }
   },
   "outputs": [
    {
     "data": {
      "text/plain": [
       "<bound method NDFrame.tail of      artist_id         artist_name artist_country          created_at updated_at\n",
       "0            1           Dismember         Sweden 2021-02-23 13:22:07        NaT\n",
       "1            2           Merciless             NA 2021-02-23 13:22:07        NaT\n",
       "2            3            Overkill             NA 2021-02-23 13:22:07        NaT\n",
       "3            4            Entombed         Sweden 2021-02-23 13:22:07        NaT\n",
       "4            5           Metallica             NA 2021-02-23 13:22:07        NaT\n",
       "..         ...                 ...            ...                 ...        ...\n",
       "198        199  Heads For The Dead  International 2021-02-23 13:22:15        NaT\n",
       "199        200            Fleshrot            USA 2021-02-23 13:22:15        NaT\n",
       "200        201              End It            USA 2021-02-23 13:22:15        NaT\n",
       "201        202              Kharma            USA 2021-02-23 13:22:16        NaT\n",
       "202        203            Gridiron            USA 2021-02-23 13:22:16        NaT\n",
       "\n",
       "[203 rows x 5 columns]>"
      ]
     },
     "execution_count": 9,
     "metadata": {},
     "output_type": "execute_result"
    }
   ],
   "source": [
    "pd.read_sql(\"artists\", engine).tail"
   ]
  },
  {
   "cell_type": "code",
   "execution_count": 10,
   "metadata": {
    "ExecuteTime": {
     "end_time": "2021-02-24T12:54:43.373364Z",
     "start_time": "2021-02-24T12:54:43.190372Z"
    }
   },
   "outputs": [
    {
     "data": {
      "text/html": [
       "<div>\n",
       "<style scoped>\n",
       "    .dataframe tbody tr th:only-of-type {\n",
       "        vertical-align: middle;\n",
       "    }\n",
       "\n",
       "    .dataframe tbody tr th {\n",
       "        vertical-align: top;\n",
       "    }\n",
       "\n",
       "    .dataframe thead th {\n",
       "        text-align: right;\n",
       "    }\n",
       "</style>\n",
       "<table border=\"1\" class=\"dataframe\">\n",
       "  <thead>\n",
       "    <tr style=\"text-align: right;\">\n",
       "      <th></th>\n",
       "      <th>credit_trx_id</th>\n",
       "      <th>credit_trx_date</th>\n",
       "      <th>credit_trx_type</th>\n",
       "      <th>credit_value</th>\n",
       "      <th>credit_saldo</th>\n",
       "      <th>record_id</th>\n",
       "      <th>created_at</th>\n",
       "      <th>updated_at</th>\n",
       "    </tr>\n",
       "  </thead>\n",
       "  <tbody>\n",
       "    <tr>\n",
       "      <th>313</th>\n",
       "      <td>314</td>\n",
       "      <td>2021-02-05</td>\n",
       "      <td>Purchase</td>\n",
       "      <td>-1.00</td>\n",
       "      <td>-4.00</td>\n",
       "      <td>306.00</td>\n",
       "      <td>2021-02-23 13:22:16</td>\n",
       "      <td>NaT</td>\n",
       "    </tr>\n",
       "    <tr>\n",
       "      <th>314</th>\n",
       "      <td>315</td>\n",
       "      <td>2021-02-05</td>\n",
       "      <td>Purchase</td>\n",
       "      <td>-1.00</td>\n",
       "      <td>-5.00</td>\n",
       "      <td>307.00</td>\n",
       "      <td>2021-02-23 13:22:16</td>\n",
       "      <td>NaT</td>\n",
       "    </tr>\n",
       "    <tr>\n",
       "      <th>315</th>\n",
       "      <td>316</td>\n",
       "      <td>2021-02-08</td>\n",
       "      <td>Addition</td>\n",
       "      <td>1.00</td>\n",
       "      <td>-4.00</td>\n",
       "      <td>nan</td>\n",
       "      <td>2021-02-23 13:22:16</td>\n",
       "      <td>NaT</td>\n",
       "    </tr>\n",
       "    <tr>\n",
       "      <th>316</th>\n",
       "      <td>317</td>\n",
       "      <td>2021-02-08</td>\n",
       "      <td>Purchase</td>\n",
       "      <td>-1.00</td>\n",
       "      <td>-5.00</td>\n",
       "      <td>308.00</td>\n",
       "      <td>2021-02-23 13:22:16</td>\n",
       "      <td>NaT</td>\n",
       "    </tr>\n",
       "    <tr>\n",
       "      <th>317</th>\n",
       "      <td>318</td>\n",
       "      <td>2021-02-18</td>\n",
       "      <td>Addition</td>\n",
       "      <td>1.00</td>\n",
       "      <td>-4.00</td>\n",
       "      <td>nan</td>\n",
       "      <td>2021-02-23 13:22:16</td>\n",
       "      <td>NaT</td>\n",
       "    </tr>\n",
       "    <tr>\n",
       "      <th>318</th>\n",
       "      <td>319</td>\n",
       "      <td>2020-10-23</td>\n",
       "      <td>Purchase</td>\n",
       "      <td>0.00</td>\n",
       "      <td>-4.00</td>\n",
       "      <td>309.00</td>\n",
       "      <td>2021-02-23 13:22:16</td>\n",
       "      <td>NaT</td>\n",
       "    </tr>\n",
       "    <tr>\n",
       "      <th>319</th>\n",
       "      <td>320</td>\n",
       "      <td>2021-02-19</td>\n",
       "      <td>Purchase</td>\n",
       "      <td>0.00</td>\n",
       "      <td>-4.00</td>\n",
       "      <td>311.00</td>\n",
       "      <td>2021-02-23 13:22:16</td>\n",
       "      <td>NaT</td>\n",
       "    </tr>\n",
       "    <tr>\n",
       "      <th>320</th>\n",
       "      <td>321</td>\n",
       "      <td>2021-02-19</td>\n",
       "      <td>Purchase</td>\n",
       "      <td>0.00</td>\n",
       "      <td>-4.00</td>\n",
       "      <td>312.00</td>\n",
       "      <td>2021-02-23 13:22:16</td>\n",
       "      <td>NaT</td>\n",
       "    </tr>\n",
       "    <tr>\n",
       "      <th>321</th>\n",
       "      <td>322</td>\n",
       "      <td>2021-02-19</td>\n",
       "      <td>Purchase</td>\n",
       "      <td>0.00</td>\n",
       "      <td>-4.00</td>\n",
       "      <td>310.00</td>\n",
       "      <td>2021-02-23 13:22:16</td>\n",
       "      <td>2021-02-23 13:24:22</td>\n",
       "    </tr>\n",
       "    <tr>\n",
       "      <th>322</th>\n",
       "      <td>323</td>\n",
       "      <td>2020-09-13</td>\n",
       "      <td>Purchase</td>\n",
       "      <td>0.00</td>\n",
       "      <td>-4.00</td>\n",
       "      <td>313.00</td>\n",
       "      <td>2021-02-23 13:26:45</td>\n",
       "      <td>NaT</td>\n",
       "    </tr>\n",
       "  </tbody>\n",
       "</table>\n",
       "</div>"
      ],
      "text/plain": [
       "     credit_trx_id credit_trx_date credit_trx_type  credit_value  credit_saldo  record_id          created_at          updated_at\n",
       "313            314      2021-02-05        Purchase         -1.00         -4.00     306.00 2021-02-23 13:22:16                 NaT\n",
       "314            315      2021-02-05        Purchase         -1.00         -5.00     307.00 2021-02-23 13:22:16                 NaT\n",
       "315            316      2021-02-08        Addition          1.00         -4.00        nan 2021-02-23 13:22:16                 NaT\n",
       "316            317      2021-02-08        Purchase         -1.00         -5.00     308.00 2021-02-23 13:22:16                 NaT\n",
       "317            318      2021-02-18        Addition          1.00         -4.00        nan 2021-02-23 13:22:16                 NaT\n",
       "318            319      2020-10-23        Purchase          0.00         -4.00     309.00 2021-02-23 13:22:16                 NaT\n",
       "319            320      2021-02-19        Purchase          0.00         -4.00     311.00 2021-02-23 13:22:16                 NaT\n",
       "320            321      2021-02-19        Purchase          0.00         -4.00     312.00 2021-02-23 13:22:16                 NaT\n",
       "321            322      2021-02-19        Purchase          0.00         -4.00     310.00 2021-02-23 13:22:16 2021-02-23 13:24:22\n",
       "322            323      2020-09-13        Purchase          0.00         -4.00     313.00 2021-02-23 13:26:45                 NaT"
      ]
     },
     "execution_count": 10,
     "metadata": {},
     "output_type": "execute_result"
    }
   ],
   "source": [
    "pd.read_sql(\"credit_trx\", engine).tail(10)"
   ]
  },
  {
   "cell_type": "code",
   "execution_count": 11,
   "metadata": {
    "ExecuteTime": {
     "end_time": "2021-02-24T12:54:43.611197Z",
     "start_time": "2021-02-24T12:54:43.376364Z"
    },
    "scrolled": false
   },
   "outputs": [
    {
     "data": {
      "text/html": [
       "<div>\n",
       "<style scoped>\n",
       "    .dataframe tbody tr th:only-of-type {\n",
       "        vertical-align: middle;\n",
       "    }\n",
       "\n",
       "    .dataframe tbody tr th {\n",
       "        vertical-align: top;\n",
       "    }\n",
       "\n",
       "    .dataframe thead th {\n",
       "        text-align: right;\n",
       "    }\n",
       "</style>\n",
       "<table border=\"1\" class=\"dataframe\">\n",
       "  <thead>\n",
       "    <tr style=\"text-align: right;\">\n",
       "      <th></th>\n",
       "      <th>record_id</th>\n",
       "      <th>label_id</th>\n",
       "    </tr>\n",
       "  </thead>\n",
       "  <tbody>\n",
       "    <tr>\n",
       "      <th>303</th>\n",
       "      <td>304</td>\n",
       "      <td>25</td>\n",
       "    </tr>\n",
       "    <tr>\n",
       "      <th>304</th>\n",
       "      <td>305</td>\n",
       "      <td>33</td>\n",
       "    </tr>\n",
       "    <tr>\n",
       "      <th>305</th>\n",
       "      <td>306</td>\n",
       "      <td>33</td>\n",
       "    </tr>\n",
       "    <tr>\n",
       "      <th>306</th>\n",
       "      <td>307</td>\n",
       "      <td>33</td>\n",
       "    </tr>\n",
       "    <tr>\n",
       "      <th>307</th>\n",
       "      <td>308</td>\n",
       "      <td>45</td>\n",
       "    </tr>\n",
       "  </tbody>\n",
       "</table>\n",
       "</div>"
      ],
      "text/plain": [
       "     record_id  label_id\n",
       "303        304        25\n",
       "304        305        33\n",
       "305        306        33\n",
       "306        307        33\n",
       "307        308        45"
      ]
     },
     "execution_count": 11,
     "metadata": {},
     "output_type": "execute_result"
    },
    {
     "data": {
      "text/html": [
       "<div>\n",
       "<style scoped>\n",
       "    .dataframe tbody tr th:only-of-type {\n",
       "        vertical-align: middle;\n",
       "    }\n",
       "\n",
       "    .dataframe tbody tr th {\n",
       "        vertical-align: top;\n",
       "    }\n",
       "\n",
       "    .dataframe thead th {\n",
       "        text-align: right;\n",
       "    }\n",
       "</style>\n",
       "<table border=\"1\" class=\"dataframe\">\n",
       "  <thead>\n",
       "    <tr style=\"text-align: right;\">\n",
       "      <th></th>\n",
       "      <th>artist_id</th>\n",
       "      <th>label_id</th>\n",
       "    </tr>\n",
       "  </thead>\n",
       "  <tbody>\n",
       "    <tr>\n",
       "      <th>216</th>\n",
       "      <td>201</td>\n",
       "      <td>45</td>\n",
       "    </tr>\n",
       "    <tr>\n",
       "      <th>217</th>\n",
       "      <td>202</td>\n",
       "      <td>45</td>\n",
       "    </tr>\n",
       "    <tr>\n",
       "      <th>218</th>\n",
       "      <td>67</td>\n",
       "      <td>46</td>\n",
       "    </tr>\n",
       "    <tr>\n",
       "      <th>219</th>\n",
       "      <td>67</td>\n",
       "      <td>47</td>\n",
       "    </tr>\n",
       "    <tr>\n",
       "      <th>220</th>\n",
       "      <td>67</td>\n",
       "      <td>48</td>\n",
       "    </tr>\n",
       "  </tbody>\n",
       "</table>\n",
       "</div>"
      ],
      "text/plain": [
       "     artist_id  label_id\n",
       "216        201        45\n",
       "217        202        45\n",
       "218         67        46\n",
       "219         67        47\n",
       "220         67        48"
      ]
     },
     "execution_count": 11,
     "metadata": {},
     "output_type": "execute_result"
    },
    {
     "data": {
      "text/html": [
       "<div>\n",
       "<style scoped>\n",
       "    .dataframe tbody tr th:only-of-type {\n",
       "        vertical-align: middle;\n",
       "    }\n",
       "\n",
       "    .dataframe tbody tr th {\n",
       "        vertical-align: top;\n",
       "    }\n",
       "\n",
       "    .dataframe thead th {\n",
       "        text-align: right;\n",
       "    }\n",
       "</style>\n",
       "<table border=\"1\" class=\"dataframe\">\n",
       "  <thead>\n",
       "    <tr style=\"text-align: right;\">\n",
       "      <th></th>\n",
       "      <th>artist_id</th>\n",
       "      <th>genre_id</th>\n",
       "    </tr>\n",
       "  </thead>\n",
       "  <tbody>\n",
       "    <tr>\n",
       "      <th>201</th>\n",
       "      <td>199</td>\n",
       "      <td>1</td>\n",
       "    </tr>\n",
       "    <tr>\n",
       "      <th>202</th>\n",
       "      <td>200</td>\n",
       "      <td>1</td>\n",
       "    </tr>\n",
       "    <tr>\n",
       "      <th>203</th>\n",
       "      <td>201</td>\n",
       "      <td>5</td>\n",
       "    </tr>\n",
       "    <tr>\n",
       "      <th>204</th>\n",
       "      <td>202</td>\n",
       "      <td>5</td>\n",
       "    </tr>\n",
       "    <tr>\n",
       "      <th>205</th>\n",
       "      <td>203</td>\n",
       "      <td>5</td>\n",
       "    </tr>\n",
       "  </tbody>\n",
       "</table>\n",
       "</div>"
      ],
      "text/plain": [
       "     artist_id  genre_id\n",
       "201        199         1\n",
       "202        200         1\n",
       "203        201         5\n",
       "204        202         5\n",
       "205        203         5"
      ]
     },
     "execution_count": 11,
     "metadata": {},
     "output_type": "execute_result"
    },
    {
     "data": {
      "text/html": [
       "<div>\n",
       "<style scoped>\n",
       "    .dataframe tbody tr th:only-of-type {\n",
       "        vertical-align: middle;\n",
       "    }\n",
       "\n",
       "    .dataframe tbody tr th {\n",
       "        vertical-align: top;\n",
       "    }\n",
       "\n",
       "    .dataframe thead th {\n",
       "        text-align: right;\n",
       "    }\n",
       "</style>\n",
       "<table border=\"1\" class=\"dataframe\">\n",
       "  <thead>\n",
       "    <tr style=\"text-align: right;\">\n",
       "      <th></th>\n",
       "      <th>genre_id</th>\n",
       "      <th>label_id</th>\n",
       "    </tr>\n",
       "  </thead>\n",
       "  <tbody>\n",
       "    <tr>\n",
       "      <th>52</th>\n",
       "      <td>1</td>\n",
       "      <td>44</td>\n",
       "    </tr>\n",
       "    <tr>\n",
       "      <th>53</th>\n",
       "      <td>5</td>\n",
       "      <td>45</td>\n",
       "    </tr>\n",
       "    <tr>\n",
       "      <th>54</th>\n",
       "      <td>7</td>\n",
       "      <td>46</td>\n",
       "    </tr>\n",
       "    <tr>\n",
       "      <th>55</th>\n",
       "      <td>7</td>\n",
       "      <td>47</td>\n",
       "    </tr>\n",
       "    <tr>\n",
       "      <th>56</th>\n",
       "      <td>7</td>\n",
       "      <td>48</td>\n",
       "    </tr>\n",
       "  </tbody>\n",
       "</table>\n",
       "</div>"
      ],
      "text/plain": [
       "    genre_id  label_id\n",
       "52         1        44\n",
       "53         5        45\n",
       "54         7        46\n",
       "55         7        47\n",
       "56         7        48"
      ]
     },
     "execution_count": 11,
     "metadata": {},
     "output_type": "execute_result"
    }
   ],
   "source": [
    "pd.read_sql(\"record_label_link\", engine).tail()\n",
    "pd.read_sql(\"artist_label_link\", engine).tail()\n",
    "pd.read_sql(\"artist_genre_link\", engine).tail()\n",
    "pd.read_sql(\"genre_label_link\", engine).tail()"
   ]
  },
  {
   "cell_type": "code",
   "execution_count": 12,
   "metadata": {
    "ExecuteTime": {
     "end_time": "2021-02-24T12:54:43.777194Z",
     "start_time": "2021-02-24T12:54:43.614194Z"
    }
   },
   "outputs": [
    {
     "data": {
      "text/html": [
       "<div>\n",
       "<style scoped>\n",
       "    .dataframe tbody tr th:only-of-type {\n",
       "        vertical-align: middle;\n",
       "    }\n",
       "\n",
       "    .dataframe tbody tr th {\n",
       "        vertical-align: top;\n",
       "    }\n",
       "\n",
       "    .dataframe thead th {\n",
       "        text-align: right;\n",
       "    }\n",
       "</style>\n",
       "<table border=\"1\" class=\"dataframe\">\n",
       "  <thead>\n",
       "    <tr style=\"text-align: right;\">\n",
       "      <th></th>\n",
       "      <th>label_id</th>\n",
       "      <th>label_name</th>\n",
       "      <th>created_at</th>\n",
       "      <th>updated_at</th>\n",
       "    </tr>\n",
       "  </thead>\n",
       "  <tbody>\n",
       "    <tr>\n",
       "      <th>14</th>\n",
       "      <td>15</td>\n",
       "      <td>20 Buck Spin</td>\n",
       "      <td>2021-02-23 13:22:13</td>\n",
       "      <td>NaT</td>\n",
       "    </tr>\n",
       "    <tr>\n",
       "      <th>24</th>\n",
       "      <td>25</td>\n",
       "      <td>6131</td>\n",
       "      <td>2021-02-23 13:22:13</td>\n",
       "      <td>NaT</td>\n",
       "    </tr>\n",
       "    <tr>\n",
       "      <th>46</th>\n",
       "      <td>47</td>\n",
       "      <td>Active Rebellion</td>\n",
       "      <td>2021-02-23 13:54:06</td>\n",
       "      <td>NaT</td>\n",
       "    </tr>\n",
       "    <tr>\n",
       "      <th>17</th>\n",
       "      <td>18</td>\n",
       "      <td>BBB</td>\n",
       "      <td>2021-02-23 13:22:13</td>\n",
       "      <td>NaT</td>\n",
       "    </tr>\n",
       "    <tr>\n",
       "      <th>23</th>\n",
       "      <td>24</td>\n",
       "      <td>BDHW</td>\n",
       "      <td>2021-02-23 13:22:13</td>\n",
       "      <td>NaT</td>\n",
       "    </tr>\n",
       "    <tr>\n",
       "      <th>20</th>\n",
       "      <td>21</td>\n",
       "      <td>Back on Black</td>\n",
       "      <td>2021-02-23 13:22:13</td>\n",
       "      <td>NaT</td>\n",
       "    </tr>\n",
       "    <tr>\n",
       "      <th>29</th>\n",
       "      <td>30</td>\n",
       "      <td>Blood Harvest</td>\n",
       "      <td>2021-02-23 13:22:14</td>\n",
       "      <td>NaT</td>\n",
       "    </tr>\n",
       "    <tr>\n",
       "      <th>15</th>\n",
       "      <td>16</td>\n",
       "      <td>Bridge 9</td>\n",
       "      <td>2021-02-23 13:22:13</td>\n",
       "      <td>NaT</td>\n",
       "    </tr>\n",
       "    <tr>\n",
       "      <th>13</th>\n",
       "      <td>14</td>\n",
       "      <td>Carbonized</td>\n",
       "      <td>2021-02-23 13:22:13</td>\n",
       "      <td>NaT</td>\n",
       "    </tr>\n",
       "    <tr>\n",
       "      <th>5</th>\n",
       "      <td>6</td>\n",
       "      <td>Century Media</td>\n",
       "      <td>2021-02-23 13:22:09</td>\n",
       "      <td>NaT</td>\n",
       "    </tr>\n",
       "    <tr>\n",
       "      <th>36</th>\n",
       "      <td>37</td>\n",
       "      <td>Closed Casket Activities</td>\n",
       "      <td>2021-02-23 13:22:15</td>\n",
       "      <td>NaT</td>\n",
       "    </tr>\n",
       "    <tr>\n",
       "      <th>4</th>\n",
       "      <td>5</td>\n",
       "      <td>Dark Descent</td>\n",
       "      <td>2021-02-23 13:22:09</td>\n",
       "      <td>NaT</td>\n",
       "    </tr>\n",
       "    <tr>\n",
       "      <th>18</th>\n",
       "      <td>19</td>\n",
       "      <td>Dawnbreed</td>\n",
       "      <td>2021-02-23 13:22:13</td>\n",
       "      <td>NaT</td>\n",
       "    </tr>\n",
       "    <tr>\n",
       "      <th>34</th>\n",
       "      <td>35</td>\n",
       "      <td>Daze</td>\n",
       "      <td>2021-02-23 13:22:15</td>\n",
       "      <td>NaT</td>\n",
       "    </tr>\n",
       "    <tr>\n",
       "      <th>16</th>\n",
       "      <td>17</td>\n",
       "      <td>Demons Run Amok Entertainment ‎</td>\n",
       "      <td>2021-02-23 13:22:13</td>\n",
       "      <td>NaT</td>\n",
       "    </tr>\n",
       "    <tr>\n",
       "      <th>2</th>\n",
       "      <td>3</td>\n",
       "      <td>FDA</td>\n",
       "      <td>2021-02-23 13:22:08</td>\n",
       "      <td>NaT</td>\n",
       "    </tr>\n",
       "    <tr>\n",
       "      <th>9</th>\n",
       "      <td>10</td>\n",
       "      <td>Fadeless</td>\n",
       "      <td>2021-02-23 13:22:10</td>\n",
       "      <td>NaT</td>\n",
       "    </tr>\n",
       "    <tr>\n",
       "      <th>44</th>\n",
       "      <td>45</td>\n",
       "      <td>Flatspot</td>\n",
       "      <td>2021-02-23 13:22:15</td>\n",
       "      <td>NaT</td>\n",
       "    </tr>\n",
       "    <tr>\n",
       "      <th>39</th>\n",
       "      <td>40</td>\n",
       "      <td>GSR</td>\n",
       "      <td>2021-02-23 13:22:15</td>\n",
       "      <td>NaT</td>\n",
       "    </tr>\n",
       "    <tr>\n",
       "      <th>10</th>\n",
       "      <td>11</td>\n",
       "      <td>Give Praise</td>\n",
       "      <td>2021-02-23 13:22:12</td>\n",
       "      <td>NaT</td>\n",
       "    </tr>\n",
       "    <tr>\n",
       "      <th>26</th>\n",
       "      <td>27</td>\n",
       "      <td>Hells Headbangers</td>\n",
       "      <td>2021-02-23 13:22:14</td>\n",
       "      <td>NaT</td>\n",
       "    </tr>\n",
       "    <tr>\n",
       "      <th>40</th>\n",
       "      <td>41</td>\n",
       "      <td>Injustice</td>\n",
       "      <td>2021-02-23 13:22:15</td>\n",
       "      <td>NaT</td>\n",
       "    </tr>\n",
       "    <tr>\n",
       "      <th>35</th>\n",
       "      <td>36</td>\n",
       "      <td>Iron Lung</td>\n",
       "      <td>2021-02-23 13:22:15</td>\n",
       "      <td>NaT</td>\n",
       "    </tr>\n",
       "    <tr>\n",
       "      <th>37</th>\n",
       "      <td>38</td>\n",
       "      <td>MLVLTD</td>\n",
       "      <td>2021-02-23 13:22:15</td>\n",
       "      <td>NaT</td>\n",
       "    </tr>\n",
       "    <tr>\n",
       "      <th>31</th>\n",
       "      <td>32</td>\n",
       "      <td>Maggot Stomp</td>\n",
       "      <td>2021-02-23 13:22:14</td>\n",
       "      <td>NaT</td>\n",
       "    </tr>\n",
       "    <tr>\n",
       "      <th>27</th>\n",
       "      <td>28</td>\n",
       "      <td>Me Saco Un Ojo</td>\n",
       "      <td>2021-02-23 13:22:14</td>\n",
       "      <td>NaT</td>\n",
       "    </tr>\n",
       "    <tr>\n",
       "      <th>1</th>\n",
       "      <td>2</td>\n",
       "      <td>Metal Blade</td>\n",
       "      <td>2021-02-23 13:22:08</td>\n",
       "      <td>NaT</td>\n",
       "    </tr>\n",
       "    <tr>\n",
       "      <th>0</th>\n",
       "      <td>1</td>\n",
       "      <td>NA</td>\n",
       "      <td>2021-02-23 13:22:07</td>\n",
       "      <td>NaT</td>\n",
       "    </tr>\n",
       "    <tr>\n",
       "      <th>47</th>\n",
       "      <td>48</td>\n",
       "      <td>Neanderthal-Stench</td>\n",
       "      <td>2021-02-23 13:54:57</td>\n",
       "      <td>NaT</td>\n",
       "    </tr>\n",
       "    <tr>\n",
       "      <th>8</th>\n",
       "      <td>9</td>\n",
       "      <td>Peaceville</td>\n",
       "      <td>2021-02-23 13:22:10</td>\n",
       "      <td>NaT</td>\n",
       "    </tr>\n",
       "    <tr>\n",
       "      <th>30</th>\n",
       "      <td>31</td>\n",
       "      <td>Profound Lore</td>\n",
       "      <td>2021-02-23 13:22:14</td>\n",
       "      <td>NaT</td>\n",
       "    </tr>\n",
       "    <tr>\n",
       "      <th>21</th>\n",
       "      <td>22</td>\n",
       "      <td>Pure Noise</td>\n",
       "      <td>2021-02-23 13:22:13</td>\n",
       "      <td>NaT</td>\n",
       "    </tr>\n",
       "    <tr>\n",
       "      <th>7</th>\n",
       "      <td>8</td>\n",
       "      <td>R/C</td>\n",
       "      <td>2021-02-23 13:22:10</td>\n",
       "      <td>NaT</td>\n",
       "    </tr>\n",
       "    <tr>\n",
       "      <th>41</th>\n",
       "      <td>42</td>\n",
       "      <td>Redefining Darkness</td>\n",
       "      <td>2021-02-23 13:22:15</td>\n",
       "      <td>NaT</td>\n",
       "    </tr>\n",
       "    <tr>\n",
       "      <th>11</th>\n",
       "      <td>12</td>\n",
       "      <td>Relapse</td>\n",
       "      <td>2021-02-23 13:22:13</td>\n",
       "      <td>NaT</td>\n",
       "    </tr>\n",
       "    <tr>\n",
       "      <th>6</th>\n",
       "      <td>7</td>\n",
       "      <td>Roadrunner</td>\n",
       "      <td>2021-02-23 13:22:09</td>\n",
       "      <td>NaT</td>\n",
       "    </tr>\n",
       "    <tr>\n",
       "      <th>22</th>\n",
       "      <td>23</td>\n",
       "      <td>Safe Inside</td>\n",
       "      <td>2021-02-23 13:22:13</td>\n",
       "      <td>NaT</td>\n",
       "    </tr>\n",
       "    <tr>\n",
       "      <th>45</th>\n",
       "      <td>46</td>\n",
       "      <td>Scream</td>\n",
       "      <td>2021-02-23 13:54:06</td>\n",
       "      <td>NaT</td>\n",
       "    </tr>\n",
       "    <tr>\n",
       "      <th>3</th>\n",
       "      <td>4</td>\n",
       "      <td>Season Of Mist</td>\n",
       "      <td>2021-02-23 13:22:09</td>\n",
       "      <td>NaT</td>\n",
       "    </tr>\n",
       "    <tr>\n",
       "      <th>33</th>\n",
       "      <td>34</td>\n",
       "      <td>Selfmadegod</td>\n",
       "      <td>2021-02-23 13:22:14</td>\n",
       "      <td>NaT</td>\n",
       "    </tr>\n",
       "    <tr>\n",
       "      <th>19</th>\n",
       "      <td>20</td>\n",
       "      <td>Sentient Ruin</td>\n",
       "      <td>2021-02-23 13:22:13</td>\n",
       "      <td>NaT</td>\n",
       "    </tr>\n",
       "    <tr>\n",
       "      <th>43</th>\n",
       "      <td>44</td>\n",
       "      <td>Seven Metal Inches</td>\n",
       "      <td>2021-02-23 13:22:15</td>\n",
       "      <td>NaT</td>\n",
       "    </tr>\n",
       "    <tr>\n",
       "      <th>32</th>\n",
       "      <td>33</td>\n",
       "      <td>Southern Lord</td>\n",
       "      <td>2021-02-23 13:22:14</td>\n",
       "      <td>NaT</td>\n",
       "    </tr>\n",
       "    <tr>\n",
       "      <th>12</th>\n",
       "      <td>13</td>\n",
       "      <td>Tankcrimes</td>\n",
       "      <td>2021-02-23 13:22:13</td>\n",
       "      <td>NaT</td>\n",
       "    </tr>\n",
       "    <tr>\n",
       "      <th>28</th>\n",
       "      <td>29</td>\n",
       "      <td>Terror From Hell</td>\n",
       "      <td>2021-02-23 13:22:14</td>\n",
       "      <td>NaT</td>\n",
       "    </tr>\n",
       "    <tr>\n",
       "      <th>38</th>\n",
       "      <td>39</td>\n",
       "      <td>Testimony</td>\n",
       "      <td>2021-02-23 13:22:15</td>\n",
       "      <td>NaT</td>\n",
       "    </tr>\n",
       "    <tr>\n",
       "      <th>25</th>\n",
       "      <td>26</td>\n",
       "      <td>Time To Kill</td>\n",
       "      <td>2021-02-23 13:22:14</td>\n",
       "      <td>NaT</td>\n",
       "    </tr>\n",
       "    <tr>\n",
       "      <th>42</th>\n",
       "      <td>43</td>\n",
       "      <td>Transcendenting Obscurity</td>\n",
       "      <td>2021-02-23 13:22:15</td>\n",
       "      <td>NaT</td>\n",
       "    </tr>\n",
       "  </tbody>\n",
       "</table>\n",
       "</div>"
      ],
      "text/plain": [
       "    label_id                       label_name          created_at updated_at\n",
       "14        15                     20 Buck Spin 2021-02-23 13:22:13        NaT\n",
       "24        25                             6131 2021-02-23 13:22:13        NaT\n",
       "46        47                 Active Rebellion 2021-02-23 13:54:06        NaT\n",
       "17        18                              BBB 2021-02-23 13:22:13        NaT\n",
       "23        24                             BDHW 2021-02-23 13:22:13        NaT\n",
       "20        21                    Back on Black 2021-02-23 13:22:13        NaT\n",
       "29        30                    Blood Harvest 2021-02-23 13:22:14        NaT\n",
       "15        16                         Bridge 9 2021-02-23 13:22:13        NaT\n",
       "13        14                       Carbonized 2021-02-23 13:22:13        NaT\n",
       "5          6                    Century Media 2021-02-23 13:22:09        NaT\n",
       "36        37         Closed Casket Activities 2021-02-23 13:22:15        NaT\n",
       "4          5                     Dark Descent 2021-02-23 13:22:09        NaT\n",
       "18        19                        Dawnbreed 2021-02-23 13:22:13        NaT\n",
       "34        35                             Daze 2021-02-23 13:22:15        NaT\n",
       "16        17  Demons Run Amok Entertainment ‎ 2021-02-23 13:22:13        NaT\n",
       "2          3                              FDA 2021-02-23 13:22:08        NaT\n",
       "9         10                         Fadeless 2021-02-23 13:22:10        NaT\n",
       "44        45                         Flatspot 2021-02-23 13:22:15        NaT\n",
       "39        40                              GSR 2021-02-23 13:22:15        NaT\n",
       "10        11                      Give Praise 2021-02-23 13:22:12        NaT\n",
       "26        27                Hells Headbangers 2021-02-23 13:22:14        NaT\n",
       "40        41                        Injustice 2021-02-23 13:22:15        NaT\n",
       "35        36                        Iron Lung 2021-02-23 13:22:15        NaT\n",
       "37        38                           MLVLTD 2021-02-23 13:22:15        NaT\n",
       "31        32                     Maggot Stomp 2021-02-23 13:22:14        NaT\n",
       "27        28                   Me Saco Un Ojo 2021-02-23 13:22:14        NaT\n",
       "1          2                      Metal Blade 2021-02-23 13:22:08        NaT\n",
       "0          1                               NA 2021-02-23 13:22:07        NaT\n",
       "47        48               Neanderthal-Stench 2021-02-23 13:54:57        NaT\n",
       "8          9                       Peaceville 2021-02-23 13:22:10        NaT\n",
       "30        31                    Profound Lore 2021-02-23 13:22:14        NaT\n",
       "21        22                       Pure Noise 2021-02-23 13:22:13        NaT\n",
       "7          8                              R/C 2021-02-23 13:22:10        NaT\n",
       "41        42              Redefining Darkness 2021-02-23 13:22:15        NaT\n",
       "11        12                          Relapse 2021-02-23 13:22:13        NaT\n",
       "6          7                       Roadrunner 2021-02-23 13:22:09        NaT\n",
       "22        23                      Safe Inside 2021-02-23 13:22:13        NaT\n",
       "45        46                           Scream 2021-02-23 13:54:06        NaT\n",
       "3          4                   Season Of Mist 2021-02-23 13:22:09        NaT\n",
       "33        34                      Selfmadegod 2021-02-23 13:22:14        NaT\n",
       "19        20                    Sentient Ruin 2021-02-23 13:22:13        NaT\n",
       "43        44               Seven Metal Inches 2021-02-23 13:22:15        NaT\n",
       "32        33                    Southern Lord 2021-02-23 13:22:14        NaT\n",
       "12        13                       Tankcrimes 2021-02-23 13:22:13        NaT\n",
       "28        29                 Terror From Hell 2021-02-23 13:22:14        NaT\n",
       "38        39                        Testimony 2021-02-23 13:22:15        NaT\n",
       "25        26                    Time To Kill  2021-02-23 13:22:14        NaT\n",
       "42        43        Transcendenting Obscurity 2021-02-23 13:22:15        NaT"
      ]
     },
     "execution_count": 12,
     "metadata": {},
     "output_type": "execute_result"
    }
   ],
   "source": [
    "pd.read_sql(\"labels\", engine).sort_values(\"label_name\")"
   ]
  },
  {
   "cell_type": "code",
   "execution_count": 13,
   "metadata": {
    "ExecuteTime": {
     "end_time": "2021-02-24T12:54:43.968197Z",
     "start_time": "2021-02-24T12:54:43.780197Z"
    }
   },
   "outputs": [
    {
     "name": "stdout",
     "output_type": "stream",
     "text": [
      "<Record(record_id=11, title=Uprising, artist=[<Artist(artist_id=4, artist_name=Entombed)>])> 2013-07-01\n",
      "<Record(record_id=12, title=Morning Star, artist=[<Artist(artist_id=4, artist_name=Entombed)>])> 2013-07-01\n",
      "<Record(record_id=23, title=Wolverine Blues, artist=[<Artist(artist_id=4, artist_name=Entombed)>])> 2014-01-01\n",
      "<Record(record_id=36, title=Clandestine, artist=[<Artist(artist_id=4, artist_name=Entombed)>])> 2015-08-01\n",
      "<Record(record_id=40, title=Left Hand Path, artist=[<Artist(artist_id=4, artist_name=Entombed)>])> 2015-10-01\n"
     ]
    },
    {
     "name": "stderr",
     "output_type": "stream",
     "text": [
      "C:\\Users\\r2d4\\miniconda3\\envs\\py3\\lib\\site-packages\\sqlalchemy\\sql\\sqltypes.py:660: SAWarning: Dialect sqlite+pysqlite does *not* support Decimal objects natively, and SQLAlchemy must convert from floating point - rounding errors and other issues may occur. Please consider storing Decimal numbers as strings or integers on this platform for lossless storage.\n",
      "  util.warn(\n"
     ]
    }
   ],
   "source": [
    "result = session.query(Record).filter(Record.artists.any(Artist.artist_name == \"Entombed\")).all()\n",
    "for record in result:\n",
    "    print(record, record.purchase_date)"
   ]
  },
  {
   "cell_type": "code",
   "execution_count": 14,
   "metadata": {
    "ExecuteTime": {
     "end_time": "2021-02-24T12:54:44.103196Z",
     "start_time": "2021-02-24T12:54:43.971197Z"
    }
   },
   "outputs": [
    {
     "name": "stdout",
     "output_type": "stream",
     "text": [
      "Sweden\n"
     ]
    }
   ],
   "source": [
    "result = session.query(Artist).filter(Artist.artist_name == \"Entombed\").one()\n",
    "print(result.artist_country)"
   ]
  },
  {
   "cell_type": "code",
   "execution_count": 15,
   "metadata": {
    "ExecuteTime": {
     "end_time": "2021-02-24T12:54:44.292200Z",
     "start_time": "2021-02-24T12:54:44.106197Z"
    }
   },
   "outputs": [
    {
     "data": {
      "text/html": [
       "<div>\n",
       "<style scoped>\n",
       "    .dataframe tbody tr th:only-of-type {\n",
       "        vertical-align: middle;\n",
       "    }\n",
       "\n",
       "    .dataframe tbody tr th {\n",
       "        vertical-align: top;\n",
       "    }\n",
       "\n",
       "    .dataframe thead th {\n",
       "        text-align: right;\n",
       "    }\n",
       "</style>\n",
       "<table border=\"1\" class=\"dataframe\">\n",
       "  <thead>\n",
       "    <tr style=\"text-align: right;\">\n",
       "      <th></th>\n",
       "      <th>format_id</th>\n",
       "      <th>format_name</th>\n",
       "      <th>created_at</th>\n",
       "      <th>updated_at</th>\n",
       "    </tr>\n",
       "  </thead>\n",
       "  <tbody>\n",
       "    <tr>\n",
       "      <th>0</th>\n",
       "      <td>1</td>\n",
       "      <td>12\"</td>\n",
       "      <td>2021-02-23 13:22:07</td>\n",
       "      <td>NaT</td>\n",
       "    </tr>\n",
       "    <tr>\n",
       "      <th>1</th>\n",
       "      <td>2</td>\n",
       "      <td>7\" Pic</td>\n",
       "      <td>2021-02-23 13:22:07</td>\n",
       "      <td>NaT</td>\n",
       "    </tr>\n",
       "    <tr>\n",
       "      <th>2</th>\n",
       "      <td>3</td>\n",
       "      <td>LP</td>\n",
       "      <td>2021-02-23 13:22:07</td>\n",
       "      <td>NaT</td>\n",
       "    </tr>\n",
       "    <tr>\n",
       "      <th>3</th>\n",
       "      <td>4</td>\n",
       "      <td>2LP</td>\n",
       "      <td>2021-02-23 13:22:07</td>\n",
       "      <td>NaT</td>\n",
       "    </tr>\n",
       "    <tr>\n",
       "      <th>4</th>\n",
       "      <td>5</td>\n",
       "      <td>10\"</td>\n",
       "      <td>2021-02-23 13:22:07</td>\n",
       "      <td>NaT</td>\n",
       "    </tr>\n",
       "    <tr>\n",
       "      <th>5</th>\n",
       "      <td>6</td>\n",
       "      <td>7\"</td>\n",
       "      <td>2021-02-23 13:22:07</td>\n",
       "      <td>NaT</td>\n",
       "    </tr>\n",
       "    <tr>\n",
       "      <th>6</th>\n",
       "      <td>7</td>\n",
       "      <td>MLP</td>\n",
       "      <td>2021-02-23 13:22:07</td>\n",
       "      <td>NaT</td>\n",
       "    </tr>\n",
       "    <tr>\n",
       "      <th>7</th>\n",
       "      <td>8</td>\n",
       "      <td>2xLP</td>\n",
       "      <td>2021-02-23 13:22:08</td>\n",
       "      <td>NaT</td>\n",
       "    </tr>\n",
       "    <tr>\n",
       "      <th>8</th>\n",
       "      <td>9</td>\n",
       "      <td>LP</td>\n",
       "      <td>2021-02-23 13:22:11</td>\n",
       "      <td>NaT</td>\n",
       "    </tr>\n",
       "    <tr>\n",
       "      <th>9</th>\n",
       "      <td>10</td>\n",
       "      <td>Pic-LP</td>\n",
       "      <td>2021-02-23 13:22:12</td>\n",
       "      <td>NaT</td>\n",
       "    </tr>\n",
       "    <tr>\n",
       "      <th>10</th>\n",
       "      <td>11</td>\n",
       "      <td>Tape</td>\n",
       "      <td>2021-02-23 13:22:15</td>\n",
       "      <td>NaT</td>\n",
       "    </tr>\n",
       "  </tbody>\n",
       "</table>\n",
       "</div>"
      ],
      "text/plain": [
       "    format_id format_name          created_at updated_at\n",
       "0           1         12\" 2021-02-23 13:22:07        NaT\n",
       "1           2      7\" Pic 2021-02-23 13:22:07        NaT\n",
       "2           3          LP 2021-02-23 13:22:07        NaT\n",
       "3           4         2LP 2021-02-23 13:22:07        NaT\n",
       "4           5         10\" 2021-02-23 13:22:07        NaT\n",
       "5           6          7\" 2021-02-23 13:22:07        NaT\n",
       "6           7         MLP 2021-02-23 13:22:07        NaT\n",
       "7           8        2xLP 2021-02-23 13:22:08        NaT\n",
       "8           9         LP  2021-02-23 13:22:11        NaT\n",
       "9          10      Pic-LP 2021-02-23 13:22:12        NaT\n",
       "10         11        Tape 2021-02-23 13:22:15        NaT"
      ]
     },
     "execution_count": 15,
     "metadata": {},
     "output_type": "execute_result"
    }
   ],
   "source": [
    "pd.read_sql(\"formats\", engine)"
   ]
  },
  {
   "cell_type": "code",
   "execution_count": 16,
   "metadata": {
    "ExecuteTime": {
     "end_time": "2021-02-24T12:54:44.462195Z",
     "start_time": "2021-02-24T12:54:44.295197Z"
    }
   },
   "outputs": [
    {
     "data": {
      "text/html": [
       "<div>\n",
       "<style scoped>\n",
       "    .dataframe tbody tr th:only-of-type {\n",
       "        vertical-align: middle;\n",
       "    }\n",
       "\n",
       "    .dataframe tbody tr th {\n",
       "        vertical-align: top;\n",
       "    }\n",
       "\n",
       "    .dataframe thead th {\n",
       "        text-align: right;\n",
       "    }\n",
       "</style>\n",
       "<table border=\"1\" class=\"dataframe\">\n",
       "  <thead>\n",
       "    <tr style=\"text-align: right;\">\n",
       "      <th></th>\n",
       "      <th>genre_id</th>\n",
       "      <th>genre_name</th>\n",
       "      <th>created_at</th>\n",
       "      <th>updated_at</th>\n",
       "    </tr>\n",
       "  </thead>\n",
       "  <tbody>\n",
       "    <tr>\n",
       "      <th>0</th>\n",
       "      <td>1</td>\n",
       "      <td>Death Metal</td>\n",
       "      <td>2021-02-23 13:22:07</td>\n",
       "      <td>NaT</td>\n",
       "    </tr>\n",
       "    <tr>\n",
       "      <th>1</th>\n",
       "      <td>2</td>\n",
       "      <td>Thrash Metal</td>\n",
       "      <td>2021-02-23 13:22:07</td>\n",
       "      <td>NaT</td>\n",
       "    </tr>\n",
       "    <tr>\n",
       "      <th>2</th>\n",
       "      <td>3</td>\n",
       "      <td>Black Metal</td>\n",
       "      <td>2021-02-23 13:22:07</td>\n",
       "      <td>NaT</td>\n",
       "    </tr>\n",
       "    <tr>\n",
       "      <th>3</th>\n",
       "      <td>4</td>\n",
       "      <td>Speed Metal</td>\n",
       "      <td>2021-02-23 13:22:07</td>\n",
       "      <td>NaT</td>\n",
       "    </tr>\n",
       "    <tr>\n",
       "      <th>4</th>\n",
       "      <td>5</td>\n",
       "      <td>Hardcore</td>\n",
       "      <td>2021-02-23 13:22:08</td>\n",
       "      <td>NaT</td>\n",
       "    </tr>\n",
       "    <tr>\n",
       "      <th>5</th>\n",
       "      <td>6</td>\n",
       "      <td>Punk</td>\n",
       "      <td>2021-02-23 13:22:10</td>\n",
       "      <td>NaT</td>\n",
       "    </tr>\n",
       "    <tr>\n",
       "      <th>6</th>\n",
       "      <td>7</td>\n",
       "      <td>Crust</td>\n",
       "      <td>2021-02-23 13:22:10</td>\n",
       "      <td>NaT</td>\n",
       "    </tr>\n",
       "    <tr>\n",
       "      <th>7</th>\n",
       "      <td>8</td>\n",
       "      <td>Crossover</td>\n",
       "      <td>2021-02-23 13:22:14</td>\n",
       "      <td>NaT</td>\n",
       "    </tr>\n",
       "    <tr>\n",
       "      <th>8</th>\n",
       "      <td>9</td>\n",
       "      <td>Grindcore</td>\n",
       "      <td>2021-02-23 13:22:15</td>\n",
       "      <td>NaT</td>\n",
       "    </tr>\n",
       "  </tbody>\n",
       "</table>\n",
       "</div>"
      ],
      "text/plain": [
       "   genre_id    genre_name          created_at updated_at\n",
       "0         1   Death Metal 2021-02-23 13:22:07        NaT\n",
       "1         2  Thrash Metal 2021-02-23 13:22:07        NaT\n",
       "2         3   Black Metal 2021-02-23 13:22:07        NaT\n",
       "3         4   Speed Metal 2021-02-23 13:22:07        NaT\n",
       "4         5      Hardcore 2021-02-23 13:22:08        NaT\n",
       "5         6          Punk 2021-02-23 13:22:10        NaT\n",
       "6         7         Crust 2021-02-23 13:22:10        NaT\n",
       "7         8     Crossover 2021-02-23 13:22:14        NaT\n",
       "8         9     Grindcore 2021-02-23 13:22:15        NaT"
      ]
     },
     "execution_count": 16,
     "metadata": {},
     "output_type": "execute_result"
    }
   ],
   "source": [
    "pd.read_sql(\"genres\", engine)"
   ]
  },
  {
   "cell_type": "code",
   "execution_count": null,
   "metadata": {},
   "outputs": [],
   "source": []
  },
  {
   "cell_type": "markdown",
   "metadata": {},
   "source": [
    "## Inactivate A Record (Temporary Section)"
   ]
  },
  {
   "cell_type": "code",
   "execution_count": 17,
   "metadata": {
    "ExecuteTime": {
     "end_time": "2021-02-24T12:54:44.596196Z",
     "start_time": "2021-02-24T12:54:44.465197Z"
    }
   },
   "outputs": [],
   "source": [
    "# removal = {\n",
    "#     \"trx_type\": \"Removal\",\n",
    "#     \"credit_value\": 0,\n",
    "#     \"artist\": \"Furia\",\n",
    "#     \"title\": \"Marzannie, Królowej Polski\",\n",
    "#     \"year\": 2012,\n",
    "#     \"date\": dt.datetime.today().date()\n",
    "# }"
   ]
  },
  {
   "cell_type": "code",
   "execution_count": 18,
   "metadata": {
    "ExecuteTime": {
     "end_time": "2021-02-24T12:54:44.728193Z",
     "start_time": "2021-02-24T12:54:44.599195Z"
    }
   },
   "outputs": [],
   "source": [
    "# db_functions.set_record_to_inactive(session, removal)"
   ]
  },
  {
   "cell_type": "code",
   "execution_count": 19,
   "metadata": {
    "ExecuteTime": {
     "end_time": "2021-02-24T12:54:44.861206Z",
     "start_time": "2021-02-24T12:54:44.731196Z"
    }
   },
   "outputs": [],
   "source": [
    "# pd.read_sql(\"credit_trx\", engine).tail()"
   ]
  },
  {
   "cell_type": "code",
   "execution_count": 20,
   "metadata": {
    "ExecuteTime": {
     "end_time": "2021-02-24T12:54:44.990193Z",
     "start_time": "2021-02-24T12:54:44.864197Z"
    }
   },
   "outputs": [],
   "source": [
    "# to_delete = session.query(CreditTrx).filter(CreditTrx.credit_trx_id == 301).one()\n",
    "# session.delete(to_delete)\n",
    "# session.commit()"
   ]
  },
  {
   "cell_type": "markdown",
   "metadata": {},
   "source": [
    "## Backfill Missing Record-Format-Relations in Records Table (Done)"
   ]
  },
  {
   "cell_type": "code",
   "execution_count": 21,
   "metadata": {
    "ExecuteTime": {
     "end_time": "2021-02-24T12:54:45.118222Z",
     "start_time": "2021-02-24T12:54:44.992194Z"
    }
   },
   "outputs": [],
   "source": [
    "# def load_albums_from_xlsx(\n",
    "#     filepath: Union[Path, str], genres: Optional[List] = None\n",
    "# ) -> pd.DataFrame:\n",
    "#     \"\"\"Load the original album collection file into a dataframe.\n",
    "#     You can specify a list of genres you want to include\n",
    "#     (defaults to None).\n",
    "#     \"\"\"\n",
    "#     df = pd.read_excel(filepath, engine=\"openpyxl\")\n",
    "#     if genres:\n",
    "#         df = df[df[\"Genre\"].isin(genres)]\n",
    "#     return df"
   ]
  },
  {
   "cell_type": "code",
   "execution_count": 22,
   "metadata": {
    "ExecuteTime": {
     "end_time": "2021-02-24T12:54:45.241196Z",
     "start_time": "2021-02-24T12:54:45.121193Z"
    }
   },
   "outputs": [],
   "source": [
    "# CONFIG_PATH = Path.cwd().parent / \"config.cfg\"\n",
    "# path_to_collection = utils.read_config_return_str(CONFIG_PATH, \"COLLECTION\")\n",
    "# collection_df = load_albums_from_xlsx(path_to_collection)\n",
    "# collection_df = clean.prettify_column_names(collection_df)\n",
    "# collection_df.dropna(thresh=8, inplace=True)\n",
    "# collection_df.rename(columns={\"format\": \"record_format\"}, inplace=True)\n",
    "# # collection_df[\"purchase_date\"] = collection_df[\"purchase_date\"].dt.date.astype(str)\n",
    "# # collection_df[\"number\"] = collection_df[\"number\"].astype(str)\n",
    "# # collection_df[\"digitized\"] = collection_df[\"digitized\"].map({True: 1, False: 0}).astype(int)\n",
    "# collection_df[\"label\"].fillna(\"NA\", inplace=True)  # because it creates a foreign key\n",
    "\n",
    "# # This is for the initial ingestion only\n",
    "# collection_df[\"artist_country\"] = None\n",
    "# collection_df[\"credit_value\"] = 0\n",
    "# collection_df[\"trx_type\"] = \"Initial Load\"\n",
    "\n",
    "# assert len(collection_df) == 293"
   ]
  },
  {
   "cell_type": "code",
   "execution_count": 23,
   "metadata": {
    "ExecuteTime": {
     "end_time": "2021-02-24T12:54:45.375195Z",
     "start_time": "2021-02-24T12:54:45.246195Z"
    }
   },
   "outputs": [],
   "source": [
    "# # backfill\n",
    "\n",
    "# for rec in collection_df.itertuples():\n",
    "#     record = db_functions.fetch_a_record_from_the_shelf(session, rec.artist, rec.title)\n",
    "#     r_format = rec.record_format\n",
    "    \n",
    "#     # Check if the format already exists or has to be created\n",
    "#     record_format = (\n",
    "#         session.query(RecordFormat)\n",
    "#         .filter(RecordFormat.format_name.ilike(r_format))\n",
    "#         .one_or_none()\n",
    "#     )\n",
    "#     if record_format is None:\n",
    "#         record_format = RecordFormat(format_name=r_format)\n",
    "#         session.add(record_format)\n",
    "    \n",
    "#     record.record_format = record_format\n",
    "\n",
    "# session.commit()"
   ]
  },
  {
   "cell_type": "code",
   "execution_count": 24,
   "metadata": {
    "ExecuteTime": {
     "end_time": "2021-02-24T12:54:45.505191Z",
     "start_time": "2021-02-24T12:54:45.378195Z"
    }
   },
   "outputs": [],
   "source": [
    "# # Manual Update\n",
    "\n",
    "# record = session.query(Record).filter(Record.record_id == 295).one()\n",
    "# r_format = '12\"'\n",
    "\n",
    "# # Check if the format already exists or has to be created\n",
    "# record_format = (\n",
    "#     session.query(RecordFormat)\n",
    "#     .filter(RecordFormat.format_name.ilike(r_format))\n",
    "#     .one_or_none()\n",
    "# )\n",
    "# if record_format is None:\n",
    "#     record_format = RecordFormat(format_name=r_format)\n",
    "#     session.add(record_format)\n",
    "\n",
    "# record.record_format = record_format\n",
    "\n",
    "# session.commit()"
   ]
  },
  {
   "cell_type": "markdown",
   "metadata": {},
   "source": [
    "## Manual Updates\n",
    "\n",
    "### Credit Trx"
   ]
  },
  {
   "cell_type": "code",
   "execution_count": 25,
   "metadata": {
    "ExecuteTime": {
     "end_time": "2021-02-24T12:54:45.640196Z",
     "start_time": "2021-02-24T12:54:45.507194Z"
    }
   },
   "outputs": [],
   "source": [
    "# result = session.query(CreditTrx).filter(CreditTrx.credit_trx_type == \"Removal\").all()\n",
    "# for r in result:\n",
    "#     r.credit_trx_type = \"Remove\"\n",
    "#     print(r)"
   ]
  },
  {
   "cell_type": "code",
   "execution_count": 26,
   "metadata": {
    "ExecuteTime": {
     "end_time": "2021-02-24T12:54:45.773195Z",
     "start_time": "2021-02-24T12:54:45.642195Z"
    }
   },
   "outputs": [],
   "source": [
    "# r = session.query(Artist).filter(Artist.artist_name == \"CELESTIAL SANCTUARY\").one()\n",
    "# r.artist_name = \"Celestial Sanctuary\""
   ]
  },
  {
   "cell_type": "code",
   "execution_count": 27,
   "metadata": {
    "ExecuteTime": {
     "end_time": "2021-02-24T12:54:45.894196Z",
     "start_time": "2021-02-24T12:54:45.775195Z"
    }
   },
   "outputs": [],
   "source": [
    "# session.commit()"
   ]
  },
  {
   "cell_type": "markdown",
   "metadata": {},
   "source": [
    "### Remove \"Records\" From Label-Names And Split Labels"
   ]
  },
  {
   "cell_type": "code",
   "execution_count": 28,
   "metadata": {
    "ExecuteTime": {
     "end_time": "2021-02-24T12:54:46.036193Z",
     "start_time": "2021-02-24T12:54:45.897197Z"
    }
   },
   "outputs": [],
   "source": [
    "# result = session.query(Label).filter(Label.label_name.like('% Records')).all()\n",
    "# for x in result:\n",
    "#     x.label_name = x.label_name.rpartition(\" Records\")[0]\n",
    "# session.commit()"
   ]
  },
  {
   "cell_type": "code",
   "execution_count": 29,
   "metadata": {
    "ExecuteTime": {
     "end_time": "2021-02-24T12:54:46.177199Z",
     "start_time": "2021-02-24T12:54:46.039196Z"
    }
   },
   "outputs": [],
   "source": [
    "# session.query(Label).get(42)"
   ]
  },
  {
   "cell_type": "code",
   "execution_count": 30,
   "metadata": {
    "ExecuteTime": {
     "end_time": "2021-02-24T12:54:46.324199Z",
     "start_time": "2021-02-24T12:54:46.179196Z"
    }
   },
   "outputs": [],
   "source": [
    "# result = session.query(Label).filter(Label.label_name.contains(' / ')).all()\n",
    "# for x in result:\n",
    "#     print(x)"
   ]
  },
  {
   "cell_type": "code",
   "execution_count": 31,
   "metadata": {
    "ExecuteTime": {
     "end_time": "2021-02-24T12:54:46.465196Z",
     "start_time": "2021-02-24T12:54:46.326196Z"
    }
   },
   "outputs": [],
   "source": [
    "# result = session.query(Record).filter(Record.labels.any(Label.label_id.in_([19, 31, 32])))\n",
    "# for x in result:\n",
    "#     print(x)"
   ]
  },
  {
   "cell_type": "code",
   "execution_count": 32,
   "metadata": {
    "ExecuteTime": {
     "end_time": "2021-02-24T12:54:46.604192Z",
     "start_time": "2021-02-24T12:54:46.468197Z"
    }
   },
   "outputs": [],
   "source": [
    "# jack = session.query(Label).filter(Label.label_id.in_([19, 31, 32])).all()\n",
    "# for x in jack:\n",
    "#     print(x)\n",
    "#     session.delete(x)\n",
    "# session.commit()"
   ]
  },
  {
   "cell_type": "code",
   "execution_count": 33,
   "metadata": {
    "ExecuteTime": {
     "end_time": "2021-02-24T12:54:46.738191Z",
     "start_time": "2021-02-24T12:54:46.606194Z"
    }
   },
   "outputs": [],
   "source": [
    "# session.close()"
   ]
  },
  {
   "cell_type": "markdown",
   "metadata": {},
   "source": [
    "### Update Stuff"
   ]
  },
  {
   "cell_type": "code",
   "execution_count": 54,
   "metadata": {
    "ExecuteTime": {
     "end_time": "2021-02-24T14:42:17.801782Z",
     "start_time": "2021-02-24T14:42:17.647372Z"
    }
   },
   "outputs": [
    {
     "name": "stdout",
     "output_type": "stream",
     "text": [
      "6 Ironbound\n",
      "9 Electric Age\n",
      "263 Døden Læger Alle Sår\n"
     ]
    }
   ],
   "source": [
    "result = (\n",
    "    session.query(Record)\n",
    "    .join(RecordFormat, RecordFormat.format_id == Record.format_id)\n",
    "    .filter(RecordFormat.format_name == '2LP')\n",
    "    .all()\n",
    ")\n",
    "for r in result:\n",
    "    print(r.record_id, r.title)\n"
   ]
  }
 ],
 "metadata": {
  "hide_input": false,
  "kernelspec": {
   "display_name": "Python 3",
   "language": "python",
   "name": "python3"
  },
  "language_info": {
   "codemirror_mode": {
    "name": "ipython",
    "version": 3
   },
   "file_extension": ".py",
   "mimetype": "text/x-python",
   "name": "python",
   "nbconvert_exporter": "python",
   "pygments_lexer": "ipython3",
   "version": "3.8.3"
  },
  "toc": {
   "base_numbering": 1,
   "nav_menu": {},
   "number_sections": true,
   "sideBar": false,
   "skip_h1_title": true,
   "title_cell": "Table of Contents",
   "title_sidebar": "Contents",
   "toc_cell": false,
   "toc_position": {},
   "toc_section_display": true,
   "toc_window_display": false
  }
 },
 "nbformat": 4,
 "nbformat_minor": 4
}
