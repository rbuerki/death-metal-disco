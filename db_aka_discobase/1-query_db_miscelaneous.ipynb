{
 "cells": [
  {
   "cell_type": "code",
   "execution_count": 1,
   "metadata": {
    "ExecuteTime": {
     "end_time": "2020-12-21T09:30:21.816916Z",
     "start_time": "2020-12-21T09:30:21.047715Z"
    }
   },
   "outputs": [],
   "source": [
    "import configparser\n",
    "import sys\n",
    "from pathlib import Path\n",
    "\n",
    "import matplotlib.pyplot as plt\n",
    "import numpy as np\n",
    "import pandas as pd\n",
    "import sqlalchemy\n",
    "import sqlite3\n",
    "\n",
    "import sqlite_utils\n",
    "\n",
    "%load_ext sql"
   ]
  },
  {
   "cell_type": "code",
   "execution_count": 2,
   "metadata": {
    "ExecuteTime": {
     "end_time": "2020-12-21T09:30:21.924116Z",
     "start_time": "2020-12-21T09:30:21.818850Z"
    }
   },
   "outputs": [],
   "source": [
    "%load_ext autoreload\n",
    "%autoreload 2\n",
    "\n",
    "%matplotlib inline\n",
    "plt.style.use('raph-base')\n",
    "\n",
    "from IPython.core.interactiveshell import InteractiveShell\n",
    "InteractiveShell.ast_node_interactivity = 'all'\n",
    "\n",
    "pd.options.display.float_format = '{:,.2f}'.format\n",
    "pd.set_option('display.max_columns', 30)\n",
    "pd.set_option('display.expand_frame_repr', False)\n",
    "pd.set_option('max_colwidth', 800)\n",
    "\n",
    "np.random.seed(666)"
   ]
  },
  {
   "cell_type": "code",
   "execution_count": 3,
   "metadata": {
    "ExecuteTime": {
     "end_time": "2020-12-21T09:30:22.013019Z",
     "start_time": "2020-12-21T09:30:21.926016Z"
    }
   },
   "outputs": [
    {
     "name": "stdout",
     "output_type": "stream",
     "text": [
      "C:\\Users\\r2d4\\miniconda3\\envs\\py3\\python.exe\n",
      "3.8.3 (default, May 19 2020, 06:50:17) [MSC v.1916 64 bit (AMD64)]\n",
      "Pandas 1.1.3\n"
     ]
    }
   ],
   "source": [
    "print(sys.executable)\n",
    "print(sys.version)\n",
    "print(f'Pandas {pd.__version__}')"
   ]
  },
  {
   "cell_type": "markdown",
   "metadata": {},
   "source": [
    "## Connect to DB\n",
    "\n",
    "- With sqlite you can connect very lightweight to your DB (see first cell below). \n",
    "- But to be able to use sqlalchemy or ipython-sql you need a 'proper' connection string, see second cell."
   ]
  },
  {
   "cell_type": "code",
   "execution_count": 4,
   "metadata": {
    "ExecuteTime": {
     "end_time": "2020-12-21T09:30:22.104048Z",
     "start_time": "2020-12-21T09:30:22.016015Z"
    }
   },
   "outputs": [
    {
     "data": {
      "text/plain": [
       "(<sqlite3.Connection at 0x24e2d5978a0>, <sqlite3.Cursor at 0x24e2d6b8c00>)"
      ]
     },
     "execution_count": 4,
     "metadata": {},
     "output_type": "execute_result"
    }
   ],
   "source": [
    "# Connect to DiscoBase.db the sqlite way\n",
    "\n",
    "db_path = \"DiscoBase.db\"\n",
    "conn = sqlite3.connect(db_path, isolation_level=None)  # auto commit mode\n",
    "cur = conn.cursor()\n",
    "\n",
    "conn, cur"
   ]
  },
  {
   "cell_type": "code",
   "execution_count": 5,
   "metadata": {
    "ExecuteTime": {
     "end_time": "2020-12-21T09:30:22.230014Z",
     "start_time": "2020-12-21T09:30:22.107015Z"
    }
   },
   "outputs": [
    {
     "data": {
      "text/plain": [
       "'sqlite:///DiscoBase.db'"
      ]
     },
     "execution_count": 5,
     "metadata": {},
     "output_type": "execute_result"
    }
   ],
   "source": [
    "# Create a connection string and engine for sqlalchemy and ipython-sql\n",
    "\n",
    "sqlite_conn_str = f\"sqlite:///{db_path}\"\n",
    "\n",
    "sqlite_conn_str"
   ]
  },
  {
   "cell_type": "code",
   "execution_count": 6,
   "metadata": {
    "ExecuteTime": {
     "end_time": "2020-12-21T09:30:22.334014Z",
     "start_time": "2020-12-21T09:30:22.233015Z"
    }
   },
   "outputs": [
    {
     "data": {
      "text/plain": [
       "Engine(sqlite:///DiscoBase.db)"
      ]
     },
     "execution_count": 6,
     "metadata": {},
     "output_type": "execute_result"
    }
   ],
   "source": [
    "# Connect to sqlalchemy\n",
    "\n",
    "engine = sqlalchemy.create_engine(sqlite_conn_str)\n",
    "\n",
    "engine"
   ]
  },
  {
   "cell_type": "code",
   "execution_count": 7,
   "metadata": {
    "ExecuteTime": {
     "end_time": "2020-12-21T09:30:22.428013Z",
     "start_time": "2020-12-21T09:30:22.336014Z"
    }
   },
   "outputs": [
    {
     "data": {
      "text/plain": [
       "'Connected: @DiscoBase.db'"
      ]
     },
     "execution_count": 7,
     "metadata": {},
     "output_type": "execute_result"
    }
   ],
   "source": [
    "# Connect to ipython-sql\n",
    "\n",
    "%sql $sqlite_conn_str"
   ]
  },
  {
   "cell_type": "markdown",
   "metadata": {
    "ExecuteTime": {
     "end_time": "2020-12-20T06:43:31.973134Z",
     "start_time": "2020-12-20T06:43:31.862364Z"
    }
   },
   "source": [
    "## Query DB\n",
    "\n",
    "I show 5 of the possible ways to query the DB\n",
    "1. using ipython-sql\n",
    "2. using sqlite functionality 'raw'\n",
    "3. using my query_read wrapper\n",
    "4. using pandas with sqlite connection\n",
    "5. using pandas with sqlalchemy engine\n"
   ]
  },
  {
   "cell_type": "code",
   "execution_count": 8,
   "metadata": {
    "ExecuteTime": {
     "end_time": "2020-12-21T09:30:22.518106Z",
     "start_time": "2020-12-21T09:30:22.431014Z"
    }
   },
   "outputs": [],
   "source": [
    "query = (\n",
    "    \"\"\"\n",
    "    SELECT * \n",
    "      FROM albums \n",
    "      WHERE genre = 'Death Metal'\n",
    "      LIMIT 3\n",
    "    ;\"\"\"\n",
    ")"
   ]
  },
  {
   "cell_type": "code",
   "execution_count": 9,
   "metadata": {
    "ExecuteTime": {
     "end_time": "2020-12-21T09:30:22.624017Z",
     "start_time": "2020-12-21T09:30:22.525017Z"
    }
   },
   "outputs": [
    {
     "name": "stdout",
     "output_type": "stream",
     "text": [
      " * sqlite:///DiscoBase.db\n",
      "Done.\n"
     ]
    },
    {
     "data": {
      "text/html": [
       "<table>\n",
       "    <tr>\n",
       "        <th>index</th>\n",
       "        <th>Alive</th>\n",
       "        <th>Artist</th>\n",
       "        <th>Album</th>\n",
       "        <th>Format</th>\n",
       "        <th>Year</th>\n",
       "        <th>Genre</th>\n",
       "        <th>Price</th>\n",
       "        <th>Purchase_Date</th>\n",
       "        <th>Vinyl_Color</th>\n",
       "        <th>Lim_Edition</th>\n",
       "        <th>Number</th>\n",
       "        <th>Label</th>\n",
       "        <th>Digitized</th>\n",
       "        <th>Remarks</th>\n",
       "        <th>Rating</th>\n",
       "    </tr>\n",
       "    <tr>\n",
       "        <td>0</td>\n",
       "        <td>1.0</td>\n",
       "        <td>Dismember</td>\n",
       "        <td>Pieces</td>\n",
       "        <td>12&quot;</td>\n",
       "        <td>1992.0</td>\n",
       "        <td>Death Metal</td>\n",
       "        <td>35.0</td>\n",
       "        <td>1992-01-01 00:00:00</td>\n",
       "        <td>None</td>\n",
       "        <td>None</td>\n",
       "        <td>None</td>\n",
       "        <td>None</td>\n",
       "        <td>Nein</td>\n",
       "        <td>None</td>\n",
       "        <td>None</td>\n",
       "    </tr>\n",
       "    <tr>\n",
       "        <td>1</td>\n",
       "        <td>1.0</td>\n",
       "        <td>Dismember</td>\n",
       "        <td>Skin Her Alive</td>\n",
       "        <td>7&quot; Pic</td>\n",
       "        <td>1991.0</td>\n",
       "        <td>Death Metal</td>\n",
       "        <td>15.0</td>\n",
       "        <td>1992-01-01 00:00:00</td>\n",
       "        <td>None</td>\n",
       "        <td>None</td>\n",
       "        <td>None</td>\n",
       "        <td>None</td>\n",
       "        <td>Nein</td>\n",
       "        <td>None</td>\n",
       "        <td>None</td>\n",
       "    </tr>\n",
       "    <tr>\n",
       "        <td>2</td>\n",
       "        <td>1.0</td>\n",
       "        <td>Dismember</td>\n",
       "        <td>Like An Everflowing Stream</td>\n",
       "        <td>LP</td>\n",
       "        <td>1991.0</td>\n",
       "        <td>Death Metal</td>\n",
       "        <td>155.0</td>\n",
       "        <td>1992-01-01 00:00:00</td>\n",
       "        <td>None</td>\n",
       "        <td>None</td>\n",
       "        <td>None</td>\n",
       "        <td>None</td>\n",
       "        <td>Nein</td>\n",
       "        <td>None</td>\n",
       "        <td>None</td>\n",
       "    </tr>\n",
       "</table>"
      ],
      "text/plain": [
       "[(0, 1.0, 'Dismember', 'Pieces', '12\"', 1992.0, 'Death Metal', 35.0, '1992-01-01 00:00:00', None, None, None, None, 'Nein', None, None),\n",
       " (1, 1.0, 'Dismember', 'Skin Her Alive', '7\" Pic', 1991.0, 'Death Metal', 15.0, '1992-01-01 00:00:00', None, None, None, None, 'Nein', None, None),\n",
       " (2, 1.0, 'Dismember', 'Like An Everflowing Stream', 'LP', 1991.0, 'Death Metal', 155.0, '1992-01-01 00:00:00', None, None, None, None, 'Nein', None, None)]"
      ]
     },
     "execution_count": 9,
     "metadata": {},
     "output_type": "execute_result"
    }
   ],
   "source": [
    "# 1. Read using sqlite connection\n",
    "# Returns a cursor containing the data tuples\n",
    "\n",
    "%sql $query"
   ]
  },
  {
   "cell_type": "code",
   "execution_count": 10,
   "metadata": {
    "ExecuteTime": {
     "end_time": "2020-12-21T09:30:22.736014Z",
     "start_time": "2020-12-21T09:30:22.627017Z"
    }
   },
   "outputs": [
    {
     "name": "stdout",
     "output_type": "stream",
     "text": [
      "(0, 1.0, 'Dismember', 'Pieces', '12\"', 1992.0, 'Death Metal', 35.0, '1992-01-01 00:00:00', None, None, None, None, 'Nein', None, None)\n",
      "(1, 1.0, 'Dismember', 'Skin Her Alive', '7\" Pic', 1991.0, 'Death Metal', 15.0, '1992-01-01 00:00:00', None, None, None, None, 'Nein', None, None)\n",
      "(2, 1.0, 'Dismember', 'Like An Everflowing Stream', 'LP', 1991.0, 'Death Metal', 155.0, '1992-01-01 00:00:00', None, None, None, None, 'Nein', None, None)\n"
     ]
    }
   ],
   "source": [
    "# 2. Read using sqlite connection\n",
    "# Returns a cursor containing the data tuples\n",
    "\n",
    "with conn:\n",
    "    data = conn.execute(query)\n",
    "    for row in data:\n",
    "        print(row)"
   ]
  },
  {
   "cell_type": "code",
   "execution_count": 11,
   "metadata": {
    "ExecuteTime": {
     "end_time": "2020-12-21T09:30:22.830018Z",
     "start_time": "2020-12-21T09:30:22.738016Z"
    }
   },
   "outputs": [
    {
     "name": "stdout",
     "output_type": "stream",
     "text": [
      "[(0, 1.0, 'Dismember', 'Pieces', '12\"', 1992.0, 'Death Metal', 35.0, '1992-01-01 00:00:00', None, None, None, None, 'Nein', None, None), (1, 1.0, 'Dismember', 'Skin Her Alive', '7\" Pic', 1991.0, 'Death Metal', 15.0, '1992-01-01 00:00:00', None, None, None, None, 'Nein', None, None), (2, 1.0, 'Dismember', 'Like An Everflowing Stream', 'LP', 1991.0, 'Death Metal', 155.0, '1992-01-01 00:00:00', None, None, None, None, 'Nein', None, None)]\n"
     ]
    }
   ],
   "source": [
    "# 3. Read using cursor and my utils function\n",
    "# Returns a list of tuples\n",
    "\n",
    "print(sqlite_utils.query_read(query, cur))"
   ]
  },
  {
   "cell_type": "code",
   "execution_count": 12,
   "metadata": {
    "ExecuteTime": {
     "end_time": "2020-12-21T09:30:22.961015Z",
     "start_time": "2020-12-21T09:30:22.834014Z"
    }
   },
   "outputs": [
    {
     "data": {
      "text/html": [
       "<div>\n",
       "<style scoped>\n",
       "    .dataframe tbody tr th:only-of-type {\n",
       "        vertical-align: middle;\n",
       "    }\n",
       "\n",
       "    .dataframe tbody tr th {\n",
       "        vertical-align: top;\n",
       "    }\n",
       "\n",
       "    .dataframe thead th {\n",
       "        text-align: right;\n",
       "    }\n",
       "</style>\n",
       "<table border=\"1\" class=\"dataframe\">\n",
       "  <thead>\n",
       "    <tr style=\"text-align: right;\">\n",
       "      <th></th>\n",
       "      <th>Alive</th>\n",
       "      <th>Artist</th>\n",
       "      <th>Album</th>\n",
       "      <th>Format</th>\n",
       "      <th>Year</th>\n",
       "      <th>Genre</th>\n",
       "      <th>Price</th>\n",
       "      <th>Purchase_Date</th>\n",
       "      <th>Vinyl_Color</th>\n",
       "      <th>Lim_Edition</th>\n",
       "      <th>Number</th>\n",
       "      <th>Label</th>\n",
       "      <th>Digitized</th>\n",
       "      <th>Remarks</th>\n",
       "      <th>Rating</th>\n",
       "    </tr>\n",
       "    <tr>\n",
       "      <th>index</th>\n",
       "      <th></th>\n",
       "      <th></th>\n",
       "      <th></th>\n",
       "      <th></th>\n",
       "      <th></th>\n",
       "      <th></th>\n",
       "      <th></th>\n",
       "      <th></th>\n",
       "      <th></th>\n",
       "      <th></th>\n",
       "      <th></th>\n",
       "      <th></th>\n",
       "      <th></th>\n",
       "      <th></th>\n",
       "      <th></th>\n",
       "    </tr>\n",
       "  </thead>\n",
       "  <tbody>\n",
       "    <tr>\n",
       "      <th>0</th>\n",
       "      <td>1.00</td>\n",
       "      <td>Dismember</td>\n",
       "      <td>Pieces</td>\n",
       "      <td>12\"</td>\n",
       "      <td>1,992.00</td>\n",
       "      <td>Death Metal</td>\n",
       "      <td>35.00</td>\n",
       "      <td>1992-01-01 00:00:00</td>\n",
       "      <td>None</td>\n",
       "      <td>None</td>\n",
       "      <td>None</td>\n",
       "      <td>None</td>\n",
       "      <td>Nein</td>\n",
       "      <td>None</td>\n",
       "      <td>None</td>\n",
       "    </tr>\n",
       "    <tr>\n",
       "      <th>1</th>\n",
       "      <td>1.00</td>\n",
       "      <td>Dismember</td>\n",
       "      <td>Skin Her Alive</td>\n",
       "      <td>7\" Pic</td>\n",
       "      <td>1,991.00</td>\n",
       "      <td>Death Metal</td>\n",
       "      <td>15.00</td>\n",
       "      <td>1992-01-01 00:00:00</td>\n",
       "      <td>None</td>\n",
       "      <td>None</td>\n",
       "      <td>None</td>\n",
       "      <td>None</td>\n",
       "      <td>Nein</td>\n",
       "      <td>None</td>\n",
       "      <td>None</td>\n",
       "    </tr>\n",
       "    <tr>\n",
       "      <th>2</th>\n",
       "      <td>1.00</td>\n",
       "      <td>Dismember</td>\n",
       "      <td>Like An Everflowing Stream</td>\n",
       "      <td>LP</td>\n",
       "      <td>1,991.00</td>\n",
       "      <td>Death Metal</td>\n",
       "      <td>155.00</td>\n",
       "      <td>1992-01-01 00:00:00</td>\n",
       "      <td>None</td>\n",
       "      <td>None</td>\n",
       "      <td>None</td>\n",
       "      <td>None</td>\n",
       "      <td>Nein</td>\n",
       "      <td>None</td>\n",
       "      <td>None</td>\n",
       "    </tr>\n",
       "  </tbody>\n",
       "</table>\n",
       "</div>"
      ],
      "text/plain": [
       "       Alive     Artist                       Album  Format     Year        Genre  Price        Purchase_Date Vinyl_Color Lim_Edition Number Label Digitized Remarks Rating\n",
       "index                                                                                                                                                                      \n",
       "0       1.00  Dismember                      Pieces     12\" 1,992.00  Death Metal  35.00  1992-01-01 00:00:00        None        None   None  None      Nein    None   None\n",
       "1       1.00  Dismember              Skin Her Alive  7\" Pic 1,991.00  Death Metal  15.00  1992-01-01 00:00:00        None        None   None  None      Nein    None   None\n",
       "2       1.00  Dismember  Like An Everflowing Stream      LP 1,991.00  Death Metal 155.00  1992-01-01 00:00:00        None        None   None  None      Nein    None   None"
      ]
     },
     "execution_count": 12,
     "metadata": {},
     "output_type": "execute_result"
    }
   ],
   "source": [
    "# 4. Read with pandas, using sqlite connection\n",
    "# Returns a dataframe\n",
    "\n",
    "pd.read_sql(query, conn, index_col=\"index\")"
   ]
  },
  {
   "cell_type": "code",
   "execution_count": 13,
   "metadata": {
    "ExecuteTime": {
     "end_time": "2020-12-21T09:30:23.072013Z",
     "start_time": "2020-12-21T09:30:22.965033Z"
    }
   },
   "outputs": [
    {
     "data": {
      "text/html": [
       "<div>\n",
       "<style scoped>\n",
       "    .dataframe tbody tr th:only-of-type {\n",
       "        vertical-align: middle;\n",
       "    }\n",
       "\n",
       "    .dataframe tbody tr th {\n",
       "        vertical-align: top;\n",
       "    }\n",
       "\n",
       "    .dataframe thead th {\n",
       "        text-align: right;\n",
       "    }\n",
       "</style>\n",
       "<table border=\"1\" class=\"dataframe\">\n",
       "  <thead>\n",
       "    <tr style=\"text-align: right;\">\n",
       "      <th></th>\n",
       "      <th>Alive</th>\n",
       "      <th>Artist</th>\n",
       "      <th>Album</th>\n",
       "      <th>Format</th>\n",
       "      <th>Year</th>\n",
       "      <th>Genre</th>\n",
       "      <th>Price</th>\n",
       "      <th>Purchase_Date</th>\n",
       "      <th>Vinyl_Color</th>\n",
       "      <th>Lim_Edition</th>\n",
       "      <th>Number</th>\n",
       "      <th>Label</th>\n",
       "      <th>Digitized</th>\n",
       "      <th>Remarks</th>\n",
       "      <th>Rating</th>\n",
       "    </tr>\n",
       "    <tr>\n",
       "      <th>index</th>\n",
       "      <th></th>\n",
       "      <th></th>\n",
       "      <th></th>\n",
       "      <th></th>\n",
       "      <th></th>\n",
       "      <th></th>\n",
       "      <th></th>\n",
       "      <th></th>\n",
       "      <th></th>\n",
       "      <th></th>\n",
       "      <th></th>\n",
       "      <th></th>\n",
       "      <th></th>\n",
       "      <th></th>\n",
       "      <th></th>\n",
       "    </tr>\n",
       "  </thead>\n",
       "  <tbody>\n",
       "    <tr>\n",
       "      <th>0</th>\n",
       "      <td>1.00</td>\n",
       "      <td>Dismember</td>\n",
       "      <td>Pieces</td>\n",
       "      <td>12\"</td>\n",
       "      <td>1,992.00</td>\n",
       "      <td>Death Metal</td>\n",
       "      <td>35.00</td>\n",
       "      <td>1992-01-01 00:00:00</td>\n",
       "      <td>None</td>\n",
       "      <td>None</td>\n",
       "      <td>None</td>\n",
       "      <td>None</td>\n",
       "      <td>Nein</td>\n",
       "      <td>None</td>\n",
       "      <td>None</td>\n",
       "    </tr>\n",
       "    <tr>\n",
       "      <th>1</th>\n",
       "      <td>1.00</td>\n",
       "      <td>Dismember</td>\n",
       "      <td>Skin Her Alive</td>\n",
       "      <td>7\" Pic</td>\n",
       "      <td>1,991.00</td>\n",
       "      <td>Death Metal</td>\n",
       "      <td>15.00</td>\n",
       "      <td>1992-01-01 00:00:00</td>\n",
       "      <td>None</td>\n",
       "      <td>None</td>\n",
       "      <td>None</td>\n",
       "      <td>None</td>\n",
       "      <td>Nein</td>\n",
       "      <td>None</td>\n",
       "      <td>None</td>\n",
       "    </tr>\n",
       "    <tr>\n",
       "      <th>2</th>\n",
       "      <td>1.00</td>\n",
       "      <td>Dismember</td>\n",
       "      <td>Like An Everflowing Stream</td>\n",
       "      <td>LP</td>\n",
       "      <td>1,991.00</td>\n",
       "      <td>Death Metal</td>\n",
       "      <td>155.00</td>\n",
       "      <td>1992-01-01 00:00:00</td>\n",
       "      <td>None</td>\n",
       "      <td>None</td>\n",
       "      <td>None</td>\n",
       "      <td>None</td>\n",
       "      <td>Nein</td>\n",
       "      <td>None</td>\n",
       "      <td>None</td>\n",
       "    </tr>\n",
       "  </tbody>\n",
       "</table>\n",
       "</div>"
      ],
      "text/plain": [
       "       Alive     Artist                       Album  Format     Year        Genre  Price        Purchase_Date Vinyl_Color Lim_Edition Number Label Digitized Remarks Rating\n",
       "index                                                                                                                                                                      \n",
       "0       1.00  Dismember                      Pieces     12\" 1,992.00  Death Metal  35.00  1992-01-01 00:00:00        None        None   None  None      Nein    None   None\n",
       "1       1.00  Dismember              Skin Her Alive  7\" Pic 1,991.00  Death Metal  15.00  1992-01-01 00:00:00        None        None   None  None      Nein    None   None\n",
       "2       1.00  Dismember  Like An Everflowing Stream      LP 1,991.00  Death Metal 155.00  1992-01-01 00:00:00        None        None   None  None      Nein    None   None"
      ]
     },
     "execution_count": 13,
     "metadata": {},
     "output_type": "execute_result"
    }
   ],
   "source": [
    "# 5. Read with pandas, using sqlalchemy engine\n",
    "# Returns a dataframe\n",
    "\n",
    "pd.read_sql(query, conn, index_col=\"index\")"
   ]
  },
  {
   "cell_type": "code",
   "execution_count": 14,
   "metadata": {
    "ExecuteTime": {
     "end_time": "2020-12-21T12:20:32.153006Z",
     "start_time": "2020-12-21T12:20:31.933229Z"
    }
   },
   "outputs": [
    {
     "name": "stdout",
     "output_type": "stream",
     "text": [
      " * sqlite:///DiscoBase.db\n",
      "Done.\n"
     ]
    },
    {
     "data": {
      "text/html": [
       "<table>\n",
       "    <tr>\n",
       "        <th>index</th>\n",
       "        <th>Alive</th>\n",
       "        <th>Artist</th>\n",
       "        <th>Album</th>\n",
       "        <th>Format</th>\n",
       "        <th>Year</th>\n",
       "        <th>Genre</th>\n",
       "        <th>Price</th>\n",
       "        <th>Purchase_Date</th>\n",
       "        <th>Vinyl_Color</th>\n",
       "        <th>Lim_Edition</th>\n",
       "        <th>Number</th>\n",
       "        <th>Label</th>\n",
       "        <th>Digitized</th>\n",
       "        <th>Remarks</th>\n",
       "        <th>Rating</th>\n",
       "    </tr>\n",
       "    <tr>\n",
       "        <td>291</td>\n",
       "        <td>1.0</td>\n",
       "        <td>Organic</td>\n",
       "        <td>Carved In Flesh</td>\n",
       "        <td>LP</td>\n",
       "        <td>2018.0</td>\n",
       "        <td>Hardcore</td>\n",
       "        <td>20.0</td>\n",
       "        <td>2020-11-01 00:00:00</td>\n",
       "        <td>None</td>\n",
       "        <td>None</td>\n",
       "        <td>None</td>\n",
       "        <td>Testimony Records</td>\n",
       "        <td>Nein</td>\n",
       "        <td>None</td>\n",
       "        <td>None</td>\n",
       "    </tr>\n",
       "</table>"
      ],
      "text/plain": [
       "[(291, 1.0, 'Organic', 'Carved In Flesh', 'LP', 2018.0, 'Hardcore', 20.0, '2020-11-01 00:00:00', None, None, None, 'Testimony Records', 'Nein', None, None)]"
      ]
     },
     "execution_count": 14,
     "metadata": {},
     "output_type": "execute_result"
    }
   ],
   "source": [
    "%sql SELECT * FROM albums WHERE artist = \"Organic\""
   ]
  },
  {
   "cell_type": "code",
   "execution_count": null,
   "metadata": {},
   "outputs": [],
   "source": []
  }
 ],
 "metadata": {
  "hide_input": false,
  "kernelspec": {
   "display_name": "Python 3",
   "language": "python",
   "name": "python3"
  },
  "language_info": {
   "codemirror_mode": {
    "name": "ipython",
    "version": 3
   },
   "file_extension": ".py",
   "mimetype": "text/x-python",
   "name": "python",
   "nbconvert_exporter": "python",
   "pygments_lexer": "ipython3",
   "version": "3.8.3"
  },
  "toc": {
   "base_numbering": 1,
   "nav_menu": {},
   "number_sections": true,
   "sideBar": false,
   "skip_h1_title": true,
   "title_cell": "Table of Contents",
   "title_sidebar": "Contents",
   "toc_cell": false,
   "toc_position": {},
   "toc_section_display": true,
   "toc_window_display": false
  }
 },
 "nbformat": 4,
 "nbformat_minor": 4
}
